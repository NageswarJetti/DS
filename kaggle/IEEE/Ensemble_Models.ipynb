{
 "cells": [
  {
   "cell_type": "code",
   "execution_count": null,
   "metadata": {},
   "outputs": [],
   "source": [
    "# Load required libraries\n",
    "import numpy as np\n",
    "import pandas as pd"
   ]
  },
  {
   "cell_type": "code",
   "execution_count": null,
   "metadata": {},
   "outputs": [],
   "source": [
    "xgb_submission = pd.read_csv('xgb_submission.csv')\n",
    "lgb_submission = pd.read_csv('lgb_train_submission.csv')\n",
    "cat_submission = pd.read_csv('cat_submission.csv')"
   ]
  },
  {
   "cell_type": "code",
   "execution_count": null,
   "metadata": {},
   "outputs": [],
   "source": [
    "print(xgb_submission.shape)\n",
    "print(lgb_submission.shape)\n",
    "print(cat_submission.shape)"
   ]
  },
  {
   "cell_type": "code",
   "execution_count": null,
   "metadata": {},
   "outputs": [],
   "source": [
    "lgb_submission.head()"
   ]
  },
  {
   "cell_type": "code",
   "execution_count": null,
   "metadata": {},
   "outputs": [],
   "source": [
    "xgb_submission.head()"
   ]
  },
  {
   "cell_type": "code",
   "execution_count": null,
   "metadata": {},
   "outputs": [],
   "source": [
    "cat_submission.head()"
   ]
  },
  {
   "cell_type": "markdown",
   "metadata": {},
   "source": [
    "# XGB & LGB combination"
   ]
  },
  {
   "cell_type": "code",
   "execution_count": null,
   "metadata": {},
   "outputs": [],
   "source": [
    "merged_df = pd.merge(xgb_submission, lgb_submission, how='inner', on='TransactionID') # Used left as Indentity may not exist for all transactions\n",
    "merged_df['isFraud'] = merged_df[[\"isFraud_x\", \"isFraud_y\"]].max(axis=1)\n",
    "merged_df.to_csv(\"ensembple_xgb_lgb_submission.csv\", columns=['TransactionID','isFraud'], index=False)"
   ]
  },
  {
   "cell_type": "code",
   "execution_count": null,
   "metadata": {},
   "outputs": [],
   "source": [
    "merged_df.shape"
   ]
  },
  {
   "cell_type": "markdown",
   "metadata": {},
   "source": [
    "# XGB & Cat combination"
   ]
  },
  {
   "cell_type": "code",
   "execution_count": null,
   "metadata": {},
   "outputs": [],
   "source": [
    "merged_df = pd.merge(xgb_submission, cat_submission, how='inner', on='TransactionID') # Used left as Indentity may not exist for all transactions\n",
    "merged_df['isFraud'] = merged_df[[\"isFraud_x\", \"isFraud_y\"]].max(axis=1)\n",
    "merged_df.to_csv(\"ensembple_xgb_cat_submission.csv\", columns=['TransactionID','isFraud'], index=False)"
   ]
  },
  {
   "cell_type": "code",
   "execution_count": null,
   "metadata": {},
   "outputs": [],
   "source": [
    "merged_df.shape"
   ]
  },
  {
   "cell_type": "markdown",
   "metadata": {},
   "source": [
    "# LGB & Cat combination"
   ]
  },
  {
   "cell_type": "code",
   "execution_count": null,
   "metadata": {},
   "outputs": [],
   "source": [
    "merged_df = pd.merge(lgb_submission, cat_submission, how='inner', on='TransactionID') # Used left as Indentity may not exist for all transactions\n",
    "merged_df['isFraud'] = merged_df[[\"isFraud_x\", \"isFraud_y\"]].max(axis=1)\n",
    "merged_df.to_csv(\"ensembple_lgb_cat_submission.csv\", columns=['TransactionID','isFraud'], index=False)"
   ]
  },
  {
   "cell_type": "code",
   "execution_count": null,
   "metadata": {},
   "outputs": [],
   "source": [
    "merged_df.shape"
   ]
  },
  {
   "cell_type": "markdown",
   "metadata": {},
   "source": [
    "# All three"
   ]
  },
  {
   "cell_type": "code",
   "execution_count": null,
   "metadata": {},
   "outputs": [],
   "source": [
    "merged_df = pd.merge(lgb_submission, cat_submission, how='inner', on='TransactionID') # Used left as Indentity may not exist for all transactions\n",
    "merged_df = pd.merge(merged_df, xgb_submission, how='inner', on='TransactionID') # Used left as Indentity may not exist for all transactions\n",
    "merged_df['isFraud_z'] = merged_df['isFraud']\n",
    "merged_df['isFraud'] = merged_df[['isFraud_x', 'isFraud_y', 'isFraud_z']].max(axis=1)\n",
    "merged_df.to_csv(\"ensembple_all3max_xgb_lgb_cat_submission.csv\", columns=['TransactionID','isFraud'], index=False)"
   ]
  },
  {
   "cell_type": "code",
   "execution_count": null,
   "metadata": {},
   "outputs": [],
   "source": [
    "merged_df = merged_df.rename(columns={'isFraud_x': 'isFraud_lgb', 'isFraud_y': 'isFraud_cat', 'isFraud_z': 'isFraud_xgb'})"
   ]
  },
  {
   "cell_type": "code",
   "execution_count": null,
   "metadata": {},
   "outputs": [],
   "source": [
    "merged_df.head()"
   ]
  },
  {
   "cell_type": "markdown",
   "metadata": {},
   "source": [
    "# Some EDA"
   ]
  },
  {
   "cell_type": "code",
   "execution_count": null,
   "metadata": {},
   "outputs": [],
   "source": [
    "from KUtils.eda import chartil"
   ]
  },
  {
   "cell_type": "code",
   "execution_count": null,
   "metadata": {},
   "outputs": [],
   "source": [
    "chartil.plot(merged_df, ['isFraud_xgb', 'isFraud_lgb'])"
   ]
  },
  {
   "cell_type": "code",
   "execution_count": null,
   "metadata": {},
   "outputs": [],
   "source": [
    "chartil.plot(merged_df, ['isFraud_xgb', 'isFraud_cat'])"
   ]
  },
  {
   "cell_type": "code",
   "execution_count": null,
   "metadata": {},
   "outputs": [],
   "source": [
    "chartil.plot(merged_df, ['isFraud_lgb', 'isFraud_cat'])"
   ]
  },
  {
   "cell_type": "code",
   "execution_count": null,
   "metadata": {},
   "outputs": [],
   "source": [
    "chartil.plot(merged_df, ['isFraud_xgb', 'isFraud_lgb', 'isFraud_cat'])"
   ]
  },
  {
   "cell_type": "code",
   "execution_count": null,
   "metadata": {},
   "outputs": [],
   "source": []
  },
  {
   "cell_type": "markdown",
   "metadata": {},
   "source": [
    "# LGB & Cat combination (mean)"
   ]
  },
  {
   "cell_type": "code",
   "execution_count": null,
   "metadata": {},
   "outputs": [],
   "source": [
    "merged_df = pd.merge(lgb_submission, cat_submission, how='inner', on='TransactionID')\n",
    "merged_df['isFraud'] = merged_df[[\"isFraud_x\", \"isFraud_y\"]].mean(axis=1)\n",
    "merged_df.to_csv(\"ensembple_mean_lgb_cat_submission.csv\", columns=['TransactionID','isFraud'], index=False)"
   ]
  },
  {
   "cell_type": "code",
   "execution_count": null,
   "metadata": {},
   "outputs": [],
   "source": [
    "merged_df.shape"
   ]
  },
  {
   "cell_type": "markdown",
   "metadata": {},
   "source": [
    "# 5LGB + 1Cat"
   ]
  },
  {
   "cell_type": "code",
   "execution_count": null,
   "metadata": {},
   "outputs": [],
   "source": [
    "merged_df = pd.merge(lgb_submission, cat_submission, how='inner', on='TransactionID')\n",
    "merged_df['isFraud'] = (merged_df[\"isFraud_x\"]*5.0 + merged_df[\"isFraud_y\"])/6\n",
    "merged_df.to_csv(\"ensembple_5lgb_1cat_submission.csv\", columns=['TransactionID','isFraud'], index=False)"
   ]
  },
  {
   "cell_type": "code",
   "execution_count": null,
   "metadata": {},
   "outputs": [],
   "source": [
    "merged_df.head()"
   ]
  },
  {
   "cell_type": "code",
   "execution_count": null,
   "metadata": {},
   "outputs": [],
   "source": [
    "merged_df = pd.merge(lgb_submission, cat_submission, how='inner', on='TransactionID')\n",
    "merged_df['isFraud'] = (merged_df[\"isFraud_x\"] + merged_df[\"isFraud_y\"]*5.0)/6\n",
    "merged_df.to_csv(\"ensembple_1lgb_5cat_submission.csv\", columns=['TransactionID','isFraud'], index=False)"
   ]
  },
  {
   "cell_type": "markdown",
   "metadata": {},
   "source": [
    "# 5Lgb 2Cat 1Xgb "
   ]
  },
  {
   "cell_type": "code",
   "execution_count": null,
   "metadata": {},
   "outputs": [],
   "source": [
    "merged_df = pd.merge(lgb_submission, cat_submission, how='inner', on='TransactionID')\n",
    "merged_df = pd.merge(merged_df, xgb_submission, how='inner', on='TransactionID')\n",
    "\n",
    "merged_df['isFraud'] = (merged_df[\"isFraud_x\"]*7.0 + merged_df[\"isFraud_y\"]*3.0+merged_df[\"isFraud\"]*2)/12\n",
    "merged_df.to_csv(\"ensembple_7lgb_3cat_2xgb_submission.csv\", columns=['TransactionID','isFraud'], index=False)"
   ]
  },
  {
   "cell_type": "code",
   "execution_count": null,
   "metadata": {},
   "outputs": [],
   "source": [
    "merged_df.head()"
   ]
  },
  {
   "cell_type": "code",
   "execution_count": null,
   "metadata": {},
   "outputs": [],
   "source": []
  },
  {
   "cell_type": "code",
   "execution_count": null,
   "metadata": {},
   "outputs": [],
   "source": []
  },
  {
   "cell_type": "markdown",
   "metadata": {},
   "source": [
    "# Some extra exercise\n",
    "- Inner LGB + Outer Cat\n",
    "- Outer LGB + Inner Cat"
   ]
  },
  {
   "cell_type": "code",
   "execution_count": null,
   "metadata": {},
   "outputs": [],
   "source": [
    "test_inner_df = pd.read_csv('test_inner_df.csv')\n",
    "test_outer_df = pd.read_csv('test_outer_df.csv')"
   ]
  },
  {
   "cell_type": "code",
   "execution_count": null,
   "metadata": {},
   "outputs": [],
   "source": [
    "test_inner_df.head()\n"
   ]
  },
  {
   "cell_type": "code",
   "execution_count": null,
   "metadata": {},
   "outputs": [],
   "source": [
    "inner_submission_df = pd.merge(test_inner_df, lgb_submission, how='inner', on='TransactionID') \n",
    "outer_submission_df = pd.merge(test_outer_df, cat_submission, how='inner', on='TransactionID') \n",
    "\n",
    "inner_submission_df = inner_submission_df[['TransactionID', 'isFraud']]\n",
    "outer_submission_df = outer_submission_df[['TransactionID', 'isFraud']]\n",
    "\n",
    "submission_csv = pd.concat([inner_submission_df, outer_submission_df])\n",
    "submission_csv.to_csv(\"inner_lgb_outer_cat.csv\", columns=['TransactionID','isFraud'], index=False)"
   ]
  },
  {
   "cell_type": "code",
   "execution_count": null,
   "metadata": {},
   "outputs": [],
   "source": [
    "inner_submission_df = pd.merge(test_inner_df, cat_submission, how='inner', on='TransactionID') \n",
    "outer_submission_df = pd.merge(test_outer_df, lgb_submission, how='inner', on='TransactionID') \n",
    "\n",
    "inner_submission_df = inner_submission_df[['TransactionID', 'isFraud']]\n",
    "outer_submission_df = outer_submission_df[['TransactionID', 'isFraud']]\n",
    "\n",
    "submission_csv = pd.concat([inner_submission_df, outer_submission_df])\n",
    "submission_csv.to_csv(\"inner_cat_outer_lgb.csv\", columns=['TransactionID','isFraud'], index=False)"
   ]
  },
  {
   "cell_type": "code",
   "execution_count": null,
   "metadata": {},
   "outputs": [],
   "source": []
  },
  {
   "cell_type": "code",
   "execution_count": null,
   "metadata": {},
   "outputs": [],
   "source": [
    "inner_submission_df.head()"
   ]
  },
  {
   "cell_type": "code",
   "execution_count": null,
   "metadata": {},
   "outputs": [],
   "source": []
  },
  {
   "cell_type": "code",
   "execution_count": null,
   "metadata": {},
   "outputs": [],
   "source": []
  },
  {
   "cell_type": "code",
   "execution_count": null,
   "metadata": {},
   "outputs": [],
   "source": [
    "submission_csv.shape"
   ]
  },
  {
   "cell_type": "code",
   "execution_count": null,
   "metadata": {},
   "outputs": [],
   "source": []
  }
 ],
 "metadata": {
  "kernelspec": {
   "display_name": "Python 3",
   "language": "python",
   "name": "python3"
  },
  "language_info": {
   "codemirror_mode": {
    "name": "ipython",
    "version": 3
   },
   "file_extension": ".py",
   "mimetype": "text/x-python",
   "name": "python",
   "nbconvert_exporter": "python",
   "pygments_lexer": "ipython3",
   "version": "3.7.1"
  }
 },
 "nbformat": 4,
 "nbformat_minor": 2
}
