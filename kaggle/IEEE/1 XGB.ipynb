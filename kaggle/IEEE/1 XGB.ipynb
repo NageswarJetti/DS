{
 "cells": [
  {
   "cell_type": "code",
   "execution_count": null,
   "metadata": {},
   "outputs": [],
   "source": [
    "# Load required libraries\n",
    "import numpy as np\n",
    "import pandas as pd\n",
    "\n",
    "# Custom utils from kesh-utils (Check source code: https://github.com/KeshavShetty/kesh-utils)\n",
    "from KUtils.common import utils\n",
    "from KUtils.eda import chartil\n",
    "from KUtils.eda import data_preparation as dp\n",
    "from KUtils.classifier import generic_classifier_utils as gcu\n",
    "\n",
    "from sklearn import metrics\n",
    "from sklearn.metrics import classification_report, confusion_matrix, accuracy_score, make_scorer, recall_score, precision_score\n"
   ]
  },
  {
   "cell_type": "code",
   "execution_count": null,
   "metadata": {},
   "outputs": [],
   "source": [
    "# Show all column in head()\n",
    "pd.set_option('display.max_columns', None)"
   ]
  },
  {
   "cell_type": "code",
   "execution_count": null,
   "metadata": {},
   "outputs": [],
   "source": [
    "import warnings\n",
    "warnings.filterwarnings(action='ignore', category=DeprecationWarning)"
   ]
  },
  {
   "cell_type": "code",
   "execution_count": null,
   "metadata": {},
   "outputs": [],
   "source": [
    "# Data generated from ../Sampleing.ipyb\n",
    "train_df = pd.read_csv('wns_train_df.csv')\n",
    "\n",
    "test_df = pd.read_csv('wns_test_df.csv')\n"
   ]
  },
  {
   "cell_type": "code",
   "execution_count": null,
   "metadata": {},
   "outputs": [],
   "source": [
    "print(train_df.shape)\n",
    "   \n",
    "print(test_df.shape)\n"
   ]
  },
  {
   "cell_type": "code",
   "execution_count": null,
   "metadata": {},
   "outputs": [],
   "source": [
    "train_df.head()"
   ]
  },
  {
   "cell_type": "code",
   "execution_count": null,
   "metadata": {},
   "outputs": [],
   "source": [
    "test_df.head()"
   ]
  },
  {
   "cell_type": "markdown",
   "metadata": {},
   "source": [
    "# 1. Model 1 on inner (With Bayesian Optimization)"
   ]
  },
  {
   "cell_type": "code",
   "execution_count": null,
   "metadata": {},
   "outputs": [],
   "source": [
    "train_df = train_df\n",
    "# Putting feature variable to X\n",
    "X = train_df.drop(['impression_id', 'is_click'],axis=1)\n",
    "\n",
    "# Putting response variable to y\n",
    "y = train_df['is_click']\n",
    "\n",
    "X_train = X\n",
    "y_train = y\n",
    "\n",
    "X_test = X\n",
    "y_test = y"
   ]
  },
  {
   "cell_type": "code",
   "execution_count": null,
   "metadata": {},
   "outputs": [],
   "source": [
    "import xgboost as xgb\n",
    "\n",
    "dtrain = xgb.DMatrix(X_train, label=y_train)\n",
    "\n",
    "from bayes_opt import BayesianOptimization\n",
    "\n",
    "def bo_tune_xgb(max_depth, gamma, n_estimators ,learning_rate, subsample, colsample_bytree):\n",
    "    params = {'max_depth': int(max_depth),\n",
    "        'gamma': gamma,\n",
    "        'n_estimators': int(n_estimators),\n",
    "        'learning_rate':learning_rate,\n",
    "        'subsample': subsample,\n",
    "        'colsample_bytree': colsample_bytree,\n",
    "        'tree_method': 'gpu_hist',\n",
    "        'eval_metric': 'rmse'}\n",
    "    #Cross validating with the specified parameters in 5 folds and 70 iterations\n",
    "    cv_result = xgb.cv(params, dtrain, num_boost_round=70, nfold=5)\n",
    "    #Return the negative RMSE\n",
    "    return -1.0*cv_result['test-rmse-mean'].iloc[-1]\n",
    "\n",
    "xgb_bo = BayesianOptimization(bo_tune_xgb, {\n",
    "    'max_depth': (15,20),\n",
    "    'gamma': (0, 1),\n",
    "    'learning_rate':(0, 1),\n",
    "    'n_estimators':(450, 500),\n",
    "    'subsample': (0,1),\n",
    "    'colsample_bytree': (0,1)                                            \n",
    "})\n",
    "xgb_bo.maximize(n_iter=7, init_points=8)"
   ]
  },
  {
   "cell_type": "code",
   "execution_count": null,
   "metadata": {},
   "outputs": [],
   "source": [
    "#Extracting the best parameters\n",
    "params = xgb_bo.max['params']\n",
    "print(params)\n",
    "\n",
    "#Converting the max_depth and n_estimator values from float to int\n",
    "params['max_depth']= int(params['max_depth'])\n",
    "params['n_estimators']= int(params['n_estimators'])\n",
    "params['tree_method']= 'gpu_hist'\n",
    "print(params)\n",
    "\n",
    "#Initialize an XGBClassifier with the tuned parameters and fit the training data\n",
    "from xgboost import XGBClassifier\n",
    "final_clf = XGBClassifier(**params).fit(X_train, y_train)\n",
    "\n",
    "#predicting for training set\n",
    "y_pred_default = final_clf.predict(X_test)"
   ]
  },
  {
   "cell_type": "code",
   "execution_count": null,
   "metadata": {},
   "outputs": [],
   "source": [
    "inner_model = final_clf"
   ]
  },
  {
   "cell_type": "code",
   "execution_count": null,
   "metadata": {},
   "outputs": [],
   "source": [
    "# Printing classification report\n",
    "print(classification_report(y_test, y_pred_default))\n",
    "\n",
    "local_confusion_matrix = metrics.confusion_matrix(y_test, y_pred_default )\n",
    "\n",
    "# Printing confusion matrix and accuracy\n",
    "print('Confusion Matrix:')\n",
    "print(local_confusion_matrix)\n",
    "\n",
    "# Accuracy, precision, recall and f1 score\n",
    "print('\\nScores:')\n",
    "accuracy = metrics.accuracy_score(y_test, y_pred_default)\n",
    "precision = metrics.precision_score(y_test, y_pred_default)\n",
    "recall = metrics.recall_score(y_test, y_pred_default)\n",
    "f1_score = metrics.f1_score(y_test, y_pred_default)\n",
    "roc_auc = metrics.roc_auc_score(y_test, y_pred_default)\n",
    "sensitivity = recall\n",
    "specificity =  local_confusion_matrix[0,0]/(local_confusion_matrix[0,0]+local_confusion_matrix[0,1])\n",
    "print(\" Accuracy {0:.3f}, \\n Sensitivity {1:.3f}, \\n Specificity {2:.3f}, \\n Precision {3:.3f}, \\n Recall {4:.3f}, \\n f1_score {5:.3f}, \\n roc_auc {6:.3f}\".format(\n",
    "    accuracy, sensitivity,specificity, precision,recall,f1_score,roc_auc))"
   ]
  },
  {
   "cell_type": "code",
   "execution_count": null,
   "metadata": {
    "scrolled": true
   },
   "outputs": [],
   "source": [
    "# Feature importance\n",
    "importances = final_clf.feature_importances_\n",
    "unique_dict = dict(zip(X_train.columns, importances))\n",
    "chartil.core_barchart_from_series(\n",
    "    pd.Series(unique_dict), \n",
    "    optional_settings={'sort_by_value':True, 'decimal_precision':2}) "
   ]
  },
  {
   "cell_type": "code",
   "execution_count": null,
   "metadata": {},
   "outputs": [],
   "source": [
    "print(inner_model)\n"
   ]
  },
  {
   "cell_type": "markdown",
   "metadata": {},
   "source": [
    "# Apply final model on test "
   ]
  },
  {
   "cell_type": "code",
   "execution_count": null,
   "metadata": {},
   "outputs": [],
   "source": [
    "test_df.head()"
   ]
  },
  {
   "cell_type": "code",
   "execution_count": null,
   "metadata": {},
   "outputs": [],
   "source": [
    "ext_pred_proba = inner_model.predict_proba(test_df.drop(['impression_id'], axis=1))"
   ]
  },
  {
   "cell_type": "code",
   "execution_count": null,
   "metadata": {},
   "outputs": [],
   "source": [
    "test_df['is_click'] = ext_pred_proba[:,1]\n"
   ]
  },
  {
   "cell_type": "code",
   "execution_count": null,
   "metadata": {},
   "outputs": [],
   "source": [
    "inner_tst = test_df.loc[:,['impression_id', 'is_click' ]]"
   ]
  },
  {
   "cell_type": "code",
   "execution_count": null,
   "metadata": {},
   "outputs": [],
   "source": [
    "inner_tst.head()"
   ]
  },
  {
   "cell_type": "code",
   "execution_count": null,
   "metadata": {},
   "outputs": [],
   "source": [
    "submission_csv = inner_tst"
   ]
  },
  {
   "cell_type": "code",
   "execution_count": null,
   "metadata": {},
   "outputs": [],
   "source": [
    "submission_csv.shape"
   ]
  },
  {
   "cell_type": "code",
   "execution_count": null,
   "metadata": {},
   "outputs": [],
   "source": [
    "submission_csv.to_csv(\"WNS_inn_out_xgb_submission.csv\", index=False)\n"
   ]
  },
  {
   "cell_type": "code",
   "execution_count": null,
   "metadata": {},
   "outputs": [],
   "source": []
  }
 ],
 "metadata": {
  "kernelspec": {
   "display_name": "Python 3",
   "language": "python",
   "name": "python3"
  },
  "language_info": {
   "codemirror_mode": {
    "name": "ipython",
    "version": 3
   },
   "file_extension": ".py",
   "mimetype": "text/x-python",
   "name": "python",
   "nbconvert_exporter": "python",
   "pygments_lexer": "ipython3",
   "version": "3.7.1"
  }
 },
 "nbformat": 4,
 "nbformat_minor": 2
}
