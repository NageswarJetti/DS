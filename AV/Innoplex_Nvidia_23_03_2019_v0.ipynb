{
  "nbformat": 4,
  "nbformat_minor": 0,
  "metadata": {
    "colab": {
      "name": "Innoplex_Nvidia_23_03_2019.ipynb",
      "version": "0.3.2",
      "provenance": [],
      "toc_visible": true,
      "include_colab_link": true
    },
    "kernelspec": {
      "name": "python3",
      "display_name": "Python 3"
    },
    "accelerator": "TPU"
  },
  "cells": [
    {
      "cell_type": "markdown",
      "metadata": {
        "id": "view-in-github",
        "colab_type": "text"
      },
      "source": [
        "<a href=\"https://colab.research.google.com/github/shravankoninti/AV/blob/master/Innoplex_Nvidia_23_03_2019_v0.ipynb\" target=\"_parent\"><img src=\"https://colab.research.google.com/assets/colab-badge.svg\" alt=\"Open In Colab\"/></a>"
      ]
    },
    {
      "metadata": {
        "id": "aaJWJ5huuvno",
        "colab_type": "code",
        "colab": {}
      },
      "cell_type": "code",
      "source": [
        "# # memory footprint support libraries/code\n",
        "# !ln -sf /opt/bin/nvidia-smi /usr/bin/nvidia-smi\n",
        "# !pip install gputil\n",
        "# !pip install psutil\n",
        "# !pip install humanize\n",
        "# import psutil\n",
        "# import humanize\n",
        "# import os\n",
        "# import GPUtil as GPU\n",
        "# GPUs = GPU.getGPUs()\n",
        "# # XXX: only one GPU on Colab and isn’t guaranteed\n",
        "# gpu = GPUs[0]\n",
        "# def printm():\n",
        "#   process = psutil.Process(os.getpid())\n",
        "#   print(\"Gen RAM Free: \" + humanize.naturalsize( psutil.virtual_memory().available ), \" | Proc size: \" + humanize.naturalsize( process.memory_info().rss))\n",
        "#   print(\"GPU RAM Free: {0:.0f}MB | Used: {1:.0f}MB | Util {2:3.0f}% | Total {3:.0f}MB\".format(gpu.memoryFree, gpu.memoryUsed, gpu.memoryUtil*100, gpu.memoryTotal))\n",
        "# printm() "
      ],
      "execution_count": 0,
      "outputs": []
    },
    {
      "metadata": {
        "id": "apryLaU00fiR",
        "colab_type": "code",
        "colab": {}
      },
      "cell_type": "code",
      "source": [
        "RANDOM_STATE = 17"
      ],
      "execution_count": 0,
      "outputs": []
    },
    {
      "metadata": {
        "id": "WGvxbQGr0hKB",
        "colab_type": "code",
        "colab": {}
      },
      "cell_type": "code",
      "source": [
        "import pandas as pd\n",
        "import numpy as np\n",
        "from sklearn.feature_extraction import DictVectorizer\n",
        "from sklearn.feature_extraction.text import HashingVectorizer\n",
        "from sklearn.linear_model import Perceptron\n",
        "from sklearn.model_selection import train_test_split\n",
        "from sklearn.linear_model import SGDClassifier\n",
        "from sklearn.linear_model import PassiveAggressiveClassifier\n",
        "from sklearn.naive_bayes import MultinomialNB\n",
        "from sklearn.metrics import classification_report\n",
        "import nltk"
      ],
      "execution_count": 0,
      "outputs": []
    },
    {
      "metadata": {
        "id": "77h3YC270uUc",
        "colab_type": "code",
        "colab": {}
      },
      "cell_type": "code",
      "source": [
        "# Install the PyDrive wrapper & import libraries.\n",
        "# This only needs to be done once in a notebook.\n",
        "!pip install -U -q PyDrive\n",
        "from pydrive.auth import GoogleAuth\n",
        "from pydrive.drive import GoogleDrive\n",
        "from google.colab import auth\n",
        "from oauth2client.client import GoogleCredentials\n",
        "\n",
        "# Authenticate and create the PyDrive client.\n",
        "# This only needs to be done once in a notebook.\n",
        "auth.authenticate_user()\n",
        "gauth = GoogleAuth()\n",
        "gauth.credentials = GoogleCredentials.get_application_default()\n",
        "drive = GoogleDrive(gauth)"
      ],
      "execution_count": 0,
      "outputs": []
    },
    {
      "metadata": {
        "id": "OdfzKvlBHZZr",
        "colab_type": "code",
        "colab": {}
      },
      "cell_type": "code",
      "source": [
        "#train.csv\n",
        "\n",
        "# Download a file based on its file ID.\n",
        "# https://drive.google.com/open?id=1A3BLkSn7GOwR7J2ccoIoDoQVOXLeytyR\n",
        "\n",
        "file_id = '1A3BLkSn7GOwR7J2ccoIoDoQVOXLeytyR' #https://drive.google.com/open?id=1R72cIA1deLDdg0aULjcl5OR6tsv-DRaq\n",
        "downloaded = drive.CreateFile({'id': file_id})\n",
        "downloaded.GetContentFile('sample_submission.csv')"
      ],
      "execution_count": 0,
      "outputs": []
    },
    {
      "metadata": {
        "id": "G31U1PXJH4Mo",
        "colab_type": "code",
        "colab": {}
      },
      "cell_type": "code",
      "source": [
        "submission = pd.read_csv('sample_submission.csv', encoding = \"ISO-8859-1\")\n",
        "submission.head()"
      ],
      "execution_count": 0,
      "outputs": []
    },
    {
      "metadata": {
        "id": "iUCQB6WvJTIh",
        "colab_type": "code",
        "colab": {}
      },
      "cell_type": "code",
      "source": [
        "submission.shape"
      ],
      "execution_count": 0,
      "outputs": []
    },
    {
      "metadata": {
        "id": "zYZUfYedIVlb",
        "colab_type": "code",
        "colab": {}
      },
      "cell_type": "code",
      "source": [
        "#test.csv\n",
        "\n",
        "file_id = '1A74kdE3pv_WvHJwuEbeF2TlYk4irXlis' #https://drive.google.com/open?id=1R72cIA1deLDdg0aULjcl5OR6tsv-DRaq\n",
        "downloaded = drive.CreateFile({'id': file_id})\n",
        "downloaded.GetContentFile('test.csv')"
      ],
      "execution_count": 0,
      "outputs": []
    },
    {
      "metadata": {
        "id": "Zg4rOzt_IhQY",
        "colab_type": "code",
        "colab": {
          "base_uri": "https://localhost:8080/",
          "height": 662
        },
        "outputId": "492b0ede-f543-4fc6-d195-d2aec4036998"
      },
      "cell_type": "code",
      "source": [
        "test_df = pd.read_csv('test.csv', encoding = \"ISO-8859-1\")\n",
        "test_df.head(20)"
      ],
      "execution_count": 11,
      "outputs": [
        {
          "output_type": "execute_result",
          "data": {
            "text/html": [
              "<div>\n",
              "<style scoped>\n",
              "    .dataframe tbody tr th:only-of-type {\n",
              "        vertical-align: middle;\n",
              "    }\n",
              "\n",
              "    .dataframe tbody tr th {\n",
              "        vertical-align: top;\n",
              "    }\n",
              "\n",
              "    .dataframe thead th {\n",
              "        text-align: right;\n",
              "    }\n",
              "</style>\n",
              "<table border=\"1\" class=\"dataframe\">\n",
              "  <thead>\n",
              "    <tr style=\"text-align: right;\">\n",
              "      <th></th>\n",
              "      <th>id</th>\n",
              "      <th>Doc_ID</th>\n",
              "      <th>Sent_ID</th>\n",
              "      <th>Word</th>\n",
              "    </tr>\n",
              "  </thead>\n",
              "  <tbody>\n",
              "    <tr>\n",
              "      <th>0</th>\n",
              "      <td>4543834</td>\n",
              "      <td>30001</td>\n",
              "      <td>191283</td>\n",
              "      <td>CCCVA</td>\n",
              "    </tr>\n",
              "    <tr>\n",
              "      <th>1</th>\n",
              "      <td>4543835</td>\n",
              "      <td>30001</td>\n",
              "      <td>191283</td>\n",
              "      <td>,</td>\n",
              "    </tr>\n",
              "    <tr>\n",
              "      <th>2</th>\n",
              "      <td>4543836</td>\n",
              "      <td>30001</td>\n",
              "      <td>191283</td>\n",
              "      <td>MANOVA</td>\n",
              "    </tr>\n",
              "    <tr>\n",
              "      <th>3</th>\n",
              "      <td>4543837</td>\n",
              "      <td>30001</td>\n",
              "      <td>191283</td>\n",
              "      <td>,</td>\n",
              "    </tr>\n",
              "    <tr>\n",
              "      <th>4</th>\n",
              "      <td>4543838</td>\n",
              "      <td>30001</td>\n",
              "      <td>191283</td>\n",
              "      <td>my</td>\n",
              "    </tr>\n",
              "    <tr>\n",
              "      <th>5</th>\n",
              "      <td>4543839</td>\n",
              "      <td>30001</td>\n",
              "      <td>191283</td>\n",
              "      <td>black</td>\n",
              "    </tr>\n",
              "    <tr>\n",
              "      <th>6</th>\n",
              "      <td>4543840</td>\n",
              "      <td>30001</td>\n",
              "      <td>191283</td>\n",
              "      <td>hen</td>\n",
              "    </tr>\n",
              "    <tr>\n",
              "      <th>7</th>\n",
              "      <td>4543841</td>\n",
              "      <td>30001</td>\n",
              "      <td>191283</td>\n",
              "      <td>.</td>\n",
              "    </tr>\n",
              "    <tr>\n",
              "      <th>8</th>\n",
              "      <td>4543842</td>\n",
              "      <td>30001</td>\n",
              "      <td>191284</td>\n",
              "      <td>Comments</td>\n",
              "    </tr>\n",
              "    <tr>\n",
              "      <th>9</th>\n",
              "      <td>4543843</td>\n",
              "      <td>30001</td>\n",
              "      <td>191284</td>\n",
              "      <td>on</td>\n",
              "    </tr>\n",
              "    <tr>\n",
              "      <th>10</th>\n",
              "      <td>4543844</td>\n",
              "      <td>30001</td>\n",
              "      <td>191284</td>\n",
              "      <td>repeated</td>\n",
              "    </tr>\n",
              "    <tr>\n",
              "      <th>11</th>\n",
              "      <td>4543845</td>\n",
              "      <td>30001</td>\n",
              "      <td>191284</td>\n",
              "      <td>measures</td>\n",
              "    </tr>\n",
              "    <tr>\n",
              "      <th>12</th>\n",
              "      <td>4543846</td>\n",
              "      <td>30001</td>\n",
              "      <td>191284</td>\n",
              "      <td>.</td>\n",
              "    </tr>\n",
              "    <tr>\n",
              "      <th>13</th>\n",
              "      <td>4543847</td>\n",
              "      <td>30002</td>\n",
              "      <td>191285</td>\n",
              "      <td>Nikolsky</td>\n",
              "    </tr>\n",
              "    <tr>\n",
              "      <th>14</th>\n",
              "      <td>4543848</td>\n",
              "      <td>30002</td>\n",
              "      <td>191285</td>\n",
              "      <td>sign</td>\n",
              "    </tr>\n",
              "    <tr>\n",
              "      <th>15</th>\n",
              "      <td>4543849</td>\n",
              "      <td>30002</td>\n",
              "      <td>191285</td>\n",
              "      <td>;</td>\n",
              "    </tr>\n",
              "    <tr>\n",
              "      <th>16</th>\n",
              "      <td>4543850</td>\n",
              "      <td>30002</td>\n",
              "      <td>191285</td>\n",
              "      <td>page</td>\n",
              "    </tr>\n",
              "    <tr>\n",
              "      <th>17</th>\n",
              "      <td>4543851</td>\n",
              "      <td>30002</td>\n",
              "      <td>191285</td>\n",
              "      <td>from</td>\n",
              "    </tr>\n",
              "    <tr>\n",
              "      <th>18</th>\n",
              "      <td>4543852</td>\n",
              "      <td>30002</td>\n",
              "      <td>191285</td>\n",
              "      <td>notable</td>\n",
              "    </tr>\n",
              "    <tr>\n",
              "      <th>19</th>\n",
              "      <td>4543853</td>\n",
              "      <td>30002</td>\n",
              "      <td>191285</td>\n",
              "      <td>contributors</td>\n",
              "    </tr>\n",
              "  </tbody>\n",
              "</table>\n",
              "</div>"
            ],
            "text/plain": [
              "         id  Doc_ID  Sent_ID          Word\n",
              "0   4543834   30001   191283         CCCVA\n",
              "1   4543835   30001   191283             ,\n",
              "2   4543836   30001   191283        MANOVA\n",
              "3   4543837   30001   191283             ,\n",
              "4   4543838   30001   191283            my\n",
              "5   4543839   30001   191283         black\n",
              "6   4543840   30001   191283           hen\n",
              "7   4543841   30001   191283             .\n",
              "8   4543842   30001   191284      Comments\n",
              "9   4543843   30001   191284            on\n",
              "10  4543844   30001   191284      repeated\n",
              "11  4543845   30001   191284      measures\n",
              "12  4543846   30001   191284             .\n",
              "13  4543847   30002   191285      Nikolsky\n",
              "14  4543848   30002   191285          sign\n",
              "15  4543849   30002   191285             ;\n",
              "16  4543850   30002   191285          page\n",
              "17  4543851   30002   191285          from\n",
              "18  4543852   30002   191285       notable\n",
              "19  4543853   30002   191285  contributors"
            ]
          },
          "metadata": {
            "tags": []
          },
          "execution_count": 11
        }
      ]
    },
    {
      "metadata": {
        "id": "kJv4JoCcJNWR",
        "colab_type": "code",
        "colab": {
          "base_uri": "https://localhost:8080/",
          "height": 35
        },
        "outputId": "704d86cb-dfb7-4b47-edad-360a8b8c93e5"
      },
      "cell_type": "code",
      "source": [
        "test_df.shape"
      ],
      "execution_count": 12,
      "outputs": [
        {
          "output_type": "execute_result",
          "data": {
            "text/plain": [
              "(2994463, 4)"
            ]
          },
          "metadata": {
            "tags": []
          },
          "execution_count": 12
        }
      ]
    },
    {
      "metadata": {
        "id": "UNuqaD2Q0qvI",
        "colab_type": "code",
        "colab": {}
      },
      "cell_type": "code",
      "source": [
        "#train.csv\n",
        "\n",
        "# Download a file based on its file ID.\n",
        "\n",
        "file_id = '1R72cIA1deLDdg0aULjcl5OR6tsv-DRaq' #https://drive.google.com/open?id=1R72cIA1deLDdg0aULjcl5OR6tsv-DRaq\n",
        "downloaded = drive.CreateFile({'id': file_id})\n",
        "downloaded.GetContentFile('train.csv')"
      ],
      "execution_count": 0,
      "outputs": []
    },
    {
      "metadata": {
        "id": "i4rIM-903QYM",
        "colab_type": "code",
        "colab": {
          "base_uri": "https://localhost:8080/",
          "height": 202
        },
        "outputId": "57e7824a-9484-459b-8291-52549ed5c4d9"
      },
      "cell_type": "code",
      "source": [
        "train_df = pd.read_csv('train.csv', encoding = \"ISO-8859-1\")\n",
        "train_df.head()"
      ],
      "execution_count": 14,
      "outputs": [
        {
          "output_type": "execute_result",
          "data": {
            "text/html": [
              "<div>\n",
              "<style scoped>\n",
              "    .dataframe tbody tr th:only-of-type {\n",
              "        vertical-align: middle;\n",
              "    }\n",
              "\n",
              "    .dataframe tbody tr th {\n",
              "        vertical-align: top;\n",
              "    }\n",
              "\n",
              "    .dataframe thead th {\n",
              "        text-align: right;\n",
              "    }\n",
              "</style>\n",
              "<table border=\"1\" class=\"dataframe\">\n",
              "  <thead>\n",
              "    <tr style=\"text-align: right;\">\n",
              "      <th></th>\n",
              "      <th>id</th>\n",
              "      <th>Doc_ID</th>\n",
              "      <th>Sent_ID</th>\n",
              "      <th>Word</th>\n",
              "      <th>tag</th>\n",
              "    </tr>\n",
              "  </thead>\n",
              "  <tbody>\n",
              "    <tr>\n",
              "      <th>0</th>\n",
              "      <td>1</td>\n",
              "      <td>1</td>\n",
              "      <td>1</td>\n",
              "      <td>Obesity</td>\n",
              "      <td>O</td>\n",
              "    </tr>\n",
              "    <tr>\n",
              "      <th>1</th>\n",
              "      <td>2</td>\n",
              "      <td>1</td>\n",
              "      <td>1</td>\n",
              "      <td>in</td>\n",
              "      <td>O</td>\n",
              "    </tr>\n",
              "    <tr>\n",
              "      <th>2</th>\n",
              "      <td>3</td>\n",
              "      <td>1</td>\n",
              "      <td>1</td>\n",
              "      <td>Low-</td>\n",
              "      <td>O</td>\n",
              "    </tr>\n",
              "    <tr>\n",
              "      <th>3</th>\n",
              "      <td>4</td>\n",
              "      <td>1</td>\n",
              "      <td>1</td>\n",
              "      <td>and</td>\n",
              "      <td>O</td>\n",
              "    </tr>\n",
              "    <tr>\n",
              "      <th>4</th>\n",
              "      <td>5</td>\n",
              "      <td>1</td>\n",
              "      <td>1</td>\n",
              "      <td>Middle-Income</td>\n",
              "      <td>O</td>\n",
              "    </tr>\n",
              "  </tbody>\n",
              "</table>\n",
              "</div>"
            ],
            "text/plain": [
              "   id  Doc_ID  Sent_ID           Word tag\n",
              "0   1       1        1        Obesity   O\n",
              "1   2       1        1             in   O\n",
              "2   3       1        1           Low-   O\n",
              "3   4       1        1            and   O\n",
              "4   5       1        1  Middle-Income   O"
            ]
          },
          "metadata": {
            "tags": []
          },
          "execution_count": 14
        }
      ]
    },
    {
      "metadata": {
        "id": "ItCgEHX73fMn",
        "colab_type": "code",
        "colab": {
          "base_uri": "https://localhost:8080/",
          "height": 121
        },
        "outputId": "662c92e8-81ac-4468-ca0f-ac113aa78f53"
      },
      "cell_type": "code",
      "source": [
        "train_df.isnull().sum()"
      ],
      "execution_count": 15,
      "outputs": [
        {
          "output_type": "execute_result",
          "data": {
            "text/plain": [
              "id           0\n",
              "Doc_ID       0\n",
              "Sent_ID      0\n",
              "Word       130\n",
              "tag          0\n",
              "dtype: int64"
            ]
          },
          "metadata": {
            "tags": []
          },
          "execution_count": 15
        }
      ]
    },
    {
      "metadata": {
        "id": "RsY_ef-v38HF",
        "colab_type": "text"
      },
      "cell_type": "markdown",
      "source": [
        "## Data Preprocessing"
      ]
    },
    {
      "metadata": {
        "id": "HD4TfuAM30rv",
        "colab_type": "code",
        "colab": {}
      },
      "cell_type": "code",
      "source": [
        "train_df = train_df.fillna(method='ffill')\n",
        "print(train_df.Sent_ID.nunique(), train_df.Word.nunique(), train_df.tag.nunique())\n",
        "\n",
        "test_df = test_df.fillna(method='ffill')\n",
        "print(test_df.Sent_ID.nunique(), test_df.Word.nunique())\n",
        "\n"
      ],
      "execution_count": 0,
      "outputs": []
    },
    {
      "metadata": {
        "id": "4CQeiZRf5Gkv",
        "colab_type": "code",
        "colab": {}
      },
      "cell_type": "code",
      "source": [
        "train_df.isnull().sum()"
      ],
      "execution_count": 0,
      "outputs": []
    },
    {
      "metadata": {
        "id": "Zg-Mq3M15_h8",
        "colab_type": "text"
      },
      "cell_type": "markdown",
      "source": [
        "We have 191,282 sentences that contain 184,505 unique words and tagged by 3 tags.\n",
        "\n",
        "The tags are not evenly distributed."
      ]
    },
    {
      "metadata": {
        "id": "XW1-YdUV5qrK",
        "colab_type": "code",
        "colab": {}
      },
      "cell_type": "code",
      "source": [
        "train_df.groupby('tag').size().reset_index(name='counts')"
      ],
      "execution_count": 0,
      "outputs": []
    },
    {
      "metadata": {
        "id": "1KFqeZbBLmwf",
        "colab_type": "code",
        "colab": {}
      },
      "cell_type": "code",
      "source": [
        "test_df.isnull().sum()"
      ],
      "execution_count": 0,
      "outputs": []
    },
    {
      "metadata": {
        "id": "4rybOo8280Hq",
        "colab_type": "code",
        "colab": {}
      },
      "cell_type": "code",
      "source": [
        "import nltk\n",
        "nltk.download('all')"
      ],
      "execution_count": 0,
      "outputs": []
    },
    {
      "metadata": {
        "id": "knIy_b488Qwh",
        "colab_type": "code",
        "colab": {}
      },
      "cell_type": "code",
      "source": [
        "# train_df['POS_full'] = nltk.pos_tag(train_df['Word']) \n",
        "test_df['POS_full'] = nltk.pos_tag(test_df['Word']) "
      ],
      "execution_count": 0,
      "outputs": []
    },
    {
      "metadata": {
        "id": "vvUJ2uZF-fmQ",
        "colab_type": "code",
        "colab": {}
      },
      "cell_type": "code",
      "source": [
        "test_df.head(10)"
      ],
      "execution_count": 0,
      "outputs": []
    },
    {
      "metadata": {
        "id": "cFI3Li6ZYqYV",
        "colab_type": "code",
        "colab": {}
      },
      "cell_type": "code",
      "source": [
        "# train_df['POS'] = train_df['POS_full'].apply(lambda x: x[1] )\n",
        "test_df['POS'] = test_df['POS_full'].apply(lambda x: x[1] )"
      ],
      "execution_count": 0,
      "outputs": []
    },
    {
      "metadata": {
        "id": "HplUjHxVl1Mn",
        "colab_type": "code",
        "colab": {}
      },
      "cell_type": "code",
      "source": [
        "test_df.head(10)"
      ],
      "execution_count": 0,
      "outputs": []
    },
    {
      "metadata": {
        "id": "_-23Mi-ml8FV",
        "colab_type": "code",
        "colab": {}
      },
      "cell_type": "code",
      "source": [
        "# train_df = train_df.drop(['Doc_ID', 'POS_full','id'], axis= 1)\n",
        "test_df = test_df.drop(['Doc_ID', 'POS_full','id'], axis= 1)"
      ],
      "execution_count": 0,
      "outputs": []
    },
    {
      "metadata": {
        "id": "FGOEOWlG6X8B",
        "colab_type": "text"
      },
      "cell_type": "markdown",
      "source": [
        "The following code transform the text date to vector using DictVectorizer and then split to train and test sets."
      ]
    },
    {
      "metadata": {
        "id": "vCKraacA-fCZ",
        "colab_type": "code",
        "colab": {}
      },
      "cell_type": "code",
      "source": [
        "test_df.head(10)"
      ],
      "execution_count": 0,
      "outputs": []
    },
    {
      "metadata": {
        "id": "cjYvvudiu-GE",
        "colab_type": "code",
        "colab": {}
      },
      "cell_type": "code",
      "source": [
        "train_df.Sent_ID.nunique(), train_df.Word.nunique(), train_df.POS.nunique()"
      ],
      "execution_count": 0,
      "outputs": []
    },
    {
      "metadata": {
        "id": "BahXCtQVkSs_",
        "colab_type": "code",
        "colab": {}
      },
      "cell_type": "code",
      "source": [
        "test_df.Sent_ID.nunique(), test_df.Word.nunique(), test_df.POS.nunique()"
      ],
      "execution_count": 0,
      "outputs": []
    },
    {
      "metadata": {
        "id": "Tuv3eas0vI9g",
        "colab_type": "code",
        "colab": {}
      },
      "cell_type": "code",
      "source": [
        "test_df.isnull().sum()"
      ],
      "execution_count": 0,
      "outputs": []
    },
    {
      "metadata": {
        "id": "G94IylVP0mtK",
        "colab_type": "code",
        "colab": {}
      },
      "cell_type": "code",
      "source": [
        "test_df.columns"
      ],
      "execution_count": 0,
      "outputs": []
    },
    {
      "metadata": {
        "id": "D_zxylzQjsZo",
        "colab_type": "code",
        "colab": {}
      },
      "cell_type": "code",
      "source": [
        "# test_df.to_csv('test_df_mod.csv')"
      ],
      "execution_count": 0,
      "outputs": []
    },
    {
      "metadata": {
        "id": "f0fhP53fvSA7",
        "colab_type": "code",
        "colab": {
          "base_uri": "https://localhost:8080/",
          "height": 52
        },
        "outputId": "e5ada0c7-5315-4e83-d22b-248b413e0996"
      },
      "cell_type": "code",
      "source": [
        "# train_df.to_csv('train_df_mod.csv')\n",
        "# https://drive.google.com/open?id=1SGZAB97aRcYs0Vih40R23Cua9lRshsy0\n",
        "\n",
        "file_id = '1SGZAB97aRcYs0Vih40R23Cua9lRshsy0'\n",
        "downloaded = drive.CreateFile({'id': file_id})\n",
        "downloaded.GetContentFile('train_df_mod.csv')\n",
        "\n",
        "file_id = '1t3v5g_C99p8cXUVXCEIr98oojVmeTc9J'\n",
        "downloaded = drive.CreateFile({'id': file_id})\n",
        "downloaded.GetContentFile('test_df_mod.csv')\n",
        "\n",
        "train_df = pd.read_csv('train_df_mod.csv')\n",
        "test_df = pd.read_csv('test_df_mod.csv')\n",
        "\n",
        "train_df = train_df[['Sent_ID', 'Word', 'tag', 'POS']]\n",
        "\n",
        "# train_df = train_df[:55000]\n",
        "print(train_df.shape)\n",
        "\n",
        "\n",
        "test_df = test_df[['Sent_ID', 'Word',  'POS']]\n",
        "print(test_df.shape)"
      ],
      "execution_count": 16,
      "outputs": [
        {
          "output_type": "stream",
          "text": [
            "(4543833, 4)\n",
            "(2994463, 3)\n"
          ],
          "name": "stdout"
        }
      ]
    },
    {
      "metadata": {
        "id": "8Rh-_P3_6ROE",
        "colab_type": "code",
        "colab": {}
      },
      "cell_type": "code",
      "source": [
        "# X = train_df.drop('tag', axis=1)\n",
        "# v = DictVectorizer(sparse=False)\n",
        "# X = v.fit_transform(X.to_dict('records'))\n",
        "# y = train_df.tag.values\n",
        "# classes = np.unique(y)\n",
        "# classes = classes.tolist()\n",
        "# X_train, X_test, y_train, y_test = train_test_split(X, y, test_size = 0.33, random_state=17)\n",
        "# X_train.shape, y_train.shape"
      ],
      "execution_count": 0,
      "outputs": []
    },
    {
      "metadata": {
        "id": "N0SjffRxuDYi",
        "colab_type": "code",
        "colab": {}
      },
      "cell_type": "code",
      "source": [
        "per = Perceptron(verbose=10, n_jobs=-1, max_iter=5)\n",
        "per.partial_fit(X_train, y_train, classes)\n"
      ],
      "execution_count": 0,
      "outputs": []
    },
    {
      "metadata": {
        "id": "IjqVM0KJyZRw",
        "colab_type": "code",
        "colab": {}
      },
      "cell_type": "code",
      "source": [
        "new_classes = classes.copy()\n",
        "new_classes.pop()\n",
        "new_classes"
      ],
      "execution_count": 0,
      "outputs": []
    },
    {
      "metadata": {
        "id": "nDP3qte928ft",
        "colab_type": "code",
        "colab": {}
      },
      "cell_type": "code",
      "source": [
        "print(classification_report(y_pred=per.predict(X_test), y_true=y_test, labels=new_classes))"
      ],
      "execution_count": 0,
      "outputs": []
    },
    {
      "metadata": {
        "id": "6eUa42942-_y",
        "colab_type": "code",
        "colab": {}
      },
      "cell_type": "code",
      "source": [
        "sgd = SGDClassifier()\n",
        "sgd.partial_fit(X_train, y_train, classes)"
      ],
      "execution_count": 0,
      "outputs": []
    },
    {
      "metadata": {
        "id": "OEc5_RBi3Dl_",
        "colab_type": "code",
        "colab": {}
      },
      "cell_type": "code",
      "source": [
        "print(classification_report(y_pred=sgd.predict(X_test), y_true=y_test, labels=new_classes))"
      ],
      "execution_count": 0,
      "outputs": []
    },
    {
      "metadata": {
        "id": "FANDEz_r3GNO",
        "colab_type": "code",
        "colab": {}
      },
      "cell_type": "code",
      "source": [
        "nb = MultinomialNB(alpha=0.01)\n",
        "nb.partial_fit(X_train, y_train, classes)"
      ],
      "execution_count": 0,
      "outputs": []
    },
    {
      "metadata": {
        "id": "7-hb9P8p3I64",
        "colab_type": "code",
        "colab": {}
      },
      "cell_type": "code",
      "source": [
        "print(classification_report(y_pred=nb.predict(X_test), y_true=y_test, labels = new_classes))"
      ],
      "execution_count": 0,
      "outputs": []
    },
    {
      "metadata": {
        "id": "A-6oHorE3LCU",
        "colab_type": "code",
        "colab": {}
      },
      "cell_type": "code",
      "source": [
        "pa =PassiveAggressiveClassifier()\n",
        "pa.partial_fit(X_train, y_train, classes)"
      ],
      "execution_count": 0,
      "outputs": []
    },
    {
      "metadata": {
        "id": "SlZ956EC3P4Y",
        "colab_type": "code",
        "colab": {}
      },
      "cell_type": "code",
      "source": [
        "print(classification_report(y_pred=pa.predict(X_test), y_true=y_test, labels=new_classes))"
      ],
      "execution_count": 0,
      "outputs": []
    },
    {
      "metadata": {
        "id": "9k7-eb8V3aVW",
        "colab_type": "code",
        "colab": {
          "base_uri": "https://localhost:8080/",
          "height": 211
        },
        "outputId": "01d92c46-e11a-445b-da83-b39d29ecae93"
      },
      "cell_type": "code",
      "source": [
        "!pip install sklearn_crfsuite"
      ],
      "execution_count": 7,
      "outputs": [
        {
          "output_type": "stream",
          "text": [
            "Collecting sklearn_crfsuite\n",
            "  Downloading https://files.pythonhosted.org/packages/25/74/5b7befa513482e6dee1f3dd68171a6c9dfc14c0eaa00f885ffeba54fe9b0/sklearn_crfsuite-0.3.6-py2.py3-none-any.whl\n",
            "Collecting python-crfsuite>=0.8.3 (from sklearn_crfsuite)\n",
            "\u001b[?25l  Downloading https://files.pythonhosted.org/packages/2f/86/cfcd71edca9d25d3d331209a20f6314b6f3f134c29478f90559cee9ce091/python_crfsuite-0.9.6-cp36-cp36m-manylinux1_x86_64.whl (754kB)\n",
            "\u001b[K    100% |████████████████████████████████| 757kB 11.5MB/s \n",
            "\u001b[?25hRequirement already satisfied: tabulate in /usr/local/lib/python3.6/dist-packages (from sklearn_crfsuite) (0.8.3)\n",
            "Requirement already satisfied: six in /usr/local/lib/python3.6/dist-packages (from sklearn_crfsuite) (1.11.0)\n",
            "Requirement already satisfied: tqdm>=2.0 in /usr/local/lib/python3.6/dist-packages (from sklearn_crfsuite) (4.28.1)\n",
            "Installing collected packages: python-crfsuite, sklearn-crfsuite\n",
            "Successfully installed python-crfsuite-0.9.6 sklearn-crfsuite-0.3.6\n"
          ],
          "name": "stdout"
        }
      ]
    },
    {
      "metadata": {
        "id": "q28TeBF8qrkP",
        "colab_type": "code",
        "colab": {
          "base_uri": "https://localhost:8080/",
          "height": 52
        },
        "outputId": "0d67130a-38d3-47cf-895a-a443587b3bf1"
      },
      "cell_type": "code",
      "source": [
        "# train_df.to_csv('train_df_mod.csv')\n",
        "# https://drive.google.com/open?id=1SGZAB97aRcYs0Vih40R23Cua9lRshsy0\n",
        "\n",
        "file_id = '1SGZAB97aRcYs0Vih40R23Cua9lRshsy0'\n",
        "downloaded = drive.CreateFile({'id': file_id})\n",
        "downloaded.GetContentFile('train_df_mod.csv')\n",
        "\n",
        "file_id = '1t3v5g_C99p8cXUVXCEIr98oojVmeTc9J'\n",
        "downloaded = drive.CreateFile({'id': file_id})\n",
        "downloaded.GetContentFile('test_df_mod.csv')\n",
        "\n",
        "train_df = pd.read_csv('train_df_mod.csv')\n",
        "test_df = pd.read_csv('test_df_mod.csv')\n",
        "\n",
        "train_df = train_df[['Sent_ID', 'Word', 'tag', 'POS']]\n",
        "\n",
        "train_df = train_df[:4200000]\n",
        "print(train_df.shape)\n",
        "\n",
        "\n",
        "test_df = test_df[['Sent_ID', 'Word',  'POS']]\n",
        "print(test_df.shape)"
      ],
      "execution_count": 9,
      "outputs": [
        {
          "output_type": "stream",
          "text": [
            "(4543833, 4)\n",
            "(2994463, 3)\n"
          ],
          "name": "stdout"
        }
      ]
    },
    {
      "metadata": {
        "id": "CipqyMe3DF62",
        "colab_type": "code",
        "colab": {}
      },
      "cell_type": "code",
      "source": [
        "# !pip install sklearn_crfsuite"
      ],
      "execution_count": 0,
      "outputs": []
    },
    {
      "metadata": {
        "id": "X48ZFCxf3SQZ",
        "colab_type": "code",
        "colab": {}
      },
      "cell_type": "code",
      "source": [
        "# import sklearn_crfsuite\n",
        "# from sklearn_crfsuite import scorers\n",
        "# from sklearn_crfsuite import metrics\n",
        "# from collections import Counter"
      ],
      "execution_count": 0,
      "outputs": []
    },
    {
      "metadata": {
        "id": "IDCQ7MoC3VL4",
        "colab_type": "code",
        "colab": {}
      },
      "cell_type": "code",
      "source": [
        "class SentenceGetter(object):\n",
        "    \n",
        "    def __init__(self, data):\n",
        "        self.n_sent = 1\n",
        "        self.data = data\n",
        "        self.empty = False\n",
        "        agg_func = lambda s: [(w, p, t) for w, p, t in zip(s['Word'].values.tolist(), \n",
        "                                                           s['POS'].values.tolist(), \n",
        "                                                           s['tag'].values.tolist())]\n",
        "        self.grouped = self.data.groupby('Sent_ID').apply(agg_func)\n",
        "        self.sentences = [s for s in self.grouped]\n",
        "        \n",
        "    def get_next(self):\n",
        "        try: \n",
        "            s = self.grouped['Sentence: {}'.format(self.n_sent)]\n",
        "            self.n_sent += 1\n",
        "            return s \n",
        "        except:\n",
        "            return None\n",
        "getter = SentenceGetter(train_df)\n",
        "sentences = getter.sentences"
      ],
      "execution_count": 0,
      "outputs": []
    },
    {
      "metadata": {
        "id": "H6wDo1Lw_UsT",
        "colab_type": "code",
        "colab": {
          "base_uri": "https://localhost:8080/",
          "height": 55
        },
        "outputId": "61f6a275-9baf-4468-dd4c-a5271b0858cb"
      },
      "cell_type": "code",
      "source": [
        "print(sentences[0:1])"
      ],
      "execution_count": 14,
      "outputs": [
        {
          "output_type": "stream",
          "text": [
            "[[('Obesity', 'NN', 'O'), ('in', 'IN', 'O'), ('Low-', 'NNP', 'O'), ('and', 'CC', 'O'), ('Middle-Income', 'JJ', 'O'), ('Countries', 'NNS', 'O'), (':', ':', 'O'), ('Burden', 'NNP', 'O'), (',', ',', 'O'), ('Drivers', 'NNP', 'O'), (',', ',', 'O'), ('and', 'CC', 'O'), ('Emerging', 'NNP', 'O'), ('Challenges', 'NNP', 'O'), ('.', '.', 'O')]]\n"
          ],
          "name": "stdout"
        }
      ]
    },
    {
      "metadata": {
        "id": "N0omUYMV_b41",
        "colab_type": "code",
        "colab": {
          "base_uri": "https://localhost:8080/",
          "height": 35
        },
        "outputId": "aaffad1f-67b4-4993-e0c6-052bc4ee79f9"
      },
      "cell_type": "code",
      "source": [
        "maxlen = max([len(s) for s in sentences])\n",
        "print ('Maximum sequence length:', maxlen)"
      ],
      "execution_count": 15,
      "outputs": [
        {
          "output_type": "stream",
          "text": [
            "Maximum sequence length: 3899\n"
          ],
          "name": "stdout"
        }
      ]
    },
    {
      "metadata": {
        "id": "WYqv9JhnUPe9",
        "colab_type": "code",
        "colab": {}
      },
      "cell_type": "code",
      "source": [
        "class SentenceGetter_test(object):\n",
        "    \n",
        "    def __init__(self, data):\n",
        "        self.n_sent = 1\n",
        "        self.data = data\n",
        "        self.empty = False\n",
        "        agg_func = lambda s: [(w, p) for w, p in zip(s['Word'].values.tolist(), \n",
        "                                                           s['POS'].values.tolist(), \n",
        "                                                           )]\n",
        "        self.grouped = self.data.groupby('Sent_ID').apply(agg_func)\n",
        "        self.sentences = [s for s in self.grouped]\n",
        "        \n",
        "    def get_next(self):\n",
        "        try: \n",
        "            s = self.grouped['Sentence: {}'.format(self.n_sent)]\n",
        "            self.n_sent += 1\n",
        "            return s \n",
        "        except:\n",
        "            return None\n",
        "getter_test = SentenceGetter_test(test_df)\n",
        "sentences_test = getter_test.sentences"
      ],
      "execution_count": 0,
      "outputs": []
    },
    {
      "metadata": {
        "id": "Jfaq6jY0UshQ",
        "colab_type": "code",
        "colab": {
          "base_uri": "https://localhost:8080/",
          "height": 35
        },
        "outputId": "103c4de8-0dd6-4062-fb78-402876ab66e2"
      },
      "cell_type": "code",
      "source": [
        "maxlen = max([len(s) for s in sentences_test])\n",
        "print ('Maximum sequence length:', maxlen)"
      ],
      "execution_count": 17,
      "outputs": [
        {
          "output_type": "stream",
          "text": [
            "Maximum sequence length: 3881\n"
          ],
          "name": "stdout"
        }
      ]
    },
    {
      "metadata": {
        "id": "iDpoDZ0b_hVA",
        "colab_type": "code",
        "colab": {}
      },
      "cell_type": "code",
      "source": [
        "# Check how long sentences are so that we can pad them\n",
        "import matplotlib.pyplot as plt\n",
        "%matplotlib inline\n",
        "plt.style.use(\"ggplot\")"
      ],
      "execution_count": 0,
      "outputs": []
    },
    {
      "metadata": {
        "id": "5RJYctMs_kUK",
        "colab_type": "code",
        "colab": {
          "base_uri": "https://localhost:8080/",
          "height": 265
        },
        "outputId": "457b8f19-f2a9-4d8f-f28e-c3fbef80894d"
      },
      "cell_type": "code",
      "source": [
        "plt.hist([len(s) for s in sentences], bins=200)\n",
        "plt.show()"
      ],
      "execution_count": 19,
      "outputs": [
        {
          "output_type": "display_data",
          "data": {
            "image/png": "[encoded data removed]",
            "text/plain": [
              "<Figure size 432x288 with 1 Axes>"
            ]
          },
          "metadata": {
            "tags": []
          }
        }
      ]
    },
    {
      "metadata": {
        "id": "cN6PJt5M_sNz",
        "colab_type": "code",
        "colab": {}
      },
      "cell_type": "code",
      "source": [
        "words = list(set(train_df[\"Word\"].values))\n",
        "words.append(\"ENDPAD\")\n",
        "\n",
        "words_test = list(set(test_df[\"Word\"].values))\n",
        "words_test.append(\"ENDPAD\")"
      ],
      "execution_count": 0,
      "outputs": []
    },
    {
      "metadata": {
        "id": "BsEdTGg4_7Ro",
        "colab_type": "code",
        "colab": {
          "base_uri": "https://localhost:8080/",
          "height": 35
        },
        "outputId": "f039e3d4-e54e-4f43-d629-240660f8cf5a"
      },
      "cell_type": "code",
      "source": [
        "n_words = len(words); n_words\n",
        "n_words_test = len(words_test); n_words_test"
      ],
      "execution_count": 21,
      "outputs": [
        {
          "output_type": "execute_result",
          "data": {
            "text/plain": [
              "139892"
            ]
          },
          "metadata": {
            "tags": []
          },
          "execution_count": 21
        }
      ]
    },
    {
      "metadata": {
        "id": "mBwTLfB5__qM",
        "colab_type": "code",
        "colab": {
          "base_uri": "https://localhost:8080/",
          "height": 35
        },
        "outputId": "f587b8ff-4a09-453a-9419-5d13bf180d1c"
      },
      "cell_type": "code",
      "source": [
        "tags = list(set(train_df[\"tag\"].values))\n",
        "n_tags = len(tags); n_tags"
      ],
      "execution_count": 22,
      "outputs": [
        {
          "output_type": "execute_result",
          "data": {
            "text/plain": [
              "3"
            ]
          },
          "metadata": {
            "tags": []
          },
          "execution_count": 22
        }
      ]
    },
    {
      "metadata": {
        "id": "cswPTNtmAHmL",
        "colab_type": "code",
        "colab": {}
      },
      "cell_type": "code",
      "source": [
        "word2idx = {w: i for i, w in enumerate(words)}\n",
        "tag2idx = {t: i for i, t in enumerate(tags)}\n",
        "\n",
        "word2idx_test = {w: i for i, w in enumerate(words_test)}\n"
      ],
      "execution_count": 0,
      "outputs": []
    },
    {
      "metadata": {
        "id": "1h0oT4-XANHX",
        "colab_type": "code",
        "colab": {
          "base_uri": "https://localhost:8080/",
          "height": 35
        },
        "outputId": "7cbca0d8-ef34-445a-8e51-0bef488db118"
      },
      "cell_type": "code",
      "source": [
        "from keras.preprocessing.sequence import pad_sequences\n",
        "X = [[word2idx[w[0]] for w in s] for s in sentences]\n",
        "\n",
        "\n",
        "from keras.preprocessing.sequence import pad_sequences\n",
        "test_X = [[word2idx_test[w[0]] for w in s] for s in sentences_test]"
      ],
      "execution_count": 24,
      "outputs": [
        {
          "output_type": "stream",
          "text": [
            "Using TensorFlow backend.\n"
          ],
          "name": "stderr"
        }
      ]
    },
    {
      "metadata": {
        "id": "eBOD37r-ARqr",
        "colab_type": "code",
        "colab": {}
      },
      "cell_type": "code",
      "source": [
        "X = pad_sequences(maxlen=3899, sequences=X, padding=\"post\",value=n_words - 1)\n",
        "test_X = pad_sequences(maxlen=3899, sequences=test_X, padding=\"post\",value=n_words_test - 1)"
      ],
      "execution_count": 0,
      "outputs": []
    },
    {
      "metadata": {
        "id": "kg0RmhDmXiuh",
        "colab_type": "code",
        "colab": {
          "base_uri": "https://localhost:8080/",
          "height": 35
        },
        "outputId": "0e2011a7-8426-42fd-9ae3-6ee2642b0dcf"
      },
      "cell_type": "code",
      "source": [
        "len(X)"
      ],
      "execution_count": 26,
      "outputs": [
        {
          "output_type": "execute_result",
          "data": {
            "text/plain": [
              "191282"
            ]
          },
          "metadata": {
            "tags": []
          },
          "execution_count": 26
        }
      ]
    },
    {
      "metadata": {
        "id": "Up4NQOgZXgS7",
        "colab_type": "code",
        "colab": {
          "base_uri": "https://localhost:8080/",
          "height": 35
        },
        "outputId": "1efb76e4-37e4-42cd-8218-772dfa84c6a3"
      },
      "cell_type": "code",
      "source": [
        "len(test_X)"
      ],
      "execution_count": 27,
      "outputs": [
        {
          "output_type": "execute_result",
          "data": {
            "text/plain": [
              "125840"
            ]
          },
          "metadata": {
            "tags": []
          },
          "execution_count": 27
        }
      ]
    },
    {
      "metadata": {
        "id": "VpkQyeumAWiL",
        "colab_type": "code",
        "colab": {}
      },
      "cell_type": "code",
      "source": [
        "y = [[tag2idx[w[2]] for w in s] for s in sentences]"
      ],
      "execution_count": 0,
      "outputs": []
    },
    {
      "metadata": {
        "id": "3Mp1vDTMAaGv",
        "colab_type": "code",
        "colab": {}
      },
      "cell_type": "code",
      "source": [
        "y = pad_sequences(maxlen=3899, sequences=y, padding=\"post\", value=tag2idx[\"O\"])"
      ],
      "execution_count": 0,
      "outputs": []
    },
    {
      "metadata": {
        "id": "TGOwgg_cAfG6",
        "colab_type": "code",
        "colab": {}
      },
      "cell_type": "code",
      "source": [
        "\n",
        "# del [[train_df,test_df]]\n",
        "# import gc\n",
        "# import resource\n",
        "# gc.collect()\n",
        "# train_df=pd.DataFrame()\n",
        "# test_df=pd.DataFrame()\n",
        "from keras.utils import to_categorical\n",
        "y = [to_categorical(i, num_classes=n_tags) for i in y]"
      ],
      "execution_count": 0,
      "outputs": []
    },
    {
      "metadata": {
        "id": "54P1k4_WRhtS",
        "colab_type": "code",
        "colab": {}
      },
      "cell_type": "code",
      "source": [
        "len(X), len(y)"
      ],
      "execution_count": 0,
      "outputs": []
    },
    {
      "metadata": {
        "id": "nfrP3nx6Aipy",
        "colab_type": "code",
        "colab": {}
      },
      "cell_type": "code",
      "source": [
        "from sklearn.model_selection import train_test_split\n",
        "from keras.models import Model, Input\n",
        "from keras.layers import LSTM, Embedding, Dense, TimeDistributed, Dropout, Bidirectional\n",
        "\n",
        "X_train, X_test, y_train, y_test = train_test_split(X, y, test_size=0.2)\n",
        "\n",
        "input = Input(shape=(3899,))\n",
        "model = Embedding(input_dim=n_words, output_dim=3899, input_length=3899)(input)\n",
        "model = Dropout(0.1)(model)\n",
        "model = Bidirectional(LSTM(units=100, return_sequences=True, recurrent_dropout=0.1))(model)\n",
        "out = TimeDistributed(Dense(n_tags, activation=\"softmax\"))(model)  # softmax output layer"
      ],
      "execution_count": 0,
      "outputs": []
    },
    {
      "metadata": {
        "id": "4MR28bvSCUjp",
        "colab_type": "code",
        "colab": {}
      },
      "cell_type": "code",
      "source": [
        "model = Model(input, out)"
      ],
      "execution_count": 0,
      "outputs": []
    },
    {
      "metadata": {
        "id": "T7Jv7x57R6Jf",
        "colab_type": "code",
        "colab": {}
      },
      "cell_type": "code",
      "source": [
        "len(X_train), len(y_train)"
      ],
      "execution_count": 0,
      "outputs": []
    },
    {
      "metadata": {
        "id": "HodRNf9yR-Tp",
        "colab_type": "code",
        "colab": {}
      },
      "cell_type": "code",
      "source": [
        "len(X_test), len(y_test)"
      ],
      "execution_count": 0,
      "outputs": []
    },
    {
      "metadata": {
        "id": "PxnGY5mqCw3e",
        "colab_type": "code",
        "colab": {}
      },
      "cell_type": "code",
      "source": [
        "model.compile(optimizer=\"adam\", loss=\"categorical_crossentropy\", metrics=[\"accuracy\"])\n",
        "history = model.fit(X_train, np.array(y_train), batch_size=32, epochs=1,  verbose=1)"
      ],
      "execution_count": 0,
      "outputs": []
    },
    {
      "metadata": {
        "id": "WaiP9evyD_ok",
        "colab_type": "code",
        "colab": {}
      },
      "cell_type": "code",
      "source": [
        "i = 0\n",
        "p = model.predict(np.array([X_test[i]]))\n",
        "p = np.argmax(p, axis=-1)\n",
        "print(\"{:15} ({:5}): {}\".format(\"Word\", \"True\", \"Pred\"))\n",
        "for w,pred in zip(X_test[i],p[0]):\n",
        "    print(\"{:15}: {}\".format(words[w],tags[pred]))"
      ],
      "execution_count": 0,
      "outputs": []
    },
    {
      "metadata": {
        "id": "ERaqPXCWbZ1z",
        "colab_type": "code",
        "colab": {}
      },
      "cell_type": "code",
      "source": [
        "len(test_X)"
      ],
      "execution_count": 0,
      "outputs": []
    },
    {
      "metadata": {
        "id": "In-2UnK9Zlgb",
        "colab_type": "code",
        "colab": {}
      },
      "cell_type": "code",
      "source": [
        "i = 0\n",
        "p1 = model.predict(np.array([test_X[i]]))\n",
        "p1 = np.argmax(p1, axis=-1)\n",
        "\n",
        "for w,pred in zip(test_X[i],p1[0]):\n",
        "  print(\"{:15}: {}\".format(words_test[w],tags[pred]))    "
      ],
      "execution_count": 0,
      "outputs": []
    },
    {
      "metadata": {
        "id": "6YTCznM5aSPX",
        "colab_type": "code",
        "colab": {}
      },
      "cell_type": "code",
      "source": [
        "submission['tag'].value_counts()"
      ],
      "execution_count": 0,
      "outputs": []
    },
    {
      "metadata": {
        "id": "-xDs7758bDnG",
        "colab_type": "code",
        "colab": {}
      },
      "cell_type": "code",
      "source": [
        "submission.head(3)"
      ],
      "execution_count": 0,
      "outputs": []
    },
    {
      "metadata": {
        "id": "khJrg0n33sER",
        "colab_type": "code",
        "colab": {}
      },
      "cell_type": "code",
      "source": [
        "# def word2features(sent, i):  \n",
        "#   word = sent[i][0]\n",
        "#   postag = sent[i][1]\n",
        "\n",
        "#   features = {\n",
        "#       'bias': 1.0, \n",
        "#       'word.lower()': word.lower(), \n",
        "#       'word[-3:]': word[-3:],\n",
        "#       'word[-2:]': word[-2:],\n",
        "#       'word.isupper()': word.isupper(),\n",
        "#       'word.istitle()': word.istitle(),\n",
        "#       'word.isdigit()': word.isdigit(),\n",
        "#       'postag': postag,\n",
        "#       'postag[:2]': postag[:2],\n",
        "#   }\n",
        "#   if i > 0:\n",
        "#       word1 = sent[i-1][0]\n",
        "#       postag1 = sent[i-1][1]\n",
        "#       features.update({\n",
        "#           '-1:word.lower()': word1.lower(),\n",
        "#           '-1:word.istitle()': word1.istitle(),\n",
        "#           '-1:word.isupper()': word1.isupper(),\n",
        "#           '-1:postag': postag1,\n",
        "#           '-1:postag[:2]': postag1[:2],\n",
        "#       })\n",
        "#   else:\n",
        "#       features['BOS'] = True\n",
        "#   if i < len(sent)-1:\n",
        "#       word1 = sent[i+1][0]\n",
        "#       postag1 = sent[i+1][1]\n",
        "#       features.update({\n",
        "#           '+1:word.lower()': word1.lower(),\n",
        "#           '+1:word.istitle()': word1.istitle(),\n",
        "#           '+1:word.isupper()': word1.isupper(),\n",
        "#           '+1:postag': postag1,\n",
        "#           '+1:postag[:2]': postag1[:2],\n",
        "#       })\n",
        "#   else:\n",
        "#       features['EOS'] = True\n",
        "#       return features\n",
        "\n"
      ],
      "execution_count": 0,
      "outputs": []
    },
    {
      "metadata": {
        "id": "-myCORrc38gb",
        "colab_type": "code",
        "colab": {}
      },
      "cell_type": "code",
      "source": [
        "\n",
        "# def sent2features(sent):\n",
        "#     return [word2features(sent, i) for i in range(len(sent))]\n",
        "# def sent2labels(sent):\n",
        "#     return [label for token, postag, label in sent]\n",
        "# def sent2tokens(sent):\n",
        "#     return [token for token, postag, label in sent]"
      ],
      "execution_count": 0,
      "outputs": []
    },
    {
      "metadata": {
        "id": "NeTwMWd84KOA",
        "colab_type": "code",
        "colab": {}
      },
      "cell_type": "code",
      "source": [
        "# X = [sent2features(s) for s in sentences]\n",
        "# y = [sent2labels(s) for s in sentences]\n",
        "# X_train, X_test, y_train, y_test = train_test_split(X, y, test_size=0.33, random_state=0)"
      ],
      "execution_count": 0,
      "outputs": []
    },
    {
      "metadata": {
        "id": "rzzFAUIuD9iR",
        "colab_type": "text"
      },
      "cell_type": "markdown",
      "source": [
        ""
      ]
    },
    {
      "metadata": {
        "id": "E4hlesW_4Mlu",
        "colab_type": "code",
        "colab": {}
      },
      "cell_type": "code",
      "source": [
        "# crf = sklearn_crfsuite.CRF(\n",
        "#     algorithm='lbfgs',\n",
        "#     c1=0.1,\n",
        "#     c2=0.1,\n",
        "#     max_iterations=100,\n",
        "#     all_possible_transitions=True\n",
        "# )\n",
        "# crf.fit(X_train, y_train)"
      ],
      "execution_count": 0,
      "outputs": []
    },
    {
      "metadata": {
        "id": "DqueKl2N4Oe3",
        "colab_type": "code",
        "colab": {}
      },
      "cell_type": "code",
      "source": [
        ""
      ],
      "execution_count": 0,
      "outputs": []
    }
  ]
}