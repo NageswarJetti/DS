{
  "nbformat": 4,
  "nbformat_minor": 0,
  "metadata": {
    "colab": {
      "name": "AV_ML_India_Hiring_24082019_33175_final.ipynb",
      "version": "0.3.2",
      "provenance": [],
      "collapsed_sections": [],
      "toc_visible": true
    },
    "kernelspec": {
      "name": "python3",
      "display_name": "Python 3"
    },
    "accelerator": "GPU"
  },
  "cells": [
    {
      "cell_type": "code",
      "metadata": {
        "id": "HcZubQ8V752_",
        "colab_type": "code",
        "colab": {}
      },
      "source": [
        "\n",
        "# Install the PyDrive wrapper & import libraries.\n",
        "# This only needs to be done once in a notebook.\n",
        "!pip install -U -q PyDrive\n",
        "from pydrive.auth import GoogleAuth\n",
        "from pydrive.drive import GoogleDrive\n",
        "from google.colab import auth\n",
        "from oauth2client.client import GoogleCredentials\n",
        "\n",
        "# Authenticate and create the PyDrive client.\n",
        "# This only needs to be done once in a notebook.\n",
        "auth.authenticate_user()\n",
        "gauth = GoogleAuth()\n",
        "gauth.credentials = GoogleCredentials.get_application_default()\n",
        "drive = GoogleDrive(gauth)"
      ],
      "execution_count": 0,
      "outputs": []
    },
    {
      "cell_type": "code",
      "metadata": {
        "id": "XaN1sP4H8Qp4",
        "colab_type": "code",
        "outputId": "0cb2ff71-b6af-4444-cf15-af42607e220a",
        "colab": {
          "base_uri": "https://localhost:8080/",
          "height": 55
        }
      },
      "source": [
        "# Run this cell to mount your Google Drive.\n",
        "from google.colab import drive\n",
        "drive.mount('/content/drive')"
      ],
      "execution_count": 0,
      "outputs": [
        {
          "output_type": "stream",
          "text": [
            "Drive already mounted at /content/drive; to attempt to forcibly remount, call drive.mount(\"/content/drive\", force_remount=True).\n"
          ],
          "name": "stdout"
        }
      ]
    },
    {
      "cell_type": "code",
      "metadata": {
        "id": "UGs6X4zS-rDN",
        "colab_type": "code",
        "outputId": "f4f56559-b2ac-43a5-c4c1-021cffb07ae9",
        "colab": {
          "base_uri": "https://localhost:8080/",
          "height": 471
        }
      },
      "source": [
        "!pip install catboost"
      ],
      "execution_count": 0,
      "outputs": [
        {
          "output_type": "stream",
          "text": [
            "Requirement already satisfied: catboost in /usr/local/lib/python3.6/dist-packages (0.16.5)\n",
            "Requirement already satisfied: pandas>=0.19.1 in /usr/local/lib/python3.6/dist-packages (from catboost) (0.24.2)\n",
            "Requirement already satisfied: matplotlib in /usr/local/lib/python3.6/dist-packages (from catboost) (3.0.3)\n",
            "Requirement already satisfied: plotly in /usr/local/lib/python3.6/dist-packages (from catboost) (3.6.1)\n",
            "Requirement already satisfied: numpy>=1.16.0 in /usr/local/lib/python3.6/dist-packages (from catboost) (1.16.4)\n",
            "Requirement already satisfied: graphviz in /usr/local/lib/python3.6/dist-packages (from catboost) (0.10.1)\n",
            "Requirement already satisfied: six in /usr/local/lib/python3.6/dist-packages (from catboost) (1.12.0)\n",
            "Requirement already satisfied: python-dateutil>=2.5.0 in /usr/local/lib/python3.6/dist-packages (from pandas>=0.19.1->catboost) (2.5.3)\n",
            "Requirement already satisfied: pytz>=2011k in /usr/local/lib/python3.6/dist-packages (from pandas>=0.19.1->catboost) (2018.9)\n",
            "Requirement already satisfied: kiwisolver>=1.0.1 in /usr/local/lib/python3.6/dist-packages (from matplotlib->catboost) (1.1.0)\n",
            "Requirement already satisfied: pyparsing!=2.0.4,!=2.1.2,!=2.1.6,>=2.0.1 in /usr/local/lib/python3.6/dist-packages (from matplotlib->catboost) (2.4.2)\n",
            "Requirement already satisfied: cycler>=0.10 in /usr/local/lib/python3.6/dist-packages (from matplotlib->catboost) (0.10.0)\n",
            "Requirement already satisfied: retrying>=1.3.3 in /usr/local/lib/python3.6/dist-packages (from plotly->catboost) (1.3.3)\n",
            "Requirement already satisfied: nbformat>=4.2 in /usr/local/lib/python3.6/dist-packages (from plotly->catboost) (4.4.0)\n",
            "Requirement already satisfied: decorator>=4.0.6 in /usr/local/lib/python3.6/dist-packages (from plotly->catboost) (4.4.0)\n",
            "Requirement already satisfied: requests in /usr/local/lib/python3.6/dist-packages (from plotly->catboost) (2.21.0)\n",
            "Requirement already satisfied: setuptools in /usr/local/lib/python3.6/dist-packages (from kiwisolver>=1.0.1->matplotlib->catboost) (41.0.1)\n",
            "Requirement already satisfied: jsonschema!=2.5.0,>=2.4 in /usr/local/lib/python3.6/dist-packages (from nbformat>=4.2->plotly->catboost) (2.6.0)\n",
            "Requirement already satisfied: jupyter-core in /usr/local/lib/python3.6/dist-packages (from nbformat>=4.2->plotly->catboost) (4.5.0)\n",
            "Requirement already satisfied: ipython-genutils in /usr/local/lib/python3.6/dist-packages (from nbformat>=4.2->plotly->catboost) (0.2.0)\n",
            "Requirement already satisfied: traitlets>=4.1 in /usr/local/lib/python3.6/dist-packages (from nbformat>=4.2->plotly->catboost) (4.3.2)\n",
            "Requirement already satisfied: urllib3<1.25,>=1.21.1 in /usr/local/lib/python3.6/dist-packages (from requests->plotly->catboost) (1.24.3)\n",
            "Requirement already satisfied: certifi>=2017.4.17 in /usr/local/lib/python3.6/dist-packages (from requests->plotly->catboost) (2019.6.16)\n",
            "Requirement already satisfied: idna<2.9,>=2.5 in /usr/local/lib/python3.6/dist-packages (from requests->plotly->catboost) (2.8)\n",
            "Requirement already satisfied: chardet<3.1.0,>=3.0.2 in /usr/local/lib/python3.6/dist-packages (from requests->plotly->catboost) (3.0.4)\n"
          ],
          "name": "stdout"
        }
      ]
    },
    {
      "cell_type": "markdown",
      "metadata": {
        "id": "fwdP9pwN-jhe",
        "colab_type": "text"
      },
      "source": [
        "### Load packages"
      ]
    },
    {
      "cell_type": "code",
      "metadata": {
        "id": "iHh-tb5-8ToT",
        "colab_type": "code",
        "outputId": "f7607ae8-9c0c-43cf-946a-398e9e5d4d3d",
        "colab": {
          "base_uri": "https://localhost:8080/",
          "height": 17
        }
      },
      "source": [
        "# Libraries\n",
        "import numpy as np\n",
        "import pandas as pd\n",
        "pd.set_option('max_columns', None)\n",
        "import matplotlib.pyplot as plt\n",
        "import seaborn as sns\n",
        "%matplotlib inline\n",
        "\n",
        "import datetime\n",
        "import lightgbm as lgb\n",
        "from scipy import stats\n",
        "from sklearn.model_selection import train_test_split, StratifiedKFold, KFold, cross_val_score, GridSearchCV, RepeatedStratifiedKFold\n",
        "from sklearn.preprocessing import StandardScaler\n",
        "import keras.models\n",
        "from keras.models import Sequential\n",
        "from keras.layers import Activation, Dense, Dropout\n",
        "\n",
        "import os\n",
        "import plotly.offline as py\n",
        "py.init_notebook_mode(connected=True)\n",
        "import plotly.graph_objs as go\n",
        "import plotly.tools as tls\n",
        "import xgboost as xgb\n",
        "import lightgbm as lgb\n",
        "from sklearn import model_selection\n",
        "from sklearn.metrics import accuracy_score, roc_auc_score,classification_report\n",
        "from sklearn import metrics\n",
        "import json\n",
        "import ast\n",
        "import time\n",
        "from sklearn import linear_model\n",
        "from imblearn import under_sampling, over_sampling, combine\n",
        "from imblearn.under_sampling import NearMiss, RandomUnderSampler\n",
        "from imblearn.over_sampling import SMOTE, ADASYN\n",
        "\n",
        "\n",
        "from tqdm import tqdm_notebook\n",
        "from mlxtend.feature_selection import SequentialFeatureSelector as SFS\n",
        "from mlxtend.plotting import plot_sequential_feature_selection as plot_sfs\n",
        "from sklearn.neighbors import NearestNeighbors\n",
        "from sklearn.feature_selection import GenericUnivariateSelect, SelectPercentile, SelectKBest, f_classif, mutual_info_classif, RFE\n",
        "import statsmodels.api as sm\n",
        "import warnings\n",
        "warnings.filterwarnings('ignore')\n",
        "from catboost import CatBoostClassifier\n",
        "from statistics import mean \n",
        "import gc\n",
        "\n",
        "# import json\n",
        "import altair as alt\n",
        "# from  altair.vega import v3\n",
        "from IPython.display import HTML\n",
        "\n",
        "from plotly import tools\n",
        "import plotly.graph_objs as go\n",
        "from plotly.offline import init_notebook_mode, iplot\n",
        "import warnings\n",
        "warnings.filterwarnings(\"ignore\")\n",
        "init_notebook_mode(connected=True)"
      ],
      "execution_count": 0,
      "outputs": [
        {
          "output_type": "display_data",
          "data": {
            "text/vnd.plotly.v1+html": "<script type=\"text/javascript\">window.PlotlyConfig = {MathJaxConfig: 'local'};</script><script type=\"text/javascript\">if (window.MathJax) {MathJax.Hub.Config({SVG: {font: \"STIX-Web\"}});}</script><script>requirejs.config({paths: { 'plotly': ['https://cdn.plot.ly/plotly-latest.min']},});if(!window._Plotly) {require(['plotly'],function(plotly) {window._Plotly=plotly;});}</script>",
            "text/html": [
              "<script type=\"text/javascript\">window.PlotlyConfig = {MathJaxConfig: 'local'};</script><script type=\"text/javascript\">if (window.MathJax) {MathJax.Hub.Config({SVG: {font: \"STIX-Web\"}});}</script><script>requirejs.config({paths: { 'plotly': ['https://cdn.plot.ly/plotly-latest.min']},});if(!window._Plotly) {require(['plotly'],function(plotly) {window._Plotly=plotly;});}</script>"
            ]
          },
          "metadata": {
            "tags": []
          }
        },
        {
          "output_type": "display_data",
          "data": {
            "text/vnd.plotly.v1+html": "<script type=\"text/javascript\">window.PlotlyConfig = {MathJaxConfig: 'local'};</script><script type=\"text/javascript\">if (window.MathJax) {MathJax.Hub.Config({SVG: {font: \"STIX-Web\"}});}</script><script>requirejs.config({paths: { 'plotly': ['https://cdn.plot.ly/plotly-latest.min']},});if(!window._Plotly) {require(['plotly'],function(plotly) {window._Plotly=plotly;});}</script>",
            "text/html": [
              "<script type=\"text/javascript\">window.PlotlyConfig = {MathJaxConfig: 'local'};</script><script type=\"text/javascript\">if (window.MathJax) {MathJax.Hub.Config({SVG: {font: \"STIX-Web\"}});}</script><script>requirejs.config({paths: { 'plotly': ['https://cdn.plot.ly/plotly-latest.min']},});if(!window._Plotly) {require(['plotly'],function(plotly) {window._Plotly=plotly;});}</script>"
            ]
          },
          "metadata": {
            "tags": []
          }
        }
      ]
    },
    {
      "cell_type": "code",
      "metadata": {
        "id": "ke-ofZ76_MGW",
        "colab_type": "code",
        "outputId": "ae8a1f02-b831-4631-fb6a-24574d4aa18e",
        "colab": {
          "base_uri": "https://localhost:8080/",
          "height": 35
        }
      },
      "source": [
        "\n",
        "!ls '/content/drive/My Drive/AV_data/India_ML_Hiring_Hack_24082019'\n"
      ],
      "execution_count": 0,
      "outputs": [
        {
          "output_type": "stream",
          "text": [
            "sample_submission.csv  test.csv  train.csv\n"
          ],
          "name": "stdout"
        }
      ]
    },
    {
      "cell_type": "markdown",
      "metadata": {
        "id": "YRCgiX_0-oYd",
        "colab_type": "text"
      },
      "source": [
        "### Read the datasets"
      ]
    },
    {
      "cell_type": "code",
      "metadata": {
        "id": "gdz1wfAR_3-V",
        "colab_type": "code",
        "colab": {}
      },
      "source": [
        "file = r'/content/drive/My Drive/AV_data/India_ML_Hiring_Hack_24082019/'\n",
        "train_df = pd.read_csv(file+'train.csv')\n",
        "test_df = pd.read_csv(file+'test.csv')\n",
        "submission_df = pd.read_csv(file+'sample_submission.csv')"
      ],
      "execution_count": 0,
      "outputs": []
    },
    {
      "cell_type": "code",
      "metadata": {
        "id": "m2r_DslRAMsE",
        "colab_type": "code",
        "outputId": "15c758b0-8cbd-4f95-c358-1c0fbf0a50f3",
        "colab": {
          "base_uri": "https://localhost:8080/",
          "height": 274
        }
      },
      "source": [
        "train_df.head()"
      ],
      "execution_count": 0,
      "outputs": [
        {
          "output_type": "execute_result",
          "data": {
            "text/html": [
              "<div>\n",
              "<style scoped>\n",
              "    .dataframe tbody tr th:only-of-type {\n",
              "        vertical-align: middle;\n",
              "    }\n",
              "\n",
              "    .dataframe tbody tr th {\n",
              "        vertical-align: top;\n",
              "    }\n",
              "\n",
              "    .dataframe thead th {\n",
              "        text-align: right;\n",
              "    }\n",
              "</style>\n",
              "<table border=\"1\" class=\"dataframe\">\n",
              "  <thead>\n",
              "    <tr style=\"text-align: right;\">\n",
              "      <th></th>\n",
              "      <th>loan_id</th>\n",
              "      <th>source</th>\n",
              "      <th>financial_institution</th>\n",
              "      <th>interest_rate</th>\n",
              "      <th>unpaid_principal_bal</th>\n",
              "      <th>loan_term</th>\n",
              "      <th>origination_date</th>\n",
              "      <th>first_payment_date</th>\n",
              "      <th>loan_to_value</th>\n",
              "      <th>number_of_borrowers</th>\n",
              "      <th>debt_to_income_ratio</th>\n",
              "      <th>borrower_credit_score</th>\n",
              "      <th>loan_purpose</th>\n",
              "      <th>insurance_percent</th>\n",
              "      <th>co-borrower_credit_score</th>\n",
              "      <th>insurance_type</th>\n",
              "      <th>m1</th>\n",
              "      <th>m2</th>\n",
              "      <th>m3</th>\n",
              "      <th>m4</th>\n",
              "      <th>m5</th>\n",
              "      <th>m6</th>\n",
              "      <th>m7</th>\n",
              "      <th>m8</th>\n",
              "      <th>m9</th>\n",
              "      <th>m10</th>\n",
              "      <th>m11</th>\n",
              "      <th>m12</th>\n",
              "      <th>m13</th>\n",
              "    </tr>\n",
              "  </thead>\n",
              "  <tbody>\n",
              "    <tr>\n",
              "      <th>0</th>\n",
              "      <td>268055008619</td>\n",
              "      <td>Z</td>\n",
              "      <td>Turner, Baldwin and Rhodes</td>\n",
              "      <td>4.250</td>\n",
              "      <td>214000</td>\n",
              "      <td>360</td>\n",
              "      <td>2012-03-01</td>\n",
              "      <td>05/2012</td>\n",
              "      <td>95</td>\n",
              "      <td>1.0</td>\n",
              "      <td>22.0</td>\n",
              "      <td>694.0</td>\n",
              "      <td>C86</td>\n",
              "      <td>30.0</td>\n",
              "      <td>0.0</td>\n",
              "      <td>0.0</td>\n",
              "      <td>0</td>\n",
              "      <td>0</td>\n",
              "      <td>0</td>\n",
              "      <td>0</td>\n",
              "      <td>0</td>\n",
              "      <td>0</td>\n",
              "      <td>1</td>\n",
              "      <td>0</td>\n",
              "      <td>0</td>\n",
              "      <td>0</td>\n",
              "      <td>0</td>\n",
              "      <td>0</td>\n",
              "      <td>1</td>\n",
              "    </tr>\n",
              "    <tr>\n",
              "      <th>1</th>\n",
              "      <td>672831657627</td>\n",
              "      <td>Y</td>\n",
              "      <td>Swanson, Newton and Miller</td>\n",
              "      <td>4.875</td>\n",
              "      <td>144000</td>\n",
              "      <td>360</td>\n",
              "      <td>2012-01-01</td>\n",
              "      <td>03/2012</td>\n",
              "      <td>72</td>\n",
              "      <td>1.0</td>\n",
              "      <td>44.0</td>\n",
              "      <td>697.0</td>\n",
              "      <td>B12</td>\n",
              "      <td>0.0</td>\n",
              "      <td>0.0</td>\n",
              "      <td>0.0</td>\n",
              "      <td>0</td>\n",
              "      <td>0</td>\n",
              "      <td>0</td>\n",
              "      <td>0</td>\n",
              "      <td>0</td>\n",
              "      <td>0</td>\n",
              "      <td>0</td>\n",
              "      <td>0</td>\n",
              "      <td>0</td>\n",
              "      <td>0</td>\n",
              "      <td>1</td>\n",
              "      <td>0</td>\n",
              "      <td>1</td>\n",
              "    </tr>\n",
              "    <tr>\n",
              "      <th>2</th>\n",
              "      <td>742515242108</td>\n",
              "      <td>Z</td>\n",
              "      <td>Thornton-Davis</td>\n",
              "      <td>3.250</td>\n",
              "      <td>366000</td>\n",
              "      <td>180</td>\n",
              "      <td>2012-01-01</td>\n",
              "      <td>03/2012</td>\n",
              "      <td>49</td>\n",
              "      <td>1.0</td>\n",
              "      <td>33.0</td>\n",
              "      <td>780.0</td>\n",
              "      <td>B12</td>\n",
              "      <td>0.0</td>\n",
              "      <td>0.0</td>\n",
              "      <td>0.0</td>\n",
              "      <td>0</td>\n",
              "      <td>0</td>\n",
              "      <td>0</td>\n",
              "      <td>0</td>\n",
              "      <td>0</td>\n",
              "      <td>0</td>\n",
              "      <td>0</td>\n",
              "      <td>0</td>\n",
              "      <td>0</td>\n",
              "      <td>0</td>\n",
              "      <td>0</td>\n",
              "      <td>0</td>\n",
              "      <td>1</td>\n",
              "    </tr>\n",
              "    <tr>\n",
              "      <th>3</th>\n",
              "      <td>601385667462</td>\n",
              "      <td>X</td>\n",
              "      <td>OTHER</td>\n",
              "      <td>4.750</td>\n",
              "      <td>135000</td>\n",
              "      <td>360</td>\n",
              "      <td>2012-02-01</td>\n",
              "      <td>04/2012</td>\n",
              "      <td>46</td>\n",
              "      <td>2.0</td>\n",
              "      <td>44.0</td>\n",
              "      <td>633.0</td>\n",
              "      <td>B12</td>\n",
              "      <td>0.0</td>\n",
              "      <td>638.0</td>\n",
              "      <td>0.0</td>\n",
              "      <td>0</td>\n",
              "      <td>0</td>\n",
              "      <td>0</td>\n",
              "      <td>0</td>\n",
              "      <td>0</td>\n",
              "      <td>0</td>\n",
              "      <td>0</td>\n",
              "      <td>0</td>\n",
              "      <td>1</td>\n",
              "      <td>1</td>\n",
              "      <td>1</td>\n",
              "      <td>1</td>\n",
              "      <td>1</td>\n",
              "    </tr>\n",
              "    <tr>\n",
              "      <th>4</th>\n",
              "      <td>273870029961</td>\n",
              "      <td>X</td>\n",
              "      <td>OTHER</td>\n",
              "      <td>4.750</td>\n",
              "      <td>124000</td>\n",
              "      <td>360</td>\n",
              "      <td>2012-02-01</td>\n",
              "      <td>04/2012</td>\n",
              "      <td>80</td>\n",
              "      <td>1.0</td>\n",
              "      <td>43.0</td>\n",
              "      <td>681.0</td>\n",
              "      <td>C86</td>\n",
              "      <td>0.0</td>\n",
              "      <td>0.0</td>\n",
              "      <td>0.0</td>\n",
              "      <td>0</td>\n",
              "      <td>1</td>\n",
              "      <td>2</td>\n",
              "      <td>3</td>\n",
              "      <td>4</td>\n",
              "      <td>5</td>\n",
              "      <td>6</td>\n",
              "      <td>7</td>\n",
              "      <td>8</td>\n",
              "      <td>9</td>\n",
              "      <td>10</td>\n",
              "      <td>11</td>\n",
              "      <td>1</td>\n",
              "    </tr>\n",
              "  </tbody>\n",
              "</table>\n",
              "</div>"
            ],
            "text/plain": [
              "        loan_id source       financial_institution  interest_rate  \\\n",
              "0  268055008619      Z  Turner, Baldwin and Rhodes          4.250   \n",
              "1  672831657627      Y  Swanson, Newton and Miller          4.875   \n",
              "2  742515242108      Z              Thornton-Davis          3.250   \n",
              "3  601385667462      X                       OTHER          4.750   \n",
              "4  273870029961      X                       OTHER          4.750   \n",
              "\n",
              "   unpaid_principal_bal  loan_term origination_date first_payment_date  \\\n",
              "0                214000        360       2012-03-01            05/2012   \n",
              "1                144000        360       2012-01-01            03/2012   \n",
              "2                366000        180       2012-01-01            03/2012   \n",
              "3                135000        360       2012-02-01            04/2012   \n",
              "4                124000        360       2012-02-01            04/2012   \n",
              "\n",
              "   loan_to_value  number_of_borrowers  debt_to_income_ratio  \\\n",
              "0             95                  1.0                  22.0   \n",
              "1             72                  1.0                  44.0   \n",
              "2             49                  1.0                  33.0   \n",
              "3             46                  2.0                  44.0   \n",
              "4             80                  1.0                  43.0   \n",
              "\n",
              "   borrower_credit_score loan_purpose  insurance_percent  \\\n",
              "0                  694.0          C86               30.0   \n",
              "1                  697.0          B12                0.0   \n",
              "2                  780.0          B12                0.0   \n",
              "3                  633.0          B12                0.0   \n",
              "4                  681.0          C86                0.0   \n",
              "\n",
              "   co-borrower_credit_score  insurance_type  m1  m2  m3  m4  m5  m6  m7  m8  \\\n",
              "0                       0.0             0.0   0   0   0   0   0   0   1   0   \n",
              "1                       0.0             0.0   0   0   0   0   0   0   0   0   \n",
              "2                       0.0             0.0   0   0   0   0   0   0   0   0   \n",
              "3                     638.0             0.0   0   0   0   0   0   0   0   0   \n",
              "4                       0.0             0.0   0   1   2   3   4   5   6   7   \n",
              "\n",
              "   m9  m10  m11  m12  m13  \n",
              "0   0    0    0    0    1  \n",
              "1   0    0    1    0    1  \n",
              "2   0    0    0    0    1  \n",
              "3   1    1    1    1    1  \n",
              "4   8    9   10   11    1  "
            ]
          },
          "metadata": {
            "tags": []
          },
          "execution_count": 1530
        }
      ]
    },
    {
      "cell_type": "code",
      "metadata": {
        "id": "jO_mwcp0-loq",
        "colab_type": "code",
        "outputId": "40ddf562-f561-444b-f184-c55a0f4d4afc",
        "colab": {
          "base_uri": "https://localhost:8080/",
          "height": 239
        }
      },
      "source": [
        "test_df.head()"
      ],
      "execution_count": 0,
      "outputs": [
        {
          "output_type": "execute_result",
          "data": {
            "text/html": [
              "<div>\n",
              "<style scoped>\n",
              "    .dataframe tbody tr th:only-of-type {\n",
              "        vertical-align: middle;\n",
              "    }\n",
              "\n",
              "    .dataframe tbody tr th {\n",
              "        vertical-align: top;\n",
              "    }\n",
              "\n",
              "    .dataframe thead th {\n",
              "        text-align: right;\n",
              "    }\n",
              "</style>\n",
              "<table border=\"1\" class=\"dataframe\">\n",
              "  <thead>\n",
              "    <tr style=\"text-align: right;\">\n",
              "      <th></th>\n",
              "      <th>loan_id</th>\n",
              "      <th>source</th>\n",
              "      <th>financial_institution</th>\n",
              "      <th>interest_rate</th>\n",
              "      <th>unpaid_principal_bal</th>\n",
              "      <th>loan_term</th>\n",
              "      <th>origination_date</th>\n",
              "      <th>first_payment_date</th>\n",
              "      <th>loan_to_value</th>\n",
              "      <th>number_of_borrowers</th>\n",
              "      <th>debt_to_income_ratio</th>\n",
              "      <th>borrower_credit_score</th>\n",
              "      <th>loan_purpose</th>\n",
              "      <th>insurance_percent</th>\n",
              "      <th>co-borrower_credit_score</th>\n",
              "      <th>insurance_type</th>\n",
              "      <th>m1</th>\n",
              "      <th>m2</th>\n",
              "      <th>m3</th>\n",
              "      <th>m4</th>\n",
              "      <th>m5</th>\n",
              "      <th>m6</th>\n",
              "      <th>m7</th>\n",
              "      <th>m8</th>\n",
              "      <th>m9</th>\n",
              "      <th>m10</th>\n",
              "      <th>m11</th>\n",
              "      <th>m12</th>\n",
              "    </tr>\n",
              "  </thead>\n",
              "  <tbody>\n",
              "    <tr>\n",
              "      <th>0</th>\n",
              "      <td>1</td>\n",
              "      <td>Y</td>\n",
              "      <td>Browning-Hart</td>\n",
              "      <td>3.875</td>\n",
              "      <td>417000</td>\n",
              "      <td>360</td>\n",
              "      <td>01/02/12</td>\n",
              "      <td>Apr-12</td>\n",
              "      <td>75</td>\n",
              "      <td>1</td>\n",
              "      <td>20</td>\n",
              "      <td>790</td>\n",
              "      <td>A23</td>\n",
              "      <td>0</td>\n",
              "      <td>0</td>\n",
              "      <td>0</td>\n",
              "      <td>0</td>\n",
              "      <td>0</td>\n",
              "      <td>0</td>\n",
              "      <td>0</td>\n",
              "      <td>0</td>\n",
              "      <td>0</td>\n",
              "      <td>0</td>\n",
              "      <td>0</td>\n",
              "      <td>0</td>\n",
              "      <td>0</td>\n",
              "      <td>0</td>\n",
              "      <td>0</td>\n",
              "    </tr>\n",
              "    <tr>\n",
              "      <th>1</th>\n",
              "      <td>2</td>\n",
              "      <td>X</td>\n",
              "      <td>OTHER</td>\n",
              "      <td>4.500</td>\n",
              "      <td>113000</td>\n",
              "      <td>360</td>\n",
              "      <td>01/02/12</td>\n",
              "      <td>Apr-12</td>\n",
              "      <td>80</td>\n",
              "      <td>2</td>\n",
              "      <td>33</td>\n",
              "      <td>793</td>\n",
              "      <td>C86</td>\n",
              "      <td>0</td>\n",
              "      <td>784</td>\n",
              "      <td>0</td>\n",
              "      <td>0</td>\n",
              "      <td>0</td>\n",
              "      <td>0</td>\n",
              "      <td>0</td>\n",
              "      <td>0</td>\n",
              "      <td>0</td>\n",
              "      <td>0</td>\n",
              "      <td>0</td>\n",
              "      <td>0</td>\n",
              "      <td>0</td>\n",
              "      <td>0</td>\n",
              "      <td>0</td>\n",
              "    </tr>\n",
              "    <tr>\n",
              "      <th>2</th>\n",
              "      <td>3</td>\n",
              "      <td>Y</td>\n",
              "      <td>OTHER</td>\n",
              "      <td>4.500</td>\n",
              "      <td>72000</td>\n",
              "      <td>360</td>\n",
              "      <td>01/01/12</td>\n",
              "      <td>Mar-12</td>\n",
              "      <td>75</td>\n",
              "      <td>1</td>\n",
              "      <td>34</td>\n",
              "      <td>710</td>\n",
              "      <td>C86</td>\n",
              "      <td>0</td>\n",
              "      <td>0</td>\n",
              "      <td>0</td>\n",
              "      <td>0</td>\n",
              "      <td>0</td>\n",
              "      <td>0</td>\n",
              "      <td>0</td>\n",
              "      <td>0</td>\n",
              "      <td>0</td>\n",
              "      <td>0</td>\n",
              "      <td>0</td>\n",
              "      <td>0</td>\n",
              "      <td>0</td>\n",
              "      <td>0</td>\n",
              "      <td>0</td>\n",
              "    </tr>\n",
              "    <tr>\n",
              "      <th>3</th>\n",
              "      <td>4</td>\n",
              "      <td>X</td>\n",
              "      <td>Miller, Mcclure and Allen</td>\n",
              "      <td>4.125</td>\n",
              "      <td>123000</td>\n",
              "      <td>180</td>\n",
              "      <td>01/02/12</td>\n",
              "      <td>Apr-12</td>\n",
              "      <td>41</td>\n",
              "      <td>2</td>\n",
              "      <td>24</td>\n",
              "      <td>798</td>\n",
              "      <td>A23</td>\n",
              "      <td>0</td>\n",
              "      <td>813</td>\n",
              "      <td>0</td>\n",
              "      <td>0</td>\n",
              "      <td>0</td>\n",
              "      <td>0</td>\n",
              "      <td>0</td>\n",
              "      <td>0</td>\n",
              "      <td>0</td>\n",
              "      <td>0</td>\n",
              "      <td>0</td>\n",
              "      <td>0</td>\n",
              "      <td>0</td>\n",
              "      <td>0</td>\n",
              "      <td>0</td>\n",
              "    </tr>\n",
              "    <tr>\n",
              "      <th>4</th>\n",
              "      <td>5</td>\n",
              "      <td>X</td>\n",
              "      <td>Browning-Hart</td>\n",
              "      <td>3.250</td>\n",
              "      <td>166000</td>\n",
              "      <td>180</td>\n",
              "      <td>01/02/12</td>\n",
              "      <td>Apr-12</td>\n",
              "      <td>53</td>\n",
              "      <td>2</td>\n",
              "      <td>12</td>\n",
              "      <td>767</td>\n",
              "      <td>A23</td>\n",
              "      <td>0</td>\n",
              "      <td>768</td>\n",
              "      <td>0</td>\n",
              "      <td>0</td>\n",
              "      <td>0</td>\n",
              "      <td>0</td>\n",
              "      <td>0</td>\n",
              "      <td>0</td>\n",
              "      <td>0</td>\n",
              "      <td>0</td>\n",
              "      <td>0</td>\n",
              "      <td>0</td>\n",
              "      <td>0</td>\n",
              "      <td>0</td>\n",
              "      <td>0</td>\n",
              "    </tr>\n",
              "  </tbody>\n",
              "</table>\n",
              "</div>"
            ],
            "text/plain": [
              "   loan_id source      financial_institution  interest_rate  \\\n",
              "0        1      Y              Browning-Hart          3.875   \n",
              "1        2      X                      OTHER          4.500   \n",
              "2        3      Y                      OTHER          4.500   \n",
              "3        4      X  Miller, Mcclure and Allen          4.125   \n",
              "4        5      X              Browning-Hart          3.250   \n",
              "\n",
              "   unpaid_principal_bal  loan_term origination_date first_payment_date  \\\n",
              "0                417000        360         01/02/12             Apr-12   \n",
              "1                113000        360         01/02/12             Apr-12   \n",
              "2                 72000        360         01/01/12             Mar-12   \n",
              "3                123000        180         01/02/12             Apr-12   \n",
              "4                166000        180         01/02/12             Apr-12   \n",
              "\n",
              "   loan_to_value  number_of_borrowers  debt_to_income_ratio  \\\n",
              "0             75                    1                    20   \n",
              "1             80                    2                    33   \n",
              "2             75                    1                    34   \n",
              "3             41                    2                    24   \n",
              "4             53                    2                    12   \n",
              "\n",
              "   borrower_credit_score loan_purpose  insurance_percent  \\\n",
              "0                    790          A23                  0   \n",
              "1                    793          C86                  0   \n",
              "2                    710          C86                  0   \n",
              "3                    798          A23                  0   \n",
              "4                    767          A23                  0   \n",
              "\n",
              "   co-borrower_credit_score  insurance_type  m1  m2  m3  m4  m5  m6  m7  m8  \\\n",
              "0                         0               0   0   0   0   0   0   0   0   0   \n",
              "1                       784               0   0   0   0   0   0   0   0   0   \n",
              "2                         0               0   0   0   0   0   0   0   0   0   \n",
              "3                       813               0   0   0   0   0   0   0   0   0   \n",
              "4                       768               0   0   0   0   0   0   0   0   0   \n",
              "\n",
              "   m9  m10  m11  m12  \n",
              "0   0    0    0    0  \n",
              "1   0    0    0    0  \n",
              "2   0    0    0    0  \n",
              "3   0    0    0    0  \n",
              "4   0    0    0    0  "
            ]
          },
          "metadata": {
            "tags": []
          },
          "execution_count": 1531
        }
      ]
    },
    {
      "cell_type": "code",
      "metadata": {
        "id": "iwH545nF_FZJ",
        "colab_type": "code",
        "outputId": "f018aa0a-3959-4fdc-bca6-9a9a956db60b",
        "colab": {
          "base_uri": "https://localhost:8080/",
          "height": 202
        }
      },
      "source": [
        "submission_df.head()"
      ],
      "execution_count": 0,
      "outputs": [
        {
          "output_type": "execute_result",
          "data": {
            "text/html": [
              "<div>\n",
              "<style scoped>\n",
              "    .dataframe tbody tr th:only-of-type {\n",
              "        vertical-align: middle;\n",
              "    }\n",
              "\n",
              "    .dataframe tbody tr th {\n",
              "        vertical-align: top;\n",
              "    }\n",
              "\n",
              "    .dataframe thead th {\n",
              "        text-align: right;\n",
              "    }\n",
              "</style>\n",
              "<table border=\"1\" class=\"dataframe\">\n",
              "  <thead>\n",
              "    <tr style=\"text-align: right;\">\n",
              "      <th></th>\n",
              "      <th>loan_id</th>\n",
              "      <th>m13</th>\n",
              "    </tr>\n",
              "  </thead>\n",
              "  <tbody>\n",
              "    <tr>\n",
              "      <th>0</th>\n",
              "      <td>1</td>\n",
              "      <td>0</td>\n",
              "    </tr>\n",
              "    <tr>\n",
              "      <th>1</th>\n",
              "      <td>2</td>\n",
              "      <td>0</td>\n",
              "    </tr>\n",
              "    <tr>\n",
              "      <th>2</th>\n",
              "      <td>3</td>\n",
              "      <td>0</td>\n",
              "    </tr>\n",
              "    <tr>\n",
              "      <th>3</th>\n",
              "      <td>4</td>\n",
              "      <td>0</td>\n",
              "    </tr>\n",
              "    <tr>\n",
              "      <th>4</th>\n",
              "      <td>5</td>\n",
              "      <td>0</td>\n",
              "    </tr>\n",
              "  </tbody>\n",
              "</table>\n",
              "</div>"
            ],
            "text/plain": [
              "   loan_id  m13\n",
              "0        1    0\n",
              "1        2    0\n",
              "2        3    0\n",
              "3        4    0\n",
              "4        5    0"
            ]
          },
          "metadata": {
            "tags": []
          },
          "execution_count": 1532
        }
      ]
    },
    {
      "cell_type": "code",
      "metadata": {
        "id": "wgvcp956AVdh",
        "colab_type": "code",
        "outputId": "2f9df029-ed80-4c21-9d39-3d8ab337125d",
        "colab": {
          "base_uri": "https://localhost:8080/",
          "height": 52
        }
      },
      "source": [
        "print(f'Number of samples in train: {train_df.shape[0]}')\n",
        "print(f'Number of columns in train: {train_df.shape[1]}')\n",
        "for col in train_df.columns:\n",
        "    if train_df[col].isnull().any():\n",
        "        print(col, train_df[col].isnull().sum())\n"
      ],
      "execution_count": 0,
      "outputs": [
        {
          "output_type": "stream",
          "text": [
            "Number of samples in train: 116058\n",
            "Number of columns in train: 29\n"
          ],
          "name": "stdout"
        }
      ]
    },
    {
      "cell_type": "code",
      "metadata": {
        "id": "-UlOlh_yAeSX",
        "colab_type": "code",
        "outputId": "49063612-8e7e-4295-8748-11865c8df5bb",
        "colab": {
          "base_uri": "https://localhost:8080/",
          "height": 52
        }
      },
      "source": [
        "print(f'Number of samples in test: {test_df.shape[0]}')\n",
        "print(f'Number of columns in test: {test_df.shape[1]}')\n",
        "for col in test_df.columns:\n",
        "    if test_df[col].isnull().any():\n",
        "        print(col, test_df[col].isnull().sum())"
      ],
      "execution_count": 0,
      "outputs": [
        {
          "output_type": "stream",
          "text": [
            "Number of samples in test: 35866\n",
            "Number of columns in test: 28\n"
          ],
          "name": "stdout"
        }
      ]
    },
    {
      "cell_type": "markdown",
      "metadata": {
        "id": "JWxTijiGBCsl",
        "colab_type": "text"
      },
      "source": [
        "### Univariate Analysis"
      ]
    },
    {
      "cell_type": "markdown",
      "metadata": {
        "id": "gm3YGIYiBFY4",
        "colab_type": "text"
      },
      "source": [
        "We will first look at the target variable, i.e., m13. As it is a categorical variable, let us look at its frequency table, percentage distribution and bar plot.\n",
        "\n",
        "Frequency table of a variable will give us the count of each category in that variable."
      ]
    },
    {
      "cell_type": "code",
      "metadata": {
        "id": "B5vf12y3A0ds",
        "colab_type": "code",
        "outputId": "d47a59f5-b98f-4183-9860-fd2c26f73540",
        "colab": {
          "base_uri": "https://localhost:8080/",
          "height": 156
        }
      },
      "source": [
        "train_df.columns"
      ],
      "execution_count": 0,
      "outputs": [
        {
          "output_type": "execute_result",
          "data": {
            "text/plain": [
              "Index(['loan_id', 'source', 'financial_institution', 'interest_rate',\n",
              "       'unpaid_principal_bal', 'loan_term', 'origination_date',\n",
              "       'first_payment_date', 'loan_to_value', 'number_of_borrowers',\n",
              "       'debt_to_income_ratio', 'borrower_credit_score', 'loan_purpose',\n",
              "       'insurance_percent', 'co-borrower_credit_score', 'insurance_type', 'm1',\n",
              "       'm2', 'm3', 'm4', 'm5', 'm6', 'm7', 'm8', 'm9', 'm10', 'm11', 'm12',\n",
              "       'm13'],\n",
              "      dtype='object')"
            ]
          },
          "metadata": {
            "tags": []
          },
          "execution_count": 1535
        }
      ]
    },
    {
      "cell_type": "code",
      "metadata": {
        "id": "-QWZ-0OYBKLX",
        "colab_type": "code",
        "outputId": "15be50c8-e176-457a-d8b3-c4f96b910b05",
        "colab": {
          "base_uri": "https://localhost:8080/",
          "height": 69
        }
      },
      "source": [
        "train_df['m13'].value_counts()"
      ],
      "execution_count": 0,
      "outputs": [
        {
          "output_type": "execute_result",
          "data": {
            "text/plain": [
              "0    115422\n",
              "1       636\n",
              "Name: m13, dtype: int64"
            ]
          },
          "metadata": {
            "tags": []
          },
          "execution_count": 1536
        }
      ]
    },
    {
      "cell_type": "code",
      "metadata": {
        "id": "fmQ2NjsHBMlR",
        "colab_type": "code",
        "outputId": "e0716caf-e46e-445e-98e0-df3a0d4c510c",
        "colab": {
          "base_uri": "https://localhost:8080/",
          "height": 69
        }
      },
      "source": [
        "# Normalise can be set to true to print the proportions instead of Numbers.\n",
        "train_df['m13'].value_counts(normalize=True)"
      ],
      "execution_count": 0,
      "outputs": [
        {
          "output_type": "execute_result",
          "data": {
            "text/plain": [
              "0    0.99452\n",
              "1    0.00548\n",
              "Name: m13, dtype: float64"
            ]
          },
          "metadata": {
            "tags": []
          },
          "execution_count": 1537
        }
      ]
    },
    {
      "cell_type": "code",
      "metadata": {
        "id": "IDxD1UnoBQXW",
        "colab_type": "code",
        "outputId": "81b29ce3-d85f-429c-c471-5393e6cbad4a",
        "colab": {
          "base_uri": "https://localhost:8080/",
          "height": 283
        }
      },
      "source": [
        "train_df['m13'].value_counts().plot.bar()"
      ],
      "execution_count": 0,
      "outputs": [
        {
          "output_type": "execute_result",
          "data": {
            "text/plain": [
              "<matplotlib.axes._subplots.AxesSubplot at 0x7f481b7279e8>"
            ]
          },
          "metadata": {
            "tags": []
          },
          "execution_count": 1538
        },
        {
          "output_type": "display_data",
          "data": {
            "image/png": "[encoded data removed]",
            "text/plain": [
              "<Figure size 432x288 with 1 Axes>"
            ]
          },
          "metadata": {
            "tags": []
          }
        }
      ]
    },
    {
      "cell_type": "code",
      "metadata": {
        "id": "IuiyNRiqqsp0",
        "colab_type": "code",
        "outputId": "503d3ee1-e7ee-4096-9c16-6df5a1f353ec",
        "colab": {
          "base_uri": "https://localhost:8080/",
          "height": 359
        }
      },
      "source": [
        "plt.figure(1)\n",
        "plt.subplot(121)\n",
        "sns.distplot((train_df['interest_rate']));\n",
        "\n",
        "plt.subplot(122)\n",
        "(train_df['interest_rate']).plot.box(figsize=(16,5))\n",
        "plt.show()"
      ],
      "execution_count": 0,
      "outputs": [
        {
          "output_type": "display_data",
          "data": {
            "image/png": "[encoded data removed]",
            "text/plain": [
              "<Figure size 1152x360 with 2 Axes>"
            ]
          },
          "metadata": {
            "tags": []
          }
        }
      ]
    },
    {
      "cell_type": "code",
      "metadata": {
        "id": "sBpQeIO6ZDkx",
        "colab_type": "code",
        "outputId": "c9f0020d-fe93-4bfd-9fc3-ea598c47cd27",
        "colab": {
          "base_uri": "https://localhost:8080/",
          "height": 359
        }
      },
      "source": [
        "plt.figure(1)\n",
        "plt.subplot(121)\n",
        "sns.distplot((np.log1p(train_df['interest_rate']+1)));\n",
        "\n",
        "plt.subplot(122)\n",
        "(train_df['interest_rate']).plot.box(figsize=(16,5))\n",
        "plt.show()"
      ],
      "execution_count": 0,
      "outputs": [
        {
          "output_type": "display_data",
          "data": {
            "image/png": "[encoded data removed]",
            "text/plain": [
              "<Figure size 1152x360 with 2 Axes>"
            ]
          },
          "metadata": {
            "tags": []
          }
        }
      ]
    },
    {
      "cell_type": "code",
      "metadata": {
        "id": "jEeBCpXUZVlo",
        "colab_type": "code",
        "outputId": "498a832c-5964-450d-a644-c7bc88c3719c",
        "colab": {
          "base_uri": "https://localhost:8080/",
          "height": 359
        }
      },
      "source": [
        "plt.figure(1)\n",
        "plt.subplot(121)\n",
        "sns.distplot((train_df['unpaid_principal_bal']));\n",
        "\n",
        "plt.subplot(122)\n",
        "(train_df['unpaid_principal_bal']).plot.box(figsize=(16,5))\n",
        "plt.show()"
      ],
      "execution_count": 0,
      "outputs": [
        {
          "output_type": "display_data",
          "data": {
            "image/png": "[encoded data removed]",
            "text/plain": [
              "<Figure size 1152x360 with 2 Axes>"
            ]
          },
          "metadata": {
            "tags": []
          }
        }
      ]
    },
    {
      "cell_type": "code",
      "metadata": {
        "id": "mfQcOSgBqdm8",
        "colab_type": "code",
        "outputId": "73bf4ec0-7a81-4373-d26c-ab5aa808aed9",
        "colab": {
          "base_uri": "https://localhost:8080/",
          "height": 359
        }
      },
      "source": [
        "plt.figure(1)\n",
        "plt.subplot(121)\n",
        "sns.distplot((np.log1p(train_df['unpaid_principal_bal']+1)));\n",
        "\n",
        "plt.subplot(122)\n",
        "(train_df['unpaid_principal_bal']).plot.box(figsize=(16,5))\n",
        "plt.show()"
      ],
      "execution_count": 0,
      "outputs": [
        {
          "output_type": "display_data",
          "data": {
            "image/png": "[encoded data removed]",
            "text/plain": [
              "<Figure size 1152x360 with 2 Axes>"
            ]
          },
          "metadata": {
            "tags": []
          }
        }
      ]
    },
    {
      "cell_type": "code",
      "metadata": {
        "id": "A-Y9roJVlc6j",
        "colab_type": "code",
        "colab": {}
      },
      "source": [
        "# train_df['log_unpaid_principal_bal'] = np.log1p(train_df['unpaid_principal_bal']+1)\n",
        "# test_df['log_unpaid_principal_bal'] = np.log1p(test_df['unpaid_principal_bal']+1)"
      ],
      "execution_count": 0,
      "outputs": []
    },
    {
      "cell_type": "code",
      "metadata": {
        "id": "FddKt1GQlsrn",
        "colab_type": "code",
        "colab": {}
      },
      "source": [
        "# train_df.drop(['unpaid_principal_bal'],axis=1,inplace=True)\n",
        "# test_df.drop(['unpaid_principal_bal'],axis=1,inplace=True)"
      ],
      "execution_count": 0,
      "outputs": []
    },
    {
      "cell_type": "code",
      "metadata": {
        "id": "unI8syebZre8",
        "colab_type": "code",
        "outputId": "32562ce1-e262-40cb-c903-34a5ed244ba9",
        "colab": {
          "base_uri": "https://localhost:8080/",
          "height": 359
        }
      },
      "source": [
        "plt.figure(1)\n",
        "plt.subplot(121)\n",
        "sns.distplot((train_df['loan_to_value']));\n",
        "\n",
        "plt.subplot(122)\n",
        "(train_df['loan_to_value']).plot.box(figsize=(16,5))\n",
        "plt.show()"
      ],
      "execution_count": 0,
      "outputs": [
        {
          "output_type": "display_data",
          "data": {
            "image/png": "[encoded data removed]",
            "text/plain": [
              "<Figure size 1152x360 with 2 Axes>"
            ]
          },
          "metadata": {
            "tags": []
          }
        }
      ]
    },
    {
      "cell_type": "code",
      "metadata": {
        "id": "K-cP1Tv8ZlAM",
        "colab_type": "code",
        "outputId": "44e5659f-5f86-43d6-90e6-497d2a130929",
        "colab": {
          "base_uri": "https://localhost:8080/",
          "height": 359
        }
      },
      "source": [
        "plt.figure(1)\n",
        "plt.subplot(121)\n",
        "sns.distplot((np.log1p(train_df['loan_to_value']+1)));\n",
        "\n",
        "plt.subplot(122)\n",
        "(train_df['loan_to_value']).plot.box(figsize=(16,5))\n",
        "plt.show()"
      ],
      "execution_count": 0,
      "outputs": [
        {
          "output_type": "display_data",
          "data": {
            "image/png": "[encoded data removed]",
            "text/plain": [
              "<Figure size 1152x360 with 2 Axes>"
            ]
          },
          "metadata": {
            "tags": []
          }
        }
      ]
    },
    {
      "cell_type": "code",
      "metadata": {
        "id": "Pb0Yam54BULr",
        "colab_type": "code",
        "outputId": "85cf48ba-d743-4e74-9bd0-95b87ea4d967",
        "colab": {
          "base_uri": "https://localhost:8080/",
          "height": 537
        }
      },
      "source": [
        "train_df.dtypes"
      ],
      "execution_count": 0,
      "outputs": [
        {
          "output_type": "execute_result",
          "data": {
            "text/plain": [
              "loan_id                       int64\n",
              "source                       object\n",
              "financial_institution        object\n",
              "interest_rate               float64\n",
              "unpaid_principal_bal          int64\n",
              "loan_term                     int64\n",
              "origination_date             object\n",
              "first_payment_date           object\n",
              "loan_to_value                 int64\n",
              "number_of_borrowers         float64\n",
              "debt_to_income_ratio        float64\n",
              "borrower_credit_score       float64\n",
              "loan_purpose                 object\n",
              "insurance_percent           float64\n",
              "co-borrower_credit_score    float64\n",
              "insurance_type              float64\n",
              "m1                            int64\n",
              "m2                            int64\n",
              "m3                            int64\n",
              "m4                            int64\n",
              "m5                            int64\n",
              "m6                            int64\n",
              "m7                            int64\n",
              "m8                            int64\n",
              "m9                            int64\n",
              "m10                           int64\n",
              "m11                           int64\n",
              "m12                           int64\n",
              "m13                           int64\n",
              "dtype: object"
            ]
          },
          "metadata": {
            "tags": []
          },
          "execution_count": 1547
        }
      ]
    },
    {
      "cell_type": "code",
      "metadata": {
        "id": "oOEDeLYQBXbK",
        "colab_type": "code",
        "outputId": "6760d9df-bb08-4b6e-dd1d-2716630984a9",
        "colab": {
          "base_uri": "https://localhost:8080/",
          "height": 274
        }
      },
      "source": [
        "train_df.head()"
      ],
      "execution_count": 0,
      "outputs": [
        {
          "output_type": "execute_result",
          "data": {
            "text/html": [
              "<div>\n",
              "<style scoped>\n",
              "    .dataframe tbody tr th:only-of-type {\n",
              "        vertical-align: middle;\n",
              "    }\n",
              "\n",
              "    .dataframe tbody tr th {\n",
              "        vertical-align: top;\n",
              "    }\n",
              "\n",
              "    .dataframe thead th {\n",
              "        text-align: right;\n",
              "    }\n",
              "</style>\n",
              "<table border=\"1\" class=\"dataframe\">\n",
              "  <thead>\n",
              "    <tr style=\"text-align: right;\">\n",
              "      <th></th>\n",
              "      <th>loan_id</th>\n",
              "      <th>source</th>\n",
              "      <th>financial_institution</th>\n",
              "      <th>interest_rate</th>\n",
              "      <th>unpaid_principal_bal</th>\n",
              "      <th>loan_term</th>\n",
              "      <th>origination_date</th>\n",
              "      <th>first_payment_date</th>\n",
              "      <th>loan_to_value</th>\n",
              "      <th>number_of_borrowers</th>\n",
              "      <th>debt_to_income_ratio</th>\n",
              "      <th>borrower_credit_score</th>\n",
              "      <th>loan_purpose</th>\n",
              "      <th>insurance_percent</th>\n",
              "      <th>co-borrower_credit_score</th>\n",
              "      <th>insurance_type</th>\n",
              "      <th>m1</th>\n",
              "      <th>m2</th>\n",
              "      <th>m3</th>\n",
              "      <th>m4</th>\n",
              "      <th>m5</th>\n",
              "      <th>m6</th>\n",
              "      <th>m7</th>\n",
              "      <th>m8</th>\n",
              "      <th>m9</th>\n",
              "      <th>m10</th>\n",
              "      <th>m11</th>\n",
              "      <th>m12</th>\n",
              "      <th>m13</th>\n",
              "    </tr>\n",
              "  </thead>\n",
              "  <tbody>\n",
              "    <tr>\n",
              "      <th>0</th>\n",
              "      <td>268055008619</td>\n",
              "      <td>Z</td>\n",
              "      <td>Turner, Baldwin and Rhodes</td>\n",
              "      <td>4.250</td>\n",
              "      <td>214000</td>\n",
              "      <td>360</td>\n",
              "      <td>2012-03-01</td>\n",
              "      <td>05/2012</td>\n",
              "      <td>95</td>\n",
              "      <td>1.0</td>\n",
              "      <td>22.0</td>\n",
              "      <td>694.0</td>\n",
              "      <td>C86</td>\n",
              "      <td>30.0</td>\n",
              "      <td>0.0</td>\n",
              "      <td>0.0</td>\n",
              "      <td>0</td>\n",
              "      <td>0</td>\n",
              "      <td>0</td>\n",
              "      <td>0</td>\n",
              "      <td>0</td>\n",
              "      <td>0</td>\n",
              "      <td>1</td>\n",
              "      <td>0</td>\n",
              "      <td>0</td>\n",
              "      <td>0</td>\n",
              "      <td>0</td>\n",
              "      <td>0</td>\n",
              "      <td>1</td>\n",
              "    </tr>\n",
              "    <tr>\n",
              "      <th>1</th>\n",
              "      <td>672831657627</td>\n",
              "      <td>Y</td>\n",
              "      <td>Swanson, Newton and Miller</td>\n",
              "      <td>4.875</td>\n",
              "      <td>144000</td>\n",
              "      <td>360</td>\n",
              "      <td>2012-01-01</td>\n",
              "      <td>03/2012</td>\n",
              "      <td>72</td>\n",
              "      <td>1.0</td>\n",
              "      <td>44.0</td>\n",
              "      <td>697.0</td>\n",
              "      <td>B12</td>\n",
              "      <td>0.0</td>\n",
              "      <td>0.0</td>\n",
              "      <td>0.0</td>\n",
              "      <td>0</td>\n",
              "      <td>0</td>\n",
              "      <td>0</td>\n",
              "      <td>0</td>\n",
              "      <td>0</td>\n",
              "      <td>0</td>\n",
              "      <td>0</td>\n",
              "      <td>0</td>\n",
              "      <td>0</td>\n",
              "      <td>0</td>\n",
              "      <td>1</td>\n",
              "      <td>0</td>\n",
              "      <td>1</td>\n",
              "    </tr>\n",
              "    <tr>\n",
              "      <th>2</th>\n",
              "      <td>742515242108</td>\n",
              "      <td>Z</td>\n",
              "      <td>Thornton-Davis</td>\n",
              "      <td>3.250</td>\n",
              "      <td>366000</td>\n",
              "      <td>180</td>\n",
              "      <td>2012-01-01</td>\n",
              "      <td>03/2012</td>\n",
              "      <td>49</td>\n",
              "      <td>1.0</td>\n",
              "      <td>33.0</td>\n",
              "      <td>780.0</td>\n",
              "      <td>B12</td>\n",
              "      <td>0.0</td>\n",
              "      <td>0.0</td>\n",
              "      <td>0.0</td>\n",
              "      <td>0</td>\n",
              "      <td>0</td>\n",
              "      <td>0</td>\n",
              "      <td>0</td>\n",
              "      <td>0</td>\n",
              "      <td>0</td>\n",
              "      <td>0</td>\n",
              "      <td>0</td>\n",
              "      <td>0</td>\n",
              "      <td>0</td>\n",
              "      <td>0</td>\n",
              "      <td>0</td>\n",
              "      <td>1</td>\n",
              "    </tr>\n",
              "    <tr>\n",
              "      <th>3</th>\n",
              "      <td>601385667462</td>\n",
              "      <td>X</td>\n",
              "      <td>OTHER</td>\n",
              "      <td>4.750</td>\n",
              "      <td>135000</td>\n",
              "      <td>360</td>\n",
              "      <td>2012-02-01</td>\n",
              "      <td>04/2012</td>\n",
              "      <td>46</td>\n",
              "      <td>2.0</td>\n",
              "      <td>44.0</td>\n",
              "      <td>633.0</td>\n",
              "      <td>B12</td>\n",
              "      <td>0.0</td>\n",
              "      <td>638.0</td>\n",
              "      <td>0.0</td>\n",
              "      <td>0</td>\n",
              "      <td>0</td>\n",
              "      <td>0</td>\n",
              "      <td>0</td>\n",
              "      <td>0</td>\n",
              "      <td>0</td>\n",
              "      <td>0</td>\n",
              "      <td>0</td>\n",
              "      <td>1</td>\n",
              "      <td>1</td>\n",
              "      <td>1</td>\n",
              "      <td>1</td>\n",
              "      <td>1</td>\n",
              "    </tr>\n",
              "    <tr>\n",
              "      <th>4</th>\n",
              "      <td>273870029961</td>\n",
              "      <td>X</td>\n",
              "      <td>OTHER</td>\n",
              "      <td>4.750</td>\n",
              "      <td>124000</td>\n",
              "      <td>360</td>\n",
              "      <td>2012-02-01</td>\n",
              "      <td>04/2012</td>\n",
              "      <td>80</td>\n",
              "      <td>1.0</td>\n",
              "      <td>43.0</td>\n",
              "      <td>681.0</td>\n",
              "      <td>C86</td>\n",
              "      <td>0.0</td>\n",
              "      <td>0.0</td>\n",
              "      <td>0.0</td>\n",
              "      <td>0</td>\n",
              "      <td>1</td>\n",
              "      <td>2</td>\n",
              "      <td>3</td>\n",
              "      <td>4</td>\n",
              "      <td>5</td>\n",
              "      <td>6</td>\n",
              "      <td>7</td>\n",
              "      <td>8</td>\n",
              "      <td>9</td>\n",
              "      <td>10</td>\n",
              "      <td>11</td>\n",
              "      <td>1</td>\n",
              "    </tr>\n",
              "  </tbody>\n",
              "</table>\n",
              "</div>"
            ],
            "text/plain": [
              "        loan_id source       financial_institution  interest_rate  \\\n",
              "0  268055008619      Z  Turner, Baldwin and Rhodes          4.250   \n",
              "1  672831657627      Y  Swanson, Newton and Miller          4.875   \n",
              "2  742515242108      Z              Thornton-Davis          3.250   \n",
              "3  601385667462      X                       OTHER          4.750   \n",
              "4  273870029961      X                       OTHER          4.750   \n",
              "\n",
              "   unpaid_principal_bal  loan_term origination_date first_payment_date  \\\n",
              "0                214000        360       2012-03-01            05/2012   \n",
              "1                144000        360       2012-01-01            03/2012   \n",
              "2                366000        180       2012-01-01            03/2012   \n",
              "3                135000        360       2012-02-01            04/2012   \n",
              "4                124000        360       2012-02-01            04/2012   \n",
              "\n",
              "   loan_to_value  number_of_borrowers  debt_to_income_ratio  \\\n",
              "0             95                  1.0                  22.0   \n",
              "1             72                  1.0                  44.0   \n",
              "2             49                  1.0                  33.0   \n",
              "3             46                  2.0                  44.0   \n",
              "4             80                  1.0                  43.0   \n",
              "\n",
              "   borrower_credit_score loan_purpose  insurance_percent  \\\n",
              "0                  694.0          C86               30.0   \n",
              "1                  697.0          B12                0.0   \n",
              "2                  780.0          B12                0.0   \n",
              "3                  633.0          B12                0.0   \n",
              "4                  681.0          C86                0.0   \n",
              "\n",
              "   co-borrower_credit_score  insurance_type  m1  m2  m3  m4  m5  m6  m7  m8  \\\n",
              "0                       0.0             0.0   0   0   0   0   0   0   1   0   \n",
              "1                       0.0             0.0   0   0   0   0   0   0   0   0   \n",
              "2                       0.0             0.0   0   0   0   0   0   0   0   0   \n",
              "3                     638.0             0.0   0   0   0   0   0   0   0   0   \n",
              "4                       0.0             0.0   0   1   2   3   4   5   6   7   \n",
              "\n",
              "   m9  m10  m11  m12  m13  \n",
              "0   0    0    0    0    1  \n",
              "1   0    0    1    0    1  \n",
              "2   0    0    0    0    1  \n",
              "3   1    1    1    1    1  \n",
              "4   8    9   10   11    1  "
            ]
          },
          "metadata": {
            "tags": []
          },
          "execution_count": 1548
        }
      ]
    },
    {
      "cell_type": "code",
      "metadata": {
        "id": "Qrnshl0bBoen",
        "colab_type": "code",
        "outputId": "5c23a178-9330-4323-9130-839c988816bc",
        "colab": {
          "base_uri": "https://localhost:8080/",
          "height": 87
        }
      },
      "source": [
        "train_df['source'].value_counts()"
      ],
      "execution_count": 0,
      "outputs": [
        {
          "output_type": "execute_result",
          "data": {
            "text/plain": [
              "X    63858\n",
              "Y    37554\n",
              "Z    14646\n",
              "Name: source, dtype: int64"
            ]
          },
          "metadata": {
            "tags": []
          },
          "execution_count": 1549
        }
      ]
    },
    {
      "cell_type": "code",
      "metadata": {
        "id": "TUAbmz9oB-bf",
        "colab_type": "code",
        "outputId": "b97937cc-14ee-474c-d8c8-4c06791ae81d",
        "colab": {
          "base_uri": "https://localhost:8080/",
          "height": 87
        }
      },
      "source": [
        "test_df['source'].value_counts()"
      ],
      "execution_count": 0,
      "outputs": [
        {
          "output_type": "execute_result",
          "data": {
            "text/plain": [
              "X    19714\n",
              "Y    11653\n",
              "Z     4499\n",
              "Name: source, dtype: int64"
            ]
          },
          "metadata": {
            "tags": []
          },
          "execution_count": 1550
        }
      ]
    },
    {
      "cell_type": "code",
      "metadata": {
        "id": "lttTD_9NBs-2",
        "colab_type": "code",
        "outputId": "ec9e6537-f8ae-45bf-a4be-0babafa52afa",
        "colab": {
          "base_uri": "https://localhost:8080/",
          "height": 364
        }
      },
      "source": [
        "train_df['financial_institution'].value_counts()"
      ],
      "execution_count": 0,
      "outputs": [
        {
          "output_type": "execute_result",
          "data": {
            "text/plain": [
              "OTHER                          49699\n",
              "Browning-Hart                  31852\n",
              "Swanson, Newton and Miller      6874\n",
              "Edwards-Hoffman                 4857\n",
              "Martinez, Duffy and Bird        4715\n",
              "Miller, Mcclure and Allen       3158\n",
              "Nicholson Group                 2116\n",
              "Turner, Baldwin and Rhodes      1846\n",
              "Suarez Inc                      1790\n",
              "Cole, Brooks and Vincent        1642\n",
              "Richards-Walters                1459\n",
              "Taylor, Hunt and Rodriguez      1259\n",
              "Sanchez-Robinson                1193\n",
              "Sanchez, Hays and Wilkerson      853\n",
              "Romero, Woods and Johnson        750\n",
              "Thornton-Davis                   651\n",
              "Anderson-Taylor                  483\n",
              "Richardson Ltd                   473\n",
              "Chapman-Mcmahon                  388\n",
              "Name: financial_institution, dtype: int64"
            ]
          },
          "metadata": {
            "tags": []
          },
          "execution_count": 1551
        }
      ]
    },
    {
      "cell_type": "code",
      "metadata": {
        "id": "jxx02sg0CBl_",
        "colab_type": "code",
        "outputId": "0ba0fd78-bbd7-4d1a-ef07-564ab20ea85a",
        "colab": {
          "base_uri": "https://localhost:8080/",
          "height": 364
        }
      },
      "source": [
        "test_df['financial_institution'].value_counts()"
      ],
      "execution_count": 0,
      "outputs": [
        {
          "output_type": "execute_result",
          "data": {
            "text/plain": [
              "OTHER                          15162\n",
              "Browning-Hart                  10078\n",
              "Swanson, Newton and Miller      2095\n",
              "Edwards-Hoffman                 1530\n",
              "Martinez, Duffy and Bird        1448\n",
              "Miller, Mcclure and Allen        912\n",
              "Nicholson Group                  596\n",
              "Suarez Inc                       586\n",
              "Turner, Baldwin and Rhodes       542\n",
              "Cole, Brooks and Vincent         492\n",
              "Richards-Walters                 462\n",
              "Taylor, Hunt and Rodriguez       397\n",
              "Sanchez-Robinson                 384\n",
              "Sanchez, Hays and Wilkerson      289\n",
              "Romero, Woods and Johnson        241\n",
              "Thornton-Davis                   216\n",
              "Richardson Ltd                   170\n",
              "Anderson-Taylor                  152\n",
              "Chapman-Mcmahon                  114\n",
              "Name: financial_institution, dtype: int64"
            ]
          },
          "metadata": {
            "tags": []
          },
          "execution_count": 1552
        }
      ]
    },
    {
      "cell_type": "code",
      "metadata": {
        "id": "yrcw8FSgBv3y",
        "colab_type": "code",
        "outputId": "e15010ae-34d0-4af2-dfe6-c08c5468b05f",
        "colab": {
          "base_uri": "https://localhost:8080/",
          "height": 87
        }
      },
      "source": [
        "train_df['loan_purpose'].value_counts()"
      ],
      "execution_count": 0,
      "outputs": [
        {
          "output_type": "execute_result",
          "data": {
            "text/plain": [
              "A23    58462\n",
              "B12    29383\n",
              "C86    28213\n",
              "Name: loan_purpose, dtype: int64"
            ]
          },
          "metadata": {
            "tags": []
          },
          "execution_count": 1553
        }
      ]
    },
    {
      "cell_type": "code",
      "metadata": {
        "id": "16Q8xHPjB6uZ",
        "colab_type": "code",
        "outputId": "bf46ee15-0494-459c-f707-91c50355f3d8",
        "colab": {
          "base_uri": "https://localhost:8080/",
          "height": 87
        }
      },
      "source": [
        "test_df['loan_purpose'].value_counts()"
      ],
      "execution_count": 0,
      "outputs": [
        {
          "output_type": "execute_result",
          "data": {
            "text/plain": [
              "A23    17892\n",
              "B12     9197\n",
              "C86     8777\n",
              "Name: loan_purpose, dtype: int64"
            ]
          },
          "metadata": {
            "tags": []
          },
          "execution_count": 1554
        }
      ]
    },
    {
      "cell_type": "code",
      "metadata": {
        "id": "OrzSTiQzFMVH",
        "colab_type": "code",
        "outputId": "1d05f296-d4cf-4e25-fd74-ccb19ed83227",
        "colab": {
          "base_uri": "https://localhost:8080/",
          "height": 537
        }
      },
      "source": [
        "train_df.dtypes"
      ],
      "execution_count": 0,
      "outputs": [
        {
          "output_type": "execute_result",
          "data": {
            "text/plain": [
              "loan_id                       int64\n",
              "source                       object\n",
              "financial_institution        object\n",
              "interest_rate               float64\n",
              "unpaid_principal_bal          int64\n",
              "loan_term                     int64\n",
              "origination_date             object\n",
              "first_payment_date           object\n",
              "loan_to_value                 int64\n",
              "number_of_borrowers         float64\n",
              "debt_to_income_ratio        float64\n",
              "borrower_credit_score       float64\n",
              "loan_purpose                 object\n",
              "insurance_percent           float64\n",
              "co-borrower_credit_score    float64\n",
              "insurance_type              float64\n",
              "m1                            int64\n",
              "m2                            int64\n",
              "m3                            int64\n",
              "m4                            int64\n",
              "m5                            int64\n",
              "m6                            int64\n",
              "m7                            int64\n",
              "m8                            int64\n",
              "m9                            int64\n",
              "m10                           int64\n",
              "m11                           int64\n",
              "m12                           int64\n",
              "m13                           int64\n",
              "dtype: object"
            ]
          },
          "metadata": {
            "tags": []
          },
          "execution_count": 1555
        }
      ]
    },
    {
      "cell_type": "code",
      "metadata": {
        "id": "dOAj7dX4FObj",
        "colab_type": "code",
        "outputId": "de3c5050-0cc3-4797-c7d2-b5c0b5ef1a76",
        "colab": {
          "base_uri": "https://localhost:8080/",
          "height": 274
        }
      },
      "source": [
        "train_df.head()"
      ],
      "execution_count": 0,
      "outputs": [
        {
          "output_type": "execute_result",
          "data": {
            "text/html": [
              "<div>\n",
              "<style scoped>\n",
              "    .dataframe tbody tr th:only-of-type {\n",
              "        vertical-align: middle;\n",
              "    }\n",
              "\n",
              "    .dataframe tbody tr th {\n",
              "        vertical-align: top;\n",
              "    }\n",
              "\n",
              "    .dataframe thead th {\n",
              "        text-align: right;\n",
              "    }\n",
              "</style>\n",
              "<table border=\"1\" class=\"dataframe\">\n",
              "  <thead>\n",
              "    <tr style=\"text-align: right;\">\n",
              "      <th></th>\n",
              "      <th>loan_id</th>\n",
              "      <th>source</th>\n",
              "      <th>financial_institution</th>\n",
              "      <th>interest_rate</th>\n",
              "      <th>unpaid_principal_bal</th>\n",
              "      <th>loan_term</th>\n",
              "      <th>origination_date</th>\n",
              "      <th>first_payment_date</th>\n",
              "      <th>loan_to_value</th>\n",
              "      <th>number_of_borrowers</th>\n",
              "      <th>debt_to_income_ratio</th>\n",
              "      <th>borrower_credit_score</th>\n",
              "      <th>loan_purpose</th>\n",
              "      <th>insurance_percent</th>\n",
              "      <th>co-borrower_credit_score</th>\n",
              "      <th>insurance_type</th>\n",
              "      <th>m1</th>\n",
              "      <th>m2</th>\n",
              "      <th>m3</th>\n",
              "      <th>m4</th>\n",
              "      <th>m5</th>\n",
              "      <th>m6</th>\n",
              "      <th>m7</th>\n",
              "      <th>m8</th>\n",
              "      <th>m9</th>\n",
              "      <th>m10</th>\n",
              "      <th>m11</th>\n",
              "      <th>m12</th>\n",
              "      <th>m13</th>\n",
              "    </tr>\n",
              "  </thead>\n",
              "  <tbody>\n",
              "    <tr>\n",
              "      <th>0</th>\n",
              "      <td>268055008619</td>\n",
              "      <td>Z</td>\n",
              "      <td>Turner, Baldwin and Rhodes</td>\n",
              "      <td>4.250</td>\n",
              "      <td>214000</td>\n",
              "      <td>360</td>\n",
              "      <td>2012-03-01</td>\n",
              "      <td>05/2012</td>\n",
              "      <td>95</td>\n",
              "      <td>1.0</td>\n",
              "      <td>22.0</td>\n",
              "      <td>694.0</td>\n",
              "      <td>C86</td>\n",
              "      <td>30.0</td>\n",
              "      <td>0.0</td>\n",
              "      <td>0.0</td>\n",
              "      <td>0</td>\n",
              "      <td>0</td>\n",
              "      <td>0</td>\n",
              "      <td>0</td>\n",
              "      <td>0</td>\n",
              "      <td>0</td>\n",
              "      <td>1</td>\n",
              "      <td>0</td>\n",
              "      <td>0</td>\n",
              "      <td>0</td>\n",
              "      <td>0</td>\n",
              "      <td>0</td>\n",
              "      <td>1</td>\n",
              "    </tr>\n",
              "    <tr>\n",
              "      <th>1</th>\n",
              "      <td>672831657627</td>\n",
              "      <td>Y</td>\n",
              "      <td>Swanson, Newton and Miller</td>\n",
              "      <td>4.875</td>\n",
              "      <td>144000</td>\n",
              "      <td>360</td>\n",
              "      <td>2012-01-01</td>\n",
              "      <td>03/2012</td>\n",
              "      <td>72</td>\n",
              "      <td>1.0</td>\n",
              "      <td>44.0</td>\n",
              "      <td>697.0</td>\n",
              "      <td>B12</td>\n",
              "      <td>0.0</td>\n",
              "      <td>0.0</td>\n",
              "      <td>0.0</td>\n",
              "      <td>0</td>\n",
              "      <td>0</td>\n",
              "      <td>0</td>\n",
              "      <td>0</td>\n",
              "      <td>0</td>\n",
              "      <td>0</td>\n",
              "      <td>0</td>\n",
              "      <td>0</td>\n",
              "      <td>0</td>\n",
              "      <td>0</td>\n",
              "      <td>1</td>\n",
              "      <td>0</td>\n",
              "      <td>1</td>\n",
              "    </tr>\n",
              "    <tr>\n",
              "      <th>2</th>\n",
              "      <td>742515242108</td>\n",
              "      <td>Z</td>\n",
              "      <td>Thornton-Davis</td>\n",
              "      <td>3.250</td>\n",
              "      <td>366000</td>\n",
              "      <td>180</td>\n",
              "      <td>2012-01-01</td>\n",
              "      <td>03/2012</td>\n",
              "      <td>49</td>\n",
              "      <td>1.0</td>\n",
              "      <td>33.0</td>\n",
              "      <td>780.0</td>\n",
              "      <td>B12</td>\n",
              "      <td>0.0</td>\n",
              "      <td>0.0</td>\n",
              "      <td>0.0</td>\n",
              "      <td>0</td>\n",
              "      <td>0</td>\n",
              "      <td>0</td>\n",
              "      <td>0</td>\n",
              "      <td>0</td>\n",
              "      <td>0</td>\n",
              "      <td>0</td>\n",
              "      <td>0</td>\n",
              "      <td>0</td>\n",
              "      <td>0</td>\n",
              "      <td>0</td>\n",
              "      <td>0</td>\n",
              "      <td>1</td>\n",
              "    </tr>\n",
              "    <tr>\n",
              "      <th>3</th>\n",
              "      <td>601385667462</td>\n",
              "      <td>X</td>\n",
              "      <td>OTHER</td>\n",
              "      <td>4.750</td>\n",
              "      <td>135000</td>\n",
              "      <td>360</td>\n",
              "      <td>2012-02-01</td>\n",
              "      <td>04/2012</td>\n",
              "      <td>46</td>\n",
              "      <td>2.0</td>\n",
              "      <td>44.0</td>\n",
              "      <td>633.0</td>\n",
              "      <td>B12</td>\n",
              "      <td>0.0</td>\n",
              "      <td>638.0</td>\n",
              "      <td>0.0</td>\n",
              "      <td>0</td>\n",
              "      <td>0</td>\n",
              "      <td>0</td>\n",
              "      <td>0</td>\n",
              "      <td>0</td>\n",
              "      <td>0</td>\n",
              "      <td>0</td>\n",
              "      <td>0</td>\n",
              "      <td>1</td>\n",
              "      <td>1</td>\n",
              "      <td>1</td>\n",
              "      <td>1</td>\n",
              "      <td>1</td>\n",
              "    </tr>\n",
              "    <tr>\n",
              "      <th>4</th>\n",
              "      <td>273870029961</td>\n",
              "      <td>X</td>\n",
              "      <td>OTHER</td>\n",
              "      <td>4.750</td>\n",
              "      <td>124000</td>\n",
              "      <td>360</td>\n",
              "      <td>2012-02-01</td>\n",
              "      <td>04/2012</td>\n",
              "      <td>80</td>\n",
              "      <td>1.0</td>\n",
              "      <td>43.0</td>\n",
              "      <td>681.0</td>\n",
              "      <td>C86</td>\n",
              "      <td>0.0</td>\n",
              "      <td>0.0</td>\n",
              "      <td>0.0</td>\n",
              "      <td>0</td>\n",
              "      <td>1</td>\n",
              "      <td>2</td>\n",
              "      <td>3</td>\n",
              "      <td>4</td>\n",
              "      <td>5</td>\n",
              "      <td>6</td>\n",
              "      <td>7</td>\n",
              "      <td>8</td>\n",
              "      <td>9</td>\n",
              "      <td>10</td>\n",
              "      <td>11</td>\n",
              "      <td>1</td>\n",
              "    </tr>\n",
              "  </tbody>\n",
              "</table>\n",
              "</div>"
            ],
            "text/plain": [
              "        loan_id source       financial_institution  interest_rate  \\\n",
              "0  268055008619      Z  Turner, Baldwin and Rhodes          4.250   \n",
              "1  672831657627      Y  Swanson, Newton and Miller          4.875   \n",
              "2  742515242108      Z              Thornton-Davis          3.250   \n",
              "3  601385667462      X                       OTHER          4.750   \n",
              "4  273870029961      X                       OTHER          4.750   \n",
              "\n",
              "   unpaid_principal_bal  loan_term origination_date first_payment_date  \\\n",
              "0                214000        360       2012-03-01            05/2012   \n",
              "1                144000        360       2012-01-01            03/2012   \n",
              "2                366000        180       2012-01-01            03/2012   \n",
              "3                135000        360       2012-02-01            04/2012   \n",
              "4                124000        360       2012-02-01            04/2012   \n",
              "\n",
              "   loan_to_value  number_of_borrowers  debt_to_income_ratio  \\\n",
              "0             95                  1.0                  22.0   \n",
              "1             72                  1.0                  44.0   \n",
              "2             49                  1.0                  33.0   \n",
              "3             46                  2.0                  44.0   \n",
              "4             80                  1.0                  43.0   \n",
              "\n",
              "   borrower_credit_score loan_purpose  insurance_percent  \\\n",
              "0                  694.0          C86               30.0   \n",
              "1                  697.0          B12                0.0   \n",
              "2                  780.0          B12                0.0   \n",
              "3                  633.0          B12                0.0   \n",
              "4                  681.0          C86                0.0   \n",
              "\n",
              "   co-borrower_credit_score  insurance_type  m1  m2  m3  m4  m5  m6  m7  m8  \\\n",
              "0                       0.0             0.0   0   0   0   0   0   0   1   0   \n",
              "1                       0.0             0.0   0   0   0   0   0   0   0   0   \n",
              "2                       0.0             0.0   0   0   0   0   0   0   0   0   \n",
              "3                     638.0             0.0   0   0   0   0   0   0   0   0   \n",
              "4                       0.0             0.0   0   1   2   3   4   5   6   7   \n",
              "\n",
              "   m9  m10  m11  m12  m13  \n",
              "0   0    0    0    0    1  \n",
              "1   0    0    1    0    1  \n",
              "2   0    0    0    0    1  \n",
              "3   1    1    1    1    1  \n",
              "4   8    9   10   11    1  "
            ]
          },
          "metadata": {
            "tags": []
          },
          "execution_count": 1556
        }
      ]
    },
    {
      "cell_type": "code",
      "metadata": {
        "id": "z4jzYzPrFS7M",
        "colab_type": "code",
        "outputId": "79ff0c08-2b37-4f67-ce97-457a16eee76c",
        "colab": {
          "base_uri": "https://localhost:8080/",
          "height": 520
        }
      },
      "source": [
        "test_df.dtypes"
      ],
      "execution_count": 0,
      "outputs": [
        {
          "output_type": "execute_result",
          "data": {
            "text/plain": [
              "loan_id                       int64\n",
              "source                       object\n",
              "financial_institution        object\n",
              "interest_rate               float64\n",
              "unpaid_principal_bal          int64\n",
              "loan_term                     int64\n",
              "origination_date             object\n",
              "first_payment_date           object\n",
              "loan_to_value                 int64\n",
              "number_of_borrowers           int64\n",
              "debt_to_income_ratio          int64\n",
              "borrower_credit_score         int64\n",
              "loan_purpose                 object\n",
              "insurance_percent             int64\n",
              "co-borrower_credit_score      int64\n",
              "insurance_type                int64\n",
              "m1                            int64\n",
              "m2                            int64\n",
              "m3                            int64\n",
              "m4                            int64\n",
              "m5                            int64\n",
              "m6                            int64\n",
              "m7                            int64\n",
              "m8                            int64\n",
              "m9                            int64\n",
              "m10                           int64\n",
              "m11                           int64\n",
              "m12                           int64\n",
              "dtype: object"
            ]
          },
          "metadata": {
            "tags": []
          },
          "execution_count": 1557
        }
      ]
    },
    {
      "cell_type": "code",
      "metadata": {
        "id": "QGfUpkZpAJRN",
        "colab_type": "code",
        "outputId": "11c6d47a-c1e5-43cd-fe33-f5f0cbed2125",
        "colab": {
          "base_uri": "https://localhost:8080/",
          "height": 274
        }
      },
      "source": [
        "train_df.head()"
      ],
      "execution_count": 0,
      "outputs": [
        {
          "output_type": "execute_result",
          "data": {
            "text/html": [
              "<div>\n",
              "<style scoped>\n",
              "    .dataframe tbody tr th:only-of-type {\n",
              "        vertical-align: middle;\n",
              "    }\n",
              "\n",
              "    .dataframe tbody tr th {\n",
              "        vertical-align: top;\n",
              "    }\n",
              "\n",
              "    .dataframe thead th {\n",
              "        text-align: right;\n",
              "    }\n",
              "</style>\n",
              "<table border=\"1\" class=\"dataframe\">\n",
              "  <thead>\n",
              "    <tr style=\"text-align: right;\">\n",
              "      <th></th>\n",
              "      <th>loan_id</th>\n",
              "      <th>source</th>\n",
              "      <th>financial_institution</th>\n",
              "      <th>interest_rate</th>\n",
              "      <th>unpaid_principal_bal</th>\n",
              "      <th>loan_term</th>\n",
              "      <th>origination_date</th>\n",
              "      <th>first_payment_date</th>\n",
              "      <th>loan_to_value</th>\n",
              "      <th>number_of_borrowers</th>\n",
              "      <th>debt_to_income_ratio</th>\n",
              "      <th>borrower_credit_score</th>\n",
              "      <th>loan_purpose</th>\n",
              "      <th>insurance_percent</th>\n",
              "      <th>co-borrower_credit_score</th>\n",
              "      <th>insurance_type</th>\n",
              "      <th>m1</th>\n",
              "      <th>m2</th>\n",
              "      <th>m3</th>\n",
              "      <th>m4</th>\n",
              "      <th>m5</th>\n",
              "      <th>m6</th>\n",
              "      <th>m7</th>\n",
              "      <th>m8</th>\n",
              "      <th>m9</th>\n",
              "      <th>m10</th>\n",
              "      <th>m11</th>\n",
              "      <th>m12</th>\n",
              "      <th>m13</th>\n",
              "    </tr>\n",
              "  </thead>\n",
              "  <tbody>\n",
              "    <tr>\n",
              "      <th>0</th>\n",
              "      <td>268055008619</td>\n",
              "      <td>Z</td>\n",
              "      <td>Turner, Baldwin and Rhodes</td>\n",
              "      <td>4.250</td>\n",
              "      <td>214000</td>\n",
              "      <td>360</td>\n",
              "      <td>2012-03-01</td>\n",
              "      <td>05/2012</td>\n",
              "      <td>95</td>\n",
              "      <td>1.0</td>\n",
              "      <td>22.0</td>\n",
              "      <td>694.0</td>\n",
              "      <td>C86</td>\n",
              "      <td>30.0</td>\n",
              "      <td>0.0</td>\n",
              "      <td>0.0</td>\n",
              "      <td>0</td>\n",
              "      <td>0</td>\n",
              "      <td>0</td>\n",
              "      <td>0</td>\n",
              "      <td>0</td>\n",
              "      <td>0</td>\n",
              "      <td>1</td>\n",
              "      <td>0</td>\n",
              "      <td>0</td>\n",
              "      <td>0</td>\n",
              "      <td>0</td>\n",
              "      <td>0</td>\n",
              "      <td>1</td>\n",
              "    </tr>\n",
              "    <tr>\n",
              "      <th>1</th>\n",
              "      <td>672831657627</td>\n",
              "      <td>Y</td>\n",
              "      <td>Swanson, Newton and Miller</td>\n",
              "      <td>4.875</td>\n",
              "      <td>144000</td>\n",
              "      <td>360</td>\n",
              "      <td>2012-01-01</td>\n",
              "      <td>03/2012</td>\n",
              "      <td>72</td>\n",
              "      <td>1.0</td>\n",
              "      <td>44.0</td>\n",
              "      <td>697.0</td>\n",
              "      <td>B12</td>\n",
              "      <td>0.0</td>\n",
              "      <td>0.0</td>\n",
              "      <td>0.0</td>\n",
              "      <td>0</td>\n",
              "      <td>0</td>\n",
              "      <td>0</td>\n",
              "      <td>0</td>\n",
              "      <td>0</td>\n",
              "      <td>0</td>\n",
              "      <td>0</td>\n",
              "      <td>0</td>\n",
              "      <td>0</td>\n",
              "      <td>0</td>\n",
              "      <td>1</td>\n",
              "      <td>0</td>\n",
              "      <td>1</td>\n",
              "    </tr>\n",
              "    <tr>\n",
              "      <th>2</th>\n",
              "      <td>742515242108</td>\n",
              "      <td>Z</td>\n",
              "      <td>Thornton-Davis</td>\n",
              "      <td>3.250</td>\n",
              "      <td>366000</td>\n",
              "      <td>180</td>\n",
              "      <td>2012-01-01</td>\n",
              "      <td>03/2012</td>\n",
              "      <td>49</td>\n",
              "      <td>1.0</td>\n",
              "      <td>33.0</td>\n",
              "      <td>780.0</td>\n",
              "      <td>B12</td>\n",
              "      <td>0.0</td>\n",
              "      <td>0.0</td>\n",
              "      <td>0.0</td>\n",
              "      <td>0</td>\n",
              "      <td>0</td>\n",
              "      <td>0</td>\n",
              "      <td>0</td>\n",
              "      <td>0</td>\n",
              "      <td>0</td>\n",
              "      <td>0</td>\n",
              "      <td>0</td>\n",
              "      <td>0</td>\n",
              "      <td>0</td>\n",
              "      <td>0</td>\n",
              "      <td>0</td>\n",
              "      <td>1</td>\n",
              "    </tr>\n",
              "    <tr>\n",
              "      <th>3</th>\n",
              "      <td>601385667462</td>\n",
              "      <td>X</td>\n",
              "      <td>OTHER</td>\n",
              "      <td>4.750</td>\n",
              "      <td>135000</td>\n",
              "      <td>360</td>\n",
              "      <td>2012-02-01</td>\n",
              "      <td>04/2012</td>\n",
              "      <td>46</td>\n",
              "      <td>2.0</td>\n",
              "      <td>44.0</td>\n",
              "      <td>633.0</td>\n",
              "      <td>B12</td>\n",
              "      <td>0.0</td>\n",
              "      <td>638.0</td>\n",
              "      <td>0.0</td>\n",
              "      <td>0</td>\n",
              "      <td>0</td>\n",
              "      <td>0</td>\n",
              "      <td>0</td>\n",
              "      <td>0</td>\n",
              "      <td>0</td>\n",
              "      <td>0</td>\n",
              "      <td>0</td>\n",
              "      <td>1</td>\n",
              "      <td>1</td>\n",
              "      <td>1</td>\n",
              "      <td>1</td>\n",
              "      <td>1</td>\n",
              "    </tr>\n",
              "    <tr>\n",
              "      <th>4</th>\n",
              "      <td>273870029961</td>\n",
              "      <td>X</td>\n",
              "      <td>OTHER</td>\n",
              "      <td>4.750</td>\n",
              "      <td>124000</td>\n",
              "      <td>360</td>\n",
              "      <td>2012-02-01</td>\n",
              "      <td>04/2012</td>\n",
              "      <td>80</td>\n",
              "      <td>1.0</td>\n",
              "      <td>43.0</td>\n",
              "      <td>681.0</td>\n",
              "      <td>C86</td>\n",
              "      <td>0.0</td>\n",
              "      <td>0.0</td>\n",
              "      <td>0.0</td>\n",
              "      <td>0</td>\n",
              "      <td>1</td>\n",
              "      <td>2</td>\n",
              "      <td>3</td>\n",
              "      <td>4</td>\n",
              "      <td>5</td>\n",
              "      <td>6</td>\n",
              "      <td>7</td>\n",
              "      <td>8</td>\n",
              "      <td>9</td>\n",
              "      <td>10</td>\n",
              "      <td>11</td>\n",
              "      <td>1</td>\n",
              "    </tr>\n",
              "  </tbody>\n",
              "</table>\n",
              "</div>"
            ],
            "text/plain": [
              "        loan_id source       financial_institution  interest_rate  \\\n",
              "0  268055008619      Z  Turner, Baldwin and Rhodes          4.250   \n",
              "1  672831657627      Y  Swanson, Newton and Miller          4.875   \n",
              "2  742515242108      Z              Thornton-Davis          3.250   \n",
              "3  601385667462      X                       OTHER          4.750   \n",
              "4  273870029961      X                       OTHER          4.750   \n",
              "\n",
              "   unpaid_principal_bal  loan_term origination_date first_payment_date  \\\n",
              "0                214000        360       2012-03-01            05/2012   \n",
              "1                144000        360       2012-01-01            03/2012   \n",
              "2                366000        180       2012-01-01            03/2012   \n",
              "3                135000        360       2012-02-01            04/2012   \n",
              "4                124000        360       2012-02-01            04/2012   \n",
              "\n",
              "   loan_to_value  number_of_borrowers  debt_to_income_ratio  \\\n",
              "0             95                  1.0                  22.0   \n",
              "1             72                  1.0                  44.0   \n",
              "2             49                  1.0                  33.0   \n",
              "3             46                  2.0                  44.0   \n",
              "4             80                  1.0                  43.0   \n",
              "\n",
              "   borrower_credit_score loan_purpose  insurance_percent  \\\n",
              "0                  694.0          C86               30.0   \n",
              "1                  697.0          B12                0.0   \n",
              "2                  780.0          B12                0.0   \n",
              "3                  633.0          B12                0.0   \n",
              "4                  681.0          C86                0.0   \n",
              "\n",
              "   co-borrower_credit_score  insurance_type  m1  m2  m3  m4  m5  m6  m7  m8  \\\n",
              "0                       0.0             0.0   0   0   0   0   0   0   1   0   \n",
              "1                       0.0             0.0   0   0   0   0   0   0   0   0   \n",
              "2                       0.0             0.0   0   0   0   0   0   0   0   0   \n",
              "3                     638.0             0.0   0   0   0   0   0   0   0   0   \n",
              "4                       0.0             0.0   0   1   2   3   4   5   6   7   \n",
              "\n",
              "   m9  m10  m11  m12  m13  \n",
              "0   0    0    0    0    1  \n",
              "1   0    0    1    0    1  \n",
              "2   0    0    0    0    1  \n",
              "3   1    1    1    1    1  \n",
              "4   8    9   10   11    1  "
            ]
          },
          "metadata": {
            "tags": []
          },
          "execution_count": 1559
        }
      ]
    },
    {
      "cell_type": "code",
      "metadata": {
        "id": "uYi4T1L9BaHI",
        "colab_type": "code",
        "outputId": "1568d771-a298-4f5e-f82d-9d3331dea292",
        "colab": {
          "base_uri": "https://localhost:8080/",
          "height": 274
        }
      },
      "source": [
        "train_df.head()"
      ],
      "execution_count": 0,
      "outputs": [
        {
          "output_type": "execute_result",
          "data": {
            "text/html": [
              "<div>\n",
              "<style scoped>\n",
              "    .dataframe tbody tr th:only-of-type {\n",
              "        vertical-align: middle;\n",
              "    }\n",
              "\n",
              "    .dataframe tbody tr th {\n",
              "        vertical-align: top;\n",
              "    }\n",
              "\n",
              "    .dataframe thead th {\n",
              "        text-align: right;\n",
              "    }\n",
              "</style>\n",
              "<table border=\"1\" class=\"dataframe\">\n",
              "  <thead>\n",
              "    <tr style=\"text-align: right;\">\n",
              "      <th></th>\n",
              "      <th>loan_id</th>\n",
              "      <th>source</th>\n",
              "      <th>financial_institution</th>\n",
              "      <th>interest_rate</th>\n",
              "      <th>unpaid_principal_bal</th>\n",
              "      <th>loan_term</th>\n",
              "      <th>origination_date</th>\n",
              "      <th>first_payment_date</th>\n",
              "      <th>loan_to_value</th>\n",
              "      <th>number_of_borrowers</th>\n",
              "      <th>debt_to_income_ratio</th>\n",
              "      <th>borrower_credit_score</th>\n",
              "      <th>loan_purpose</th>\n",
              "      <th>insurance_percent</th>\n",
              "      <th>co-borrower_credit_score</th>\n",
              "      <th>insurance_type</th>\n",
              "      <th>m1</th>\n",
              "      <th>m2</th>\n",
              "      <th>m3</th>\n",
              "      <th>m4</th>\n",
              "      <th>m5</th>\n",
              "      <th>m6</th>\n",
              "      <th>m7</th>\n",
              "      <th>m8</th>\n",
              "      <th>m9</th>\n",
              "      <th>m10</th>\n",
              "      <th>m11</th>\n",
              "      <th>m12</th>\n",
              "      <th>m13</th>\n",
              "    </tr>\n",
              "  </thead>\n",
              "  <tbody>\n",
              "    <tr>\n",
              "      <th>0</th>\n",
              "      <td>268055008619</td>\n",
              "      <td>Z</td>\n",
              "      <td>Turner, Baldwin and Rhodes</td>\n",
              "      <td>4.250</td>\n",
              "      <td>214000</td>\n",
              "      <td>360</td>\n",
              "      <td>2012-03-01</td>\n",
              "      <td>05/2012</td>\n",
              "      <td>95</td>\n",
              "      <td>1.0</td>\n",
              "      <td>22.0</td>\n",
              "      <td>694.0</td>\n",
              "      <td>C86</td>\n",
              "      <td>30.0</td>\n",
              "      <td>0.0</td>\n",
              "      <td>0.0</td>\n",
              "      <td>0</td>\n",
              "      <td>0</td>\n",
              "      <td>0</td>\n",
              "      <td>0</td>\n",
              "      <td>0</td>\n",
              "      <td>0</td>\n",
              "      <td>1</td>\n",
              "      <td>0</td>\n",
              "      <td>0</td>\n",
              "      <td>0</td>\n",
              "      <td>0</td>\n",
              "      <td>0</td>\n",
              "      <td>1</td>\n",
              "    </tr>\n",
              "    <tr>\n",
              "      <th>1</th>\n",
              "      <td>672831657627</td>\n",
              "      <td>Y</td>\n",
              "      <td>Swanson, Newton and Miller</td>\n",
              "      <td>4.875</td>\n",
              "      <td>144000</td>\n",
              "      <td>360</td>\n",
              "      <td>2012-01-01</td>\n",
              "      <td>03/2012</td>\n",
              "      <td>72</td>\n",
              "      <td>1.0</td>\n",
              "      <td>44.0</td>\n",
              "      <td>697.0</td>\n",
              "      <td>B12</td>\n",
              "      <td>0.0</td>\n",
              "      <td>0.0</td>\n",
              "      <td>0.0</td>\n",
              "      <td>0</td>\n",
              "      <td>0</td>\n",
              "      <td>0</td>\n",
              "      <td>0</td>\n",
              "      <td>0</td>\n",
              "      <td>0</td>\n",
              "      <td>0</td>\n",
              "      <td>0</td>\n",
              "      <td>0</td>\n",
              "      <td>0</td>\n",
              "      <td>1</td>\n",
              "      <td>0</td>\n",
              "      <td>1</td>\n",
              "    </tr>\n",
              "    <tr>\n",
              "      <th>2</th>\n",
              "      <td>742515242108</td>\n",
              "      <td>Z</td>\n",
              "      <td>Thornton-Davis</td>\n",
              "      <td>3.250</td>\n",
              "      <td>366000</td>\n",
              "      <td>180</td>\n",
              "      <td>2012-01-01</td>\n",
              "      <td>03/2012</td>\n",
              "      <td>49</td>\n",
              "      <td>1.0</td>\n",
              "      <td>33.0</td>\n",
              "      <td>780.0</td>\n",
              "      <td>B12</td>\n",
              "      <td>0.0</td>\n",
              "      <td>0.0</td>\n",
              "      <td>0.0</td>\n",
              "      <td>0</td>\n",
              "      <td>0</td>\n",
              "      <td>0</td>\n",
              "      <td>0</td>\n",
              "      <td>0</td>\n",
              "      <td>0</td>\n",
              "      <td>0</td>\n",
              "      <td>0</td>\n",
              "      <td>0</td>\n",
              "      <td>0</td>\n",
              "      <td>0</td>\n",
              "      <td>0</td>\n",
              "      <td>1</td>\n",
              "    </tr>\n",
              "    <tr>\n",
              "      <th>3</th>\n",
              "      <td>601385667462</td>\n",
              "      <td>X</td>\n",
              "      <td>OTHER</td>\n",
              "      <td>4.750</td>\n",
              "      <td>135000</td>\n",
              "      <td>360</td>\n",
              "      <td>2012-02-01</td>\n",
              "      <td>04/2012</td>\n",
              "      <td>46</td>\n",
              "      <td>2.0</td>\n",
              "      <td>44.0</td>\n",
              "      <td>633.0</td>\n",
              "      <td>B12</td>\n",
              "      <td>0.0</td>\n",
              "      <td>638.0</td>\n",
              "      <td>0.0</td>\n",
              "      <td>0</td>\n",
              "      <td>0</td>\n",
              "      <td>0</td>\n",
              "      <td>0</td>\n",
              "      <td>0</td>\n",
              "      <td>0</td>\n",
              "      <td>0</td>\n",
              "      <td>0</td>\n",
              "      <td>1</td>\n",
              "      <td>1</td>\n",
              "      <td>1</td>\n",
              "      <td>1</td>\n",
              "      <td>1</td>\n",
              "    </tr>\n",
              "    <tr>\n",
              "      <th>4</th>\n",
              "      <td>273870029961</td>\n",
              "      <td>X</td>\n",
              "      <td>OTHER</td>\n",
              "      <td>4.750</td>\n",
              "      <td>124000</td>\n",
              "      <td>360</td>\n",
              "      <td>2012-02-01</td>\n",
              "      <td>04/2012</td>\n",
              "      <td>80</td>\n",
              "      <td>1.0</td>\n",
              "      <td>43.0</td>\n",
              "      <td>681.0</td>\n",
              "      <td>C86</td>\n",
              "      <td>0.0</td>\n",
              "      <td>0.0</td>\n",
              "      <td>0.0</td>\n",
              "      <td>0</td>\n",
              "      <td>1</td>\n",
              "      <td>2</td>\n",
              "      <td>3</td>\n",
              "      <td>4</td>\n",
              "      <td>5</td>\n",
              "      <td>6</td>\n",
              "      <td>7</td>\n",
              "      <td>8</td>\n",
              "      <td>9</td>\n",
              "      <td>10</td>\n",
              "      <td>11</td>\n",
              "      <td>1</td>\n",
              "    </tr>\n",
              "  </tbody>\n",
              "</table>\n",
              "</div>"
            ],
            "text/plain": [
              "        loan_id source       financial_institution  interest_rate  \\\n",
              "0  268055008619      Z  Turner, Baldwin and Rhodes          4.250   \n",
              "1  672831657627      Y  Swanson, Newton and Miller          4.875   \n",
              "2  742515242108      Z              Thornton-Davis          3.250   \n",
              "3  601385667462      X                       OTHER          4.750   \n",
              "4  273870029961      X                       OTHER          4.750   \n",
              "\n",
              "   unpaid_principal_bal  loan_term origination_date first_payment_date  \\\n",
              "0                214000        360       2012-03-01            05/2012   \n",
              "1                144000        360       2012-01-01            03/2012   \n",
              "2                366000        180       2012-01-01            03/2012   \n",
              "3                135000        360       2012-02-01            04/2012   \n",
              "4                124000        360       2012-02-01            04/2012   \n",
              "\n",
              "   loan_to_value  number_of_borrowers  debt_to_income_ratio  \\\n",
              "0             95                  1.0                  22.0   \n",
              "1             72                  1.0                  44.0   \n",
              "2             49                  1.0                  33.0   \n",
              "3             46                  2.0                  44.0   \n",
              "4             80                  1.0                  43.0   \n",
              "\n",
              "   borrower_credit_score loan_purpose  insurance_percent  \\\n",
              "0                  694.0          C86               30.0   \n",
              "1                  697.0          B12                0.0   \n",
              "2                  780.0          B12                0.0   \n",
              "3                  633.0          B12                0.0   \n",
              "4                  681.0          C86                0.0   \n",
              "\n",
              "   co-borrower_credit_score  insurance_type  m1  m2  m3  m4  m5  m6  m7  m8  \\\n",
              "0                       0.0             0.0   0   0   0   0   0   0   1   0   \n",
              "1                       0.0             0.0   0   0   0   0   0   0   0   0   \n",
              "2                       0.0             0.0   0   0   0   0   0   0   0   0   \n",
              "3                     638.0             0.0   0   0   0   0   0   0   0   0   \n",
              "4                       0.0             0.0   0   1   2   3   4   5   6   7   \n",
              "\n",
              "   m9  m10  m11  m12  m13  \n",
              "0   0    0    0    0    1  \n",
              "1   0    0    1    0    1  \n",
              "2   0    0    0    0    1  \n",
              "3   1    1    1    1    1  \n",
              "4   8    9   10   11    1  "
            ]
          },
          "metadata": {
            "tags": []
          },
          "execution_count": 1561
        }
      ]
    },
    {
      "cell_type": "code",
      "metadata": {
        "id": "Kg6WEydABek9",
        "colab_type": "code",
        "outputId": "7e8a2c8b-66c0-4eda-852b-bacda659e9c4",
        "colab": {
          "base_uri": "https://localhost:8080/",
          "height": 537
        }
      },
      "source": [
        "train_df.isnull().sum()"
      ],
      "execution_count": 0,
      "outputs": [
        {
          "output_type": "execute_result",
          "data": {
            "text/plain": [
              "loan_id                     0\n",
              "source                      0\n",
              "financial_institution       0\n",
              "interest_rate               0\n",
              "unpaid_principal_bal        0\n",
              "loan_term                   0\n",
              "origination_date            0\n",
              "first_payment_date          0\n",
              "loan_to_value               0\n",
              "number_of_borrowers         0\n",
              "debt_to_income_ratio        0\n",
              "borrower_credit_score       0\n",
              "loan_purpose                0\n",
              "insurance_percent           0\n",
              "co-borrower_credit_score    0\n",
              "insurance_type              0\n",
              "m1                          0\n",
              "m2                          0\n",
              "m3                          0\n",
              "m4                          0\n",
              "m5                          0\n",
              "m6                          0\n",
              "m7                          0\n",
              "m8                          0\n",
              "m9                          0\n",
              "m10                         0\n",
              "m11                         0\n",
              "m12                         0\n",
              "m13                         0\n",
              "dtype: int64"
            ]
          },
          "metadata": {
            "tags": []
          },
          "execution_count": 1562
        }
      ]
    },
    {
      "cell_type": "code",
      "metadata": {
        "id": "hmrCh94dBi7W",
        "colab_type": "code",
        "outputId": "9d7f339e-e0c3-428f-bc0e-650a165b19db",
        "colab": {
          "base_uri": "https://localhost:8080/",
          "height": 520
        }
      },
      "source": [
        "test_df.isnull().sum()"
      ],
      "execution_count": 0,
      "outputs": [
        {
          "output_type": "execute_result",
          "data": {
            "text/plain": [
              "loan_id                     0\n",
              "source                      0\n",
              "financial_institution       0\n",
              "interest_rate               0\n",
              "unpaid_principal_bal        0\n",
              "loan_term                   0\n",
              "origination_date            0\n",
              "first_payment_date          0\n",
              "loan_to_value               0\n",
              "number_of_borrowers         0\n",
              "debt_to_income_ratio        0\n",
              "borrower_credit_score       0\n",
              "loan_purpose                0\n",
              "insurance_percent           0\n",
              "co-borrower_credit_score    0\n",
              "insurance_type              0\n",
              "m1                          0\n",
              "m2                          0\n",
              "m3                          0\n",
              "m4                          0\n",
              "m5                          0\n",
              "m6                          0\n",
              "m7                          0\n",
              "m8                          0\n",
              "m9                          0\n",
              "m10                         0\n",
              "m11                         0\n",
              "m12                         0\n",
              "dtype: int64"
            ]
          },
          "metadata": {
            "tags": []
          },
          "execution_count": 1563
        }
      ]
    },
    {
      "cell_type": "code",
      "metadata": {
        "id": "4gEilo0EDAwd",
        "colab_type": "code",
        "outputId": "c1e74237-7e35-4c12-c2d9-dca7aaad9137",
        "colab": {
          "base_uri": "https://localhost:8080/",
          "height": 239
        }
      },
      "source": [
        "test_df.head()"
      ],
      "execution_count": 0,
      "outputs": [
        {
          "output_type": "execute_result",
          "data": {
            "text/html": [
              "<div>\n",
              "<style scoped>\n",
              "    .dataframe tbody tr th:only-of-type {\n",
              "        vertical-align: middle;\n",
              "    }\n",
              "\n",
              "    .dataframe tbody tr th {\n",
              "        vertical-align: top;\n",
              "    }\n",
              "\n",
              "    .dataframe thead th {\n",
              "        text-align: right;\n",
              "    }\n",
              "</style>\n",
              "<table border=\"1\" class=\"dataframe\">\n",
              "  <thead>\n",
              "    <tr style=\"text-align: right;\">\n",
              "      <th></th>\n",
              "      <th>loan_id</th>\n",
              "      <th>source</th>\n",
              "      <th>financial_institution</th>\n",
              "      <th>interest_rate</th>\n",
              "      <th>unpaid_principal_bal</th>\n",
              "      <th>loan_term</th>\n",
              "      <th>origination_date</th>\n",
              "      <th>first_payment_date</th>\n",
              "      <th>loan_to_value</th>\n",
              "      <th>number_of_borrowers</th>\n",
              "      <th>debt_to_income_ratio</th>\n",
              "      <th>borrower_credit_score</th>\n",
              "      <th>loan_purpose</th>\n",
              "      <th>insurance_percent</th>\n",
              "      <th>co-borrower_credit_score</th>\n",
              "      <th>insurance_type</th>\n",
              "      <th>m1</th>\n",
              "      <th>m2</th>\n",
              "      <th>m3</th>\n",
              "      <th>m4</th>\n",
              "      <th>m5</th>\n",
              "      <th>m6</th>\n",
              "      <th>m7</th>\n",
              "      <th>m8</th>\n",
              "      <th>m9</th>\n",
              "      <th>m10</th>\n",
              "      <th>m11</th>\n",
              "      <th>m12</th>\n",
              "    </tr>\n",
              "  </thead>\n",
              "  <tbody>\n",
              "    <tr>\n",
              "      <th>0</th>\n",
              "      <td>1</td>\n",
              "      <td>Y</td>\n",
              "      <td>Browning-Hart</td>\n",
              "      <td>3.875</td>\n",
              "      <td>417000</td>\n",
              "      <td>360</td>\n",
              "      <td>01/02/12</td>\n",
              "      <td>Apr-12</td>\n",
              "      <td>75</td>\n",
              "      <td>1</td>\n",
              "      <td>20</td>\n",
              "      <td>790</td>\n",
              "      <td>A23</td>\n",
              "      <td>0</td>\n",
              "      <td>0</td>\n",
              "      <td>0</td>\n",
              "      <td>0</td>\n",
              "      <td>0</td>\n",
              "      <td>0</td>\n",
              "      <td>0</td>\n",
              "      <td>0</td>\n",
              "      <td>0</td>\n",
              "      <td>0</td>\n",
              "      <td>0</td>\n",
              "      <td>0</td>\n",
              "      <td>0</td>\n",
              "      <td>0</td>\n",
              "      <td>0</td>\n",
              "    </tr>\n",
              "    <tr>\n",
              "      <th>1</th>\n",
              "      <td>2</td>\n",
              "      <td>X</td>\n",
              "      <td>OTHER</td>\n",
              "      <td>4.500</td>\n",
              "      <td>113000</td>\n",
              "      <td>360</td>\n",
              "      <td>01/02/12</td>\n",
              "      <td>Apr-12</td>\n",
              "      <td>80</td>\n",
              "      <td>2</td>\n",
              "      <td>33</td>\n",
              "      <td>793</td>\n",
              "      <td>C86</td>\n",
              "      <td>0</td>\n",
              "      <td>784</td>\n",
              "      <td>0</td>\n",
              "      <td>0</td>\n",
              "      <td>0</td>\n",
              "      <td>0</td>\n",
              "      <td>0</td>\n",
              "      <td>0</td>\n",
              "      <td>0</td>\n",
              "      <td>0</td>\n",
              "      <td>0</td>\n",
              "      <td>0</td>\n",
              "      <td>0</td>\n",
              "      <td>0</td>\n",
              "      <td>0</td>\n",
              "    </tr>\n",
              "    <tr>\n",
              "      <th>2</th>\n",
              "      <td>3</td>\n",
              "      <td>Y</td>\n",
              "      <td>OTHER</td>\n",
              "      <td>4.500</td>\n",
              "      <td>72000</td>\n",
              "      <td>360</td>\n",
              "      <td>01/01/12</td>\n",
              "      <td>Mar-12</td>\n",
              "      <td>75</td>\n",
              "      <td>1</td>\n",
              "      <td>34</td>\n",
              "      <td>710</td>\n",
              "      <td>C86</td>\n",
              "      <td>0</td>\n",
              "      <td>0</td>\n",
              "      <td>0</td>\n",
              "      <td>0</td>\n",
              "      <td>0</td>\n",
              "      <td>0</td>\n",
              "      <td>0</td>\n",
              "      <td>0</td>\n",
              "      <td>0</td>\n",
              "      <td>0</td>\n",
              "      <td>0</td>\n",
              "      <td>0</td>\n",
              "      <td>0</td>\n",
              "      <td>0</td>\n",
              "      <td>0</td>\n",
              "    </tr>\n",
              "    <tr>\n",
              "      <th>3</th>\n",
              "      <td>4</td>\n",
              "      <td>X</td>\n",
              "      <td>Miller, Mcclure and Allen</td>\n",
              "      <td>4.125</td>\n",
              "      <td>123000</td>\n",
              "      <td>180</td>\n",
              "      <td>01/02/12</td>\n",
              "      <td>Apr-12</td>\n",
              "      <td>41</td>\n",
              "      <td>2</td>\n",
              "      <td>24</td>\n",
              "      <td>798</td>\n",
              "      <td>A23</td>\n",
              "      <td>0</td>\n",
              "      <td>813</td>\n",
              "      <td>0</td>\n",
              "      <td>0</td>\n",
              "      <td>0</td>\n",
              "      <td>0</td>\n",
              "      <td>0</td>\n",
              "      <td>0</td>\n",
              "      <td>0</td>\n",
              "      <td>0</td>\n",
              "      <td>0</td>\n",
              "      <td>0</td>\n",
              "      <td>0</td>\n",
              "      <td>0</td>\n",
              "      <td>0</td>\n",
              "    </tr>\n",
              "    <tr>\n",
              "      <th>4</th>\n",
              "      <td>5</td>\n",
              "      <td>X</td>\n",
              "      <td>Browning-Hart</td>\n",
              "      <td>3.250</td>\n",
              "      <td>166000</td>\n",
              "      <td>180</td>\n",
              "      <td>01/02/12</td>\n",
              "      <td>Apr-12</td>\n",
              "      <td>53</td>\n",
              "      <td>2</td>\n",
              "      <td>12</td>\n",
              "      <td>767</td>\n",
              "      <td>A23</td>\n",
              "      <td>0</td>\n",
              "      <td>768</td>\n",
              "      <td>0</td>\n",
              "      <td>0</td>\n",
              "      <td>0</td>\n",
              "      <td>0</td>\n",
              "      <td>0</td>\n",
              "      <td>0</td>\n",
              "      <td>0</td>\n",
              "      <td>0</td>\n",
              "      <td>0</td>\n",
              "      <td>0</td>\n",
              "      <td>0</td>\n",
              "      <td>0</td>\n",
              "      <td>0</td>\n",
              "    </tr>\n",
              "  </tbody>\n",
              "</table>\n",
              "</div>"
            ],
            "text/plain": [
              "   loan_id source      financial_institution  interest_rate  \\\n",
              "0        1      Y              Browning-Hart          3.875   \n",
              "1        2      X                      OTHER          4.500   \n",
              "2        3      Y                      OTHER          4.500   \n",
              "3        4      X  Miller, Mcclure and Allen          4.125   \n",
              "4        5      X              Browning-Hart          3.250   \n",
              "\n",
              "   unpaid_principal_bal  loan_term origination_date first_payment_date  \\\n",
              "0                417000        360         01/02/12             Apr-12   \n",
              "1                113000        360         01/02/12             Apr-12   \n",
              "2                 72000        360         01/01/12             Mar-12   \n",
              "3                123000        180         01/02/12             Apr-12   \n",
              "4                166000        180         01/02/12             Apr-12   \n",
              "\n",
              "   loan_to_value  number_of_borrowers  debt_to_income_ratio  \\\n",
              "0             75                    1                    20   \n",
              "1             80                    2                    33   \n",
              "2             75                    1                    34   \n",
              "3             41                    2                    24   \n",
              "4             53                    2                    12   \n",
              "\n",
              "   borrower_credit_score loan_purpose  insurance_percent  \\\n",
              "0                    790          A23                  0   \n",
              "1                    793          C86                  0   \n",
              "2                    710          C86                  0   \n",
              "3                    798          A23                  0   \n",
              "4                    767          A23                  0   \n",
              "\n",
              "   co-borrower_credit_score  insurance_type  m1  m2  m3  m4  m5  m6  m7  m8  \\\n",
              "0                         0               0   0   0   0   0   0   0   0   0   \n",
              "1                       784               0   0   0   0   0   0   0   0   0   \n",
              "2                         0               0   0   0   0   0   0   0   0   0   \n",
              "3                       813               0   0   0   0   0   0   0   0   0   \n",
              "4                       768               0   0   0   0   0   0   0   0   0   \n",
              "\n",
              "   m9  m10  m11  m12  \n",
              "0   0    0    0    0  \n",
              "1   0    0    0    0  \n",
              "2   0    0    0    0  \n",
              "3   0    0    0    0  \n",
              "4   0    0    0    0  "
            ]
          },
          "metadata": {
            "tags": []
          },
          "execution_count": 1564
        }
      ]
    },
    {
      "cell_type": "code",
      "metadata": {
        "id": "yoqT1WvzD4tM",
        "colab_type": "code",
        "colab": {}
      },
      "source": [
        "a = test_df[\"origination_date\"].str.split(\"/\", n = 2, expand = True) "
      ],
      "execution_count": 0,
      "outputs": []
    },
    {
      "cell_type": "code",
      "metadata": {
        "id": "JZ0NOMOVEG2M",
        "colab_type": "code",
        "colab": {}
      },
      "source": [
        "test_df[\"origination_date_month\"] = a[1]"
      ],
      "execution_count": 0,
      "outputs": []
    },
    {
      "cell_type": "code",
      "metadata": {
        "id": "Na5UNQIMD9qN",
        "colab_type": "code",
        "outputId": "9cb116e9-e53b-4bac-c4f9-65c51c727850",
        "colab": {
          "base_uri": "https://localhost:8080/",
          "height": 239
        }
      },
      "source": [
        "test_df.head()"
      ],
      "execution_count": 0,
      "outputs": [
        {
          "output_type": "execute_result",
          "data": {
            "text/html": [
              "<div>\n",
              "<style scoped>\n",
              "    .dataframe tbody tr th:only-of-type {\n",
              "        vertical-align: middle;\n",
              "    }\n",
              "\n",
              "    .dataframe tbody tr th {\n",
              "        vertical-align: top;\n",
              "    }\n",
              "\n",
              "    .dataframe thead th {\n",
              "        text-align: right;\n",
              "    }\n",
              "</style>\n",
              "<table border=\"1\" class=\"dataframe\">\n",
              "  <thead>\n",
              "    <tr style=\"text-align: right;\">\n",
              "      <th></th>\n",
              "      <th>loan_id</th>\n",
              "      <th>source</th>\n",
              "      <th>financial_institution</th>\n",
              "      <th>interest_rate</th>\n",
              "      <th>unpaid_principal_bal</th>\n",
              "      <th>loan_term</th>\n",
              "      <th>origination_date</th>\n",
              "      <th>first_payment_date</th>\n",
              "      <th>loan_to_value</th>\n",
              "      <th>number_of_borrowers</th>\n",
              "      <th>debt_to_income_ratio</th>\n",
              "      <th>borrower_credit_score</th>\n",
              "      <th>loan_purpose</th>\n",
              "      <th>insurance_percent</th>\n",
              "      <th>co-borrower_credit_score</th>\n",
              "      <th>insurance_type</th>\n",
              "      <th>m1</th>\n",
              "      <th>m2</th>\n",
              "      <th>m3</th>\n",
              "      <th>m4</th>\n",
              "      <th>m5</th>\n",
              "      <th>m6</th>\n",
              "      <th>m7</th>\n",
              "      <th>m8</th>\n",
              "      <th>m9</th>\n",
              "      <th>m10</th>\n",
              "      <th>m11</th>\n",
              "      <th>m12</th>\n",
              "      <th>origination_date_month</th>\n",
              "    </tr>\n",
              "  </thead>\n",
              "  <tbody>\n",
              "    <tr>\n",
              "      <th>0</th>\n",
              "      <td>1</td>\n",
              "      <td>Y</td>\n",
              "      <td>Browning-Hart</td>\n",
              "      <td>3.875</td>\n",
              "      <td>417000</td>\n",
              "      <td>360</td>\n",
              "      <td>01/02/12</td>\n",
              "      <td>Apr-12</td>\n",
              "      <td>75</td>\n",
              "      <td>1</td>\n",
              "      <td>20</td>\n",
              "      <td>790</td>\n",
              "      <td>A23</td>\n",
              "      <td>0</td>\n",
              "      <td>0</td>\n",
              "      <td>0</td>\n",
              "      <td>0</td>\n",
              "      <td>0</td>\n",
              "      <td>0</td>\n",
              "      <td>0</td>\n",
              "      <td>0</td>\n",
              "      <td>0</td>\n",
              "      <td>0</td>\n",
              "      <td>0</td>\n",
              "      <td>0</td>\n",
              "      <td>0</td>\n",
              "      <td>0</td>\n",
              "      <td>0</td>\n",
              "      <td>02</td>\n",
              "    </tr>\n",
              "    <tr>\n",
              "      <th>1</th>\n",
              "      <td>2</td>\n",
              "      <td>X</td>\n",
              "      <td>OTHER</td>\n",
              "      <td>4.500</td>\n",
              "      <td>113000</td>\n",
              "      <td>360</td>\n",
              "      <td>01/02/12</td>\n",
              "      <td>Apr-12</td>\n",
              "      <td>80</td>\n",
              "      <td>2</td>\n",
              "      <td>33</td>\n",
              "      <td>793</td>\n",
              "      <td>C86</td>\n",
              "      <td>0</td>\n",
              "      <td>784</td>\n",
              "      <td>0</td>\n",
              "      <td>0</td>\n",
              "      <td>0</td>\n",
              "      <td>0</td>\n",
              "      <td>0</td>\n",
              "      <td>0</td>\n",
              "      <td>0</td>\n",
              "      <td>0</td>\n",
              "      <td>0</td>\n",
              "      <td>0</td>\n",
              "      <td>0</td>\n",
              "      <td>0</td>\n",
              "      <td>0</td>\n",
              "      <td>02</td>\n",
              "    </tr>\n",
              "    <tr>\n",
              "      <th>2</th>\n",
              "      <td>3</td>\n",
              "      <td>Y</td>\n",
              "      <td>OTHER</td>\n",
              "      <td>4.500</td>\n",
              "      <td>72000</td>\n",
              "      <td>360</td>\n",
              "      <td>01/01/12</td>\n",
              "      <td>Mar-12</td>\n",
              "      <td>75</td>\n",
              "      <td>1</td>\n",
              "      <td>34</td>\n",
              "      <td>710</td>\n",
              "      <td>C86</td>\n",
              "      <td>0</td>\n",
              "      <td>0</td>\n",
              "      <td>0</td>\n",
              "      <td>0</td>\n",
              "      <td>0</td>\n",
              "      <td>0</td>\n",
              "      <td>0</td>\n",
              "      <td>0</td>\n",
              "      <td>0</td>\n",
              "      <td>0</td>\n",
              "      <td>0</td>\n",
              "      <td>0</td>\n",
              "      <td>0</td>\n",
              "      <td>0</td>\n",
              "      <td>0</td>\n",
              "      <td>01</td>\n",
              "    </tr>\n",
              "    <tr>\n",
              "      <th>3</th>\n",
              "      <td>4</td>\n",
              "      <td>X</td>\n",
              "      <td>Miller, Mcclure and Allen</td>\n",
              "      <td>4.125</td>\n",
              "      <td>123000</td>\n",
              "      <td>180</td>\n",
              "      <td>01/02/12</td>\n",
              "      <td>Apr-12</td>\n",
              "      <td>41</td>\n",
              "      <td>2</td>\n",
              "      <td>24</td>\n",
              "      <td>798</td>\n",
              "      <td>A23</td>\n",
              "      <td>0</td>\n",
              "      <td>813</td>\n",
              "      <td>0</td>\n",
              "      <td>0</td>\n",
              "      <td>0</td>\n",
              "      <td>0</td>\n",
              "      <td>0</td>\n",
              "      <td>0</td>\n",
              "      <td>0</td>\n",
              "      <td>0</td>\n",
              "      <td>0</td>\n",
              "      <td>0</td>\n",
              "      <td>0</td>\n",
              "      <td>0</td>\n",
              "      <td>0</td>\n",
              "      <td>02</td>\n",
              "    </tr>\n",
              "    <tr>\n",
              "      <th>4</th>\n",
              "      <td>5</td>\n",
              "      <td>X</td>\n",
              "      <td>Browning-Hart</td>\n",
              "      <td>3.250</td>\n",
              "      <td>166000</td>\n",
              "      <td>180</td>\n",
              "      <td>01/02/12</td>\n",
              "      <td>Apr-12</td>\n",
              "      <td>53</td>\n",
              "      <td>2</td>\n",
              "      <td>12</td>\n",
              "      <td>767</td>\n",
              "      <td>A23</td>\n",
              "      <td>0</td>\n",
              "      <td>768</td>\n",
              "      <td>0</td>\n",
              "      <td>0</td>\n",
              "      <td>0</td>\n",
              "      <td>0</td>\n",
              "      <td>0</td>\n",
              "      <td>0</td>\n",
              "      <td>0</td>\n",
              "      <td>0</td>\n",
              "      <td>0</td>\n",
              "      <td>0</td>\n",
              "      <td>0</td>\n",
              "      <td>0</td>\n",
              "      <td>0</td>\n",
              "      <td>02</td>\n",
              "    </tr>\n",
              "  </tbody>\n",
              "</table>\n",
              "</div>"
            ],
            "text/plain": [
              "   loan_id source      financial_institution  interest_rate  \\\n",
              "0        1      Y              Browning-Hart          3.875   \n",
              "1        2      X                      OTHER          4.500   \n",
              "2        3      Y                      OTHER          4.500   \n",
              "3        4      X  Miller, Mcclure and Allen          4.125   \n",
              "4        5      X              Browning-Hart          3.250   \n",
              "\n",
              "   unpaid_principal_bal  loan_term origination_date first_payment_date  \\\n",
              "0                417000        360         01/02/12             Apr-12   \n",
              "1                113000        360         01/02/12             Apr-12   \n",
              "2                 72000        360         01/01/12             Mar-12   \n",
              "3                123000        180         01/02/12             Apr-12   \n",
              "4                166000        180         01/02/12             Apr-12   \n",
              "\n",
              "   loan_to_value  number_of_borrowers  debt_to_income_ratio  \\\n",
              "0             75                    1                    20   \n",
              "1             80                    2                    33   \n",
              "2             75                    1                    34   \n",
              "3             41                    2                    24   \n",
              "4             53                    2                    12   \n",
              "\n",
              "   borrower_credit_score loan_purpose  insurance_percent  \\\n",
              "0                    790          A23                  0   \n",
              "1                    793          C86                  0   \n",
              "2                    710          C86                  0   \n",
              "3                    798          A23                  0   \n",
              "4                    767          A23                  0   \n",
              "\n",
              "   co-borrower_credit_score  insurance_type  m1  m2  m3  m4  m5  m6  m7  m8  \\\n",
              "0                         0               0   0   0   0   0   0   0   0   0   \n",
              "1                       784               0   0   0   0   0   0   0   0   0   \n",
              "2                         0               0   0   0   0   0   0   0   0   0   \n",
              "3                       813               0   0   0   0   0   0   0   0   0   \n",
              "4                       768               0   0   0   0   0   0   0   0   0   \n",
              "\n",
              "   m9  m10  m11  m12 origination_date_month  \n",
              "0   0    0    0    0                     02  \n",
              "1   0    0    0    0                     02  \n",
              "2   0    0    0    0                     01  \n",
              "3   0    0    0    0                     02  \n",
              "4   0    0    0    0                     02  "
            ]
          },
          "metadata": {
            "tags": []
          },
          "execution_count": 1567
        }
      ]
    },
    {
      "cell_type": "code",
      "metadata": {
        "id": "I67ordZBEOmm",
        "colab_type": "code",
        "colab": {}
      },
      "source": [
        "b = test_df[\"first_payment_date\"].str.split(\"-\", n = 1, expand = True)"
      ],
      "execution_count": 0,
      "outputs": []
    },
    {
      "cell_type": "code",
      "metadata": {
        "id": "-6hKCtCfDN2U",
        "colab_type": "code",
        "outputId": "0289a576-7205-4fdf-c785-955e72ae6322",
        "colab": {
          "base_uri": "https://localhost:8080/",
          "height": 202
        }
      },
      "source": [
        "b.head()"
      ],
      "execution_count": 0,
      "outputs": [
        {
          "output_type": "execute_result",
          "data": {
            "text/html": [
              "<div>\n",
              "<style scoped>\n",
              "    .dataframe tbody tr th:only-of-type {\n",
              "        vertical-align: middle;\n",
              "    }\n",
              "\n",
              "    .dataframe tbody tr th {\n",
              "        vertical-align: top;\n",
              "    }\n",
              "\n",
              "    .dataframe thead th {\n",
              "        text-align: right;\n",
              "    }\n",
              "</style>\n",
              "<table border=\"1\" class=\"dataframe\">\n",
              "  <thead>\n",
              "    <tr style=\"text-align: right;\">\n",
              "      <th></th>\n",
              "      <th>0</th>\n",
              "      <th>1</th>\n",
              "    </tr>\n",
              "  </thead>\n",
              "  <tbody>\n",
              "    <tr>\n",
              "      <th>0</th>\n",
              "      <td>Apr</td>\n",
              "      <td>12</td>\n",
              "    </tr>\n",
              "    <tr>\n",
              "      <th>1</th>\n",
              "      <td>Apr</td>\n",
              "      <td>12</td>\n",
              "    </tr>\n",
              "    <tr>\n",
              "      <th>2</th>\n",
              "      <td>Mar</td>\n",
              "      <td>12</td>\n",
              "    </tr>\n",
              "    <tr>\n",
              "      <th>3</th>\n",
              "      <td>Apr</td>\n",
              "      <td>12</td>\n",
              "    </tr>\n",
              "    <tr>\n",
              "      <th>4</th>\n",
              "      <td>Apr</td>\n",
              "      <td>12</td>\n",
              "    </tr>\n",
              "  </tbody>\n",
              "</table>\n",
              "</div>"
            ],
            "text/plain": [
              "     0   1\n",
              "0  Apr  12\n",
              "1  Apr  12\n",
              "2  Mar  12\n",
              "3  Apr  12\n",
              "4  Apr  12"
            ]
          },
          "metadata": {
            "tags": []
          },
          "execution_count": 1569
        }
      ]
    },
    {
      "cell_type": "code",
      "metadata": {
        "id": "MihDZA0YLmrI",
        "colab_type": "code",
        "colab": {}
      },
      "source": [
        "b.columns = ['Month', 'Year']"
      ],
      "execution_count": 0,
      "outputs": []
    },
    {
      "cell_type": "code",
      "metadata": {
        "id": "jb0wnj7OLs5D",
        "colab_type": "code",
        "outputId": "29a68144-b54c-4105-ad96-a397ed43e86b",
        "colab": {
          "base_uri": "https://localhost:8080/",
          "height": 202
        }
      },
      "source": [
        "b.head()"
      ],
      "execution_count": 0,
      "outputs": [
        {
          "output_type": "execute_result",
          "data": {
            "text/html": [
              "<div>\n",
              "<style scoped>\n",
              "    .dataframe tbody tr th:only-of-type {\n",
              "        vertical-align: middle;\n",
              "    }\n",
              "\n",
              "    .dataframe tbody tr th {\n",
              "        vertical-align: top;\n",
              "    }\n",
              "\n",
              "    .dataframe thead th {\n",
              "        text-align: right;\n",
              "    }\n",
              "</style>\n",
              "<table border=\"1\" class=\"dataframe\">\n",
              "  <thead>\n",
              "    <tr style=\"text-align: right;\">\n",
              "      <th></th>\n",
              "      <th>Month</th>\n",
              "      <th>Year</th>\n",
              "    </tr>\n",
              "  </thead>\n",
              "  <tbody>\n",
              "    <tr>\n",
              "      <th>0</th>\n",
              "      <td>Apr</td>\n",
              "      <td>12</td>\n",
              "    </tr>\n",
              "    <tr>\n",
              "      <th>1</th>\n",
              "      <td>Apr</td>\n",
              "      <td>12</td>\n",
              "    </tr>\n",
              "    <tr>\n",
              "      <th>2</th>\n",
              "      <td>Mar</td>\n",
              "      <td>12</td>\n",
              "    </tr>\n",
              "    <tr>\n",
              "      <th>3</th>\n",
              "      <td>Apr</td>\n",
              "      <td>12</td>\n",
              "    </tr>\n",
              "    <tr>\n",
              "      <th>4</th>\n",
              "      <td>Apr</td>\n",
              "      <td>12</td>\n",
              "    </tr>\n",
              "  </tbody>\n",
              "</table>\n",
              "</div>"
            ],
            "text/plain": [
              "  Month Year\n",
              "0   Apr   12\n",
              "1   Apr   12\n",
              "2   Mar   12\n",
              "3   Apr   12\n",
              "4   Apr   12"
            ]
          },
          "metadata": {
            "tags": []
          },
          "execution_count": 1571
        }
      ]
    },
    {
      "cell_type": "code",
      "metadata": {
        "id": "8AeecS6pTQd6",
        "colab_type": "code",
        "outputId": "32ef245c-e194-4322-ec6a-83bcd4f90b68",
        "colab": {
          "base_uri": "https://localhost:8080/",
          "height": 104
        }
      },
      "source": [
        "b['Month'].value_counts()"
      ],
      "execution_count": 0,
      "outputs": [
        {
          "output_type": "execute_result",
          "data": {
            "text/plain": [
              "Apr    16551\n",
              "Mar    14661\n",
              "May     4510\n",
              "Feb      144\n",
              "Name: Month, dtype: int64"
            ]
          },
          "metadata": {
            "tags": []
          },
          "execution_count": 1572
        }
      ]
    },
    {
      "cell_type": "code",
      "metadata": {
        "id": "HsKree2BDt_c",
        "colab_type": "code",
        "colab": {}
      },
      "source": [
        "dict = {'Feb': 2, 'Mar' : 3, 'Apr' : 4, 'May' : 5}\n",
        "# Remap the values of the dataframe \n",
        "b.replace({\"Month\": dict},inplace=True)"
      ],
      "execution_count": 0,
      "outputs": []
    },
    {
      "cell_type": "code",
      "metadata": {
        "id": "wkbDojy4Lw59",
        "colab_type": "code",
        "outputId": "67a954ab-cae9-48c8-f851-7eb9bd31bf70",
        "colab": {
          "base_uri": "https://localhost:8080/",
          "height": 202
        }
      },
      "source": [
        "b.head()"
      ],
      "execution_count": 0,
      "outputs": [
        {
          "output_type": "execute_result",
          "data": {
            "text/html": [
              "<div>\n",
              "<style scoped>\n",
              "    .dataframe tbody tr th:only-of-type {\n",
              "        vertical-align: middle;\n",
              "    }\n",
              "\n",
              "    .dataframe tbody tr th {\n",
              "        vertical-align: top;\n",
              "    }\n",
              "\n",
              "    .dataframe thead th {\n",
              "        text-align: right;\n",
              "    }\n",
              "</style>\n",
              "<table border=\"1\" class=\"dataframe\">\n",
              "  <thead>\n",
              "    <tr style=\"text-align: right;\">\n",
              "      <th></th>\n",
              "      <th>Month</th>\n",
              "      <th>Year</th>\n",
              "    </tr>\n",
              "  </thead>\n",
              "  <tbody>\n",
              "    <tr>\n",
              "      <th>0</th>\n",
              "      <td>4</td>\n",
              "      <td>12</td>\n",
              "    </tr>\n",
              "    <tr>\n",
              "      <th>1</th>\n",
              "      <td>4</td>\n",
              "      <td>12</td>\n",
              "    </tr>\n",
              "    <tr>\n",
              "      <th>2</th>\n",
              "      <td>3</td>\n",
              "      <td>12</td>\n",
              "    </tr>\n",
              "    <tr>\n",
              "      <th>3</th>\n",
              "      <td>4</td>\n",
              "      <td>12</td>\n",
              "    </tr>\n",
              "    <tr>\n",
              "      <th>4</th>\n",
              "      <td>4</td>\n",
              "      <td>12</td>\n",
              "    </tr>\n",
              "  </tbody>\n",
              "</table>\n",
              "</div>"
            ],
            "text/plain": [
              "   Month Year\n",
              "0      4   12\n",
              "1      4   12\n",
              "2      3   12\n",
              "3      4   12\n",
              "4      4   12"
            ]
          },
          "metadata": {
            "tags": []
          },
          "execution_count": 1574
        }
      ]
    },
    {
      "cell_type": "code",
      "metadata": {
        "id": "DP7SiE7iMUVk",
        "colab_type": "code",
        "colab": {}
      },
      "source": [
        "test_df['first_payment_date_month'] = b['Month']"
      ],
      "execution_count": 0,
      "outputs": []
    },
    {
      "cell_type": "code",
      "metadata": {
        "id": "bnH9JMcJMcAh",
        "colab_type": "code",
        "outputId": "12d6e56e-58eb-4c5a-ddfe-89582f69f40a",
        "colab": {
          "base_uri": "https://localhost:8080/",
          "height": 239
        }
      },
      "source": [
        "test_df.head()"
      ],
      "execution_count": 0,
      "outputs": [
        {
          "output_type": "execute_result",
          "data": {
            "text/html": [
              "<div>\n",
              "<style scoped>\n",
              "    .dataframe tbody tr th:only-of-type {\n",
              "        vertical-align: middle;\n",
              "    }\n",
              "\n",
              "    .dataframe tbody tr th {\n",
              "        vertical-align: top;\n",
              "    }\n",
              "\n",
              "    .dataframe thead th {\n",
              "        text-align: right;\n",
              "    }\n",
              "</style>\n",
              "<table border=\"1\" class=\"dataframe\">\n",
              "  <thead>\n",
              "    <tr style=\"text-align: right;\">\n",
              "      <th></th>\n",
              "      <th>loan_id</th>\n",
              "      <th>source</th>\n",
              "      <th>financial_institution</th>\n",
              "      <th>interest_rate</th>\n",
              "      <th>unpaid_principal_bal</th>\n",
              "      <th>loan_term</th>\n",
              "      <th>origination_date</th>\n",
              "      <th>first_payment_date</th>\n",
              "      <th>loan_to_value</th>\n",
              "      <th>number_of_borrowers</th>\n",
              "      <th>debt_to_income_ratio</th>\n",
              "      <th>borrower_credit_score</th>\n",
              "      <th>loan_purpose</th>\n",
              "      <th>insurance_percent</th>\n",
              "      <th>co-borrower_credit_score</th>\n",
              "      <th>insurance_type</th>\n",
              "      <th>m1</th>\n",
              "      <th>m2</th>\n",
              "      <th>m3</th>\n",
              "      <th>m4</th>\n",
              "      <th>m5</th>\n",
              "      <th>m6</th>\n",
              "      <th>m7</th>\n",
              "      <th>m8</th>\n",
              "      <th>m9</th>\n",
              "      <th>m10</th>\n",
              "      <th>m11</th>\n",
              "      <th>m12</th>\n",
              "      <th>origination_date_month</th>\n",
              "      <th>first_payment_date_month</th>\n",
              "    </tr>\n",
              "  </thead>\n",
              "  <tbody>\n",
              "    <tr>\n",
              "      <th>0</th>\n",
              "      <td>1</td>\n",
              "      <td>Y</td>\n",
              "      <td>Browning-Hart</td>\n",
              "      <td>3.875</td>\n",
              "      <td>417000</td>\n",
              "      <td>360</td>\n",
              "      <td>01/02/12</td>\n",
              "      <td>Apr-12</td>\n",
              "      <td>75</td>\n",
              "      <td>1</td>\n",
              "      <td>20</td>\n",
              "      <td>790</td>\n",
              "      <td>A23</td>\n",
              "      <td>0</td>\n",
              "      <td>0</td>\n",
              "      <td>0</td>\n",
              "      <td>0</td>\n",
              "      <td>0</td>\n",
              "      <td>0</td>\n",
              "      <td>0</td>\n",
              "      <td>0</td>\n",
              "      <td>0</td>\n",
              "      <td>0</td>\n",
              "      <td>0</td>\n",
              "      <td>0</td>\n",
              "      <td>0</td>\n",
              "      <td>0</td>\n",
              "      <td>0</td>\n",
              "      <td>02</td>\n",
              "      <td>4</td>\n",
              "    </tr>\n",
              "    <tr>\n",
              "      <th>1</th>\n",
              "      <td>2</td>\n",
              "      <td>X</td>\n",
              "      <td>OTHER</td>\n",
              "      <td>4.500</td>\n",
              "      <td>113000</td>\n",
              "      <td>360</td>\n",
              "      <td>01/02/12</td>\n",
              "      <td>Apr-12</td>\n",
              "      <td>80</td>\n",
              "      <td>2</td>\n",
              "      <td>33</td>\n",
              "      <td>793</td>\n",
              "      <td>C86</td>\n",
              "      <td>0</td>\n",
              "      <td>784</td>\n",
              "      <td>0</td>\n",
              "      <td>0</td>\n",
              "      <td>0</td>\n",
              "      <td>0</td>\n",
              "      <td>0</td>\n",
              "      <td>0</td>\n",
              "      <td>0</td>\n",
              "      <td>0</td>\n",
              "      <td>0</td>\n",
              "      <td>0</td>\n",
              "      <td>0</td>\n",
              "      <td>0</td>\n",
              "      <td>0</td>\n",
              "      <td>02</td>\n",
              "      <td>4</td>\n",
              "    </tr>\n",
              "    <tr>\n",
              "      <th>2</th>\n",
              "      <td>3</td>\n",
              "      <td>Y</td>\n",
              "      <td>OTHER</td>\n",
              "      <td>4.500</td>\n",
              "      <td>72000</td>\n",
              "      <td>360</td>\n",
              "      <td>01/01/12</td>\n",
              "      <td>Mar-12</td>\n",
              "      <td>75</td>\n",
              "      <td>1</td>\n",
              "      <td>34</td>\n",
              "      <td>710</td>\n",
              "      <td>C86</td>\n",
              "      <td>0</td>\n",
              "      <td>0</td>\n",
              "      <td>0</td>\n",
              "      <td>0</td>\n",
              "      <td>0</td>\n",
              "      <td>0</td>\n",
              "      <td>0</td>\n",
              "      <td>0</td>\n",
              "      <td>0</td>\n",
              "      <td>0</td>\n",
              "      <td>0</td>\n",
              "      <td>0</td>\n",
              "      <td>0</td>\n",
              "      <td>0</td>\n",
              "      <td>0</td>\n",
              "      <td>01</td>\n",
              "      <td>3</td>\n",
              "    </tr>\n",
              "    <tr>\n",
              "      <th>3</th>\n",
              "      <td>4</td>\n",
              "      <td>X</td>\n",
              "      <td>Miller, Mcclure and Allen</td>\n",
              "      <td>4.125</td>\n",
              "      <td>123000</td>\n",
              "      <td>180</td>\n",
              "      <td>01/02/12</td>\n",
              "      <td>Apr-12</td>\n",
              "      <td>41</td>\n",
              "      <td>2</td>\n",
              "      <td>24</td>\n",
              "      <td>798</td>\n",
              "      <td>A23</td>\n",
              "      <td>0</td>\n",
              "      <td>813</td>\n",
              "      <td>0</td>\n",
              "      <td>0</td>\n",
              "      <td>0</td>\n",
              "      <td>0</td>\n",
              "      <td>0</td>\n",
              "      <td>0</td>\n",
              "      <td>0</td>\n",
              "      <td>0</td>\n",
              "      <td>0</td>\n",
              "      <td>0</td>\n",
              "      <td>0</td>\n",
              "      <td>0</td>\n",
              "      <td>0</td>\n",
              "      <td>02</td>\n",
              "      <td>4</td>\n",
              "    </tr>\n",
              "    <tr>\n",
              "      <th>4</th>\n",
              "      <td>5</td>\n",
              "      <td>X</td>\n",
              "      <td>Browning-Hart</td>\n",
              "      <td>3.250</td>\n",
              "      <td>166000</td>\n",
              "      <td>180</td>\n",
              "      <td>01/02/12</td>\n",
              "      <td>Apr-12</td>\n",
              "      <td>53</td>\n",
              "      <td>2</td>\n",
              "      <td>12</td>\n",
              "      <td>767</td>\n",
              "      <td>A23</td>\n",
              "      <td>0</td>\n",
              "      <td>768</td>\n",
              "      <td>0</td>\n",
              "      <td>0</td>\n",
              "      <td>0</td>\n",
              "      <td>0</td>\n",
              "      <td>0</td>\n",
              "      <td>0</td>\n",
              "      <td>0</td>\n",
              "      <td>0</td>\n",
              "      <td>0</td>\n",
              "      <td>0</td>\n",
              "      <td>0</td>\n",
              "      <td>0</td>\n",
              "      <td>0</td>\n",
              "      <td>02</td>\n",
              "      <td>4</td>\n",
              "    </tr>\n",
              "  </tbody>\n",
              "</table>\n",
              "</div>"
            ],
            "text/plain": [
              "   loan_id source      financial_institution  interest_rate  \\\n",
              "0        1      Y              Browning-Hart          3.875   \n",
              "1        2      X                      OTHER          4.500   \n",
              "2        3      Y                      OTHER          4.500   \n",
              "3        4      X  Miller, Mcclure and Allen          4.125   \n",
              "4        5      X              Browning-Hart          3.250   \n",
              "\n",
              "   unpaid_principal_bal  loan_term origination_date first_payment_date  \\\n",
              "0                417000        360         01/02/12             Apr-12   \n",
              "1                113000        360         01/02/12             Apr-12   \n",
              "2                 72000        360         01/01/12             Mar-12   \n",
              "3                123000        180         01/02/12             Apr-12   \n",
              "4                166000        180         01/02/12             Apr-12   \n",
              "\n",
              "   loan_to_value  number_of_borrowers  debt_to_income_ratio  \\\n",
              "0             75                    1                    20   \n",
              "1             80                    2                    33   \n",
              "2             75                    1                    34   \n",
              "3             41                    2                    24   \n",
              "4             53                    2                    12   \n",
              "\n",
              "   borrower_credit_score loan_purpose  insurance_percent  \\\n",
              "0                    790          A23                  0   \n",
              "1                    793          C86                  0   \n",
              "2                    710          C86                  0   \n",
              "3                    798          A23                  0   \n",
              "4                    767          A23                  0   \n",
              "\n",
              "   co-borrower_credit_score  insurance_type  m1  m2  m3  m4  m5  m6  m7  m8  \\\n",
              "0                         0               0   0   0   0   0   0   0   0   0   \n",
              "1                       784               0   0   0   0   0   0   0   0   0   \n",
              "2                         0               0   0   0   0   0   0   0   0   0   \n",
              "3                       813               0   0   0   0   0   0   0   0   0   \n",
              "4                       768               0   0   0   0   0   0   0   0   0   \n",
              "\n",
              "   m9  m10  m11  m12 origination_date_month  first_payment_date_month  \n",
              "0   0    0    0    0                     02                         4  \n",
              "1   0    0    0    0                     02                         4  \n",
              "2   0    0    0    0                     01                         3  \n",
              "3   0    0    0    0                     02                         4  \n",
              "4   0    0    0    0                     02                         4  "
            ]
          },
          "metadata": {
            "tags": []
          },
          "execution_count": 1576
        }
      ]
    },
    {
      "cell_type": "code",
      "metadata": {
        "id": "MWhKakyeMifD",
        "colab_type": "code",
        "colab": {}
      },
      "source": [
        "test_df['origination_date_month'] = test_df['origination_date_month'].apply(lambda x: int(x))\n",
        "test_df['first_payment_date_month'] = test_df['first_payment_date_month'].apply(lambda x: int(x))"
      ],
      "execution_count": 0,
      "outputs": []
    },
    {
      "cell_type": "code",
      "metadata": {
        "id": "9qVfqU6HPerM",
        "colab_type": "code",
        "colab": {}
      },
      "source": [
        "# test_df['diff_payment_months'] = test_df['first_payment_date_month'] - test_df['origination_date_month']"
      ],
      "execution_count": 0,
      "outputs": []
    },
    {
      "cell_type": "code",
      "metadata": {
        "id": "fvBHTtU9L28k",
        "colab_type": "code",
        "outputId": "0b993f79-2d67-4c5c-8b1f-1ea350db3da9",
        "colab": {
          "base_uri": "https://localhost:8080/",
          "height": 239
        }
      },
      "source": [
        "test_df.head()"
      ],
      "execution_count": 0,
      "outputs": [
        {
          "output_type": "execute_result",
          "data": {
            "text/html": [
              "<div>\n",
              "<style scoped>\n",
              "    .dataframe tbody tr th:only-of-type {\n",
              "        vertical-align: middle;\n",
              "    }\n",
              "\n",
              "    .dataframe tbody tr th {\n",
              "        vertical-align: top;\n",
              "    }\n",
              "\n",
              "    .dataframe thead th {\n",
              "        text-align: right;\n",
              "    }\n",
              "</style>\n",
              "<table border=\"1\" class=\"dataframe\">\n",
              "  <thead>\n",
              "    <tr style=\"text-align: right;\">\n",
              "      <th></th>\n",
              "      <th>loan_id</th>\n",
              "      <th>source</th>\n",
              "      <th>financial_institution</th>\n",
              "      <th>interest_rate</th>\n",
              "      <th>unpaid_principal_bal</th>\n",
              "      <th>loan_term</th>\n",
              "      <th>origination_date</th>\n",
              "      <th>first_payment_date</th>\n",
              "      <th>loan_to_value</th>\n",
              "      <th>number_of_borrowers</th>\n",
              "      <th>debt_to_income_ratio</th>\n",
              "      <th>borrower_credit_score</th>\n",
              "      <th>loan_purpose</th>\n",
              "      <th>insurance_percent</th>\n",
              "      <th>co-borrower_credit_score</th>\n",
              "      <th>insurance_type</th>\n",
              "      <th>m1</th>\n",
              "      <th>m2</th>\n",
              "      <th>m3</th>\n",
              "      <th>m4</th>\n",
              "      <th>m5</th>\n",
              "      <th>m6</th>\n",
              "      <th>m7</th>\n",
              "      <th>m8</th>\n",
              "      <th>m9</th>\n",
              "      <th>m10</th>\n",
              "      <th>m11</th>\n",
              "      <th>m12</th>\n",
              "      <th>origination_date_month</th>\n",
              "      <th>first_payment_date_month</th>\n",
              "    </tr>\n",
              "  </thead>\n",
              "  <tbody>\n",
              "    <tr>\n",
              "      <th>0</th>\n",
              "      <td>1</td>\n",
              "      <td>Y</td>\n",
              "      <td>Browning-Hart</td>\n",
              "      <td>3.875</td>\n",
              "      <td>417000</td>\n",
              "      <td>360</td>\n",
              "      <td>01/02/12</td>\n",
              "      <td>Apr-12</td>\n",
              "      <td>75</td>\n",
              "      <td>1</td>\n",
              "      <td>20</td>\n",
              "      <td>790</td>\n",
              "      <td>A23</td>\n",
              "      <td>0</td>\n",
              "      <td>0</td>\n",
              "      <td>0</td>\n",
              "      <td>0</td>\n",
              "      <td>0</td>\n",
              "      <td>0</td>\n",
              "      <td>0</td>\n",
              "      <td>0</td>\n",
              "      <td>0</td>\n",
              "      <td>0</td>\n",
              "      <td>0</td>\n",
              "      <td>0</td>\n",
              "      <td>0</td>\n",
              "      <td>0</td>\n",
              "      <td>0</td>\n",
              "      <td>2</td>\n",
              "      <td>4</td>\n",
              "    </tr>\n",
              "    <tr>\n",
              "      <th>1</th>\n",
              "      <td>2</td>\n",
              "      <td>X</td>\n",
              "      <td>OTHER</td>\n",
              "      <td>4.500</td>\n",
              "      <td>113000</td>\n",
              "      <td>360</td>\n",
              "      <td>01/02/12</td>\n",
              "      <td>Apr-12</td>\n",
              "      <td>80</td>\n",
              "      <td>2</td>\n",
              "      <td>33</td>\n",
              "      <td>793</td>\n",
              "      <td>C86</td>\n",
              "      <td>0</td>\n",
              "      <td>784</td>\n",
              "      <td>0</td>\n",
              "      <td>0</td>\n",
              "      <td>0</td>\n",
              "      <td>0</td>\n",
              "      <td>0</td>\n",
              "      <td>0</td>\n",
              "      <td>0</td>\n",
              "      <td>0</td>\n",
              "      <td>0</td>\n",
              "      <td>0</td>\n",
              "      <td>0</td>\n",
              "      <td>0</td>\n",
              "      <td>0</td>\n",
              "      <td>2</td>\n",
              "      <td>4</td>\n",
              "    </tr>\n",
              "    <tr>\n",
              "      <th>2</th>\n",
              "      <td>3</td>\n",
              "      <td>Y</td>\n",
              "      <td>OTHER</td>\n",
              "      <td>4.500</td>\n",
              "      <td>72000</td>\n",
              "      <td>360</td>\n",
              "      <td>01/01/12</td>\n",
              "      <td>Mar-12</td>\n",
              "      <td>75</td>\n",
              "      <td>1</td>\n",
              "      <td>34</td>\n",
              "      <td>710</td>\n",
              "      <td>C86</td>\n",
              "      <td>0</td>\n",
              "      <td>0</td>\n",
              "      <td>0</td>\n",
              "      <td>0</td>\n",
              "      <td>0</td>\n",
              "      <td>0</td>\n",
              "      <td>0</td>\n",
              "      <td>0</td>\n",
              "      <td>0</td>\n",
              "      <td>0</td>\n",
              "      <td>0</td>\n",
              "      <td>0</td>\n",
              "      <td>0</td>\n",
              "      <td>0</td>\n",
              "      <td>0</td>\n",
              "      <td>1</td>\n",
              "      <td>3</td>\n",
              "    </tr>\n",
              "    <tr>\n",
              "      <th>3</th>\n",
              "      <td>4</td>\n",
              "      <td>X</td>\n",
              "      <td>Miller, Mcclure and Allen</td>\n",
              "      <td>4.125</td>\n",
              "      <td>123000</td>\n",
              "      <td>180</td>\n",
              "      <td>01/02/12</td>\n",
              "      <td>Apr-12</td>\n",
              "      <td>41</td>\n",
              "      <td>2</td>\n",
              "      <td>24</td>\n",
              "      <td>798</td>\n",
              "      <td>A23</td>\n",
              "      <td>0</td>\n",
              "      <td>813</td>\n",
              "      <td>0</td>\n",
              "      <td>0</td>\n",
              "      <td>0</td>\n",
              "      <td>0</td>\n",
              "      <td>0</td>\n",
              "      <td>0</td>\n",
              "      <td>0</td>\n",
              "      <td>0</td>\n",
              "      <td>0</td>\n",
              "      <td>0</td>\n",
              "      <td>0</td>\n",
              "      <td>0</td>\n",
              "      <td>0</td>\n",
              "      <td>2</td>\n",
              "      <td>4</td>\n",
              "    </tr>\n",
              "    <tr>\n",
              "      <th>4</th>\n",
              "      <td>5</td>\n",
              "      <td>X</td>\n",
              "      <td>Browning-Hart</td>\n",
              "      <td>3.250</td>\n",
              "      <td>166000</td>\n",
              "      <td>180</td>\n",
              "      <td>01/02/12</td>\n",
              "      <td>Apr-12</td>\n",
              "      <td>53</td>\n",
              "      <td>2</td>\n",
              "      <td>12</td>\n",
              "      <td>767</td>\n",
              "      <td>A23</td>\n",
              "      <td>0</td>\n",
              "      <td>768</td>\n",
              "      <td>0</td>\n",
              "      <td>0</td>\n",
              "      <td>0</td>\n",
              "      <td>0</td>\n",
              "      <td>0</td>\n",
              "      <td>0</td>\n",
              "      <td>0</td>\n",
              "      <td>0</td>\n",
              "      <td>0</td>\n",
              "      <td>0</td>\n",
              "      <td>0</td>\n",
              "      <td>0</td>\n",
              "      <td>0</td>\n",
              "      <td>2</td>\n",
              "      <td>4</td>\n",
              "    </tr>\n",
              "  </tbody>\n",
              "</table>\n",
              "</div>"
            ],
            "text/plain": [
              "   loan_id source      financial_institution  interest_rate  \\\n",
              "0        1      Y              Browning-Hart          3.875   \n",
              "1        2      X                      OTHER          4.500   \n",
              "2        3      Y                      OTHER          4.500   \n",
              "3        4      X  Miller, Mcclure and Allen          4.125   \n",
              "4        5      X              Browning-Hart          3.250   \n",
              "\n",
              "   unpaid_principal_bal  loan_term origination_date first_payment_date  \\\n",
              "0                417000        360         01/02/12             Apr-12   \n",
              "1                113000        360         01/02/12             Apr-12   \n",
              "2                 72000        360         01/01/12             Mar-12   \n",
              "3                123000        180         01/02/12             Apr-12   \n",
              "4                166000        180         01/02/12             Apr-12   \n",
              "\n",
              "   loan_to_value  number_of_borrowers  debt_to_income_ratio  \\\n",
              "0             75                    1                    20   \n",
              "1             80                    2                    33   \n",
              "2             75                    1                    34   \n",
              "3             41                    2                    24   \n",
              "4             53                    2                    12   \n",
              "\n",
              "   borrower_credit_score loan_purpose  insurance_percent  \\\n",
              "0                    790          A23                  0   \n",
              "1                    793          C86                  0   \n",
              "2                    710          C86                  0   \n",
              "3                    798          A23                  0   \n",
              "4                    767          A23                  0   \n",
              "\n",
              "   co-borrower_credit_score  insurance_type  m1  m2  m3  m4  m5  m6  m7  m8  \\\n",
              "0                         0               0   0   0   0   0   0   0   0   0   \n",
              "1                       784               0   0   0   0   0   0   0   0   0   \n",
              "2                         0               0   0   0   0   0   0   0   0   0   \n",
              "3                       813               0   0   0   0   0   0   0   0   0   \n",
              "4                       768               0   0   0   0   0   0   0   0   0   \n",
              "\n",
              "   m9  m10  m11  m12  origination_date_month  first_payment_date_month  \n",
              "0   0    0    0    0                       2                         4  \n",
              "1   0    0    0    0                       2                         4  \n",
              "2   0    0    0    0                       1                         3  \n",
              "3   0    0    0    0                       2                         4  \n",
              "4   0    0    0    0                       2                         4  "
            ]
          },
          "metadata": {
            "tags": []
          },
          "execution_count": 1579
        }
      ]
    },
    {
      "cell_type": "code",
      "metadata": {
        "id": "oi1q5U9bDUI0",
        "colab_type": "code",
        "colab": {}
      },
      "source": [
        "new = train_df[\"origination_date\"].str.split(\"-\", n = 2, expand = True) "
      ],
      "execution_count": 0,
      "outputs": []
    },
    {
      "cell_type": "code",
      "metadata": {
        "id": "ZkfpIT9LDhOt",
        "colab_type": "code",
        "outputId": "16afb33e-fd0e-4ca8-b23d-0d1599842ee3",
        "colab": {
          "base_uri": "https://localhost:8080/",
          "height": 202
        }
      },
      "source": [
        "new.head()"
      ],
      "execution_count": 0,
      "outputs": [
        {
          "output_type": "execute_result",
          "data": {
            "text/html": [
              "<div>\n",
              "<style scoped>\n",
              "    .dataframe tbody tr th:only-of-type {\n",
              "        vertical-align: middle;\n",
              "    }\n",
              "\n",
              "    .dataframe tbody tr th {\n",
              "        vertical-align: top;\n",
              "    }\n",
              "\n",
              "    .dataframe thead th {\n",
              "        text-align: right;\n",
              "    }\n",
              "</style>\n",
              "<table border=\"1\" class=\"dataframe\">\n",
              "  <thead>\n",
              "    <tr style=\"text-align: right;\">\n",
              "      <th></th>\n",
              "      <th>0</th>\n",
              "      <th>1</th>\n",
              "      <th>2</th>\n",
              "    </tr>\n",
              "  </thead>\n",
              "  <tbody>\n",
              "    <tr>\n",
              "      <th>0</th>\n",
              "      <td>2012</td>\n",
              "      <td>03</td>\n",
              "      <td>01</td>\n",
              "    </tr>\n",
              "    <tr>\n",
              "      <th>1</th>\n",
              "      <td>2012</td>\n",
              "      <td>01</td>\n",
              "      <td>01</td>\n",
              "    </tr>\n",
              "    <tr>\n",
              "      <th>2</th>\n",
              "      <td>2012</td>\n",
              "      <td>01</td>\n",
              "      <td>01</td>\n",
              "    </tr>\n",
              "    <tr>\n",
              "      <th>3</th>\n",
              "      <td>2012</td>\n",
              "      <td>02</td>\n",
              "      <td>01</td>\n",
              "    </tr>\n",
              "    <tr>\n",
              "      <th>4</th>\n",
              "      <td>2012</td>\n",
              "      <td>02</td>\n",
              "      <td>01</td>\n",
              "    </tr>\n",
              "  </tbody>\n",
              "</table>\n",
              "</div>"
            ],
            "text/plain": [
              "      0   1   2\n",
              "0  2012  03  01\n",
              "1  2012  01  01\n",
              "2  2012  01  01\n",
              "3  2012  02  01\n",
              "4  2012  02  01"
            ]
          },
          "metadata": {
            "tags": []
          },
          "execution_count": 1581
        }
      ]
    },
    {
      "cell_type": "code",
      "metadata": {
        "id": "leX9Bw9xME0u",
        "colab_type": "code",
        "colab": {}
      },
      "source": [
        "new.columns = ['Year', 'Month', 'Day']"
      ],
      "execution_count": 0,
      "outputs": []
    },
    {
      "cell_type": "code",
      "metadata": {
        "id": "G3LpJlauMOpt",
        "colab_type": "code",
        "colab": {}
      },
      "source": [
        "train_df[\"origination_date_month\"] = new['Month']"
      ],
      "execution_count": 0,
      "outputs": []
    },
    {
      "cell_type": "code",
      "metadata": {
        "id": "mnZpujhoPFvS",
        "colab_type": "code",
        "colab": {}
      },
      "source": [
        "train_df['origination_date_month'] = train_df['origination_date_month'].apply(lambda x: int(x))"
      ],
      "execution_count": 0,
      "outputs": []
    },
    {
      "cell_type": "code",
      "metadata": {
        "id": "yoemdIpdNLkI",
        "colab_type": "code",
        "outputId": "1f8329dd-8031-4e4a-80ec-24444f3afb68",
        "colab": {
          "base_uri": "https://localhost:8080/",
          "height": 274
        }
      },
      "source": [
        "train_df.head()"
      ],
      "execution_count": 0,
      "outputs": [
        {
          "output_type": "execute_result",
          "data": {
            "text/html": [
              "<div>\n",
              "<style scoped>\n",
              "    .dataframe tbody tr th:only-of-type {\n",
              "        vertical-align: middle;\n",
              "    }\n",
              "\n",
              "    .dataframe tbody tr th {\n",
              "        vertical-align: top;\n",
              "    }\n",
              "\n",
              "    .dataframe thead th {\n",
              "        text-align: right;\n",
              "    }\n",
              "</style>\n",
              "<table border=\"1\" class=\"dataframe\">\n",
              "  <thead>\n",
              "    <tr style=\"text-align: right;\">\n",
              "      <th></th>\n",
              "      <th>loan_id</th>\n",
              "      <th>source</th>\n",
              "      <th>financial_institution</th>\n",
              "      <th>interest_rate</th>\n",
              "      <th>unpaid_principal_bal</th>\n",
              "      <th>loan_term</th>\n",
              "      <th>origination_date</th>\n",
              "      <th>first_payment_date</th>\n",
              "      <th>loan_to_value</th>\n",
              "      <th>number_of_borrowers</th>\n",
              "      <th>debt_to_income_ratio</th>\n",
              "      <th>borrower_credit_score</th>\n",
              "      <th>loan_purpose</th>\n",
              "      <th>insurance_percent</th>\n",
              "      <th>co-borrower_credit_score</th>\n",
              "      <th>insurance_type</th>\n",
              "      <th>m1</th>\n",
              "      <th>m2</th>\n",
              "      <th>m3</th>\n",
              "      <th>m4</th>\n",
              "      <th>m5</th>\n",
              "      <th>m6</th>\n",
              "      <th>m7</th>\n",
              "      <th>m8</th>\n",
              "      <th>m9</th>\n",
              "      <th>m10</th>\n",
              "      <th>m11</th>\n",
              "      <th>m12</th>\n",
              "      <th>m13</th>\n",
              "      <th>origination_date_month</th>\n",
              "    </tr>\n",
              "  </thead>\n",
              "  <tbody>\n",
              "    <tr>\n",
              "      <th>0</th>\n",
              "      <td>268055008619</td>\n",
              "      <td>Z</td>\n",
              "      <td>Turner, Baldwin and Rhodes</td>\n",
              "      <td>4.250</td>\n",
              "      <td>214000</td>\n",
              "      <td>360</td>\n",
              "      <td>2012-03-01</td>\n",
              "      <td>05/2012</td>\n",
              "      <td>95</td>\n",
              "      <td>1.0</td>\n",
              "      <td>22.0</td>\n",
              "      <td>694.0</td>\n",
              "      <td>C86</td>\n",
              "      <td>30.0</td>\n",
              "      <td>0.0</td>\n",
              "      <td>0.0</td>\n",
              "      <td>0</td>\n",
              "      <td>0</td>\n",
              "      <td>0</td>\n",
              "      <td>0</td>\n",
              "      <td>0</td>\n",
              "      <td>0</td>\n",
              "      <td>1</td>\n",
              "      <td>0</td>\n",
              "      <td>0</td>\n",
              "      <td>0</td>\n",
              "      <td>0</td>\n",
              "      <td>0</td>\n",
              "      <td>1</td>\n",
              "      <td>3</td>\n",
              "    </tr>\n",
              "    <tr>\n",
              "      <th>1</th>\n",
              "      <td>672831657627</td>\n",
              "      <td>Y</td>\n",
              "      <td>Swanson, Newton and Miller</td>\n",
              "      <td>4.875</td>\n",
              "      <td>144000</td>\n",
              "      <td>360</td>\n",
              "      <td>2012-01-01</td>\n",
              "      <td>03/2012</td>\n",
              "      <td>72</td>\n",
              "      <td>1.0</td>\n",
              "      <td>44.0</td>\n",
              "      <td>697.0</td>\n",
              "      <td>B12</td>\n",
              "      <td>0.0</td>\n",
              "      <td>0.0</td>\n",
              "      <td>0.0</td>\n",
              "      <td>0</td>\n",
              "      <td>0</td>\n",
              "      <td>0</td>\n",
              "      <td>0</td>\n",
              "      <td>0</td>\n",
              "      <td>0</td>\n",
              "      <td>0</td>\n",
              "      <td>0</td>\n",
              "      <td>0</td>\n",
              "      <td>0</td>\n",
              "      <td>1</td>\n",
              "      <td>0</td>\n",
              "      <td>1</td>\n",
              "      <td>1</td>\n",
              "    </tr>\n",
              "    <tr>\n",
              "      <th>2</th>\n",
              "      <td>742515242108</td>\n",
              "      <td>Z</td>\n",
              "      <td>Thornton-Davis</td>\n",
              "      <td>3.250</td>\n",
              "      <td>366000</td>\n",
              "      <td>180</td>\n",
              "      <td>2012-01-01</td>\n",
              "      <td>03/2012</td>\n",
              "      <td>49</td>\n",
              "      <td>1.0</td>\n",
              "      <td>33.0</td>\n",
              "      <td>780.0</td>\n",
              "      <td>B12</td>\n",
              "      <td>0.0</td>\n",
              "      <td>0.0</td>\n",
              "      <td>0.0</td>\n",
              "      <td>0</td>\n",
              "      <td>0</td>\n",
              "      <td>0</td>\n",
              "      <td>0</td>\n",
              "      <td>0</td>\n",
              "      <td>0</td>\n",
              "      <td>0</td>\n",
              "      <td>0</td>\n",
              "      <td>0</td>\n",
              "      <td>0</td>\n",
              "      <td>0</td>\n",
              "      <td>0</td>\n",
              "      <td>1</td>\n",
              "      <td>1</td>\n",
              "    </tr>\n",
              "    <tr>\n",
              "      <th>3</th>\n",
              "      <td>601385667462</td>\n",
              "      <td>X</td>\n",
              "      <td>OTHER</td>\n",
              "      <td>4.750</td>\n",
              "      <td>135000</td>\n",
              "      <td>360</td>\n",
              "      <td>2012-02-01</td>\n",
              "      <td>04/2012</td>\n",
              "      <td>46</td>\n",
              "      <td>2.0</td>\n",
              "      <td>44.0</td>\n",
              "      <td>633.0</td>\n",
              "      <td>B12</td>\n",
              "      <td>0.0</td>\n",
              "      <td>638.0</td>\n",
              "      <td>0.0</td>\n",
              "      <td>0</td>\n",
              "      <td>0</td>\n",
              "      <td>0</td>\n",
              "      <td>0</td>\n",
              "      <td>0</td>\n",
              "      <td>0</td>\n",
              "      <td>0</td>\n",
              "      <td>0</td>\n",
              "      <td>1</td>\n",
              "      <td>1</td>\n",
              "      <td>1</td>\n",
              "      <td>1</td>\n",
              "      <td>1</td>\n",
              "      <td>2</td>\n",
              "    </tr>\n",
              "    <tr>\n",
              "      <th>4</th>\n",
              "      <td>273870029961</td>\n",
              "      <td>X</td>\n",
              "      <td>OTHER</td>\n",
              "      <td>4.750</td>\n",
              "      <td>124000</td>\n",
              "      <td>360</td>\n",
              "      <td>2012-02-01</td>\n",
              "      <td>04/2012</td>\n",
              "      <td>80</td>\n",
              "      <td>1.0</td>\n",
              "      <td>43.0</td>\n",
              "      <td>681.0</td>\n",
              "      <td>C86</td>\n",
              "      <td>0.0</td>\n",
              "      <td>0.0</td>\n",
              "      <td>0.0</td>\n",
              "      <td>0</td>\n",
              "      <td>1</td>\n",
              "      <td>2</td>\n",
              "      <td>3</td>\n",
              "      <td>4</td>\n",
              "      <td>5</td>\n",
              "      <td>6</td>\n",
              "      <td>7</td>\n",
              "      <td>8</td>\n",
              "      <td>9</td>\n",
              "      <td>10</td>\n",
              "      <td>11</td>\n",
              "      <td>1</td>\n",
              "      <td>2</td>\n",
              "    </tr>\n",
              "  </tbody>\n",
              "</table>\n",
              "</div>"
            ],
            "text/plain": [
              "        loan_id source       financial_institution  interest_rate  \\\n",
              "0  268055008619      Z  Turner, Baldwin and Rhodes          4.250   \n",
              "1  672831657627      Y  Swanson, Newton and Miller          4.875   \n",
              "2  742515242108      Z              Thornton-Davis          3.250   \n",
              "3  601385667462      X                       OTHER          4.750   \n",
              "4  273870029961      X                       OTHER          4.750   \n",
              "\n",
              "   unpaid_principal_bal  loan_term origination_date first_payment_date  \\\n",
              "0                214000        360       2012-03-01            05/2012   \n",
              "1                144000        360       2012-01-01            03/2012   \n",
              "2                366000        180       2012-01-01            03/2012   \n",
              "3                135000        360       2012-02-01            04/2012   \n",
              "4                124000        360       2012-02-01            04/2012   \n",
              "\n",
              "   loan_to_value  number_of_borrowers  debt_to_income_ratio  \\\n",
              "0             95                  1.0                  22.0   \n",
              "1             72                  1.0                  44.0   \n",
              "2             49                  1.0                  33.0   \n",
              "3             46                  2.0                  44.0   \n",
              "4             80                  1.0                  43.0   \n",
              "\n",
              "   borrower_credit_score loan_purpose  insurance_percent  \\\n",
              "0                  694.0          C86               30.0   \n",
              "1                  697.0          B12                0.0   \n",
              "2                  780.0          B12                0.0   \n",
              "3                  633.0          B12                0.0   \n",
              "4                  681.0          C86                0.0   \n",
              "\n",
              "   co-borrower_credit_score  insurance_type  m1  m2  m3  m4  m5  m6  m7  m8  \\\n",
              "0                       0.0             0.0   0   0   0   0   0   0   1   0   \n",
              "1                       0.0             0.0   0   0   0   0   0   0   0   0   \n",
              "2                       0.0             0.0   0   0   0   0   0   0   0   0   \n",
              "3                     638.0             0.0   0   0   0   0   0   0   0   0   \n",
              "4                       0.0             0.0   0   1   2   3   4   5   6   7   \n",
              "\n",
              "   m9  m10  m11  m12  m13  origination_date_month  \n",
              "0   0    0    0    0    1                       3  \n",
              "1   0    0    1    0    1                       1  \n",
              "2   0    0    0    0    1                       1  \n",
              "3   1    1    1    1    1                       2  \n",
              "4   8    9   10   11    1                       2  "
            ]
          },
          "metadata": {
            "tags": []
          },
          "execution_count": 1585
        }
      ]
    },
    {
      "cell_type": "code",
      "metadata": {
        "id": "Cmy6V9bFNHL9",
        "colab_type": "code",
        "colab": {}
      },
      "source": [
        "new_1 = train_df[\"first_payment_date\"].str.split(\"/\", n = 1, expand = True) "
      ],
      "execution_count": 0,
      "outputs": []
    },
    {
      "cell_type": "code",
      "metadata": {
        "id": "SaXFSMnwNXNr",
        "colab_type": "code",
        "outputId": "1fe5d4a9-53fe-4d30-ef98-d831f4cca314",
        "colab": {
          "base_uri": "https://localhost:8080/",
          "height": 202
        }
      },
      "source": [
        "new_1.head()"
      ],
      "execution_count": 0,
      "outputs": [
        {
          "output_type": "execute_result",
          "data": {
            "text/html": [
              "<div>\n",
              "<style scoped>\n",
              "    .dataframe tbody tr th:only-of-type {\n",
              "        vertical-align: middle;\n",
              "    }\n",
              "\n",
              "    .dataframe tbody tr th {\n",
              "        vertical-align: top;\n",
              "    }\n",
              "\n",
              "    .dataframe thead th {\n",
              "        text-align: right;\n",
              "    }\n",
              "</style>\n",
              "<table border=\"1\" class=\"dataframe\">\n",
              "  <thead>\n",
              "    <tr style=\"text-align: right;\">\n",
              "      <th></th>\n",
              "      <th>0</th>\n",
              "      <th>1</th>\n",
              "    </tr>\n",
              "  </thead>\n",
              "  <tbody>\n",
              "    <tr>\n",
              "      <th>0</th>\n",
              "      <td>05</td>\n",
              "      <td>2012</td>\n",
              "    </tr>\n",
              "    <tr>\n",
              "      <th>1</th>\n",
              "      <td>03</td>\n",
              "      <td>2012</td>\n",
              "    </tr>\n",
              "    <tr>\n",
              "      <th>2</th>\n",
              "      <td>03</td>\n",
              "      <td>2012</td>\n",
              "    </tr>\n",
              "    <tr>\n",
              "      <th>3</th>\n",
              "      <td>04</td>\n",
              "      <td>2012</td>\n",
              "    </tr>\n",
              "    <tr>\n",
              "      <th>4</th>\n",
              "      <td>04</td>\n",
              "      <td>2012</td>\n",
              "    </tr>\n",
              "  </tbody>\n",
              "</table>\n",
              "</div>"
            ],
            "text/plain": [
              "    0     1\n",
              "0  05  2012\n",
              "1  03  2012\n",
              "2  03  2012\n",
              "3  04  2012\n",
              "4  04  2012"
            ]
          },
          "metadata": {
            "tags": []
          },
          "execution_count": 1587
        }
      ]
    },
    {
      "cell_type": "code",
      "metadata": {
        "id": "GPBYRs77NWYU",
        "colab_type": "code",
        "colab": {}
      },
      "source": [
        "new_1.columns = ['Month', 'Year']"
      ],
      "execution_count": 0,
      "outputs": []
    },
    {
      "cell_type": "code",
      "metadata": {
        "id": "xYI0ppixNevy",
        "colab_type": "code",
        "colab": {}
      },
      "source": [
        "train_df[\"first_payment_date_month\"] = new_1['Month']"
      ],
      "execution_count": 0,
      "outputs": []
    },
    {
      "cell_type": "code",
      "metadata": {
        "id": "ORddgw3yNtnS",
        "colab_type": "code",
        "colab": {}
      },
      "source": [
        "train_df['first_payment_date_month'] = train_df['first_payment_date_month'].apply(lambda x: int(x))"
      ],
      "execution_count": 0,
      "outputs": []
    },
    {
      "cell_type": "code",
      "metadata": {
        "id": "jM10htyIPTls",
        "colab_type": "code",
        "colab": {}
      },
      "source": [
        "# train_df['diff_payment_months'] = train_df['first_payment_date_month'] - train_df['origination_date_month']"
      ],
      "execution_count": 0,
      "outputs": []
    },
    {
      "cell_type": "code",
      "metadata": {
        "id": "erCOu-ytPjlo",
        "colab_type": "code",
        "colab": {}
      },
      "source": [
        "train_df.drop(['first_payment_date_month', 'origination_date_month'],axis=1,inplace=True)\n",
        "test_df.drop(['first_payment_date_month', 'origination_date_month'],axis=1,inplace=True)"
      ],
      "execution_count": 0,
      "outputs": []
    },
    {
      "cell_type": "code",
      "metadata": {
        "id": "SkkeKrElN2A-",
        "colab_type": "code",
        "outputId": "b6b8a4d4-baff-42bb-fb46-1cb40d0ba3b3",
        "colab": {
          "base_uri": "https://localhost:8080/",
          "height": 156
        }
      },
      "source": [
        "train_df.columns"
      ],
      "execution_count": 0,
      "outputs": [
        {
          "output_type": "execute_result",
          "data": {
            "text/plain": [
              "Index(['loan_id', 'source', 'financial_institution', 'interest_rate',\n",
              "       'unpaid_principal_bal', 'loan_term', 'origination_date',\n",
              "       'first_payment_date', 'loan_to_value', 'number_of_borrowers',\n",
              "       'debt_to_income_ratio', 'borrower_credit_score', 'loan_purpose',\n",
              "       'insurance_percent', 'co-borrower_credit_score', 'insurance_type', 'm1',\n",
              "       'm2', 'm3', 'm4', 'm5', 'm6', 'm7', 'm8', 'm9', 'm10', 'm11', 'm12',\n",
              "       'm13'],\n",
              "      dtype='object')"
            ]
          },
          "metadata": {
            "tags": []
          },
          "execution_count": 1593
        }
      ]
    },
    {
      "cell_type": "code",
      "metadata": {
        "id": "uhs0yyzGOYW2",
        "colab_type": "code",
        "outputId": "acff5934-0955-4f08-aa71-20226f9d1369",
        "colab": {
          "base_uri": "https://localhost:8080/",
          "height": 139
        }
      },
      "source": [
        "test_df.columns"
      ],
      "execution_count": 0,
      "outputs": [
        {
          "output_type": "execute_result",
          "data": {
            "text/plain": [
              "Index(['loan_id', 'source', 'financial_institution', 'interest_rate',\n",
              "       'unpaid_principal_bal', 'loan_term', 'origination_date',\n",
              "       'first_payment_date', 'loan_to_value', 'number_of_borrowers',\n",
              "       'debt_to_income_ratio', 'borrower_credit_score', 'loan_purpose',\n",
              "       'insurance_percent', 'co-borrower_credit_score', 'insurance_type', 'm1',\n",
              "       'm2', 'm3', 'm4', 'm5', 'm6', 'm7', 'm8', 'm9', 'm10', 'm11', 'm12'],\n",
              "      dtype='object')"
            ]
          },
          "metadata": {
            "tags": []
          },
          "execution_count": 1594
        }
      ]
    },
    {
      "cell_type": "code",
      "metadata": {
        "id": "rPGzcEbkOb6u",
        "colab_type": "code",
        "outputId": "2b7223f8-eb05-4ec1-9615-eecb90cd5ef8",
        "colab": {
          "base_uri": "https://localhost:8080/",
          "height": 274
        }
      },
      "source": [
        "train_df.head()"
      ],
      "execution_count": 0,
      "outputs": [
        {
          "output_type": "execute_result",
          "data": {
            "text/html": [
              "<div>\n",
              "<style scoped>\n",
              "    .dataframe tbody tr th:only-of-type {\n",
              "        vertical-align: middle;\n",
              "    }\n",
              "\n",
              "    .dataframe tbody tr th {\n",
              "        vertical-align: top;\n",
              "    }\n",
              "\n",
              "    .dataframe thead th {\n",
              "        text-align: right;\n",
              "    }\n",
              "</style>\n",
              "<table border=\"1\" class=\"dataframe\">\n",
              "  <thead>\n",
              "    <tr style=\"text-align: right;\">\n",
              "      <th></th>\n",
              "      <th>loan_id</th>\n",
              "      <th>source</th>\n",
              "      <th>financial_institution</th>\n",
              "      <th>interest_rate</th>\n",
              "      <th>unpaid_principal_bal</th>\n",
              "      <th>loan_term</th>\n",
              "      <th>origination_date</th>\n",
              "      <th>first_payment_date</th>\n",
              "      <th>loan_to_value</th>\n",
              "      <th>number_of_borrowers</th>\n",
              "      <th>debt_to_income_ratio</th>\n",
              "      <th>borrower_credit_score</th>\n",
              "      <th>loan_purpose</th>\n",
              "      <th>insurance_percent</th>\n",
              "      <th>co-borrower_credit_score</th>\n",
              "      <th>insurance_type</th>\n",
              "      <th>m1</th>\n",
              "      <th>m2</th>\n",
              "      <th>m3</th>\n",
              "      <th>m4</th>\n",
              "      <th>m5</th>\n",
              "      <th>m6</th>\n",
              "      <th>m7</th>\n",
              "      <th>m8</th>\n",
              "      <th>m9</th>\n",
              "      <th>m10</th>\n",
              "      <th>m11</th>\n",
              "      <th>m12</th>\n",
              "      <th>m13</th>\n",
              "    </tr>\n",
              "  </thead>\n",
              "  <tbody>\n",
              "    <tr>\n",
              "      <th>0</th>\n",
              "      <td>268055008619</td>\n",
              "      <td>Z</td>\n",
              "      <td>Turner, Baldwin and Rhodes</td>\n",
              "      <td>4.250</td>\n",
              "      <td>214000</td>\n",
              "      <td>360</td>\n",
              "      <td>2012-03-01</td>\n",
              "      <td>05/2012</td>\n",
              "      <td>95</td>\n",
              "      <td>1.0</td>\n",
              "      <td>22.0</td>\n",
              "      <td>694.0</td>\n",
              "      <td>C86</td>\n",
              "      <td>30.0</td>\n",
              "      <td>0.0</td>\n",
              "      <td>0.0</td>\n",
              "      <td>0</td>\n",
              "      <td>0</td>\n",
              "      <td>0</td>\n",
              "      <td>0</td>\n",
              "      <td>0</td>\n",
              "      <td>0</td>\n",
              "      <td>1</td>\n",
              "      <td>0</td>\n",
              "      <td>0</td>\n",
              "      <td>0</td>\n",
              "      <td>0</td>\n",
              "      <td>0</td>\n",
              "      <td>1</td>\n",
              "    </tr>\n",
              "    <tr>\n",
              "      <th>1</th>\n",
              "      <td>672831657627</td>\n",
              "      <td>Y</td>\n",
              "      <td>Swanson, Newton and Miller</td>\n",
              "      <td>4.875</td>\n",
              "      <td>144000</td>\n",
              "      <td>360</td>\n",
              "      <td>2012-01-01</td>\n",
              "      <td>03/2012</td>\n",
              "      <td>72</td>\n",
              "      <td>1.0</td>\n",
              "      <td>44.0</td>\n",
              "      <td>697.0</td>\n",
              "      <td>B12</td>\n",
              "      <td>0.0</td>\n",
              "      <td>0.0</td>\n",
              "      <td>0.0</td>\n",
              "      <td>0</td>\n",
              "      <td>0</td>\n",
              "      <td>0</td>\n",
              "      <td>0</td>\n",
              "      <td>0</td>\n",
              "      <td>0</td>\n",
              "      <td>0</td>\n",
              "      <td>0</td>\n",
              "      <td>0</td>\n",
              "      <td>0</td>\n",
              "      <td>1</td>\n",
              "      <td>0</td>\n",
              "      <td>1</td>\n",
              "    </tr>\n",
              "    <tr>\n",
              "      <th>2</th>\n",
              "      <td>742515242108</td>\n",
              "      <td>Z</td>\n",
              "      <td>Thornton-Davis</td>\n",
              "      <td>3.250</td>\n",
              "      <td>366000</td>\n",
              "      <td>180</td>\n",
              "      <td>2012-01-01</td>\n",
              "      <td>03/2012</td>\n",
              "      <td>49</td>\n",
              "      <td>1.0</td>\n",
              "      <td>33.0</td>\n",
              "      <td>780.0</td>\n",
              "      <td>B12</td>\n",
              "      <td>0.0</td>\n",
              "      <td>0.0</td>\n",
              "      <td>0.0</td>\n",
              "      <td>0</td>\n",
              "      <td>0</td>\n",
              "      <td>0</td>\n",
              "      <td>0</td>\n",
              "      <td>0</td>\n",
              "      <td>0</td>\n",
              "      <td>0</td>\n",
              "      <td>0</td>\n",
              "      <td>0</td>\n",
              "      <td>0</td>\n",
              "      <td>0</td>\n",
              "      <td>0</td>\n",
              "      <td>1</td>\n",
              "    </tr>\n",
              "    <tr>\n",
              "      <th>3</th>\n",
              "      <td>601385667462</td>\n",
              "      <td>X</td>\n",
              "      <td>OTHER</td>\n",
              "      <td>4.750</td>\n",
              "      <td>135000</td>\n",
              "      <td>360</td>\n",
              "      <td>2012-02-01</td>\n",
              "      <td>04/2012</td>\n",
              "      <td>46</td>\n",
              "      <td>2.0</td>\n",
              "      <td>44.0</td>\n",
              "      <td>633.0</td>\n",
              "      <td>B12</td>\n",
              "      <td>0.0</td>\n",
              "      <td>638.0</td>\n",
              "      <td>0.0</td>\n",
              "      <td>0</td>\n",
              "      <td>0</td>\n",
              "      <td>0</td>\n",
              "      <td>0</td>\n",
              "      <td>0</td>\n",
              "      <td>0</td>\n",
              "      <td>0</td>\n",
              "      <td>0</td>\n",
              "      <td>1</td>\n",
              "      <td>1</td>\n",
              "      <td>1</td>\n",
              "      <td>1</td>\n",
              "      <td>1</td>\n",
              "    </tr>\n",
              "    <tr>\n",
              "      <th>4</th>\n",
              "      <td>273870029961</td>\n",
              "      <td>X</td>\n",
              "      <td>OTHER</td>\n",
              "      <td>4.750</td>\n",
              "      <td>124000</td>\n",
              "      <td>360</td>\n",
              "      <td>2012-02-01</td>\n",
              "      <td>04/2012</td>\n",
              "      <td>80</td>\n",
              "      <td>1.0</td>\n",
              "      <td>43.0</td>\n",
              "      <td>681.0</td>\n",
              "      <td>C86</td>\n",
              "      <td>0.0</td>\n",
              "      <td>0.0</td>\n",
              "      <td>0.0</td>\n",
              "      <td>0</td>\n",
              "      <td>1</td>\n",
              "      <td>2</td>\n",
              "      <td>3</td>\n",
              "      <td>4</td>\n",
              "      <td>5</td>\n",
              "      <td>6</td>\n",
              "      <td>7</td>\n",
              "      <td>8</td>\n",
              "      <td>9</td>\n",
              "      <td>10</td>\n",
              "      <td>11</td>\n",
              "      <td>1</td>\n",
              "    </tr>\n",
              "  </tbody>\n",
              "</table>\n",
              "</div>"
            ],
            "text/plain": [
              "        loan_id source       financial_institution  interest_rate  \\\n",
              "0  268055008619      Z  Turner, Baldwin and Rhodes          4.250   \n",
              "1  672831657627      Y  Swanson, Newton and Miller          4.875   \n",
              "2  742515242108      Z              Thornton-Davis          3.250   \n",
              "3  601385667462      X                       OTHER          4.750   \n",
              "4  273870029961      X                       OTHER          4.750   \n",
              "\n",
              "   unpaid_principal_bal  loan_term origination_date first_payment_date  \\\n",
              "0                214000        360       2012-03-01            05/2012   \n",
              "1                144000        360       2012-01-01            03/2012   \n",
              "2                366000        180       2012-01-01            03/2012   \n",
              "3                135000        360       2012-02-01            04/2012   \n",
              "4                124000        360       2012-02-01            04/2012   \n",
              "\n",
              "   loan_to_value  number_of_borrowers  debt_to_income_ratio  \\\n",
              "0             95                  1.0                  22.0   \n",
              "1             72                  1.0                  44.0   \n",
              "2             49                  1.0                  33.0   \n",
              "3             46                  2.0                  44.0   \n",
              "4             80                  1.0                  43.0   \n",
              "\n",
              "   borrower_credit_score loan_purpose  insurance_percent  \\\n",
              "0                  694.0          C86               30.0   \n",
              "1                  697.0          B12                0.0   \n",
              "2                  780.0          B12                0.0   \n",
              "3                  633.0          B12                0.0   \n",
              "4                  681.0          C86                0.0   \n",
              "\n",
              "   co-borrower_credit_score  insurance_type  m1  m2  m3  m4  m5  m6  m7  m8  \\\n",
              "0                       0.0             0.0   0   0   0   0   0   0   1   0   \n",
              "1                       0.0             0.0   0   0   0   0   0   0   0   0   \n",
              "2                       0.0             0.0   0   0   0   0   0   0   0   0   \n",
              "3                     638.0             0.0   0   0   0   0   0   0   0   0   \n",
              "4                       0.0             0.0   0   1   2   3   4   5   6   7   \n",
              "\n",
              "   m9  m10  m11  m12  m13  \n",
              "0   0    0    0    0    1  \n",
              "1   0    0    1    0    1  \n",
              "2   0    0    0    0    1  \n",
              "3   1    1    1    1    1  \n",
              "4   8    9   10   11    1  "
            ]
          },
          "metadata": {
            "tags": []
          },
          "execution_count": 1595
        }
      ]
    },
    {
      "cell_type": "code",
      "metadata": {
        "id": "JYKCxO3fO-FL",
        "colab_type": "code",
        "outputId": "6c01aacb-3744-4661-9086-69ab816dc14c",
        "colab": {
          "base_uri": "https://localhost:8080/",
          "height": 537
        }
      },
      "source": [
        "train_df.dtypes"
      ],
      "execution_count": 0,
      "outputs": [
        {
          "output_type": "execute_result",
          "data": {
            "text/plain": [
              "loan_id                       int64\n",
              "source                       object\n",
              "financial_institution        object\n",
              "interest_rate               float64\n",
              "unpaid_principal_bal          int64\n",
              "loan_term                     int64\n",
              "origination_date             object\n",
              "first_payment_date           object\n",
              "loan_to_value                 int64\n",
              "number_of_borrowers         float64\n",
              "debt_to_income_ratio        float64\n",
              "borrower_credit_score       float64\n",
              "loan_purpose                 object\n",
              "insurance_percent           float64\n",
              "co-borrower_credit_score    float64\n",
              "insurance_type              float64\n",
              "m1                            int64\n",
              "m2                            int64\n",
              "m3                            int64\n",
              "m4                            int64\n",
              "m5                            int64\n",
              "m6                            int64\n",
              "m7                            int64\n",
              "m8                            int64\n",
              "m9                            int64\n",
              "m10                           int64\n",
              "m11                           int64\n",
              "m12                           int64\n",
              "m13                           int64\n",
              "dtype: object"
            ]
          },
          "metadata": {
            "tags": []
          },
          "execution_count": 1596
        }
      ]
    },
    {
      "cell_type": "code",
      "metadata": {
        "id": "zw-RnAuUIYcs",
        "colab_type": "code",
        "outputId": "41e39e62-8f9d-4ded-9b6b-6f33512a13a3",
        "colab": {
          "base_uri": "https://localhost:8080/",
          "height": 104
        }
      },
      "source": [
        "# Importing LabelEncoder and initializing it\n",
        "from sklearn.preprocessing import LabelEncoder\n",
        "le=LabelEncoder()\n",
        "# Iterating over all the common columns in train and test\n",
        "for col in train_df.columns.values:\n",
        "    # Encoding only categorical variables\n",
        "    if train_df[col].dtypes=='object':\n",
        "      print(col)\n",
        "      # Using whole data to form an exhaustive list of levels\n",
        "      data=train_df[col].append(test_df[col])\n",
        "      le.fit(data.values)        \n",
        "      train_df[col]=le.transform(train_df[col])\n",
        "      test_df[col]=le.transform(test_df[col])"
      ],
      "execution_count": 0,
      "outputs": [
        {
          "output_type": "stream",
          "text": [
            "source\n",
            "financial_institution\n",
            "origination_date\n",
            "first_payment_date\n",
            "loan_purpose\n"
          ],
          "name": "stdout"
        }
      ]
    },
    {
      "cell_type": "code",
      "metadata": {
        "id": "G7WhaMwaPiZ0",
        "colab_type": "code",
        "outputId": "7c9bbe08-dc5d-4e65-e81d-ba259fbd3c65",
        "colab": {
          "base_uri": "https://localhost:8080/",
          "height": 537
        }
      },
      "source": [
        "train_df.dtypes"
      ],
      "execution_count": 0,
      "outputs": [
        {
          "output_type": "execute_result",
          "data": {
            "text/plain": [
              "loan_id                       int64\n",
              "source                        int64\n",
              "financial_institution         int64\n",
              "interest_rate               float64\n",
              "unpaid_principal_bal          int64\n",
              "loan_term                     int64\n",
              "origination_date              int64\n",
              "first_payment_date            int64\n",
              "loan_to_value                 int64\n",
              "number_of_borrowers         float64\n",
              "debt_to_income_ratio        float64\n",
              "borrower_credit_score       float64\n",
              "loan_purpose                  int64\n",
              "insurance_percent           float64\n",
              "co-borrower_credit_score    float64\n",
              "insurance_type              float64\n",
              "m1                            int64\n",
              "m2                            int64\n",
              "m3                            int64\n",
              "m4                            int64\n",
              "m5                            int64\n",
              "m6                            int64\n",
              "m7                            int64\n",
              "m8                            int64\n",
              "m9                            int64\n",
              "m10                           int64\n",
              "m11                           int64\n",
              "m12                           int64\n",
              "m13                           int64\n",
              "dtype: object"
            ]
          },
          "metadata": {
            "tags": []
          },
          "execution_count": 1601
        }
      ]
    },
    {
      "cell_type": "code",
      "metadata": {
        "id": "qeD8J5KjKwcr",
        "colab_type": "code",
        "outputId": "bc478b06-8295-4d45-f028-8152aebb68aa",
        "colab": {
          "base_uri": "https://localhost:8080/",
          "height": 52
        }
      },
      "source": [
        "print(train_df.shape)\n",
        "print(test_df.shape)"
      ],
      "execution_count": 0,
      "outputs": [
        {
          "output_type": "stream",
          "text": [
            "(116058, 29)\n",
            "(35866, 28)\n"
          ],
          "name": "stdout"
        }
      ]
    },
    {
      "cell_type": "code",
      "metadata": {
        "id": "B18OvJJj8uY-",
        "colab_type": "code",
        "colab": {}
      },
      "source": [
        "def getCountVar(compute_df, count_df, var_name, count_var=\"v1\"):\n",
        "    grouped_df = count_df.groupby(var_name)[count_var].agg('count').reset_index()\n",
        "    grouped_df.columns = var_name + [\"var_count\"]\n",
        "\n",
        "    merged_df = pd.merge(compute_df, grouped_df, how=\"left\", on=var_name)\n",
        "    merged_df.fillna(np.mean(grouped_df[\"var_count\"].values), inplace=True)\n",
        "    return list(merged_df[\"var_count\"])\n",
        "\n",
        "cols_to_use = []\n",
        "kf = model_selection.GroupKFold(n_splits=5)\n",
        "for col in [[\n",
        "    'loan_purpose', 'source', 'financial_institution'\n",
        "      ]]:\n",
        "        train_enc_values = np.zeros(train_df.shape[0])\n",
        "        test_enc_values = 0\n",
        "        for dev_index, val_index in kf.split(train_df, train_df[\"m13\"].values, \n",
        "                                             train_df[\"interest_rate\"].values):\n",
        "            dev_X, val_X = train_df.loc[dev_index], train_df.loc[val_index]\n",
        "            train_enc_values[val_index] = np.array( getCountVar(val_X[col], dev_X, col, 'm13'))\n",
        "            test_enc_values += np.array(getCountVar(test_df[col], dev_X, col, 'm13'))\n",
        "        test_enc_values /= 5.\n",
        "        if isinstance(col, list):\n",
        "            col = \"_\".join(col)\n",
        "        train_df[col + \"_count\"] = train_enc_values\n",
        "        test_df[col + \"_count\"] = test_enc_values\n",
        "        cols_to_use.append(col + \"_count\")"
      ],
      "execution_count": 0,
      "outputs": []
    },
    {
      "cell_type": "code",
      "metadata": {
        "id": "kMGtYQFKKf8i",
        "colab_type": "code",
        "outputId": "cc11dd27-9f49-4380-896d-174b849b61ea",
        "colab": {
          "base_uri": "https://localhost:8080/",
          "height": 156
        }
      },
      "source": [
        "train_df.columns"
      ],
      "execution_count": 0,
      "outputs": [
        {
          "output_type": "execute_result",
          "data": {
            "text/plain": [
              "Index(['loan_id', 'source', 'financial_institution', 'interest_rate',\n",
              "       'unpaid_principal_bal', 'loan_term', 'origination_date',\n",
              "       'first_payment_date', 'loan_to_value', 'number_of_borrowers',\n",
              "       'debt_to_income_ratio', 'borrower_credit_score', 'loan_purpose',\n",
              "       'insurance_percent', 'co-borrower_credit_score', 'insurance_type', 'm1',\n",
              "       'm2', 'm3', 'm4', 'm5', 'm6', 'm7', 'm8', 'm9', 'm10', 'm11', 'm12',\n",
              "       'm13', 'loan_purpose_source_financial_institution_count'],\n",
              "      dtype='object')"
            ]
          },
          "metadata": {
            "tags": []
          },
          "execution_count": 1606
        }
      ]
    },
    {
      "cell_type": "code",
      "metadata": {
        "id": "2pUL_ujlRlnZ",
        "colab_type": "code",
        "outputId": "015ebe1f-07de-40e0-83e2-80cf3bb3204f",
        "colab": {
          "base_uri": "https://localhost:8080/",
          "height": 156
        }
      },
      "source": [
        "test_df.columns"
      ],
      "execution_count": 0,
      "outputs": [
        {
          "output_type": "execute_result",
          "data": {
            "text/plain": [
              "Index(['loan_id', 'source', 'financial_institution', 'interest_rate',\n",
              "       'unpaid_principal_bal', 'loan_term', 'origination_date',\n",
              "       'first_payment_date', 'loan_to_value', 'number_of_borrowers',\n",
              "       'debt_to_income_ratio', 'borrower_credit_score', 'loan_purpose',\n",
              "       'insurance_percent', 'co-borrower_credit_score', 'insurance_type', 'm1',\n",
              "       'm2', 'm3', 'm4', 'm5', 'm6', 'm7', 'm8', 'm9', 'm10', 'm11', 'm12',\n",
              "       'loan_purpose_source_financial_institution_count'],\n",
              "      dtype='object')"
            ]
          },
          "metadata": {
            "tags": []
          },
          "execution_count": 1609
        }
      ]
    },
    {
      "cell_type": "code",
      "metadata": {
        "id": "uGbY7omWS2bD",
        "colab_type": "code",
        "outputId": "ce4591d7-b133-476a-d9dd-25203025c7f0",
        "colab": {
          "base_uri": "https://localhost:8080/",
          "height": 35
        }
      },
      "source": [
        "print(train_df.shape, test_df.shape)"
      ],
      "execution_count": 0,
      "outputs": [
        {
          "output_type": "stream",
          "text": [
            "(116058, 30) (35866, 29)\n"
          ],
          "name": "stdout"
        }
      ]
    },
    {
      "cell_type": "code",
      "metadata": {
        "id": "rzVD-EARY0cU",
        "colab_type": "code",
        "colab": {}
      },
      "source": [
        "for col in ['loan_purpose', 'source'\n",
        "           ]:\n",
        "    if not isinstance(col, list):\n",
        "        col = [col]\n",
        "    col_name = \"_\".join(col)\n",
        "    all_df = pd.concat([train_df[[\"borrower_credit_score\"]+ col], test_df[[\"borrower_credit_score\"]+ col]])\n",
        "    gdf = all_df.groupby(col)[\"borrower_credit_score\"].agg([\"mean\", \"std\"]).reset_index()\n",
        "    gdf.columns = col + [col_name+\"_bcs_mean\", col_name+\"_bcs_std\"]\n",
        "    train_df = pd.merge(train_df, gdf, on=col, how=\"left\")\n",
        "    test_df = pd.merge(test_df, gdf, on=col, how=\"left\")"
      ],
      "execution_count": 0,
      "outputs": []
    },
    {
      "cell_type": "code",
      "metadata": {
        "id": "qwfG_KjPQ-T_",
        "colab_type": "code",
        "outputId": "e202e50b-b4a4-4ad6-c18c-e94bdc6cccf7",
        "colab": {
          "base_uri": "https://localhost:8080/",
          "height": 624
        }
      },
      "source": [
        "train_df.isnull().sum()"
      ],
      "execution_count": 0,
      "outputs": [
        {
          "output_type": "execute_result",
          "data": {
            "text/plain": [
              "loan_id                                            0\n",
              "source                                             0\n",
              "financial_institution                              0\n",
              "interest_rate                                      0\n",
              "unpaid_principal_bal                               0\n",
              "loan_term                                          0\n",
              "origination_date                                   0\n",
              "first_payment_date                                 0\n",
              "loan_to_value                                      0\n",
              "number_of_borrowers                                0\n",
              "debt_to_income_ratio                               0\n",
              "borrower_credit_score                              0\n",
              "loan_purpose                                       0\n",
              "insurance_percent                                  0\n",
              "co-borrower_credit_score                           0\n",
              "insurance_type                                     0\n",
              "m1                                                 0\n",
              "m2                                                 0\n",
              "m3                                                 0\n",
              "m4                                                 0\n",
              "m5                                                 0\n",
              "m6                                                 0\n",
              "m7                                                 0\n",
              "m8                                                 0\n",
              "m9                                                 0\n",
              "m10                                                0\n",
              "m11                                                0\n",
              "m12                                                0\n",
              "m13                                                0\n",
              "loan_purpose_source_financial_institution_count    0\n",
              "loan_purpose_bcs_mean                              0\n",
              "loan_purpose_bcs_std                               0\n",
              "source_bcs_mean                                    0\n",
              "source_bcs_std                                     0\n",
              "dtype: int64"
            ]
          },
          "metadata": {
            "tags": []
          },
          "execution_count": 1617
        }
      ]
    },
    {
      "cell_type": "markdown",
      "metadata": {
        "id": "sZzylv0HK5zU",
        "colab_type": "text"
      },
      "source": [
        "### Baseline Model Building"
      ]
    },
    {
      "cell_type": "code",
      "metadata": {
        "id": "7maYCxWlK38z",
        "colab_type": "code",
        "colab": {}
      },
      "source": [
        "X = train_df.drop(['loan_id', 'm13'],axis=1)"
      ],
      "execution_count": 0,
      "outputs": []
    },
    {
      "cell_type": "code",
      "metadata": {
        "id": "fQpJdhA_LFcc",
        "colab_type": "code",
        "outputId": "07c5e874-8d77-4eee-cf1f-18e6d55bff61",
        "colab": {
          "base_uri": "https://localhost:8080/",
          "height": 35
        }
      },
      "source": [
        "print(X.shape)"
      ],
      "execution_count": 0,
      "outputs": [
        {
          "output_type": "stream",
          "text": [
            "(116058, 32)\n"
          ],
          "name": "stdout"
        }
      ]
    },
    {
      "cell_type": "code",
      "metadata": {
        "id": "4pE37b6BLG3Y",
        "colab_type": "code",
        "outputId": "58d7cdc0-cec9-4afe-940f-49b8b09644b0",
        "colab": {
          "base_uri": "https://localhost:8080/",
          "height": 178
        }
      },
      "source": [
        "X.head(3)"
      ],
      "execution_count": 0,
      "outputs": [
        {
          "output_type": "execute_result",
          "data": {
            "text/html": [
              "<div>\n",
              "<style scoped>\n",
              "    .dataframe tbody tr th:only-of-type {\n",
              "        vertical-align: middle;\n",
              "    }\n",
              "\n",
              "    .dataframe tbody tr th {\n",
              "        vertical-align: top;\n",
              "    }\n",
              "\n",
              "    .dataframe thead th {\n",
              "        text-align: right;\n",
              "    }\n",
              "</style>\n",
              "<table border=\"1\" class=\"dataframe\">\n",
              "  <thead>\n",
              "    <tr style=\"text-align: right;\">\n",
              "      <th></th>\n",
              "      <th>source</th>\n",
              "      <th>financial_institution</th>\n",
              "      <th>interest_rate</th>\n",
              "      <th>unpaid_principal_bal</th>\n",
              "      <th>loan_term</th>\n",
              "      <th>origination_date</th>\n",
              "      <th>first_payment_date</th>\n",
              "      <th>loan_to_value</th>\n",
              "      <th>number_of_borrowers</th>\n",
              "      <th>debt_to_income_ratio</th>\n",
              "      <th>borrower_credit_score</th>\n",
              "      <th>loan_purpose</th>\n",
              "      <th>insurance_percent</th>\n",
              "      <th>co-borrower_credit_score</th>\n",
              "      <th>insurance_type</th>\n",
              "      <th>m1</th>\n",
              "      <th>m2</th>\n",
              "      <th>m3</th>\n",
              "      <th>m4</th>\n",
              "      <th>m5</th>\n",
              "      <th>m6</th>\n",
              "      <th>m7</th>\n",
              "      <th>m8</th>\n",
              "      <th>m9</th>\n",
              "      <th>m10</th>\n",
              "      <th>m11</th>\n",
              "      <th>m12</th>\n",
              "      <th>loan_purpose_source_financial_institution_count</th>\n",
              "      <th>loan_purpose_bcs_mean</th>\n",
              "      <th>loan_purpose_bcs_std</th>\n",
              "      <th>source_bcs_mean</th>\n",
              "      <th>source_bcs_std</th>\n",
              "    </tr>\n",
              "  </thead>\n",
              "  <tbody>\n",
              "    <tr>\n",
              "      <th>0</th>\n",
              "      <td>2</td>\n",
              "      <td>18</td>\n",
              "      <td>4.250</td>\n",
              "      <td>214000</td>\n",
              "      <td>360</td>\n",
              "      <td>5</td>\n",
              "      <td>3</td>\n",
              "      <td>95</td>\n",
              "      <td>1.0</td>\n",
              "      <td>22.0</td>\n",
              "      <td>694.0</td>\n",
              "      <td>2</td>\n",
              "      <td>30.0</td>\n",
              "      <td>0.0</td>\n",
              "      <td>0.0</td>\n",
              "      <td>0</td>\n",
              "      <td>0</td>\n",
              "      <td>0</td>\n",
              "      <td>0</td>\n",
              "      <td>0</td>\n",
              "      <td>0</td>\n",
              "      <td>1</td>\n",
              "      <td>0</td>\n",
              "      <td>0</td>\n",
              "      <td>0</td>\n",
              "      <td>0</td>\n",
              "      <td>0</td>\n",
              "      <td>84.0</td>\n",
              "      <td>764.132279</td>\n",
              "      <td>49.782948</td>\n",
              "      <td>772.858292</td>\n",
              "      <td>37.077302</td>\n",
              "    </tr>\n",
              "    <tr>\n",
              "      <th>1</th>\n",
              "      <td>1</td>\n",
              "      <td>15</td>\n",
              "      <td>4.875</td>\n",
              "      <td>144000</td>\n",
              "      <td>360</td>\n",
              "      <td>3</td>\n",
              "      <td>1</td>\n",
              "      <td>72</td>\n",
              "      <td>1.0</td>\n",
              "      <td>44.0</td>\n",
              "      <td>697.0</td>\n",
              "      <td>1</td>\n",
              "      <td>0.0</td>\n",
              "      <td>0.0</td>\n",
              "      <td>0.0</td>\n",
              "      <td>0</td>\n",
              "      <td>0</td>\n",
              "      <td>0</td>\n",
              "      <td>0</td>\n",
              "      <td>0</td>\n",
              "      <td>0</td>\n",
              "      <td>0</td>\n",
              "      <td>0</td>\n",
              "      <td>0</td>\n",
              "      <td>0</td>\n",
              "      <td>1</td>\n",
              "      <td>0</td>\n",
              "      <td>600.0</td>\n",
              "      <td>763.171980</td>\n",
              "      <td>42.844076</td>\n",
              "      <td>768.844250</td>\n",
              "      <td>39.773734</td>\n",
              "    </tr>\n",
              "    <tr>\n",
              "      <th>2</th>\n",
              "      <td>2</td>\n",
              "      <td>17</td>\n",
              "      <td>3.250</td>\n",
              "      <td>366000</td>\n",
              "      <td>180</td>\n",
              "      <td>3</td>\n",
              "      <td>1</td>\n",
              "      <td>49</td>\n",
              "      <td>1.0</td>\n",
              "      <td>33.0</td>\n",
              "      <td>780.0</td>\n",
              "      <td>1</td>\n",
              "      <td>0.0</td>\n",
              "      <td>0.0</td>\n",
              "      <td>0.0</td>\n",
              "      <td>0</td>\n",
              "      <td>0</td>\n",
              "      <td>0</td>\n",
              "      <td>0</td>\n",
              "      <td>0</td>\n",
              "      <td>0</td>\n",
              "      <td>0</td>\n",
              "      <td>0</td>\n",
              "      <td>0</td>\n",
              "      <td>0</td>\n",
              "      <td>0</td>\n",
              "      <td>0</td>\n",
              "      <td>28.0</td>\n",
              "      <td>763.171980</td>\n",
              "      <td>42.844076</td>\n",
              "      <td>772.858292</td>\n",
              "      <td>37.077302</td>\n",
              "    </tr>\n",
              "  </tbody>\n",
              "</table>\n",
              "</div>"
            ],
            "text/plain": [
              "   source  financial_institution  interest_rate  unpaid_principal_bal  \\\n",
              "0       2                     18          4.250                214000   \n",
              "1       1                     15          4.875                144000   \n",
              "2       2                     17          3.250                366000   \n",
              "\n",
              "   loan_term  origination_date  first_payment_date  loan_to_value  \\\n",
              "0        360                 5                   3             95   \n",
              "1        360                 3                   1             72   \n",
              "2        180                 3                   1             49   \n",
              "\n",
              "   number_of_borrowers  debt_to_income_ratio  borrower_credit_score  \\\n",
              "0                  1.0                  22.0                  694.0   \n",
              "1                  1.0                  44.0                  697.0   \n",
              "2                  1.0                  33.0                  780.0   \n",
              "\n",
              "   loan_purpose  insurance_percent  co-borrower_credit_score  insurance_type  \\\n",
              "0             2               30.0                       0.0             0.0   \n",
              "1             1                0.0                       0.0             0.0   \n",
              "2             1                0.0                       0.0             0.0   \n",
              "\n",
              "   m1  m2  m3  m4  m5  m6  m7  m8  m9  m10  m11  m12  \\\n",
              "0   0   0   0   0   0   0   1   0   0    0    0    0   \n",
              "1   0   0   0   0   0   0   0   0   0    0    1    0   \n",
              "2   0   0   0   0   0   0   0   0   0    0    0    0   \n",
              "\n",
              "   loan_purpose_source_financial_institution_count  loan_purpose_bcs_mean  \\\n",
              "0                                             84.0             764.132279   \n",
              "1                                            600.0             763.171980   \n",
              "2                                             28.0             763.171980   \n",
              "\n",
              "   loan_purpose_bcs_std  source_bcs_mean  source_bcs_std  \n",
              "0             49.782948       772.858292       37.077302  \n",
              "1             42.844076       768.844250       39.773734  \n",
              "2             42.844076       772.858292       37.077302  "
            ]
          },
          "metadata": {
            "tags": []
          },
          "execution_count": 1620
        }
      ]
    },
    {
      "cell_type": "code",
      "metadata": {
        "id": "9ZSlECeQLIjb",
        "colab_type": "code",
        "colab": {}
      },
      "source": [
        "train_X = train_df.drop(['loan_id', 'm13'],axis=1)\n",
        "test_X = test_df.drop(['loan_id'],axis=1)\n",
        "\n",
        "y = train_df['m13']\n",
        "train_y = y"
      ],
      "execution_count": 0,
      "outputs": []
    },
    {
      "cell_type": "code",
      "metadata": {
        "id": "5qNO6AauLQBq",
        "colab_type": "code",
        "outputId": "22f83d5b-2e92-46f2-f746-c66b03d8b3b1",
        "colab": {
          "base_uri": "https://localhost:8080/",
          "height": 69
        }
      },
      "source": [
        "print(train_X.shape)\n",
        "print(test_X.shape)\n",
        "print(y.shape)"
      ],
      "execution_count": 0,
      "outputs": [
        {
          "output_type": "stream",
          "text": [
            "(116058, 32)\n",
            "(35866, 32)\n",
            "(116058,)\n"
          ],
          "name": "stdout"
        }
      ]
    },
    {
      "cell_type": "code",
      "metadata": {
        "id": "FFAZA7coSf7h",
        "colab_type": "code",
        "outputId": "83344a41-ee1b-455c-e25c-fb91bfdd1ea4",
        "colab": {
          "base_uri": "https://localhost:8080/",
          "height": 191
        }
      },
      "source": [
        "header_list = train_df.columns\n",
        "header_list"
      ],
      "execution_count": 0,
      "outputs": [
        {
          "output_type": "execute_result",
          "data": {
            "text/plain": [
              "Index(['loan_id', 'source', 'financial_institution', 'interest_rate',\n",
              "       'unpaid_principal_bal', 'loan_term', 'origination_date',\n",
              "       'first_payment_date', 'loan_to_value', 'number_of_borrowers',\n",
              "       'debt_to_income_ratio', 'borrower_credit_score', 'loan_purpose',\n",
              "       'insurance_percent', 'co-borrower_credit_score', 'insurance_type', 'm1',\n",
              "       'm2', 'm3', 'm4', 'm5', 'm6', 'm7', 'm8', 'm9', 'm10', 'm11', 'm12',\n",
              "       'm13', 'loan_purpose_source_financial_institution_count',\n",
              "       'loan_purpose_bcs_mean', 'loan_purpose_bcs_std', 'source_bcs_mean',\n",
              "       'source_bcs_std'],\n",
              "      dtype='object')"
            ]
          },
          "metadata": {
            "tags": []
          },
          "execution_count": 1623
        }
      ]
    },
    {
      "cell_type": "code",
      "metadata": {
        "id": "H7OhMhSMUHuw",
        "colab_type": "code",
        "outputId": "793f0ee7-3c38-484e-821d-8c4c3d56a47b",
        "colab": {
          "base_uri": "https://localhost:8080/",
          "height": 87
        }
      },
      "source": [
        "from imblearn.over_sampling import SMOTE\n",
        "\n",
        "from sklearn.model_selection import train_test_split\n",
        "\n",
        "X_train, X_valid, y_train, y_valid = train_test_split(X, y, test_size=0.3, random_state=0)\n",
        "\n",
        "print(\"Number transactions X_train dataset: \", X_train.shape)\n",
        "print(\"Number transactions y_train dataset: \", y_train.shape)\n",
        "print(\"Number transactions X_valid dataset: \", X_valid.shape)\n",
        "print(\"Number transactions y_valid dataset: \", y_valid.shape)"
      ],
      "execution_count": 0,
      "outputs": [
        {
          "output_type": "stream",
          "text": [
            "Number transactions X_train dataset:  (81240, 32)\n",
            "Number transactions y_train dataset:  (81240,)\n",
            "Number transactions X_valid dataset:  (34818, 32)\n",
            "Number transactions y_valid dataset:  (34818,)\n"
          ],
          "name": "stdout"
        }
      ]
    },
    {
      "cell_type": "code",
      "metadata": {
        "id": "0OlPFwi4UQrw",
        "colab_type": "code",
        "outputId": "7aedbc4f-f742-4e05-d31c-d75cf24a8e22",
        "colab": {
          "base_uri": "https://localhost:8080/",
          "height": 156
        }
      },
      "source": [
        "print(\"Before OverSampling, counts of label '1': {}\".format(sum(y_train==1)))\n",
        "print(\"Before OverSampling, counts of label '0': {} \\n\".format(sum(y_train==0)))\n",
        "\n",
        "sm = SMOTE(random_state=2)\n",
        "X_train_res, y_train_res = sm.fit_sample(X_train, y_train.ravel())\n",
        "\n",
        "print('After OverSampling, the shape of train_X: {}'.format(X_train_res.shape))\n",
        "print('After OverSampling, the shape of train_y: {} \\n'.format(y_train_res.shape))\n",
        "\n",
        "print(\"After OverSampling, counts of label '1': {}\".format(sum(y_train_res==1)))\n",
        "print(\"After OverSampling, counts of label '0': {}\".format(sum(y_train_res==0)))"
      ],
      "execution_count": 0,
      "outputs": [
        {
          "output_type": "stream",
          "text": [
            "Before OverSampling, counts of label '1': 451\n",
            "Before OverSampling, counts of label '0': 80789 \n",
            "\n",
            "After OverSampling, the shape of train_X: (161578, 32)\n",
            "After OverSampling, the shape of train_y: (161578,) \n",
            "\n",
            "After OverSampling, counts of label '1': 80789\n",
            "After OverSampling, counts of label '0': 80789\n"
          ],
          "name": "stdout"
        }
      ]
    },
    {
      "cell_type": "code",
      "metadata": {
        "id": "Q7JHucx3XTBq",
        "colab_type": "code",
        "outputId": "dd5098bf-b50e-4ca9-9d9a-355074c76415",
        "colab": {
          "base_uri": "https://localhost:8080/",
          "height": 35
        }
      },
      "source": [
        "train_df.shape, y.shape"
      ],
      "execution_count": 0,
      "outputs": [
        {
          "output_type": "execute_result",
          "data": {
            "text/plain": [
              "((116058, 34), (116058,))"
            ]
          },
          "metadata": {
            "tags": []
          },
          "execution_count": 1626
        }
      ]
    },
    {
      "cell_type": "code",
      "metadata": {
        "id": "zwfPSDKqVP3B",
        "colab_type": "code",
        "outputId": "eb2de6f4-aa0a-4c75-e84f-423be2e8907f",
        "colab": {
          "base_uri": "https://localhost:8080/",
          "height": 156
        }
      },
      "source": [
        "print(\"Before OverSampling, counts of label '1': {}\".format(sum(y==1)))\n",
        "print(\"Before OverSampling, counts of label '0': {} \\n\".format(sum(y==0)))\n",
        "\n",
        "sm = SMOTE(random_state=2)\n",
        "# sm = ADASYN(random_state=2)\n",
        "X_res, y_res = sm.fit_sample(train_df, y.ravel())\n",
        "\n",
        "print('After OverSampling, the shape of train_X: {}'.format(X_res.shape))\n",
        "print('After OverSampling, the shape of train_y: {} \\n'.format(y_res.shape))\n",
        "\n",
        "print(\"After OverSampling, counts of label '1': {}\".format(sum(y_res==1)))\n",
        "print(\"After OverSampling, counts of label '0': {}\".format(sum(y_res==0)))"
      ],
      "execution_count": 0,
      "outputs": [
        {
          "output_type": "stream",
          "text": [
            "Before OverSampling, counts of label '1': 636\n",
            "Before OverSampling, counts of label '0': 115422 \n",
            "\n",
            "After OverSampling, the shape of train_X: (230844, 34)\n",
            "After OverSampling, the shape of train_y: (230844,) \n",
            "\n",
            "After OverSampling, counts of label '1': 115422\n",
            "After OverSampling, counts of label '0': 115422\n"
          ],
          "name": "stdout"
        }
      ]
    },
    {
      "cell_type": "code",
      "metadata": {
        "id": "a04aY4MYUmQL",
        "colab_type": "code",
        "colab": {}
      },
      "source": [
        "X_res = pd.DataFrame(X_res, columns = header_list)"
      ],
      "execution_count": 0,
      "outputs": []
    },
    {
      "cell_type": "code",
      "metadata": {
        "id": "cxQphfVgU2Tj",
        "colab_type": "code",
        "outputId": "af6508df-3094-4538-db57-d807a6857b45",
        "colab": {
          "base_uri": "https://localhost:8080/",
          "height": 35
        }
      },
      "source": [
        "y_res"
      ],
      "execution_count": 0,
      "outputs": [
        {
          "output_type": "execute_result",
          "data": {
            "text/plain": [
              "array([1, 1, 1, ..., 1, 1, 1])"
            ]
          },
          "metadata": {
            "tags": []
          },
          "execution_count": 1629
        }
      ]
    },
    {
      "cell_type": "code",
      "metadata": {
        "id": "8JQ-80zoX39z",
        "colab_type": "code",
        "outputId": "f31cc506-a909-4c32-8aff-1b368e81544a",
        "colab": {
          "base_uri": "https://localhost:8080/",
          "height": 191
        }
      },
      "source": [
        "X_res.columns"
      ],
      "execution_count": 0,
      "outputs": [
        {
          "output_type": "execute_result",
          "data": {
            "text/plain": [
              "Index(['loan_id', 'source', 'financial_institution', 'interest_rate',\n",
              "       'unpaid_principal_bal', 'loan_term', 'origination_date',\n",
              "       'first_payment_date', 'loan_to_value', 'number_of_borrowers',\n",
              "       'debt_to_income_ratio', 'borrower_credit_score', 'loan_purpose',\n",
              "       'insurance_percent', 'co-borrower_credit_score', 'insurance_type', 'm1',\n",
              "       'm2', 'm3', 'm4', 'm5', 'm6', 'm7', 'm8', 'm9', 'm10', 'm11', 'm12',\n",
              "       'm13', 'loan_purpose_source_financial_institution_count',\n",
              "       'loan_purpose_bcs_mean', 'loan_purpose_bcs_std', 'source_bcs_mean',\n",
              "       'source_bcs_std'],\n",
              "      dtype='object')"
            ]
          },
          "metadata": {
            "tags": []
          },
          "execution_count": 1630
        }
      ]
    },
    {
      "cell_type": "code",
      "metadata": {
        "id": "3RkK2_dMWEZW",
        "colab_type": "code",
        "colab": {}
      },
      "source": [
        "train_X = X_res.drop(['loan_id', 'm13'],axis=1)\n",
        "y = y_res\n",
        "X = train_X\n",
        "train_y = y"
      ],
      "execution_count": 0,
      "outputs": []
    },
    {
      "cell_type": "code",
      "metadata": {
        "id": "-EUt6t3oXy8i",
        "colab_type": "code",
        "outputId": "d84fbc0d-ee9d-4ad2-b8c1-f2595161abee",
        "colab": {
          "base_uri": "https://localhost:8080/",
          "height": 35
        }
      },
      "source": [
        "print(train_X.shape, y.shape, X.shape)"
      ],
      "execution_count": 0,
      "outputs": [
        {
          "output_type": "stream",
          "text": [
            "(230844, 32) (230844,) (230844, 32)\n"
          ],
          "name": "stdout"
        }
      ]
    },
    {
      "cell_type": "code",
      "metadata": {
        "id": "Y2O6xkL0jyr2",
        "colab_type": "code",
        "outputId": "e6801c4b-585b-4282-bb78-963bc2def2ec",
        "colab": {
          "base_uri": "https://localhost:8080/",
          "height": 239
        }
      },
      "source": [
        "train_X.head()"
      ],
      "execution_count": 0,
      "outputs": [
        {
          "output_type": "execute_result",
          "data": {
            "text/html": [
              "<div>\n",
              "<style scoped>\n",
              "    .dataframe tbody tr th:only-of-type {\n",
              "        vertical-align: middle;\n",
              "    }\n",
              "\n",
              "    .dataframe tbody tr th {\n",
              "        vertical-align: top;\n",
              "    }\n",
              "\n",
              "    .dataframe thead th {\n",
              "        text-align: right;\n",
              "    }\n",
              "</style>\n",
              "<table border=\"1\" class=\"dataframe\">\n",
              "  <thead>\n",
              "    <tr style=\"text-align: right;\">\n",
              "      <th></th>\n",
              "      <th>source</th>\n",
              "      <th>financial_institution</th>\n",
              "      <th>interest_rate</th>\n",
              "      <th>unpaid_principal_bal</th>\n",
              "      <th>loan_term</th>\n",
              "      <th>origination_date</th>\n",
              "      <th>first_payment_date</th>\n",
              "      <th>loan_to_value</th>\n",
              "      <th>number_of_borrowers</th>\n",
              "      <th>debt_to_income_ratio</th>\n",
              "      <th>borrower_credit_score</th>\n",
              "      <th>loan_purpose</th>\n",
              "      <th>insurance_percent</th>\n",
              "      <th>co-borrower_credit_score</th>\n",
              "      <th>insurance_type</th>\n",
              "      <th>m1</th>\n",
              "      <th>m2</th>\n",
              "      <th>m3</th>\n",
              "      <th>m4</th>\n",
              "      <th>m5</th>\n",
              "      <th>m6</th>\n",
              "      <th>m7</th>\n",
              "      <th>m8</th>\n",
              "      <th>m9</th>\n",
              "      <th>m10</th>\n",
              "      <th>m11</th>\n",
              "      <th>m12</th>\n",
              "      <th>loan_purpose_source_financial_institution_count</th>\n",
              "      <th>loan_purpose_bcs_mean</th>\n",
              "      <th>loan_purpose_bcs_std</th>\n",
              "      <th>source_bcs_mean</th>\n",
              "      <th>source_bcs_std</th>\n",
              "    </tr>\n",
              "  </thead>\n",
              "  <tbody>\n",
              "    <tr>\n",
              "      <th>0</th>\n",
              "      <td>2.0</td>\n",
              "      <td>18.0</td>\n",
              "      <td>4.250</td>\n",
              "      <td>214000.0</td>\n",
              "      <td>360.0</td>\n",
              "      <td>5.0</td>\n",
              "      <td>3.0</td>\n",
              "      <td>95.0</td>\n",
              "      <td>1.0</td>\n",
              "      <td>22.0</td>\n",
              "      <td>694.0</td>\n",
              "      <td>2.0</td>\n",
              "      <td>30.0</td>\n",
              "      <td>0.0</td>\n",
              "      <td>0.0</td>\n",
              "      <td>0.0</td>\n",
              "      <td>0.0</td>\n",
              "      <td>0.0</td>\n",
              "      <td>0.0</td>\n",
              "      <td>0.0</td>\n",
              "      <td>0.0</td>\n",
              "      <td>1.0</td>\n",
              "      <td>0.0</td>\n",
              "      <td>0.0</td>\n",
              "      <td>0.0</td>\n",
              "      <td>0.0</td>\n",
              "      <td>0.0</td>\n",
              "      <td>84.0</td>\n",
              "      <td>764.132279</td>\n",
              "      <td>49.782948</td>\n",
              "      <td>772.858292</td>\n",
              "      <td>37.077302</td>\n",
              "    </tr>\n",
              "    <tr>\n",
              "      <th>1</th>\n",
              "      <td>1.0</td>\n",
              "      <td>15.0</td>\n",
              "      <td>4.875</td>\n",
              "      <td>144000.0</td>\n",
              "      <td>360.0</td>\n",
              "      <td>3.0</td>\n",
              "      <td>1.0</td>\n",
              "      <td>72.0</td>\n",
              "      <td>1.0</td>\n",
              "      <td>44.0</td>\n",
              "      <td>697.0</td>\n",
              "      <td>1.0</td>\n",
              "      <td>0.0</td>\n",
              "      <td>0.0</td>\n",
              "      <td>0.0</td>\n",
              "      <td>0.0</td>\n",
              "      <td>0.0</td>\n",
              "      <td>0.0</td>\n",
              "      <td>0.0</td>\n",
              "      <td>0.0</td>\n",
              "      <td>0.0</td>\n",
              "      <td>0.0</td>\n",
              "      <td>0.0</td>\n",
              "      <td>0.0</td>\n",
              "      <td>0.0</td>\n",
              "      <td>1.0</td>\n",
              "      <td>0.0</td>\n",
              "      <td>600.0</td>\n",
              "      <td>763.171980</td>\n",
              "      <td>42.844076</td>\n",
              "      <td>768.844250</td>\n",
              "      <td>39.773734</td>\n",
              "    </tr>\n",
              "    <tr>\n",
              "      <th>2</th>\n",
              "      <td>2.0</td>\n",
              "      <td>17.0</td>\n",
              "      <td>3.250</td>\n",
              "      <td>366000.0</td>\n",
              "      <td>180.0</td>\n",
              "      <td>3.0</td>\n",
              "      <td>1.0</td>\n",
              "      <td>49.0</td>\n",
              "      <td>1.0</td>\n",
              "      <td>33.0</td>\n",
              "      <td>780.0</td>\n",
              "      <td>1.0</td>\n",
              "      <td>0.0</td>\n",
              "      <td>0.0</td>\n",
              "      <td>0.0</td>\n",
              "      <td>0.0</td>\n",
              "      <td>0.0</td>\n",
              "      <td>0.0</td>\n",
              "      <td>0.0</td>\n",
              "      <td>0.0</td>\n",
              "      <td>0.0</td>\n",
              "      <td>0.0</td>\n",
              "      <td>0.0</td>\n",
              "      <td>0.0</td>\n",
              "      <td>0.0</td>\n",
              "      <td>0.0</td>\n",
              "      <td>0.0</td>\n",
              "      <td>28.0</td>\n",
              "      <td>763.171980</td>\n",
              "      <td>42.844076</td>\n",
              "      <td>772.858292</td>\n",
              "      <td>37.077302</td>\n",
              "    </tr>\n",
              "    <tr>\n",
              "      <th>3</th>\n",
              "      <td>0.0</td>\n",
              "      <td>8.0</td>\n",
              "      <td>4.750</td>\n",
              "      <td>135000.0</td>\n",
              "      <td>360.0</td>\n",
              "      <td>4.0</td>\n",
              "      <td>2.0</td>\n",
              "      <td>46.0</td>\n",
              "      <td>2.0</td>\n",
              "      <td>44.0</td>\n",
              "      <td>633.0</td>\n",
              "      <td>1.0</td>\n",
              "      <td>0.0</td>\n",
              "      <td>638.0</td>\n",
              "      <td>0.0</td>\n",
              "      <td>0.0</td>\n",
              "      <td>0.0</td>\n",
              "      <td>0.0</td>\n",
              "      <td>0.0</td>\n",
              "      <td>0.0</td>\n",
              "      <td>0.0</td>\n",
              "      <td>0.0</td>\n",
              "      <td>0.0</td>\n",
              "      <td>1.0</td>\n",
              "      <td>1.0</td>\n",
              "      <td>1.0</td>\n",
              "      <td>1.0</td>\n",
              "      <td>8641.0</td>\n",
              "      <td>763.171980</td>\n",
              "      <td>42.844076</td>\n",
              "      <td>769.892488</td>\n",
              "      <td>44.434702</td>\n",
              "    </tr>\n",
              "    <tr>\n",
              "      <th>4</th>\n",
              "      <td>0.0</td>\n",
              "      <td>8.0</td>\n",
              "      <td>4.750</td>\n",
              "      <td>124000.0</td>\n",
              "      <td>360.0</td>\n",
              "      <td>4.0</td>\n",
              "      <td>2.0</td>\n",
              "      <td>80.0</td>\n",
              "      <td>1.0</td>\n",
              "      <td>43.0</td>\n",
              "      <td>681.0</td>\n",
              "      <td>2.0</td>\n",
              "      <td>0.0</td>\n",
              "      <td>0.0</td>\n",
              "      <td>0.0</td>\n",
              "      <td>0.0</td>\n",
              "      <td>1.0</td>\n",
              "      <td>2.0</td>\n",
              "      <td>3.0</td>\n",
              "      <td>4.0</td>\n",
              "      <td>5.0</td>\n",
              "      <td>6.0</td>\n",
              "      <td>7.0</td>\n",
              "      <td>8.0</td>\n",
              "      <td>9.0</td>\n",
              "      <td>10.0</td>\n",
              "      <td>11.0</td>\n",
              "      <td>7362.0</td>\n",
              "      <td>764.132279</td>\n",
              "      <td>49.782948</td>\n",
              "      <td>769.892488</td>\n",
              "      <td>44.434702</td>\n",
              "    </tr>\n",
              "  </tbody>\n",
              "</table>\n",
              "</div>"
            ],
            "text/plain": [
              "   source  financial_institution  interest_rate  unpaid_principal_bal  \\\n",
              "0     2.0                   18.0          4.250              214000.0   \n",
              "1     1.0                   15.0          4.875              144000.0   \n",
              "2     2.0                   17.0          3.250              366000.0   \n",
              "3     0.0                    8.0          4.750              135000.0   \n",
              "4     0.0                    8.0          4.750              124000.0   \n",
              "\n",
              "   loan_term  origination_date  first_payment_date  loan_to_value  \\\n",
              "0      360.0               5.0                 3.0           95.0   \n",
              "1      360.0               3.0                 1.0           72.0   \n",
              "2      180.0               3.0                 1.0           49.0   \n",
              "3      360.0               4.0                 2.0           46.0   \n",
              "4      360.0               4.0                 2.0           80.0   \n",
              "\n",
              "   number_of_borrowers  debt_to_income_ratio  borrower_credit_score  \\\n",
              "0                  1.0                  22.0                  694.0   \n",
              "1                  1.0                  44.0                  697.0   \n",
              "2                  1.0                  33.0                  780.0   \n",
              "3                  2.0                  44.0                  633.0   \n",
              "4                  1.0                  43.0                  681.0   \n",
              "\n",
              "   loan_purpose  insurance_percent  co-borrower_credit_score  insurance_type  \\\n",
              "0           2.0               30.0                       0.0             0.0   \n",
              "1           1.0                0.0                       0.0             0.0   \n",
              "2           1.0                0.0                       0.0             0.0   \n",
              "3           1.0                0.0                     638.0             0.0   \n",
              "4           2.0                0.0                       0.0             0.0   \n",
              "\n",
              "    m1   m2   m3   m4   m5   m6   m7   m8   m9  m10   m11   m12  \\\n",
              "0  0.0  0.0  0.0  0.0  0.0  0.0  1.0  0.0  0.0  0.0   0.0   0.0   \n",
              "1  0.0  0.0  0.0  0.0  0.0  0.0  0.0  0.0  0.0  0.0   1.0   0.0   \n",
              "2  0.0  0.0  0.0  0.0  0.0  0.0  0.0  0.0  0.0  0.0   0.0   0.0   \n",
              "3  0.0  0.0  0.0  0.0  0.0  0.0  0.0  0.0  1.0  1.0   1.0   1.0   \n",
              "4  0.0  1.0  2.0  3.0  4.0  5.0  6.0  7.0  8.0  9.0  10.0  11.0   \n",
              "\n",
              "   loan_purpose_source_financial_institution_count  loan_purpose_bcs_mean  \\\n",
              "0                                             84.0             764.132279   \n",
              "1                                            600.0             763.171980   \n",
              "2                                             28.0             763.171980   \n",
              "3                                           8641.0             763.171980   \n",
              "4                                           7362.0             764.132279   \n",
              "\n",
              "   loan_purpose_bcs_std  source_bcs_mean  source_bcs_std  \n",
              "0             49.782948       772.858292       37.077302  \n",
              "1             42.844076       768.844250       39.773734  \n",
              "2             42.844076       772.858292       37.077302  \n",
              "3             42.844076       769.892488       44.434702  \n",
              "4             49.782948       769.892488       44.434702  "
            ]
          },
          "metadata": {
            "tags": []
          },
          "execution_count": 1633
        }
      ]
    },
    {
      "cell_type": "code",
      "metadata": {
        "id": "FhJPkovlku15",
        "colab_type": "code",
        "outputId": "e6e41ff0-9a89-4eda-d6fc-bba01cfe7ded",
        "colab": {
          "base_uri": "https://localhost:8080/",
          "height": 191
        }
      },
      "source": [
        "train_X.columns"
      ],
      "execution_count": 0,
      "outputs": [
        {
          "output_type": "execute_result",
          "data": {
            "text/plain": [
              "Index(['source', 'financial_institution', 'interest_rate',\n",
              "       'unpaid_principal_bal', 'loan_term', 'origination_date',\n",
              "       'first_payment_date', 'loan_to_value', 'number_of_borrowers',\n",
              "       'debt_to_income_ratio', 'borrower_credit_score', 'loan_purpose',\n",
              "       'insurance_percent', 'co-borrower_credit_score', 'insurance_type', 'm1',\n",
              "       'm2', 'm3', 'm4', 'm5', 'm6', 'm7', 'm8', 'm9', 'm10', 'm11', 'm12',\n",
              "       'loan_purpose_source_financial_institution_count',\n",
              "       'loan_purpose_bcs_mean', 'loan_purpose_bcs_std', 'source_bcs_mean',\n",
              "       'source_bcs_std'],\n",
              "      dtype='object')"
            ]
          },
          "metadata": {
            "tags": []
          },
          "execution_count": 1634
        }
      ]
    },
    {
      "cell_type": "code",
      "metadata": {
        "id": "3KnTYhGXk7jX",
        "colab_type": "code",
        "outputId": "3fbf2d34-f064-45a5-da37-09f8428f5ce9",
        "colab": {
          "base_uri": "https://localhost:8080/",
          "height": 191
        }
      },
      "source": [
        "header_list = train_X.columns\n",
        "header_list"
      ],
      "execution_count": 0,
      "outputs": [
        {
          "output_type": "execute_result",
          "data": {
            "text/plain": [
              "Index(['source', 'financial_institution', 'interest_rate',\n",
              "       'unpaid_principal_bal', 'loan_term', 'origination_date',\n",
              "       'first_payment_date', 'loan_to_value', 'number_of_borrowers',\n",
              "       'debt_to_income_ratio', 'borrower_credit_score', 'loan_purpose',\n",
              "       'insurance_percent', 'co-borrower_credit_score', 'insurance_type', 'm1',\n",
              "       'm2', 'm3', 'm4', 'm5', 'm6', 'm7', 'm8', 'm9', 'm10', 'm11', 'm12',\n",
              "       'loan_purpose_source_financial_institution_count',\n",
              "       'loan_purpose_bcs_mean', 'loan_purpose_bcs_std', 'source_bcs_mean',\n",
              "       'source_bcs_std'],\n",
              "      dtype='object')"
            ]
          },
          "metadata": {
            "tags": []
          },
          "execution_count": 1635
        }
      ]
    },
    {
      "cell_type": "code",
      "metadata": {
        "id": "CcefWjoMjo5B",
        "colab_type": "code",
        "colab": {}
      },
      "source": [
        "#Standardization\n",
        "from sklearn.preprocessing import StandardScaler\n",
        "sc=StandardScaler()\n",
        "\n",
        "train_X = sc.fit_transform(train_X)\n",
        "test_X = sc.transform(test_X)"
      ],
      "execution_count": 0,
      "outputs": []
    },
    {
      "cell_type": "code",
      "metadata": {
        "id": "DRr7umSsjr_d",
        "colab_type": "code",
        "colab": {}
      },
      "source": [
        "train_X = pd.DataFrame(train_X, columns = header_list)\n",
        "test_X = pd.DataFrame(test_X, columns = header_list)"
      ],
      "execution_count": 0,
      "outputs": []
    },
    {
      "cell_type": "code",
      "metadata": {
        "id": "6cKgGk36LSaT",
        "colab_type": "code",
        "colab": {}
      },
      "source": [
        "from sklearn.metrics import f1_score\n",
        "\n",
        "def lgb_f1_score(y_hat, data):\n",
        "    y_true = data.get_label()\n",
        "    y_hat = np.round(y_hat) # scikits f1 doesn't like probabilities\n",
        "    return 'f1', f1_score(y_true, y_hat), True"
      ],
      "execution_count": 0,
      "outputs": []
    },
    {
      "cell_type": "code",
      "metadata": {
        "id": "lOpd0x5bQZ7C",
        "colab_type": "code",
        "colab": {}
      },
      "source": [
        "# from sklearn.metrics import f1_score\n",
        "\n",
        "# def lgb_f1_score(y_hat, data):\n",
        "#     y_true = data.get_label()\n",
        "#     y_hat = pd.Series(y_hat > 0.25).apply(lambda x: 1 if x else 0) # scikits f1 doesn't like probabilities\n",
        "    \n",
        "#     return 'f1', f1_score(y_true, y_hat), True"
      ],
      "execution_count": 0,
      "outputs": []
    },
    {
      "cell_type": "code",
      "metadata": {
        "id": "yeO4JxuzLVes",
        "colab_type": "code",
        "colab": {}
      },
      "source": [
        "def bestF1(obs,pred):\n",
        "\t\"\"\" Find the optimal F1 value over a grid of cutoffs \"\"\"\n",
        "\tbest = 0\n",
        "\tbestcut = 0\n",
        "\tfor cutoff in np.arange(0.01,0.99,0.01):\n",
        "\t\ttmp = f1_score(obs,pd.Series(pred > cutoff).apply(lambda x: 1 if x else 0))\n",
        "\t\tif tmp > best:\n",
        "\t\t\tbest = tmp\n",
        "\t\t\tbestcut = cutoff\n",
        "\treturn best"
      ],
      "execution_count": 0,
      "outputs": []
    },
    {
      "cell_type": "code",
      "metadata": {
        "id": "ZDljcfecM_AX",
        "colab_type": "code",
        "outputId": "21b22550-2f07-4c32-99c0-3f9e19f12f8b",
        "colab": {
          "base_uri": "https://localhost:8080/",
          "height": 69
        }
      },
      "source": [
        "train_df['m13'].value_counts()"
      ],
      "execution_count": 0,
      "outputs": [
        {
          "output_type": "execute_result",
          "data": {
            "text/plain": [
              "0    115422\n",
              "1       636\n",
              "Name: m13, dtype: int64"
            ]
          },
          "metadata": {
            "tags": []
          },
          "execution_count": 1641
        }
      ]
    },
    {
      "cell_type": "code",
      "metadata": {
        "id": "00IrsVTOLX4k",
        "colab_type": "code",
        "colab": {}
      },
      "source": [
        "def runLGB(train_X, train_y, test_X, test_y=None, test_X2=None): \n",
        "    params = {}\n",
        "    params[\"objective\"] = \"binary\"\n",
        "    params['metric'] = 'auc'\n",
        "    params[\"max_depth\"] = 8\n",
        "    params[\"min_data_in_leaf\"] = 1\n",
        "    params[\"learning_rate\"] =  0.2\n",
        "    params[\"bagging_fraction\"] = 0.7\n",
        "    params[\"feature_fraction\"] = 0.7\n",
        "    params[\"bagging_freq\"] = 5\n",
        "    params[\"bagging_seed\"] = 0\n",
        "    params[\"verbosity\"] = -1\n",
        "\n",
        "    num_rounds = 20000\n",
        "\n",
        "    plst = list(params.items())\n",
        "    lgtrain = lgb.Dataset(train_X, label=train_y)\n",
        "\n",
        "    if test_y is not None:\n",
        "        lgtest = lgb.Dataset(test_X, label=test_y)\n",
        "        model = lgb.train(params, lgtrain, num_rounds,\n",
        "#                           feval=lgb_f1_score, \n",
        "                          valid_sets=[lgtest], \n",
        "                          early_stopping_rounds=200, verbose_eval=500\n",
        "#                           , \n",
        "#                           categorical_feature= ['source',\n",
        "#                                       'financial_institution',\n",
        "#                                       'origination_date',\n",
        "#                                       'first_payment_date',\n",
        "#                                       'loan_purpose']\n",
        "                         )\n",
        "    else:\n",
        "        lgtest = lgb.Dataset(test_X)\n",
        "        model = lgb.train(params, lgtrain, num_rounds\n",
        "#                           , feval=lgb_f1_score\n",
        "#                           , categorical_feature=['source',\n",
        "#                                       'financial_institution',\n",
        "#                                       'origination_date',\n",
        "#                                       'first_payment_date',\n",
        "#                                       'loan_purpose']\n",
        "                         )\n",
        "\n",
        "    pred_test_y = model.predict(test_X, num_iteration=model.best_iteration)\n",
        "    pred_test_y2 = model.predict(test_X2, num_iteration=model.best_iteration)\n",
        "\n",
        "    loss = 0\n",
        "    if test_y is not None:\n",
        "        loss = metrics.roc_auc_score(test_y, pred_test_y)\n",
        "#         loss = f1_score(test_y, pred_test_y.round(), average='macro')\n",
        "        \n",
        "        \n",
        "        print(loss)\n",
        "        return pred_test_y, loss, pred_test_y2, model\n",
        "    else:\n",
        "        return pred_test_y, loss, pred_test_y2, model"
      ],
      "execution_count": 0,
      "outputs": []
    },
    {
      "cell_type": "code",
      "metadata": {
        "id": "rCdtss8mLZ2W",
        "colab_type": "code",
        "outputId": "37ab3859-afa9-47a2-b54e-507e1319ef46",
        "colab": {
          "base_uri": "https://localhost:8080/",
          "height": 191
        }
      },
      "source": [
        "train_X.columns"
      ],
      "execution_count": 0,
      "outputs": [
        {
          "output_type": "execute_result",
          "data": {
            "text/plain": [
              "Index(['source', 'financial_institution', 'interest_rate',\n",
              "       'unpaid_principal_bal', 'loan_term', 'origination_date',\n",
              "       'first_payment_date', 'loan_to_value', 'number_of_borrowers',\n",
              "       'debt_to_income_ratio', 'borrower_credit_score', 'loan_purpose',\n",
              "       'insurance_percent', 'co-borrower_credit_score', 'insurance_type', 'm1',\n",
              "       'm2', 'm3', 'm4', 'm5', 'm6', 'm7', 'm8', 'm9', 'm10', 'm11', 'm12',\n",
              "       'loan_purpose_source_financial_institution_count',\n",
              "       'loan_purpose_bcs_mean', 'loan_purpose_bcs_std', 'source_bcs_mean',\n",
              "       'source_bcs_std'],\n",
              "      dtype='object')"
            ]
          },
          "metadata": {
            "tags": []
          },
          "execution_count": 1643
        }
      ]
    },
    {
      "cell_type": "code",
      "metadata": {
        "id": "Vq1Vls_BLqq5",
        "colab_type": "code",
        "outputId": "62b0308d-0fa3-4787-92da-c74493fdc780",
        "colab": {
          "base_uri": "https://localhost:8080/",
          "height": 191
        }
      },
      "source": [
        "test_X.columns"
      ],
      "execution_count": 0,
      "outputs": [
        {
          "output_type": "execute_result",
          "data": {
            "text/plain": [
              "Index(['source', 'financial_institution', 'interest_rate',\n",
              "       'unpaid_principal_bal', 'loan_term', 'origination_date',\n",
              "       'first_payment_date', 'loan_to_value', 'number_of_borrowers',\n",
              "       'debt_to_income_ratio', 'borrower_credit_score', 'loan_purpose',\n",
              "       'insurance_percent', 'co-borrower_credit_score', 'insurance_type', 'm1',\n",
              "       'm2', 'm3', 'm4', 'm5', 'm6', 'm7', 'm8', 'm9', 'm10', 'm11', 'm12',\n",
              "       'loan_purpose_source_financial_institution_count',\n",
              "       'loan_purpose_bcs_mean', 'loan_purpose_bcs_std', 'source_bcs_mean',\n",
              "       'source_bcs_std'],\n",
              "      dtype='object')"
            ]
          },
          "metadata": {
            "tags": []
          },
          "execution_count": 1644
        }
      ]
    },
    {
      "cell_type": "code",
      "metadata": {
        "id": "Xcy9Kba7YicP",
        "colab_type": "code",
        "outputId": "d76260fa-fb46-4d69-823b-c4027856f3ed",
        "colab": {
          "base_uri": "https://localhost:8080/",
          "height": 589
        }
      },
      "source": [
        "train_X.isnull().sum()"
      ],
      "execution_count": 0,
      "outputs": [
        {
          "output_type": "execute_result",
          "data": {
            "text/plain": [
              "source                                             0\n",
              "financial_institution                              0\n",
              "interest_rate                                      0\n",
              "unpaid_principal_bal                               0\n",
              "loan_term                                          0\n",
              "origination_date                                   0\n",
              "first_payment_date                                 0\n",
              "loan_to_value                                      0\n",
              "number_of_borrowers                                0\n",
              "debt_to_income_ratio                               0\n",
              "borrower_credit_score                              0\n",
              "loan_purpose                                       0\n",
              "insurance_percent                                  0\n",
              "co-borrower_credit_score                           0\n",
              "insurance_type                                     0\n",
              "m1                                                 0\n",
              "m2                                                 0\n",
              "m3                                                 0\n",
              "m4                                                 0\n",
              "m5                                                 0\n",
              "m6                                                 0\n",
              "m7                                                 0\n",
              "m8                                                 0\n",
              "m9                                                 0\n",
              "m10                                                0\n",
              "m11                                                0\n",
              "m12                                                0\n",
              "loan_purpose_source_financial_institution_count    0\n",
              "loan_purpose_bcs_mean                              0\n",
              "loan_purpose_bcs_std                               0\n",
              "source_bcs_mean                                    0\n",
              "source_bcs_std                                     0\n",
              "dtype: int64"
            ]
          },
          "metadata": {
            "tags": []
          },
          "execution_count": 1645
        }
      ]
    },
    {
      "cell_type": "code",
      "metadata": {
        "id": "yqNiMTcUZBYp",
        "colab_type": "code",
        "outputId": "6e0f5dd5-5ce5-4847-a13f-a2aabcb5fe97",
        "colab": {
          "base_uri": "https://localhost:8080/",
          "height": 239
        }
      },
      "source": [
        "train_X.head()"
      ],
      "execution_count": 0,
      "outputs": [
        {
          "output_type": "execute_result",
          "data": {
            "text/html": [
              "<div>\n",
              "<style scoped>\n",
              "    .dataframe tbody tr th:only-of-type {\n",
              "        vertical-align: middle;\n",
              "    }\n",
              "\n",
              "    .dataframe tbody tr th {\n",
              "        vertical-align: top;\n",
              "    }\n",
              "\n",
              "    .dataframe thead th {\n",
              "        text-align: right;\n",
              "    }\n",
              "</style>\n",
              "<table border=\"1\" class=\"dataframe\">\n",
              "  <thead>\n",
              "    <tr style=\"text-align: right;\">\n",
              "      <th></th>\n",
              "      <th>source</th>\n",
              "      <th>financial_institution</th>\n",
              "      <th>interest_rate</th>\n",
              "      <th>unpaid_principal_bal</th>\n",
              "      <th>loan_term</th>\n",
              "      <th>origination_date</th>\n",
              "      <th>first_payment_date</th>\n",
              "      <th>loan_to_value</th>\n",
              "      <th>number_of_borrowers</th>\n",
              "      <th>debt_to_income_ratio</th>\n",
              "      <th>borrower_credit_score</th>\n",
              "      <th>loan_purpose</th>\n",
              "      <th>insurance_percent</th>\n",
              "      <th>co-borrower_credit_score</th>\n",
              "      <th>insurance_type</th>\n",
              "      <th>m1</th>\n",
              "      <th>m2</th>\n",
              "      <th>m3</th>\n",
              "      <th>m4</th>\n",
              "      <th>m5</th>\n",
              "      <th>m6</th>\n",
              "      <th>m7</th>\n",
              "      <th>m8</th>\n",
              "      <th>m9</th>\n",
              "      <th>m10</th>\n",
              "      <th>m11</th>\n",
              "      <th>m12</th>\n",
              "      <th>loan_purpose_source_financial_institution_count</th>\n",
              "      <th>loan_purpose_bcs_mean</th>\n",
              "      <th>loan_purpose_bcs_std</th>\n",
              "      <th>source_bcs_mean</th>\n",
              "      <th>source_bcs_std</th>\n",
              "    </tr>\n",
              "  </thead>\n",
              "  <tbody>\n",
              "    <tr>\n",
              "      <th>0</th>\n",
              "      <td>2.160473</td>\n",
              "      <td>2.824701</td>\n",
              "      <td>0.462670</td>\n",
              "      <td>0.186005</td>\n",
              "      <td>0.686958</td>\n",
              "      <td>2.231879</td>\n",
              "      <td>2.182694</td>\n",
              "      <td>1.681106</td>\n",
              "      <td>-1.006788</td>\n",
              "      <td>-1.278806</td>\n",
              "      <td>-0.977766</td>\n",
              "      <td>1.503146</td>\n",
              "      <td>3.479171</td>\n",
              "      <td>-0.996294</td>\n",
              "      <td>-0.083933</td>\n",
              "      <td>-0.227624</td>\n",
              "      <td>-0.231188</td>\n",
              "      <td>-0.224774</td>\n",
              "      <td>-0.262917</td>\n",
              "      <td>-0.314139</td>\n",
              "      <td>-0.299938</td>\n",
              "      <td>1.146586</td>\n",
              "      <td>-0.340422</td>\n",
              "      <td>-0.366016</td>\n",
              "      <td>-0.366410</td>\n",
              "      <td>-0.395128</td>\n",
              "      <td>-0.433619</td>\n",
              "      <td>-1.116308</td>\n",
              "      <td>-0.827618</td>\n",
              "      <td>1.520184</td>\n",
              "      <td>2.627021</td>\n",
              "      <td>-1.849567</td>\n",
              "    </tr>\n",
              "    <tr>\n",
              "      <th>1</th>\n",
              "      <td>0.603773</td>\n",
              "      <td>2.090754</td>\n",
              "      <td>1.821223</td>\n",
              "      <td>-0.497574</td>\n",
              "      <td>0.686958</td>\n",
              "      <td>-1.076456</td>\n",
              "      <td>-1.055895</td>\n",
              "      <td>0.175301</td>\n",
              "      <td>-1.006788</td>\n",
              "      <td>1.226360</td>\n",
              "      <td>-0.918237</td>\n",
              "      <td>0.179269</td>\n",
              "      <td>-0.400227</td>\n",
              "      <td>-0.996294</td>\n",
              "      <td>-0.083933</td>\n",
              "      <td>-0.227624</td>\n",
              "      <td>-0.231188</td>\n",
              "      <td>-0.224774</td>\n",
              "      <td>-0.262917</td>\n",
              "      <td>-0.314139</td>\n",
              "      <td>-0.299938</td>\n",
              "      <td>-0.317512</td>\n",
              "      <td>-0.340422</td>\n",
              "      <td>-0.366016</td>\n",
              "      <td>-0.366410</td>\n",
              "      <td>0.454718</td>\n",
              "      <td>-0.433619</td>\n",
              "      <td>-1.000311</td>\n",
              "      <td>-0.996069</td>\n",
              "      <td>0.148276</td>\n",
              "      <td>-0.938110</td>\n",
              "      <td>-0.801021</td>\n",
              "    </tr>\n",
              "    <tr>\n",
              "      <th>2</th>\n",
              "      <td>2.160473</td>\n",
              "      <td>2.580052</td>\n",
              "      <td>-1.711013</td>\n",
              "      <td>1.670349</td>\n",
              "      <td>-1.621226</td>\n",
              "      <td>-1.076456</td>\n",
              "      <td>-1.055895</td>\n",
              "      <td>-1.330504</td>\n",
              "      <td>-1.006788</td>\n",
              "      <td>-0.026223</td>\n",
              "      <td>0.728740</td>\n",
              "      <td>0.179269</td>\n",
              "      <td>-0.400227</td>\n",
              "      <td>-0.996294</td>\n",
              "      <td>-0.083933</td>\n",
              "      <td>-0.227624</td>\n",
              "      <td>-0.231188</td>\n",
              "      <td>-0.224774</td>\n",
              "      <td>-0.262917</td>\n",
              "      <td>-0.314139</td>\n",
              "      <td>-0.299938</td>\n",
              "      <td>-0.317512</td>\n",
              "      <td>-0.340422</td>\n",
              "      <td>-0.366016</td>\n",
              "      <td>-0.366410</td>\n",
              "      <td>-0.395128</td>\n",
              "      <td>-0.433619</td>\n",
              "      <td>-1.128897</td>\n",
              "      <td>-0.996069</td>\n",
              "      <td>0.148276</td>\n",
              "      <td>2.627021</td>\n",
              "      <td>-1.849567</td>\n",
              "    </tr>\n",
              "    <tr>\n",
              "      <th>3</th>\n",
              "      <td>-0.952926</td>\n",
              "      <td>0.378212</td>\n",
              "      <td>1.549512</td>\n",
              "      <td>-0.585463</td>\n",
              "      <td>0.686958</td>\n",
              "      <td>0.577711</td>\n",
              "      <td>0.563399</td>\n",
              "      <td>-1.526913</td>\n",
              "      <td>1.170494</td>\n",
              "      <td>1.226360</td>\n",
              "      <td>-2.188195</td>\n",
              "      <td>0.179269</td>\n",
              "      <td>-0.400227</td>\n",
              "      <td>0.815021</td>\n",
              "      <td>-0.083933</td>\n",
              "      <td>-0.227624</td>\n",
              "      <td>-0.231188</td>\n",
              "      <td>-0.224774</td>\n",
              "      <td>-0.262917</td>\n",
              "      <td>-0.314139</td>\n",
              "      <td>-0.299938</td>\n",
              "      <td>-0.317512</td>\n",
              "      <td>-0.340422</td>\n",
              "      <td>0.750454</td>\n",
              "      <td>0.599664</td>\n",
              "      <td>0.454718</td>\n",
              "      <td>0.323058</td>\n",
              "      <td>0.807312</td>\n",
              "      <td>-0.996069</td>\n",
              "      <td>0.148276</td>\n",
              "      <td>-0.007102</td>\n",
              "      <td>1.011463</td>\n",
              "    </tr>\n",
              "    <tr>\n",
              "      <th>4</th>\n",
              "      <td>-0.952926</td>\n",
              "      <td>0.378212</td>\n",
              "      <td>1.549512</td>\n",
              "      <td>-0.692883</td>\n",
              "      <td>0.686958</td>\n",
              "      <td>0.577711</td>\n",
              "      <td>0.563399</td>\n",
              "      <td>0.699059</td>\n",
              "      <td>-1.006788</td>\n",
              "      <td>1.112488</td>\n",
              "      <td>-1.235727</td>\n",
              "      <td>1.503146</td>\n",
              "      <td>-0.400227</td>\n",
              "      <td>-0.996294</td>\n",
              "      <td>-0.083933</td>\n",
              "      <td>-0.227624</td>\n",
              "      <td>4.223930</td>\n",
              "      <td>7.030414</td>\n",
              "      <td>8.126904</td>\n",
              "      <td>8.025646</td>\n",
              "      <td>8.295384</td>\n",
              "      <td>8.467073</td>\n",
              "      <td>8.692539</td>\n",
              "      <td>8.565750</td>\n",
              "      <td>8.328262</td>\n",
              "      <td>8.103340</td>\n",
              "      <td>7.889821</td>\n",
              "      <td>0.519792</td>\n",
              "      <td>-0.827618</td>\n",
              "      <td>1.520184</td>\n",
              "      <td>-0.007102</td>\n",
              "      <td>1.011463</td>\n",
              "    </tr>\n",
              "  </tbody>\n",
              "</table>\n",
              "</div>"
            ],
            "text/plain": [
              "     source  financial_institution  interest_rate  unpaid_principal_bal  \\\n",
              "0  2.160473               2.824701       0.462670              0.186005   \n",
              "1  0.603773               2.090754       1.821223             -0.497574   \n",
              "2  2.160473               2.580052      -1.711013              1.670349   \n",
              "3 -0.952926               0.378212       1.549512             -0.585463   \n",
              "4 -0.952926               0.378212       1.549512             -0.692883   \n",
              "\n",
              "   loan_term  origination_date  first_payment_date  loan_to_value  \\\n",
              "0   0.686958          2.231879            2.182694       1.681106   \n",
              "1   0.686958         -1.076456           -1.055895       0.175301   \n",
              "2  -1.621226         -1.076456           -1.055895      -1.330504   \n",
              "3   0.686958          0.577711            0.563399      -1.526913   \n",
              "4   0.686958          0.577711            0.563399       0.699059   \n",
              "\n",
              "   number_of_borrowers  debt_to_income_ratio  borrower_credit_score  \\\n",
              "0            -1.006788             -1.278806              -0.977766   \n",
              "1            -1.006788              1.226360              -0.918237   \n",
              "2            -1.006788             -0.026223               0.728740   \n",
              "3             1.170494              1.226360              -2.188195   \n",
              "4            -1.006788              1.112488              -1.235727   \n",
              "\n",
              "   loan_purpose  insurance_percent  co-borrower_credit_score  insurance_type  \\\n",
              "0      1.503146           3.479171                 -0.996294       -0.083933   \n",
              "1      0.179269          -0.400227                 -0.996294       -0.083933   \n",
              "2      0.179269          -0.400227                 -0.996294       -0.083933   \n",
              "3      0.179269          -0.400227                  0.815021       -0.083933   \n",
              "4      1.503146          -0.400227                 -0.996294       -0.083933   \n",
              "\n",
              "         m1        m2        m3        m4        m5        m6        m7  \\\n",
              "0 -0.227624 -0.231188 -0.224774 -0.262917 -0.314139 -0.299938  1.146586   \n",
              "1 -0.227624 -0.231188 -0.224774 -0.262917 -0.314139 -0.299938 -0.317512   \n",
              "2 -0.227624 -0.231188 -0.224774 -0.262917 -0.314139 -0.299938 -0.317512   \n",
              "3 -0.227624 -0.231188 -0.224774 -0.262917 -0.314139 -0.299938 -0.317512   \n",
              "4 -0.227624  4.223930  7.030414  8.126904  8.025646  8.295384  8.467073   \n",
              "\n",
              "         m8        m9       m10       m11       m12  \\\n",
              "0 -0.340422 -0.366016 -0.366410 -0.395128 -0.433619   \n",
              "1 -0.340422 -0.366016 -0.366410  0.454718 -0.433619   \n",
              "2 -0.340422 -0.366016 -0.366410 -0.395128 -0.433619   \n",
              "3 -0.340422  0.750454  0.599664  0.454718  0.323058   \n",
              "4  8.692539  8.565750  8.328262  8.103340  7.889821   \n",
              "\n",
              "   loan_purpose_source_financial_institution_count  loan_purpose_bcs_mean  \\\n",
              "0                                        -1.116308              -0.827618   \n",
              "1                                        -1.000311              -0.996069   \n",
              "2                                        -1.128897              -0.996069   \n",
              "3                                         0.807312              -0.996069   \n",
              "4                                         0.519792              -0.827618   \n",
              "\n",
              "   loan_purpose_bcs_std  source_bcs_mean  source_bcs_std  \n",
              "0              1.520184         2.627021       -1.849567  \n",
              "1              0.148276        -0.938110       -0.801021  \n",
              "2              0.148276         2.627021       -1.849567  \n",
              "3              0.148276        -0.007102        1.011463  \n",
              "4              1.520184        -0.007102        1.011463  "
            ]
          },
          "metadata": {
            "tags": []
          },
          "execution_count": 1646
        }
      ]
    },
    {
      "cell_type": "code",
      "metadata": {
        "id": "MzZ4z9DfZH7q",
        "colab_type": "code",
        "outputId": "e50e6ab0-3ff8-43d5-c6a0-e42c2232fa28",
        "colab": {
          "base_uri": "https://localhost:8080/",
          "height": 35
        }
      },
      "source": [
        "np.unique(y, return_counts=True)"
      ],
      "execution_count": 0,
      "outputs": [
        {
          "output_type": "execute_result",
          "data": {
            "text/plain": [
              "(array([0, 1]), array([115422, 115422]))"
            ]
          },
          "metadata": {
            "tags": []
          },
          "execution_count": 1647
        }
      ]
    },
    {
      "cell_type": "code",
      "metadata": {
        "id": "80-kthFRMqb8",
        "colab_type": "code",
        "outputId": "b0b99398-24ad-43fe-b8b9-26fdae67bcf1",
        "colab": {
          "base_uri": "https://localhost:8080/",
          "height": 555
        }
      },
      "source": [
        "cv_scores = []\n",
        "pred_test_full = 0\n",
        "kf = model_selection.GroupKFold(n_splits=5)\n",
        "for dev_index, val_index in kf.split(X_res, y_res, X_res[\"loan_id\"].values):\n",
        "#     print(X_res[\"loan_id\"].loc[val_index].unique())\n",
        "    dev_X, val_X = train_X.loc[dev_index,:], train_X.loc[val_index,:]\n",
        "    dev_y, val_y = train_y[dev_index], train_y[val_index]\n",
        "    pred_val, loss, pred_test, model = runLGB(dev_X, dev_y, val_X, val_y, test_X)\n",
        "    pred_test_full += pred_test\n",
        "    cv_scores.append(loss)\n",
        "    print(cv_scores)\n",
        "    print('F1 Score: {:.2f}'.format(f1_score(val_y, pred_val.round())))\n",
        "pred_test_full /= 5.\n",
        "print(sum(cv_scores)/5)"
      ],
      "execution_count": 0,
      "outputs": [
        {
          "output_type": "stream",
          "text": [
            "Training until validation scores don't improve for 200 rounds.\n",
            "Early stopping, best iteration is:\n",
            "[24]\tvalid_0's auc: 0.999484\n",
            "0.9994837863772411\n",
            "[0.9994837863772411]\n",
            "F1 Score: 1.00\n",
            "Training until validation scores don't improve for 200 rounds.\n",
            "Early stopping, best iteration is:\n",
            "[38]\tvalid_0's auc: 0.999286\n",
            "0.9992859688524991\n",
            "[0.9994837863772411, 0.9992859688524991]\n",
            "F1 Score: 1.00\n",
            "Training until validation scores don't improve for 200 rounds.\n",
            "Early stopping, best iteration is:\n",
            "[25]\tvalid_0's auc: 0.999394\n",
            "0.9993941823051029\n",
            "[0.9994837863772411, 0.9992859688524991, 0.9993941823051029]\n",
            "F1 Score: 0.99\n",
            "Training until validation scores don't improve for 200 rounds.\n",
            "Early stopping, best iteration is:\n",
            "[22]\tvalid_0's auc: 0.99939\n",
            "0.9993904119226691\n",
            "[0.9994837863772411, 0.9992859688524991, 0.9993941823051029, 0.9993904119226691]\n",
            "F1 Score: 0.99\n",
            "Training until validation scores don't improve for 200 rounds.\n",
            "Early stopping, best iteration is:\n",
            "[18]\tvalid_0's auc: 0.999087\n",
            "0.9990871599437573\n",
            "[0.9994837863772411, 0.9992859688524991, 0.9993941823051029, 0.9993904119226691, 0.9990871599437573]\n",
            "F1 Score: 0.99\n",
            "0.999328301880254\n"
          ],
          "name": "stdout"
        }
      ]
    },
    {
      "cell_type": "code",
      "metadata": {
        "id": "ZK2MQYGKN6-J",
        "colab_type": "code",
        "colab": {}
      },
      "source": [
        "# 0.7434185191072873\n",
        "# 0.7470268412119627\n",
        "# 0.7411774489084628\n",
        "# 0.997924990379607\n",
        "# 0.996833337297258\n",
        "# 0.996530094996743\n",
        "# 0.9970196088336072\n",
        "\n",
        "# 0.9993548736122042\n",
        "\n",
        "# 0.999430725369189\n",
        "# 0.9994454535851223\n"
      ],
      "execution_count": 0,
      "outputs": []
    },
    {
      "cell_type": "code",
      "metadata": {
        "id": "hFaLuXy4NBk9",
        "colab_type": "code",
        "colab": {}
      },
      "source": [
        "# # Fill the is_pass variable with the predictions\n",
        "submission_df['m13']= pd.DataFrame(pred_test_full)\n",
        "submission_df['m13'] = submission_df['m13'].apply(lambda x: 1 if x >= 0.37 else 0)\n",
        "# # Converting the submission file to csv format\n",
        "submission_df.to_csv('lgb_base_5.csv', index=False)"
      ],
      "execution_count": 0,
      "outputs": []
    },
    {
      "cell_type": "code",
      "metadata": {
        "id": "fhgOoGVkN3Rx",
        "colab_type": "code",
        "outputId": "de74ed3a-8455-4bd9-868d-14b1d1b23844",
        "colab": {
          "base_uri": "https://localhost:8080/",
          "height": 202
        }
      },
      "source": [
        "submission_df.head()"
      ],
      "execution_count": 0,
      "outputs": [
        {
          "output_type": "execute_result",
          "data": {
            "text/html": [
              "<div>\n",
              "<style scoped>\n",
              "    .dataframe tbody tr th:only-of-type {\n",
              "        vertical-align: middle;\n",
              "    }\n",
              "\n",
              "    .dataframe tbody tr th {\n",
              "        vertical-align: top;\n",
              "    }\n",
              "\n",
              "    .dataframe thead th {\n",
              "        text-align: right;\n",
              "    }\n",
              "</style>\n",
              "<table border=\"1\" class=\"dataframe\">\n",
              "  <thead>\n",
              "    <tr style=\"text-align: right;\">\n",
              "      <th></th>\n",
              "      <th>loan_id</th>\n",
              "      <th>m13</th>\n",
              "    </tr>\n",
              "  </thead>\n",
              "  <tbody>\n",
              "    <tr>\n",
              "      <th>0</th>\n",
              "      <td>1</td>\n",
              "      <td>0</td>\n",
              "    </tr>\n",
              "    <tr>\n",
              "      <th>1</th>\n",
              "      <td>2</td>\n",
              "      <td>0</td>\n",
              "    </tr>\n",
              "    <tr>\n",
              "      <th>2</th>\n",
              "      <td>3</td>\n",
              "      <td>0</td>\n",
              "    </tr>\n",
              "    <tr>\n",
              "      <th>3</th>\n",
              "      <td>4</td>\n",
              "      <td>0</td>\n",
              "    </tr>\n",
              "    <tr>\n",
              "      <th>4</th>\n",
              "      <td>5</td>\n",
              "      <td>0</td>\n",
              "    </tr>\n",
              "  </tbody>\n",
              "</table>\n",
              "</div>"
            ],
            "text/plain": [
              "   loan_id  m13\n",
              "0        1    0\n",
              "1        2    0\n",
              "2        3    0\n",
              "3        4    0\n",
              "4        5    0"
            ]
          },
          "metadata": {
            "tags": []
          },
          "execution_count": 1675
        }
      ]
    },
    {
      "cell_type": "code",
      "metadata": {
        "id": "z4b3EusWN60q",
        "colab_type": "code",
        "outputId": "1150638a-b423-4865-d696-cab6eb2a2da0",
        "colab": {
          "base_uri": "https://localhost:8080/",
          "height": 69
        }
      },
      "source": [
        "submission_df['m13'].value_counts()\n",
        "# 0    35691\n",
        "# 1      175\n",
        "\n",
        "# 0    35683\n",
        "# 1      183\n",
        "\n",
        "# 0    35689\n",
        "# 1      177"
      ],
      "execution_count": 0,
      "outputs": [
        {
          "output_type": "execute_result",
          "data": {
            "text/plain": [
              "0    35689\n",
              "1      177\n",
              "Name: m13, dtype: int64"
            ]
          },
          "metadata": {
            "tags": []
          },
          "execution_count": 1676
        }
      ]
    },
    {
      "cell_type": "code",
      "metadata": {
        "id": "aY6HwJ4jL8nC",
        "colab_type": "code",
        "colab": {}
      },
      "source": [
        "import lightgbm as lgb\n",
        "\n",
        "def identify_zero_importance_features(train, train_labels, iterations = 2):\n",
        "    \"\"\"\n",
        "    Identify zero importance features in a training dataset based on the \n",
        "    feature importances from a gradient boosting model. \n",
        "    \n",
        "    Parameters\n",
        "    --------\n",
        "    train : dataframe\n",
        "        Training features\n",
        "        \n",
        "    train_labels : np.array\n",
        "        Labels for training data\n",
        "        \n",
        "    iterations : integer, default = 2\n",
        "        Number of cross validation splits to use for determining feature importances\n",
        "    \"\"\"\n",
        "    \n",
        "    # Initialize an empty array to hold feature importances\n",
        "    feature_importances = np.zeros(train.shape[1])\n",
        "\n",
        "    # Create the model with several hyperparameters\n",
        "    model = lgb.LGBMClassifier(objective='binary', boosting_type = 'goss', \n",
        "                               n_estimators = 10000, class_weight = 'balanced')\n",
        "    \n",
        "    # Fit the model multiple times to avoid overfitting\n",
        "    for i in range(iterations):\n",
        "\n",
        "        # Split into training and validation set\n",
        "        train_features, valid_features, train_y, valid_y = train_test_split(train, train_labels, \n",
        "                                                                            test_size = 0.25, \n",
        "                                                                            random_state = i)\n",
        "\n",
        "        # Train using early stopping\n",
        "        model.fit(train_features, train_y, early_stopping_rounds=100, \n",
        "                  eval_set = [(valid_features, valid_y)], \n",
        "                  eval_metric = 'auc',\n",
        "                  verbose = 200)\n",
        "\n",
        "        # Record the feature importances\n",
        "        feature_importances += model.feature_importances_ / iterations\n",
        "    \n",
        "    feature_importances = pd.DataFrame({'feature': list(train.columns), \n",
        "                            'importance': feature_importances}).sort_values('importance', \n",
        "                                                                            ascending = False)\n",
        "    \n",
        "    # Find the features with zero importance\n",
        "    zero_features = list(feature_importances[feature_importances['importance'] == 0.0]['feature'])\n",
        "    print('\\nThere are %d features with 0.0 importance' % len(zero_features))\n",
        "    \n",
        "    return zero_features, feature_importances"
      ],
      "execution_count": 0,
      "outputs": []
    },
    {
      "cell_type": "code",
      "metadata": {
        "id": "9Dox5eNh9DD8",
        "colab_type": "code",
        "outputId": "4d5888d8-93b3-46d8-fc63-4eecf8a57d6b",
        "colab": {
          "base_uri": "https://localhost:8080/",
          "height": 711
        }
      },
      "source": [
        "identify_zero_importance_features(train_X, train_y, iterations = 2)"
      ],
      "execution_count": 0,
      "outputs": [
        {
          "output_type": "stream",
          "text": [
            "Training until validation scores don't improve for 100 rounds.\n",
            "Early stopping, best iteration is:\n",
            "[79]\tvalid_0's binary_logloss: 0.0131647\tvalid_0's auc: 0.999402\n",
            "Training until validation scores don't improve for 100 rounds.\n",
            "Early stopping, best iteration is:\n",
            "[71]\tvalid_0's binary_logloss: 0.0128157\tvalid_0's auc: 0.99955\n",
            "\n",
            "There are 0 features with 0.0 importance\n"
          ],
          "name": "stdout"
        },
        {
          "output_type": "execute_result",
          "data": {
            "text/plain": [
              "([],                                             feature  importance\n",
              " 30                              interest_rate_count       220.5\n",
              " 4                                         loan_term       151.5\n",
              " 27  loan_purpose_source_financial_institution_count       143.5\n",
              " 0                                            source       141.0\n",
              " 11                                     loan_purpose       136.0\n",
              " 1                             financial_institution       125.0\n",
              " 2                                     interest_rate       119.5\n",
              " 10                            borrower_credit_score       111.0\n",
              " 9                              debt_to_income_ratio        97.0\n",
              " 8                               number_of_borrowers        95.0\n",
              " 6                                first_payment_date        93.0\n",
              " 26                                              m12        87.5\n",
              " 7                                     loan_to_value        77.0\n",
              " 13                         co-borrower_credit_score        75.0\n",
              " 12                                insurance_percent        71.0\n",
              " 5                                  origination_date        61.0\n",
              " 24                                              m10        53.0\n",
              " 19                                               m5        52.5\n",
              " 29                                     source_count        52.0\n",
              " 28                               loan_purpose_count        50.0\n",
              " 22                                               m8        45.0\n",
              " 3                              unpaid_principal_bal        44.5\n",
              " 25                                              m11        41.5\n",
              " 23                                               m9        36.5\n",
              " 21                                               m7        24.0\n",
              " 18                                               m4        13.5\n",
              " 15                                               m1        10.5\n",
              " 16                                               m2         9.5\n",
              " 20                                               m6         8.5\n",
              " 17                                               m3         4.0\n",
              " 14                                   insurance_type         0.5)"
            ]
          },
          "metadata": {
            "tags": []
          },
          "execution_count": 1261
        }
      ]
    }
  ]
}