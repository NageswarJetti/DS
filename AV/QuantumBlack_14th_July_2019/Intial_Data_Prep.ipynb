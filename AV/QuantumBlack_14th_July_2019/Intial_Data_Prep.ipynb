{
  "nbformat": 4,
  "nbformat_minor": 0,
  "metadata": {
    "colab": {
      "name": "AV_QB_Code_v0.ipynb",
      "version": "0.3.2",
      "provenance": [],
      "collapsed_sections": [],
      "toc_visible": true
    },
    "kernelspec": {
      "name": "python3",
      "display_name": "Python 3"
    },
    "accelerator": "GPU"
  },
  "cells": [
    {
      "cell_type": "code",
      "metadata": {
        "id": "zAxUKltioOmg",
        "colab_type": "code",
        "outputId": "e1e4020a-f86a-4c40-b6b0-61fb744ab80d",
        "colab": {
          "base_uri": "https://localhost:8080/",
          "height": 52
        }
      },
      "source": [
        "\n",
        "# Install the PyDrive wrapper & import libraries.\n",
        "# This only needs to be done once in a notebook.\n",
        "!pip install -U -q PyDrive\n",
        "from pydrive.auth import GoogleAuth\n",
        "from pydrive.drive import GoogleDrive\n",
        "from google.colab import auth\n",
        "from oauth2client.client import GoogleCredentials\n",
        "\n",
        "# Authenticate and create the PyDrive client.\n",
        "# This only needs to be done once in a notebook.\n",
        "auth.authenticate_user()\n",
        "gauth = GoogleAuth()\n",
        "gauth.credentials = GoogleCredentials.get_application_default()\n",
        "drive = GoogleDrive(gauth)"
      ],
      "execution_count": 1,
      "outputs": [
        {
          "output_type": "stream",
          "text": [
            "\u001b[?25l\r\u001b[K     |▎                               | 10kB 16.5MB/s eta 0:00:01\r\u001b[K     |▋                               | 20kB 5.3MB/s eta 0:00:01\r\u001b[K     |█                               | 30kB 7.4MB/s eta 0:00:01\r\u001b[K     |█▎                              | 40kB 4.4MB/s eta 0:00:01\r\u001b[K     |█▋                              | 51kB 5.4MB/s eta 0:00:01\r\u001b[K     |██                              | 61kB 6.3MB/s eta 0:00:01\r\u001b[K     |██▎                             | 71kB 7.2MB/s eta 0:00:01\r\u001b[K     |██▋                             | 81kB 8.1MB/s eta 0:00:01\r\u001b[K     |███                             | 92kB 8.9MB/s eta 0:00:01\r\u001b[K     |███▎                            | 102kB 7.0MB/s eta 0:00:01\r\u001b[K     |███▋                            | 112kB 7.0MB/s eta 0:00:01\r\u001b[K     |████                            | 122kB 7.0MB/s eta 0:00:01\r\u001b[K     |████▎                           | 133kB 7.0MB/s eta 0:00:01\r\u001b[K     |████▋                           | 143kB 7.0MB/s eta 0:00:01\r\u001b[K     |█████                           | 153kB 7.0MB/s eta 0:00:01\r\u001b[K     |█████▎                          | 163kB 7.0MB/s eta 0:00:01\r\u001b[K     |█████▋                          | 174kB 7.0MB/s eta 0:00:01\r\u001b[K     |██████                          | 184kB 7.0MB/s eta 0:00:01\r\u001b[K     |██████▎                         | 194kB 7.0MB/s eta 0:00:01\r\u001b[K     |██████▋                         | 204kB 7.0MB/s eta 0:00:01\r\u001b[K     |███████                         | 215kB 7.0MB/s eta 0:00:01\r\u001b[K     |███████▎                        | 225kB 7.0MB/s eta 0:00:01\r\u001b[K     |███████▋                        | 235kB 7.0MB/s eta 0:00:01\r\u001b[K     |████████                        | 245kB 7.0MB/s eta 0:00:01\r\u001b[K     |████████▎                       | 256kB 7.0MB/s eta 0:00:01\r\u001b[K     |████████▋                       | 266kB 7.0MB/s eta 0:00:01\r\u001b[K     |█████████                       | 276kB 7.0MB/s eta 0:00:01\r\u001b[K     |█████████▎                      | 286kB 7.0MB/s eta 0:00:01\r\u001b[K     |█████████▋                      | 296kB 7.0MB/s eta 0:00:01\r\u001b[K     |██████████                      | 307kB 7.0MB/s eta 0:00:01\r\u001b[K     |██████████▎                     | 317kB 7.0MB/s eta 0:00:01\r\u001b[K     |██████████▋                     | 327kB 7.0MB/s eta 0:00:01\r\u001b[K     |███████████                     | 337kB 7.0MB/s eta 0:00:01\r\u001b[K     |███████████▎                    | 348kB 7.0MB/s eta 0:00:01\r\u001b[K     |███████████▋                    | 358kB 7.0MB/s eta 0:00:01\r\u001b[K     |████████████                    | 368kB 7.0MB/s eta 0:00:01\r\u001b[K     |████████████▎                   | 378kB 7.0MB/s eta 0:00:01\r\u001b[K     |████████████▋                   | 389kB 7.0MB/s eta 0:00:01\r\u001b[K     |█████████████                   | 399kB 7.0MB/s eta 0:00:01\r\u001b[K     |█████████████▎                  | 409kB 7.0MB/s eta 0:00:01\r\u001b[K     |█████████████▋                  | 419kB 7.0MB/s eta 0:00:01\r\u001b[K     |██████████████                  | 430kB 7.0MB/s eta 0:00:01\r\u001b[K     |██████████████▎                 | 440kB 7.0MB/s eta 0:00:01\r\u001b[K     |██████████████▋                 | 450kB 7.0MB/s eta 0:00:01\r\u001b[K     |███████████████                 | 460kB 7.0MB/s eta 0:00:01\r\u001b[K     |███████████████▎                | 471kB 7.0MB/s eta 0:00:01\r\u001b[K     |███████████████▋                | 481kB 7.0MB/s eta 0:00:01\r\u001b[K     |████████████████                | 491kB 7.0MB/s eta 0:00:01\r\u001b[K     |████████████████▎               | 501kB 7.0MB/s eta 0:00:01\r\u001b[K     |████████████████▋               | 512kB 7.0MB/s eta 0:00:01\r\u001b[K     |█████████████████               | 522kB 7.0MB/s eta 0:00:01\r\u001b[K     |█████████████████▎              | 532kB 7.0MB/s eta 0:00:01\r\u001b[K     |█████████████████▋              | 542kB 7.0MB/s eta 0:00:01\r\u001b[K     |██████████████████              | 552kB 7.0MB/s eta 0:00:01\r\u001b[K     |██████████████████▎             | 563kB 7.0MB/s eta 0:00:01\r\u001b[K     |██████████████████▋             | 573kB 7.0MB/s eta 0:00:01\r\u001b[K     |███████████████████             | 583kB 7.0MB/s eta 0:00:01\r\u001b[K     |███████████████████▎            | 593kB 7.0MB/s eta 0:00:01\r\u001b[K     |███████████████████▋            | 604kB 7.0MB/s eta 0:00:01\r\u001b[K     |████████████████████            | 614kB 7.0MB/s eta 0:00:01\r\u001b[K     |████████████████████▎           | 624kB 7.0MB/s eta 0:00:01\r\u001b[K     |████████████████████▋           | 634kB 7.0MB/s eta 0:00:01\r\u001b[K     |█████████████████████           | 645kB 7.0MB/s eta 0:00:01\r\u001b[K     |█████████████████████▎          | 655kB 7.0MB/s eta 0:00:01\r\u001b[K     |█████████████████████▋          | 665kB 7.0MB/s eta 0:00:01\r\u001b[K     |██████████████████████          | 675kB 7.0MB/s eta 0:00:01\r\u001b[K     |██████████████████████▎         | 686kB 7.0MB/s eta 0:00:01\r\u001b[K     |██████████████████████▋         | 696kB 7.0MB/s eta 0:00:01\r\u001b[K     |███████████████████████         | 706kB 7.0MB/s eta 0:00:01\r\u001b[K     |███████████████████████▎        | 716kB 7.0MB/s eta 0:00:01\r\u001b[K     |███████████████████████▋        | 727kB 7.0MB/s eta 0:00:01\r\u001b[K     |████████████████████████        | 737kB 7.0MB/s eta 0:00:01\r\u001b[K     |████████████████████████▎       | 747kB 7.0MB/s eta 0:00:01\r\u001b[K     |████████████████████████▋       | 757kB 7.0MB/s eta 0:00:01\r\u001b[K     |████████████████████████▉       | 768kB 7.0MB/s eta 0:00:01\r\u001b[K     |█████████████████████████▏      | 778kB 7.0MB/s eta 0:00:01\r\u001b[K     |█████████████████████████▌      | 788kB 7.0MB/s eta 0:00:01\r\u001b[K     |█████████████████████████▉      | 798kB 7.0MB/s eta 0:00:01\r\u001b[K     |██████████████████████████▏     | 808kB 7.0MB/s eta 0:00:01\r\u001b[K     |██████████████████████████▌     | 819kB 7.0MB/s eta 0:00:01\r\u001b[K     |██████████████████████████▉     | 829kB 7.0MB/s eta 0:00:01\r\u001b[K     |███████████████████████████▏    | 839kB 7.0MB/s eta 0:00:01\r\u001b[K     |███████████████████████████▌    | 849kB 7.0MB/s eta 0:00:01\r\u001b[K     |███████████████████████████▉    | 860kB 7.0MB/s eta 0:00:01\r\u001b[K     |████████████████████████████▏   | 870kB 7.0MB/s eta 0:00:01\r\u001b[K     |████████████████████████████▌   | 880kB 7.0MB/s eta 0:00:01\r\u001b[K     |████████████████████████████▉   | 890kB 7.0MB/s eta 0:00:01\r\u001b[K     |█████████████████████████████▏  | 901kB 7.0MB/s eta 0:00:01\r\u001b[K     |█████████████████████████████▌  | 911kB 7.0MB/s eta 0:00:01\r\u001b[K     |█████████████████████████████▉  | 921kB 7.0MB/s eta 0:00:01\r\u001b[K     |██████████████████████████████▏ | 931kB 7.0MB/s eta 0:00:01\r\u001b[K     |██████████████████████████████▌ | 942kB 7.0MB/s eta 0:00:01\r\u001b[K     |██████████████████████████████▉ | 952kB 7.0MB/s eta 0:00:01\r\u001b[K     |███████████████████████████████▏| 962kB 7.0MB/s eta 0:00:01\r\u001b[K     |███████████████████████████████▌| 972kB 7.0MB/s eta 0:00:01\r\u001b[K     |███████████████████████████████▉| 983kB 7.0MB/s eta 0:00:01\r\u001b[K     |████████████████████████████████| 993kB 7.0MB/s \n",
            "\u001b[?25h  Building wheel for PyDrive (setup.py) ... \u001b[?25l\u001b[?25hdone\n"
          ],
          "name": "stdout"
        }
      ]
    },
    {
      "cell_type": "code",
      "metadata": {
        "id": "UXKvwD1ooYAK",
        "colab_type": "code",
        "outputId": "69a36778-08a3-4850-b90a-a7f1b62fc6bf",
        "colab": {
          "base_uri": "https://localhost:8080/",
          "height": 124
        }
      },
      "source": [
        "# Run this cell to mount your Google Drive.\n",
        "from google.colab import drive\n",
        "drive.mount('/content/drive')"
      ],
      "execution_count": 2,
      "outputs": [
        {
          "output_type": "stream",
          "text": [
            "Go to this URL in a browser: https://accounts.google.com/o/oauth2/auth?client_id=947318989803-6bn6qk8qdgf4n4g3pfee6491hc0brc4i.apps.googleusercontent.com&redirect_uri=urn%3Aietf%3Awg%3Aoauth%3A2.0%3Aoob&scope=email%20https%3A%2F%2Fwww.googleapis.com%2Fauth%2Fdocs.test%20https%3A%2F%2Fwww.googleapis.com%2Fauth%2Fdrive%20https%3A%2F%2Fwww.googleapis.com%2Fauth%2Fdrive.photos.readonly%20https%3A%2F%2Fwww.googleapis.com%2Fauth%2Fpeopleapi.readonly&response_type=code\n",
            "\n",
            "Enter your authorization code:\n",
            "··········\n",
            "Mounted at /content/drive\n"
          ],
          "name": "stdout"
        }
      ]
    },
    {
      "cell_type": "code",
      "metadata": {
        "id": "s1jjbl7_E4Od",
        "colab_type": "code",
        "outputId": "28232180-4b5e-4b5b-ca13-6fa12e5dcebb",
        "colab": {
          "base_uri": "https://localhost:8080/",
          "height": 35
        }
      },
      "source": [
        "!ls"
      ],
      "execution_count": 3,
      "outputs": [
        {
          "output_type": "stream",
          "text": [
            "adc.json  drive  sample_data\n"
          ],
          "name": "stdout"
        }
      ]
    },
    {
      "cell_type": "code",
      "metadata": {
        "id": "HLEDvkOuGWrx",
        "colab_type": "code",
        "outputId": "b4527789-663e-4701-898e-2bde865783e8",
        "colab": {
          "base_uri": "https://localhost:8080/",
          "height": 35
        }
      },
      "source": [
        "!ls '/content/drive/My Drive/AV_data/Quantum_Black_5th_July_2019/'"
      ],
      "execution_count": 4,
      "outputs": [
        {
          "output_type": "stream",
          "text": [
            "drive_csv_file.zip  trip_csv_file.zip  weather_csv_file.zip\n"
          ],
          "name": "stdout"
        }
      ]
    },
    {
      "cell_type": "code",
      "metadata": {
        "id": "jqakEqgJGdy5",
        "colab_type": "code",
        "colab": {}
      },
      "source": [
        "# !unzip -q '/content/drive/My Drive/AV_data/input_data.zip'"
      ],
      "execution_count": 0,
      "outputs": []
    },
    {
      "cell_type": "code",
      "metadata": {
        "id": "UOdFFaDuHFgZ",
        "colab_type": "code",
        "outputId": "fc013eb3-8c4a-4294-f6d9-e1f8120e6e22",
        "colab": {
          "base_uri": "https://localhost:8080/",
          "height": 193
        }
      },
      "source": [
        "!pip install fastparquet"
      ],
      "execution_count": 0,
      "outputs": [
        {
          "output_type": "stream",
          "text": [
            "Requirement already satisfied: fastparquet in /usr/local/lib/python3.6/dist-packages (0.3.1)\n",
            "Requirement already satisfied: thrift>=0.11.0 in /usr/local/lib/python3.6/dist-packages (from fastparquet) (0.11.0)\n",
            "Requirement already satisfied: numpy>=1.11 in /usr/local/lib/python3.6/dist-packages (from fastparquet) (1.16.4)\n",
            "Requirement already satisfied: numba>=0.28 in /usr/local/lib/python3.6/dist-packages (from fastparquet) (0.40.1)\n",
            "Requirement already satisfied: pandas>=0.19 in /usr/local/lib/python3.6/dist-packages (from fastparquet) (0.24.2)\n",
            "Requirement already satisfied: six in /usr/local/lib/python3.6/dist-packages (from fastparquet) (1.12.0)\n",
            "Requirement already satisfied: llvmlite>=0.25.0dev0 in /usr/local/lib/python3.6/dist-packages (from numba>=0.28->fastparquet) (0.29.0)\n",
            "Requirement already satisfied: python-dateutil>=2.5.0 in /usr/local/lib/python3.6/dist-packages (from pandas>=0.19->fastparquet) (2.5.3)\n",
            "Requirement already satisfied: pytz>=2011k in /usr/local/lib/python3.6/dist-packages (from pandas>=0.19->fastparquet) (2018.9)\n"
          ],
          "name": "stdout"
        }
      ]
    },
    {
      "cell_type": "code",
      "metadata": {
        "id": "R-v-PqnYRzJH",
        "colab_type": "code",
        "colab": {}
      },
      "source": [
        "import pandas as pd\n",
        "import pyarrow.parquet as pq\n",
        "import os\n",
        "from pathlib import Path\n",
        "import datetime\n",
        "from datetime import timedelta"
      ],
      "execution_count": 0,
      "outputs": []
    },
    {
      "cell_type": "code",
      "metadata": {
        "id": "iNN-fAfCR2nf",
        "colab_type": "code",
        "colab": {}
      },
      "source": [
        "weather = pq.read_pandas('/content/input_data/weather/part-00199-tid-6948431846308939962-d261a692-da15-442f-8f9f-0021ff4fa635-1205-c000.snappy.parquet').to_pandas()"
      ],
      "execution_count": 0,
      "outputs": []
    },
    {
      "cell_type": "code",
      "metadata": {
        "id": "6O5m6XJOSBL8",
        "colab_type": "code",
        "outputId": "b3ff38f6-f48b-4050-8ef0-2eef344d3f36",
        "colab": {
          "base_uri": "https://localhost:8080/",
          "height": 35
        }
      },
      "source": [
        "weather.shape"
      ],
      "execution_count": 0,
      "outputs": [
        {
          "output_type": "execute_result",
          "data": {
            "text/plain": [
              "(52594, 14)"
            ]
          },
          "metadata": {
            "tags": []
          },
          "execution_count": 9
        }
      ]
    },
    {
      "cell_type": "code",
      "metadata": {
        "id": "pp7C9a2EV-Sn",
        "colab_type": "code",
        "outputId": "bbd08a22-42b3-4975-eb7d-4aa9d6f92c1e",
        "colab": {
          "base_uri": "https://localhost:8080/",
          "height": 213
        }
      },
      "source": [
        "weather.head(3)"
      ],
      "execution_count": 0,
      "outputs": [
        {
          "output_type": "execute_result",
          "data": {
            "text/html": [
              "<div>\n",
              "<style scoped>\n",
              "    .dataframe tbody tr th:only-of-type {\n",
              "        vertical-align: middle;\n",
              "    }\n",
              "\n",
              "    .dataframe tbody tr th {\n",
              "        vertical-align: top;\n",
              "    }\n",
              "\n",
              "    .dataframe thead th {\n",
              "        text-align: right;\n",
              "    }\n",
              "</style>\n",
              "<table border=\"1\" class=\"dataframe\">\n",
              "  <thead>\n",
              "    <tr style=\"text-align: right;\">\n",
              "      <th></th>\n",
              "      <th>x</th>\n",
              "      <th>y</th>\n",
              "      <th>date</th>\n",
              "      <th>time</th>\n",
              "      <th>lat</th>\n",
              "      <th>lon</th>\n",
              "      <th>temperature_data</th>\n",
              "      <th>temperature_unit</th>\n",
              "      <th>precipitation_data</th>\n",
              "      <th>precipitation_unit</th>\n",
              "      <th>wind_ew_data</th>\n",
              "      <th>wind_ew_unit</th>\n",
              "      <th>wind_ns_data</th>\n",
              "      <th>wind_ns_unit</th>\n",
              "    </tr>\n",
              "  </thead>\n",
              "  <tbody>\n",
              "    <tr>\n",
              "      <th>0</th>\n",
              "      <td>203</td>\n",
              "      <td>55</td>\n",
              "      <td>2017-01-26</td>\n",
              "      <td>20Z</td>\n",
              "      <td>31.9375</td>\n",
              "      <td>-99.5625</td>\n",
              "      <td>283.030000</td>\n",
              "      <td>k</td>\n",
              "      <td>0.000000</td>\n",
              "      <td>kg/m^2</td>\n",
              "      <td>-1.550000</td>\n",
              "      <td>m/s</td>\n",
              "      <td>1.860000</td>\n",
              "      <td>m/s</td>\n",
              "    </tr>\n",
              "    <tr>\n",
              "      <th>1</th>\n",
              "      <td>72</td>\n",
              "      <td>49</td>\n",
              "      <td>2017-01-01</td>\n",
              "      <td>02Z</td>\n",
              "      <td>31.1875</td>\n",
              "      <td>-115.9375</td>\n",
              "      <td>285.030000</td>\n",
              "      <td>k</td>\n",
              "      <td>0.000000</td>\n",
              "      <td>kg/m^2</td>\n",
              "      <td>3.340000</td>\n",
              "      <td>m/s</td>\n",
              "      <td>2.510000</td>\n",
              "      <td>m/s</td>\n",
              "    </tr>\n",
              "    <tr>\n",
              "      <th>2</th>\n",
              "      <td>209</td>\n",
              "      <td>56</td>\n",
              "      <td>2017-02-06</td>\n",
              "      <td>11Z</td>\n",
              "      <td>32.0625</td>\n",
              "      <td>-98.8125</td>\n",
              "      <td>287.250000</td>\n",
              "      <td>k</td>\n",
              "      <td>0.000000</td>\n",
              "      <td>kg/m^2</td>\n",
              "      <td>0.890000</td>\n",
              "      <td>m/s</td>\n",
              "      <td>3.430000</td>\n",
              "      <td>m/s</td>\n",
              "    </tr>\n",
              "  </tbody>\n",
              "</table>\n",
              "</div>"
            ],
            "text/plain": [
              "     x   y        date time  ...  wind_ew_data  wind_ew_unit wind_ns_data wind_ns_unit\n",
              "0  203  55  2017-01-26  20Z  ...     -1.550000           m/s     1.860000          m/s\n",
              "1   72  49  2017-01-01  02Z  ...      3.340000           m/s     2.510000          m/s\n",
              "2  209  56  2017-02-06  11Z  ...      0.890000           m/s     3.430000          m/s\n",
              "\n",
              "[3 rows x 14 columns]"
            ]
          },
          "metadata": {
            "tags": []
          },
          "execution_count": 10
        }
      ]
    },
    {
      "cell_type": "code",
      "metadata": {
        "id": "kCgYPBBsXRUe",
        "colab_type": "code",
        "colab": {}
      },
      "source": [
        "from pathlib import Path\n",
        "import pandas as pd\n",
        "\n",
        "data_dir = Path('/content/input_data/weather/')\n",
        "full_df_weather = pd.concat(\n",
        "    pd.read_parquet(parquet_file)\n",
        "    for parquet_file in data_dir.glob('*.parquet')\n",
        ")\n",
        "full_df_weather.to_csv('weather_csv_file.csv',index=False)"
      ],
      "execution_count": 0,
      "outputs": []
    },
    {
      "cell_type": "code",
      "metadata": {
        "id": "M_290CNGYUHH",
        "colab_type": "code",
        "outputId": "e6e1ae37-ac9e-41cd-d810-a04f4155c291",
        "colab": {
          "base_uri": "https://localhost:8080/",
          "height": 35
        }
      },
      "source": [
        "full_df_weather.shape"
      ],
      "execution_count": 0,
      "outputs": [
        {
          "output_type": "execute_result",
          "data": {
            "text/plain": [
              "(10586016, 14)"
            ]
          },
          "metadata": {
            "tags": []
          },
          "execution_count": 12
        }
      ]
    },
    {
      "cell_type": "code",
      "metadata": {
        "id": "vKyq-7MGY9IW",
        "colab_type": "code",
        "outputId": "3ebfa6d8-8f5c-4d49-fefa-012e1d1caf76",
        "colab": {
          "base_uri": "https://localhost:8080/",
          "height": 277
        }
      },
      "source": [
        "full_df_weather.iloc[0,:]"
      ],
      "execution_count": 0,
      "outputs": [
        {
          "output_type": "execute_result",
          "data": {
            "text/plain": [
              "x                            127\n",
              "y                             39\n",
              "date                  2017-02-25\n",
              "time                         11Z\n",
              "lat                      29.9375\n",
              "lon                     -109.062\n",
              "temperature_data      278.380000\n",
              "temperature_unit               k\n",
              "precipitation_data      0.000000\n",
              "precipitation_unit        kg/m^2\n",
              "wind_ew_data           -1.070000\n",
              "wind_ew_unit                 m/s\n",
              "wind_ns_data           -0.470000\n",
              "wind_ns_unit                 m/s\n",
              "Name: 0, dtype: object"
            ]
          },
          "metadata": {
            "tags": []
          },
          "execution_count": 13
        }
      ]
    },
    {
      "cell_type": "code",
      "metadata": {
        "id": "UA8bzmPVgQxY",
        "colab_type": "code",
        "colab": {}
      },
      "source": [
        "from pathlib import Path\n",
        "import pandas as pd\n",
        "\n",
        "data_dir = Path('/content/input_data/drive_1/')\n",
        "full_df_drive = pd.concat(\n",
        "    pd.read_parquet(parquet_file)\n",
        "    for parquet_file in data_dir.glob('*.parquet')\n",
        ")\n",
        "full_df_drive.to_csv('drive_csv_file.csv',index=False)"
      ],
      "execution_count": 0,
      "outputs": []
    },
    {
      "cell_type": "code",
      "metadata": {
        "id": "96ivkaiwglr3",
        "colab_type": "code",
        "outputId": "b256cfa4-9d28-4b4f-f91e-fdc0c75afa40",
        "colab": {
          "base_uri": "https://localhost:8080/",
          "height": 35
        }
      },
      "source": [
        "full_df_drive.shape"
      ],
      "execution_count": 0,
      "outputs": [
        {
          "output_type": "execute_result",
          "data": {
            "text/plain": [
              "(9217528, 12)"
            ]
          },
          "metadata": {
            "tags": []
          },
          "execution_count": 15
        }
      ]
    },
    {
      "cell_type": "code",
      "metadata": {
        "id": "pFd7Y9SqhJF4",
        "colab_type": "code",
        "outputId": "1e4a6815-74cc-4f88-8dfe-dd28658c04d7",
        "colab": {
          "base_uri": "https://localhost:8080/",
          "height": 243
        }
      },
      "source": [
        "full_df_drive.iloc[0,:]"
      ],
      "execution_count": 0,
      "outputs": [
        {
          "output_type": "execute_result",
          "data": {
            "text/plain": [
              "vehicle_id                                      1000517\n",
              "trip_id                e117220c8b15455f800a4b5b0c4c52a7\n",
              "datetime                            2017-01-27 12:00:00\n",
              "velocity                                              0\n",
              "accel_x                                              48\n",
              "accel_y                                           76.22\n",
              "accel_z                                           78.92\n",
              "engine_coolant_temp                                  97\n",
              "eng_load                                         223.21\n",
              "fuel_level                                       170.91\n",
              "iat                                                  88\n",
              "rpm                                             2066.48\n",
              "Name: 0, dtype: object"
            ]
          },
          "metadata": {
            "tags": []
          },
          "execution_count": 16
        }
      ]
    },
    {
      "cell_type": "code",
      "metadata": {
        "id": "aK1Jirmchrwk",
        "colab_type": "code",
        "colab": {}
      },
      "source": [
        "from pathlib import Path\n",
        "import pandas as pd\n",
        "\n",
        "data_dir = Path('/content/input_data/trip/')\n",
        "full_df_trip = pd.concat(\n",
        "    pd.read_parquet(parquet_file)\n",
        "    for parquet_file in data_dir.glob('*.parquet')\n",
        ")\n",
        "full_df_trip.to_csv('trip_csv_file.csv',index=False)"
      ],
      "execution_count": 0,
      "outputs": []
    },
    {
      "cell_type": "code",
      "metadata": {
        "id": "S4BTv6fzid-d",
        "colab_type": "code",
        "outputId": "7bbf1526-e1e2-4c5a-8557-03d59dca6c8b",
        "colab": {
          "base_uri": "https://localhost:8080/",
          "height": 35
        }
      },
      "source": [
        "full_df_trip.shape"
      ],
      "execution_count": 0,
      "outputs": [
        {
          "output_type": "execute_result",
          "data": {
            "text/plain": [
              "(9217528, 6)"
            ]
          },
          "metadata": {
            "tags": []
          },
          "execution_count": 18
        }
      ]
    },
    {
      "cell_type": "code",
      "metadata": {
        "id": "2VbQ_TwijhSy",
        "colab_type": "code",
        "outputId": "4a6e860f-4fc6-4bd1-9a84-7a424649c780",
        "colab": {
          "base_uri": "https://localhost:8080/",
          "height": 110
        }
      },
      "source": [
        "full_df_trip.head(2)"
      ],
      "execution_count": 0,
      "outputs": [
        {
          "output_type": "execute_result",
          "data": {
            "text/html": [
              "<div>\n",
              "<style scoped>\n",
              "    .dataframe tbody tr th:only-of-type {\n",
              "        vertical-align: middle;\n",
              "    }\n",
              "\n",
              "    .dataframe tbody tr th {\n",
              "        vertical-align: top;\n",
              "    }\n",
              "\n",
              "    .dataframe thead th {\n",
              "        text-align: right;\n",
              "    }\n",
              "</style>\n",
              "<table border=\"1\" class=\"dataframe\">\n",
              "  <thead>\n",
              "    <tr style=\"text-align: right;\">\n",
              "      <th></th>\n",
              "      <th>vehicle_id</th>\n",
              "      <th>trip_id</th>\n",
              "      <th>datetime</th>\n",
              "      <th>lat</th>\n",
              "      <th>long</th>\n",
              "      <th>velocity</th>\n",
              "    </tr>\n",
              "  </thead>\n",
              "  <tbody>\n",
              "    <tr>\n",
              "      <th>0</th>\n",
              "      <td>1000516</td>\n",
              "      <td>2e2a9936393a424abf4dea3943c83040</td>\n",
              "      <td>2017-01-01 07:00:00</td>\n",
              "      <td>31.4375</td>\n",
              "      <td>-85.437500</td>\n",
              "      <td>0.00</td>\n",
              "    </tr>\n",
              "    <tr>\n",
              "      <th>1</th>\n",
              "      <td>1000516</td>\n",
              "      <td>2e2a9936393a424abf4dea3943c83040</td>\n",
              "      <td>2017-01-01 07:00:01</td>\n",
              "      <td>31.4375</td>\n",
              "      <td>-85.437222</td>\n",
              "      <td>63.41</td>\n",
              "    </tr>\n",
              "  </tbody>\n",
              "</table>\n",
              "</div>"
            ],
            "text/plain": [
              "   vehicle_id                           trip_id  ...       long  velocity\n",
              "0     1000516  2e2a9936393a424abf4dea3943c83040  ... -85.437500      0.00\n",
              "1     1000516  2e2a9936393a424abf4dea3943c83040  ... -85.437222     63.41\n",
              "\n",
              "[2 rows x 6 columns]"
            ]
          },
          "metadata": {
            "tags": []
          },
          "execution_count": 19
        }
      ]
    },
    {
      "cell_type": "code",
      "metadata": {
        "id": "lNnvDeudr9A6",
        "colab_type": "code",
        "colab": {}
      },
      "source": [
        "from zipfile import ZipFile"
      ],
      "execution_count": 0,
      "outputs": []
    },
    {
      "cell_type": "code",
      "metadata": {
        "id": "-5EpHqPyr99Y",
        "colab_type": "code",
        "colab": {}
      },
      "source": [
        "with ZipFile('drive_csv_file.zip', 'w') as zipObj2:\n",
        "  # Add multiple files to the zip\n",
        "  zipObj2.write('drive_csv_file.csv')\n"
      ],
      "execution_count": 0,
      "outputs": []
    },
    {
      "cell_type": "code",
      "metadata": {
        "id": "4imXyHdMssLD",
        "colab_type": "code",
        "colab": {}
      },
      "source": [
        "df = pd.read_csv('drive_csv_file.zip')\n",
        "\n",
        "# Or write to a compressed file:\n",
        "# df.to_csv('data.csv.zip')"
      ],
      "execution_count": 0,
      "outputs": []
    },
    {
      "cell_type": "code",
      "metadata": {
        "id": "F941SZA1tAor",
        "colab_type": "code",
        "outputId": "29729271-f886-45be-ad30-4a61149958fa",
        "colab": {
          "base_uri": "https://localhost:8080/",
          "height": 265
        }
      },
      "source": [
        "df.head(3)"
      ],
      "execution_count": 0,
      "outputs": [
        {
          "output_type": "execute_result",
          "data": {
            "text/html": [
              "<div>\n",
              "<style scoped>\n",
              "    .dataframe tbody tr th:only-of-type {\n",
              "        vertical-align: middle;\n",
              "    }\n",
              "\n",
              "    .dataframe tbody tr th {\n",
              "        vertical-align: top;\n",
              "    }\n",
              "\n",
              "    .dataframe thead th {\n",
              "        text-align: right;\n",
              "    }\n",
              "</style>\n",
              "<table border=\"1\" class=\"dataframe\">\n",
              "  <thead>\n",
              "    <tr style=\"text-align: right;\">\n",
              "      <th></th>\n",
              "      <th>vehicle_id</th>\n",
              "      <th>trip_id</th>\n",
              "      <th>datetime</th>\n",
              "      <th>velocity</th>\n",
              "      <th>accel_x</th>\n",
              "      <th>accel_y</th>\n",
              "      <th>accel_z</th>\n",
              "      <th>engine_coolant_temp</th>\n",
              "      <th>eng_load</th>\n",
              "      <th>fuel_level</th>\n",
              "      <th>iat</th>\n",
              "      <th>rpm</th>\n",
              "    </tr>\n",
              "  </thead>\n",
              "  <tbody>\n",
              "    <tr>\n",
              "      <th>0</th>\n",
              "      <td>1000517</td>\n",
              "      <td>e117220c8b15455f800a4b5b0c4c52a7</td>\n",
              "      <td>2017-01-27 12:00:00</td>\n",
              "      <td>0.00</td>\n",
              "      <td>48.0</td>\n",
              "      <td>76.22</td>\n",
              "      <td>78.92</td>\n",
              "      <td>97.0</td>\n",
              "      <td>223.21</td>\n",
              "      <td>170.91</td>\n",
              "      <td>88.0</td>\n",
              "      <td>2066.48</td>\n",
              "    </tr>\n",
              "    <tr>\n",
              "      <th>1</th>\n",
              "      <td>1000517</td>\n",
              "      <td>e117220c8b15455f800a4b5b0c4c52a7</td>\n",
              "      <td>2017-01-27 12:00:01</td>\n",
              "      <td>44.52</td>\n",
              "      <td>55.0</td>\n",
              "      <td>75.44</td>\n",
              "      <td>83.57</td>\n",
              "      <td>93.0</td>\n",
              "      <td>211.91</td>\n",
              "      <td>167.83</td>\n",
              "      <td>75.0</td>\n",
              "      <td>2057.53</td>\n",
              "    </tr>\n",
              "    <tr>\n",
              "      <th>2</th>\n",
              "      <td>1000517</td>\n",
              "      <td>e117220c8b15455f800a4b5b0c4c52a7</td>\n",
              "      <td>2017-01-27 12:00:02</td>\n",
              "      <td>60.93</td>\n",
              "      <td>49.0</td>\n",
              "      <td>68.18</td>\n",
              "      <td>83.03</td>\n",
              "      <td>99.0</td>\n",
              "      <td>224.20</td>\n",
              "      <td>177.68</td>\n",
              "      <td>94.0</td>\n",
              "      <td>2046.12</td>\n",
              "    </tr>\n",
              "  </tbody>\n",
              "</table>\n",
              "</div>"
            ],
            "text/plain": [
              "   vehicle_id                           trip_id  ...   iat      rpm\n",
              "0     1000517  e117220c8b15455f800a4b5b0c4c52a7  ...  88.0  2066.48\n",
              "1     1000517  e117220c8b15455f800a4b5b0c4c52a7  ...  75.0  2057.53\n",
              "2     1000517  e117220c8b15455f800a4b5b0c4c52a7  ...  94.0  2046.12\n",
              "\n",
              "[3 rows x 12 columns]"
            ]
          },
          "metadata": {
            "tags": []
          },
          "execution_count": 12
        }
      ]
    },
    {
      "cell_type": "code",
      "metadata": {
        "id": "25qe5ffNnJe-",
        "colab_type": "code",
        "outputId": "825ce9d4-e8f2-4ba5-b968-fcb7538d8188",
        "colab": {
          "base_uri": "https://localhost:8080/",
          "height": 35
        }
      },
      "source": [
        "df.shape"
      ],
      "execution_count": 0,
      "outputs": [
        {
          "output_type": "execute_result",
          "data": {
            "text/plain": [
              "(9217528, 12)"
            ]
          },
          "metadata": {
            "tags": []
          },
          "execution_count": 13
        }
      ]
    },
    {
      "cell_type": "code",
      "metadata": {
        "id": "KM3R04_I0LM7",
        "colab_type": "code",
        "outputId": "d35d4e31-976f-4013-850c-1e4b47cf05fb",
        "colab": {
          "base_uri": "https://localhost:8080/",
          "height": 265
        }
      },
      "source": [
        "df[df['trip_id'] == 'e117220c8b15455f800a4b5b0c4c52a7'].head(3)"
      ],
      "execution_count": 0,
      "outputs": [
        {
          "output_type": "execute_result",
          "data": {
            "text/html": [
              "<div>\n",
              "<style scoped>\n",
              "    .dataframe tbody tr th:only-of-type {\n",
              "        vertical-align: middle;\n",
              "    }\n",
              "\n",
              "    .dataframe tbody tr th {\n",
              "        vertical-align: top;\n",
              "    }\n",
              "\n",
              "    .dataframe thead th {\n",
              "        text-align: right;\n",
              "    }\n",
              "</style>\n",
              "<table border=\"1\" class=\"dataframe\">\n",
              "  <thead>\n",
              "    <tr style=\"text-align: right;\">\n",
              "      <th></th>\n",
              "      <th>vehicle_id</th>\n",
              "      <th>trip_id</th>\n",
              "      <th>datetime</th>\n",
              "      <th>velocity</th>\n",
              "      <th>accel_x</th>\n",
              "      <th>accel_y</th>\n",
              "      <th>accel_z</th>\n",
              "      <th>engine_coolant_temp</th>\n",
              "      <th>eng_load</th>\n",
              "      <th>fuel_level</th>\n",
              "      <th>iat</th>\n",
              "      <th>rpm</th>\n",
              "    </tr>\n",
              "  </thead>\n",
              "  <tbody>\n",
              "    <tr>\n",
              "      <th>0</th>\n",
              "      <td>1000517</td>\n",
              "      <td>e117220c8b15455f800a4b5b0c4c52a7</td>\n",
              "      <td>2017-01-27 12:00:00</td>\n",
              "      <td>0.00</td>\n",
              "      <td>48.0</td>\n",
              "      <td>76.22</td>\n",
              "      <td>78.92</td>\n",
              "      <td>97.0</td>\n",
              "      <td>223.21</td>\n",
              "      <td>170.91</td>\n",
              "      <td>88.0</td>\n",
              "      <td>2066.48</td>\n",
              "    </tr>\n",
              "    <tr>\n",
              "      <th>1</th>\n",
              "      <td>1000517</td>\n",
              "      <td>e117220c8b15455f800a4b5b0c4c52a7</td>\n",
              "      <td>2017-01-27 12:00:01</td>\n",
              "      <td>44.52</td>\n",
              "      <td>55.0</td>\n",
              "      <td>75.44</td>\n",
              "      <td>83.57</td>\n",
              "      <td>93.0</td>\n",
              "      <td>211.91</td>\n",
              "      <td>167.83</td>\n",
              "      <td>75.0</td>\n",
              "      <td>2057.53</td>\n",
              "    </tr>\n",
              "    <tr>\n",
              "      <th>2</th>\n",
              "      <td>1000517</td>\n",
              "      <td>e117220c8b15455f800a4b5b0c4c52a7</td>\n",
              "      <td>2017-01-27 12:00:02</td>\n",
              "      <td>60.93</td>\n",
              "      <td>49.0</td>\n",
              "      <td>68.18</td>\n",
              "      <td>83.03</td>\n",
              "      <td>99.0</td>\n",
              "      <td>224.20</td>\n",
              "      <td>177.68</td>\n",
              "      <td>94.0</td>\n",
              "      <td>2046.12</td>\n",
              "    </tr>\n",
              "  </tbody>\n",
              "</table>\n",
              "</div>"
            ],
            "text/plain": [
              "   vehicle_id                           trip_id  ...   iat      rpm\n",
              "0     1000517  e117220c8b15455f800a4b5b0c4c52a7  ...  88.0  2066.48\n",
              "1     1000517  e117220c8b15455f800a4b5b0c4c52a7  ...  75.0  2057.53\n",
              "2     1000517  e117220c8b15455f800a4b5b0c4c52a7  ...  94.0  2046.12\n",
              "\n",
              "[3 rows x 12 columns]"
            ]
          },
          "metadata": {
            "tags": []
          },
          "execution_count": 14
        }
      ]
    },
    {
      "cell_type": "code",
      "metadata": {
        "id": "U7sITbX2DSlE",
        "colab_type": "code",
        "outputId": "44003b84-6b2c-44d6-a0c7-ffe5403fb6f4",
        "colab": {
          "base_uri": "https://localhost:8080/",
          "height": 35
        }
      },
      "source": [
        "df['trip_id'].nunique()"
      ],
      "execution_count": 0,
      "outputs": [
        {
          "output_type": "execute_result",
          "data": {
            "text/plain": [
              "1708"
            ]
          },
          "metadata": {
            "tags": []
          },
          "execution_count": 55
        }
      ]
    },
    {
      "cell_type": "code",
      "metadata": {
        "id": "WP4QtevR4PHg",
        "colab_type": "code",
        "colab": {}
      },
      "source": [
        "with ZipFile('trip_csv_file.zip', 'w') as zipObj2:\n",
        "  # Add multiple files to the zip\n",
        "  zipObj2.write('trip_csv_file.csv')\n"
      ],
      "execution_count": 0,
      "outputs": []
    },
    {
      "cell_type": "code",
      "metadata": {
        "id": "HbMXyrj-Tw6q",
        "colab_type": "code",
        "colab": {}
      },
      "source": [
        "with ZipFile('weather_csv_file.zip', 'w') as zipObj2:\n",
        "  # Add multiple files to the zip\n",
        "  zipObj2.write('weather_csv_file.csv')\n"
      ],
      "execution_count": 0,
      "outputs": []
    }
  ]
}