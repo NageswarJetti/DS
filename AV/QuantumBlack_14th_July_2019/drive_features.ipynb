{
  "nbformat": 4,
  "nbformat_minor": 0,
  "metadata": {
    "colab": {
      "name": "drive_features_prep.ipynb",
      "version": "0.3.2",
      "provenance": [],
      "collapsed_sections": []
    },
    "kernelspec": {
      "name": "python3",
      "display_name": "Python 3"
    },
    "accelerator": "GPU"
  },
  "cells": [
    {
      "cell_type": "markdown",
      "metadata": {
        "id": "Xm5nxacxVzqE",
        "colab_type": "text"
      },
      "source": [
        "### Drive Data"
      ]
    },
    {
      "cell_type": "code",
      "metadata": {
        "id": "pb2tNVh4VNgW",
        "colab_type": "code",
        "colab": {
          "base_uri": "https://localhost:8080/",
          "height": 52
        },
        "outputId": "84a35137-2998-44b2-cd33-04bd2de76547"
      },
      "source": [
        "\n",
        "# Install the PyDrive wrapper & import libraries.\n",
        "# This only needs to be done once in a notebook.\n",
        "!pip install -U -q PyDrive\n",
        "from pydrive.auth import GoogleAuth\n",
        "from pydrive.drive import GoogleDrive\n",
        "from google.colab import auth\n",
        "from oauth2client.client import GoogleCredentials\n",
        "\n",
        "# Authenticate and create the PyDrive client.\n",
        "# This only needs to be done once in a notebook.\n",
        "auth.authenticate_user()\n",
        "gauth = GoogleAuth()\n",
        "gauth.credentials = GoogleCredentials.get_application_default()\n",
        "drive = GoogleDrive(gauth)"
      ],
      "execution_count": 1,
      "outputs": [
        {
          "output_type": "stream",
          "text": [
            "\u001b[?25l\r\u001b[K     |▎                               | 10kB 22.6MB/s eta 0:00:01\r\u001b[K     |▋                               | 20kB 2.2MB/s eta 0:00:01\r\u001b[K     |█                               | 30kB 3.2MB/s eta 0:00:01\r\u001b[K     |█▎                              | 40kB 2.1MB/s eta 0:00:01\r\u001b[K     |█▋                              | 51kB 2.6MB/s eta 0:00:01\r\u001b[K     |██                              | 61kB 3.0MB/s eta 0:00:01\r\u001b[K     |██▎                             | 71kB 3.5MB/s eta 0:00:01\r\u001b[K     |██▋                             | 81kB 4.0MB/s eta 0:00:01\r\u001b[K     |███                             | 92kB 4.5MB/s eta 0:00:01\r\u001b[K     |███▎                            | 102kB 3.4MB/s eta 0:00:01\r\u001b[K     |███▋                            | 112kB 3.4MB/s eta 0:00:01\r\u001b[K     |████                            | 122kB 3.4MB/s eta 0:00:01\r\u001b[K     |████▎                           | 133kB 3.4MB/s eta 0:00:01\r\u001b[K     |████▋                           | 143kB 3.4MB/s eta 0:00:01\r\u001b[K     |█████                           | 153kB 3.4MB/s eta 0:00:01\r\u001b[K     |█████▎                          | 163kB 3.4MB/s eta 0:00:01\r\u001b[K     |█████▋                          | 174kB 3.4MB/s eta 0:00:01\r\u001b[K     |██████                          | 184kB 3.4MB/s eta 0:00:01\r\u001b[K     |██████▎                         | 194kB 3.4MB/s eta 0:00:01\r\u001b[K     |██████▋                         | 204kB 3.4MB/s eta 0:00:01\r\u001b[K     |███████                         | 215kB 3.4MB/s eta 0:00:01\r\u001b[K     |███████▎                        | 225kB 3.4MB/s eta 0:00:01\r\u001b[K     |███████▋                        | 235kB 3.4MB/s eta 0:00:01\r\u001b[K     |████████                        | 245kB 3.4MB/s eta 0:00:01\r\u001b[K     |████████▎                       | 256kB 3.4MB/s eta 0:00:01\r\u001b[K     |████████▋                       | 266kB 3.4MB/s eta 0:00:01\r\u001b[K     |█████████                       | 276kB 3.4MB/s eta 0:00:01\r\u001b[K     |█████████▎                      | 286kB 3.4MB/s eta 0:00:01\r\u001b[K     |█████████▋                      | 296kB 3.4MB/s eta 0:00:01\r\u001b[K     |██████████                      | 307kB 3.4MB/s eta 0:00:01\r\u001b[K     |██████████▎                     | 317kB 3.4MB/s eta 0:00:01\r\u001b[K     |██████████▋                     | 327kB 3.4MB/s eta 0:00:01\r\u001b[K     |███████████                     | 337kB 3.4MB/s eta 0:00:01\r\u001b[K     |███████████▎                    | 348kB 3.4MB/s eta 0:00:01\r\u001b[K     |███████████▋                    | 358kB 3.4MB/s eta 0:00:01\r\u001b[K     |████████████                    | 368kB 3.4MB/s eta 0:00:01\r\u001b[K     |████████████▎                   | 378kB 3.4MB/s eta 0:00:01\r\u001b[K     |████████████▋                   | 389kB 3.4MB/s eta 0:00:01\r\u001b[K     |█████████████                   | 399kB 3.4MB/s eta 0:00:01\r\u001b[K     |█████████████▎                  | 409kB 3.4MB/s eta 0:00:01\r\u001b[K     |█████████████▋                  | 419kB 3.4MB/s eta 0:00:01\r\u001b[K     |██████████████                  | 430kB 3.4MB/s eta 0:00:01\r\u001b[K     |██████████████▎                 | 440kB 3.4MB/s eta 0:00:01\r\u001b[K     |██████████████▋                 | 450kB 3.4MB/s eta 0:00:01\r\u001b[K     |███████████████                 | 460kB 3.4MB/s eta 0:00:01\r\u001b[K     |███████████████▎                | 471kB 3.4MB/s eta 0:00:01\r\u001b[K     |███████████████▋                | 481kB 3.4MB/s eta 0:00:01\r\u001b[K     |████████████████                | 491kB 3.4MB/s eta 0:00:01\r\u001b[K     |████████████████▎               | 501kB 3.4MB/s eta 0:00:01\r\u001b[K     |████████████████▋               | 512kB 3.4MB/s eta 0:00:01\r\u001b[K     |█████████████████               | 522kB 3.4MB/s eta 0:00:01\r\u001b[K     |█████████████████▎              | 532kB 3.4MB/s eta 0:00:01\r\u001b[K     |█████████████████▋              | 542kB 3.4MB/s eta 0:00:01\r\u001b[K     |██████████████████              | 552kB 3.4MB/s eta 0:00:01\r\u001b[K     |██████████████████▎             | 563kB 3.4MB/s eta 0:00:01\r\u001b[K     |██████████████████▋             | 573kB 3.4MB/s eta 0:00:01\r\u001b[K     |███████████████████             | 583kB 3.4MB/s eta 0:00:01\r\u001b[K     |███████████████████▎            | 593kB 3.4MB/s eta 0:00:01\r\u001b[K     |███████████████████▋            | 604kB 3.4MB/s eta 0:00:01\r\u001b[K     |████████████████████            | 614kB 3.4MB/s eta 0:00:01\r\u001b[K     |████████████████████▎           | 624kB 3.4MB/s eta 0:00:01\r\u001b[K     |████████████████████▋           | 634kB 3.4MB/s eta 0:00:01\r\u001b[K     |█████████████████████           | 645kB 3.4MB/s eta 0:00:01\r\u001b[K     |█████████████████████▎          | 655kB 3.4MB/s eta 0:00:01\r\u001b[K     |█████████████████████▋          | 665kB 3.4MB/s eta 0:00:01\r\u001b[K     |██████████████████████          | 675kB 3.4MB/s eta 0:00:01\r\u001b[K     |██████████████████████▎         | 686kB 3.4MB/s eta 0:00:01\r\u001b[K     |██████████████████████▋         | 696kB 3.4MB/s eta 0:00:01\r\u001b[K     |███████████████████████         | 706kB 3.4MB/s eta 0:00:01\r\u001b[K     |███████████████████████▎        | 716kB 3.4MB/s eta 0:00:01\r\u001b[K     |███████████████████████▋        | 727kB 3.4MB/s eta 0:00:01\r\u001b[K     |████████████████████████        | 737kB 3.4MB/s eta 0:00:01\r\u001b[K     |████████████████████████▎       | 747kB 3.4MB/s eta 0:00:01\r\u001b[K     |████████████████████████▋       | 757kB 3.4MB/s eta 0:00:01\r\u001b[K     |████████████████████████▉       | 768kB 3.4MB/s eta 0:00:01\r\u001b[K     |█████████████████████████▏      | 778kB 3.4MB/s eta 0:00:01\r\u001b[K     |█████████████████████████▌      | 788kB 3.4MB/s eta 0:00:01\r\u001b[K     |█████████████████████████▉      | 798kB 3.4MB/s eta 0:00:01\r\u001b[K     |██████████████████████████▏     | 808kB 3.4MB/s eta 0:00:01\r\u001b[K     |██████████████████████████▌     | 819kB 3.4MB/s eta 0:00:01\r\u001b[K     |██████████████████████████▉     | 829kB 3.4MB/s eta 0:00:01\r\u001b[K     |███████████████████████████▏    | 839kB 3.4MB/s eta 0:00:01\r\u001b[K     |███████████████████████████▌    | 849kB 3.4MB/s eta 0:00:01\r\u001b[K     |███████████████████████████▉    | 860kB 3.4MB/s eta 0:00:01\r\u001b[K     |████████████████████████████▏   | 870kB 3.4MB/s eta 0:00:01\r\u001b[K     |████████████████████████████▌   | 880kB 3.4MB/s eta 0:00:01\r\u001b[K     |████████████████████████████▉   | 890kB 3.4MB/s eta 0:00:01\r\u001b[K     |█████████████████████████████▏  | 901kB 3.4MB/s eta 0:00:01\r\u001b[K     |█████████████████████████████▌  | 911kB 3.4MB/s eta 0:00:01\r\u001b[K     |█████████████████████████████▉  | 921kB 3.4MB/s eta 0:00:01\r\u001b[K     |██████████████████████████████▏ | 931kB 3.4MB/s eta 0:00:01\r\u001b[K     |██████████████████████████████▌ | 942kB 3.4MB/s eta 0:00:01\r\u001b[K     |██████████████████████████████▉ | 952kB 3.4MB/s eta 0:00:01\r\u001b[K     |███████████████████████████████▏| 962kB 3.4MB/s eta 0:00:01\r\u001b[K     |███████████████████████████████▌| 972kB 3.4MB/s eta 0:00:01\r\u001b[K     |███████████████████████████████▉| 983kB 3.4MB/s eta 0:00:01\r\u001b[K     |████████████████████████████████| 993kB 3.4MB/s \n",
            "\u001b[?25h  Building wheel for PyDrive (setup.py) ... \u001b[?25l\u001b[?25hdone\n"
          ],
          "name": "stdout"
        }
      ]
    },
    {
      "cell_type": "code",
      "metadata": {
        "id": "eNdFcJIVV6FR",
        "colab_type": "code",
        "colab": {
          "base_uri": "https://localhost:8080/",
          "height": 124
        },
        "outputId": "2c360b7f-9a0f-49d1-a09c-4d848d3f7621"
      },
      "source": [
        "# Run this cell to mount your Google Drive.\n",
        "from google.colab import drive\n",
        "drive.mount('/content/drive')"
      ],
      "execution_count": 2,
      "outputs": [
        {
          "output_type": "stream",
          "text": [
            "Go to this URL in a browser: https://accounts.google.com/o/oauth2/auth?client_id=947318989803-6bn6qk8qdgf4n4g3pfee6491hc0brc4i.apps.googleusercontent.com&redirect_uri=urn%3Aietf%3Awg%3Aoauth%3A2.0%3Aoob&scope=email%20https%3A%2F%2Fwww.googleapis.com%2Fauth%2Fdocs.test%20https%3A%2F%2Fwww.googleapis.com%2Fauth%2Fdrive%20https%3A%2F%2Fwww.googleapis.com%2Fauth%2Fdrive.photos.readonly%20https%3A%2F%2Fwww.googleapis.com%2Fauth%2Fpeopleapi.readonly&response_type=code\n",
            "\n",
            "Enter your authorization code:\n",
            "··········\n",
            "Mounted at /content/drive\n"
          ],
          "name": "stdout"
        }
      ]
    },
    {
      "cell_type": "code",
      "metadata": {
        "id": "x6eJ7aTaV7oF",
        "colab_type": "code",
        "colab": {
          "base_uri": "https://localhost:8080/",
          "height": 52
        },
        "outputId": "8df0099e-1e9e-40db-f010-a2a6deedeee5"
      },
      "source": [
        "!ls '/content/drive/My Drive/AV_data/Quantum_Black_5th_July_2019/'"
      ],
      "execution_count": 3,
      "outputs": [
        {
          "output_type": "stream",
          "text": [
            "drive_csv_file.zip\t trip_csv_file.zip  weather_csv_file.zip\n",
            "drive_vehcile_df_v1.csv  vehicle.csv\n"
          ],
          "name": "stdout"
        }
      ]
    },
    {
      "cell_type": "code",
      "metadata": {
        "id": "9l4Vpo7yWGBQ",
        "colab_type": "code",
        "colab": {}
      },
      "source": [
        "# !unzip -q '/content/drive/My Drive/AV_data/input_data.zip'"
      ],
      "execution_count": 0,
      "outputs": []
    },
    {
      "cell_type": "markdown",
      "metadata": {
        "id": "hukb2oJkWPAz",
        "colab_type": "text"
      },
      "source": [
        "### Load Packages"
      ]
    },
    {
      "cell_type": "code",
      "metadata": {
        "id": "i5h4Dos6WOtr",
        "colab_type": "code",
        "colab": {}
      },
      "source": [
        "import pandas as pd\n",
        "import numpy as np\n",
        "import pyarrow.parquet as pq\n",
        "import os\n",
        "from pathlib import Path\n",
        "import datetime\n",
        "from datetime import timedelta"
      ],
      "execution_count": 0,
      "outputs": []
    },
    {
      "cell_type": "code",
      "metadata": {
        "id": "BJ3_kckeWQxa",
        "colab_type": "code",
        "colab": {}
      },
      "source": [
        "drive_df = pd.read_csv('/content/drive/My Drive/AV_data/Quantum_Black_5th_July_2019/drive_csv_file.zip')"
      ],
      "execution_count": 0,
      "outputs": []
    },
    {
      "cell_type": "code",
      "metadata": {
        "id": "VhDst_7oWceP",
        "colab_type": "code",
        "colab": {
          "base_uri": "https://localhost:8080/",
          "height": 265
        },
        "outputId": "4a213c31-0990-476b-f34a-04a18bf5c893"
      },
      "source": [
        "drive_df.head(3)"
      ],
      "execution_count": 7,
      "outputs": [
        {
          "output_type": "execute_result",
          "data": {
            "text/html": [
              "<div>\n",
              "<style scoped>\n",
              "    .dataframe tbody tr th:only-of-type {\n",
              "        vertical-align: middle;\n",
              "    }\n",
              "\n",
              "    .dataframe tbody tr th {\n",
              "        vertical-align: top;\n",
              "    }\n",
              "\n",
              "    .dataframe thead th {\n",
              "        text-align: right;\n",
              "    }\n",
              "</style>\n",
              "<table border=\"1\" class=\"dataframe\">\n",
              "  <thead>\n",
              "    <tr style=\"text-align: right;\">\n",
              "      <th></th>\n",
              "      <th>vehicle_id</th>\n",
              "      <th>trip_id</th>\n",
              "      <th>datetime</th>\n",
              "      <th>velocity</th>\n",
              "      <th>accel_x</th>\n",
              "      <th>accel_y</th>\n",
              "      <th>accel_z</th>\n",
              "      <th>engine_coolant_temp</th>\n",
              "      <th>eng_load</th>\n",
              "      <th>fuel_level</th>\n",
              "      <th>iat</th>\n",
              "      <th>rpm</th>\n",
              "    </tr>\n",
              "  </thead>\n",
              "  <tbody>\n",
              "    <tr>\n",
              "      <th>0</th>\n",
              "      <td>1000517</td>\n",
              "      <td>e117220c8b15455f800a4b5b0c4c52a7</td>\n",
              "      <td>2017-01-27 12:00:00</td>\n",
              "      <td>0.00</td>\n",
              "      <td>48.0</td>\n",
              "      <td>76.22</td>\n",
              "      <td>78.92</td>\n",
              "      <td>97.0</td>\n",
              "      <td>223.21</td>\n",
              "      <td>170.91</td>\n",
              "      <td>88.0</td>\n",
              "      <td>2066.48</td>\n",
              "    </tr>\n",
              "    <tr>\n",
              "      <th>1</th>\n",
              "      <td>1000517</td>\n",
              "      <td>e117220c8b15455f800a4b5b0c4c52a7</td>\n",
              "      <td>2017-01-27 12:00:01</td>\n",
              "      <td>44.52</td>\n",
              "      <td>55.0</td>\n",
              "      <td>75.44</td>\n",
              "      <td>83.57</td>\n",
              "      <td>93.0</td>\n",
              "      <td>211.91</td>\n",
              "      <td>167.83</td>\n",
              "      <td>75.0</td>\n",
              "      <td>2057.53</td>\n",
              "    </tr>\n",
              "    <tr>\n",
              "      <th>2</th>\n",
              "      <td>1000517</td>\n",
              "      <td>e117220c8b15455f800a4b5b0c4c52a7</td>\n",
              "      <td>2017-01-27 12:00:02</td>\n",
              "      <td>60.93</td>\n",
              "      <td>49.0</td>\n",
              "      <td>68.18</td>\n",
              "      <td>83.03</td>\n",
              "      <td>99.0</td>\n",
              "      <td>224.20</td>\n",
              "      <td>177.68</td>\n",
              "      <td>94.0</td>\n",
              "      <td>2046.12</td>\n",
              "    </tr>\n",
              "  </tbody>\n",
              "</table>\n",
              "</div>"
            ],
            "text/plain": [
              "   vehicle_id                           trip_id  ...   iat      rpm\n",
              "0     1000517  e117220c8b15455f800a4b5b0c4c52a7  ...  88.0  2066.48\n",
              "1     1000517  e117220c8b15455f800a4b5b0c4c52a7  ...  75.0  2057.53\n",
              "2     1000517  e117220c8b15455f800a4b5b0c4c52a7  ...  94.0  2046.12\n",
              "\n",
              "[3 rows x 12 columns]"
            ]
          },
          "metadata": {
            "tags": []
          },
          "execution_count": 7
        }
      ]
    },
    {
      "cell_type": "code",
      "metadata": {
        "id": "pgBYhUMnWp0a",
        "colab_type": "code",
        "colab": {
          "base_uri": "https://localhost:8080/",
          "height": 35
        },
        "outputId": "c48fff06-d872-4fd1-e292-088328c775bc"
      },
      "source": [
        "drive_df.shape"
      ],
      "execution_count": 8,
      "outputs": [
        {
          "output_type": "execute_result",
          "data": {
            "text/plain": [
              "(9217528, 12)"
            ]
          },
          "metadata": {
            "tags": []
          },
          "execution_count": 8
        }
      ]
    },
    {
      "cell_type": "code",
      "metadata": {
        "id": "TqCepWL2Wq7g",
        "colab_type": "code",
        "colab": {
          "base_uri": "https://localhost:8080/",
          "height": 35
        },
        "outputId": "1b16f314-716e-4c96-fbd5-cdf92e584f9f"
      },
      "source": [
        "min(drive_df['velocity'])"
      ],
      "execution_count": 9,
      "outputs": [
        {
          "output_type": "execute_result",
          "data": {
            "text/plain": [
              "-12.7"
            ]
          },
          "metadata": {
            "tags": []
          },
          "execution_count": 9
        }
      ]
    },
    {
      "cell_type": "code",
      "metadata": {
        "id": "e0MTiSa7Wt77",
        "colab_type": "code",
        "colab": {}
      },
      "source": [
        "drive_df_trips = drive_df[['trip_id', 'datetime', 'velocity']]"
      ],
      "execution_count": 0,
      "outputs": []
    },
    {
      "cell_type": "code",
      "metadata": {
        "id": "cmDo7DGchXP4",
        "colab_type": "code",
        "colab": {}
      },
      "source": [
        "from datetime import datetime\n",
        "from pytz import timezone\n",
        "\n",
        "\n",
        "def convert_date_timezone(x):  \n",
        "  datetime_obj_naive = datetime.strptime(str(x),'%Y-%m-%d %H:%M:%S')\n",
        "  # Right way!\n",
        "  datetime_obj_pacific = datetime_obj_naive.astimezone(timezone('US/Pacific'))\n",
        "  return (datetime_obj_pacific.strftime(\"%Y-%m-%d %H:%M:%S\"))"
      ],
      "execution_count": 0,
      "outputs": []
    },
    {
      "cell_type": "code",
      "metadata": {
        "id": "XPBBkwbHhbAG",
        "colab_type": "code",
        "colab": {
          "base_uri": "https://localhost:8080/",
          "height": 141
        },
        "outputId": "dcacfe89-276c-4e8c-d2c1-7fa91f92726b"
      },
      "source": [
        "drive_df_trips['datetime'] =  drive_df_trips['datetime'].apply(lambda x :convert_date_timezone(x)) "
      ],
      "execution_count": 12,
      "outputs": [
        {
          "output_type": "stream",
          "text": [
            "/usr/local/lib/python3.6/dist-packages/ipykernel_launcher.py:1: SettingWithCopyWarning: \n",
            "A value is trying to be set on a copy of a slice from a DataFrame.\n",
            "Try using .loc[row_indexer,col_indexer] = value instead\n",
            "\n",
            "See the caveats in the documentation: http://pandas.pydata.org/pandas-docs/stable/indexing.html#indexing-view-versus-copy\n",
            "  \"\"\"Entry point for launching an IPython kernel.\n"
          ],
          "name": "stderr"
        }
      ]
    },
    {
      "cell_type": "code",
      "metadata": {
        "id": "NoCb6xxq9pGX",
        "colab_type": "code",
        "colab": {}
      },
      "source": [
        "drive_df_trips = drive_df_trips.sort_values(['trip_id', 'datetime'], ascending=[True, True])"
      ],
      "execution_count": 0,
      "outputs": []
    },
    {
      "cell_type": "code",
      "metadata": {
        "id": "ZocrFPdeW0B0",
        "colab_type": "code",
        "colab": {
          "base_uri": "https://localhost:8080/",
          "height": 202
        },
        "outputId": "5125417a-9019-41b9-9541-cbe92c146ff1"
      },
      "source": [
        "drive_df_trips.tail(5)"
      ],
      "execution_count": 14,
      "outputs": [
        {
          "output_type": "execute_result",
          "data": {
            "text/html": [
              "<div>\n",
              "<style scoped>\n",
              "    .dataframe tbody tr th:only-of-type {\n",
              "        vertical-align: middle;\n",
              "    }\n",
              "\n",
              "    .dataframe tbody tr th {\n",
              "        vertical-align: top;\n",
              "    }\n",
              "\n",
              "    .dataframe thead th {\n",
              "        text-align: right;\n",
              "    }\n",
              "</style>\n",
              "<table border=\"1\" class=\"dataframe\">\n",
              "  <thead>\n",
              "    <tr style=\"text-align: right;\">\n",
              "      <th></th>\n",
              "      <th>trip_id</th>\n",
              "      <th>datetime</th>\n",
              "      <th>velocity</th>\n",
              "    </tr>\n",
              "  </thead>\n",
              "  <tbody>\n",
              "    <tr>\n",
              "      <th>2086189</th>\n",
              "      <td>ffe2c04ae0de450cae6f41c7e2fbd86d</td>\n",
              "      <td>2017-01-21 04:05:34</td>\n",
              "      <td>59.06</td>\n",
              "    </tr>\n",
              "    <tr>\n",
              "      <th>2086190</th>\n",
              "      <td>ffe2c04ae0de450cae6f41c7e2fbd86d</td>\n",
              "      <td>2017-01-21 04:05:35</td>\n",
              "      <td>59.04</td>\n",
              "    </tr>\n",
              "    <tr>\n",
              "      <th>2086191</th>\n",
              "      <td>ffe2c04ae0de450cae6f41c7e2fbd86d</td>\n",
              "      <td>2017-01-21 04:05:36</td>\n",
              "      <td>54.83</td>\n",
              "    </tr>\n",
              "    <tr>\n",
              "      <th>2086192</th>\n",
              "      <td>ffe2c04ae0de450cae6f41c7e2fbd86d</td>\n",
              "      <td>2017-01-21 04:05:37</td>\n",
              "      <td>20.00</td>\n",
              "    </tr>\n",
              "    <tr>\n",
              "      <th>2086193</th>\n",
              "      <td>ffe2c04ae0de450cae6f41c7e2fbd86d</td>\n",
              "      <td>2017-01-21 04:05:38</td>\n",
              "      <td>0.00</td>\n",
              "    </tr>\n",
              "  </tbody>\n",
              "</table>\n",
              "</div>"
            ],
            "text/plain": [
              "                                  trip_id             datetime  velocity\n",
              "2086189  ffe2c04ae0de450cae6f41c7e2fbd86d  2017-01-21 04:05:34     59.06\n",
              "2086190  ffe2c04ae0de450cae6f41c7e2fbd86d  2017-01-21 04:05:35     59.04\n",
              "2086191  ffe2c04ae0de450cae6f41c7e2fbd86d  2017-01-21 04:05:36     54.83\n",
              "2086192  ffe2c04ae0de450cae6f41c7e2fbd86d  2017-01-21 04:05:37     20.00\n",
              "2086193  ffe2c04ae0de450cae6f41c7e2fbd86d  2017-01-21 04:05:38      0.00"
            ]
          },
          "metadata": {
            "tags": []
          },
          "execution_count": 14
        }
      ]
    },
    {
      "cell_type": "code",
      "metadata": {
        "id": "c8NGvJLhW2OG",
        "colab_type": "code",
        "colab": {
          "base_uri": "https://localhost:8080/",
          "height": 87
        },
        "outputId": "fb7eeb03-37a3-4cee-a0dd-821df157215b"
      },
      "source": [
        "drive_df_trips.dtypes"
      ],
      "execution_count": 15,
      "outputs": [
        {
          "output_type": "execute_result",
          "data": {
            "text/plain": [
              "trip_id      object\n",
              "datetime     object\n",
              "velocity    float64\n",
              "dtype: object"
            ]
          },
          "metadata": {
            "tags": []
          },
          "execution_count": 15
        }
      ]
    },
    {
      "cell_type": "code",
      "metadata": {
        "id": "FEQEDUuobhEB",
        "colab_type": "code",
        "colab": {}
      },
      "source": [
        "# lag datetime\n",
        "drive_df_trips['datetime_1'] = drive_df_trips['datetime']"
      ],
      "execution_count": 0,
      "outputs": []
    },
    {
      "cell_type": "code",
      "metadata": {
        "id": "FJrdlhx1dtTJ",
        "colab_type": "code",
        "colab": {
          "base_uri": "https://localhost:8080/",
          "height": 171
        },
        "outputId": "b99593e2-5f5d-4be6-9a99-5c2a3f6bd2a8"
      },
      "source": [
        "drive_df_trips.head(4)"
      ],
      "execution_count": 17,
      "outputs": [
        {
          "output_type": "execute_result",
          "data": {
            "text/html": [
              "<div>\n",
              "<style scoped>\n",
              "    .dataframe tbody tr th:only-of-type {\n",
              "        vertical-align: middle;\n",
              "    }\n",
              "\n",
              "    .dataframe tbody tr th {\n",
              "        vertical-align: top;\n",
              "    }\n",
              "\n",
              "    .dataframe thead th {\n",
              "        text-align: right;\n",
              "    }\n",
              "</style>\n",
              "<table border=\"1\" class=\"dataframe\">\n",
              "  <thead>\n",
              "    <tr style=\"text-align: right;\">\n",
              "      <th></th>\n",
              "      <th>trip_id</th>\n",
              "      <th>datetime</th>\n",
              "      <th>velocity</th>\n",
              "      <th>datetime_1</th>\n",
              "    </tr>\n",
              "  </thead>\n",
              "  <tbody>\n",
              "    <tr>\n",
              "      <th>8292551</th>\n",
              "      <td>00922df3be5a4589ab385d0c2da2dd81</td>\n",
              "      <td>2017-01-06 15:00:00</td>\n",
              "      <td>0.00</td>\n",
              "      <td>2017-01-06 15:00:00</td>\n",
              "    </tr>\n",
              "    <tr>\n",
              "      <th>8292552</th>\n",
              "      <td>00922df3be5a4589ab385d0c2da2dd81</td>\n",
              "      <td>2017-01-06 15:00:01</td>\n",
              "      <td>61.36</td>\n",
              "      <td>2017-01-06 15:00:01</td>\n",
              "    </tr>\n",
              "    <tr>\n",
              "      <th>8292553</th>\n",
              "      <td>00922df3be5a4589ab385d0c2da2dd81</td>\n",
              "      <td>2017-01-06 15:00:02</td>\n",
              "      <td>47.50</td>\n",
              "      <td>2017-01-06 15:00:02</td>\n",
              "    </tr>\n",
              "    <tr>\n",
              "      <th>8292554</th>\n",
              "      <td>00922df3be5a4589ab385d0c2da2dd81</td>\n",
              "      <td>2017-01-06 15:00:03</td>\n",
              "      <td>48.28</td>\n",
              "      <td>2017-01-06 15:00:03</td>\n",
              "    </tr>\n",
              "  </tbody>\n",
              "</table>\n",
              "</div>"
            ],
            "text/plain": [
              "                                  trip_id  ...           datetime_1\n",
              "8292551  00922df3be5a4589ab385d0c2da2dd81  ...  2017-01-06 15:00:00\n",
              "8292552  00922df3be5a4589ab385d0c2da2dd81  ...  2017-01-06 15:00:01\n",
              "8292553  00922df3be5a4589ab385d0c2da2dd81  ...  2017-01-06 15:00:02\n",
              "8292554  00922df3be5a4589ab385d0c2da2dd81  ...  2017-01-06 15:00:03\n",
              "\n",
              "[4 rows x 4 columns]"
            ]
          },
          "metadata": {
            "tags": []
          },
          "execution_count": 17
        }
      ]
    },
    {
      "cell_type": "code",
      "metadata": {
        "id": "worrP93n55C1",
        "colab_type": "code",
        "colab": {
          "base_uri": "https://localhost:8080/",
          "height": 104
        },
        "outputId": "8bbd0600-2a13-4f79-f061-393466c010e7"
      },
      "source": [
        "drive_df_trips.isnull().sum()"
      ],
      "execution_count": 18,
      "outputs": [
        {
          "output_type": "execute_result",
          "data": {
            "text/plain": [
              "trip_id       0\n",
              "datetime      0\n",
              "velocity      0\n",
              "datetime_1    0\n",
              "dtype: int64"
            ]
          },
          "metadata": {
            "tags": []
          },
          "execution_count": 18
        }
      ]
    },
    {
      "cell_type": "code",
      "metadata": {
        "id": "S_pLfcuuJsG1",
        "colab_type": "code",
        "colab": {}
      },
      "source": [
        "grouped_df = drive_df_trips.groupby([\"trip_id\"])"
      ],
      "execution_count": 0,
      "outputs": []
    },
    {
      "cell_type": "code",
      "metadata": {
        "id": "MGL389sJJzwZ",
        "colab_type": "code",
        "colab": {}
      },
      "source": [
        "def lag_by_group(key, value_df):\n",
        "    df = value_df.assign(group = key) # this pandas method returns a copy of the df, with group columns assigned the key value\n",
        "    return (df.sort_values(by=[\"datetime\", \"trip_id\"], ascending=True)\n",
        "        .set_index([\"datetime\", \"trip_id\"])\n",
        "        .shift(1)\n",
        "               ) "
      ],
      "execution_count": 0,
      "outputs": []
    },
    {
      "cell_type": "code",
      "metadata": {
        "id": "pp5w8WGVJ8nM",
        "colab_type": "code",
        "colab": {}
      },
      "source": [
        "dflist = [lag_by_group(g, grouped_df.get_group(g)) for g in grouped_df.groups.keys()]\n",
        "\n",
        "dflist_1 = pd.concat(dflist, axis=0).reset_index()"
      ],
      "execution_count": 0,
      "outputs": []
    },
    {
      "cell_type": "code",
      "metadata": {
        "id": "TkFMMY9wKun-",
        "colab_type": "code",
        "colab": {}
      },
      "source": [
        "dflist_1.drop(['group'],axis=1,inplace=True)"
      ],
      "execution_count": 0,
      "outputs": []
    },
    {
      "cell_type": "code",
      "metadata": {
        "id": "mAFlow5_M8t4",
        "colab_type": "code",
        "colab": {
          "base_uri": "https://localhost:8080/",
          "height": 35
        },
        "outputId": "5d120b02-819b-44b0-c000-c1b75f5d1e5e"
      },
      "source": [
        "dflist_1.shape"
      ],
      "execution_count": 24,
      "outputs": [
        {
          "output_type": "execute_result",
          "data": {
            "text/plain": [
              "(9217528, 4)"
            ]
          },
          "metadata": {
            "tags": []
          },
          "execution_count": 24
        }
      ]
    },
    {
      "cell_type": "code",
      "metadata": {
        "id": "fQM0KzxaNgja",
        "colab_type": "code",
        "colab": {
          "base_uri": "https://localhost:8080/",
          "height": 141
        },
        "outputId": "6c4cbe28-e743-4834-a3ef-a7c8031b6731"
      },
      "source": [
        "dflist_1.head(3)"
      ],
      "execution_count": 25,
      "outputs": [
        {
          "output_type": "execute_result",
          "data": {
            "text/html": [
              "<div>\n",
              "<style scoped>\n",
              "    .dataframe tbody tr th:only-of-type {\n",
              "        vertical-align: middle;\n",
              "    }\n",
              "\n",
              "    .dataframe tbody tr th {\n",
              "        vertical-align: top;\n",
              "    }\n",
              "\n",
              "    .dataframe thead th {\n",
              "        text-align: right;\n",
              "    }\n",
              "</style>\n",
              "<table border=\"1\" class=\"dataframe\">\n",
              "  <thead>\n",
              "    <tr style=\"text-align: right;\">\n",
              "      <th></th>\n",
              "      <th>datetime</th>\n",
              "      <th>trip_id</th>\n",
              "      <th>velocity</th>\n",
              "      <th>datetime_1</th>\n",
              "    </tr>\n",
              "  </thead>\n",
              "  <tbody>\n",
              "    <tr>\n",
              "      <th>0</th>\n",
              "      <td>2017-01-06 15:00:00</td>\n",
              "      <td>00922df3be5a4589ab385d0c2da2dd81</td>\n",
              "      <td>NaN</td>\n",
              "      <td>NaN</td>\n",
              "    </tr>\n",
              "    <tr>\n",
              "      <th>1</th>\n",
              "      <td>2017-01-06 15:00:01</td>\n",
              "      <td>00922df3be5a4589ab385d0c2da2dd81</td>\n",
              "      <td>0.00</td>\n",
              "      <td>2017-01-06 15:00:00</td>\n",
              "    </tr>\n",
              "    <tr>\n",
              "      <th>2</th>\n",
              "      <td>2017-01-06 15:00:02</td>\n",
              "      <td>00922df3be5a4589ab385d0c2da2dd81</td>\n",
              "      <td>61.36</td>\n",
              "      <td>2017-01-06 15:00:01</td>\n",
              "    </tr>\n",
              "  </tbody>\n",
              "</table>\n",
              "</div>"
            ],
            "text/plain": [
              "              datetime  ...           datetime_1\n",
              "0  2017-01-06 15:00:00  ...                  NaN\n",
              "1  2017-01-06 15:00:01  ...  2017-01-06 15:00:00\n",
              "2  2017-01-06 15:00:02  ...  2017-01-06 15:00:01\n",
              "\n",
              "[3 rows x 4 columns]"
            ]
          },
          "metadata": {
            "tags": []
          },
          "execution_count": 25
        }
      ]
    },
    {
      "cell_type": "code",
      "metadata": {
        "id": "g-WtLPLsOes4",
        "colab_type": "code",
        "colab": {}
      },
      "source": [
        "dflist_1.rename(columns = {'velocity':'lag_velocity'}, inplace = True)\n",
        "dflist_1.rename(columns = {'datetime_1':'lag_datetime'}, inplace = True)"
      ],
      "execution_count": 0,
      "outputs": []
    },
    {
      "cell_type": "code",
      "metadata": {
        "id": "8KKzXvBbOsWN",
        "colab_type": "code",
        "colab": {
          "base_uri": "https://localhost:8080/",
          "height": 141
        },
        "outputId": "7cdf53d4-9f48-4f84-a826-a9b4beae0e05"
      },
      "source": [
        "dflist_1.head(3)"
      ],
      "execution_count": 27,
      "outputs": [
        {
          "output_type": "execute_result",
          "data": {
            "text/html": [
              "<div>\n",
              "<style scoped>\n",
              "    .dataframe tbody tr th:only-of-type {\n",
              "        vertical-align: middle;\n",
              "    }\n",
              "\n",
              "    .dataframe tbody tr th {\n",
              "        vertical-align: top;\n",
              "    }\n",
              "\n",
              "    .dataframe thead th {\n",
              "        text-align: right;\n",
              "    }\n",
              "</style>\n",
              "<table border=\"1\" class=\"dataframe\">\n",
              "  <thead>\n",
              "    <tr style=\"text-align: right;\">\n",
              "      <th></th>\n",
              "      <th>datetime</th>\n",
              "      <th>trip_id</th>\n",
              "      <th>lag_velocity</th>\n",
              "      <th>lag_datetime</th>\n",
              "    </tr>\n",
              "  </thead>\n",
              "  <tbody>\n",
              "    <tr>\n",
              "      <th>0</th>\n",
              "      <td>2017-01-06 15:00:00</td>\n",
              "      <td>00922df3be5a4589ab385d0c2da2dd81</td>\n",
              "      <td>NaN</td>\n",
              "      <td>NaN</td>\n",
              "    </tr>\n",
              "    <tr>\n",
              "      <th>1</th>\n",
              "      <td>2017-01-06 15:00:01</td>\n",
              "      <td>00922df3be5a4589ab385d0c2da2dd81</td>\n",
              "      <td>0.00</td>\n",
              "      <td>2017-01-06 15:00:00</td>\n",
              "    </tr>\n",
              "    <tr>\n",
              "      <th>2</th>\n",
              "      <td>2017-01-06 15:00:02</td>\n",
              "      <td>00922df3be5a4589ab385d0c2da2dd81</td>\n",
              "      <td>61.36</td>\n",
              "      <td>2017-01-06 15:00:01</td>\n",
              "    </tr>\n",
              "  </tbody>\n",
              "</table>\n",
              "</div>"
            ],
            "text/plain": [
              "              datetime  ...         lag_datetime\n",
              "0  2017-01-06 15:00:00  ...                  NaN\n",
              "1  2017-01-06 15:00:01  ...  2017-01-06 15:00:00\n",
              "2  2017-01-06 15:00:02  ...  2017-01-06 15:00:01\n",
              "\n",
              "[3 rows x 4 columns]"
            ]
          },
          "metadata": {
            "tags": []
          },
          "execution_count": 27
        }
      ]
    },
    {
      "cell_type": "code",
      "metadata": {
        "id": "E0QwpRPPP73u",
        "colab_type": "code",
        "colab": {}
      },
      "source": [
        "df_new = pd.merge(drive_df_trips, dflist_1,  how='left', left_on=['datetime','trip_id'], right_on = ['datetime','trip_id'])"
      ],
      "execution_count": 0,
      "outputs": []
    },
    {
      "cell_type": "code",
      "metadata": {
        "id": "vz6i2kiuQHs3",
        "colab_type": "code",
        "colab": {
          "base_uri": "https://localhost:8080/",
          "height": 35
        },
        "outputId": "f2feca90-f6cb-49e0-fc95-f4e4cf6ac2be"
      },
      "source": [
        "df_new.shape"
      ],
      "execution_count": 29,
      "outputs": [
        {
          "output_type": "execute_result",
          "data": {
            "text/plain": [
              "(9217528, 6)"
            ]
          },
          "metadata": {
            "tags": []
          },
          "execution_count": 29
        }
      ]
    },
    {
      "cell_type": "code",
      "metadata": {
        "id": "A6RfYWRKQKhM",
        "colab_type": "code",
        "colab": {
          "base_uri": "https://localhost:8080/",
          "height": 193
        },
        "outputId": "36388f74-2039-4c71-b8ff-3f85902cdc69"
      },
      "source": [
        "df_new.head(3)"
      ],
      "execution_count": 30,
      "outputs": [
        {
          "output_type": "execute_result",
          "data": {
            "text/html": [
              "<div>\n",
              "<style scoped>\n",
              "    .dataframe tbody tr th:only-of-type {\n",
              "        vertical-align: middle;\n",
              "    }\n",
              "\n",
              "    .dataframe tbody tr th {\n",
              "        vertical-align: top;\n",
              "    }\n",
              "\n",
              "    .dataframe thead th {\n",
              "        text-align: right;\n",
              "    }\n",
              "</style>\n",
              "<table border=\"1\" class=\"dataframe\">\n",
              "  <thead>\n",
              "    <tr style=\"text-align: right;\">\n",
              "      <th></th>\n",
              "      <th>trip_id</th>\n",
              "      <th>datetime</th>\n",
              "      <th>velocity</th>\n",
              "      <th>datetime_1</th>\n",
              "      <th>lag_velocity</th>\n",
              "      <th>lag_datetime</th>\n",
              "    </tr>\n",
              "  </thead>\n",
              "  <tbody>\n",
              "    <tr>\n",
              "      <th>0</th>\n",
              "      <td>00922df3be5a4589ab385d0c2da2dd81</td>\n",
              "      <td>2017-01-06 15:00:00</td>\n",
              "      <td>0.00</td>\n",
              "      <td>2017-01-06 15:00:00</td>\n",
              "      <td>NaN</td>\n",
              "      <td>NaN</td>\n",
              "    </tr>\n",
              "    <tr>\n",
              "      <th>1</th>\n",
              "      <td>00922df3be5a4589ab385d0c2da2dd81</td>\n",
              "      <td>2017-01-06 15:00:01</td>\n",
              "      <td>61.36</td>\n",
              "      <td>2017-01-06 15:00:01</td>\n",
              "      <td>0.00</td>\n",
              "      <td>2017-01-06 15:00:00</td>\n",
              "    </tr>\n",
              "    <tr>\n",
              "      <th>2</th>\n",
              "      <td>00922df3be5a4589ab385d0c2da2dd81</td>\n",
              "      <td>2017-01-06 15:00:02</td>\n",
              "      <td>47.50</td>\n",
              "      <td>2017-01-06 15:00:02</td>\n",
              "      <td>61.36</td>\n",
              "      <td>2017-01-06 15:00:01</td>\n",
              "    </tr>\n",
              "  </tbody>\n",
              "</table>\n",
              "</div>"
            ],
            "text/plain": [
              "                            trip_id  ...         lag_datetime\n",
              "0  00922df3be5a4589ab385d0c2da2dd81  ...                  NaN\n",
              "1  00922df3be5a4589ab385d0c2da2dd81  ...  2017-01-06 15:00:00\n",
              "2  00922df3be5a4589ab385d0c2da2dd81  ...  2017-01-06 15:00:01\n",
              "\n",
              "[3 rows x 6 columns]"
            ]
          },
          "metadata": {
            "tags": []
          },
          "execution_count": 30
        }
      ]
    },
    {
      "cell_type": "code",
      "metadata": {
        "id": "Zy3J-e18U572",
        "colab_type": "code",
        "colab": {
          "base_uri": "https://localhost:8080/",
          "height": 121
        },
        "outputId": "4327ae30-2b25-4598-937a-d6d8a92a141f"
      },
      "source": [
        "df_new['trip_id'].unique()"
      ],
      "execution_count": 31,
      "outputs": [
        {
          "output_type": "execute_result",
          "data": {
            "text/plain": [
              "array(['00922df3be5a4589ab385d0c2da2dd81',\n",
              "       '00dc31fe55e24d14989c89de4b3b683b',\n",
              "       '0156d21e316d4d8b9d5bf6ccff797bf7', ...,\n",
              "       'ffcdf94f51a54c85bb6d90b3b8624f6b',\n",
              "       'ffda453e86e34db587018c3333f549a0',\n",
              "       'ffe2c04ae0de450cae6f41c7e2fbd86d'], dtype=object)"
            ]
          },
          "metadata": {
            "tags": []
          },
          "execution_count": 31
        }
      ]
    },
    {
      "cell_type": "code",
      "metadata": {
        "id": "JAP-6tktg3Zb",
        "colab_type": "code",
        "colab": {}
      },
      "source": [
        "df_new = df_new.dropna()"
      ],
      "execution_count": 0,
      "outputs": []
    },
    {
      "cell_type": "code",
      "metadata": {
        "id": "zuzeAakUgjHg",
        "colab_type": "code",
        "colab": {}
      },
      "source": [
        "drive_df_trips = df_new.copy()\n",
        "del df_new\n",
        "del dflist_1\n",
        "del grouped_df"
      ],
      "execution_count": 0,
      "outputs": []
    },
    {
      "cell_type": "code",
      "metadata": {
        "id": "BE_LUu1qXAFr",
        "colab_type": "code",
        "colab": {}
      },
      "source": [
        "## COnvert the velocity into m/s\n",
        "drive_df_trips['velocity'] = drive_df_trips['velocity'] * (5.0/18.0)\n",
        "drive_df_trips['lag_velocity'] = drive_df_trips['lag_velocity'] * (5.0/18.0)"
      ],
      "execution_count": 0,
      "outputs": []
    },
    {
      "cell_type": "code",
      "metadata": {
        "id": "xwrX_EjIUtze",
        "colab_type": "code",
        "colab": {
          "base_uri": "https://localhost:8080/",
          "height": 193
        },
        "outputId": "a7bec0c7-3a18-4a5f-d794-54a4d701470c"
      },
      "source": [
        "drive_df_trips.head(3)"
      ],
      "execution_count": 35,
      "outputs": [
        {
          "output_type": "execute_result",
          "data": {
            "text/html": [
              "<div>\n",
              "<style scoped>\n",
              "    .dataframe tbody tr th:only-of-type {\n",
              "        vertical-align: middle;\n",
              "    }\n",
              "\n",
              "    .dataframe tbody tr th {\n",
              "        vertical-align: top;\n",
              "    }\n",
              "\n",
              "    .dataframe thead th {\n",
              "        text-align: right;\n",
              "    }\n",
              "</style>\n",
              "<table border=\"1\" class=\"dataframe\">\n",
              "  <thead>\n",
              "    <tr style=\"text-align: right;\">\n",
              "      <th></th>\n",
              "      <th>trip_id</th>\n",
              "      <th>datetime</th>\n",
              "      <th>velocity</th>\n",
              "      <th>datetime_1</th>\n",
              "      <th>lag_velocity</th>\n",
              "      <th>lag_datetime</th>\n",
              "    </tr>\n",
              "  </thead>\n",
              "  <tbody>\n",
              "    <tr>\n",
              "      <th>1</th>\n",
              "      <td>00922df3be5a4589ab385d0c2da2dd81</td>\n",
              "      <td>2017-01-06 15:00:01</td>\n",
              "      <td>17.044444</td>\n",
              "      <td>2017-01-06 15:00:01</td>\n",
              "      <td>0.000000</td>\n",
              "      <td>2017-01-06 15:00:00</td>\n",
              "    </tr>\n",
              "    <tr>\n",
              "      <th>2</th>\n",
              "      <td>00922df3be5a4589ab385d0c2da2dd81</td>\n",
              "      <td>2017-01-06 15:00:02</td>\n",
              "      <td>13.194444</td>\n",
              "      <td>2017-01-06 15:00:02</td>\n",
              "      <td>17.044444</td>\n",
              "      <td>2017-01-06 15:00:01</td>\n",
              "    </tr>\n",
              "    <tr>\n",
              "      <th>3</th>\n",
              "      <td>00922df3be5a4589ab385d0c2da2dd81</td>\n",
              "      <td>2017-01-06 15:00:03</td>\n",
              "      <td>13.411111</td>\n",
              "      <td>2017-01-06 15:00:03</td>\n",
              "      <td>13.194444</td>\n",
              "      <td>2017-01-06 15:00:02</td>\n",
              "    </tr>\n",
              "  </tbody>\n",
              "</table>\n",
              "</div>"
            ],
            "text/plain": [
              "                            trip_id  ...         lag_datetime\n",
              "1  00922df3be5a4589ab385d0c2da2dd81  ...  2017-01-06 15:00:00\n",
              "2  00922df3be5a4589ab385d0c2da2dd81  ...  2017-01-06 15:00:01\n",
              "3  00922df3be5a4589ab385d0c2da2dd81  ...  2017-01-06 15:00:02\n",
              "\n",
              "[3 rows x 6 columns]"
            ]
          },
          "metadata": {
            "tags": []
          },
          "execution_count": 35
        }
      ]
    },
    {
      "cell_type": "markdown",
      "metadata": {
        "id": "P1Cqhbv-vE8A",
        "colab_type": "text"
      },
      "source": [
        "#### Create lagged variables to - Calculate Acceleration"
      ]
    },
    {
      "cell_type": "code",
      "metadata": {
        "id": "UVsFvNu2yq8c",
        "colab_type": "code",
        "colab": {
          "base_uri": "https://localhost:8080/",
          "height": 139
        },
        "outputId": "40c18cb4-6c10-4e14-8263-99951235355e"
      },
      "source": [
        "drive_df_trips.dtypes"
      ],
      "execution_count": 36,
      "outputs": [
        {
          "output_type": "execute_result",
          "data": {
            "text/plain": [
              "trip_id          object\n",
              "datetime         object\n",
              "velocity        float64\n",
              "datetime_1       object\n",
              "lag_velocity    float64\n",
              "lag_datetime     object\n",
              "dtype: object"
            ]
          },
          "metadata": {
            "tags": []
          },
          "execution_count": 36
        }
      ]
    },
    {
      "cell_type": "code",
      "metadata": {
        "id": "w61FcDAKvWGG",
        "colab_type": "code",
        "colab": {
          "base_uri": "https://localhost:8080/",
          "height": 193
        },
        "outputId": "1ee6206b-f76c-4569-e7ec-c82ac6aaf6be"
      },
      "source": [
        "drive_df_trips.head(3)"
      ],
      "execution_count": 37,
      "outputs": [
        {
          "output_type": "execute_result",
          "data": {
            "text/html": [
              "<div>\n",
              "<style scoped>\n",
              "    .dataframe tbody tr th:only-of-type {\n",
              "        vertical-align: middle;\n",
              "    }\n",
              "\n",
              "    .dataframe tbody tr th {\n",
              "        vertical-align: top;\n",
              "    }\n",
              "\n",
              "    .dataframe thead th {\n",
              "        text-align: right;\n",
              "    }\n",
              "</style>\n",
              "<table border=\"1\" class=\"dataframe\">\n",
              "  <thead>\n",
              "    <tr style=\"text-align: right;\">\n",
              "      <th></th>\n",
              "      <th>trip_id</th>\n",
              "      <th>datetime</th>\n",
              "      <th>velocity</th>\n",
              "      <th>datetime_1</th>\n",
              "      <th>lag_velocity</th>\n",
              "      <th>lag_datetime</th>\n",
              "    </tr>\n",
              "  </thead>\n",
              "  <tbody>\n",
              "    <tr>\n",
              "      <th>1</th>\n",
              "      <td>00922df3be5a4589ab385d0c2da2dd81</td>\n",
              "      <td>2017-01-06 15:00:01</td>\n",
              "      <td>17.044444</td>\n",
              "      <td>2017-01-06 15:00:01</td>\n",
              "      <td>0.000000</td>\n",
              "      <td>2017-01-06 15:00:00</td>\n",
              "    </tr>\n",
              "    <tr>\n",
              "      <th>2</th>\n",
              "      <td>00922df3be5a4589ab385d0c2da2dd81</td>\n",
              "      <td>2017-01-06 15:00:02</td>\n",
              "      <td>13.194444</td>\n",
              "      <td>2017-01-06 15:00:02</td>\n",
              "      <td>17.044444</td>\n",
              "      <td>2017-01-06 15:00:01</td>\n",
              "    </tr>\n",
              "    <tr>\n",
              "      <th>3</th>\n",
              "      <td>00922df3be5a4589ab385d0c2da2dd81</td>\n",
              "      <td>2017-01-06 15:00:03</td>\n",
              "      <td>13.411111</td>\n",
              "      <td>2017-01-06 15:00:03</td>\n",
              "      <td>13.194444</td>\n",
              "      <td>2017-01-06 15:00:02</td>\n",
              "    </tr>\n",
              "  </tbody>\n",
              "</table>\n",
              "</div>"
            ],
            "text/plain": [
              "                            trip_id  ...         lag_datetime\n",
              "1  00922df3be5a4589ab385d0c2da2dd81  ...  2017-01-06 15:00:00\n",
              "2  00922df3be5a4589ab385d0c2da2dd81  ...  2017-01-06 15:00:01\n",
              "3  00922df3be5a4589ab385d0c2da2dd81  ...  2017-01-06 15:00:02\n",
              "\n",
              "[3 rows x 6 columns]"
            ]
          },
          "metadata": {
            "tags": []
          },
          "execution_count": 37
        }
      ]
    },
    {
      "cell_type": "code",
      "metadata": {
        "id": "5NnBr8_tEAsU",
        "colab_type": "code",
        "colab": {
          "base_uri": "https://localhost:8080/",
          "height": 139
        },
        "outputId": "b81f370b-64a1-4ac9-fb45-32df9f3e31d9"
      },
      "source": [
        "drive_df_trips.isnull().sum()"
      ],
      "execution_count": 38,
      "outputs": [
        {
          "output_type": "execute_result",
          "data": {
            "text/plain": [
              "trip_id         0\n",
              "datetime        0\n",
              "velocity        0\n",
              "datetime_1      0\n",
              "lag_velocity    0\n",
              "lag_datetime    0\n",
              "dtype: int64"
            ]
          },
          "metadata": {
            "tags": []
          },
          "execution_count": 38
        }
      ]
    },
    {
      "cell_type": "code",
      "metadata": {
        "id": "aBU-KtDbybVl",
        "colab_type": "code",
        "colab": {}
      },
      "source": [
        "# ## getthe lag and fill NA values\n",
        "# drive_df_trips['lag_datetime'] = drive_df_trips['datetime'].shift(1)\n",
        "\n",
        "\n",
        "\n",
        "# # Get the difference in velocities\n",
        "# drive_df_trips['lag_velocity'] = drive_df_trips['velocity'].shift(1)\n",
        "\n",
        "# # drive_df_trips = drive_df_trips.dropna()\n",
        "\n",
        "drive_df_trips['velocity_diff'] = drive_df_trips['velocity'] - drive_df_trips['lag_velocity']\n"
      ],
      "execution_count": 0,
      "outputs": []
    },
    {
      "cell_type": "code",
      "metadata": {
        "id": "II55xAtJy2uu",
        "colab_type": "code",
        "colab": {
          "base_uri": "https://localhost:8080/",
          "height": 265
        },
        "outputId": "b9740225-ed94-4140-adb7-90eada7feb6e"
      },
      "source": [
        "drive_df_trips.head(3)"
      ],
      "execution_count": 40,
      "outputs": [
        {
          "output_type": "execute_result",
          "data": {
            "text/html": [
              "<div>\n",
              "<style scoped>\n",
              "    .dataframe tbody tr th:only-of-type {\n",
              "        vertical-align: middle;\n",
              "    }\n",
              "\n",
              "    .dataframe tbody tr th {\n",
              "        vertical-align: top;\n",
              "    }\n",
              "\n",
              "    .dataframe thead th {\n",
              "        text-align: right;\n",
              "    }\n",
              "</style>\n",
              "<table border=\"1\" class=\"dataframe\">\n",
              "  <thead>\n",
              "    <tr style=\"text-align: right;\">\n",
              "      <th></th>\n",
              "      <th>trip_id</th>\n",
              "      <th>datetime</th>\n",
              "      <th>velocity</th>\n",
              "      <th>datetime_1</th>\n",
              "      <th>lag_velocity</th>\n",
              "      <th>lag_datetime</th>\n",
              "      <th>velocity_diff</th>\n",
              "    </tr>\n",
              "  </thead>\n",
              "  <tbody>\n",
              "    <tr>\n",
              "      <th>1</th>\n",
              "      <td>00922df3be5a4589ab385d0c2da2dd81</td>\n",
              "      <td>2017-01-06 15:00:01</td>\n",
              "      <td>17.044444</td>\n",
              "      <td>2017-01-06 15:00:01</td>\n",
              "      <td>0.000000</td>\n",
              "      <td>2017-01-06 15:00:00</td>\n",
              "      <td>17.044444</td>\n",
              "    </tr>\n",
              "    <tr>\n",
              "      <th>2</th>\n",
              "      <td>00922df3be5a4589ab385d0c2da2dd81</td>\n",
              "      <td>2017-01-06 15:00:02</td>\n",
              "      <td>13.194444</td>\n",
              "      <td>2017-01-06 15:00:02</td>\n",
              "      <td>17.044444</td>\n",
              "      <td>2017-01-06 15:00:01</td>\n",
              "      <td>-3.850000</td>\n",
              "    </tr>\n",
              "    <tr>\n",
              "      <th>3</th>\n",
              "      <td>00922df3be5a4589ab385d0c2da2dd81</td>\n",
              "      <td>2017-01-06 15:00:03</td>\n",
              "      <td>13.411111</td>\n",
              "      <td>2017-01-06 15:00:03</td>\n",
              "      <td>13.194444</td>\n",
              "      <td>2017-01-06 15:00:02</td>\n",
              "      <td>0.216667</td>\n",
              "    </tr>\n",
              "  </tbody>\n",
              "</table>\n",
              "</div>"
            ],
            "text/plain": [
              "                            trip_id  ... velocity_diff\n",
              "1  00922df3be5a4589ab385d0c2da2dd81  ...     17.044444\n",
              "2  00922df3be5a4589ab385d0c2da2dd81  ...     -3.850000\n",
              "3  00922df3be5a4589ab385d0c2da2dd81  ...      0.216667\n",
              "\n",
              "[3 rows x 7 columns]"
            ]
          },
          "metadata": {
            "tags": []
          },
          "execution_count": 40
        }
      ]
    },
    {
      "cell_type": "code",
      "metadata": {
        "id": "jb0izJpU6Vzu",
        "colab_type": "code",
        "colab": {
          "base_uri": "https://localhost:8080/",
          "height": 156
        },
        "outputId": "823a619c-1697-4c53-dc3f-862fbdd02d88"
      },
      "source": [
        "drive_df_trips.isnull().sum()"
      ],
      "execution_count": 41,
      "outputs": [
        {
          "output_type": "execute_result",
          "data": {
            "text/plain": [
              "trip_id          0\n",
              "datetime         0\n",
              "velocity         0\n",
              "datetime_1       0\n",
              "lag_velocity     0\n",
              "lag_datetime     0\n",
              "velocity_diff    0\n",
              "dtype: int64"
            ]
          },
          "metadata": {
            "tags": []
          },
          "execution_count": 41
        }
      ]
    },
    {
      "cell_type": "code",
      "metadata": {
        "id": "S7t7NTiVYoyf",
        "colab_type": "code",
        "colab": {
          "base_uri": "https://localhost:8080/",
          "height": 1000
        },
        "outputId": "f4b2b9ed-5754-413f-f47a-1d357aef2ee0"
      },
      "source": [
        "drive_df_trips"
      ],
      "execution_count": 42,
      "outputs": [
        {
          "output_type": "execute_result",
          "data": {
            "text/html": [
              "<div>\n",
              "<style scoped>\n",
              "    .dataframe tbody tr th:only-of-type {\n",
              "        vertical-align: middle;\n",
              "    }\n",
              "\n",
              "    .dataframe tbody tr th {\n",
              "        vertical-align: top;\n",
              "    }\n",
              "\n",
              "    .dataframe thead th {\n",
              "        text-align: right;\n",
              "    }\n",
              "</style>\n",
              "<table border=\"1\" class=\"dataframe\">\n",
              "  <thead>\n",
              "    <tr style=\"text-align: right;\">\n",
              "      <th></th>\n",
              "      <th>trip_id</th>\n",
              "      <th>datetime</th>\n",
              "      <th>velocity</th>\n",
              "      <th>datetime_1</th>\n",
              "      <th>lag_velocity</th>\n",
              "      <th>lag_datetime</th>\n",
              "      <th>velocity_diff</th>\n",
              "    </tr>\n",
              "  </thead>\n",
              "  <tbody>\n",
              "    <tr>\n",
              "      <th>1</th>\n",
              "      <td>00922df3be5a4589ab385d0c2da2dd81</td>\n",
              "      <td>2017-01-06 15:00:01</td>\n",
              "      <td>17.044444</td>\n",
              "      <td>2017-01-06 15:00:01</td>\n",
              "      <td>0.000000</td>\n",
              "      <td>2017-01-06 15:00:00</td>\n",
              "      <td>17.044444</td>\n",
              "    </tr>\n",
              "    <tr>\n",
              "      <th>2</th>\n",
              "      <td>00922df3be5a4589ab385d0c2da2dd81</td>\n",
              "      <td>2017-01-06 15:00:02</td>\n",
              "      <td>13.194444</td>\n",
              "      <td>2017-01-06 15:00:02</td>\n",
              "      <td>17.044444</td>\n",
              "      <td>2017-01-06 15:00:01</td>\n",
              "      <td>-3.850000</td>\n",
              "    </tr>\n",
              "    <tr>\n",
              "      <th>3</th>\n",
              "      <td>00922df3be5a4589ab385d0c2da2dd81</td>\n",
              "      <td>2017-01-06 15:00:03</td>\n",
              "      <td>13.411111</td>\n",
              "      <td>2017-01-06 15:00:03</td>\n",
              "      <td>13.194444</td>\n",
              "      <td>2017-01-06 15:00:02</td>\n",
              "      <td>0.216667</td>\n",
              "    </tr>\n",
              "    <tr>\n",
              "      <th>4</th>\n",
              "      <td>00922df3be5a4589ab385d0c2da2dd81</td>\n",
              "      <td>2017-01-06 15:00:04</td>\n",
              "      <td>13.361111</td>\n",
              "      <td>2017-01-06 15:00:04</td>\n",
              "      <td>13.411111</td>\n",
              "      <td>2017-01-06 15:00:03</td>\n",
              "      <td>-0.050000</td>\n",
              "    </tr>\n",
              "    <tr>\n",
              "      <th>5</th>\n",
              "      <td>00922df3be5a4589ab385d0c2da2dd81</td>\n",
              "      <td>2017-01-06 15:00:05</td>\n",
              "      <td>14.805556</td>\n",
              "      <td>2017-01-06 15:00:05</td>\n",
              "      <td>13.361111</td>\n",
              "      <td>2017-01-06 15:00:04</td>\n",
              "      <td>1.444444</td>\n",
              "    </tr>\n",
              "    <tr>\n",
              "      <th>6</th>\n",
              "      <td>00922df3be5a4589ab385d0c2da2dd81</td>\n",
              "      <td>2017-01-06 15:00:06</td>\n",
              "      <td>14.452778</td>\n",
              "      <td>2017-01-06 15:00:06</td>\n",
              "      <td>14.805556</td>\n",
              "      <td>2017-01-06 15:00:05</td>\n",
              "      <td>-0.352778</td>\n",
              "    </tr>\n",
              "    <tr>\n",
              "      <th>7</th>\n",
              "      <td>00922df3be5a4589ab385d0c2da2dd81</td>\n",
              "      <td>2017-01-06 15:00:07</td>\n",
              "      <td>14.777778</td>\n",
              "      <td>2017-01-06 15:00:07</td>\n",
              "      <td>14.452778</td>\n",
              "      <td>2017-01-06 15:00:06</td>\n",
              "      <td>0.325000</td>\n",
              "    </tr>\n",
              "    <tr>\n",
              "      <th>8</th>\n",
              "      <td>00922df3be5a4589ab385d0c2da2dd81</td>\n",
              "      <td>2017-01-06 15:00:08</td>\n",
              "      <td>13.305556</td>\n",
              "      <td>2017-01-06 15:00:08</td>\n",
              "      <td>14.777778</td>\n",
              "      <td>2017-01-06 15:00:07</td>\n",
              "      <td>-1.472222</td>\n",
              "    </tr>\n",
              "    <tr>\n",
              "      <th>9</th>\n",
              "      <td>00922df3be5a4589ab385d0c2da2dd81</td>\n",
              "      <td>2017-01-06 15:00:09</td>\n",
              "      <td>13.702778</td>\n",
              "      <td>2017-01-06 15:00:09</td>\n",
              "      <td>13.305556</td>\n",
              "      <td>2017-01-06 15:00:08</td>\n",
              "      <td>0.397222</td>\n",
              "    </tr>\n",
              "    <tr>\n",
              "      <th>10</th>\n",
              "      <td>00922df3be5a4589ab385d0c2da2dd81</td>\n",
              "      <td>2017-01-06 15:00:10</td>\n",
              "      <td>16.133333</td>\n",
              "      <td>2017-01-06 15:00:10</td>\n",
              "      <td>13.702778</td>\n",
              "      <td>2017-01-06 15:00:09</td>\n",
              "      <td>2.430556</td>\n",
              "    </tr>\n",
              "    <tr>\n",
              "      <th>11</th>\n",
              "      <td>00922df3be5a4589ab385d0c2da2dd81</td>\n",
              "      <td>2017-01-06 15:00:11</td>\n",
              "      <td>14.319444</td>\n",
              "      <td>2017-01-06 15:00:11</td>\n",
              "      <td>16.133333</td>\n",
              "      <td>2017-01-06 15:00:10</td>\n",
              "      <td>-1.813889</td>\n",
              "    </tr>\n",
              "    <tr>\n",
              "      <th>12</th>\n",
              "      <td>00922df3be5a4589ab385d0c2da2dd81</td>\n",
              "      <td>2017-01-06 15:00:12</td>\n",
              "      <td>15.836111</td>\n",
              "      <td>2017-01-06 15:00:12</td>\n",
              "      <td>14.319444</td>\n",
              "      <td>2017-01-06 15:00:11</td>\n",
              "      <td>1.516667</td>\n",
              "    </tr>\n",
              "    <tr>\n",
              "      <th>13</th>\n",
              "      <td>00922df3be5a4589ab385d0c2da2dd81</td>\n",
              "      <td>2017-01-06 15:00:13</td>\n",
              "      <td>18.036111</td>\n",
              "      <td>2017-01-06 15:00:13</td>\n",
              "      <td>15.836111</td>\n",
              "      <td>2017-01-06 15:00:12</td>\n",
              "      <td>2.200000</td>\n",
              "    </tr>\n",
              "    <tr>\n",
              "      <th>14</th>\n",
              "      <td>00922df3be5a4589ab385d0c2da2dd81</td>\n",
              "      <td>2017-01-06 15:00:14</td>\n",
              "      <td>17.358333</td>\n",
              "      <td>2017-01-06 15:00:14</td>\n",
              "      <td>18.036111</td>\n",
              "      <td>2017-01-06 15:00:13</td>\n",
              "      <td>-0.677778</td>\n",
              "    </tr>\n",
              "    <tr>\n",
              "      <th>15</th>\n",
              "      <td>00922df3be5a4589ab385d0c2da2dd81</td>\n",
              "      <td>2017-01-06 15:00:15</td>\n",
              "      <td>14.541667</td>\n",
              "      <td>2017-01-06 15:00:15</td>\n",
              "      <td>17.358333</td>\n",
              "      <td>2017-01-06 15:00:14</td>\n",
              "      <td>-2.816667</td>\n",
              "    </tr>\n",
              "    <tr>\n",
              "      <th>16</th>\n",
              "      <td>00922df3be5a4589ab385d0c2da2dd81</td>\n",
              "      <td>2017-01-06 15:00:16</td>\n",
              "      <td>14.936111</td>\n",
              "      <td>2017-01-06 15:00:16</td>\n",
              "      <td>14.541667</td>\n",
              "      <td>2017-01-06 15:00:15</td>\n",
              "      <td>0.394444</td>\n",
              "    </tr>\n",
              "    <tr>\n",
              "      <th>17</th>\n",
              "      <td>00922df3be5a4589ab385d0c2da2dd81</td>\n",
              "      <td>2017-01-06 15:00:17</td>\n",
              "      <td>16.366667</td>\n",
              "      <td>2017-01-06 15:00:17</td>\n",
              "      <td>14.936111</td>\n",
              "      <td>2017-01-06 15:00:16</td>\n",
              "      <td>1.430556</td>\n",
              "    </tr>\n",
              "    <tr>\n",
              "      <th>18</th>\n",
              "      <td>00922df3be5a4589ab385d0c2da2dd81</td>\n",
              "      <td>2017-01-06 15:00:18</td>\n",
              "      <td>12.061111</td>\n",
              "      <td>2017-01-06 15:00:18</td>\n",
              "      <td>16.366667</td>\n",
              "      <td>2017-01-06 15:00:17</td>\n",
              "      <td>-4.305556</td>\n",
              "    </tr>\n",
              "    <tr>\n",
              "      <th>19</th>\n",
              "      <td>00922df3be5a4589ab385d0c2da2dd81</td>\n",
              "      <td>2017-01-06 15:00:19</td>\n",
              "      <td>20.547222</td>\n",
              "      <td>2017-01-06 15:00:19</td>\n",
              "      <td>12.061111</td>\n",
              "      <td>2017-01-06 15:00:18</td>\n",
              "      <td>8.486111</td>\n",
              "    </tr>\n",
              "    <tr>\n",
              "      <th>20</th>\n",
              "      <td>00922df3be5a4589ab385d0c2da2dd81</td>\n",
              "      <td>2017-01-06 15:00:20</td>\n",
              "      <td>18.758333</td>\n",
              "      <td>2017-01-06 15:00:20</td>\n",
              "      <td>20.547222</td>\n",
              "      <td>2017-01-06 15:00:19</td>\n",
              "      <td>-1.788889</td>\n",
              "    </tr>\n",
              "    <tr>\n",
              "      <th>21</th>\n",
              "      <td>00922df3be5a4589ab385d0c2da2dd81</td>\n",
              "      <td>2017-01-06 15:00:21</td>\n",
              "      <td>14.566667</td>\n",
              "      <td>2017-01-06 15:00:21</td>\n",
              "      <td>18.758333</td>\n",
              "      <td>2017-01-06 15:00:20</td>\n",
              "      <td>-4.191667</td>\n",
              "    </tr>\n",
              "    <tr>\n",
              "      <th>22</th>\n",
              "      <td>00922df3be5a4589ab385d0c2da2dd81</td>\n",
              "      <td>2017-01-06 15:00:22</td>\n",
              "      <td>14.847222</td>\n",
              "      <td>2017-01-06 15:00:22</td>\n",
              "      <td>14.566667</td>\n",
              "      <td>2017-01-06 15:00:21</td>\n",
              "      <td>0.280556</td>\n",
              "    </tr>\n",
              "    <tr>\n",
              "      <th>23</th>\n",
              "      <td>00922df3be5a4589ab385d0c2da2dd81</td>\n",
              "      <td>2017-01-06 15:00:23</td>\n",
              "      <td>16.852778</td>\n",
              "      <td>2017-01-06 15:00:23</td>\n",
              "      <td>14.847222</td>\n",
              "      <td>2017-01-06 15:00:22</td>\n",
              "      <td>2.005556</td>\n",
              "    </tr>\n",
              "    <tr>\n",
              "      <th>24</th>\n",
              "      <td>00922df3be5a4589ab385d0c2da2dd81</td>\n",
              "      <td>2017-01-06 15:00:24</td>\n",
              "      <td>16.888889</td>\n",
              "      <td>2017-01-06 15:00:24</td>\n",
              "      <td>16.852778</td>\n",
              "      <td>2017-01-06 15:00:23</td>\n",
              "      <td>0.036111</td>\n",
              "    </tr>\n",
              "    <tr>\n",
              "      <th>25</th>\n",
              "      <td>00922df3be5a4589ab385d0c2da2dd81</td>\n",
              "      <td>2017-01-06 15:00:25</td>\n",
              "      <td>25.569444</td>\n",
              "      <td>2017-01-06 15:00:25</td>\n",
              "      <td>16.888889</td>\n",
              "      <td>2017-01-06 15:00:24</td>\n",
              "      <td>8.680556</td>\n",
              "    </tr>\n",
              "    <tr>\n",
              "      <th>26</th>\n",
              "      <td>00922df3be5a4589ab385d0c2da2dd81</td>\n",
              "      <td>2017-01-06 15:00:26</td>\n",
              "      <td>12.236111</td>\n",
              "      <td>2017-01-06 15:00:26</td>\n",
              "      <td>25.569444</td>\n",
              "      <td>2017-01-06 15:00:25</td>\n",
              "      <td>-13.333333</td>\n",
              "    </tr>\n",
              "    <tr>\n",
              "      <th>27</th>\n",
              "      <td>00922df3be5a4589ab385d0c2da2dd81</td>\n",
              "      <td>2017-01-06 15:00:27</td>\n",
              "      <td>8.611111</td>\n",
              "      <td>2017-01-06 15:00:27</td>\n",
              "      <td>12.236111</td>\n",
              "      <td>2017-01-06 15:00:26</td>\n",
              "      <td>-3.625000</td>\n",
              "    </tr>\n",
              "    <tr>\n",
              "      <th>28</th>\n",
              "      <td>00922df3be5a4589ab385d0c2da2dd81</td>\n",
              "      <td>2017-01-06 15:00:28</td>\n",
              "      <td>17.647222</td>\n",
              "      <td>2017-01-06 15:00:28</td>\n",
              "      <td>8.611111</td>\n",
              "      <td>2017-01-06 15:00:27</td>\n",
              "      <td>9.036111</td>\n",
              "    </tr>\n",
              "    <tr>\n",
              "      <th>29</th>\n",
              "      <td>00922df3be5a4589ab385d0c2da2dd81</td>\n",
              "      <td>2017-01-06 15:00:29</td>\n",
              "      <td>15.505556</td>\n",
              "      <td>2017-01-06 15:00:29</td>\n",
              "      <td>17.647222</td>\n",
              "      <td>2017-01-06 15:00:28</td>\n",
              "      <td>-2.141667</td>\n",
              "    </tr>\n",
              "    <tr>\n",
              "      <th>30</th>\n",
              "      <td>00922df3be5a4589ab385d0c2da2dd81</td>\n",
              "      <td>2017-01-06 15:00:30</td>\n",
              "      <td>13.883333</td>\n",
              "      <td>2017-01-06 15:00:30</td>\n",
              "      <td>15.505556</td>\n",
              "      <td>2017-01-06 15:00:29</td>\n",
              "      <td>-1.622222</td>\n",
              "    </tr>\n",
              "    <tr>\n",
              "      <th>...</th>\n",
              "      <td>...</td>\n",
              "      <td>...</td>\n",
              "      <td>...</td>\n",
              "      <td>...</td>\n",
              "      <td>...</td>\n",
              "      <td>...</td>\n",
              "      <td>...</td>\n",
              "    </tr>\n",
              "    <tr>\n",
              "      <th>9217498</th>\n",
              "      <td>ffe2c04ae0de450cae6f41c7e2fbd86d</td>\n",
              "      <td>2017-01-21 04:05:09</td>\n",
              "      <td>14.277778</td>\n",
              "      <td>2017-01-21 04:05:09</td>\n",
              "      <td>13.272222</td>\n",
              "      <td>2017-01-21 04:05:08</td>\n",
              "      <td>1.005556</td>\n",
              "    </tr>\n",
              "    <tr>\n",
              "      <th>9217499</th>\n",
              "      <td>ffe2c04ae0de450cae6f41c7e2fbd86d</td>\n",
              "      <td>2017-01-21 04:05:10</td>\n",
              "      <td>16.069444</td>\n",
              "      <td>2017-01-21 04:05:10</td>\n",
              "      <td>14.277778</td>\n",
              "      <td>2017-01-21 04:05:09</td>\n",
              "      <td>1.791667</td>\n",
              "    </tr>\n",
              "    <tr>\n",
              "      <th>9217500</th>\n",
              "      <td>ffe2c04ae0de450cae6f41c7e2fbd86d</td>\n",
              "      <td>2017-01-21 04:05:11</td>\n",
              "      <td>16.586111</td>\n",
              "      <td>2017-01-21 04:05:11</td>\n",
              "      <td>16.069444</td>\n",
              "      <td>2017-01-21 04:05:10</td>\n",
              "      <td>0.516667</td>\n",
              "    </tr>\n",
              "    <tr>\n",
              "      <th>9217501</th>\n",
              "      <td>ffe2c04ae0de450cae6f41c7e2fbd86d</td>\n",
              "      <td>2017-01-21 04:05:12</td>\n",
              "      <td>19.886111</td>\n",
              "      <td>2017-01-21 04:05:12</td>\n",
              "      <td>16.586111</td>\n",
              "      <td>2017-01-21 04:05:11</td>\n",
              "      <td>3.300000</td>\n",
              "    </tr>\n",
              "    <tr>\n",
              "      <th>9217502</th>\n",
              "      <td>ffe2c04ae0de450cae6f41c7e2fbd86d</td>\n",
              "      <td>2017-01-21 04:05:13</td>\n",
              "      <td>15.150000</td>\n",
              "      <td>2017-01-21 04:05:13</td>\n",
              "      <td>19.886111</td>\n",
              "      <td>2017-01-21 04:05:12</td>\n",
              "      <td>-4.736111</td>\n",
              "    </tr>\n",
              "    <tr>\n",
              "      <th>9217503</th>\n",
              "      <td>ffe2c04ae0de450cae6f41c7e2fbd86d</td>\n",
              "      <td>2017-01-21 04:05:14</td>\n",
              "      <td>14.430556</td>\n",
              "      <td>2017-01-21 04:05:14</td>\n",
              "      <td>15.150000</td>\n",
              "      <td>2017-01-21 04:05:13</td>\n",
              "      <td>-0.719444</td>\n",
              "    </tr>\n",
              "    <tr>\n",
              "      <th>9217504</th>\n",
              "      <td>ffe2c04ae0de450cae6f41c7e2fbd86d</td>\n",
              "      <td>2017-01-21 04:05:15</td>\n",
              "      <td>16.902778</td>\n",
              "      <td>2017-01-21 04:05:15</td>\n",
              "      <td>14.430556</td>\n",
              "      <td>2017-01-21 04:05:14</td>\n",
              "      <td>2.472222</td>\n",
              "    </tr>\n",
              "    <tr>\n",
              "      <th>9217505</th>\n",
              "      <td>ffe2c04ae0de450cae6f41c7e2fbd86d</td>\n",
              "      <td>2017-01-21 04:05:16</td>\n",
              "      <td>14.419444</td>\n",
              "      <td>2017-01-21 04:05:16</td>\n",
              "      <td>16.902778</td>\n",
              "      <td>2017-01-21 04:05:15</td>\n",
              "      <td>-2.483333</td>\n",
              "    </tr>\n",
              "    <tr>\n",
              "      <th>9217506</th>\n",
              "      <td>ffe2c04ae0de450cae6f41c7e2fbd86d</td>\n",
              "      <td>2017-01-21 04:05:17</td>\n",
              "      <td>12.875000</td>\n",
              "      <td>2017-01-21 04:05:17</td>\n",
              "      <td>14.419444</td>\n",
              "      <td>2017-01-21 04:05:16</td>\n",
              "      <td>-1.544444</td>\n",
              "    </tr>\n",
              "    <tr>\n",
              "      <th>9217507</th>\n",
              "      <td>ffe2c04ae0de450cae6f41c7e2fbd86d</td>\n",
              "      <td>2017-01-21 04:05:18</td>\n",
              "      <td>13.894444</td>\n",
              "      <td>2017-01-21 04:05:18</td>\n",
              "      <td>12.875000</td>\n",
              "      <td>2017-01-21 04:05:17</td>\n",
              "      <td>1.019444</td>\n",
              "    </tr>\n",
              "    <tr>\n",
              "      <th>9217508</th>\n",
              "      <td>ffe2c04ae0de450cae6f41c7e2fbd86d</td>\n",
              "      <td>2017-01-21 04:05:19</td>\n",
              "      <td>15.883333</td>\n",
              "      <td>2017-01-21 04:05:19</td>\n",
              "      <td>13.894444</td>\n",
              "      <td>2017-01-21 04:05:18</td>\n",
              "      <td>1.988889</td>\n",
              "    </tr>\n",
              "    <tr>\n",
              "      <th>9217509</th>\n",
              "      <td>ffe2c04ae0de450cae6f41c7e2fbd86d</td>\n",
              "      <td>2017-01-21 04:05:20</td>\n",
              "      <td>15.863889</td>\n",
              "      <td>2017-01-21 04:05:20</td>\n",
              "      <td>15.883333</td>\n",
              "      <td>2017-01-21 04:05:19</td>\n",
              "      <td>-0.019444</td>\n",
              "    </tr>\n",
              "    <tr>\n",
              "      <th>9217510</th>\n",
              "      <td>ffe2c04ae0de450cae6f41c7e2fbd86d</td>\n",
              "      <td>2017-01-21 04:05:21</td>\n",
              "      <td>17.375000</td>\n",
              "      <td>2017-01-21 04:05:21</td>\n",
              "      <td>15.863889</td>\n",
              "      <td>2017-01-21 04:05:20</td>\n",
              "      <td>1.511111</td>\n",
              "    </tr>\n",
              "    <tr>\n",
              "      <th>9217511</th>\n",
              "      <td>ffe2c04ae0de450cae6f41c7e2fbd86d</td>\n",
              "      <td>2017-01-21 04:05:22</td>\n",
              "      <td>15.250000</td>\n",
              "      <td>2017-01-21 04:05:22</td>\n",
              "      <td>17.375000</td>\n",
              "      <td>2017-01-21 04:05:21</td>\n",
              "      <td>-2.125000</td>\n",
              "    </tr>\n",
              "    <tr>\n",
              "      <th>9217512</th>\n",
              "      <td>ffe2c04ae0de450cae6f41c7e2fbd86d</td>\n",
              "      <td>2017-01-21 04:05:23</td>\n",
              "      <td>17.972222</td>\n",
              "      <td>2017-01-21 04:05:23</td>\n",
              "      <td>15.250000</td>\n",
              "      <td>2017-01-21 04:05:22</td>\n",
              "      <td>2.722222</td>\n",
              "    </tr>\n",
              "    <tr>\n",
              "      <th>9217513</th>\n",
              "      <td>ffe2c04ae0de450cae6f41c7e2fbd86d</td>\n",
              "      <td>2017-01-21 04:05:24</td>\n",
              "      <td>16.161111</td>\n",
              "      <td>2017-01-21 04:05:24</td>\n",
              "      <td>17.972222</td>\n",
              "      <td>2017-01-21 04:05:23</td>\n",
              "      <td>-1.811111</td>\n",
              "    </tr>\n",
              "    <tr>\n",
              "      <th>9217514</th>\n",
              "      <td>ffe2c04ae0de450cae6f41c7e2fbd86d</td>\n",
              "      <td>2017-01-21 04:05:25</td>\n",
              "      <td>15.086111</td>\n",
              "      <td>2017-01-21 04:05:25</td>\n",
              "      <td>16.161111</td>\n",
              "      <td>2017-01-21 04:05:24</td>\n",
              "      <td>-1.075000</td>\n",
              "    </tr>\n",
              "    <tr>\n",
              "      <th>9217515</th>\n",
              "      <td>ffe2c04ae0de450cae6f41c7e2fbd86d</td>\n",
              "      <td>2017-01-21 04:05:26</td>\n",
              "      <td>15.483333</td>\n",
              "      <td>2017-01-21 04:05:26</td>\n",
              "      <td>15.086111</td>\n",
              "      <td>2017-01-21 04:05:25</td>\n",
              "      <td>0.397222</td>\n",
              "    </tr>\n",
              "    <tr>\n",
              "      <th>9217516</th>\n",
              "      <td>ffe2c04ae0de450cae6f41c7e2fbd86d</td>\n",
              "      <td>2017-01-21 04:05:27</td>\n",
              "      <td>16.727778</td>\n",
              "      <td>2017-01-21 04:05:27</td>\n",
              "      <td>15.483333</td>\n",
              "      <td>2017-01-21 04:05:26</td>\n",
              "      <td>1.244444</td>\n",
              "    </tr>\n",
              "    <tr>\n",
              "      <th>9217517</th>\n",
              "      <td>ffe2c04ae0de450cae6f41c7e2fbd86d</td>\n",
              "      <td>2017-01-21 04:05:28</td>\n",
              "      <td>16.491667</td>\n",
              "      <td>2017-01-21 04:05:28</td>\n",
              "      <td>16.727778</td>\n",
              "      <td>2017-01-21 04:05:27</td>\n",
              "      <td>-0.236111</td>\n",
              "    </tr>\n",
              "    <tr>\n",
              "      <th>9217518</th>\n",
              "      <td>ffe2c04ae0de450cae6f41c7e2fbd86d</td>\n",
              "      <td>2017-01-21 04:05:29</td>\n",
              "      <td>20.650000</td>\n",
              "      <td>2017-01-21 04:05:29</td>\n",
              "      <td>16.491667</td>\n",
              "      <td>2017-01-21 04:05:28</td>\n",
              "      <td>4.158333</td>\n",
              "    </tr>\n",
              "    <tr>\n",
              "      <th>9217519</th>\n",
              "      <td>ffe2c04ae0de450cae6f41c7e2fbd86d</td>\n",
              "      <td>2017-01-21 04:05:30</td>\n",
              "      <td>14.716667</td>\n",
              "      <td>2017-01-21 04:05:30</td>\n",
              "      <td>20.650000</td>\n",
              "      <td>2017-01-21 04:05:29</td>\n",
              "      <td>-5.933333</td>\n",
              "    </tr>\n",
              "    <tr>\n",
              "      <th>9217520</th>\n",
              "      <td>ffe2c04ae0de450cae6f41c7e2fbd86d</td>\n",
              "      <td>2017-01-21 04:05:31</td>\n",
              "      <td>14.905556</td>\n",
              "      <td>2017-01-21 04:05:31</td>\n",
              "      <td>14.716667</td>\n",
              "      <td>2017-01-21 04:05:30</td>\n",
              "      <td>0.188889</td>\n",
              "    </tr>\n",
              "    <tr>\n",
              "      <th>9217521</th>\n",
              "      <td>ffe2c04ae0de450cae6f41c7e2fbd86d</td>\n",
              "      <td>2017-01-21 04:05:32</td>\n",
              "      <td>17.858333</td>\n",
              "      <td>2017-01-21 04:05:32</td>\n",
              "      <td>14.905556</td>\n",
              "      <td>2017-01-21 04:05:31</td>\n",
              "      <td>2.952778</td>\n",
              "    </tr>\n",
              "    <tr>\n",
              "      <th>9217522</th>\n",
              "      <td>ffe2c04ae0de450cae6f41c7e2fbd86d</td>\n",
              "      <td>2017-01-21 04:05:33</td>\n",
              "      <td>13.608333</td>\n",
              "      <td>2017-01-21 04:05:33</td>\n",
              "      <td>17.858333</td>\n",
              "      <td>2017-01-21 04:05:32</td>\n",
              "      <td>-4.250000</td>\n",
              "    </tr>\n",
              "    <tr>\n",
              "      <th>9217523</th>\n",
              "      <td>ffe2c04ae0de450cae6f41c7e2fbd86d</td>\n",
              "      <td>2017-01-21 04:05:34</td>\n",
              "      <td>16.405556</td>\n",
              "      <td>2017-01-21 04:05:34</td>\n",
              "      <td>13.608333</td>\n",
              "      <td>2017-01-21 04:05:33</td>\n",
              "      <td>2.797222</td>\n",
              "    </tr>\n",
              "    <tr>\n",
              "      <th>9217524</th>\n",
              "      <td>ffe2c04ae0de450cae6f41c7e2fbd86d</td>\n",
              "      <td>2017-01-21 04:05:35</td>\n",
              "      <td>16.400000</td>\n",
              "      <td>2017-01-21 04:05:35</td>\n",
              "      <td>16.405556</td>\n",
              "      <td>2017-01-21 04:05:34</td>\n",
              "      <td>-0.005556</td>\n",
              "    </tr>\n",
              "    <tr>\n",
              "      <th>9217525</th>\n",
              "      <td>ffe2c04ae0de450cae6f41c7e2fbd86d</td>\n",
              "      <td>2017-01-21 04:05:36</td>\n",
              "      <td>15.230556</td>\n",
              "      <td>2017-01-21 04:05:36</td>\n",
              "      <td>16.400000</td>\n",
              "      <td>2017-01-21 04:05:35</td>\n",
              "      <td>-1.169444</td>\n",
              "    </tr>\n",
              "    <tr>\n",
              "      <th>9217526</th>\n",
              "      <td>ffe2c04ae0de450cae6f41c7e2fbd86d</td>\n",
              "      <td>2017-01-21 04:05:37</td>\n",
              "      <td>5.555556</td>\n",
              "      <td>2017-01-21 04:05:37</td>\n",
              "      <td>15.230556</td>\n",
              "      <td>2017-01-21 04:05:36</td>\n",
              "      <td>-9.675000</td>\n",
              "    </tr>\n",
              "    <tr>\n",
              "      <th>9217527</th>\n",
              "      <td>ffe2c04ae0de450cae6f41c7e2fbd86d</td>\n",
              "      <td>2017-01-21 04:05:38</td>\n",
              "      <td>0.000000</td>\n",
              "      <td>2017-01-21 04:05:38</td>\n",
              "      <td>5.555556</td>\n",
              "      <td>2017-01-21 04:05:37</td>\n",
              "      <td>-5.555556</td>\n",
              "    </tr>\n",
              "  </tbody>\n",
              "</table>\n",
              "<p>9215820 rows × 7 columns</p>\n",
              "</div>"
            ],
            "text/plain": [
              "                                  trip_id  ... velocity_diff\n",
              "1        00922df3be5a4589ab385d0c2da2dd81  ...     17.044444\n",
              "2        00922df3be5a4589ab385d0c2da2dd81  ...     -3.850000\n",
              "3        00922df3be5a4589ab385d0c2da2dd81  ...      0.216667\n",
              "4        00922df3be5a4589ab385d0c2da2dd81  ...     -0.050000\n",
              "5        00922df3be5a4589ab385d0c2da2dd81  ...      1.444444\n",
              "6        00922df3be5a4589ab385d0c2da2dd81  ...     -0.352778\n",
              "7        00922df3be5a4589ab385d0c2da2dd81  ...      0.325000\n",
              "8        00922df3be5a4589ab385d0c2da2dd81  ...     -1.472222\n",
              "9        00922df3be5a4589ab385d0c2da2dd81  ...      0.397222\n",
              "10       00922df3be5a4589ab385d0c2da2dd81  ...      2.430556\n",
              "11       00922df3be5a4589ab385d0c2da2dd81  ...     -1.813889\n",
              "12       00922df3be5a4589ab385d0c2da2dd81  ...      1.516667\n",
              "13       00922df3be5a4589ab385d0c2da2dd81  ...      2.200000\n",
              "14       00922df3be5a4589ab385d0c2da2dd81  ...     -0.677778\n",
              "15       00922df3be5a4589ab385d0c2da2dd81  ...     -2.816667\n",
              "16       00922df3be5a4589ab385d0c2da2dd81  ...      0.394444\n",
              "17       00922df3be5a4589ab385d0c2da2dd81  ...      1.430556\n",
              "18       00922df3be5a4589ab385d0c2da2dd81  ...     -4.305556\n",
              "19       00922df3be5a4589ab385d0c2da2dd81  ...      8.486111\n",
              "20       00922df3be5a4589ab385d0c2da2dd81  ...     -1.788889\n",
              "21       00922df3be5a4589ab385d0c2da2dd81  ...     -4.191667\n",
              "22       00922df3be5a4589ab385d0c2da2dd81  ...      0.280556\n",
              "23       00922df3be5a4589ab385d0c2da2dd81  ...      2.005556\n",
              "24       00922df3be5a4589ab385d0c2da2dd81  ...      0.036111\n",
              "25       00922df3be5a4589ab385d0c2da2dd81  ...      8.680556\n",
              "26       00922df3be5a4589ab385d0c2da2dd81  ...    -13.333333\n",
              "27       00922df3be5a4589ab385d0c2da2dd81  ...     -3.625000\n",
              "28       00922df3be5a4589ab385d0c2da2dd81  ...      9.036111\n",
              "29       00922df3be5a4589ab385d0c2da2dd81  ...     -2.141667\n",
              "30       00922df3be5a4589ab385d0c2da2dd81  ...     -1.622222\n",
              "...                                   ...  ...           ...\n",
              "9217498  ffe2c04ae0de450cae6f41c7e2fbd86d  ...      1.005556\n",
              "9217499  ffe2c04ae0de450cae6f41c7e2fbd86d  ...      1.791667\n",
              "9217500  ffe2c04ae0de450cae6f41c7e2fbd86d  ...      0.516667\n",
              "9217501  ffe2c04ae0de450cae6f41c7e2fbd86d  ...      3.300000\n",
              "9217502  ffe2c04ae0de450cae6f41c7e2fbd86d  ...     -4.736111\n",
              "9217503  ffe2c04ae0de450cae6f41c7e2fbd86d  ...     -0.719444\n",
              "9217504  ffe2c04ae0de450cae6f41c7e2fbd86d  ...      2.472222\n",
              "9217505  ffe2c04ae0de450cae6f41c7e2fbd86d  ...     -2.483333\n",
              "9217506  ffe2c04ae0de450cae6f41c7e2fbd86d  ...     -1.544444\n",
              "9217507  ffe2c04ae0de450cae6f41c7e2fbd86d  ...      1.019444\n",
              "9217508  ffe2c04ae0de450cae6f41c7e2fbd86d  ...      1.988889\n",
              "9217509  ffe2c04ae0de450cae6f41c7e2fbd86d  ...     -0.019444\n",
              "9217510  ffe2c04ae0de450cae6f41c7e2fbd86d  ...      1.511111\n",
              "9217511  ffe2c04ae0de450cae6f41c7e2fbd86d  ...     -2.125000\n",
              "9217512  ffe2c04ae0de450cae6f41c7e2fbd86d  ...      2.722222\n",
              "9217513  ffe2c04ae0de450cae6f41c7e2fbd86d  ...     -1.811111\n",
              "9217514  ffe2c04ae0de450cae6f41c7e2fbd86d  ...     -1.075000\n",
              "9217515  ffe2c04ae0de450cae6f41c7e2fbd86d  ...      0.397222\n",
              "9217516  ffe2c04ae0de450cae6f41c7e2fbd86d  ...      1.244444\n",
              "9217517  ffe2c04ae0de450cae6f41c7e2fbd86d  ...     -0.236111\n",
              "9217518  ffe2c04ae0de450cae6f41c7e2fbd86d  ...      4.158333\n",
              "9217519  ffe2c04ae0de450cae6f41c7e2fbd86d  ...     -5.933333\n",
              "9217520  ffe2c04ae0de450cae6f41c7e2fbd86d  ...      0.188889\n",
              "9217521  ffe2c04ae0de450cae6f41c7e2fbd86d  ...      2.952778\n",
              "9217522  ffe2c04ae0de450cae6f41c7e2fbd86d  ...     -4.250000\n",
              "9217523  ffe2c04ae0de450cae6f41c7e2fbd86d  ...      2.797222\n",
              "9217524  ffe2c04ae0de450cae6f41c7e2fbd86d  ...     -0.005556\n",
              "9217525  ffe2c04ae0de450cae6f41c7e2fbd86d  ...     -1.169444\n",
              "9217526  ffe2c04ae0de450cae6f41c7e2fbd86d  ...     -9.675000\n",
              "9217527  ffe2c04ae0de450cae6f41c7e2fbd86d  ...     -5.555556\n",
              "\n",
              "[9215820 rows x 7 columns]"
            ]
          },
          "metadata": {
            "tags": []
          },
          "execution_count": 42
        }
      ]
    },
    {
      "cell_type": "code",
      "metadata": {
        "id": "8QY2BDlRwG-Y",
        "colab_type": "code",
        "colab": {}
      },
      "source": [
        "from datetime import datetime, time\n",
        "def convert_datetime(x): \n",
        "  return datetime.strptime(str(x),'%Y-%m-%d %H:%M:%S')  "
      ],
      "execution_count": 0,
      "outputs": []
    },
    {
      "cell_type": "code",
      "metadata": {
        "id": "kFmPpVe8vels",
        "colab_type": "code",
        "colab": {}
      },
      "source": [
        "drive_df_trips['time_diff'] =  drive_df_trips['datetime'].apply(lambda x :convert_datetime(x)) - drive_df_trips['lag_datetime'].apply(lambda x: convert_datetime(x)) "
      ],
      "execution_count": 0,
      "outputs": []
    },
    {
      "cell_type": "code",
      "metadata": {
        "id": "JLPo7d0-1IuI",
        "colab_type": "code",
        "colab": {
          "base_uri": "https://localhost:8080/",
          "height": 173
        },
        "outputId": "6f7c7cf9-1d03-4544-926b-de1cf9e8e4c1"
      },
      "source": [
        "drive_df_trips.dtypes"
      ],
      "execution_count": 45,
      "outputs": [
        {
          "output_type": "execute_result",
          "data": {
            "text/plain": [
              "trip_id                   object\n",
              "datetime                  object\n",
              "velocity                 float64\n",
              "datetime_1                object\n",
              "lag_velocity             float64\n",
              "lag_datetime              object\n",
              "velocity_diff            float64\n",
              "time_diff        timedelta64[ns]\n",
              "dtype: object"
            ]
          },
          "metadata": {
            "tags": []
          },
          "execution_count": 45
        }
      ]
    },
    {
      "cell_type": "code",
      "metadata": {
        "id": "pOYOVJEQhFOh",
        "colab_type": "code",
        "colab": {
          "base_uri": "https://localhost:8080/",
          "height": 395
        },
        "outputId": "bd90363e-7625-49e7-e1a6-4a3076a77d82"
      },
      "source": [
        "drive_df_trips.head(5)"
      ],
      "execution_count": 46,
      "outputs": [
        {
          "output_type": "execute_result",
          "data": {
            "text/html": [
              "<div>\n",
              "<style scoped>\n",
              "    .dataframe tbody tr th:only-of-type {\n",
              "        vertical-align: middle;\n",
              "    }\n",
              "\n",
              "    .dataframe tbody tr th {\n",
              "        vertical-align: top;\n",
              "    }\n",
              "\n",
              "    .dataframe thead th {\n",
              "        text-align: right;\n",
              "    }\n",
              "</style>\n",
              "<table border=\"1\" class=\"dataframe\">\n",
              "  <thead>\n",
              "    <tr style=\"text-align: right;\">\n",
              "      <th></th>\n",
              "      <th>trip_id</th>\n",
              "      <th>datetime</th>\n",
              "      <th>velocity</th>\n",
              "      <th>datetime_1</th>\n",
              "      <th>lag_velocity</th>\n",
              "      <th>lag_datetime</th>\n",
              "      <th>velocity_diff</th>\n",
              "      <th>time_diff</th>\n",
              "    </tr>\n",
              "  </thead>\n",
              "  <tbody>\n",
              "    <tr>\n",
              "      <th>1</th>\n",
              "      <td>00922df3be5a4589ab385d0c2da2dd81</td>\n",
              "      <td>2017-01-06 15:00:01</td>\n",
              "      <td>17.044444</td>\n",
              "      <td>2017-01-06 15:00:01</td>\n",
              "      <td>0.000000</td>\n",
              "      <td>2017-01-06 15:00:00</td>\n",
              "      <td>17.044444</td>\n",
              "      <td>00:00:01</td>\n",
              "    </tr>\n",
              "    <tr>\n",
              "      <th>2</th>\n",
              "      <td>00922df3be5a4589ab385d0c2da2dd81</td>\n",
              "      <td>2017-01-06 15:00:02</td>\n",
              "      <td>13.194444</td>\n",
              "      <td>2017-01-06 15:00:02</td>\n",
              "      <td>17.044444</td>\n",
              "      <td>2017-01-06 15:00:01</td>\n",
              "      <td>-3.850000</td>\n",
              "      <td>00:00:01</td>\n",
              "    </tr>\n",
              "    <tr>\n",
              "      <th>3</th>\n",
              "      <td>00922df3be5a4589ab385d0c2da2dd81</td>\n",
              "      <td>2017-01-06 15:00:03</td>\n",
              "      <td>13.411111</td>\n",
              "      <td>2017-01-06 15:00:03</td>\n",
              "      <td>13.194444</td>\n",
              "      <td>2017-01-06 15:00:02</td>\n",
              "      <td>0.216667</td>\n",
              "      <td>00:00:01</td>\n",
              "    </tr>\n",
              "    <tr>\n",
              "      <th>4</th>\n",
              "      <td>00922df3be5a4589ab385d0c2da2dd81</td>\n",
              "      <td>2017-01-06 15:00:04</td>\n",
              "      <td>13.361111</td>\n",
              "      <td>2017-01-06 15:00:04</td>\n",
              "      <td>13.411111</td>\n",
              "      <td>2017-01-06 15:00:03</td>\n",
              "      <td>-0.050000</td>\n",
              "      <td>00:00:01</td>\n",
              "    </tr>\n",
              "    <tr>\n",
              "      <th>5</th>\n",
              "      <td>00922df3be5a4589ab385d0c2da2dd81</td>\n",
              "      <td>2017-01-06 15:00:05</td>\n",
              "      <td>14.805556</td>\n",
              "      <td>2017-01-06 15:00:05</td>\n",
              "      <td>13.361111</td>\n",
              "      <td>2017-01-06 15:00:04</td>\n",
              "      <td>1.444444</td>\n",
              "      <td>00:00:01</td>\n",
              "    </tr>\n",
              "  </tbody>\n",
              "</table>\n",
              "</div>"
            ],
            "text/plain": [
              "                            trip_id  ... time_diff\n",
              "1  00922df3be5a4589ab385d0c2da2dd81  ...  00:00:01\n",
              "2  00922df3be5a4589ab385d0c2da2dd81  ...  00:00:01\n",
              "3  00922df3be5a4589ab385d0c2da2dd81  ...  00:00:01\n",
              "4  00922df3be5a4589ab385d0c2da2dd81  ...  00:00:01\n",
              "5  00922df3be5a4589ab385d0c2da2dd81  ...  00:00:01\n",
              "\n",
              "[5 rows x 8 columns]"
            ]
          },
          "metadata": {
            "tags": []
          },
          "execution_count": 46
        }
      ]
    },
    {
      "cell_type": "code",
      "metadata": {
        "id": "lI0XENs2FrrW",
        "colab_type": "code",
        "colab": {
          "base_uri": "https://localhost:8080/",
          "height": 35
        },
        "outputId": "81f3d178-05f3-4395-fa87-46ac2367325b"
      },
      "source": [
        "drive_df_trips[drive_df_trips['velocity'] == 0].shape"
      ],
      "execution_count": 47,
      "outputs": [
        {
          "output_type": "execute_result",
          "data": {
            "text/plain": [
              "(1708, 8)"
            ]
          },
          "metadata": {
            "tags": []
          },
          "execution_count": 47
        }
      ]
    },
    {
      "cell_type": "code",
      "metadata": {
        "id": "FhXR0qHXhWDj",
        "colab_type": "code",
        "colab": {}
      },
      "source": [
        "def convert_to_seconds(x):\n",
        "  return x.days * 24 * 3600 + x.seconds \n",
        "  "
      ],
      "execution_count": 0,
      "outputs": []
    },
    {
      "cell_type": "code",
      "metadata": {
        "id": "bztscNiUg8HP",
        "colab_type": "code",
        "colab": {}
      },
      "source": [
        "drive_df_trips['time_diff_secs'] = drive_df_trips['time_diff'].apply(lambda x:convert_to_seconds(x))"
      ],
      "execution_count": 0,
      "outputs": []
    },
    {
      "cell_type": "code",
      "metadata": {
        "id": "HAI_Uym_iKwX",
        "colab_type": "code",
        "colab": {
          "base_uri": "https://localhost:8080/",
          "height": 265
        },
        "outputId": "0d6cb521-85a6-40ee-c959-903363d07408"
      },
      "source": [
        "drive_df_trips.head(3)"
      ],
      "execution_count": 50,
      "outputs": [
        {
          "output_type": "execute_result",
          "data": {
            "text/html": [
              "<div>\n",
              "<style scoped>\n",
              "    .dataframe tbody tr th:only-of-type {\n",
              "        vertical-align: middle;\n",
              "    }\n",
              "\n",
              "    .dataframe tbody tr th {\n",
              "        vertical-align: top;\n",
              "    }\n",
              "\n",
              "    .dataframe thead th {\n",
              "        text-align: right;\n",
              "    }\n",
              "</style>\n",
              "<table border=\"1\" class=\"dataframe\">\n",
              "  <thead>\n",
              "    <tr style=\"text-align: right;\">\n",
              "      <th></th>\n",
              "      <th>trip_id</th>\n",
              "      <th>datetime</th>\n",
              "      <th>velocity</th>\n",
              "      <th>datetime_1</th>\n",
              "      <th>lag_velocity</th>\n",
              "      <th>lag_datetime</th>\n",
              "      <th>velocity_diff</th>\n",
              "      <th>time_diff</th>\n",
              "      <th>time_diff_secs</th>\n",
              "    </tr>\n",
              "  </thead>\n",
              "  <tbody>\n",
              "    <tr>\n",
              "      <th>1</th>\n",
              "      <td>00922df3be5a4589ab385d0c2da2dd81</td>\n",
              "      <td>2017-01-06 15:00:01</td>\n",
              "      <td>17.044444</td>\n",
              "      <td>2017-01-06 15:00:01</td>\n",
              "      <td>0.000000</td>\n",
              "      <td>2017-01-06 15:00:00</td>\n",
              "      <td>17.044444</td>\n",
              "      <td>00:00:01</td>\n",
              "      <td>1</td>\n",
              "    </tr>\n",
              "    <tr>\n",
              "      <th>2</th>\n",
              "      <td>00922df3be5a4589ab385d0c2da2dd81</td>\n",
              "      <td>2017-01-06 15:00:02</td>\n",
              "      <td>13.194444</td>\n",
              "      <td>2017-01-06 15:00:02</td>\n",
              "      <td>17.044444</td>\n",
              "      <td>2017-01-06 15:00:01</td>\n",
              "      <td>-3.850000</td>\n",
              "      <td>00:00:01</td>\n",
              "      <td>1</td>\n",
              "    </tr>\n",
              "    <tr>\n",
              "      <th>3</th>\n",
              "      <td>00922df3be5a4589ab385d0c2da2dd81</td>\n",
              "      <td>2017-01-06 15:00:03</td>\n",
              "      <td>13.411111</td>\n",
              "      <td>2017-01-06 15:00:03</td>\n",
              "      <td>13.194444</td>\n",
              "      <td>2017-01-06 15:00:02</td>\n",
              "      <td>0.216667</td>\n",
              "      <td>00:00:01</td>\n",
              "      <td>1</td>\n",
              "    </tr>\n",
              "  </tbody>\n",
              "</table>\n",
              "</div>"
            ],
            "text/plain": [
              "                            trip_id  ... time_diff_secs\n",
              "1  00922df3be5a4589ab385d0c2da2dd81  ...              1\n",
              "2  00922df3be5a4589ab385d0c2da2dd81  ...              1\n",
              "3  00922df3be5a4589ab385d0c2da2dd81  ...              1\n",
              "\n",
              "[3 rows x 9 columns]"
            ]
          },
          "metadata": {
            "tags": []
          },
          "execution_count": 50
        }
      ]
    },
    {
      "cell_type": "code",
      "metadata": {
        "id": "qMGPrbL--F0h",
        "colab_type": "code",
        "colab": {
          "base_uri": "https://localhost:8080/",
          "height": 35
        },
        "outputId": "34e54758-8704-4d62-e494-fa0d95fbf8d7"
      },
      "source": [
        "drive_df_trips[(drive_df_trips['time_diff_secs'] >= 2) & (drive_df_trips['time_diff_secs'] < 0)].shape"
      ],
      "execution_count": 51,
      "outputs": [
        {
          "output_type": "execute_result",
          "data": {
            "text/plain": [
              "(0, 9)"
            ]
          },
          "metadata": {
            "tags": []
          },
          "execution_count": 51
        }
      ]
    },
    {
      "cell_type": "code",
      "metadata": {
        "id": "3Q5ZN2WYBG7w",
        "colab_type": "code",
        "colab": {}
      },
      "source": [
        "drive_df_trips = drive_df_trips[(drive_df_trips['time_diff_secs'] < 2) & (drive_df_trips['time_diff_secs'] >= 0)]"
      ],
      "execution_count": 0,
      "outputs": []
    },
    {
      "cell_type": "code",
      "metadata": {
        "id": "ZGoVORH01xpI",
        "colab_type": "code",
        "colab": {
          "base_uri": "https://localhost:8080/",
          "height": 265
        },
        "outputId": "72121284-9f96-44ac-b7f1-62bfc739a76f"
      },
      "source": [
        "drive_df_trips.head(3)"
      ],
      "execution_count": 53,
      "outputs": [
        {
          "output_type": "execute_result",
          "data": {
            "text/html": [
              "<div>\n",
              "<style scoped>\n",
              "    .dataframe tbody tr th:only-of-type {\n",
              "        vertical-align: middle;\n",
              "    }\n",
              "\n",
              "    .dataframe tbody tr th {\n",
              "        vertical-align: top;\n",
              "    }\n",
              "\n",
              "    .dataframe thead th {\n",
              "        text-align: right;\n",
              "    }\n",
              "</style>\n",
              "<table border=\"1\" class=\"dataframe\">\n",
              "  <thead>\n",
              "    <tr style=\"text-align: right;\">\n",
              "      <th></th>\n",
              "      <th>trip_id</th>\n",
              "      <th>datetime</th>\n",
              "      <th>velocity</th>\n",
              "      <th>datetime_1</th>\n",
              "      <th>lag_velocity</th>\n",
              "      <th>lag_datetime</th>\n",
              "      <th>velocity_diff</th>\n",
              "      <th>time_diff</th>\n",
              "      <th>time_diff_secs</th>\n",
              "    </tr>\n",
              "  </thead>\n",
              "  <tbody>\n",
              "    <tr>\n",
              "      <th>1</th>\n",
              "      <td>00922df3be5a4589ab385d0c2da2dd81</td>\n",
              "      <td>2017-01-06 15:00:01</td>\n",
              "      <td>17.044444</td>\n",
              "      <td>2017-01-06 15:00:01</td>\n",
              "      <td>0.000000</td>\n",
              "      <td>2017-01-06 15:00:00</td>\n",
              "      <td>17.044444</td>\n",
              "      <td>00:00:01</td>\n",
              "      <td>1</td>\n",
              "    </tr>\n",
              "    <tr>\n",
              "      <th>2</th>\n",
              "      <td>00922df3be5a4589ab385d0c2da2dd81</td>\n",
              "      <td>2017-01-06 15:00:02</td>\n",
              "      <td>13.194444</td>\n",
              "      <td>2017-01-06 15:00:02</td>\n",
              "      <td>17.044444</td>\n",
              "      <td>2017-01-06 15:00:01</td>\n",
              "      <td>-3.850000</td>\n",
              "      <td>00:00:01</td>\n",
              "      <td>1</td>\n",
              "    </tr>\n",
              "    <tr>\n",
              "      <th>3</th>\n",
              "      <td>00922df3be5a4589ab385d0c2da2dd81</td>\n",
              "      <td>2017-01-06 15:00:03</td>\n",
              "      <td>13.411111</td>\n",
              "      <td>2017-01-06 15:00:03</td>\n",
              "      <td>13.194444</td>\n",
              "      <td>2017-01-06 15:00:02</td>\n",
              "      <td>0.216667</td>\n",
              "      <td>00:00:01</td>\n",
              "      <td>1</td>\n",
              "    </tr>\n",
              "  </tbody>\n",
              "</table>\n",
              "</div>"
            ],
            "text/plain": [
              "                            trip_id  ... time_diff_secs\n",
              "1  00922df3be5a4589ab385d0c2da2dd81  ...              1\n",
              "2  00922df3be5a4589ab385d0c2da2dd81  ...              1\n",
              "3  00922df3be5a4589ab385d0c2da2dd81  ...              1\n",
              "\n",
              "[3 rows x 9 columns]"
            ]
          },
          "metadata": {
            "tags": []
          },
          "execution_count": 53
        }
      ]
    },
    {
      "cell_type": "code",
      "metadata": {
        "id": "dwP3vK4R10zK",
        "colab_type": "code",
        "colab": {
          "base_uri": "https://localhost:8080/",
          "height": 173
        },
        "outputId": "28439db2-3937-42aa-cf6a-19e944bb024a"
      },
      "source": [
        "drive_df_trips['time_diff_secs'].describe()"
      ],
      "execution_count": 54,
      "outputs": [
        {
          "output_type": "execute_result",
          "data": {
            "text/plain": [
              "count    9215820.0\n",
              "mean           1.0\n",
              "std            0.0\n",
              "min            1.0\n",
              "25%            1.0\n",
              "50%            1.0\n",
              "75%            1.0\n",
              "max            1.0\n",
              "Name: time_diff_secs, dtype: float64"
            ]
          },
          "metadata": {
            "tags": []
          },
          "execution_count": 54
        }
      ]
    },
    {
      "cell_type": "code",
      "metadata": {
        "id": "0SvaJwof2BUm",
        "colab_type": "code",
        "colab": {}
      },
      "source": [
        "drive_df_trips['acceleration'] = drive_df_trips['velocity_diff'] / drive_df_trips['time_diff_secs']"
      ],
      "execution_count": 0,
      "outputs": []
    },
    {
      "cell_type": "code",
      "metadata": {
        "id": "_bg-DaP_9PV4",
        "colab_type": "code",
        "colab": {
          "base_uri": "https://localhost:8080/",
          "height": 265
        },
        "outputId": "61bc917a-b36d-487d-8f74-6d093623fee5"
      },
      "source": [
        "drive_df_trips.head(3)"
      ],
      "execution_count": 56,
      "outputs": [
        {
          "output_type": "execute_result",
          "data": {
            "text/html": [
              "<div>\n",
              "<style scoped>\n",
              "    .dataframe tbody tr th:only-of-type {\n",
              "        vertical-align: middle;\n",
              "    }\n",
              "\n",
              "    .dataframe tbody tr th {\n",
              "        vertical-align: top;\n",
              "    }\n",
              "\n",
              "    .dataframe thead th {\n",
              "        text-align: right;\n",
              "    }\n",
              "</style>\n",
              "<table border=\"1\" class=\"dataframe\">\n",
              "  <thead>\n",
              "    <tr style=\"text-align: right;\">\n",
              "      <th></th>\n",
              "      <th>trip_id</th>\n",
              "      <th>datetime</th>\n",
              "      <th>velocity</th>\n",
              "      <th>datetime_1</th>\n",
              "      <th>lag_velocity</th>\n",
              "      <th>lag_datetime</th>\n",
              "      <th>velocity_diff</th>\n",
              "      <th>time_diff</th>\n",
              "      <th>time_diff_secs</th>\n",
              "      <th>acceleration</th>\n",
              "    </tr>\n",
              "  </thead>\n",
              "  <tbody>\n",
              "    <tr>\n",
              "      <th>1</th>\n",
              "      <td>00922df3be5a4589ab385d0c2da2dd81</td>\n",
              "      <td>2017-01-06 15:00:01</td>\n",
              "      <td>17.044444</td>\n",
              "      <td>2017-01-06 15:00:01</td>\n",
              "      <td>0.000000</td>\n",
              "      <td>2017-01-06 15:00:00</td>\n",
              "      <td>17.044444</td>\n",
              "      <td>00:00:01</td>\n",
              "      <td>1</td>\n",
              "      <td>17.044444</td>\n",
              "    </tr>\n",
              "    <tr>\n",
              "      <th>2</th>\n",
              "      <td>00922df3be5a4589ab385d0c2da2dd81</td>\n",
              "      <td>2017-01-06 15:00:02</td>\n",
              "      <td>13.194444</td>\n",
              "      <td>2017-01-06 15:00:02</td>\n",
              "      <td>17.044444</td>\n",
              "      <td>2017-01-06 15:00:01</td>\n",
              "      <td>-3.850000</td>\n",
              "      <td>00:00:01</td>\n",
              "      <td>1</td>\n",
              "      <td>-3.850000</td>\n",
              "    </tr>\n",
              "    <tr>\n",
              "      <th>3</th>\n",
              "      <td>00922df3be5a4589ab385d0c2da2dd81</td>\n",
              "      <td>2017-01-06 15:00:03</td>\n",
              "      <td>13.411111</td>\n",
              "      <td>2017-01-06 15:00:03</td>\n",
              "      <td>13.194444</td>\n",
              "      <td>2017-01-06 15:00:02</td>\n",
              "      <td>0.216667</td>\n",
              "      <td>00:00:01</td>\n",
              "      <td>1</td>\n",
              "      <td>0.216667</td>\n",
              "    </tr>\n",
              "  </tbody>\n",
              "</table>\n",
              "</div>"
            ],
            "text/plain": [
              "                            trip_id  ... acceleration\n",
              "1  00922df3be5a4589ab385d0c2da2dd81  ...    17.044444\n",
              "2  00922df3be5a4589ab385d0c2da2dd81  ...    -3.850000\n",
              "3  00922df3be5a4589ab385d0c2da2dd81  ...     0.216667\n",
              "\n",
              "[3 rows x 10 columns]"
            ]
          },
          "metadata": {
            "tags": []
          },
          "execution_count": 56
        }
      ]
    },
    {
      "cell_type": "code",
      "metadata": {
        "id": "KcD-ra5Y5qiX",
        "colab_type": "code",
        "colab": {
          "base_uri": "https://localhost:8080/",
          "height": 208
        },
        "outputId": "aaa84132-8dfe-41d1-eb62-a2a3315b7f63"
      },
      "source": [
        "drive_df_trips.isnull().sum()"
      ],
      "execution_count": 57,
      "outputs": [
        {
          "output_type": "execute_result",
          "data": {
            "text/plain": [
              "trip_id           0\n",
              "datetime          0\n",
              "velocity          0\n",
              "datetime_1        0\n",
              "lag_velocity      0\n",
              "lag_datetime      0\n",
              "velocity_diff     0\n",
              "time_diff         0\n",
              "time_diff_secs    0\n",
              "acceleration      0\n",
              "dtype: int64"
            ]
          },
          "metadata": {
            "tags": []
          },
          "execution_count": 57
        }
      ]
    },
    {
      "cell_type": "code",
      "metadata": {
        "id": "iXNNjWHW9ag3",
        "colab_type": "code",
        "colab": {}
      },
      "source": [
        "#replace with NA 0\n",
        "drive_df_trips['acceleration'].fillna(0, inplace = True)"
      ],
      "execution_count": 0,
      "outputs": []
    },
    {
      "cell_type": "code",
      "metadata": {
        "id": "dFuLVwc1W4QW",
        "colab_type": "code",
        "colab": {}
      },
      "source": [
        "def convert_datetime_list(datetimelist): \n",
        "  return [datetime.datetime.strptime(str(x),'%Y-%m-%d %H:%M:%S') for x in datetimelist]  "
      ],
      "execution_count": 0,
      "outputs": []
    },
    {
      "cell_type": "code",
      "metadata": {
        "id": "fZNiGhReoMEE",
        "colab_type": "code",
        "colab": {}
      },
      "source": [
        "drive_df_trips = drive_df_trips.sort_values(['trip_id', 'datetime'], ascending=[True, True])"
      ],
      "execution_count": 0,
      "outputs": []
    },
    {
      "cell_type": "code",
      "metadata": {
        "id": "VDKkZZohlmS1",
        "colab_type": "code",
        "colab": {}
      },
      "source": [
        "drive_df_trips.drop(['velocity','lag_datetime', 'lag_velocity', 'velocity_diff', 'time_diff'],axis=1,inplace=True)"
      ],
      "execution_count": 0,
      "outputs": []
    },
    {
      "cell_type": "code",
      "metadata": {
        "id": "HvwyyBhEW8TM",
        "colab_type": "code",
        "colab": {}
      },
      "source": [
        "# Transform the data into lists for each of the columns with an unique index column as trip_id\n",
        "drive_df_trips_lst = drive_df_trips.groupby('trip_id').agg(pd.Series.tolist).reset_index()"
      ],
      "execution_count": 0,
      "outputs": []
    },
    {
      "cell_type": "code",
      "metadata": {
        "id": "isK7Pg5HXGmF",
        "colab_type": "code",
        "colab": {
          "base_uri": "https://localhost:8080/",
          "height": 214
        },
        "outputId": "28c73ce7-4b0e-4eba-b535-5df8fe0b0be3"
      },
      "source": [
        "drive_df_trips_lst.head(2)"
      ],
      "execution_count": 63,
      "outputs": [
        {
          "output_type": "execute_result",
          "data": {
            "text/html": [
              "<div>\n",
              "<style scoped>\n",
              "    .dataframe tbody tr th:only-of-type {\n",
              "        vertical-align: middle;\n",
              "    }\n",
              "\n",
              "    .dataframe tbody tr th {\n",
              "        vertical-align: top;\n",
              "    }\n",
              "\n",
              "    .dataframe thead th {\n",
              "        text-align: right;\n",
              "    }\n",
              "</style>\n",
              "<table border=\"1\" class=\"dataframe\">\n",
              "  <thead>\n",
              "    <tr style=\"text-align: right;\">\n",
              "      <th></th>\n",
              "      <th>trip_id</th>\n",
              "      <th>datetime</th>\n",
              "      <th>datetime_1</th>\n",
              "      <th>time_diff_secs</th>\n",
              "      <th>acceleration</th>\n",
              "    </tr>\n",
              "  </thead>\n",
              "  <tbody>\n",
              "    <tr>\n",
              "      <th>0</th>\n",
              "      <td>00922df3be5a4589ab385d0c2da2dd81</td>\n",
              "      <td>[2017-01-06 15:00:01, 2017-01-06 15:00:02, 201...</td>\n",
              "      <td>[2017-01-06 15:00:01, 2017-01-06 15:00:02, 201...</td>\n",
              "      <td>[1, 1, 1, 1, 1, 1, 1, 1, 1, 1, 1, 1, 1, 1, 1, ...</td>\n",
              "      <td>[17.044444444444444, -3.8499999999999996, 0.21...</td>\n",
              "    </tr>\n",
              "    <tr>\n",
              "      <th>1</th>\n",
              "      <td>00dc31fe55e24d14989c89de4b3b683b</td>\n",
              "      <td>[2017-01-20 17:00:01, 2017-01-20 17:00:02, 201...</td>\n",
              "      <td>[2017-01-20 17:00:01, 2017-01-20 17:00:02, 201...</td>\n",
              "      <td>[1, 1, 1, 1, 1, 1, 1, 1, 1, 1, 1, 1, 1, 1, 1, ...</td>\n",
              "      <td>[19.927777777777777, 2.052777777777777, -0.216...</td>\n",
              "    </tr>\n",
              "  </tbody>\n",
              "</table>\n",
              "</div>"
            ],
            "text/plain": [
              "                            trip_id  ...                                       acceleration\n",
              "0  00922df3be5a4589ab385d0c2da2dd81  ...  [17.044444444444444, -3.8499999999999996, 0.21...\n",
              "1  00dc31fe55e24d14989c89de4b3b683b  ...  [19.927777777777777, 2.052777777777777, -0.216...\n",
              "\n",
              "[2 rows x 5 columns]"
            ]
          },
          "metadata": {
            "tags": []
          },
          "execution_count": 63
        }
      ]
    },
    {
      "cell_type": "code",
      "metadata": {
        "id": "EI4ABr0jXInD",
        "colab_type": "code",
        "colab": {
          "base_uri": "https://localhost:8080/",
          "height": 35
        },
        "outputId": "52bdfcb9-2ce0-4034-b669-a38fb4c22002"
      },
      "source": [
        "drive_df_trips_lst.shape"
      ],
      "execution_count": 64,
      "outputs": [
        {
          "output_type": "execute_result",
          "data": {
            "text/plain": [
              "(1708, 5)"
            ]
          },
          "metadata": {
            "tags": []
          },
          "execution_count": 64
        }
      ]
    },
    {
      "cell_type": "markdown",
      "metadata": {
        "id": "ngtry72WXT72",
        "colab_type": "text"
      },
      "source": [
        "### Fields Preparation "
      ]
    },
    {
      "cell_type": "markdown",
      "metadata": {
        "id": "7IVctaESYAFn",
        "colab_type": "text"
      },
      "source": [
        "#### ft_cnt_vehicle_deaccel_val"
      ]
    },
    {
      "cell_type": "code",
      "metadata": {
        "id": "YcnyfY-lXOjK",
        "colab_type": "code",
        "colab": {}
      },
      "source": [
        "def get_ft_cnt_vehicle_deaccel_val(lst, datetimelist):  \n",
        "\n",
        "  datetimelist_updated = [datetime.strptime(str(x),'%Y-%m-%d %H:%M:%S') for x in datetimelist]\n",
        "\n",
        "  new_list = []  \n",
        "  count = 0\n",
        "  flag = 0\n",
        "  i = 0\n",
        "  nStartIndexPerBlock = 0\n",
        "  nEndIndexPerBlock   = 0\n",
        "  nDiffSumofTimes = 0\n",
        "  n = len(lst)\n",
        "\n",
        "  for i in range(0, len(lst)):\n",
        "    if (i+1 < len(lst)):  \n",
        "      if (lst[i] >= lst[i+1]):\n",
        "        if(flag != 1):\n",
        "          nStartIndexPerBlock = i\n",
        "        flag = 1\n",
        "        new_list.append(0)\n",
        "        continue\n",
        "      elif (lst[i] < lst[i+1]):       \n",
        "        if(flag == 1):\n",
        "          count = count+1\n",
        "          new_list.append(1)\n",
        "          nEndIndexPerBlock = i\n",
        "          nDiffSumofTimes = nDiffSumofTimes + int((datetimelist_updated[nEndIndexPerBlock] - datetimelist_updated[nStartIndexPerBlock]).total_seconds())\n",
        "          flag = 0\n",
        "        else:        \n",
        "          new_list.append(0)\n",
        "        continue\n",
        "  if(flag == 1):  \n",
        "    new_list.append(1)\n",
        "    count = count + 1\n",
        "\n",
        "    nDiffSumofTimes = nDiffSumofTimes + int((datetimelist_updated[n-1] - datetimelist_updated[nStartIndexPerBlock]).total_seconds())\n",
        "    final_seconds = nDiffSumofTimes \n",
        "  else:\n",
        "    new_list.append(0)\n",
        "  return count\n",
        "\t"
      ],
      "execution_count": 0,
      "outputs": []
    },
    {
      "cell_type": "code",
      "metadata": {
        "id": "ZSMFOxIYYOCb",
        "colab_type": "code",
        "colab": {}
      },
      "source": [
        "drive_df_trips_lst['ft_cnt_vehicle_deaccel_val']  = drive_df_trips_lst.apply(lambda row: get_ft_cnt_vehicle_deaccel_val(row['acceleration'], row['datetime']), axis=1)"
      ],
      "execution_count": 0,
      "outputs": []
    },
    {
      "cell_type": "code",
      "metadata": {
        "id": "7xw2MeVKYU4p",
        "colab_type": "code",
        "colab": {
          "base_uri": "https://localhost:8080/",
          "height": 338
        },
        "outputId": "2ca60816-d5f6-4b5b-82f7-67d6ce64fb01"
      },
      "source": [
        "drive_df_trips_lst.head(2)"
      ],
      "execution_count": 67,
      "outputs": [
        {
          "output_type": "execute_result",
          "data": {
            "text/html": [
              "<div>\n",
              "<style scoped>\n",
              "    .dataframe tbody tr th:only-of-type {\n",
              "        vertical-align: middle;\n",
              "    }\n",
              "\n",
              "    .dataframe tbody tr th {\n",
              "        vertical-align: top;\n",
              "    }\n",
              "\n",
              "    .dataframe thead th {\n",
              "        text-align: right;\n",
              "    }\n",
              "</style>\n",
              "<table border=\"1\" class=\"dataframe\">\n",
              "  <thead>\n",
              "    <tr style=\"text-align: right;\">\n",
              "      <th></th>\n",
              "      <th>trip_id</th>\n",
              "      <th>datetime</th>\n",
              "      <th>datetime_1</th>\n",
              "      <th>time_diff_secs</th>\n",
              "      <th>acceleration</th>\n",
              "      <th>ft_cnt_vehicle_deaccel_val</th>\n",
              "    </tr>\n",
              "  </thead>\n",
              "  <tbody>\n",
              "    <tr>\n",
              "      <th>0</th>\n",
              "      <td>00922df3be5a4589ab385d0c2da2dd81</td>\n",
              "      <td>[2017-01-06 15:00:01, 2017-01-06 15:00:02, 201...</td>\n",
              "      <td>[2017-01-06 15:00:01, 2017-01-06 15:00:02, 201...</td>\n",
              "      <td>[1, 1, 1, 1, 1, 1, 1, 1, 1, 1, 1, 1, 1, 1, 1, ...</td>\n",
              "      <td>[17.044444444444444, -3.8499999999999996, 0.21...</td>\n",
              "      <td>1084</td>\n",
              "    </tr>\n",
              "    <tr>\n",
              "      <th>1</th>\n",
              "      <td>00dc31fe55e24d14989c89de4b3b683b</td>\n",
              "      <td>[2017-01-20 17:00:01, 2017-01-20 17:00:02, 201...</td>\n",
              "      <td>[2017-01-20 17:00:01, 2017-01-20 17:00:02, 201...</td>\n",
              "      <td>[1, 1, 1, 1, 1, 1, 1, 1, 1, 1, 1, 1, 1, 1, 1, ...</td>\n",
              "      <td>[19.927777777777777, 2.052777777777777, -0.216...</td>\n",
              "      <td>1344</td>\n",
              "    </tr>\n",
              "  </tbody>\n",
              "</table>\n",
              "</div>"
            ],
            "text/plain": [
              "                            trip_id  ... ft_cnt_vehicle_deaccel_val\n",
              "0  00922df3be5a4589ab385d0c2da2dd81  ...                       1084\n",
              "1  00dc31fe55e24d14989c89de4b3b683b  ...                       1344\n",
              "\n",
              "[2 rows x 6 columns]"
            ]
          },
          "metadata": {
            "tags": []
          },
          "execution_count": 67
        }
      ]
    },
    {
      "cell_type": "markdown",
      "metadata": {
        "id": "MOYRgdDOaL4M",
        "colab_type": "text"
      },
      "source": [
        "#### ft_sum_hard_brakes_10_flg_val"
      ]
    },
    {
      "cell_type": "code",
      "metadata": {
        "id": "-rEywOPQZH2e",
        "colab_type": "code",
        "colab": {}
      },
      "source": [
        "def get_ft_sum_hard_brakes_10_flg_val(lst, datetimelist):  \n",
        "\n",
        "  datetimelist_updated = [datetime.strptime(x,'%Y-%m-%d %H:%M:%S') for x in datetimelist]\n",
        "\n",
        "  new_list = []  \n",
        "  count = 0\n",
        "  flag = 0\n",
        "  i = 0\n",
        "  nStartIndexPerBlock = 0\n",
        "  nEndIndexPerBlock   = 0\n",
        "  nDiffSumofTimes = 0\n",
        "\n",
        "  n = len(lst)\n",
        "  bValidBlock = False\n",
        "\n",
        "  for i in range(0, len(lst)):\n",
        "    if (i+1 < len(lst)):  \n",
        "      if (lst[i] >= lst[i+1]):\n",
        "        if(lst[i] > 0):\n",
        "          bValidBlock = True\n",
        "\n",
        "        if(flag != 1):\n",
        "          nStartIndexPerBlock = i\n",
        "        flag = 1\n",
        "        new_list.append(0)\n",
        "        continue\n",
        "      elif (lst[i] < lst[i+1]):       \n",
        "        if(flag == 1):\n",
        "          if(lst[i] <= -10 and bValidBlock == True):          \n",
        "            count = count+1\n",
        "            new_list.append(1)\n",
        "            nEndIndexPerBlock = i\n",
        "            nDiffSumofTimes = nDiffSumofTimes + int((datetimelist_updated[nEndIndexPerBlock] - datetimelist_updated[nStartIndexPerBlock]).total_seconds())\n",
        "            bValidBlock = False\n",
        "          elif(bValidBlock == True): \n",
        "            bValidBlock = False\n",
        "            new_list.append(0)\n",
        "          else:\n",
        "            new_list.append(0)\n",
        "            flag = 0          \n",
        "        else:\n",
        "          new_list.append(0)\n",
        "        continue\n",
        "  if(flag == 1 and lst[n-1] <= -10 and bValidBlock == True):  \n",
        "    new_list.append(1)\n",
        "    count = count + 1  \n",
        "    nDiffSumofTimes = nDiffSumofTimes + int((datetimelist_updated[n-1] - datetimelist_updated[nStartIndexPerBlock]).total_seconds())\n",
        "    final_seconds = nDiffSumofTimes\n",
        "  else:\n",
        "    new_list.append(0)\t\n",
        "  return count"
      ],
      "execution_count": 0,
      "outputs": []
    },
    {
      "cell_type": "code",
      "metadata": {
        "id": "doGr5IjTaoQ3",
        "colab_type": "code",
        "colab": {}
      },
      "source": [
        "drive_df_trips_lst['ft_sum_hard_brakes_10_flg_val']  = drive_df_trips_lst.apply(lambda row: get_ft_sum_hard_brakes_10_flg_val(row['acceleration'], row['datetime']), axis=1)"
      ],
      "execution_count": 0,
      "outputs": []
    },
    {
      "cell_type": "code",
      "metadata": {
        "id": "s0Zy5_iPbDk7",
        "colab_type": "code",
        "colab": {
          "base_uri": "https://localhost:8080/",
          "height": 338
        },
        "outputId": "cdeb7cbb-e874-4736-d8b6-47eed7918a76"
      },
      "source": [
        "drive_df_trips_lst.head(2)"
      ],
      "execution_count": 70,
      "outputs": [
        {
          "output_type": "execute_result",
          "data": {
            "text/html": [
              "<div>\n",
              "<style scoped>\n",
              "    .dataframe tbody tr th:only-of-type {\n",
              "        vertical-align: middle;\n",
              "    }\n",
              "\n",
              "    .dataframe tbody tr th {\n",
              "        vertical-align: top;\n",
              "    }\n",
              "\n",
              "    .dataframe thead th {\n",
              "        text-align: right;\n",
              "    }\n",
              "</style>\n",
              "<table border=\"1\" class=\"dataframe\">\n",
              "  <thead>\n",
              "    <tr style=\"text-align: right;\">\n",
              "      <th></th>\n",
              "      <th>trip_id</th>\n",
              "      <th>datetime</th>\n",
              "      <th>datetime_1</th>\n",
              "      <th>time_diff_secs</th>\n",
              "      <th>acceleration</th>\n",
              "      <th>ft_cnt_vehicle_deaccel_val</th>\n",
              "      <th>ft_sum_hard_brakes_10_flg_val</th>\n",
              "    </tr>\n",
              "  </thead>\n",
              "  <tbody>\n",
              "    <tr>\n",
              "      <th>0</th>\n",
              "      <td>00922df3be5a4589ab385d0c2da2dd81</td>\n",
              "      <td>[2017-01-06 15:00:01, 2017-01-06 15:00:02, 201...</td>\n",
              "      <td>[2017-01-06 15:00:01, 2017-01-06 15:00:02, 201...</td>\n",
              "      <td>[1, 1, 1, 1, 1, 1, 1, 1, 1, 1, 1, 1, 1, 1, 1, ...</td>\n",
              "      <td>[17.044444444444444, -3.8499999999999996, 0.21...</td>\n",
              "      <td>1084</td>\n",
              "      <td>15</td>\n",
              "    </tr>\n",
              "    <tr>\n",
              "      <th>1</th>\n",
              "      <td>00dc31fe55e24d14989c89de4b3b683b</td>\n",
              "      <td>[2017-01-20 17:00:01, 2017-01-20 17:00:02, 201...</td>\n",
              "      <td>[2017-01-20 17:00:01, 2017-01-20 17:00:02, 201...</td>\n",
              "      <td>[1, 1, 1, 1, 1, 1, 1, 1, 1, 1, 1, 1, 1, 1, 1, ...</td>\n",
              "      <td>[19.927777777777777, 2.052777777777777, -0.216...</td>\n",
              "      <td>1344</td>\n",
              "      <td>52</td>\n",
              "    </tr>\n",
              "  </tbody>\n",
              "</table>\n",
              "</div>"
            ],
            "text/plain": [
              "                            trip_id  ... ft_sum_hard_brakes_10_flg_val\n",
              "0  00922df3be5a4589ab385d0c2da2dd81  ...                            15\n",
              "1  00dc31fe55e24d14989c89de4b3b683b  ...                            52\n",
              "\n",
              "[2 rows x 7 columns]"
            ]
          },
          "metadata": {
            "tags": []
          },
          "execution_count": 70
        }
      ]
    },
    {
      "cell_type": "markdown",
      "metadata": {
        "id": "a58QlB4Vq8wn",
        "colab_type": "text"
      },
      "source": [
        "#### ft_sum_hard_brakes_3_flg_val"
      ]
    },
    {
      "cell_type": "code",
      "metadata": {
        "id": "Qa8bD6JCdKJz",
        "colab_type": "code",
        "colab": {}
      },
      "source": [
        "def get_ft_sum_hard_brakes_3_flg_val(lst, datetimelist):  \n",
        "\n",
        "  datetimelist_updated = [datetime.strptime(x,'%Y-%m-%d %H:%M:%S') for x in datetimelist]\n",
        "\n",
        "  new_list = []  \n",
        "  count = 0\n",
        "  flag = 0\n",
        "  i = 0\n",
        "  nStartIndexPerBlock = 0\n",
        "  nEndIndexPerBlock   = 0\n",
        "  nDiffSumofTimes = 0\n",
        "\n",
        "  n = len(lst)\n",
        "  bValidBlock = False\n",
        "\n",
        "  for i in range(0, len(lst)):\n",
        "    if (i+1 < len(lst)):  \n",
        "      if (lst[i] >= lst[i+1]):\n",
        "        if(lst[i] > 0):\n",
        "          bValidBlock = True\n",
        "\n",
        "        if(flag != 1):\n",
        "          nStartIndexPerBlock = i\n",
        "        flag = 1\n",
        "        new_list.append(0)\n",
        "        continue\n",
        "      elif (lst[i] < lst[i+1]):       \n",
        "        if(flag == 1):\n",
        "          if(lst[i] <= -3 and lst[i] >= -10 and bValidBlock == True):          \n",
        "            count = count+1\n",
        "            new_list.append(1)\n",
        "            nEndIndexPerBlock = i\n",
        "            nDiffSumofTimes = nDiffSumofTimes + int((datetimelist_updated[nEndIndexPerBlock] - datetimelist_updated[nStartIndexPerBlock]).total_seconds())\n",
        "            bValidBlock = False\n",
        "          elif(bValidBlock == True): \n",
        "            bValidBlock = False\n",
        "            new_list.append(0)\n",
        "          else:\n",
        "            new_list.append(0)\n",
        "            flag = 0          \n",
        "        else:\n",
        "          new_list.append(0)\n",
        "        continue\n",
        "  if(flag == 1 and lst[n-1] <= -3 and lst[n-1] > -10 and bValidBlock == True):  \n",
        "    new_list.append(1)\n",
        "    count = count + 1  \n",
        "    nDiffSumofTimes = nDiffSumofTimes + int((datetimelist_updated[n-1] - datetimelist_updated[nStartIndexPerBlock]).total_seconds())\n",
        "    final_seconds = nDiffSumofTimes\n",
        "  else:\n",
        "    new_list.append(0)\t\n",
        "  return count"
      ],
      "execution_count": 0,
      "outputs": []
    },
    {
      "cell_type": "code",
      "metadata": {
        "id": "CB-NSp-RruBP",
        "colab_type": "code",
        "colab": {}
      },
      "source": [
        "drive_df_trips_lst['ft_sum_hard_brakes_3_flg_val']  = drive_df_trips_lst.apply(lambda row: get_ft_sum_hard_brakes_3_flg_val(row['acceleration'], row['datetime']), axis=1)"
      ],
      "execution_count": 0,
      "outputs": []
    },
    {
      "cell_type": "code",
      "metadata": {
        "id": "O_fgfewyr8Kq",
        "colab_type": "code",
        "colab": {
          "base_uri": "https://localhost:8080/",
          "height": 338
        },
        "outputId": "44c63dbd-c00b-429b-8b9d-cb484c5b7416"
      },
      "source": [
        "drive_df_trips_lst.head(2)"
      ],
      "execution_count": 73,
      "outputs": [
        {
          "output_type": "execute_result",
          "data": {
            "text/html": [
              "<div>\n",
              "<style scoped>\n",
              "    .dataframe tbody tr th:only-of-type {\n",
              "        vertical-align: middle;\n",
              "    }\n",
              "\n",
              "    .dataframe tbody tr th {\n",
              "        vertical-align: top;\n",
              "    }\n",
              "\n",
              "    .dataframe thead th {\n",
              "        text-align: right;\n",
              "    }\n",
              "</style>\n",
              "<table border=\"1\" class=\"dataframe\">\n",
              "  <thead>\n",
              "    <tr style=\"text-align: right;\">\n",
              "      <th></th>\n",
              "      <th>trip_id</th>\n",
              "      <th>datetime</th>\n",
              "      <th>datetime_1</th>\n",
              "      <th>time_diff_secs</th>\n",
              "      <th>acceleration</th>\n",
              "      <th>ft_cnt_vehicle_deaccel_val</th>\n",
              "      <th>ft_sum_hard_brakes_10_flg_val</th>\n",
              "      <th>ft_sum_hard_brakes_3_flg_val</th>\n",
              "    </tr>\n",
              "  </thead>\n",
              "  <tbody>\n",
              "    <tr>\n",
              "      <th>0</th>\n",
              "      <td>00922df3be5a4589ab385d0c2da2dd81</td>\n",
              "      <td>[2017-01-06 15:00:01, 2017-01-06 15:00:02, 201...</td>\n",
              "      <td>[2017-01-06 15:00:01, 2017-01-06 15:00:02, 201...</td>\n",
              "      <td>[1, 1, 1, 1, 1, 1, 1, 1, 1, 1, 1, 1, 1, 1, 1, ...</td>\n",
              "      <td>[17.044444444444444, -3.8499999999999996, 0.21...</td>\n",
              "      <td>1084</td>\n",
              "      <td>15</td>\n",
              "      <td>521</td>\n",
              "    </tr>\n",
              "    <tr>\n",
              "      <th>1</th>\n",
              "      <td>00dc31fe55e24d14989c89de4b3b683b</td>\n",
              "      <td>[2017-01-20 17:00:01, 2017-01-20 17:00:02, 201...</td>\n",
              "      <td>[2017-01-20 17:00:01, 2017-01-20 17:00:02, 201...</td>\n",
              "      <td>[1, 1, 1, 1, 1, 1, 1, 1, 1, 1, 1, 1, 1, 1, 1, ...</td>\n",
              "      <td>[19.927777777777777, 2.052777777777777, -0.216...</td>\n",
              "      <td>1344</td>\n",
              "      <td>52</td>\n",
              "      <td>820</td>\n",
              "    </tr>\n",
              "  </tbody>\n",
              "</table>\n",
              "</div>"
            ],
            "text/plain": [
              "                            trip_id  ... ft_sum_hard_brakes_3_flg_val\n",
              "0  00922df3be5a4589ab385d0c2da2dd81  ...                          521\n",
              "1  00dc31fe55e24d14989c89de4b3b683b  ...                          820\n",
              "\n",
              "[2 rows x 8 columns]"
            ]
          },
          "metadata": {
            "tags": []
          },
          "execution_count": 73
        }
      ]
    },
    {
      "cell_type": "markdown",
      "metadata": {
        "id": "9SX1tiqHYdKR",
        "colab_type": "text"
      },
      "source": [
        "#### ft_sum_time_deaccel_val"
      ]
    },
    {
      "cell_type": "code",
      "metadata": {
        "id": "xNvRlp9fYcxL",
        "colab_type": "code",
        "colab": {}
      },
      "source": [
        "def get_ft_cnt_vehicle_deaccel_val_summ(lst, datetimelist):\n",
        "  \n",
        "  datetimelist_updated = [datetime.strptime(str(x),'%Y-%m-%d %H:%M:%S') for x in datetimelist]\n",
        "\n",
        "  new_list = []  \n",
        "  count = 0\n",
        "  flag = 0\n",
        "  i = 0\n",
        "  nStartIndexPerBlock = 0\n",
        "  nEndIndexPerBlock   = 0\n",
        "\n",
        "  nDiffSumofTimes = 0\n",
        "  \n",
        "\n",
        "  n = len(datetimelist)\n",
        "\n",
        "  for i in range(0, len(lst)):\n",
        "    if (i+1 < len(lst)):  \n",
        "      if (lst[i] >= lst[i+1]):\n",
        "        if(flag != 1):\n",
        "          nStartIndexPerBlock = i\n",
        "        flag = 1\n",
        "        new_list.append(0)\n",
        "        continue\n",
        "      elif (lst[i] < lst[i+1]):       \n",
        "        if(flag == 1):\n",
        "          count = count+1\n",
        "          new_list.append(1)\n",
        "          nEndIndexPerBlock = i\n",
        "          nDiffSumofTimes = nDiffSumofTimes + int((datetimelist_updated[nEndIndexPerBlock] - datetimelist_updated[nStartIndexPerBlock]).total_seconds())\n",
        "          flag = 0\n",
        "        else:        \n",
        "          new_list.append(0)\n",
        "        continue\n",
        "  if(flag == 1):  \n",
        "    new_list.append(1)\n",
        "    count = count + 1\n",
        "    nDiffSumofTimes = nDiffSumofTimes + int((datetimelist_updated[n-1] - datetimelist_updated[nStartIndexPerBlock]).total_seconds())\n",
        "    final_seconds = nDiffSumofTimes \n",
        "  else:\n",
        "    new_list.append(0)\n",
        "  return nDiffSumofTimes\n",
        "\t"
      ],
      "execution_count": 0,
      "outputs": []
    },
    {
      "cell_type": "code",
      "metadata": {
        "id": "c0Vg7ELyFNPD",
        "colab_type": "code",
        "colab": {}
      },
      "source": [
        "drive_df_trips_lst['ft_sum_time_deaccel_val']  = drive_df_trips_lst.apply(lambda row: get_ft_cnt_vehicle_deaccel_val_summ(row['acceleration'], row['datetime']), axis=1)"
      ],
      "execution_count": 0,
      "outputs": []
    },
    {
      "cell_type": "code",
      "metadata": {
        "id": "SMsZP4eyZEku",
        "colab_type": "code",
        "colab": {
          "base_uri": "https://localhost:8080/",
          "height": 338
        },
        "outputId": "d853c9ad-426b-435e-dafb-e18972acba6b"
      },
      "source": [
        "drive_df_trips_lst.head(2)"
      ],
      "execution_count": 76,
      "outputs": [
        {
          "output_type": "execute_result",
          "data": {
            "text/html": [
              "<div>\n",
              "<style scoped>\n",
              "    .dataframe tbody tr th:only-of-type {\n",
              "        vertical-align: middle;\n",
              "    }\n",
              "\n",
              "    .dataframe tbody tr th {\n",
              "        vertical-align: top;\n",
              "    }\n",
              "\n",
              "    .dataframe thead th {\n",
              "        text-align: right;\n",
              "    }\n",
              "</style>\n",
              "<table border=\"1\" class=\"dataframe\">\n",
              "  <thead>\n",
              "    <tr style=\"text-align: right;\">\n",
              "      <th></th>\n",
              "      <th>trip_id</th>\n",
              "      <th>datetime</th>\n",
              "      <th>datetime_1</th>\n",
              "      <th>time_diff_secs</th>\n",
              "      <th>acceleration</th>\n",
              "      <th>ft_cnt_vehicle_deaccel_val</th>\n",
              "      <th>ft_sum_hard_brakes_10_flg_val</th>\n",
              "      <th>ft_sum_hard_brakes_3_flg_val</th>\n",
              "      <th>ft_sum_time_deaccel_val</th>\n",
              "    </tr>\n",
              "  </thead>\n",
              "  <tbody>\n",
              "    <tr>\n",
              "      <th>0</th>\n",
              "      <td>00922df3be5a4589ab385d0c2da2dd81</td>\n",
              "      <td>[2017-01-06 15:00:01, 2017-01-06 15:00:02, 201...</td>\n",
              "      <td>[2017-01-06 15:00:01, 2017-01-06 15:00:02, 201...</td>\n",
              "      <td>[1, 1, 1, 1, 1, 1, 1, 1, 1, 1, 1, 1, 1, 1, 1, ...</td>\n",
              "      <td>[17.044444444444444, -3.8499999999999996, 0.21...</td>\n",
              "      <td>1084</td>\n",
              "      <td>15</td>\n",
              "      <td>521</td>\n",
              "      <td>1456</td>\n",
              "    </tr>\n",
              "    <tr>\n",
              "      <th>1</th>\n",
              "      <td>00dc31fe55e24d14989c89de4b3b683b</td>\n",
              "      <td>[2017-01-20 17:00:01, 2017-01-20 17:00:02, 201...</td>\n",
              "      <td>[2017-01-20 17:00:01, 2017-01-20 17:00:02, 201...</td>\n",
              "      <td>[1, 1, 1, 1, 1, 1, 1, 1, 1, 1, 1, 1, 1, 1, 1, ...</td>\n",
              "      <td>[19.927777777777777, 2.052777777777777, -0.216...</td>\n",
              "      <td>1344</td>\n",
              "      <td>52</td>\n",
              "      <td>820</td>\n",
              "      <td>1838</td>\n",
              "    </tr>\n",
              "  </tbody>\n",
              "</table>\n",
              "</div>"
            ],
            "text/plain": [
              "                            trip_id  ... ft_sum_time_deaccel_val\n",
              "0  00922df3be5a4589ab385d0c2da2dd81  ...                    1456\n",
              "1  00dc31fe55e24d14989c89de4b3b683b  ...                    1838\n",
              "\n",
              "[2 rows x 9 columns]"
            ]
          },
          "metadata": {
            "tags": []
          },
          "execution_count": 76
        }
      ]
    },
    {
      "cell_type": "markdown",
      "metadata": {
        "id": "txVs5_U9GOcK",
        "colab_type": "text"
      },
      "source": [
        "#### ft_cnt_vehicle_accel_val"
      ]
    },
    {
      "cell_type": "code",
      "metadata": {
        "id": "Ed0s3nSPGIM6",
        "colab_type": "code",
        "colab": {}
      },
      "source": [
        "def get_ft_cnt_vehicle_accel_val(lst, datetimelist):  \n",
        "\n",
        "  datetimelist_updated = [datetime.strptime(str(x),'%Y-%m-%d %H:%M:%S') for x in datetimelist]\n",
        "\n",
        "  new_list = []  \n",
        "  count = 0\n",
        "  flag = 0\n",
        "  i = 0\n",
        "  nStartIndexPerBlock = 0\n",
        "  nEndIndexPerBlock   = 0\n",
        "  nDiffSumofTimes = 0\n",
        "  n = len(lst)\n",
        "\n",
        "  for i in range(0, len(lst)):\n",
        "    if (i+1 < len(lst)):  \n",
        "      if (lst[i] >= lst[i+1]):\n",
        "        if(flag != 1):\n",
        "          nStartIndexPerBlock = i\n",
        "        flag = 1\n",
        "        new_list.append(0)\n",
        "        continue\n",
        "      elif (lst[i] < lst[i+1]):       \n",
        "        if(flag == 1):\n",
        "          count = count+1\n",
        "          new_list.append(1)\n",
        "          nEndIndexPerBlock = i\n",
        "          nDiffSumofTimes = nDiffSumofTimes + int((datetimelist_updated[nEndIndexPerBlock] - datetimelist_updated[nStartIndexPerBlock]).total_seconds())\n",
        "          flag = 0\n",
        "        else:        \n",
        "          new_list.append(0)\n",
        "        continue\n",
        "  if(flag == 1):  \n",
        "    new_list.append(1)\n",
        "    count = count + 1\n",
        "\n",
        "    nDiffSumofTimes = nDiffSumofTimes + int((datetimelist_updated[n-1] - datetimelist_updated[nStartIndexPerBlock]).total_seconds())\n",
        "    final_seconds = nDiffSumofTimes \n",
        "  else:\n",
        "    new_list.append(0)\n",
        "  return count\n",
        "\t"
      ],
      "execution_count": 0,
      "outputs": []
    },
    {
      "cell_type": "code",
      "metadata": {
        "id": "4cbggisUJfKo",
        "colab_type": "code",
        "colab": {}
      },
      "source": [
        "drive_df_trips_lst['ft_cnt_vehicle_accel_val']  = drive_df_trips_lst.apply(lambda row: get_ft_cnt_vehicle_accel_val(row['acceleration'], row['datetime']), axis=1)"
      ],
      "execution_count": 0,
      "outputs": []
    },
    {
      "cell_type": "code",
      "metadata": {
        "id": "GCaB5anZJyN-",
        "colab_type": "code",
        "colab": {
          "base_uri": "https://localhost:8080/",
          "height": 473
        },
        "outputId": "665f51e0-b585-4610-dbf3-932470382a68"
      },
      "source": [
        "drive_df_trips_lst.head(3)"
      ],
      "execution_count": 79,
      "outputs": [
        {
          "output_type": "execute_result",
          "data": {
            "text/html": [
              "<div>\n",
              "<style scoped>\n",
              "    .dataframe tbody tr th:only-of-type {\n",
              "        vertical-align: middle;\n",
              "    }\n",
              "\n",
              "    .dataframe tbody tr th {\n",
              "        vertical-align: top;\n",
              "    }\n",
              "\n",
              "    .dataframe thead th {\n",
              "        text-align: right;\n",
              "    }\n",
              "</style>\n",
              "<table border=\"1\" class=\"dataframe\">\n",
              "  <thead>\n",
              "    <tr style=\"text-align: right;\">\n",
              "      <th></th>\n",
              "      <th>trip_id</th>\n",
              "      <th>datetime</th>\n",
              "      <th>datetime_1</th>\n",
              "      <th>time_diff_secs</th>\n",
              "      <th>acceleration</th>\n",
              "      <th>ft_cnt_vehicle_deaccel_val</th>\n",
              "      <th>ft_sum_hard_brakes_10_flg_val</th>\n",
              "      <th>ft_sum_hard_brakes_3_flg_val</th>\n",
              "      <th>ft_sum_time_deaccel_val</th>\n",
              "      <th>ft_cnt_vehicle_accel_val</th>\n",
              "    </tr>\n",
              "  </thead>\n",
              "  <tbody>\n",
              "    <tr>\n",
              "      <th>0</th>\n",
              "      <td>00922df3be5a4589ab385d0c2da2dd81</td>\n",
              "      <td>[2017-01-06 15:00:01, 2017-01-06 15:00:02, 201...</td>\n",
              "      <td>[2017-01-06 15:00:01, 2017-01-06 15:00:02, 201...</td>\n",
              "      <td>[1, 1, 1, 1, 1, 1, 1, 1, 1, 1, 1, 1, 1, 1, 1, ...</td>\n",
              "      <td>[17.044444444444444, -3.8499999999999996, 0.21...</td>\n",
              "      <td>1084</td>\n",
              "      <td>15</td>\n",
              "      <td>521</td>\n",
              "      <td>1456</td>\n",
              "      <td>1084</td>\n",
              "    </tr>\n",
              "    <tr>\n",
              "      <th>1</th>\n",
              "      <td>00dc31fe55e24d14989c89de4b3b683b</td>\n",
              "      <td>[2017-01-20 17:00:01, 2017-01-20 17:00:02, 201...</td>\n",
              "      <td>[2017-01-20 17:00:01, 2017-01-20 17:00:02, 201...</td>\n",
              "      <td>[1, 1, 1, 1, 1, 1, 1, 1, 1, 1, 1, 1, 1, 1, 1, ...</td>\n",
              "      <td>[19.927777777777777, 2.052777777777777, -0.216...</td>\n",
              "      <td>1344</td>\n",
              "      <td>52</td>\n",
              "      <td>820</td>\n",
              "      <td>1838</td>\n",
              "      <td>1344</td>\n",
              "    </tr>\n",
              "    <tr>\n",
              "      <th>2</th>\n",
              "      <td>0156d21e316d4d8b9d5bf6ccff797bf7</td>\n",
              "      <td>[2017-01-01 02:00:01, 2017-01-01 02:00:02, 201...</td>\n",
              "      <td>[2017-01-01 02:00:01, 2017-01-01 02:00:02, 201...</td>\n",
              "      <td>[1, 1, 1, 1, 1, 1, 1, 1, 1, 1, 1, 1, 1, 1, 1, ...</td>\n",
              "      <td>[16.927777777777777, 0.56388888888889, -3.0333...</td>\n",
              "      <td>1229</td>\n",
              "      <td>1</td>\n",
              "      <td>218</td>\n",
              "      <td>1725</td>\n",
              "      <td>1229</td>\n",
              "    </tr>\n",
              "  </tbody>\n",
              "</table>\n",
              "</div>"
            ],
            "text/plain": [
              "                            trip_id  ... ft_cnt_vehicle_accel_val\n",
              "0  00922df3be5a4589ab385d0c2da2dd81  ...                     1084\n",
              "1  00dc31fe55e24d14989c89de4b3b683b  ...                     1344\n",
              "2  0156d21e316d4d8b9d5bf6ccff797bf7  ...                     1229\n",
              "\n",
              "[3 rows x 10 columns]"
            ]
          },
          "metadata": {
            "tags": []
          },
          "execution_count": 79
        }
      ]
    },
    {
      "cell_type": "markdown",
      "metadata": {
        "id": "cY4QNiCxKlTi",
        "colab_type": "text"
      },
      "source": [
        "#### ft_sum_hard_accel_10_flg_val"
      ]
    },
    {
      "cell_type": "code",
      "metadata": {
        "id": "_mJpmmHOKZ31",
        "colab_type": "code",
        "colab": {}
      },
      "source": [
        "def get_ft_sum_hard_accel_10_flg_val(lst, datetimelist):  \n",
        "\n",
        "\n",
        "  datetimelist_updated = [datetime.strptime(x,'%Y-%m-%d %H:%M:%S') for x in datetimelist]\n",
        "\n",
        "  new_list = []  \n",
        "  count = 0\n",
        "  flag = 0\n",
        "  i = 0\n",
        "  nStartIndexPerBlock = 0\n",
        "  nEndIndexPerBlock   = 0\n",
        "  nDiffSumofTimes = 0\n",
        "\n",
        "  n = len(lst)\n",
        "  bValidBlock = False\n",
        "\n",
        "  for i in range(0, len(lst)):\n",
        "    if (i+1 < len(lst)):  \n",
        "      if (lst[i] <= lst[i+1]):\n",
        "        if(lst[i] < 0):\n",
        "          bValidBlock = True\n",
        "\n",
        "        if(flag != 1):\n",
        "          nStartIndexPerBlock = i\n",
        "        flag = 1\n",
        "        new_list.append(0)\n",
        "        continue\n",
        "      elif (lst[i] > lst[i+1]):       \n",
        "        if(flag == 1):\n",
        "          if(lst[i] >= 10 and bValidBlock == True):          \n",
        "            count = count+1\n",
        "            new_list.append(1)\n",
        "            nEndIndexPerBlock = i\n",
        "            nDiffSumofTimes = nDiffSumofTimes + int((datetimelist_updated[nEndIndexPerBlock] - datetimelist_updated[nStartIndexPerBlock]).total_seconds())\n",
        "            bValidBlock = False\n",
        "          elif(bValidBlock == True): \n",
        "            bValidBlock = False\n",
        "            new_list.append(0)\n",
        "          else:\n",
        "            new_list.append(0)\n",
        "            flag = 0          \n",
        "        else:\n",
        "          new_list.append(0)\n",
        "        continue\n",
        "  if(flag == 1 and lst[n-1] >= 10 and bValidBlock == True):  \n",
        "    new_list.append(1)\n",
        "    count = count + 1  \n",
        "    nDiffSumofTimes = nDiffSumofTimes + int((datetimelist_updated[n-1] - datetimelist_updated[nStartIndexPerBlock]).total_seconds())\n",
        "    final_seconds = nDiffSumofTimes\n",
        "  else:\n",
        "    new_list.append(0)\t\n",
        "  return count"
      ],
      "execution_count": 0,
      "outputs": []
    },
    {
      "cell_type": "code",
      "metadata": {
        "id": "CakTlsHwLFip",
        "colab_type": "code",
        "colab": {}
      },
      "source": [
        "drive_df_trips_lst['ft_sum_hard_accel_10_flg_val']  = drive_df_trips_lst.apply(lambda row: get_ft_sum_hard_accel_10_flg_val(row['acceleration'], row['datetime']), axis=1)"
      ],
      "execution_count": 0,
      "outputs": []
    },
    {
      "cell_type": "markdown",
      "metadata": {
        "id": "QBrR8R7qSV18",
        "colab_type": "text"
      },
      "source": [
        "#### ft_sum_hard_accel_3_flg_val"
      ]
    },
    {
      "cell_type": "code",
      "metadata": {
        "id": "M6EtscjFOR_K",
        "colab_type": "code",
        "colab": {}
      },
      "source": [
        "def get_ft_sum_hard_accel_3_flg_val(lst, datetimelist): \n",
        "\n",
        "\n",
        "  datetimelist_updated = [datetime.strptime(x,'%Y-%m-%d %H:%M:%S') for x in datetimelist]\n",
        "\n",
        "  new_list = []  \n",
        "  count = 0\n",
        "  flag = 0\n",
        "  i = 0\n",
        "  nStartIndexPerBlock = 0\n",
        "  nEndIndexPerBlock   = 0\n",
        "  nDiffSumofTimes = 0\n",
        "\n",
        "  n = len(lst)\n",
        "  bValidBlock = False\n",
        "\n",
        "  for i in range(0, len(lst)):\n",
        "    if (i+1 < len(lst)):  \n",
        "      if (lst[i] <= lst[i+1]):\n",
        "        if(lst[i] < 0):\n",
        "          bValidBlock = True\n",
        "\n",
        "        if(flag != 1):\n",
        "          nStartIndexPerBlock = i\n",
        "        flag = 1\n",
        "        new_list.append(0)\n",
        "        continue\n",
        "      elif (lst[i] > lst[i+1]):       \n",
        "        if(flag == 1):\n",
        "          if(lst[i] >= 3 and lst[i] < 10 and bValidBlock == True):          \n",
        "            count = count+1\n",
        "            new_list.append(1)\n",
        "            nEndIndexPerBlock = i\n",
        "            nDiffSumofTimes = nDiffSumofTimes + int((datetimelist_updated[nEndIndexPerBlock] - datetimelist_updated[nStartIndexPerBlock]).total_seconds())\n",
        "            bValidBlock = False\n",
        "          elif(bValidBlock == True): \n",
        "            bValidBlock = False\n",
        "            new_list.append(0)\n",
        "          else:\n",
        "            new_list.append(0)\n",
        "            flag = 0          \n",
        "        else:\n",
        "          new_list.append(0)\n",
        "        continue\n",
        "  if(flag == 1 and lst[n-1] >= 3 and lst[n-1] < 10 and bValidBlock == True):  \n",
        "    new_list.append(1)\n",
        "    count = count + 1  \n",
        "    nDiffSumofTimes = nDiffSumofTimes + int((datetimelist_updated[n-1] - datetimelist_updated[nStartIndexPerBlock]).total_seconds())\n",
        "    final_seconds = nDiffSumofTimes\n",
        "  else:\n",
        "    new_list.append(0)\t\n",
        "  return count"
      ],
      "execution_count": 0,
      "outputs": []
    },
    {
      "cell_type": "code",
      "metadata": {
        "id": "so5AOvomOh7R",
        "colab_type": "code",
        "colab": {}
      },
      "source": [
        "drive_df_trips_lst['ft_sum_hard_accel_3_flg_val']  = drive_df_trips_lst.apply(lambda row: get_ft_sum_hard_accel_3_flg_val(row['acceleration'], row['datetime']), axis=1)"
      ],
      "execution_count": 0,
      "outputs": []
    },
    {
      "cell_type": "markdown",
      "metadata": {
        "id": "di039GVjPq6m",
        "colab_type": "text"
      },
      "source": [
        "#### ft_sum_time_accel_val"
      ]
    },
    {
      "cell_type": "code",
      "metadata": {
        "id": "6pkUU-Q5Okbo",
        "colab_type": "code",
        "colab": {}
      },
      "source": [
        "def get_ft_cnt_vehicle_accel_val_summ(lst, datetimelist):\n",
        "  \n",
        "  datetimelist_updated = [datetime.strptime(str(x),'%Y-%m-%d %H:%M:%S') for x in datetimelist]\n",
        "\n",
        "  new_list = []  \n",
        "  count = 0\n",
        "  flag = 0\n",
        "  i = 0\n",
        "  nStartIndexPerBlock = 0\n",
        "  nEndIndexPerBlock   = 0\n",
        "\n",
        "  nDiffSumofTimes = 0\n",
        "  \n",
        "\n",
        "  n = len(datetimelist)\n",
        "\n",
        "  for i in range(0, len(lst)):\n",
        "    if (i+1 < len(lst)):  \n",
        "      if (lst[i] <= lst[i+1]):\n",
        "        if(flag != 1):\n",
        "          nStartIndexPerBlock = i\n",
        "        flag = 1\n",
        "        new_list.append(0)\n",
        "        continue\n",
        "      elif (lst[i] > lst[i+1]):       \n",
        "        if(flag == 1):\n",
        "          count = count+1\n",
        "          new_list.append(1)\n",
        "          nEndIndexPerBlock = i\n",
        "          nDiffSumofTimes = nDiffSumofTimes + int((datetimelist_updated[nEndIndexPerBlock] - datetimelist_updated[nStartIndexPerBlock]).total_seconds())\n",
        "          flag = 0\n",
        "        else:        \n",
        "          new_list.append(0)\n",
        "        continue\n",
        "  if(flag == 1):  \n",
        "    new_list.append(1)\n",
        "    count = count + 1\n",
        "    nDiffSumofTimes = nDiffSumofTimes + int((datetimelist_updated[n-1] - datetimelist_updated[nStartIndexPerBlock]).total_seconds())\n",
        "  else:\n",
        "    new_list.append(0)\n",
        "  return nDiffSumofTimes\n",
        "\t"
      ],
      "execution_count": 0,
      "outputs": []
    },
    {
      "cell_type": "code",
      "metadata": {
        "id": "PcVs9smYQDmM",
        "colab_type": "code",
        "colab": {}
      },
      "source": [
        "drive_df_trips_lst['ft_sum_time_accel_val']  = drive_df_trips_lst.apply(lambda row: get_ft_cnt_vehicle_accel_val_summ(row['acceleration'], row['datetime']), axis=1)"
      ],
      "execution_count": 0,
      "outputs": []
    },
    {
      "cell_type": "code",
      "metadata": {
        "id": "JM0qrFHLQR3b",
        "colab_type": "code",
        "colab": {
          "base_uri": "https://localhost:8080/",
          "height": 473
        },
        "outputId": "f65a076d-d284-493d-f8d3-42e8b7ed45fa"
      },
      "source": [
        "drive_df_trips_lst.head(3)"
      ],
      "execution_count": 86,
      "outputs": [
        {
          "output_type": "execute_result",
          "data": {
            "text/html": [
              "<div>\n",
              "<style scoped>\n",
              "    .dataframe tbody tr th:only-of-type {\n",
              "        vertical-align: middle;\n",
              "    }\n",
              "\n",
              "    .dataframe tbody tr th {\n",
              "        vertical-align: top;\n",
              "    }\n",
              "\n",
              "    .dataframe thead th {\n",
              "        text-align: right;\n",
              "    }\n",
              "</style>\n",
              "<table border=\"1\" class=\"dataframe\">\n",
              "  <thead>\n",
              "    <tr style=\"text-align: right;\">\n",
              "      <th></th>\n",
              "      <th>trip_id</th>\n",
              "      <th>datetime</th>\n",
              "      <th>datetime_1</th>\n",
              "      <th>time_diff_secs</th>\n",
              "      <th>acceleration</th>\n",
              "      <th>ft_cnt_vehicle_deaccel_val</th>\n",
              "      <th>ft_sum_hard_brakes_10_flg_val</th>\n",
              "      <th>ft_sum_hard_brakes_3_flg_val</th>\n",
              "      <th>ft_sum_time_deaccel_val</th>\n",
              "      <th>ft_cnt_vehicle_accel_val</th>\n",
              "      <th>ft_sum_hard_accel_10_flg_val</th>\n",
              "      <th>ft_sum_hard_accel_3_flg_val</th>\n",
              "      <th>ft_sum_time_accel_val</th>\n",
              "    </tr>\n",
              "  </thead>\n",
              "  <tbody>\n",
              "    <tr>\n",
              "      <th>0</th>\n",
              "      <td>00922df3be5a4589ab385d0c2da2dd81</td>\n",
              "      <td>[2017-01-06 15:00:01, 2017-01-06 15:00:02, 201...</td>\n",
              "      <td>[2017-01-06 15:00:01, 2017-01-06 15:00:02, 201...</td>\n",
              "      <td>[1, 1, 1, 1, 1, 1, 1, 1, 1, 1, 1, 1, 1, 1, 1, ...</td>\n",
              "      <td>[17.044444444444444, -3.8499999999999996, 0.21...</td>\n",
              "      <td>1084</td>\n",
              "      <td>15</td>\n",
              "      <td>521</td>\n",
              "      <td>1456</td>\n",
              "      <td>1084</td>\n",
              "      <td>7</td>\n",
              "      <td>502</td>\n",
              "      <td>1442</td>\n",
              "    </tr>\n",
              "    <tr>\n",
              "      <th>1</th>\n",
              "      <td>00dc31fe55e24d14989c89de4b3b683b</td>\n",
              "      <td>[2017-01-20 17:00:01, 2017-01-20 17:00:02, 201...</td>\n",
              "      <td>[2017-01-20 17:00:01, 2017-01-20 17:00:02, 201...</td>\n",
              "      <td>[1, 1, 1, 1, 1, 1, 1, 1, 1, 1, 1, 1, 1, 1, 1, ...</td>\n",
              "      <td>[19.927777777777777, 2.052777777777777, -0.216...</td>\n",
              "      <td>1344</td>\n",
              "      <td>52</td>\n",
              "      <td>820</td>\n",
              "      <td>1838</td>\n",
              "      <td>1344</td>\n",
              "      <td>81</td>\n",
              "      <td>786</td>\n",
              "      <td>1850</td>\n",
              "    </tr>\n",
              "    <tr>\n",
              "      <th>2</th>\n",
              "      <td>0156d21e316d4d8b9d5bf6ccff797bf7</td>\n",
              "      <td>[2017-01-01 02:00:01, 2017-01-01 02:00:02, 201...</td>\n",
              "      <td>[2017-01-01 02:00:01, 2017-01-01 02:00:02, 201...</td>\n",
              "      <td>[1, 1, 1, 1, 1, 1, 1, 1, 1, 1, 1, 1, 1, 1, 1, ...</td>\n",
              "      <td>[16.927777777777777, 0.56388888888889, -3.0333...</td>\n",
              "      <td>1229</td>\n",
              "      <td>1</td>\n",
              "      <td>218</td>\n",
              "      <td>1725</td>\n",
              "      <td>1229</td>\n",
              "      <td>0</td>\n",
              "      <td>229</td>\n",
              "      <td>1707</td>\n",
              "    </tr>\n",
              "  </tbody>\n",
              "</table>\n",
              "</div>"
            ],
            "text/plain": [
              "                            trip_id  ... ft_sum_time_accel_val\n",
              "0  00922df3be5a4589ab385d0c2da2dd81  ...                  1442\n",
              "1  00dc31fe55e24d14989c89de4b3b683b  ...                  1850\n",
              "2  0156d21e316d4d8b9d5bf6ccff797bf7  ...                  1707\n",
              "\n",
              "[3 rows x 13 columns]"
            ]
          },
          "metadata": {
            "tags": []
          },
          "execution_count": 86
        }
      ]
    },
    {
      "cell_type": "code",
      "metadata": {
        "id": "ERo44U8nR7vp",
        "colab_type": "code",
        "colab": {
          "base_uri": "https://localhost:8080/",
          "height": 35
        },
        "outputId": "f50d2ab4-b4ce-46b0-f57b-ddf7079b3bd5"
      },
      "source": [
        "drive_df_trips_lst.shape"
      ],
      "execution_count": 87,
      "outputs": [
        {
          "output_type": "execute_result",
          "data": {
            "text/plain": [
              "(1708, 13)"
            ]
          },
          "metadata": {
            "tags": []
          },
          "execution_count": 87
        }
      ]
    },
    {
      "cell_type": "code",
      "metadata": {
        "id": "NQ0fMpqeUDY3",
        "colab_type": "code",
        "colab": {
          "base_uri": "https://localhost:8080/",
          "height": 121
        },
        "outputId": "0ba03fd8-9ccc-4b5b-bf8a-3f178fe08d9e"
      },
      "source": [
        "drive_df_trips_lst.columns"
      ],
      "execution_count": 88,
      "outputs": [
        {
          "output_type": "execute_result",
          "data": {
            "text/plain": [
              "Index(['trip_id', 'datetime', 'datetime_1', 'time_diff_secs', 'acceleration',\n",
              "       'ft_cnt_vehicle_deaccel_val', 'ft_sum_hard_brakes_10_flg_val',\n",
              "       'ft_sum_hard_brakes_3_flg_val', 'ft_sum_time_deaccel_val',\n",
              "       'ft_cnt_vehicle_accel_val', 'ft_sum_hard_accel_10_flg_val',\n",
              "       'ft_sum_hard_accel_3_flg_val', 'ft_sum_time_accel_val'],\n",
              "      dtype='object')"
            ]
          },
          "metadata": {
            "tags": []
          },
          "execution_count": 88
        }
      ]
    },
    {
      "cell_type": "code",
      "metadata": {
        "id": "xkWIzjPvUGMH",
        "colab_type": "code",
        "colab": {
          "base_uri": "https://localhost:8080/",
          "height": 473
        },
        "outputId": "6cd564ca-f2b7-4413-d2db-ae9717f7776f"
      },
      "source": [
        "drive_df_trips_lst.head(3)"
      ],
      "execution_count": 89,
      "outputs": [
        {
          "output_type": "execute_result",
          "data": {
            "text/html": [
              "<div>\n",
              "<style scoped>\n",
              "    .dataframe tbody tr th:only-of-type {\n",
              "        vertical-align: middle;\n",
              "    }\n",
              "\n",
              "    .dataframe tbody tr th {\n",
              "        vertical-align: top;\n",
              "    }\n",
              "\n",
              "    .dataframe thead th {\n",
              "        text-align: right;\n",
              "    }\n",
              "</style>\n",
              "<table border=\"1\" class=\"dataframe\">\n",
              "  <thead>\n",
              "    <tr style=\"text-align: right;\">\n",
              "      <th></th>\n",
              "      <th>trip_id</th>\n",
              "      <th>datetime</th>\n",
              "      <th>datetime_1</th>\n",
              "      <th>time_diff_secs</th>\n",
              "      <th>acceleration</th>\n",
              "      <th>ft_cnt_vehicle_deaccel_val</th>\n",
              "      <th>ft_sum_hard_brakes_10_flg_val</th>\n",
              "      <th>ft_sum_hard_brakes_3_flg_val</th>\n",
              "      <th>ft_sum_time_deaccel_val</th>\n",
              "      <th>ft_cnt_vehicle_accel_val</th>\n",
              "      <th>ft_sum_hard_accel_10_flg_val</th>\n",
              "      <th>ft_sum_hard_accel_3_flg_val</th>\n",
              "      <th>ft_sum_time_accel_val</th>\n",
              "    </tr>\n",
              "  </thead>\n",
              "  <tbody>\n",
              "    <tr>\n",
              "      <th>0</th>\n",
              "      <td>00922df3be5a4589ab385d0c2da2dd81</td>\n",
              "      <td>[2017-01-06 15:00:01, 2017-01-06 15:00:02, 201...</td>\n",
              "      <td>[2017-01-06 15:00:01, 2017-01-06 15:00:02, 201...</td>\n",
              "      <td>[1, 1, 1, 1, 1, 1, 1, 1, 1, 1, 1, 1, 1, 1, 1, ...</td>\n",
              "      <td>[17.044444444444444, -3.8499999999999996, 0.21...</td>\n",
              "      <td>1084</td>\n",
              "      <td>15</td>\n",
              "      <td>521</td>\n",
              "      <td>1456</td>\n",
              "      <td>1084</td>\n",
              "      <td>7</td>\n",
              "      <td>502</td>\n",
              "      <td>1442</td>\n",
              "    </tr>\n",
              "    <tr>\n",
              "      <th>1</th>\n",
              "      <td>00dc31fe55e24d14989c89de4b3b683b</td>\n",
              "      <td>[2017-01-20 17:00:01, 2017-01-20 17:00:02, 201...</td>\n",
              "      <td>[2017-01-20 17:00:01, 2017-01-20 17:00:02, 201...</td>\n",
              "      <td>[1, 1, 1, 1, 1, 1, 1, 1, 1, 1, 1, 1, 1, 1, 1, ...</td>\n",
              "      <td>[19.927777777777777, 2.052777777777777, -0.216...</td>\n",
              "      <td>1344</td>\n",
              "      <td>52</td>\n",
              "      <td>820</td>\n",
              "      <td>1838</td>\n",
              "      <td>1344</td>\n",
              "      <td>81</td>\n",
              "      <td>786</td>\n",
              "      <td>1850</td>\n",
              "    </tr>\n",
              "    <tr>\n",
              "      <th>2</th>\n",
              "      <td>0156d21e316d4d8b9d5bf6ccff797bf7</td>\n",
              "      <td>[2017-01-01 02:00:01, 2017-01-01 02:00:02, 201...</td>\n",
              "      <td>[2017-01-01 02:00:01, 2017-01-01 02:00:02, 201...</td>\n",
              "      <td>[1, 1, 1, 1, 1, 1, 1, 1, 1, 1, 1, 1, 1, 1, 1, ...</td>\n",
              "      <td>[16.927777777777777, 0.56388888888889, -3.0333...</td>\n",
              "      <td>1229</td>\n",
              "      <td>1</td>\n",
              "      <td>218</td>\n",
              "      <td>1725</td>\n",
              "      <td>1229</td>\n",
              "      <td>0</td>\n",
              "      <td>229</td>\n",
              "      <td>1707</td>\n",
              "    </tr>\n",
              "  </tbody>\n",
              "</table>\n",
              "</div>"
            ],
            "text/plain": [
              "                            trip_id  ... ft_sum_time_accel_val\n",
              "0  00922df3be5a4589ab385d0c2da2dd81  ...                  1442\n",
              "1  00dc31fe55e24d14989c89de4b3b683b  ...                  1850\n",
              "2  0156d21e316d4d8b9d5bf6ccff797bf7  ...                  1707\n",
              "\n",
              "[3 rows x 13 columns]"
            ]
          },
          "metadata": {
            "tags": []
          },
          "execution_count": 89
        }
      ]
    },
    {
      "cell_type": "code",
      "metadata": {
        "id": "4lbPKaWEfay_",
        "colab_type": "code",
        "colab": {
          "base_uri": "https://localhost:8080/",
          "height": 222
        },
        "outputId": "0c14c211-3bfe-4763-8a0f-577ede40ce80"
      },
      "source": [
        "drive_df_trips_lst_1 = drive_df_trips_lst[['trip_id','ft_cnt_vehicle_deaccel_val','ft_sum_time_accel_val',\n",
        "                                           'ft_sum_time_deaccel_val','ft_cnt_vehicle_accel_val','ft_sum_hard_brakes_10_flg_val',\n",
        "                                          'ft_sum_hard_brakes_3_flg_val', 'ft_sum_hard_accel_10_flg_val', 'ft_sum_hard_accel_3_flg_val'\n",
        "                                          ]]\n",
        "drive_df_trips_lst_1.head()"
      ],
      "execution_count": 90,
      "outputs": [
        {
          "output_type": "execute_result",
          "data": {
            "text/html": [
              "<div>\n",
              "<style scoped>\n",
              "    .dataframe tbody tr th:only-of-type {\n",
              "        vertical-align: middle;\n",
              "    }\n",
              "\n",
              "    .dataframe tbody tr th {\n",
              "        vertical-align: top;\n",
              "    }\n",
              "\n",
              "    .dataframe thead th {\n",
              "        text-align: right;\n",
              "    }\n",
              "</style>\n",
              "<table border=\"1\" class=\"dataframe\">\n",
              "  <thead>\n",
              "    <tr style=\"text-align: right;\">\n",
              "      <th></th>\n",
              "      <th>trip_id</th>\n",
              "      <th>ft_cnt_vehicle_deaccel_val</th>\n",
              "      <th>ft_sum_time_accel_val</th>\n",
              "      <th>ft_sum_time_deaccel_val</th>\n",
              "      <th>ft_cnt_vehicle_accel_val</th>\n",
              "      <th>ft_sum_hard_brakes_10_flg_val</th>\n",
              "      <th>ft_sum_hard_brakes_3_flg_val</th>\n",
              "      <th>ft_sum_hard_accel_10_flg_val</th>\n",
              "      <th>ft_sum_hard_accel_3_flg_val</th>\n",
              "    </tr>\n",
              "  </thead>\n",
              "  <tbody>\n",
              "    <tr>\n",
              "      <th>0</th>\n",
              "      <td>00922df3be5a4589ab385d0c2da2dd81</td>\n",
              "      <td>1084</td>\n",
              "      <td>1442</td>\n",
              "      <td>1456</td>\n",
              "      <td>1084</td>\n",
              "      <td>15</td>\n",
              "      <td>521</td>\n",
              "      <td>7</td>\n",
              "      <td>502</td>\n",
              "    </tr>\n",
              "    <tr>\n",
              "      <th>1</th>\n",
              "      <td>00dc31fe55e24d14989c89de4b3b683b</td>\n",
              "      <td>1344</td>\n",
              "      <td>1850</td>\n",
              "      <td>1838</td>\n",
              "      <td>1344</td>\n",
              "      <td>52</td>\n",
              "      <td>820</td>\n",
              "      <td>81</td>\n",
              "      <td>786</td>\n",
              "    </tr>\n",
              "    <tr>\n",
              "      <th>2</th>\n",
              "      <td>0156d21e316d4d8b9d5bf6ccff797bf7</td>\n",
              "      <td>1229</td>\n",
              "      <td>1707</td>\n",
              "      <td>1725</td>\n",
              "      <td>1229</td>\n",
              "      <td>1</td>\n",
              "      <td>218</td>\n",
              "      <td>0</td>\n",
              "      <td>229</td>\n",
              "    </tr>\n",
              "    <tr>\n",
              "      <th>3</th>\n",
              "      <td>01b8a24510cd4e4684d67b96369286e0</td>\n",
              "      <td>233</td>\n",
              "      <td>301</td>\n",
              "      <td>328</td>\n",
              "      <td>233</td>\n",
              "      <td>12</td>\n",
              "      <td>137</td>\n",
              "      <td>9</td>\n",
              "      <td>139</td>\n",
              "    </tr>\n",
              "    <tr>\n",
              "      <th>4</th>\n",
              "      <td>01c2a70c25e5428bb33811ca5eb19270</td>\n",
              "      <td>2612</td>\n",
              "      <td>3579</td>\n",
              "      <td>3558</td>\n",
              "      <td>2612</td>\n",
              "      <td>1</td>\n",
              "      <td>679</td>\n",
              "      <td>0</td>\n",
              "      <td>674</td>\n",
              "    </tr>\n",
              "  </tbody>\n",
              "</table>\n",
              "</div>"
            ],
            "text/plain": [
              "                            trip_id  ...  ft_sum_hard_accel_3_flg_val\n",
              "0  00922df3be5a4589ab385d0c2da2dd81  ...                          502\n",
              "1  00dc31fe55e24d14989c89de4b3b683b  ...                          786\n",
              "2  0156d21e316d4d8b9d5bf6ccff797bf7  ...                          229\n",
              "3  01b8a24510cd4e4684d67b96369286e0  ...                          139\n",
              "4  01c2a70c25e5428bb33811ca5eb19270  ...                          674\n",
              "\n",
              "[5 rows x 9 columns]"
            ]
          },
          "metadata": {
            "tags": []
          },
          "execution_count": 90
        }
      ]
    },
    {
      "cell_type": "code",
      "metadata": {
        "id": "IX7OBQOQhcE6",
        "colab_type": "code",
        "colab": {
          "base_uri": "https://localhost:8080/",
          "height": 35
        },
        "outputId": "dbfd0e56-d7e5-4af0-e116-c8a1ed80a7ab"
      },
      "source": [
        "drive_df_trips_lst_1.shape"
      ],
      "execution_count": 91,
      "outputs": [
        {
          "output_type": "execute_result",
          "data": {
            "text/plain": [
              "(1708, 9)"
            ]
          },
          "metadata": {
            "tags": []
          },
          "execution_count": 91
        }
      ]
    },
    {
      "cell_type": "code",
      "metadata": {
        "id": "jRTirF6PtkLU",
        "colab_type": "code",
        "colab": {}
      },
      "source": [
        "drive_df_trips_lst_1 = drive_df_trips_lst_1.sort_values(['trip_id'], ascending=[True])"
      ],
      "execution_count": 0,
      "outputs": []
    },
    {
      "cell_type": "code",
      "metadata": {
        "id": "dRKvJ9xUhgSs",
        "colab_type": "code",
        "colab": {}
      },
      "source": [
        "# Convert the datafrae into CSV file and store it\n",
        "drive_df_trips_lst_1.to_csv('drive_features.csv',index= False)"
      ],
      "execution_count": 0,
      "outputs": []
    },
    {
      "cell_type": "code",
      "metadata": {
        "id": "o0fnbJdfhszv",
        "colab_type": "code",
        "colab": {}
      },
      "source": [
        "# from datetime import datetime\n",
        "# from pytz import timezone\n",
        "# import pytz\n",
        "\n",
        "# date_format='%Y-%m-%d %H:%M:%S'\n",
        "# # date = datetime.now(tz=pytz.utc)\n",
        "# # date = to_datetime('2017-01-01 07:00:00')\n",
        "# date = datetime.strptime(str('2017-01-01 07:00:00'),'%Y-%m-%d %H:%M:%S')\n",
        "\n",
        "# print('Current date & time is:', date.strftime(date_format))\n",
        "\n",
        "# date = date.astimezone(timezone('US/Pacific'))\n",
        "\n",
        "# print('Local date & time is  :', date.strftime(date_format))"
      ],
      "execution_count": 0,
      "outputs": []
    },
    {
      "cell_type": "code",
      "metadata": {
        "id": "CCXnCOwofq4M",
        "colab_type": "code",
        "colab": {}
      },
      "source": [
        "# "
      ],
      "execution_count": 0,
      "outputs": []
    }
  ]
}