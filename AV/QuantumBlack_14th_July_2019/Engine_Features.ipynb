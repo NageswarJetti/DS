{
  "nbformat": 4,
  "nbformat_minor": 0,
  "metadata": {
    "colab": {
      "name": "Engine_Features.ipynb",
      "version": "0.3.2",
      "provenance": [],
      "collapsed_sections": []
    },
    "kernelspec": {
      "name": "python3",
      "display_name": "Python 3"
    },
    "accelerator": "GPU"
  },
  "cells": [
    {
      "cell_type": "code",
      "metadata": {
        "id": "nb2UMgaWiu96",
        "colab_type": "code",
        "colab": {
          "base_uri": "https://localhost:8080/",
          "height": 52
        },
        "outputId": "d2abaff1-1850-4976-9cc4-f8327327dffd"
      },
      "source": [
        "\n",
        "# Install the PyDrive wrapper & import libraries.\n",
        "# This only needs to be done once in a notebook.\n",
        "!pip install -U -q PyDrive\n",
        "from pydrive.auth import GoogleAuth\n",
        "from pydrive.drive import GoogleDrive\n",
        "from google.colab import auth\n",
        "from oauth2client.client import GoogleCredentials\n",
        "\n",
        "# Authenticate and create the PyDrive client.\n",
        "# This only needs to be done once in a notebook.\n",
        "auth.authenticate_user()\n",
        "gauth = GoogleAuth()\n",
        "gauth.credentials = GoogleCredentials.get_application_default()\n",
        "drive = GoogleDrive(gauth)"
      ],
      "execution_count": 1,
      "outputs": [
        {
          "output_type": "stream",
          "text": [
            "\u001b[?25l\r\u001b[K     |▎                               | 10kB 19.5MB/s eta 0:00:01\r\u001b[K     |▋                               | 20kB 2.2MB/s eta 0:00:01\r\u001b[K     |█                               | 30kB 3.3MB/s eta 0:00:01\r\u001b[K     |█▎                              | 40kB 2.1MB/s eta 0:00:01\r\u001b[K     |█▋                              | 51kB 2.6MB/s eta 0:00:01\r\u001b[K     |██                              | 61kB 3.1MB/s eta 0:00:01\r\u001b[K     |██▎                             | 71kB 3.5MB/s eta 0:00:01\r\u001b[K     |██▋                             | 81kB 3.9MB/s eta 0:00:01\r\u001b[K     |███                             | 92kB 4.4MB/s eta 0:00:01\r\u001b[K     |███▎                            | 102kB 3.4MB/s eta 0:00:01\r\u001b[K     |███▋                            | 112kB 3.4MB/s eta 0:00:01\r\u001b[K     |████                            | 122kB 3.4MB/s eta 0:00:01\r\u001b[K     |████▎                           | 133kB 3.4MB/s eta 0:00:01\r\u001b[K     |████▋                           | 143kB 3.4MB/s eta 0:00:01\r\u001b[K     |█████                           | 153kB 3.4MB/s eta 0:00:01\r\u001b[K     |█████▎                          | 163kB 3.4MB/s eta 0:00:01\r\u001b[K     |█████▋                          | 174kB 3.4MB/s eta 0:00:01\r\u001b[K     |██████                          | 184kB 3.4MB/s eta 0:00:01\r\u001b[K     |██████▎                         | 194kB 3.4MB/s eta 0:00:01\r\u001b[K     |██████▋                         | 204kB 3.4MB/s eta 0:00:01\r\u001b[K     |███████                         | 215kB 3.4MB/s eta 0:00:01\r\u001b[K     |███████▎                        | 225kB 3.4MB/s eta 0:00:01\r\u001b[K     |███████▋                        | 235kB 3.4MB/s eta 0:00:01\r\u001b[K     |████████                        | 245kB 3.4MB/s eta 0:00:01\r\u001b[K     |████████▎                       | 256kB 3.4MB/s eta 0:00:01\r\u001b[K     |████████▋                       | 266kB 3.4MB/s eta 0:00:01\r\u001b[K     |█████████                       | 276kB 3.4MB/s eta 0:00:01\r\u001b[K     |█████████▎                      | 286kB 3.4MB/s eta 0:00:01\r\u001b[K     |█████████▋                      | 296kB 3.4MB/s eta 0:00:01\r\u001b[K     |██████████                      | 307kB 3.4MB/s eta 0:00:01\r\u001b[K     |██████████▎                     | 317kB 3.4MB/s eta 0:00:01\r\u001b[K     |██████████▋                     | 327kB 3.4MB/s eta 0:00:01\r\u001b[K     |███████████                     | 337kB 3.4MB/s eta 0:00:01\r\u001b[K     |███████████▎                    | 348kB 3.4MB/s eta 0:00:01\r\u001b[K     |███████████▋                    | 358kB 3.4MB/s eta 0:00:01\r\u001b[K     |████████████                    | 368kB 3.4MB/s eta 0:00:01\r\u001b[K     |████████████▎                   | 378kB 3.4MB/s eta 0:00:01\r\u001b[K     |████████████▋                   | 389kB 3.4MB/s eta 0:00:01\r\u001b[K     |█████████████                   | 399kB 3.4MB/s eta 0:00:01\r\u001b[K     |█████████████▎                  | 409kB 3.4MB/s eta 0:00:01\r\u001b[K     |█████████████▋                  | 419kB 3.4MB/s eta 0:00:01\r\u001b[K     |██████████████                  | 430kB 3.4MB/s eta 0:00:01\r\u001b[K     |██████████████▎                 | 440kB 3.4MB/s eta 0:00:01\r\u001b[K     |██████████████▋                 | 450kB 3.4MB/s eta 0:00:01\r\u001b[K     |███████████████                 | 460kB 3.4MB/s eta 0:00:01\r\u001b[K     |███████████████▎                | 471kB 3.4MB/s eta 0:00:01\r\u001b[K     |███████████████▋                | 481kB 3.4MB/s eta 0:00:01\r\u001b[K     |████████████████                | 491kB 3.4MB/s eta 0:00:01\r\u001b[K     |████████████████▎               | 501kB 3.4MB/s eta 0:00:01\r\u001b[K     |████████████████▋               | 512kB 3.4MB/s eta 0:00:01\r\u001b[K     |█████████████████               | 522kB 3.4MB/s eta 0:00:01\r\u001b[K     |█████████████████▎              | 532kB 3.4MB/s eta 0:00:01\r\u001b[K     |█████████████████▋              | 542kB 3.4MB/s eta 0:00:01\r\u001b[K     |██████████████████              | 552kB 3.4MB/s eta 0:00:01\r\u001b[K     |██████████████████▎             | 563kB 3.4MB/s eta 0:00:01\r\u001b[K     |██████████████████▋             | 573kB 3.4MB/s eta 0:00:01\r\u001b[K     |███████████████████             | 583kB 3.4MB/s eta 0:00:01\r\u001b[K     |███████████████████▎            | 593kB 3.4MB/s eta 0:00:01\r\u001b[K     |███████████████████▋            | 604kB 3.4MB/s eta 0:00:01\r\u001b[K     |████████████████████            | 614kB 3.4MB/s eta 0:00:01\r\u001b[K     |████████████████████▎           | 624kB 3.4MB/s eta 0:00:01\r\u001b[K     |████████████████████▋           | 634kB 3.4MB/s eta 0:00:01\r\u001b[K     |█████████████████████           | 645kB 3.4MB/s eta 0:00:01\r\u001b[K     |█████████████████████▎          | 655kB 3.4MB/s eta 0:00:01\r\u001b[K     |█████████████████████▋          | 665kB 3.4MB/s eta 0:00:01\r\u001b[K     |██████████████████████          | 675kB 3.4MB/s eta 0:00:01\r\u001b[K     |██████████████████████▎         | 686kB 3.4MB/s eta 0:00:01\r\u001b[K     |██████████████████████▋         | 696kB 3.4MB/s eta 0:00:01\r\u001b[K     |███████████████████████         | 706kB 3.4MB/s eta 0:00:01\r\u001b[K     |███████████████████████▎        | 716kB 3.4MB/s eta 0:00:01\r\u001b[K     |███████████████████████▋        | 727kB 3.4MB/s eta 0:00:01\r\u001b[K     |████████████████████████        | 737kB 3.4MB/s eta 0:00:01\r\u001b[K     |████████████████████████▎       | 747kB 3.4MB/s eta 0:00:01\r\u001b[K     |████████████████████████▋       | 757kB 3.4MB/s eta 0:00:01\r\u001b[K     |████████████████████████▉       | 768kB 3.4MB/s eta 0:00:01\r\u001b[K     |█████████████████████████▏      | 778kB 3.4MB/s eta 0:00:01\r\u001b[K     |█████████████████████████▌      | 788kB 3.4MB/s eta 0:00:01\r\u001b[K     |█████████████████████████▉      | 798kB 3.4MB/s eta 0:00:01\r\u001b[K     |██████████████████████████▏     | 808kB 3.4MB/s eta 0:00:01\r\u001b[K     |██████████████████████████▌     | 819kB 3.4MB/s eta 0:00:01\r\u001b[K     |██████████████████████████▉     | 829kB 3.4MB/s eta 0:00:01\r\u001b[K     |███████████████████████████▏    | 839kB 3.4MB/s eta 0:00:01\r\u001b[K     |███████████████████████████▌    | 849kB 3.4MB/s eta 0:00:01\r\u001b[K     |███████████████████████████▉    | 860kB 3.4MB/s eta 0:00:01\r\u001b[K     |████████████████████████████▏   | 870kB 3.4MB/s eta 0:00:01\r\u001b[K     |████████████████████████████▌   | 880kB 3.4MB/s eta 0:00:01\r\u001b[K     |████████████████████████████▉   | 890kB 3.4MB/s eta 0:00:01\r\u001b[K     |█████████████████████████████▏  | 901kB 3.4MB/s eta 0:00:01\r\u001b[K     |█████████████████████████████▌  | 911kB 3.4MB/s eta 0:00:01\r\u001b[K     |█████████████████████████████▉  | 921kB 3.4MB/s eta 0:00:01\r\u001b[K     |██████████████████████████████▏ | 931kB 3.4MB/s eta 0:00:01\r\u001b[K     |██████████████████████████████▌ | 942kB 3.4MB/s eta 0:00:01\r\u001b[K     |██████████████████████████████▉ | 952kB 3.4MB/s eta 0:00:01\r\u001b[K     |███████████████████████████████▏| 962kB 3.4MB/s eta 0:00:01\r\u001b[K     |███████████████████████████████▌| 972kB 3.4MB/s eta 0:00:01\r\u001b[K     |███████████████████████████████▉| 983kB 3.4MB/s eta 0:00:01\r\u001b[K     |████████████████████████████████| 993kB 3.4MB/s \n",
            "\u001b[?25h  Building wheel for PyDrive (setup.py) ... \u001b[?25l\u001b[?25hdone\n"
          ],
          "name": "stdout"
        }
      ]
    },
    {
      "cell_type": "code",
      "metadata": {
        "id": "K5eJE4G0i5UU",
        "colab_type": "code",
        "colab": {
          "base_uri": "https://localhost:8080/",
          "height": 124
        },
        "outputId": "143c8cb3-c67a-407e-d65e-9f16bfb41c63"
      },
      "source": [
        "# Run this cell to mount your Google Drive.\n",
        "from google.colab import drive\n",
        "drive.mount('/content/drive')"
      ],
      "execution_count": 2,
      "outputs": [
        {
          "output_type": "stream",
          "text": [
            "Go to this URL in a browser: https://accounts.google.com/o/oauth2/auth?client_id=947318989803-6bn6qk8qdgf4n4g3pfee6491hc0brc4i.apps.googleusercontent.com&redirect_uri=urn%3Aietf%3Awg%3Aoauth%3A2.0%3Aoob&scope=email%20https%3A%2F%2Fwww.googleapis.com%2Fauth%2Fdocs.test%20https%3A%2F%2Fwww.googleapis.com%2Fauth%2Fdrive%20https%3A%2F%2Fwww.googleapis.com%2Fauth%2Fdrive.photos.readonly%20https%3A%2F%2Fwww.googleapis.com%2Fauth%2Fpeopleapi.readonly&response_type=code\n",
            "\n",
            "Enter your authorization code:\n",
            "··········\n",
            "Mounted at /content/drive\n"
          ],
          "name": "stdout"
        }
      ]
    },
    {
      "cell_type": "code",
      "metadata": {
        "id": "9rtoUs2Mi6Md",
        "colab_type": "code",
        "colab": {
          "base_uri": "https://localhost:8080/",
          "height": 52
        },
        "outputId": "3c0616ac-235c-4251-d90e-0a13fd8854b4"
      },
      "source": [
        "!ls '/content/drive/My Drive/AV_data/Quantum_Black_5th_July_2019/'"
      ],
      "execution_count": 3,
      "outputs": [
        {
          "output_type": "stream",
          "text": [
            "drive_csv_file.zip\t trip_csv_file.zip  weather_csv_file.zip\n",
            "drive_vehcile_df_v1.csv  vehicle.csv\n"
          ],
          "name": "stdout"
        }
      ]
    },
    {
      "cell_type": "markdown",
      "metadata": {
        "id": "wrKsb7TajYCm",
        "colab_type": "text"
      },
      "source": [
        "### Load Packages"
      ]
    },
    {
      "cell_type": "code",
      "metadata": {
        "id": "Y35Q6iRFjU8n",
        "colab_type": "code",
        "colab": {}
      },
      "source": [
        "import pandas as pd\n",
        "import numpy as np\n",
        "import pyarrow.parquet as pq\n",
        "import os\n",
        "from pathlib import Path\n",
        "import datetime\n",
        "from datetime import timedelta"
      ],
      "execution_count": 0,
      "outputs": []
    },
    {
      "cell_type": "code",
      "metadata": {
        "id": "x8FIurhCjaD1",
        "colab_type": "code",
        "colab": {}
      },
      "source": [
        "drive_df = pd.read_csv('/content/drive/My Drive/AV_data/Quantum_Black_5th_July_2019/drive_csv_file.zip')"
      ],
      "execution_count": 0,
      "outputs": []
    },
    {
      "cell_type": "code",
      "metadata": {
        "id": "yUWXZ1hAkeAd",
        "colab_type": "code",
        "colab": {
          "base_uri": "https://localhost:8080/",
          "height": 265
        },
        "outputId": "4bcff53a-6a0b-4be3-fdb4-39198d789f45"
      },
      "source": [
        "drive_df.head(3)"
      ],
      "execution_count": 6,
      "outputs": [
        {
          "output_type": "execute_result",
          "data": {
            "text/html": [
              "<div>\n",
              "<style scoped>\n",
              "    .dataframe tbody tr th:only-of-type {\n",
              "        vertical-align: middle;\n",
              "    }\n",
              "\n",
              "    .dataframe tbody tr th {\n",
              "        vertical-align: top;\n",
              "    }\n",
              "\n",
              "    .dataframe thead th {\n",
              "        text-align: right;\n",
              "    }\n",
              "</style>\n",
              "<table border=\"1\" class=\"dataframe\">\n",
              "  <thead>\n",
              "    <tr style=\"text-align: right;\">\n",
              "      <th></th>\n",
              "      <th>vehicle_id</th>\n",
              "      <th>trip_id</th>\n",
              "      <th>datetime</th>\n",
              "      <th>velocity</th>\n",
              "      <th>accel_x</th>\n",
              "      <th>accel_y</th>\n",
              "      <th>accel_z</th>\n",
              "      <th>engine_coolant_temp</th>\n",
              "      <th>eng_load</th>\n",
              "      <th>fuel_level</th>\n",
              "      <th>iat</th>\n",
              "      <th>rpm</th>\n",
              "    </tr>\n",
              "  </thead>\n",
              "  <tbody>\n",
              "    <tr>\n",
              "      <th>0</th>\n",
              "      <td>1000517</td>\n",
              "      <td>e117220c8b15455f800a4b5b0c4c52a7</td>\n",
              "      <td>2017-01-27 12:00:00</td>\n",
              "      <td>0.00</td>\n",
              "      <td>48.0</td>\n",
              "      <td>76.22</td>\n",
              "      <td>78.92</td>\n",
              "      <td>97.0</td>\n",
              "      <td>223.21</td>\n",
              "      <td>170.91</td>\n",
              "      <td>88.0</td>\n",
              "      <td>2066.48</td>\n",
              "    </tr>\n",
              "    <tr>\n",
              "      <th>1</th>\n",
              "      <td>1000517</td>\n",
              "      <td>e117220c8b15455f800a4b5b0c4c52a7</td>\n",
              "      <td>2017-01-27 12:00:01</td>\n",
              "      <td>44.52</td>\n",
              "      <td>55.0</td>\n",
              "      <td>75.44</td>\n",
              "      <td>83.57</td>\n",
              "      <td>93.0</td>\n",
              "      <td>211.91</td>\n",
              "      <td>167.83</td>\n",
              "      <td>75.0</td>\n",
              "      <td>2057.53</td>\n",
              "    </tr>\n",
              "    <tr>\n",
              "      <th>2</th>\n",
              "      <td>1000517</td>\n",
              "      <td>e117220c8b15455f800a4b5b0c4c52a7</td>\n",
              "      <td>2017-01-27 12:00:02</td>\n",
              "      <td>60.93</td>\n",
              "      <td>49.0</td>\n",
              "      <td>68.18</td>\n",
              "      <td>83.03</td>\n",
              "      <td>99.0</td>\n",
              "      <td>224.20</td>\n",
              "      <td>177.68</td>\n",
              "      <td>94.0</td>\n",
              "      <td>2046.12</td>\n",
              "    </tr>\n",
              "  </tbody>\n",
              "</table>\n",
              "</div>"
            ],
            "text/plain": [
              "   vehicle_id                           trip_id  ...   iat      rpm\n",
              "0     1000517  e117220c8b15455f800a4b5b0c4c52a7  ...  88.0  2066.48\n",
              "1     1000517  e117220c8b15455f800a4b5b0c4c52a7  ...  75.0  2057.53\n",
              "2     1000517  e117220c8b15455f800a4b5b0c4c52a7  ...  94.0  2046.12\n",
              "\n",
              "[3 rows x 12 columns]"
            ]
          },
          "metadata": {
            "tags": []
          },
          "execution_count": 6
        }
      ]
    },
    {
      "cell_type": "code",
      "metadata": {
        "id": "rCywitpcdIQd",
        "colab_type": "code",
        "colab": {
          "base_uri": "https://localhost:8080/",
          "height": 35
        },
        "outputId": "0e2c3a78-ea1d-49ac-b9cc-df5cfe1093e6"
      },
      "source": [
        "drive_df.shape"
      ],
      "execution_count": 7,
      "outputs": [
        {
          "output_type": "execute_result",
          "data": {
            "text/plain": [
              "(9217528, 12)"
            ]
          },
          "metadata": {
            "tags": []
          },
          "execution_count": 7
        }
      ]
    },
    {
      "cell_type": "code",
      "metadata": {
        "id": "cQJmq1RzjxFf",
        "colab_type": "code",
        "colab": {}
      },
      "source": [
        "trip_df = pd.read_csv('/content/drive/My Drive/AV_data/Quantum_Black_5th_July_2019/trip_csv_file.zip')"
      ],
      "execution_count": 0,
      "outputs": []
    },
    {
      "cell_type": "code",
      "metadata": {
        "id": "KzuIEkgKkik4",
        "colab_type": "code",
        "colab": {
          "base_uri": "https://localhost:8080/",
          "height": 141
        },
        "outputId": "c0dcf9f2-bd0c-4487-f169-e68bb7193165"
      },
      "source": [
        "trip_df.head(3)"
      ],
      "execution_count": 9,
      "outputs": [
        {
          "output_type": "execute_result",
          "data": {
            "text/html": [
              "<div>\n",
              "<style scoped>\n",
              "    .dataframe tbody tr th:only-of-type {\n",
              "        vertical-align: middle;\n",
              "    }\n",
              "\n",
              "    .dataframe tbody tr th {\n",
              "        vertical-align: top;\n",
              "    }\n",
              "\n",
              "    .dataframe thead th {\n",
              "        text-align: right;\n",
              "    }\n",
              "</style>\n",
              "<table border=\"1\" class=\"dataframe\">\n",
              "  <thead>\n",
              "    <tr style=\"text-align: right;\">\n",
              "      <th></th>\n",
              "      <th>vehicle_id</th>\n",
              "      <th>trip_id</th>\n",
              "      <th>datetime</th>\n",
              "      <th>lat</th>\n",
              "      <th>long</th>\n",
              "      <th>velocity</th>\n",
              "    </tr>\n",
              "  </thead>\n",
              "  <tbody>\n",
              "    <tr>\n",
              "      <th>0</th>\n",
              "      <td>1000516</td>\n",
              "      <td>2e2a9936393a424abf4dea3943c83040</td>\n",
              "      <td>2017-01-01 07:00:00</td>\n",
              "      <td>31.4375</td>\n",
              "      <td>-85.437500</td>\n",
              "      <td>0.00</td>\n",
              "    </tr>\n",
              "    <tr>\n",
              "      <th>1</th>\n",
              "      <td>1000516</td>\n",
              "      <td>2e2a9936393a424abf4dea3943c83040</td>\n",
              "      <td>2017-01-01 07:00:01</td>\n",
              "      <td>31.4375</td>\n",
              "      <td>-85.437222</td>\n",
              "      <td>63.41</td>\n",
              "    </tr>\n",
              "    <tr>\n",
              "      <th>2</th>\n",
              "      <td>1000516</td>\n",
              "      <td>2e2a9936393a424abf4dea3943c83040</td>\n",
              "      <td>2017-01-01 07:00:02</td>\n",
              "      <td>31.4375</td>\n",
              "      <td>-85.436944</td>\n",
              "      <td>90.37</td>\n",
              "    </tr>\n",
              "  </tbody>\n",
              "</table>\n",
              "</div>"
            ],
            "text/plain": [
              "   vehicle_id                           trip_id  ...       long  velocity\n",
              "0     1000516  2e2a9936393a424abf4dea3943c83040  ... -85.437500      0.00\n",
              "1     1000516  2e2a9936393a424abf4dea3943c83040  ... -85.437222     63.41\n",
              "2     1000516  2e2a9936393a424abf4dea3943c83040  ... -85.436944     90.37\n",
              "\n",
              "[3 rows x 6 columns]"
            ]
          },
          "metadata": {
            "tags": []
          },
          "execution_count": 9
        }
      ]
    },
    {
      "cell_type": "code",
      "metadata": {
        "id": "fMxvlqs0kXY6",
        "colab_type": "code",
        "colab": {}
      },
      "source": [
        "vehicle_df = pd.read_csv('/content/drive/My Drive/AV_data/Quantum_Black_5th_July_2019/vehicle.csv')"
      ],
      "execution_count": 0,
      "outputs": []
    },
    {
      "cell_type": "code",
      "metadata": {
        "id": "AE03SBztkgnt",
        "colab_type": "code",
        "colab": {
          "base_uri": "https://localhost:8080/",
          "height": 161
        },
        "outputId": "9d0764f0-2f78-48d2-8a97-63ed85f9ff9b"
      },
      "source": [
        "vehicle_df.head(3)"
      ],
      "execution_count": 11,
      "outputs": [
        {
          "output_type": "execute_result",
          "data": {
            "text/html": [
              "<div>\n",
              "<style scoped>\n",
              "    .dataframe tbody tr th:only-of-type {\n",
              "        vertical-align: middle;\n",
              "    }\n",
              "\n",
              "    .dataframe tbody tr th {\n",
              "        vertical-align: top;\n",
              "    }\n",
              "\n",
              "    .dataframe thead th {\n",
              "        text-align: right;\n",
              "    }\n",
              "</style>\n",
              "<table border=\"1\" class=\"dataframe\">\n",
              "  <thead>\n",
              "    <tr style=\"text-align: right;\">\n",
              "      <th></th>\n",
              "      <th>vehicle_id</th>\n",
              "      <th>year</th>\n",
              "      <th>make</th>\n",
              "      <th>Model</th>\n",
              "      <th>drivetrain</th>\n",
              "      <th>max_torque</th>\n",
              "      <th>max_horsepower</th>\n",
              "      <th>max_horsepower_rpm</th>\n",
              "      <th>max_torque_rpm</th>\n",
              "      <th>engine_displacement</th>\n",
              "      <th>fuel_type</th>\n",
              "      <th>fuel_tank_capacity</th>\n",
              "      <th>fuel_economy_city</th>\n",
              "      <th>fuel_economy_highway</th>\n",
              "      <th>cylinders</th>\n",
              "      <th>forced_induction</th>\n",
              "      <th>device_generation</th>\n",
              "    </tr>\n",
              "  </thead>\n",
              "  <tbody>\n",
              "    <tr>\n",
              "      <th>0</th>\n",
              "      <td>1000500</td>\n",
              "      <td>2016</td>\n",
              "      <td>Honda</td>\n",
              "      <td>Civic</td>\n",
              "      <td>2</td>\n",
              "      <td>174</td>\n",
              "      <td>140</td>\n",
              "      <td>6500</td>\n",
              "      <td>1500</td>\n",
              "      <td>1.799</td>\n",
              "      <td>1059</td>\n",
              "      <td>47</td>\n",
              "      <td>16.50</td>\n",
              "      <td>20.0</td>\n",
              "      <td>4</td>\n",
              "      <td>1054.0</td>\n",
              "      <td>5</td>\n",
              "    </tr>\n",
              "    <tr>\n",
              "      <th>1</th>\n",
              "      <td>1000501</td>\n",
              "      <td>2016</td>\n",
              "      <td>Jeep</td>\n",
              "      <td>Compass</td>\n",
              "      <td>4</td>\n",
              "      <td>350</td>\n",
              "      <td>171</td>\n",
              "      <td>3750</td>\n",
              "      <td>1250</td>\n",
              "      <td>1.956</td>\n",
              "      <td>1059</td>\n",
              "      <td>60</td>\n",
              "      <td>17.10</td>\n",
              "      <td>21.2</td>\n",
              "      <td>3</td>\n",
              "      <td>NaN</td>\n",
              "      <td>4</td>\n",
              "    </tr>\n",
              "    <tr>\n",
              "      <th>2</th>\n",
              "      <td>1000502</td>\n",
              "      <td>2016</td>\n",
              "      <td>Hyundai</td>\n",
              "      <td>Creta</td>\n",
              "      <td>2</td>\n",
              "      <td>260</td>\n",
              "      <td>126</td>\n",
              "      <td>4000</td>\n",
              "      <td>1500</td>\n",
              "      <td>1.582</td>\n",
              "      <td>1059</td>\n",
              "      <td>55</td>\n",
              "      <td>19.67</td>\n",
              "      <td>24.1</td>\n",
              "      <td>4</td>\n",
              "      <td>1054.0</td>\n",
              "      <td>3</td>\n",
              "    </tr>\n",
              "  </tbody>\n",
              "</table>\n",
              "</div>"
            ],
            "text/plain": [
              "   vehicle_id  year     make  ... cylinders  forced_induction  device_generation\n",
              "0     1000500  2016    Honda  ...         4            1054.0                  5\n",
              "1     1000501  2016     Jeep  ...         3               NaN                  4\n",
              "2     1000502  2016  Hyundai  ...         4            1054.0                  3\n",
              "\n",
              "[3 rows x 17 columns]"
            ]
          },
          "metadata": {
            "tags": []
          },
          "execution_count": 11
        }
      ]
    },
    {
      "cell_type": "code",
      "metadata": {
        "id": "cdlueSrtkmJ0",
        "colab_type": "code",
        "colab": {}
      },
      "source": [
        "weather_df = pd.read_csv('/content/drive/My Drive/AV_data/Quantum_Black_5th_July_2019/weather_csv_file.zip')"
      ],
      "execution_count": 0,
      "outputs": []
    },
    {
      "cell_type": "code",
      "metadata": {
        "id": "6Y0FPfT1kuBh",
        "colab_type": "code",
        "colab": {
          "base_uri": "https://localhost:8080/",
          "height": 213
        },
        "outputId": "865d404d-1ca5-4dfd-dcb8-05614ee6acbd"
      },
      "source": [
        "weather_df.head(3)"
      ],
      "execution_count": 13,
      "outputs": [
        {
          "output_type": "execute_result",
          "data": {
            "text/html": [
              "<div>\n",
              "<style scoped>\n",
              "    .dataframe tbody tr th:only-of-type {\n",
              "        vertical-align: middle;\n",
              "    }\n",
              "\n",
              "    .dataframe tbody tr th {\n",
              "        vertical-align: top;\n",
              "    }\n",
              "\n",
              "    .dataframe thead th {\n",
              "        text-align: right;\n",
              "    }\n",
              "</style>\n",
              "<table border=\"1\" class=\"dataframe\">\n",
              "  <thead>\n",
              "    <tr style=\"text-align: right;\">\n",
              "      <th></th>\n",
              "      <th>x</th>\n",
              "      <th>y</th>\n",
              "      <th>date</th>\n",
              "      <th>time</th>\n",
              "      <th>lat</th>\n",
              "      <th>lon</th>\n",
              "      <th>temperature_data</th>\n",
              "      <th>temperature_unit</th>\n",
              "      <th>precipitation_data</th>\n",
              "      <th>precipitation_unit</th>\n",
              "      <th>wind_ew_data</th>\n",
              "      <th>wind_ew_unit</th>\n",
              "      <th>wind_ns_data</th>\n",
              "      <th>wind_ns_unit</th>\n",
              "    </tr>\n",
              "  </thead>\n",
              "  <tbody>\n",
              "    <tr>\n",
              "      <th>0</th>\n",
              "      <td>127</td>\n",
              "      <td>39</td>\n",
              "      <td>2017-02-25</td>\n",
              "      <td>11Z</td>\n",
              "      <td>29.9375</td>\n",
              "      <td>-109.0625</td>\n",
              "      <td>278.38</td>\n",
              "      <td>k</td>\n",
              "      <td>0.0</td>\n",
              "      <td>kg/m^2</td>\n",
              "      <td>-1.07</td>\n",
              "      <td>m/s</td>\n",
              "      <td>-0.47</td>\n",
              "      <td>m/s</td>\n",
              "    </tr>\n",
              "    <tr>\n",
              "      <th>1</th>\n",
              "      <td>192</td>\n",
              "      <td>51</td>\n",
              "      <td>2017-01-02</td>\n",
              "      <td>18Z</td>\n",
              "      <td>31.4375</td>\n",
              "      <td>-100.9375</td>\n",
              "      <td>289.84</td>\n",
              "      <td>k</td>\n",
              "      <td>0.0</td>\n",
              "      <td>kg/m^2</td>\n",
              "      <td>5.74</td>\n",
              "      <td>m/s</td>\n",
              "      <td>-0.68</td>\n",
              "      <td>m/s</td>\n",
              "    </tr>\n",
              "    <tr>\n",
              "      <th>2</th>\n",
              "      <td>254</td>\n",
              "      <td>48</td>\n",
              "      <td>2017-02-23</td>\n",
              "      <td>19Z</td>\n",
              "      <td>31.0625</td>\n",
              "      <td>-93.1875</td>\n",
              "      <td>298.24</td>\n",
              "      <td>k</td>\n",
              "      <td>0.0</td>\n",
              "      <td>kg/m^2</td>\n",
              "      <td>-1.47</td>\n",
              "      <td>m/s</td>\n",
              "      <td>5.61</td>\n",
              "      <td>m/s</td>\n",
              "    </tr>\n",
              "  </tbody>\n",
              "</table>\n",
              "</div>"
            ],
            "text/plain": [
              "     x   y        date  ... wind_ew_unit  wind_ns_data  wind_ns_unit\n",
              "0  127  39  2017-02-25  ...          m/s         -0.47           m/s\n",
              "1  192  51  2017-01-02  ...          m/s         -0.68           m/s\n",
              "2  254  48  2017-02-23  ...          m/s          5.61           m/s\n",
              "\n",
              "[3 rows x 14 columns]"
            ]
          },
          "metadata": {
            "tags": []
          },
          "execution_count": 13
        }
      ]
    },
    {
      "cell_type": "markdown",
      "metadata": {
        "id": "Umr-AMWnNqGT",
        "colab_type": "text"
      },
      "source": [
        "#### Prepare the Drive Data and Vehicle Data (Combined)"
      ]
    },
    {
      "cell_type": "code",
      "metadata": {
        "id": "ZX3jlULOP2sX",
        "colab_type": "code",
        "colab": {
          "base_uri": "https://localhost:8080/",
          "height": 52
        },
        "outputId": "a0886798-898b-4cb4-cd97-b75bc50e6513"
      },
      "source": [
        "print(drive_df.shape)\n",
        "print(vehicle_df.shape)"
      ],
      "execution_count": 14,
      "outputs": [
        {
          "output_type": "stream",
          "text": [
            "(9217528, 12)\n",
            "(7, 17)\n"
          ],
          "name": "stdout"
        }
      ]
    },
    {
      "cell_type": "code",
      "metadata": {
        "id": "uugyssqyUX49",
        "colab_type": "code",
        "colab": {
          "base_uri": "https://localhost:8080/",
          "height": 69
        },
        "outputId": "e254a4da-7a1e-42be-fb7d-cd2c558cf62a"
      },
      "source": [
        "#identify the vehicleIds intersection\n",
        "\n",
        "drive_df_vehicles = np.array(drive_df['vehicle_id'].unique().tolist())\n",
        "drive_df_vehicles\n",
        "\n",
        "print('The total number of vehicle_id from drive_df are :', drive_df_vehicles.size)\n",
        "\n",
        "drive_df_vehicles = np.array(vehicle_df['vehicle_id'].unique().tolist())\n",
        "drive_df_vehicles\n",
        "print('The total number of  vehicle_ids from Vehicle dataframe are :', drive_df_vehicles.size)\n",
        "\n",
        "## Get the common vehicles between train and test\n",
        "common_vehicles = (np.intersect1d(drive_df_vehicles, drive_df_vehicles))\n",
        "print('The total number of common vehicles are :',common_vehicles.size)"
      ],
      "execution_count": 15,
      "outputs": [
        {
          "output_type": "stream",
          "text": [
            "The total number of vehicle_id from drive_df are : 20\n",
            "The total number of  vehicle_ids from Vehicle dataframe are : 7\n",
            "The total number of common vehicles are : 7\n"
          ],
          "name": "stdout"
        }
      ]
    },
    {
      "cell_type": "code",
      "metadata": {
        "id": "qilTdlo4PgUG",
        "colab_type": "code",
        "colab": {}
      },
      "source": [
        "drive_vehcile_df = pd.merge(drive_df, vehicle_df, on='vehicle_id',how='left')"
      ],
      "execution_count": 0,
      "outputs": []
    },
    {
      "cell_type": "code",
      "metadata": {
        "id": "cx-S1fxuaIUd",
        "colab_type": "code",
        "colab": {}
      },
      "source": [
        "# fill all values with NA as 0\n",
        "\n",
        "drive_vehcile_df = drive_vehcile_df.fillna(0)"
      ],
      "execution_count": 0,
      "outputs": []
    },
    {
      "cell_type": "markdown",
      "metadata": {
        "id": "df_jiumeSNN-",
        "colab_type": "text"
      },
      "source": [
        "**Hints:**\n",
        "\n",
        "Convert timezone to PST before any calculations\n",
        "All vehicles from drive data should be in the final output even if you do not have specifications (Fill with 0 if specs are not given)\n",
        "Active horsepower - Engine load / 255 * Max Torque * RPM / 5252\n",
        "Horsepower utilization – Active horsepower / Max Horsepower\n",
        "Torque Utilization - calculated as Engine load/ 255\n",
        "RPM Utilization – RPM / Maximum horsepower rpm"
      ]
    },
    {
      "cell_type": "code",
      "metadata": {
        "id": "jjhQ3N3lUFfP",
        "colab_type": "code",
        "colab": {
          "base_uri": "https://localhost:8080/",
          "height": 265
        },
        "outputId": "2a7c31ab-dcc4-4243-bba4-606ad01aa519"
      },
      "source": [
        "drive_vehcile_df.tail(3)"
      ],
      "execution_count": 18,
      "outputs": [
        {
          "output_type": "execute_result",
          "data": {
            "text/html": [
              "<div>\n",
              "<style scoped>\n",
              "    .dataframe tbody tr th:only-of-type {\n",
              "        vertical-align: middle;\n",
              "    }\n",
              "\n",
              "    .dataframe tbody tr th {\n",
              "        vertical-align: top;\n",
              "    }\n",
              "\n",
              "    .dataframe thead th {\n",
              "        text-align: right;\n",
              "    }\n",
              "</style>\n",
              "<table border=\"1\" class=\"dataframe\">\n",
              "  <thead>\n",
              "    <tr style=\"text-align: right;\">\n",
              "      <th></th>\n",
              "      <th>vehicle_id</th>\n",
              "      <th>trip_id</th>\n",
              "      <th>datetime</th>\n",
              "      <th>velocity</th>\n",
              "      <th>accel_x</th>\n",
              "      <th>accel_y</th>\n",
              "      <th>accel_z</th>\n",
              "      <th>engine_coolant_temp</th>\n",
              "      <th>eng_load</th>\n",
              "      <th>fuel_level</th>\n",
              "      <th>iat</th>\n",
              "      <th>rpm</th>\n",
              "      <th>year</th>\n",
              "      <th>make</th>\n",
              "      <th>Model</th>\n",
              "      <th>drivetrain</th>\n",
              "      <th>max_torque</th>\n",
              "      <th>max_horsepower</th>\n",
              "      <th>max_horsepower_rpm</th>\n",
              "      <th>max_torque_rpm</th>\n",
              "      <th>engine_displacement</th>\n",
              "      <th>fuel_type</th>\n",
              "      <th>fuel_tank_capacity</th>\n",
              "      <th>fuel_economy_city</th>\n",
              "      <th>fuel_economy_highway</th>\n",
              "      <th>cylinders</th>\n",
              "      <th>forced_induction</th>\n",
              "      <th>device_generation</th>\n",
              "    </tr>\n",
              "  </thead>\n",
              "  <tbody>\n",
              "    <tr>\n",
              "      <th>9217525</th>\n",
              "      <td>1000519</td>\n",
              "      <td>4c4cf7c4219948f49d21a9394583c426</td>\n",
              "      <td>2017-01-03 03:21:33</td>\n",
              "      <td>74.27</td>\n",
              "      <td>85.56</td>\n",
              "      <td>81.22</td>\n",
              "      <td>79.87</td>\n",
              "      <td>98.0</td>\n",
              "      <td>205.84</td>\n",
              "      <td>100.74</td>\n",
              "      <td>98.26</td>\n",
              "      <td>1998.69</td>\n",
              "      <td>0.0</td>\n",
              "      <td>0</td>\n",
              "      <td>0</td>\n",
              "      <td>0.0</td>\n",
              "      <td>0.0</td>\n",
              "      <td>0.0</td>\n",
              "      <td>0.0</td>\n",
              "      <td>0.0</td>\n",
              "      <td>0.0</td>\n",
              "      <td>0.0</td>\n",
              "      <td>0.0</td>\n",
              "      <td>0.0</td>\n",
              "      <td>0.0</td>\n",
              "      <td>0.0</td>\n",
              "      <td>0.0</td>\n",
              "      <td>0.0</td>\n",
              "    </tr>\n",
              "    <tr>\n",
              "      <th>9217526</th>\n",
              "      <td>1000519</td>\n",
              "      <td>4c4cf7c4219948f49d21a9394583c426</td>\n",
              "      <td>2017-01-03 03:21:34</td>\n",
              "      <td>20.00</td>\n",
              "      <td>96.99</td>\n",
              "      <td>92.37</td>\n",
              "      <td>80.73</td>\n",
              "      <td>88.0</td>\n",
              "      <td>204.10</td>\n",
              "      <td>92.88</td>\n",
              "      <td>102.06</td>\n",
              "      <td>2004.99</td>\n",
              "      <td>0.0</td>\n",
              "      <td>0</td>\n",
              "      <td>0</td>\n",
              "      <td>0.0</td>\n",
              "      <td>0.0</td>\n",
              "      <td>0.0</td>\n",
              "      <td>0.0</td>\n",
              "      <td>0.0</td>\n",
              "      <td>0.0</td>\n",
              "      <td>0.0</td>\n",
              "      <td>0.0</td>\n",
              "      <td>0.0</td>\n",
              "      <td>0.0</td>\n",
              "      <td>0.0</td>\n",
              "      <td>0.0</td>\n",
              "      <td>0.0</td>\n",
              "    </tr>\n",
              "    <tr>\n",
              "      <th>9217527</th>\n",
              "      <td>1000519</td>\n",
              "      <td>4c4cf7c4219948f49d21a9394583c426</td>\n",
              "      <td>2017-01-03 03:21:35</td>\n",
              "      <td>0.00</td>\n",
              "      <td>93.33</td>\n",
              "      <td>84.64</td>\n",
              "      <td>77.46</td>\n",
              "      <td>90.0</td>\n",
              "      <td>221.13</td>\n",
              "      <td>99.28</td>\n",
              "      <td>99.52</td>\n",
              "      <td>1998.28</td>\n",
              "      <td>0.0</td>\n",
              "      <td>0</td>\n",
              "      <td>0</td>\n",
              "      <td>0.0</td>\n",
              "      <td>0.0</td>\n",
              "      <td>0.0</td>\n",
              "      <td>0.0</td>\n",
              "      <td>0.0</td>\n",
              "      <td>0.0</td>\n",
              "      <td>0.0</td>\n",
              "      <td>0.0</td>\n",
              "      <td>0.0</td>\n",
              "      <td>0.0</td>\n",
              "      <td>0.0</td>\n",
              "      <td>0.0</td>\n",
              "      <td>0.0</td>\n",
              "    </tr>\n",
              "  </tbody>\n",
              "</table>\n",
              "</div>"
            ],
            "text/plain": [
              "         vehicle_id  ... device_generation\n",
              "9217525     1000519  ...               0.0\n",
              "9217526     1000519  ...               0.0\n",
              "9217527     1000519  ...               0.0\n",
              "\n",
              "[3 rows x 28 columns]"
            ]
          },
          "metadata": {
            "tags": []
          },
          "execution_count": 18
        }
      ]
    },
    {
      "cell_type": "code",
      "metadata": {
        "id": "RJDqzBXZUODM",
        "colab_type": "code",
        "colab": {
          "base_uri": "https://localhost:8080/",
          "height": 520
        },
        "outputId": "7f6f28e0-0b0a-40a2-83ef-eb70aa0b5ddb"
      },
      "source": [
        "drive_vehcile_df.isnull().sum()"
      ],
      "execution_count": 19,
      "outputs": [
        {
          "output_type": "execute_result",
          "data": {
            "text/plain": [
              "vehicle_id              0\n",
              "trip_id                 0\n",
              "datetime                0\n",
              "velocity                0\n",
              "accel_x                 0\n",
              "accel_y                 0\n",
              "accel_z                 0\n",
              "engine_coolant_temp     0\n",
              "eng_load                0\n",
              "fuel_level              0\n",
              "iat                     0\n",
              "rpm                     0\n",
              "year                    0\n",
              "make                    0\n",
              "Model                   0\n",
              "drivetrain              0\n",
              "max_torque              0\n",
              "max_horsepower          0\n",
              "max_horsepower_rpm      0\n",
              "max_torque_rpm          0\n",
              "engine_displacement     0\n",
              "fuel_type               0\n",
              "fuel_tank_capacity      0\n",
              "fuel_economy_city       0\n",
              "fuel_economy_highway    0\n",
              "cylinders               0\n",
              "forced_induction        0\n",
              "device_generation       0\n",
              "dtype: int64"
            ]
          },
          "metadata": {
            "tags": []
          },
          "execution_count": 19
        }
      ]
    },
    {
      "cell_type": "code",
      "metadata": {
        "id": "IOwb5qb_QLRn",
        "colab_type": "code",
        "colab": {}
      },
      "source": [
        "# Prepare the requried columns\n",
        "drive_vehcile_df['Active_horsepower'] = (drive_vehcile_df['eng_load'] * drive_vehcile_df['max_torque'] * drive_vehcile_df['rpm']) / (255*5252)\n",
        "drive_vehcile_df['HorsePower_Utilization'] = drive_vehcile_df['Active_horsepower'] / drive_vehcile_df['max_horsepower']\n",
        "drive_vehcile_df['Torque_Utilization'] = drive_vehcile_df['eng_load'] /255\n",
        "drive_vehcile_df['RPM_Utilization'] = drive_vehcile_df['rpm'] / drive_vehcile_df['max_horsepower_rpm']"
      ],
      "execution_count": 0,
      "outputs": []
    },
    {
      "cell_type": "code",
      "metadata": {
        "id": "8cKCjQxleNDy",
        "colab_type": "code",
        "colab": {
          "base_uri": "https://localhost:8080/",
          "height": 265
        },
        "outputId": "853ae80f-e9f6-497b-c938-25583427d830"
      },
      "source": [
        "drive_vehcile_df.head(3)"
      ],
      "execution_count": 21,
      "outputs": [
        {
          "output_type": "execute_result",
          "data": {
            "text/html": [
              "<div>\n",
              "<style scoped>\n",
              "    .dataframe tbody tr th:only-of-type {\n",
              "        vertical-align: middle;\n",
              "    }\n",
              "\n",
              "    .dataframe tbody tr th {\n",
              "        vertical-align: top;\n",
              "    }\n",
              "\n",
              "    .dataframe thead th {\n",
              "        text-align: right;\n",
              "    }\n",
              "</style>\n",
              "<table border=\"1\" class=\"dataframe\">\n",
              "  <thead>\n",
              "    <tr style=\"text-align: right;\">\n",
              "      <th></th>\n",
              "      <th>vehicle_id</th>\n",
              "      <th>trip_id</th>\n",
              "      <th>datetime</th>\n",
              "      <th>velocity</th>\n",
              "      <th>accel_x</th>\n",
              "      <th>accel_y</th>\n",
              "      <th>accel_z</th>\n",
              "      <th>engine_coolant_temp</th>\n",
              "      <th>eng_load</th>\n",
              "      <th>fuel_level</th>\n",
              "      <th>iat</th>\n",
              "      <th>rpm</th>\n",
              "      <th>year</th>\n",
              "      <th>make</th>\n",
              "      <th>Model</th>\n",
              "      <th>drivetrain</th>\n",
              "      <th>max_torque</th>\n",
              "      <th>max_horsepower</th>\n",
              "      <th>max_horsepower_rpm</th>\n",
              "      <th>max_torque_rpm</th>\n",
              "      <th>engine_displacement</th>\n",
              "      <th>fuel_type</th>\n",
              "      <th>fuel_tank_capacity</th>\n",
              "      <th>fuel_economy_city</th>\n",
              "      <th>fuel_economy_highway</th>\n",
              "      <th>cylinders</th>\n",
              "      <th>forced_induction</th>\n",
              "      <th>device_generation</th>\n",
              "      <th>Active_horsepower</th>\n",
              "      <th>HorsePower_Utilization</th>\n",
              "      <th>Torque_Utilization</th>\n",
              "      <th>RPM_Utilization</th>\n",
              "    </tr>\n",
              "  </thead>\n",
              "  <tbody>\n",
              "    <tr>\n",
              "      <th>0</th>\n",
              "      <td>1000517</td>\n",
              "      <td>e117220c8b15455f800a4b5b0c4c52a7</td>\n",
              "      <td>2017-01-27 12:00:00</td>\n",
              "      <td>0.00</td>\n",
              "      <td>48.0</td>\n",
              "      <td>76.22</td>\n",
              "      <td>78.92</td>\n",
              "      <td>97.0</td>\n",
              "      <td>223.21</td>\n",
              "      <td>170.91</td>\n",
              "      <td>88.0</td>\n",
              "      <td>2066.48</td>\n",
              "      <td>0.0</td>\n",
              "      <td>0</td>\n",
              "      <td>0</td>\n",
              "      <td>0.0</td>\n",
              "      <td>0.0</td>\n",
              "      <td>0.0</td>\n",
              "      <td>0.0</td>\n",
              "      <td>0.0</td>\n",
              "      <td>0.0</td>\n",
              "      <td>0.0</td>\n",
              "      <td>0.0</td>\n",
              "      <td>0.0</td>\n",
              "      <td>0.0</td>\n",
              "      <td>0.0</td>\n",
              "      <td>0.0</td>\n",
              "      <td>0.0</td>\n",
              "      <td>0.0</td>\n",
              "      <td>NaN</td>\n",
              "      <td>0.875333</td>\n",
              "      <td>inf</td>\n",
              "    </tr>\n",
              "    <tr>\n",
              "      <th>1</th>\n",
              "      <td>1000517</td>\n",
              "      <td>e117220c8b15455f800a4b5b0c4c52a7</td>\n",
              "      <td>2017-01-27 12:00:01</td>\n",
              "      <td>44.52</td>\n",
              "      <td>55.0</td>\n",
              "      <td>75.44</td>\n",
              "      <td>83.57</td>\n",
              "      <td>93.0</td>\n",
              "      <td>211.91</td>\n",
              "      <td>167.83</td>\n",
              "      <td>75.0</td>\n",
              "      <td>2057.53</td>\n",
              "      <td>0.0</td>\n",
              "      <td>0</td>\n",
              "      <td>0</td>\n",
              "      <td>0.0</td>\n",
              "      <td>0.0</td>\n",
              "      <td>0.0</td>\n",
              "      <td>0.0</td>\n",
              "      <td>0.0</td>\n",
              "      <td>0.0</td>\n",
              "      <td>0.0</td>\n",
              "      <td>0.0</td>\n",
              "      <td>0.0</td>\n",
              "      <td>0.0</td>\n",
              "      <td>0.0</td>\n",
              "      <td>0.0</td>\n",
              "      <td>0.0</td>\n",
              "      <td>0.0</td>\n",
              "      <td>NaN</td>\n",
              "      <td>0.831020</td>\n",
              "      <td>inf</td>\n",
              "    </tr>\n",
              "    <tr>\n",
              "      <th>2</th>\n",
              "      <td>1000517</td>\n",
              "      <td>e117220c8b15455f800a4b5b0c4c52a7</td>\n",
              "      <td>2017-01-27 12:00:02</td>\n",
              "      <td>60.93</td>\n",
              "      <td>49.0</td>\n",
              "      <td>68.18</td>\n",
              "      <td>83.03</td>\n",
              "      <td>99.0</td>\n",
              "      <td>224.20</td>\n",
              "      <td>177.68</td>\n",
              "      <td>94.0</td>\n",
              "      <td>2046.12</td>\n",
              "      <td>0.0</td>\n",
              "      <td>0</td>\n",
              "      <td>0</td>\n",
              "      <td>0.0</td>\n",
              "      <td>0.0</td>\n",
              "      <td>0.0</td>\n",
              "      <td>0.0</td>\n",
              "      <td>0.0</td>\n",
              "      <td>0.0</td>\n",
              "      <td>0.0</td>\n",
              "      <td>0.0</td>\n",
              "      <td>0.0</td>\n",
              "      <td>0.0</td>\n",
              "      <td>0.0</td>\n",
              "      <td>0.0</td>\n",
              "      <td>0.0</td>\n",
              "      <td>0.0</td>\n",
              "      <td>NaN</td>\n",
              "      <td>0.879216</td>\n",
              "      <td>inf</td>\n",
              "    </tr>\n",
              "  </tbody>\n",
              "</table>\n",
              "</div>"
            ],
            "text/plain": [
              "   vehicle_id  ... RPM_Utilization\n",
              "0     1000517  ...             inf\n",
              "1     1000517  ...             inf\n",
              "2     1000517  ...             inf\n",
              "\n",
              "[3 rows x 32 columns]"
            ]
          },
          "metadata": {
            "tags": []
          },
          "execution_count": 21
        }
      ]
    },
    {
      "cell_type": "code",
      "metadata": {
        "id": "LYXXN-dEePTU",
        "colab_type": "code",
        "colab": {}
      },
      "source": [
        "# fill all values with NA as 0\n",
        "drive_vehcile_df = drive_vehcile_df.replace([np.inf, -np.inf, np.nan], 0)"
      ],
      "execution_count": 0,
      "outputs": []
    },
    {
      "cell_type": "code",
      "metadata": {
        "id": "hjMW6zjHjtZn",
        "colab_type": "code",
        "colab": {
          "base_uri": "https://localhost:8080/",
          "height": 265
        },
        "outputId": "f9d7b790-f34f-4991-eb70-8af1e3aadb71"
      },
      "source": [
        "drive_vehcile_df.head(3)"
      ],
      "execution_count": 23,
      "outputs": [
        {
          "output_type": "execute_result",
          "data": {
            "text/html": [
              "<div>\n",
              "<style scoped>\n",
              "    .dataframe tbody tr th:only-of-type {\n",
              "        vertical-align: middle;\n",
              "    }\n",
              "\n",
              "    .dataframe tbody tr th {\n",
              "        vertical-align: top;\n",
              "    }\n",
              "\n",
              "    .dataframe thead th {\n",
              "        text-align: right;\n",
              "    }\n",
              "</style>\n",
              "<table border=\"1\" class=\"dataframe\">\n",
              "  <thead>\n",
              "    <tr style=\"text-align: right;\">\n",
              "      <th></th>\n",
              "      <th>vehicle_id</th>\n",
              "      <th>trip_id</th>\n",
              "      <th>datetime</th>\n",
              "      <th>velocity</th>\n",
              "      <th>accel_x</th>\n",
              "      <th>accel_y</th>\n",
              "      <th>accel_z</th>\n",
              "      <th>engine_coolant_temp</th>\n",
              "      <th>eng_load</th>\n",
              "      <th>fuel_level</th>\n",
              "      <th>iat</th>\n",
              "      <th>rpm</th>\n",
              "      <th>year</th>\n",
              "      <th>make</th>\n",
              "      <th>Model</th>\n",
              "      <th>drivetrain</th>\n",
              "      <th>max_torque</th>\n",
              "      <th>max_horsepower</th>\n",
              "      <th>max_horsepower_rpm</th>\n",
              "      <th>max_torque_rpm</th>\n",
              "      <th>engine_displacement</th>\n",
              "      <th>fuel_type</th>\n",
              "      <th>fuel_tank_capacity</th>\n",
              "      <th>fuel_economy_city</th>\n",
              "      <th>fuel_economy_highway</th>\n",
              "      <th>cylinders</th>\n",
              "      <th>forced_induction</th>\n",
              "      <th>device_generation</th>\n",
              "      <th>Active_horsepower</th>\n",
              "      <th>HorsePower_Utilization</th>\n",
              "      <th>Torque_Utilization</th>\n",
              "      <th>RPM_Utilization</th>\n",
              "    </tr>\n",
              "  </thead>\n",
              "  <tbody>\n",
              "    <tr>\n",
              "      <th>0</th>\n",
              "      <td>1000517</td>\n",
              "      <td>e117220c8b15455f800a4b5b0c4c52a7</td>\n",
              "      <td>2017-01-27 12:00:00</td>\n",
              "      <td>0.00</td>\n",
              "      <td>48.0</td>\n",
              "      <td>76.22</td>\n",
              "      <td>78.92</td>\n",
              "      <td>97.0</td>\n",
              "      <td>223.21</td>\n",
              "      <td>170.91</td>\n",
              "      <td>88.0</td>\n",
              "      <td>2066.48</td>\n",
              "      <td>0.0</td>\n",
              "      <td>0</td>\n",
              "      <td>0</td>\n",
              "      <td>0.0</td>\n",
              "      <td>0.0</td>\n",
              "      <td>0.0</td>\n",
              "      <td>0.0</td>\n",
              "      <td>0.0</td>\n",
              "      <td>0.0</td>\n",
              "      <td>0.0</td>\n",
              "      <td>0.0</td>\n",
              "      <td>0.0</td>\n",
              "      <td>0.0</td>\n",
              "      <td>0.0</td>\n",
              "      <td>0.0</td>\n",
              "      <td>0.0</td>\n",
              "      <td>0.0</td>\n",
              "      <td>0.0</td>\n",
              "      <td>0.875333</td>\n",
              "      <td>0.0</td>\n",
              "    </tr>\n",
              "    <tr>\n",
              "      <th>1</th>\n",
              "      <td>1000517</td>\n",
              "      <td>e117220c8b15455f800a4b5b0c4c52a7</td>\n",
              "      <td>2017-01-27 12:00:01</td>\n",
              "      <td>44.52</td>\n",
              "      <td>55.0</td>\n",
              "      <td>75.44</td>\n",
              "      <td>83.57</td>\n",
              "      <td>93.0</td>\n",
              "      <td>211.91</td>\n",
              "      <td>167.83</td>\n",
              "      <td>75.0</td>\n",
              "      <td>2057.53</td>\n",
              "      <td>0.0</td>\n",
              "      <td>0</td>\n",
              "      <td>0</td>\n",
              "      <td>0.0</td>\n",
              "      <td>0.0</td>\n",
              "      <td>0.0</td>\n",
              "      <td>0.0</td>\n",
              "      <td>0.0</td>\n",
              "      <td>0.0</td>\n",
              "      <td>0.0</td>\n",
              "      <td>0.0</td>\n",
              "      <td>0.0</td>\n",
              "      <td>0.0</td>\n",
              "      <td>0.0</td>\n",
              "      <td>0.0</td>\n",
              "      <td>0.0</td>\n",
              "      <td>0.0</td>\n",
              "      <td>0.0</td>\n",
              "      <td>0.831020</td>\n",
              "      <td>0.0</td>\n",
              "    </tr>\n",
              "    <tr>\n",
              "      <th>2</th>\n",
              "      <td>1000517</td>\n",
              "      <td>e117220c8b15455f800a4b5b0c4c52a7</td>\n",
              "      <td>2017-01-27 12:00:02</td>\n",
              "      <td>60.93</td>\n",
              "      <td>49.0</td>\n",
              "      <td>68.18</td>\n",
              "      <td>83.03</td>\n",
              "      <td>99.0</td>\n",
              "      <td>224.20</td>\n",
              "      <td>177.68</td>\n",
              "      <td>94.0</td>\n",
              "      <td>2046.12</td>\n",
              "      <td>0.0</td>\n",
              "      <td>0</td>\n",
              "      <td>0</td>\n",
              "      <td>0.0</td>\n",
              "      <td>0.0</td>\n",
              "      <td>0.0</td>\n",
              "      <td>0.0</td>\n",
              "      <td>0.0</td>\n",
              "      <td>0.0</td>\n",
              "      <td>0.0</td>\n",
              "      <td>0.0</td>\n",
              "      <td>0.0</td>\n",
              "      <td>0.0</td>\n",
              "      <td>0.0</td>\n",
              "      <td>0.0</td>\n",
              "      <td>0.0</td>\n",
              "      <td>0.0</td>\n",
              "      <td>0.0</td>\n",
              "      <td>0.879216</td>\n",
              "      <td>0.0</td>\n",
              "    </tr>\n",
              "  </tbody>\n",
              "</table>\n",
              "</div>"
            ],
            "text/plain": [
              "   vehicle_id  ... RPM_Utilization\n",
              "0     1000517  ...             0.0\n",
              "1     1000517  ...             0.0\n",
              "2     1000517  ...             0.0\n",
              "\n",
              "[3 rows x 32 columns]"
            ]
          },
          "metadata": {
            "tags": []
          },
          "execution_count": 23
        }
      ]
    },
    {
      "cell_type": "code",
      "metadata": {
        "id": "GMKTHRHGknYs",
        "colab_type": "code",
        "colab": {
          "base_uri": "https://localhost:8080/",
          "height": 173
        },
        "outputId": "0144c580-a6cf-45a3-e137-dfb0600fb66e"
      },
      "source": [
        "drive_vehcile_df.columns"
      ],
      "execution_count": 24,
      "outputs": [
        {
          "output_type": "execute_result",
          "data": {
            "text/plain": [
              "Index(['vehicle_id', 'trip_id', 'datetime', 'velocity', 'accel_x', 'accel_y',\n",
              "       'accel_z', 'engine_coolant_temp', 'eng_load', 'fuel_level', 'iat',\n",
              "       'rpm', 'year', 'make', 'Model', 'drivetrain', 'max_torque',\n",
              "       'max_horsepower', 'max_horsepower_rpm', 'max_torque_rpm',\n",
              "       'engine_displacement', 'fuel_type', 'fuel_tank_capacity',\n",
              "       'fuel_economy_city', 'fuel_economy_highway', 'cylinders',\n",
              "       'forced_induction', 'device_generation', 'Active_horsepower',\n",
              "       'HorsePower_Utilization', 'Torque_Utilization', 'RPM_Utilization'],\n",
              "      dtype='object')"
            ]
          },
          "metadata": {
            "tags": []
          },
          "execution_count": 24
        }
      ]
    },
    {
      "cell_type": "code",
      "metadata": {
        "id": "eQyzRbWkkkv9",
        "colab_type": "code",
        "colab": {}
      },
      "source": [
        "drive_vehcile_df_v1 = drive_vehcile_df[['vehicle_id', 'trip_id', 'datetime', \n",
        "                                        \n",
        "       'HorsePower_Utilization', 'Torque_Utilization', 'RPM_Utilization']]"
      ],
      "execution_count": 0,
      "outputs": []
    },
    {
      "cell_type": "code",
      "metadata": {
        "id": "QAyT_UJpqEDQ",
        "colab_type": "code",
        "colab": {}
      },
      "source": [
        "from datetime import datetime, time\n",
        "def convert_datetime(x): \n",
        "  return datetime.strptime(str(x),'%Y-%m-%d %H:%M:%S')  "
      ],
      "execution_count": 0,
      "outputs": []
    },
    {
      "cell_type": "code",
      "metadata": {
        "id": "NdQlAVrRSBWh",
        "colab_type": "code",
        "colab": {}
      },
      "source": [
        "from datetime import datetime\n",
        "from pytz import timezone\n",
        "\n",
        "\n",
        "def convert_date_timezone(x):  \n",
        "  datetime_obj_naive = datetime.strptime(str(x),'%Y-%m-%d %H:%M:%S')\n",
        "  # Right way!\n",
        "  datetime_obj_pacific = datetime_obj_naive.astimezone(timezone('US/Pacific'))\n",
        "  return (datetime_obj_pacific.strftime(\"%Y-%m-%d %H:%M:%S\"))"
      ],
      "execution_count": 0,
      "outputs": []
    },
    {
      "cell_type": "code",
      "metadata": {
        "id": "IW6NZ2iAqK4P",
        "colab_type": "code",
        "colab": {
          "base_uri": "https://localhost:8080/",
          "height": 141
        },
        "outputId": "bb6d25ff-803c-4d7a-c5da-7aef09e61c9e"
      },
      "source": [
        "drive_vehcile_df_v1['datetime'] =  drive_vehcile_df_v1['datetime'].apply(lambda x :convert_date_timezone(x)) "
      ],
      "execution_count": 28,
      "outputs": [
        {
          "output_type": "stream",
          "text": [
            "/usr/local/lib/python3.6/dist-packages/ipykernel_launcher.py:1: SettingWithCopyWarning: \n",
            "A value is trying to be set on a copy of a slice from a DataFrame.\n",
            "Try using .loc[row_indexer,col_indexer] = value instead\n",
            "\n",
            "See the caveats in the documentation: http://pandas.pydata.org/pandas-docs/stable/indexing.html#indexing-view-versus-copy\n",
            "  \"\"\"Entry point for launching an IPython kernel.\n"
          ],
          "name": "stderr"
        }
      ]
    },
    {
      "cell_type": "code",
      "metadata": {
        "id": "FmsKdVmGqW3l",
        "colab_type": "code",
        "colab": {
          "base_uri": "https://localhost:8080/",
          "height": 265
        },
        "outputId": "9fa0aebf-5a9e-42b3-9402-429b2a971452"
      },
      "source": [
        "drive_vehcile_df_v1.tail(3)"
      ],
      "execution_count": 29,
      "outputs": [
        {
          "output_type": "execute_result",
          "data": {
            "text/html": [
              "<div>\n",
              "<style scoped>\n",
              "    .dataframe tbody tr th:only-of-type {\n",
              "        vertical-align: middle;\n",
              "    }\n",
              "\n",
              "    .dataframe tbody tr th {\n",
              "        vertical-align: top;\n",
              "    }\n",
              "\n",
              "    .dataframe thead th {\n",
              "        text-align: right;\n",
              "    }\n",
              "</style>\n",
              "<table border=\"1\" class=\"dataframe\">\n",
              "  <thead>\n",
              "    <tr style=\"text-align: right;\">\n",
              "      <th></th>\n",
              "      <th>vehicle_id</th>\n",
              "      <th>trip_id</th>\n",
              "      <th>datetime</th>\n",
              "      <th>HorsePower_Utilization</th>\n",
              "      <th>Torque_Utilization</th>\n",
              "      <th>RPM_Utilization</th>\n",
              "    </tr>\n",
              "  </thead>\n",
              "  <tbody>\n",
              "    <tr>\n",
              "      <th>9217525</th>\n",
              "      <td>1000519</td>\n",
              "      <td>4c4cf7c4219948f49d21a9394583c426</td>\n",
              "      <td>2017-01-02 19:21:33</td>\n",
              "      <td>0.0</td>\n",
              "      <td>0.807216</td>\n",
              "      <td>0.0</td>\n",
              "    </tr>\n",
              "    <tr>\n",
              "      <th>9217526</th>\n",
              "      <td>1000519</td>\n",
              "      <td>4c4cf7c4219948f49d21a9394583c426</td>\n",
              "      <td>2017-01-02 19:21:34</td>\n",
              "      <td>0.0</td>\n",
              "      <td>0.800392</td>\n",
              "      <td>0.0</td>\n",
              "    </tr>\n",
              "    <tr>\n",
              "      <th>9217527</th>\n",
              "      <td>1000519</td>\n",
              "      <td>4c4cf7c4219948f49d21a9394583c426</td>\n",
              "      <td>2017-01-02 19:21:35</td>\n",
              "      <td>0.0</td>\n",
              "      <td>0.867176</td>\n",
              "      <td>0.0</td>\n",
              "    </tr>\n",
              "  </tbody>\n",
              "</table>\n",
              "</div>"
            ],
            "text/plain": [
              "         vehicle_id  ... RPM_Utilization\n",
              "9217525     1000519  ...             0.0\n",
              "9217526     1000519  ...             0.0\n",
              "9217527     1000519  ...             0.0\n",
              "\n",
              "[3 rows x 6 columns]"
            ]
          },
          "metadata": {
            "tags": []
          },
          "execution_count": 29
        }
      ]
    },
    {
      "cell_type": "code",
      "metadata": {
        "id": "IU-TGfyIrDex",
        "colab_type": "code",
        "colab": {
          "base_uri": "https://localhost:8080/",
          "height": 139
        },
        "outputId": "3439f9fd-fab9-464b-870c-9859853d0408"
      },
      "source": [
        "drive_vehcile_df_v1.dtypes"
      ],
      "execution_count": 30,
      "outputs": [
        {
          "output_type": "execute_result",
          "data": {
            "text/plain": [
              "vehicle_id                  int64\n",
              "trip_id                    object\n",
              "datetime                   object\n",
              "HorsePower_Utilization    float64\n",
              "Torque_Utilization        float64\n",
              "RPM_Utilization           float64\n",
              "dtype: object"
            ]
          },
          "metadata": {
            "tags": []
          },
          "execution_count": 30
        }
      ]
    },
    {
      "cell_type": "code",
      "metadata": {
        "id": "OqxpFYZzxmQi",
        "colab_type": "code",
        "colab": {}
      },
      "source": [
        "from datetime import datetime, timedelta\n",
        "def reduce_hrs_to_pst(x):\n",
        "  date_obj = datetime.strptime(str(x), '%Y-%m-%d %H:%M:%S')\n",
        "  date_obj = date_obj - timedelta(hours=8)\n",
        "  return date_obj"
      ],
      "execution_count": 0,
      "outputs": []
    },
    {
      "cell_type": "code",
      "metadata": {
        "id": "s4UfdOAkrH34",
        "colab_type": "code",
        "colab": {
          "base_uri": "https://localhost:8080/",
          "height": 141
        },
        "outputId": "37c17cd6-5cfe-4f27-e06c-aa65a042f44c"
      },
      "source": [
        "drive_vehcile_df_v1[\"date\"] = pd.to_datetime(drive_vehcile_df_v1[\"datetime\"]).dt.date\n",
        "# drive_vehcile_df_v1[\"time\"] = pd.to_datetime(drive_vehcile_df_v1[\"datetime\"]).dt.time"
      ],
      "execution_count": 32,
      "outputs": [
        {
          "output_type": "stream",
          "text": [
            "/usr/local/lib/python3.6/dist-packages/ipykernel_launcher.py:1: SettingWithCopyWarning: \n",
            "A value is trying to be set on a copy of a slice from a DataFrame.\n",
            "Try using .loc[row_indexer,col_indexer] = value instead\n",
            "\n",
            "See the caveats in the documentation: http://pandas.pydata.org/pandas-docs/stable/indexing.html#indexing-view-versus-copy\n",
            "  \"\"\"Entry point for launching an IPython kernel.\n"
          ],
          "name": "stderr"
        }
      ]
    },
    {
      "cell_type": "code",
      "metadata": {
        "id": "ejp_1-BUTLGu",
        "colab_type": "code",
        "colab": {
          "base_uri": "https://localhost:8080/",
          "height": 156
        },
        "outputId": "6fdef294-03ee-4bfa-8a9a-5d022d70c58b"
      },
      "source": [
        "drive_vehcile_df_v1.dtypes"
      ],
      "execution_count": 33,
      "outputs": [
        {
          "output_type": "execute_result",
          "data": {
            "text/plain": [
              "vehicle_id                  int64\n",
              "trip_id                    object\n",
              "datetime                   object\n",
              "HorsePower_Utilization    float64\n",
              "Torque_Utilization        float64\n",
              "RPM_Utilization           float64\n",
              "date                       object\n",
              "dtype: object"
            ]
          },
          "metadata": {
            "tags": []
          },
          "execution_count": 33
        }
      ]
    },
    {
      "cell_type": "code",
      "metadata": {
        "id": "E-OiAx2wUeLc",
        "colab_type": "code",
        "colab": {}
      },
      "source": [
        "# drive_vehcile_df_v1['datetime'] = pd.to_datetime(drive_vehcile_df_v1['datetime'])"
      ],
      "execution_count": 0,
      "outputs": []
    },
    {
      "cell_type": "code",
      "metadata": {
        "id": "eLcvnHTiUSip",
        "colab_type": "code",
        "colab": {}
      },
      "source": [
        "# drive_vehcile_df_v1['date'] = pd.to_datetime(drive_vehcile_df_v1['date'])"
      ],
      "execution_count": 0,
      "outputs": []
    },
    {
      "cell_type": "code",
      "metadata": {
        "id": "Vf45cTl9AyUF",
        "colab_type": "code",
        "colab": {}
      },
      "source": [
        "# drive_vehcile_df_v1['date'] = pd.to_datetime(drive_vehcile_df_v1['date']) - pd.to_timedelta(7, unit='d')\n",
        "# drive_vehcile_df_v1 = drive_vehcile_df_v1.groupby(['vehicle_id', pd.Grouper(key='date', freq='W-MON')]).sort_values('date')\n",
        "       \n",
        "       "
      ],
      "execution_count": 0,
      "outputs": []
    },
    {
      "cell_type": "code",
      "metadata": {
        "id": "EfDoDF1RVmD4",
        "colab_type": "code",
        "colab": {}
      },
      "source": [
        "# Python's program to get start and end of week \n",
        "from datetime import datetime, timedelta\n",
        "\n",
        "def start_end_datetime(x):  \n",
        "  date_obj = datetime.strptime(str(x), '%Y-%m-%d')\n",
        "  return date_obj - timedelta(days=date_obj.weekday())  # Monday"
      ],
      "execution_count": 0,
      "outputs": []
    },
    {
      "cell_type": "code",
      "metadata": {
        "id": "HMlU79kua6YK",
        "colab_type": "code",
        "colab": {
          "base_uri": "https://localhost:8080/",
          "height": 141
        },
        "outputId": "01f45ba8-13de-4509-ee62-6584bdc0540f"
      },
      "source": [
        "drive_vehcile_df_v1['week_start_date'] = drive_vehcile_df_v1['date'].apply(lambda x:start_end_datetime(x))"
      ],
      "execution_count": 37,
      "outputs": [
        {
          "output_type": "stream",
          "text": [
            "/usr/local/lib/python3.6/dist-packages/ipykernel_launcher.py:1: SettingWithCopyWarning: \n",
            "A value is trying to be set on a copy of a slice from a DataFrame.\n",
            "Try using .loc[row_indexer,col_indexer] = value instead\n",
            "\n",
            "See the caveats in the documentation: http://pandas.pydata.org/pandas-docs/stable/indexing.html#indexing-view-versus-copy\n",
            "  \"\"\"Entry point for launching an IPython kernel.\n"
          ],
          "name": "stderr"
        }
      ]
    },
    {
      "cell_type": "code",
      "metadata": {
        "id": "HeALJ2QC04id",
        "colab_type": "code",
        "colab": {
          "base_uri": "https://localhost:8080/",
          "height": 330
        },
        "outputId": "de527355-d399-49d1-e19a-b45701625c4a"
      },
      "source": [
        "drive_vehcile_df_v1.head(4)"
      ],
      "execution_count": 38,
      "outputs": [
        {
          "output_type": "execute_result",
          "data": {
            "text/html": [
              "<div>\n",
              "<style scoped>\n",
              "    .dataframe tbody tr th:only-of-type {\n",
              "        vertical-align: middle;\n",
              "    }\n",
              "\n",
              "    .dataframe tbody tr th {\n",
              "        vertical-align: top;\n",
              "    }\n",
              "\n",
              "    .dataframe thead th {\n",
              "        text-align: right;\n",
              "    }\n",
              "</style>\n",
              "<table border=\"1\" class=\"dataframe\">\n",
              "  <thead>\n",
              "    <tr style=\"text-align: right;\">\n",
              "      <th></th>\n",
              "      <th>vehicle_id</th>\n",
              "      <th>trip_id</th>\n",
              "      <th>datetime</th>\n",
              "      <th>HorsePower_Utilization</th>\n",
              "      <th>Torque_Utilization</th>\n",
              "      <th>RPM_Utilization</th>\n",
              "      <th>date</th>\n",
              "      <th>week_start_date</th>\n",
              "    </tr>\n",
              "  </thead>\n",
              "  <tbody>\n",
              "    <tr>\n",
              "      <th>0</th>\n",
              "      <td>1000517</td>\n",
              "      <td>e117220c8b15455f800a4b5b0c4c52a7</td>\n",
              "      <td>2017-01-27 04:00:00</td>\n",
              "      <td>0.0</td>\n",
              "      <td>0.875333</td>\n",
              "      <td>0.0</td>\n",
              "      <td>2017-01-27</td>\n",
              "      <td>2017-01-23</td>\n",
              "    </tr>\n",
              "    <tr>\n",
              "      <th>1</th>\n",
              "      <td>1000517</td>\n",
              "      <td>e117220c8b15455f800a4b5b0c4c52a7</td>\n",
              "      <td>2017-01-27 04:00:01</td>\n",
              "      <td>0.0</td>\n",
              "      <td>0.831020</td>\n",
              "      <td>0.0</td>\n",
              "      <td>2017-01-27</td>\n",
              "      <td>2017-01-23</td>\n",
              "    </tr>\n",
              "    <tr>\n",
              "      <th>2</th>\n",
              "      <td>1000517</td>\n",
              "      <td>e117220c8b15455f800a4b5b0c4c52a7</td>\n",
              "      <td>2017-01-27 04:00:02</td>\n",
              "      <td>0.0</td>\n",
              "      <td>0.879216</td>\n",
              "      <td>0.0</td>\n",
              "      <td>2017-01-27</td>\n",
              "      <td>2017-01-23</td>\n",
              "    </tr>\n",
              "    <tr>\n",
              "      <th>3</th>\n",
              "      <td>1000517</td>\n",
              "      <td>e117220c8b15455f800a4b5b0c4c52a7</td>\n",
              "      <td>2017-01-27 04:00:03</td>\n",
              "      <td>0.0</td>\n",
              "      <td>0.869647</td>\n",
              "      <td>0.0</td>\n",
              "      <td>2017-01-27</td>\n",
              "      <td>2017-01-23</td>\n",
              "    </tr>\n",
              "  </tbody>\n",
              "</table>\n",
              "</div>"
            ],
            "text/plain": [
              "   vehicle_id                           trip_id  ...        date  week_start_date\n",
              "0     1000517  e117220c8b15455f800a4b5b0c4c52a7  ...  2017-01-27       2017-01-23\n",
              "1     1000517  e117220c8b15455f800a4b5b0c4c52a7  ...  2017-01-27       2017-01-23\n",
              "2     1000517  e117220c8b15455f800a4b5b0c4c52a7  ...  2017-01-27       2017-01-23\n",
              "3     1000517  e117220c8b15455f800a4b5b0c4c52a7  ...  2017-01-27       2017-01-23\n",
              "\n",
              "[4 rows x 8 columns]"
            ]
          },
          "metadata": {
            "tags": []
          },
          "execution_count": 38
        }
      ]
    },
    {
      "cell_type": "code",
      "metadata": {
        "id": "QECw_0WExpiG",
        "colab_type": "code",
        "colab": {
          "base_uri": "https://localhost:8080/",
          "height": 173
        },
        "outputId": "cd0753eb-f019-4ec3-80e8-69779cdf2b82"
      },
      "source": [
        "drive_vehcile_df_v1.isnull().sum()"
      ],
      "execution_count": 39,
      "outputs": [
        {
          "output_type": "execute_result",
          "data": {
            "text/plain": [
              "vehicle_id                0\n",
              "trip_id                   0\n",
              "datetime                  0\n",
              "HorsePower_Utilization    0\n",
              "Torque_Utilization        0\n",
              "RPM_Utilization           0\n",
              "date                      0\n",
              "week_start_date           0\n",
              "dtype: int64"
            ]
          },
          "metadata": {
            "tags": []
          },
          "execution_count": 39
        }
      ]
    },
    {
      "cell_type": "code",
      "metadata": {
        "id": "iJ7uVBynwXac",
        "colab_type": "code",
        "colab": {}
      },
      "source": [
        "# Filter only few columns - which are required\n",
        "\n",
        "drive_vehcile_df_Filterd = drive_vehcile_df_v1[['vehicle_id', 'week_start_date', 'HorsePower_Utilization',\n",
        "                                                'Torque_Utilization',\n",
        "                                                'RPM_Utilization', 'datetime' ]]\n",
        "del drive_vehcile_df_v1"
      ],
      "execution_count": 0,
      "outputs": []
    },
    {
      "cell_type": "code",
      "metadata": {
        "id": "EfFul6hOgjhd",
        "colab_type": "code",
        "colab": {
          "base_uri": "https://localhost:8080/",
          "height": 35
        },
        "outputId": "a4c4a10b-df2e-4a91-e1b0-42399bfde232"
      },
      "source": [
        "drive_vehcile_df_Filterd.shape"
      ],
      "execution_count": 41,
      "outputs": [
        {
          "output_type": "execute_result",
          "data": {
            "text/plain": [
              "(9217528, 6)"
            ]
          },
          "metadata": {
            "tags": []
          },
          "execution_count": 41
        }
      ]
    },
    {
      "cell_type": "code",
      "metadata": {
        "id": "dq05dyEpYN13",
        "colab_type": "code",
        "colab": {
          "base_uri": "https://localhost:8080/",
          "height": 139
        },
        "outputId": "987846e0-e9e3-4ee0-d2a7-c26b07049adf"
      },
      "source": [
        "drive_vehcile_df_Filterd.dtypes"
      ],
      "execution_count": 42,
      "outputs": [
        {
          "output_type": "execute_result",
          "data": {
            "text/plain": [
              "vehicle_id                         int64\n",
              "week_start_date           datetime64[ns]\n",
              "HorsePower_Utilization           float64\n",
              "Torque_Utilization               float64\n",
              "RPM_Utilization                  float64\n",
              "datetime                          object\n",
              "dtype: object"
            ]
          },
          "metadata": {
            "tags": []
          },
          "execution_count": 42
        }
      ]
    },
    {
      "cell_type": "code",
      "metadata": {
        "id": "R0Qn3BcVYYrT",
        "colab_type": "code",
        "colab": {}
      },
      "source": [
        "drive_vehcile_df_Filterd['week_start_date'] = pd.to_datetime(drive_vehcile_df_Filterd['week_start_date'])\n",
        "drive_vehcile_df_Filterd['datetime'] = pd.to_datetime(drive_vehcile_df_Filterd['datetime'])\n",
        "# drive_vehcile_df_Filterd['date'] = pd.to_datetime(drive_vehcile_df_Filterd['date'])"
      ],
      "execution_count": 0,
      "outputs": []
    },
    {
      "cell_type": "code",
      "metadata": {
        "id": "MElkCJsJYI1A",
        "colab_type": "code",
        "colab": {}
      },
      "source": [
        "drive_vehcile_df_Filterd = drive_vehcile_df_Filterd.sort_values(['vehicle_id', 'week_start_date', 'datetime'], ascending=[True, True, True])"
      ],
      "execution_count": 0,
      "outputs": []
    },
    {
      "cell_type": "code",
      "metadata": {
        "id": "sR70gwFve9ye",
        "colab_type": "code",
        "colab": {}
      },
      "source": [
        "# Transform the data into lists for each of the columns with an unique index column as trip_id\n",
        "drive_vehcile_df_Filt_lst = drive_vehcile_df_Filterd.groupby(['vehicle_id', 'week_start_date']).agg(pd.Series.tolist).reset_index()"
      ],
      "execution_count": 0,
      "outputs": []
    },
    {
      "cell_type": "code",
      "metadata": {
        "id": "9Z3AzNgDdys3",
        "colab_type": "code",
        "colab": {
          "base_uri": "https://localhost:8080/",
          "height": 473
        },
        "outputId": "301713b5-893b-4c79-8d0b-5e515de56f64"
      },
      "source": [
        "drive_vehcile_df_Filt_lst.head(3)"
      ],
      "execution_count": 46,
      "outputs": [
        {
          "output_type": "execute_result",
          "data": {
            "text/html": [
              "<div>\n",
              "<style scoped>\n",
              "    .dataframe tbody tr th:only-of-type {\n",
              "        vertical-align: middle;\n",
              "    }\n",
              "\n",
              "    .dataframe tbody tr th {\n",
              "        vertical-align: top;\n",
              "    }\n",
              "\n",
              "    .dataframe thead th {\n",
              "        text-align: right;\n",
              "    }\n",
              "</style>\n",
              "<table border=\"1\" class=\"dataframe\">\n",
              "  <thead>\n",
              "    <tr style=\"text-align: right;\">\n",
              "      <th></th>\n",
              "      <th>vehicle_id</th>\n",
              "      <th>week_start_date</th>\n",
              "      <th>HorsePower_Utilization</th>\n",
              "      <th>Torque_Utilization</th>\n",
              "      <th>RPM_Utilization</th>\n",
              "      <th>datetime</th>\n",
              "    </tr>\n",
              "  </thead>\n",
              "  <tbody>\n",
              "    <tr>\n",
              "      <th>0</th>\n",
              "      <td>1000500</td>\n",
              "      <td>2016-12-26</td>\n",
              "      <td>[0.3936873357696467, 0.39103472221226654, 0.40...</td>\n",
              "      <td>[0.7705098039215685, 0.7678039215686274, 0.802...</td>\n",
              "      <td>[0.33217230769230766, 0.33109692307692307, 0.3...</td>\n",
              "      <td>[2017-01-01 10:00:00, 2017-01-01 10:00:01, 201...</td>\n",
              "    </tr>\n",
              "    <tr>\n",
              "      <th>1</th>\n",
              "      <td>1000500</td>\n",
              "      <td>2017-01-02</td>\n",
              "      <td>[0.39538272391149915, 0.4068294497974361, 0.41...</td>\n",
              "      <td>[0.8189411764705883, 0.8411372549019608, 0.862...</td>\n",
              "      <td>[0.31387384615384617, 0.3144384615384615, 0.31...</td>\n",
              "      <td>[2017-01-02 05:00:00, 2017-01-02 05:00:01, 201...</td>\n",
              "    </tr>\n",
              "    <tr>\n",
              "      <th>2</th>\n",
              "      <td>1000500</td>\n",
              "      <td>2017-01-09</td>\n",
              "      <td>[0.3906749531831011, 0.38482597518672357, 0.37...</td>\n",
              "      <td>[0.7716078431372548, 0.7564705882352941, 0.746...</td>\n",
              "      <td>[0.3291615384615385, 0.33072153846153846, 0.33...</td>\n",
              "      <td>[2017-01-09 00:00:00, 2017-01-09 00:00:01, 201...</td>\n",
              "    </tr>\n",
              "  </tbody>\n",
              "</table>\n",
              "</div>"
            ],
            "text/plain": [
              "   vehicle_id  ...                                           datetime\n",
              "0     1000500  ...  [2017-01-01 10:00:00, 2017-01-01 10:00:01, 201...\n",
              "1     1000500  ...  [2017-01-02 05:00:00, 2017-01-02 05:00:01, 201...\n",
              "2     1000500  ...  [2017-01-09 00:00:00, 2017-01-09 00:00:01, 201...\n",
              "\n",
              "[3 rows x 6 columns]"
            ]
          },
          "metadata": {
            "tags": []
          },
          "execution_count": 46
        }
      ]
    },
    {
      "cell_type": "markdown",
      "metadata": {
        "id": "7b8YoXmtdf5R",
        "colab_type": "text"
      },
      "source": [
        "#### Other Fields Preparation"
      ]
    },
    {
      "cell_type": "code",
      "metadata": {
        "id": "VFLddHJJ1j__",
        "colab_type": "code",
        "colab": {}
      },
      "source": [
        "def convert_to_seconds(x):\n",
        "  return x.days * 24 * 3600 + x.seconds  "
      ],
      "execution_count": 0,
      "outputs": []
    },
    {
      "cell_type": "code",
      "metadata": {
        "id": "rTvRiVbQ07zB",
        "colab_type": "code",
        "colab": {}
      },
      "source": [
        "def Calculate_Time(arr, timearr):\n",
        "  global minimum_range\n",
        "  global maximum_range\n",
        "  n = 0\n",
        "  nDiffSumofTimes = 0\n",
        "  nTotalTime = 0\n",
        "  datetimelist_updated = [datetime.strptime(str(x),'%Y-%m-%d %H:%M:%S') for x in timearr]\n",
        "  \n",
        "  for i in range(0,len(datetimelist_updated)):\n",
        "    if(arr[i] >= minimum_range and arr[i] < maximum_range and (i-1) >= 0):\n",
        "#       diff_Times = datetimelist_updated[i] - datetimelist_updated[i-1]\n",
        "      nDiffSumofTimes = nDiffSumofTimes + int((datetimelist_updated[i] - datetimelist_updated[i-1]).total_seconds())\n",
        "#       nTotalTime = nTotalTime + int((datetimelist_updated[i] - datetimelist_updated[i-1]).total_seconds()) \n",
        "#       nTotalTime = nTotalTime + (diff_Times.days * 24 * 3600 + diff_Times.seconds) \n",
        "#       nDiffSumofTimes = nDiffSumofTimes + int((datetimelist_updated[i]).total_seconds() - (datetimelist_updated[i-1]).total_seconds())\n",
        "  return nDiffSumofTimes"
      ],
      "execution_count": 0,
      "outputs": []
    },
    {
      "cell_type": "code",
      "metadata": {
        "id": "H_0LHs28y84s",
        "colab_type": "code",
        "colab": {}
      },
      "source": [
        "minimum_range = 0.6\n",
        "maximum_range = 0.7\n",
        "drive_vehcile_df_Filt_lst['ft_torque_util_60pct_s']  = drive_vehcile_df_Filt_lst.apply(lambda row: Calculate_Time(row['Torque_Utilization'], row['datetime']), axis=1)"
      ],
      "execution_count": 0,
      "outputs": []
    },
    {
      "cell_type": "code",
      "metadata": {
        "id": "6A3Mljyl3AWj",
        "colab_type": "code",
        "colab": {
          "base_uri": "https://localhost:8080/",
          "height": 473
        },
        "outputId": "d0da5748-e888-4c05-a60e-47e321bc4402"
      },
      "source": [
        "drive_vehcile_df_Filt_lst.head(3)"
      ],
      "execution_count": 50,
      "outputs": [
        {
          "output_type": "execute_result",
          "data": {
            "text/html": [
              "<div>\n",
              "<style scoped>\n",
              "    .dataframe tbody tr th:only-of-type {\n",
              "        vertical-align: middle;\n",
              "    }\n",
              "\n",
              "    .dataframe tbody tr th {\n",
              "        vertical-align: top;\n",
              "    }\n",
              "\n",
              "    .dataframe thead th {\n",
              "        text-align: right;\n",
              "    }\n",
              "</style>\n",
              "<table border=\"1\" class=\"dataframe\">\n",
              "  <thead>\n",
              "    <tr style=\"text-align: right;\">\n",
              "      <th></th>\n",
              "      <th>vehicle_id</th>\n",
              "      <th>week_start_date</th>\n",
              "      <th>HorsePower_Utilization</th>\n",
              "      <th>Torque_Utilization</th>\n",
              "      <th>RPM_Utilization</th>\n",
              "      <th>datetime</th>\n",
              "      <th>ft_torque_util_60pct_s</th>\n",
              "    </tr>\n",
              "  </thead>\n",
              "  <tbody>\n",
              "    <tr>\n",
              "      <th>0</th>\n",
              "      <td>1000500</td>\n",
              "      <td>2016-12-26</td>\n",
              "      <td>[0.3936873357696467, 0.39103472221226654, 0.40...</td>\n",
              "      <td>[0.7705098039215685, 0.7678039215686274, 0.802...</td>\n",
              "      <td>[0.33217230769230766, 0.33109692307692307, 0.3...</td>\n",
              "      <td>[2017-01-01 10:00:00, 2017-01-01 10:00:01, 201...</td>\n",
              "      <td>0</td>\n",
              "    </tr>\n",
              "    <tr>\n",
              "      <th>1</th>\n",
              "      <td>1000500</td>\n",
              "      <td>2017-01-02</td>\n",
              "      <td>[0.39538272391149915, 0.4068294497974361, 0.41...</td>\n",
              "      <td>[0.8189411764705883, 0.8411372549019608, 0.862...</td>\n",
              "      <td>[0.31387384615384617, 0.3144384615384615, 0.31...</td>\n",
              "      <td>[2017-01-02 05:00:00, 2017-01-02 05:00:01, 201...</td>\n",
              "      <td>163</td>\n",
              "    </tr>\n",
              "    <tr>\n",
              "      <th>2</th>\n",
              "      <td>1000500</td>\n",
              "      <td>2017-01-09</td>\n",
              "      <td>[0.3906749531831011, 0.38482597518672357, 0.37...</td>\n",
              "      <td>[0.7716078431372548, 0.7564705882352941, 0.746...</td>\n",
              "      <td>[0.3291615384615385, 0.33072153846153846, 0.33...</td>\n",
              "      <td>[2017-01-09 00:00:00, 2017-01-09 00:00:01, 201...</td>\n",
              "      <td>37</td>\n",
              "    </tr>\n",
              "  </tbody>\n",
              "</table>\n",
              "</div>"
            ],
            "text/plain": [
              "   vehicle_id  ... ft_torque_util_60pct_s\n",
              "0     1000500  ...                      0\n",
              "1     1000500  ...                    163\n",
              "2     1000500  ...                     37\n",
              "\n",
              "[3 rows x 7 columns]"
            ]
          },
          "metadata": {
            "tags": []
          },
          "execution_count": 50
        }
      ]
    },
    {
      "cell_type": "code",
      "metadata": {
        "id": "pByy-_v63oL1",
        "colab_type": "code",
        "colab": {
          "base_uri": "https://localhost:8080/",
          "height": 35
        },
        "outputId": "bc51d235-7662-4710-dc52-03441b01b3e3"
      },
      "source": [
        "drive_vehcile_df_Filt_lst['ft_torque_util_60pct_s'].min()"
      ],
      "execution_count": 51,
      "outputs": [
        {
          "output_type": "execute_result",
          "data": {
            "text/plain": [
              "0"
            ]
          },
          "metadata": {
            "tags": []
          },
          "execution_count": 51
        }
      ]
    },
    {
      "cell_type": "code",
      "metadata": {
        "id": "tsQ4dxTZ4fmz",
        "colab_type": "code",
        "colab": {}
      },
      "source": [
        "minimum_range = 0.7\n",
        "maximum_range = 0.8\n",
        "drive_vehcile_df_Filt_lst['ft_torque_util_70pct_s']  = drive_vehcile_df_Filt_lst.apply(lambda row: Calculate_Time(row['Torque_Utilization'], row['datetime']), axis=1)"
      ],
      "execution_count": 0,
      "outputs": []
    },
    {
      "cell_type": "code",
      "metadata": {
        "id": "4MKZXFUQ70N-",
        "colab_type": "code",
        "colab": {}
      },
      "source": [
        "minimum_range = 0.8\n",
        "maximum_range = 0.9\n",
        "drive_vehcile_df_Filt_lst['ft_torque_util_80pct_s']  = drive_vehcile_df_Filt_lst.apply(lambda row: Calculate_Time(row['Torque_Utilization'], row['datetime']), axis=1)"
      ],
      "execution_count": 0,
      "outputs": []
    },
    {
      "cell_type": "code",
      "metadata": {
        "id": "rX5oDvPW8_0O",
        "colab_type": "code",
        "colab": {}
      },
      "source": [
        "minimum_range = 0.9\n",
        "maximum_range = 1.0\n",
        "drive_vehcile_df_Filt_lst['ft_torque_util_90pct_s']  = drive_vehcile_df_Filt_lst.apply(lambda row: Calculate_Time(row['Torque_Utilization'], row['datetime']), axis=1)"
      ],
      "execution_count": 0,
      "outputs": []
    },
    {
      "cell_type": "code",
      "metadata": {
        "id": "lHigrf7n9sQf",
        "colab_type": "code",
        "colab": {}
      },
      "source": [
        "minimum_range = 0.5\n",
        "maximum_range = 0.6\n",
        "drive_vehcile_df_Filt_lst['ft_horsepower_util_50pct_s']  = drive_vehcile_df_Filt_lst.apply(lambda row: Calculate_Time(row['HorsePower_Utilization'], row['datetime']), axis=1)"
      ],
      "execution_count": 0,
      "outputs": []
    },
    {
      "cell_type": "code",
      "metadata": {
        "id": "hJhfpJxH95wS",
        "colab_type": "code",
        "colab": {}
      },
      "source": [
        "minimum_range = 0.6\n",
        "maximum_range = 0.7\n",
        "drive_vehcile_df_Filt_lst['ft_horsepower_util_60pct_s']  = drive_vehcile_df_Filt_lst.apply(lambda row: Calculate_Time(row['HorsePower_Utilization'], row['datetime']), axis=1)"
      ],
      "execution_count": 0,
      "outputs": []
    },
    {
      "cell_type": "code",
      "metadata": {
        "id": "Ek9oXCBY-OrX",
        "colab_type": "code",
        "colab": {}
      },
      "source": [
        "minimum_range = 0.7\n",
        "maximum_range = 0.8\n",
        "drive_vehcile_df_Filt_lst['ft_horsepower_util_70pct_s']  = drive_vehcile_df_Filt_lst.apply(lambda row: Calculate_Time(row['HorsePower_Utilization'], row['datetime']), axis=1)"
      ],
      "execution_count": 0,
      "outputs": []
    },
    {
      "cell_type": "code",
      "metadata": {
        "id": "HMR0s9hK-ZgT",
        "colab_type": "code",
        "colab": {}
      },
      "source": [
        "minimum_range = 0.8\n",
        "maximum_range = 0.9\n",
        "drive_vehcile_df_Filt_lst['ft_horsepower_util_80pct_s']  = drive_vehcile_df_Filt_lst.apply(lambda row: Calculate_Time(row['HorsePower_Utilization'], row['datetime']), axis=1)"
      ],
      "execution_count": 0,
      "outputs": []
    },
    {
      "cell_type": "code",
      "metadata": {
        "id": "GE2z97sn-dko",
        "colab_type": "code",
        "colab": {}
      },
      "source": [
        "minimum_range = 0.5\n",
        "maximum_range = 0.6\n",
        "drive_vehcile_df_Filt_lst['ft_rpm_util_50pct_s']  = drive_vehcile_df_Filt_lst.apply(lambda row: Calculate_Time(row['RPM_Utilization'], row['datetime']), axis=1)"
      ],
      "execution_count": 0,
      "outputs": []
    },
    {
      "cell_type": "code",
      "metadata": {
        "id": "Erv-Wz-i-nYg",
        "colab_type": "code",
        "colab": {}
      },
      "source": [
        "minimum_range = 0.6\n",
        "maximum_range = 0.7\n",
        "drive_vehcile_df_Filt_lst['ft_rpm_util_60pct_s']  = drive_vehcile_df_Filt_lst.apply(lambda row: Calculate_Time(row['RPM_Utilization'], row['datetime']), axis=1)"
      ],
      "execution_count": 0,
      "outputs": []
    },
    {
      "cell_type": "code",
      "metadata": {
        "id": "n3WRP5Mt_NKq",
        "colab_type": "code",
        "colab": {
          "base_uri": "https://localhost:8080/",
          "height": 473
        },
        "outputId": "7cbc6ecd-60fa-453e-8cc0-6bd39a4017b3"
      },
      "source": [
        "drive_vehcile_df_Filt_lst.head(3)"
      ],
      "execution_count": 61,
      "outputs": [
        {
          "output_type": "execute_result",
          "data": {
            "text/html": [
              "<div>\n",
              "<style scoped>\n",
              "    .dataframe tbody tr th:only-of-type {\n",
              "        vertical-align: middle;\n",
              "    }\n",
              "\n",
              "    .dataframe tbody tr th {\n",
              "        vertical-align: top;\n",
              "    }\n",
              "\n",
              "    .dataframe thead th {\n",
              "        text-align: right;\n",
              "    }\n",
              "</style>\n",
              "<table border=\"1\" class=\"dataframe\">\n",
              "  <thead>\n",
              "    <tr style=\"text-align: right;\">\n",
              "      <th></th>\n",
              "      <th>vehicle_id</th>\n",
              "      <th>week_start_date</th>\n",
              "      <th>HorsePower_Utilization</th>\n",
              "      <th>Torque_Utilization</th>\n",
              "      <th>RPM_Utilization</th>\n",
              "      <th>datetime</th>\n",
              "      <th>ft_torque_util_60pct_s</th>\n",
              "      <th>ft_torque_util_70pct_s</th>\n",
              "      <th>ft_torque_util_80pct_s</th>\n",
              "      <th>ft_torque_util_90pct_s</th>\n",
              "      <th>ft_horsepower_util_50pct_s</th>\n",
              "      <th>ft_horsepower_util_60pct_s</th>\n",
              "      <th>ft_horsepower_util_70pct_s</th>\n",
              "      <th>ft_horsepower_util_80pct_s</th>\n",
              "      <th>ft_rpm_util_50pct_s</th>\n",
              "      <th>ft_rpm_util_60pct_s</th>\n",
              "    </tr>\n",
              "  </thead>\n",
              "  <tbody>\n",
              "    <tr>\n",
              "      <th>0</th>\n",
              "      <td>1000500</td>\n",
              "      <td>2016-12-26</td>\n",
              "      <td>[0.3936873357696467, 0.39103472221226654, 0.40...</td>\n",
              "      <td>[0.7705098039215685, 0.7678039215686274, 0.802...</td>\n",
              "      <td>[0.33217230769230766, 0.33109692307692307, 0.3...</td>\n",
              "      <td>[2017-01-01 10:00:00, 2017-01-01 10:00:01, 201...</td>\n",
              "      <td>0</td>\n",
              "      <td>6532</td>\n",
              "      <td>28102</td>\n",
              "      <td>6</td>\n",
              "      <td>0</td>\n",
              "      <td>0</td>\n",
              "      <td>0</td>\n",
              "      <td>0</td>\n",
              "      <td>0</td>\n",
              "      <td>0</td>\n",
              "    </tr>\n",
              "    <tr>\n",
              "      <th>1</th>\n",
              "      <td>1000500</td>\n",
              "      <td>2017-01-02</td>\n",
              "      <td>[0.39538272391149915, 0.4068294497974361, 0.41...</td>\n",
              "      <td>[0.8189411764705883, 0.8411372549019608, 0.862...</td>\n",
              "      <td>[0.31387384615384617, 0.3144384615384615, 0.31...</td>\n",
              "      <td>[2017-01-02 05:00:00, 2017-01-02 05:00:01, 201...</td>\n",
              "      <td>163</td>\n",
              "      <td>415813</td>\n",
              "      <td>158965</td>\n",
              "      <td>119</td>\n",
              "      <td>0</td>\n",
              "      <td>0</td>\n",
              "      <td>0</td>\n",
              "      <td>0</td>\n",
              "      <td>0</td>\n",
              "      <td>0</td>\n",
              "    </tr>\n",
              "    <tr>\n",
              "      <th>2</th>\n",
              "      <td>1000500</td>\n",
              "      <td>2017-01-09</td>\n",
              "      <td>[0.3906749531831011, 0.38482597518672357, 0.37...</td>\n",
              "      <td>[0.7716078431372548, 0.7564705882352941, 0.746...</td>\n",
              "      <td>[0.3291615384615385, 0.33072153846153846, 0.33...</td>\n",
              "      <td>[2017-01-09 00:00:00, 2017-01-09 00:00:01, 201...</td>\n",
              "      <td>37</td>\n",
              "      <td>62206</td>\n",
              "      <td>492717</td>\n",
              "      <td>0</td>\n",
              "      <td>0</td>\n",
              "      <td>0</td>\n",
              "      <td>0</td>\n",
              "      <td>0</td>\n",
              "      <td>0</td>\n",
              "      <td>0</td>\n",
              "    </tr>\n",
              "  </tbody>\n",
              "</table>\n",
              "</div>"
            ],
            "text/plain": [
              "   vehicle_id week_start_date  ... ft_rpm_util_50pct_s ft_rpm_util_60pct_s\n",
              "0     1000500      2016-12-26  ...                   0                   0\n",
              "1     1000500      2017-01-02  ...                   0                   0\n",
              "2     1000500      2017-01-09  ...                   0                   0\n",
              "\n",
              "[3 rows x 16 columns]"
            ]
          },
          "metadata": {
            "tags": []
          },
          "execution_count": 61
        }
      ]
    },
    {
      "cell_type": "code",
      "metadata": {
        "id": "gHIQHbOOBx2Y",
        "colab_type": "code",
        "colab": {
          "base_uri": "https://localhost:8080/",
          "height": 156
        },
        "outputId": "db7448a6-c390-4ec9-dd94-ca3e94f38320"
      },
      "source": [
        "drive_vehcile_df_Filt_lst.columns"
      ],
      "execution_count": 62,
      "outputs": [
        {
          "output_type": "execute_result",
          "data": {
            "text/plain": [
              "Index(['vehicle_id', 'week_start_date', 'HorsePower_Utilization',\n",
              "       'Torque_Utilization', 'RPM_Utilization', 'datetime',\n",
              "       'ft_torque_util_60pct_s', 'ft_torque_util_70pct_s',\n",
              "       'ft_torque_util_80pct_s', 'ft_torque_util_90pct_s',\n",
              "       'ft_horsepower_util_50pct_s', 'ft_horsepower_util_60pct_s',\n",
              "       'ft_horsepower_util_70pct_s', 'ft_horsepower_util_80pct_s',\n",
              "       'ft_rpm_util_50pct_s', 'ft_rpm_util_60pct_s'],\n",
              "      dtype='object')"
            ]
          },
          "metadata": {
            "tags": []
          },
          "execution_count": 62
        }
      ]
    },
    {
      "cell_type": "code",
      "metadata": {
        "id": "7cQk0mBg_sYD",
        "colab_type": "code",
        "colab": {}
      },
      "source": [
        "engine_features = drive_vehcile_df_Filt_lst[['vehicle_id', 'week_start_date',\n",
        "                                             'ft_torque_util_60pct_s', 'ft_torque_util_70pct_s',\n",
        "                                          'ft_torque_util_80pct_s', 'ft_torque_util_90pct_s',\n",
        "                                       'ft_horsepower_util_50pct_s', 'ft_horsepower_util_60pct_s',\n",
        "                                      'ft_horsepower_util_70pct_s', 'ft_horsepower_util_80pct_s',\n",
        "                                        'ft_rpm_util_50pct_s', 'ft_rpm_util_60pct_s' ]]"
      ],
      "execution_count": 0,
      "outputs": []
    },
    {
      "cell_type": "code",
      "metadata": {
        "id": "UgC-n8zvCaXR",
        "colab_type": "code",
        "colab": {}
      },
      "source": [
        "engine_features = engine_features.sort_values(['vehicle_id', 'week_start_date'], ascending=[True, True])"
      ],
      "execution_count": 0,
      "outputs": []
    },
    {
      "cell_type": "code",
      "metadata": {
        "id": "1EIzcOh0B-Zj",
        "colab_type": "code",
        "colab": {}
      },
      "source": [
        "engine_features.to_csv('engine_features.csv',index=False)"
      ],
      "execution_count": 0,
      "outputs": []
    }
  ]
}