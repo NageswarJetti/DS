{
  "nbformat": 4,
  "nbformat_minor": 0,
  "metadata": {
    "colab": {
      "name": "weather_features.ipynb",
      "version": "0.3.2",
      "provenance": [],
      "collapsed_sections": []
    },
    "kernelspec": {
      "name": "python3",
      "display_name": "Python 3"
    },
    "accelerator": "GPU"
  },
  "cells": [
    {
      "cell_type": "code",
      "metadata": {
        "id": "wOZZCTnSWdU8",
        "colab_type": "code",
        "colab": {}
      },
      "source": [
        "\n",
        "# Install the PyDrive wrapper & import libraries.\n",
        "# This only needs to be done once in a notebook.\n",
        "!pip install -U -q PyDrive\n",
        "from pydrive.auth import GoogleAuth\n",
        "from pydrive.drive import GoogleDrive\n",
        "from google.colab import auth\n",
        "from oauth2client.client import GoogleCredentials\n",
        "\n",
        "# Authenticate and create the PyDrive client.\n",
        "# This only needs to be done once in a notebook.\n",
        "auth.authenticate_user()\n",
        "gauth = GoogleAuth()\n",
        "gauth.credentials = GoogleCredentials.get_application_default()\n",
        "drive = GoogleDrive(gauth)"
      ],
      "execution_count": 0,
      "outputs": []
    },
    {
      "cell_type": "code",
      "metadata": {
        "id": "7oe39Gl7W61d",
        "colab_type": "code",
        "colab": {
          "base_uri": "https://localhost:8080/",
          "height": 55
        },
        "outputId": "0b2bafbd-7ffd-496f-f670-d6258ee001d3"
      },
      "source": [
        "# Run this cell to mount your Google Drive.\n",
        "from google.colab import drive\n",
        "drive.mount('/content/drive')"
      ],
      "execution_count": 2,
      "outputs": [
        {
          "output_type": "stream",
          "text": [
            "Drive already mounted at /content/drive; to attempt to forcibly remount, call drive.mount(\"/content/drive\", force_remount=True).\n"
          ],
          "name": "stdout"
        }
      ]
    },
    {
      "cell_type": "code",
      "metadata": {
        "id": "BqkxcE2eW-E3",
        "colab_type": "code",
        "colab": {
          "base_uri": "https://localhost:8080/",
          "height": 52
        },
        "outputId": "17328016-fbd6-4afb-85f3-0948cb910492"
      },
      "source": [
        "!ls '/content/drive/My Drive/AV_data/Quantum_Black_5th_July_2019/'"
      ],
      "execution_count": 3,
      "outputs": [
        {
          "output_type": "stream",
          "text": [
            "drive_csv_file.zip\t trip_csv_file.zip  weather_csv_file.zip\n",
            "drive_vehcile_df_v1.csv  vehicle.csv\n"
          ],
          "name": "stdout"
        }
      ]
    },
    {
      "cell_type": "markdown",
      "metadata": {
        "id": "jLzGW_NAZjS_",
        "colab_type": "text"
      },
      "source": [
        "### Load Packages"
      ]
    },
    {
      "cell_type": "code",
      "metadata": {
        "id": "ts9G8kPoxN20",
        "colab_type": "code",
        "colab": {
          "base_uri": "https://localhost:8080/",
          "height": 176
        },
        "outputId": "7f086dd3-8549-4875-88ec-636dafd03dab"
      },
      "source": [
        "!pip install pygeohash"
      ],
      "execution_count": 4,
      "outputs": [
        {
          "output_type": "stream",
          "text": [
            "Collecting pygeohash\n",
            "  Downloading https://files.pythonhosted.org/packages/2c/33/c912fa4476cedcd3ed9cd25c44c163583b92d319860438e6b632f7f42d0c/pygeohash-1.2.0.tar.gz\n",
            "Building wheels for collected packages: pygeohash\n",
            "  Building wheel for pygeohash (setup.py) ... \u001b[?25l\u001b[?25hdone\n",
            "  Stored in directory: /root/.cache/pip/wheels/3f/5f/14/989d83a271207dda28232746d63e737a2dbd88ea7f7a9db807\n",
            "Successfully built pygeohash\n",
            "Installing collected packages: pygeohash\n",
            "Successfully installed pygeohash-1.2.0\n"
          ],
          "name": "stdout"
        }
      ]
    },
    {
      "cell_type": "code",
      "metadata": {
        "id": "WXI9OOwBZfPj",
        "colab_type": "code",
        "colab": {}
      },
      "source": [
        "import pandas as pd\n",
        "import numpy as np\n",
        "import pyarrow.parquet as pq\n",
        "import os\n",
        "from pathlib import Path\n",
        "import datetime\n",
        "from datetime import timedelta\n",
        "from datetime import datetime, timedelta\n",
        "import pandas as pd\n",
        "import pygeohash as gh"
      ],
      "execution_count": 0,
      "outputs": []
    },
    {
      "cell_type": "code",
      "metadata": {
        "id": "-j9v0A_fZmBT",
        "colab_type": "code",
        "colab": {}
      },
      "source": [
        "weather_df = pd.read_csv('/content/drive/My Drive/AV_data/Quantum_Black_5th_July_2019/weather_csv_file.zip')"
      ],
      "execution_count": 0,
      "outputs": []
    },
    {
      "cell_type": "code",
      "metadata": {
        "id": "s_41r2RRZo0Z",
        "colab_type": "code",
        "colab": {
          "base_uri": "https://localhost:8080/",
          "height": 309
        },
        "outputId": "4eb6f9a2-2f41-4c82-95eb-ac545711447c"
      },
      "source": [
        "weather_df.head(5)"
      ],
      "execution_count": 7,
      "outputs": [
        {
          "output_type": "execute_result",
          "data": {
            "text/html": [
              "<div>\n",
              "<style scoped>\n",
              "    .dataframe tbody tr th:only-of-type {\n",
              "        vertical-align: middle;\n",
              "    }\n",
              "\n",
              "    .dataframe tbody tr th {\n",
              "        vertical-align: top;\n",
              "    }\n",
              "\n",
              "    .dataframe thead th {\n",
              "        text-align: right;\n",
              "    }\n",
              "</style>\n",
              "<table border=\"1\" class=\"dataframe\">\n",
              "  <thead>\n",
              "    <tr style=\"text-align: right;\">\n",
              "      <th></th>\n",
              "      <th>x</th>\n",
              "      <th>y</th>\n",
              "      <th>date</th>\n",
              "      <th>time</th>\n",
              "      <th>lat</th>\n",
              "      <th>lon</th>\n",
              "      <th>temperature_data</th>\n",
              "      <th>temperature_unit</th>\n",
              "      <th>precipitation_data</th>\n",
              "      <th>precipitation_unit</th>\n",
              "      <th>wind_ew_data</th>\n",
              "      <th>wind_ew_unit</th>\n",
              "      <th>wind_ns_data</th>\n",
              "      <th>wind_ns_unit</th>\n",
              "    </tr>\n",
              "  </thead>\n",
              "  <tbody>\n",
              "    <tr>\n",
              "      <th>0</th>\n",
              "      <td>127</td>\n",
              "      <td>39</td>\n",
              "      <td>2017-02-25</td>\n",
              "      <td>11Z</td>\n",
              "      <td>29.9375</td>\n",
              "      <td>-109.0625</td>\n",
              "      <td>278.38</td>\n",
              "      <td>k</td>\n",
              "      <td>0.000</td>\n",
              "      <td>kg/m^2</td>\n",
              "      <td>-1.07</td>\n",
              "      <td>m/s</td>\n",
              "      <td>-0.47</td>\n",
              "      <td>m/s</td>\n",
              "    </tr>\n",
              "    <tr>\n",
              "      <th>1</th>\n",
              "      <td>192</td>\n",
              "      <td>51</td>\n",
              "      <td>2017-01-02</td>\n",
              "      <td>18Z</td>\n",
              "      <td>31.4375</td>\n",
              "      <td>-100.9375</td>\n",
              "      <td>289.84</td>\n",
              "      <td>k</td>\n",
              "      <td>0.000</td>\n",
              "      <td>kg/m^2</td>\n",
              "      <td>5.74</td>\n",
              "      <td>m/s</td>\n",
              "      <td>-0.68</td>\n",
              "      <td>m/s</td>\n",
              "    </tr>\n",
              "    <tr>\n",
              "      <th>2</th>\n",
              "      <td>254</td>\n",
              "      <td>48</td>\n",
              "      <td>2017-02-23</td>\n",
              "      <td>19Z</td>\n",
              "      <td>31.0625</td>\n",
              "      <td>-93.1875</td>\n",
              "      <td>298.24</td>\n",
              "      <td>k</td>\n",
              "      <td>0.000</td>\n",
              "      <td>kg/m^2</td>\n",
              "      <td>-1.47</td>\n",
              "      <td>m/s</td>\n",
              "      <td>5.61</td>\n",
              "      <td>m/s</td>\n",
              "    </tr>\n",
              "    <tr>\n",
              "      <th>3</th>\n",
              "      <td>261</td>\n",
              "      <td>54</td>\n",
              "      <td>2017-01-01</td>\n",
              "      <td>13Z</td>\n",
              "      <td>31.8125</td>\n",
              "      <td>-92.3125</td>\n",
              "      <td>289.25</td>\n",
              "      <td>k</td>\n",
              "      <td>0.010</td>\n",
              "      <td>kg/m^2</td>\n",
              "      <td>-0.86</td>\n",
              "      <td>m/s</td>\n",
              "      <td>1.85</td>\n",
              "      <td>m/s</td>\n",
              "    </tr>\n",
              "    <tr>\n",
              "      <th>4</th>\n",
              "      <td>220</td>\n",
              "      <td>49</td>\n",
              "      <td>2017-01-18</td>\n",
              "      <td>10Z</td>\n",
              "      <td>31.1875</td>\n",
              "      <td>-97.4375</td>\n",
              "      <td>278.86</td>\n",
              "      <td>k</td>\n",
              "      <td>0.204</td>\n",
              "      <td>kg/m^2</td>\n",
              "      <td>1.30</td>\n",
              "      <td>m/s</td>\n",
              "      <td>-4.71</td>\n",
              "      <td>m/s</td>\n",
              "    </tr>\n",
              "  </tbody>\n",
              "</table>\n",
              "</div>"
            ],
            "text/plain": [
              "     x   y        date  ... wind_ew_unit  wind_ns_data  wind_ns_unit\n",
              "0  127  39  2017-02-25  ...          m/s         -0.47           m/s\n",
              "1  192  51  2017-01-02  ...          m/s         -0.68           m/s\n",
              "2  254  48  2017-02-23  ...          m/s          5.61           m/s\n",
              "3  261  54  2017-01-01  ...          m/s          1.85           m/s\n",
              "4  220  49  2017-01-18  ...          m/s         -4.71           m/s\n",
              "\n",
              "[5 rows x 14 columns]"
            ]
          },
          "metadata": {
            "tags": []
          },
          "execution_count": 7
        }
      ]
    },
    {
      "cell_type": "code",
      "metadata": {
        "id": "Ef_WshcSSAAZ",
        "colab_type": "code",
        "colab": {}
      },
      "source": [
        "weather_df.shape"
      ],
      "execution_count": 0,
      "outputs": []
    },
    {
      "cell_type": "code",
      "metadata": {
        "id": "CuOzWit6Zru-",
        "colab_type": "code",
        "colab": {}
      },
      "source": [
        "weather_df['Temp_F'] = weather_df['temperature_data'].apply(lambda x: (x*(9/5) - 459.67))"
      ],
      "execution_count": 0,
      "outputs": []
    },
    {
      "cell_type": "code",
      "metadata": {
        "id": "PIIqtnwBaWX2",
        "colab_type": "code",
        "colab": {
          "base_uri": "https://localhost:8080/",
          "height": 213
        },
        "outputId": "a6a6a105-578f-4da7-b407-75b832421080"
      },
      "source": [
        "weather_df.head(3)"
      ],
      "execution_count": 9,
      "outputs": [
        {
          "output_type": "execute_result",
          "data": {
            "text/html": [
              "<div>\n",
              "<style scoped>\n",
              "    .dataframe tbody tr th:only-of-type {\n",
              "        vertical-align: middle;\n",
              "    }\n",
              "\n",
              "    .dataframe tbody tr th {\n",
              "        vertical-align: top;\n",
              "    }\n",
              "\n",
              "    .dataframe thead th {\n",
              "        text-align: right;\n",
              "    }\n",
              "</style>\n",
              "<table border=\"1\" class=\"dataframe\">\n",
              "  <thead>\n",
              "    <tr style=\"text-align: right;\">\n",
              "      <th></th>\n",
              "      <th>x</th>\n",
              "      <th>y</th>\n",
              "      <th>date</th>\n",
              "      <th>time</th>\n",
              "      <th>lat</th>\n",
              "      <th>lon</th>\n",
              "      <th>temperature_data</th>\n",
              "      <th>temperature_unit</th>\n",
              "      <th>precipitation_data</th>\n",
              "      <th>precipitation_unit</th>\n",
              "      <th>wind_ew_data</th>\n",
              "      <th>wind_ew_unit</th>\n",
              "      <th>wind_ns_data</th>\n",
              "      <th>wind_ns_unit</th>\n",
              "      <th>Temp_F</th>\n",
              "    </tr>\n",
              "  </thead>\n",
              "  <tbody>\n",
              "    <tr>\n",
              "      <th>0</th>\n",
              "      <td>127</td>\n",
              "      <td>39</td>\n",
              "      <td>2017-02-25</td>\n",
              "      <td>11Z</td>\n",
              "      <td>29.9375</td>\n",
              "      <td>-109.0625</td>\n",
              "      <td>278.38</td>\n",
              "      <td>k</td>\n",
              "      <td>0.0</td>\n",
              "      <td>kg/m^2</td>\n",
              "      <td>-1.07</td>\n",
              "      <td>m/s</td>\n",
              "      <td>-0.47</td>\n",
              "      <td>m/s</td>\n",
              "      <td>41.414</td>\n",
              "    </tr>\n",
              "    <tr>\n",
              "      <th>1</th>\n",
              "      <td>192</td>\n",
              "      <td>51</td>\n",
              "      <td>2017-01-02</td>\n",
              "      <td>18Z</td>\n",
              "      <td>31.4375</td>\n",
              "      <td>-100.9375</td>\n",
              "      <td>289.84</td>\n",
              "      <td>k</td>\n",
              "      <td>0.0</td>\n",
              "      <td>kg/m^2</td>\n",
              "      <td>5.74</td>\n",
              "      <td>m/s</td>\n",
              "      <td>-0.68</td>\n",
              "      <td>m/s</td>\n",
              "      <td>62.042</td>\n",
              "    </tr>\n",
              "    <tr>\n",
              "      <th>2</th>\n",
              "      <td>254</td>\n",
              "      <td>48</td>\n",
              "      <td>2017-02-23</td>\n",
              "      <td>19Z</td>\n",
              "      <td>31.0625</td>\n",
              "      <td>-93.1875</td>\n",
              "      <td>298.24</td>\n",
              "      <td>k</td>\n",
              "      <td>0.0</td>\n",
              "      <td>kg/m^2</td>\n",
              "      <td>-1.47</td>\n",
              "      <td>m/s</td>\n",
              "      <td>5.61</td>\n",
              "      <td>m/s</td>\n",
              "      <td>77.162</td>\n",
              "    </tr>\n",
              "  </tbody>\n",
              "</table>\n",
              "</div>"
            ],
            "text/plain": [
              "     x   y        date time  ...  wind_ew_unit  wind_ns_data  wind_ns_unit  Temp_F\n",
              "0  127  39  2017-02-25  11Z  ...           m/s         -0.47           m/s  41.414\n",
              "1  192  51  2017-01-02  18Z  ...           m/s         -0.68           m/s  62.042\n",
              "2  254  48  2017-02-23  19Z  ...           m/s          5.61           m/s  77.162\n",
              "\n",
              "[3 rows x 15 columns]"
            ]
          },
          "metadata": {
            "tags": []
          },
          "execution_count": 9
        }
      ]
    },
    {
      "cell_type": "code",
      "metadata": {
        "id": "J5gPNmjuaYZa",
        "colab_type": "code",
        "colab": {}
      },
      "source": [
        "#Converting to weather condition and weather preciptation categorization\n",
        "def weather_condition(temp):\n",
        "  if temp <= 27:\n",
        "    return 'Snow'\n",
        "  elif (temp > 27 and temp <= 32):\n",
        "    return 'Freezing_Rain'\n",
        "  else:\n",
        "    return 'Rain'\n",
        "\n",
        "def weather_precipitation(precep):\n",
        "  if precep <= 2.5:\n",
        "    return 'Light'\n",
        "  elif (precep > 2.5 and precep <= 7.6):\n",
        "    return 'Moderate'\n",
        "  else:\n",
        "    return 'Heavy'"
      ],
      "execution_count": 0,
      "outputs": []
    },
    {
      "cell_type": "code",
      "metadata": {
        "id": "qYeGWbxTabaK",
        "colab_type": "code",
        "colab": {}
      },
      "source": [
        "weather_df['weather_condition'] = weather_df['Temp_F'].apply(weather_condition)\n",
        "weather_df['weather_precipitation'] = weather_df['precipitation_data'].apply(weather_precipitation)"
      ],
      "execution_count": 0,
      "outputs": []
    },
    {
      "cell_type": "code",
      "metadata": {
        "id": "VkXHu0Jcax_1",
        "colab_type": "code",
        "colab": {
          "base_uri": "https://localhost:8080/",
          "height": 213
        },
        "outputId": "3930b071-c511-401c-c581-b4155dd566a7"
      },
      "source": [
        "weather_df.head(3)"
      ],
      "execution_count": 14,
      "outputs": [
        {
          "output_type": "execute_result",
          "data": {
            "text/html": [
              "<div>\n",
              "<style scoped>\n",
              "    .dataframe tbody tr th:only-of-type {\n",
              "        vertical-align: middle;\n",
              "    }\n",
              "\n",
              "    .dataframe tbody tr th {\n",
              "        vertical-align: top;\n",
              "    }\n",
              "\n",
              "    .dataframe thead th {\n",
              "        text-align: right;\n",
              "    }\n",
              "</style>\n",
              "<table border=\"1\" class=\"dataframe\">\n",
              "  <thead>\n",
              "    <tr style=\"text-align: right;\">\n",
              "      <th></th>\n",
              "      <th>x</th>\n",
              "      <th>y</th>\n",
              "      <th>date</th>\n",
              "      <th>time</th>\n",
              "      <th>lat</th>\n",
              "      <th>lon</th>\n",
              "      <th>temperature_data</th>\n",
              "      <th>temperature_unit</th>\n",
              "      <th>precipitation_data</th>\n",
              "      <th>precipitation_unit</th>\n",
              "      <th>wind_ew_data</th>\n",
              "      <th>wind_ew_unit</th>\n",
              "      <th>wind_ns_data</th>\n",
              "      <th>wind_ns_unit</th>\n",
              "      <th>Temp_F</th>\n",
              "      <th>weather_condition</th>\n",
              "      <th>weather_precipitation</th>\n",
              "    </tr>\n",
              "  </thead>\n",
              "  <tbody>\n",
              "    <tr>\n",
              "      <th>0</th>\n",
              "      <td>127</td>\n",
              "      <td>39</td>\n",
              "      <td>2017-02-25</td>\n",
              "      <td>11Z</td>\n",
              "      <td>29.9375</td>\n",
              "      <td>-109.0625</td>\n",
              "      <td>278.38</td>\n",
              "      <td>k</td>\n",
              "      <td>0.0</td>\n",
              "      <td>kg/m^2</td>\n",
              "      <td>-1.07</td>\n",
              "      <td>m/s</td>\n",
              "      <td>-0.47</td>\n",
              "      <td>m/s</td>\n",
              "      <td>41.414</td>\n",
              "      <td>Rain</td>\n",
              "      <td>Light</td>\n",
              "    </tr>\n",
              "    <tr>\n",
              "      <th>1</th>\n",
              "      <td>192</td>\n",
              "      <td>51</td>\n",
              "      <td>2017-01-02</td>\n",
              "      <td>18Z</td>\n",
              "      <td>31.4375</td>\n",
              "      <td>-100.9375</td>\n",
              "      <td>289.84</td>\n",
              "      <td>k</td>\n",
              "      <td>0.0</td>\n",
              "      <td>kg/m^2</td>\n",
              "      <td>5.74</td>\n",
              "      <td>m/s</td>\n",
              "      <td>-0.68</td>\n",
              "      <td>m/s</td>\n",
              "      <td>62.042</td>\n",
              "      <td>Rain</td>\n",
              "      <td>Light</td>\n",
              "    </tr>\n",
              "    <tr>\n",
              "      <th>2</th>\n",
              "      <td>254</td>\n",
              "      <td>48</td>\n",
              "      <td>2017-02-23</td>\n",
              "      <td>19Z</td>\n",
              "      <td>31.0625</td>\n",
              "      <td>-93.1875</td>\n",
              "      <td>298.24</td>\n",
              "      <td>k</td>\n",
              "      <td>0.0</td>\n",
              "      <td>kg/m^2</td>\n",
              "      <td>-1.47</td>\n",
              "      <td>m/s</td>\n",
              "      <td>5.61</td>\n",
              "      <td>m/s</td>\n",
              "      <td>77.162</td>\n",
              "      <td>Rain</td>\n",
              "      <td>Light</td>\n",
              "    </tr>\n",
              "  </tbody>\n",
              "</table>\n",
              "</div>"
            ],
            "text/plain": [
              "     x   y        date  ...  Temp_F  weather_condition  weather_precipitation\n",
              "0  127  39  2017-02-25  ...  41.414               Rain                  Light\n",
              "1  192  51  2017-01-02  ...  62.042               Rain                  Light\n",
              "2  254  48  2017-02-23  ...  77.162               Rain                  Light\n",
              "\n",
              "[3 rows x 17 columns]"
            ]
          },
          "metadata": {
            "tags": []
          },
          "execution_count": 14
        }
      ]
    },
    {
      "cell_type": "code",
      "metadata": {
        "id": "oqCyfRpTsoLz",
        "colab_type": "code",
        "colab": {
          "base_uri": "https://localhost:8080/",
          "height": 329
        },
        "outputId": "04861d5f-d017-47fc-dc82-a502f8be50e0"
      },
      "source": [
        "weather_df.dtypes"
      ],
      "execution_count": 15,
      "outputs": [
        {
          "output_type": "execute_result",
          "data": {
            "text/plain": [
              "x                          int64\n",
              "y                          int64\n",
              "date                      object\n",
              "time                      object\n",
              "lat                      float64\n",
              "lon                      float64\n",
              "temperature_data         float64\n",
              "temperature_unit          object\n",
              "precipitation_data       float64\n",
              "precipitation_unit        object\n",
              "wind_ew_data             float64\n",
              "wind_ew_unit              object\n",
              "wind_ns_data             float64\n",
              "wind_ns_unit              object\n",
              "Temp_F                   float64\n",
              "weather_condition         object\n",
              "weather_precipitation     object\n",
              "dtype: object"
            ]
          },
          "metadata": {
            "tags": []
          },
          "execution_count": 15
        }
      ]
    },
    {
      "cell_type": "code",
      "metadata": {
        "id": "b_UtDugwtlKW",
        "colab_type": "code",
        "colab": {
          "base_uri": "https://localhost:8080/",
          "height": 69
        },
        "outputId": "223e9e47-96b4-454e-e8ba-f56f7ece7692"
      },
      "source": [
        "weather_df['time'].unique()"
      ],
      "execution_count": 16,
      "outputs": [
        {
          "output_type": "execute_result",
          "data": {
            "text/plain": [
              "array(['11Z', '18Z', '19Z', '13Z', '10Z', '07Z', '08Z', '03Z', '06Z',\n",
              "       '01Z', '05Z', '14Z', '23Z', '00Z', '12Z', '17Z', '21Z', '20Z',\n",
              "       '15Z', '04Z', '22Z', '09Z', '02Z', '16Z'], dtype=object)"
            ]
          },
          "metadata": {
            "tags": []
          },
          "execution_count": 16
        }
      ]
    },
    {
      "cell_type": "code",
      "metadata": {
        "id": "FRHS1HbesTW5",
        "colab_type": "code",
        "colab": {
          "base_uri": "https://localhost:8080/",
          "height": 35
        },
        "outputId": "778b6ade-8cae-4b37-8291-314244cf773a"
      },
      "source": [
        "weather_df['weather_condition'].unique()"
      ],
      "execution_count": 17,
      "outputs": [
        {
          "output_type": "execute_result",
          "data": {
            "text/plain": [
              "array(['Rain', 'Freezing_Rain', 'Snow'], dtype=object)"
            ]
          },
          "metadata": {
            "tags": []
          },
          "execution_count": 17
        }
      ]
    },
    {
      "cell_type": "code",
      "metadata": {
        "id": "-44Bi36uZiGi",
        "colab_type": "code",
        "colab": {
          "base_uri": "https://localhost:8080/",
          "height": 35
        },
        "outputId": "f6ebb6e8-6e13-4127-8d81-138647cbb01e"
      },
      "source": [
        "weather_df['weather_precipitation'].unique()"
      ],
      "execution_count": 18,
      "outputs": [
        {
          "output_type": "execute_result",
          "data": {
            "text/plain": [
              "array(['Light', 'Moderate', 'Heavy'], dtype=object)"
            ]
          },
          "metadata": {
            "tags": []
          },
          "execution_count": 18
        }
      ]
    },
    {
      "cell_type": "code",
      "metadata": {
        "id": "8LiIm23h0uL9",
        "colab_type": "code",
        "colab": {}
      },
      "source": [
        "weather_df['geohash_weather_df']=weather_df.apply(lambda x: gh.encode(x.lat, x.lon,  precision=5), axis=1)"
      ],
      "execution_count": 0,
      "outputs": []
    },
    {
      "cell_type": "code",
      "metadata": {
        "id": "DMHMc0p33EQ-",
        "colab_type": "code",
        "colab": {
          "base_uri": "https://localhost:8080/",
          "height": 213
        },
        "outputId": "b469dc72-8cdd-4517-c2f7-8950a31518cf"
      },
      "source": [
        "weather_df.head(3)"
      ],
      "execution_count": 20,
      "outputs": [
        {
          "output_type": "execute_result",
          "data": {
            "text/html": [
              "<div>\n",
              "<style scoped>\n",
              "    .dataframe tbody tr th:only-of-type {\n",
              "        vertical-align: middle;\n",
              "    }\n",
              "\n",
              "    .dataframe tbody tr th {\n",
              "        vertical-align: top;\n",
              "    }\n",
              "\n",
              "    .dataframe thead th {\n",
              "        text-align: right;\n",
              "    }\n",
              "</style>\n",
              "<table border=\"1\" class=\"dataframe\">\n",
              "  <thead>\n",
              "    <tr style=\"text-align: right;\">\n",
              "      <th></th>\n",
              "      <th>x</th>\n",
              "      <th>y</th>\n",
              "      <th>date</th>\n",
              "      <th>time</th>\n",
              "      <th>lat</th>\n",
              "      <th>lon</th>\n",
              "      <th>temperature_data</th>\n",
              "      <th>temperature_unit</th>\n",
              "      <th>precipitation_data</th>\n",
              "      <th>precipitation_unit</th>\n",
              "      <th>wind_ew_data</th>\n",
              "      <th>wind_ew_unit</th>\n",
              "      <th>wind_ns_data</th>\n",
              "      <th>wind_ns_unit</th>\n",
              "      <th>Temp_F</th>\n",
              "      <th>weather_condition</th>\n",
              "      <th>weather_precipitation</th>\n",
              "      <th>geohash_weather_df</th>\n",
              "    </tr>\n",
              "  </thead>\n",
              "  <tbody>\n",
              "    <tr>\n",
              "      <th>0</th>\n",
              "      <td>127</td>\n",
              "      <td>39</td>\n",
              "      <td>2017-02-25</td>\n",
              "      <td>11Z</td>\n",
              "      <td>29.9375</td>\n",
              "      <td>-109.0625</td>\n",
              "      <td>278.38</td>\n",
              "      <td>k</td>\n",
              "      <td>0.0</td>\n",
              "      <td>kg/m^2</td>\n",
              "      <td>-1.07</td>\n",
              "      <td>m/s</td>\n",
              "      <td>-0.47</td>\n",
              "      <td>m/s</td>\n",
              "      <td>41.414</td>\n",
              "      <td>Rain</td>\n",
              "      <td>Light</td>\n",
              "      <td>9t66q</td>\n",
              "    </tr>\n",
              "    <tr>\n",
              "      <th>1</th>\n",
              "      <td>192</td>\n",
              "      <td>51</td>\n",
              "      <td>2017-01-02</td>\n",
              "      <td>18Z</td>\n",
              "      <td>31.4375</td>\n",
              "      <td>-100.9375</td>\n",
              "      <td>289.84</td>\n",
              "      <td>k</td>\n",
              "      <td>0.0</td>\n",
              "      <td>kg/m^2</td>\n",
              "      <td>5.74</td>\n",
              "      <td>m/s</td>\n",
              "      <td>-0.68</td>\n",
              "      <td>m/s</td>\n",
              "      <td>62.042</td>\n",
              "      <td>Rain</td>\n",
              "      <td>Light</td>\n",
              "      <td>9v84z</td>\n",
              "    </tr>\n",
              "    <tr>\n",
              "      <th>2</th>\n",
              "      <td>254</td>\n",
              "      <td>48</td>\n",
              "      <td>2017-02-23</td>\n",
              "      <td>19Z</td>\n",
              "      <td>31.0625</td>\n",
              "      <td>-93.1875</td>\n",
              "      <td>298.24</td>\n",
              "      <td>k</td>\n",
              "      <td>0.0</td>\n",
              "      <td>kg/m^2</td>\n",
              "      <td>-1.47</td>\n",
              "      <td>m/s</td>\n",
              "      <td>5.61</td>\n",
              "      <td>m/s</td>\n",
              "      <td>77.162</td>\n",
              "      <td>Rain</td>\n",
              "      <td>Light</td>\n",
              "      <td>9vt8x</td>\n",
              "    </tr>\n",
              "  </tbody>\n",
              "</table>\n",
              "</div>"
            ],
            "text/plain": [
              "     x   y  ... weather_precipitation geohash_weather_df\n",
              "0  127  39  ...                 Light              9t66q\n",
              "1  192  51  ...                 Light              9v84z\n",
              "2  254  48  ...                 Light              9vt8x\n",
              "\n",
              "[3 rows x 18 columns]"
            ]
          },
          "metadata": {
            "tags": []
          },
          "execution_count": 20
        }
      ]
    },
    {
      "cell_type": "code",
      "metadata": {
        "id": "Gnj86jjO045u",
        "colab_type": "code",
        "colab": {}
      },
      "source": [
        "#Concatenate date , time and geohash_weather_df - and get a unique ID key\n",
        "weather_df['Unique_ID'] = weather_df[['date', 'time', 'geohash_weather_df']].apply(lambda x: '_'.join(x), axis = 1)"
      ],
      "execution_count": 0,
      "outputs": []
    },
    {
      "cell_type": "code",
      "metadata": {
        "id": "8W0hL8HmQtgr",
        "colab_type": "code",
        "colab": {}
      },
      "source": [
        "# get the unique ID count and number of rows\n"
      ],
      "execution_count": 0,
      "outputs": []
    },
    {
      "cell_type": "code",
      "metadata": {
        "id": "bxC3f3Vx28Jc",
        "colab_type": "code",
        "colab": {
          "base_uri": "https://localhost:8080/",
          "height": 213
        },
        "outputId": "f99bfaf9-c7ad-4bff-b085-179b7874b9ad"
      },
      "source": [
        "weather_df.head(3)"
      ],
      "execution_count": 22,
      "outputs": [
        {
          "output_type": "execute_result",
          "data": {
            "text/html": [
              "<div>\n",
              "<style scoped>\n",
              "    .dataframe tbody tr th:only-of-type {\n",
              "        vertical-align: middle;\n",
              "    }\n",
              "\n",
              "    .dataframe tbody tr th {\n",
              "        vertical-align: top;\n",
              "    }\n",
              "\n",
              "    .dataframe thead th {\n",
              "        text-align: right;\n",
              "    }\n",
              "</style>\n",
              "<table border=\"1\" class=\"dataframe\">\n",
              "  <thead>\n",
              "    <tr style=\"text-align: right;\">\n",
              "      <th></th>\n",
              "      <th>x</th>\n",
              "      <th>y</th>\n",
              "      <th>date</th>\n",
              "      <th>time</th>\n",
              "      <th>lat</th>\n",
              "      <th>lon</th>\n",
              "      <th>temperature_data</th>\n",
              "      <th>temperature_unit</th>\n",
              "      <th>precipitation_data</th>\n",
              "      <th>precipitation_unit</th>\n",
              "      <th>wind_ew_data</th>\n",
              "      <th>wind_ew_unit</th>\n",
              "      <th>wind_ns_data</th>\n",
              "      <th>wind_ns_unit</th>\n",
              "      <th>Temp_F</th>\n",
              "      <th>weather_condition</th>\n",
              "      <th>weather_precipitation</th>\n",
              "      <th>geohash_weather_df</th>\n",
              "      <th>Unique_ID</th>\n",
              "    </tr>\n",
              "  </thead>\n",
              "  <tbody>\n",
              "    <tr>\n",
              "      <th>0</th>\n",
              "      <td>127</td>\n",
              "      <td>39</td>\n",
              "      <td>2017-02-25</td>\n",
              "      <td>11Z</td>\n",
              "      <td>29.9375</td>\n",
              "      <td>-109.0625</td>\n",
              "      <td>278.38</td>\n",
              "      <td>k</td>\n",
              "      <td>0.0</td>\n",
              "      <td>kg/m^2</td>\n",
              "      <td>-1.07</td>\n",
              "      <td>m/s</td>\n",
              "      <td>-0.47</td>\n",
              "      <td>m/s</td>\n",
              "      <td>41.414</td>\n",
              "      <td>Rain</td>\n",
              "      <td>Light</td>\n",
              "      <td>9t66q</td>\n",
              "      <td>2017-02-25_11Z_9t66q</td>\n",
              "    </tr>\n",
              "    <tr>\n",
              "      <th>1</th>\n",
              "      <td>192</td>\n",
              "      <td>51</td>\n",
              "      <td>2017-01-02</td>\n",
              "      <td>18Z</td>\n",
              "      <td>31.4375</td>\n",
              "      <td>-100.9375</td>\n",
              "      <td>289.84</td>\n",
              "      <td>k</td>\n",
              "      <td>0.0</td>\n",
              "      <td>kg/m^2</td>\n",
              "      <td>5.74</td>\n",
              "      <td>m/s</td>\n",
              "      <td>-0.68</td>\n",
              "      <td>m/s</td>\n",
              "      <td>62.042</td>\n",
              "      <td>Rain</td>\n",
              "      <td>Light</td>\n",
              "      <td>9v84z</td>\n",
              "      <td>2017-01-02_18Z_9v84z</td>\n",
              "    </tr>\n",
              "    <tr>\n",
              "      <th>2</th>\n",
              "      <td>254</td>\n",
              "      <td>48</td>\n",
              "      <td>2017-02-23</td>\n",
              "      <td>19Z</td>\n",
              "      <td>31.0625</td>\n",
              "      <td>-93.1875</td>\n",
              "      <td>298.24</td>\n",
              "      <td>k</td>\n",
              "      <td>0.0</td>\n",
              "      <td>kg/m^2</td>\n",
              "      <td>-1.47</td>\n",
              "      <td>m/s</td>\n",
              "      <td>5.61</td>\n",
              "      <td>m/s</td>\n",
              "      <td>77.162</td>\n",
              "      <td>Rain</td>\n",
              "      <td>Light</td>\n",
              "      <td>9vt8x</td>\n",
              "      <td>2017-02-23_19Z_9vt8x</td>\n",
              "    </tr>\n",
              "  </tbody>\n",
              "</table>\n",
              "</div>"
            ],
            "text/plain": [
              "     x   y  ... geohash_weather_df             Unique_ID\n",
              "0  127  39  ...              9t66q  2017-02-25_11Z_9t66q\n",
              "1  192  51  ...              9v84z  2017-01-02_18Z_9v84z\n",
              "2  254  48  ...              9vt8x  2017-02-23_19Z_9vt8x\n",
              "\n",
              "[3 rows x 19 columns]"
            ]
          },
          "metadata": {
            "tags": []
          },
          "execution_count": 22
        }
      ]
    },
    {
      "cell_type": "code",
      "metadata": {
        "id": "vCMgw4H1MuZv",
        "colab_type": "code",
        "colab": {}
      },
      "source": [
        "#Concatenate date , time and geohash_weather_df - and get a unique ID key\n",
        "weather_df['Cond_Precip'] = weather_df[['weather_condition', 'weather_precipitation']].apply(lambda x: '_'.join(x), axis = 1)"
      ],
      "execution_count": 0,
      "outputs": []
    },
    {
      "cell_type": "code",
      "metadata": {
        "id": "lTFSUiMiLUPt",
        "colab_type": "code",
        "colab": {
          "base_uri": "https://localhost:8080/",
          "height": 121
        },
        "outputId": "151f881d-c993-4b86-f336-1ced19adfc0c"
      },
      "source": [
        "weather_df.columns"
      ],
      "execution_count": 23,
      "outputs": [
        {
          "output_type": "execute_result",
          "data": {
            "text/plain": [
              "Index(['x', 'y', 'date', 'time', 'lat', 'lon', 'temperature_data',\n",
              "       'temperature_unit', 'precipitation_data', 'precipitation_unit',\n",
              "       'wind_ew_data', 'wind_ew_unit', 'wind_ns_data', 'wind_ns_unit',\n",
              "       'Temp_F', 'weather_condition', 'weather_precipitation',\n",
              "       'geohash_weather_df', 'Unique_ID', 'Cond_Precip'],\n",
              "      dtype='object')"
            ]
          },
          "metadata": {
            "tags": []
          },
          "execution_count": 23
        }
      ]
    },
    {
      "cell_type": "code",
      "metadata": {
        "id": "VBBhGwVTkp_w",
        "colab_type": "code",
        "colab": {}
      },
      "source": [
        "# 'x', 'y', 'temperature_unit', 'precipitation_unit', 'wind_ew_unit', 'wind_ns_unit'\n",
        "weather_df = weather_df[[ 'Unique_ID', 'Cond_Precip', 'geohash_weather_df']]\n"
      ],
      "execution_count": 0,
      "outputs": []
    },
    {
      "cell_type": "markdown",
      "metadata": {
        "id": "wLItMDCQsT9y",
        "colab_type": "text"
      },
      "source": [
        "### Trip DataFrame"
      ]
    },
    {
      "cell_type": "code",
      "metadata": {
        "id": "6ivovQANeYqE",
        "colab_type": "code",
        "colab": {}
      },
      "source": [
        "trip_df = pd.read_csv('/content/drive/My Drive/AV_data/Quantum_Black_5th_July_2019/trip_csv_file.zip')"
      ],
      "execution_count": 0,
      "outputs": []
    },
    {
      "cell_type": "code",
      "metadata": {
        "id": "djbS08nGenGK",
        "colab_type": "code",
        "colab": {
          "base_uri": "https://localhost:8080/",
          "height": 141
        },
        "outputId": "a60e58d0-0006-4355-89dc-6a0e43345ba1"
      },
      "source": [
        "trip_df.head(3)"
      ],
      "execution_count": 28,
      "outputs": [
        {
          "output_type": "execute_result",
          "data": {
            "text/html": [
              "<div>\n",
              "<style scoped>\n",
              "    .dataframe tbody tr th:only-of-type {\n",
              "        vertical-align: middle;\n",
              "    }\n",
              "\n",
              "    .dataframe tbody tr th {\n",
              "        vertical-align: top;\n",
              "    }\n",
              "\n",
              "    .dataframe thead th {\n",
              "        text-align: right;\n",
              "    }\n",
              "</style>\n",
              "<table border=\"1\" class=\"dataframe\">\n",
              "  <thead>\n",
              "    <tr style=\"text-align: right;\">\n",
              "      <th></th>\n",
              "      <th>vehicle_id</th>\n",
              "      <th>trip_id</th>\n",
              "      <th>datetime</th>\n",
              "      <th>lat</th>\n",
              "      <th>long</th>\n",
              "      <th>velocity</th>\n",
              "    </tr>\n",
              "  </thead>\n",
              "  <tbody>\n",
              "    <tr>\n",
              "      <th>0</th>\n",
              "      <td>1000516</td>\n",
              "      <td>2e2a9936393a424abf4dea3943c83040</td>\n",
              "      <td>2017-01-01 07:00:00</td>\n",
              "      <td>31.4375</td>\n",
              "      <td>-85.437500</td>\n",
              "      <td>0.00</td>\n",
              "    </tr>\n",
              "    <tr>\n",
              "      <th>1</th>\n",
              "      <td>1000516</td>\n",
              "      <td>2e2a9936393a424abf4dea3943c83040</td>\n",
              "      <td>2017-01-01 07:00:01</td>\n",
              "      <td>31.4375</td>\n",
              "      <td>-85.437222</td>\n",
              "      <td>63.41</td>\n",
              "    </tr>\n",
              "    <tr>\n",
              "      <th>2</th>\n",
              "      <td>1000516</td>\n",
              "      <td>2e2a9936393a424abf4dea3943c83040</td>\n",
              "      <td>2017-01-01 07:00:02</td>\n",
              "      <td>31.4375</td>\n",
              "      <td>-85.436944</td>\n",
              "      <td>90.37</td>\n",
              "    </tr>\n",
              "  </tbody>\n",
              "</table>\n",
              "</div>"
            ],
            "text/plain": [
              "   vehicle_id                           trip_id  ...       long  velocity\n",
              "0     1000516  2e2a9936393a424abf4dea3943c83040  ... -85.437500      0.00\n",
              "1     1000516  2e2a9936393a424abf4dea3943c83040  ... -85.437222     63.41\n",
              "2     1000516  2e2a9936393a424abf4dea3943c83040  ... -85.436944     90.37\n",
              "\n",
              "[3 rows x 6 columns]"
            ]
          },
          "metadata": {
            "tags": []
          },
          "execution_count": 28
        }
      ]
    },
    {
      "cell_type": "code",
      "metadata": {
        "id": "lGz52MhsewxL",
        "colab_type": "code",
        "colab": {
          "base_uri": "https://localhost:8080/",
          "height": 171
        },
        "outputId": "6af799a5-a41f-4a42-8c5f-8c7e1a704adf"
      },
      "source": [
        "trip_df[(trip_df['lat'] == 31.0625)].head(4)"
      ],
      "execution_count": 29,
      "outputs": [
        {
          "output_type": "execute_result",
          "data": {
            "text/html": [
              "<div>\n",
              "<style scoped>\n",
              "    .dataframe tbody tr th:only-of-type {\n",
              "        vertical-align: middle;\n",
              "    }\n",
              "\n",
              "    .dataframe tbody tr th {\n",
              "        vertical-align: top;\n",
              "    }\n",
              "\n",
              "    .dataframe thead th {\n",
              "        text-align: right;\n",
              "    }\n",
              "</style>\n",
              "<table border=\"1\" class=\"dataframe\">\n",
              "  <thead>\n",
              "    <tr style=\"text-align: right;\">\n",
              "      <th></th>\n",
              "      <th>vehicle_id</th>\n",
              "      <th>trip_id</th>\n",
              "      <th>datetime</th>\n",
              "      <th>lat</th>\n",
              "      <th>long</th>\n",
              "      <th>velocity</th>\n",
              "    </tr>\n",
              "  </thead>\n",
              "  <tbody>\n",
              "    <tr>\n",
              "      <th>66987</th>\n",
              "      <td>1000516</td>\n",
              "      <td>356e2c3b278645dd9bf1fbbc88ba5e8c</td>\n",
              "      <td>2017-01-01 19:00:00</td>\n",
              "      <td>31.0625</td>\n",
              "      <td>-88.312500</td>\n",
              "      <td>0.00</td>\n",
              "    </tr>\n",
              "    <tr>\n",
              "      <th>66988</th>\n",
              "      <td>1000516</td>\n",
              "      <td>356e2c3b278645dd9bf1fbbc88ba5e8c</td>\n",
              "      <td>2017-01-01 19:00:01</td>\n",
              "      <td>31.0625</td>\n",
              "      <td>-88.312222</td>\n",
              "      <td>40.02</td>\n",
              "    </tr>\n",
              "    <tr>\n",
              "      <th>66989</th>\n",
              "      <td>1000516</td>\n",
              "      <td>356e2c3b278645dd9bf1fbbc88ba5e8c</td>\n",
              "      <td>2017-01-01 19:00:02</td>\n",
              "      <td>31.0625</td>\n",
              "      <td>-88.311944</td>\n",
              "      <td>42.50</td>\n",
              "    </tr>\n",
              "    <tr>\n",
              "      <th>66990</th>\n",
              "      <td>1000516</td>\n",
              "      <td>356e2c3b278645dd9bf1fbbc88ba5e8c</td>\n",
              "      <td>2017-01-01 19:00:03</td>\n",
              "      <td>31.0625</td>\n",
              "      <td>-88.311667</td>\n",
              "      <td>57.29</td>\n",
              "    </tr>\n",
              "  </tbody>\n",
              "</table>\n",
              "</div>"
            ],
            "text/plain": [
              "       vehicle_id                           trip_id  ...       long  velocity\n",
              "66987     1000516  356e2c3b278645dd9bf1fbbc88ba5e8c  ... -88.312500      0.00\n",
              "66988     1000516  356e2c3b278645dd9bf1fbbc88ba5e8c  ... -88.312222     40.02\n",
              "66989     1000516  356e2c3b278645dd9bf1fbbc88ba5e8c  ... -88.311944     42.50\n",
              "66990     1000516  356e2c3b278645dd9bf1fbbc88ba5e8c  ... -88.311667     57.29\n",
              "\n",
              "[4 rows x 6 columns]"
            ]
          },
          "metadata": {
            "tags": []
          },
          "execution_count": 29
        }
      ]
    },
    {
      "cell_type": "code",
      "metadata": {
        "id": "jZryP5UUmMAp",
        "colab_type": "code",
        "colab": {
          "base_uri": "https://localhost:8080/",
          "height": 139
        },
        "outputId": "88e3e880-c5ab-42ac-d975-615c2ceae2d7"
      },
      "source": [
        "trip_df.dtypes"
      ],
      "execution_count": 30,
      "outputs": [
        {
          "output_type": "execute_result",
          "data": {
            "text/plain": [
              "vehicle_id      int64\n",
              "trip_id        object\n",
              "datetime       object\n",
              "lat           float64\n",
              "long          float64\n",
              "velocity      float64\n",
              "dtype: object"
            ]
          },
          "metadata": {
            "tags": []
          },
          "execution_count": 30
        }
      ]
    },
    {
      "cell_type": "code",
      "metadata": {
        "id": "NPVQS4DmmB3o",
        "colab_type": "code",
        "colab": {}
      },
      "source": [
        "from datetime import datetime, time\n",
        "def convert_datetime(x): \n",
        "  return datetime.strptime(str(x),'%Y-%m-%d %H:%M:%S')  "
      ],
      "execution_count": 0,
      "outputs": []
    },
    {
      "cell_type": "code",
      "metadata": {
        "id": "7cmX9i23mCeB",
        "colab_type": "code",
        "colab": {}
      },
      "source": [
        "from datetime import datetime\n",
        "from pytz import timezone\n",
        "\n",
        "\n",
        "def convert_date_timezone(x):  \n",
        "  datetime_obj_naive = datetime.strptime(str(x),'%Y-%m-%d %H:%M:%S')\n",
        "  # Right way!\n",
        "  datetime_obj_pacific = datetime_obj_naive.astimezone(timezone('US/Pacific'))\n",
        "  return (datetime_obj_pacific.strftime(\"%Y-%m-%d %H:%M:%S\"))"
      ],
      "execution_count": 0,
      "outputs": []
    },
    {
      "cell_type": "code",
      "metadata": {
        "id": "C23cbWP8mE8m",
        "colab_type": "code",
        "colab": {}
      },
      "source": [
        "trip_df['datetime'] =  trip_df['datetime'].apply(lambda x :convert_date_timezone(x)) "
      ],
      "execution_count": 0,
      "outputs": []
    },
    {
      "cell_type": "code",
      "metadata": {
        "id": "JMe0XEK_2Jr1",
        "colab_type": "code",
        "colab": {
          "base_uri": "https://localhost:8080/",
          "height": 141
        },
        "outputId": "de5dd9b9-b0d0-4a72-cd6e-8202a936c99a"
      },
      "source": [
        "trip_df.head(3)"
      ],
      "execution_count": 34,
      "outputs": [
        {
          "output_type": "execute_result",
          "data": {
            "text/html": [
              "<div>\n",
              "<style scoped>\n",
              "    .dataframe tbody tr th:only-of-type {\n",
              "        vertical-align: middle;\n",
              "    }\n",
              "\n",
              "    .dataframe tbody tr th {\n",
              "        vertical-align: top;\n",
              "    }\n",
              "\n",
              "    .dataframe thead th {\n",
              "        text-align: right;\n",
              "    }\n",
              "</style>\n",
              "<table border=\"1\" class=\"dataframe\">\n",
              "  <thead>\n",
              "    <tr style=\"text-align: right;\">\n",
              "      <th></th>\n",
              "      <th>vehicle_id</th>\n",
              "      <th>trip_id</th>\n",
              "      <th>datetime</th>\n",
              "      <th>lat</th>\n",
              "      <th>long</th>\n",
              "      <th>velocity</th>\n",
              "    </tr>\n",
              "  </thead>\n",
              "  <tbody>\n",
              "    <tr>\n",
              "      <th>0</th>\n",
              "      <td>1000516</td>\n",
              "      <td>2e2a9936393a424abf4dea3943c83040</td>\n",
              "      <td>2016-12-31 23:00:00</td>\n",
              "      <td>31.4375</td>\n",
              "      <td>-85.437500</td>\n",
              "      <td>0.00</td>\n",
              "    </tr>\n",
              "    <tr>\n",
              "      <th>1</th>\n",
              "      <td>1000516</td>\n",
              "      <td>2e2a9936393a424abf4dea3943c83040</td>\n",
              "      <td>2016-12-31 23:00:01</td>\n",
              "      <td>31.4375</td>\n",
              "      <td>-85.437222</td>\n",
              "      <td>63.41</td>\n",
              "    </tr>\n",
              "    <tr>\n",
              "      <th>2</th>\n",
              "      <td>1000516</td>\n",
              "      <td>2e2a9936393a424abf4dea3943c83040</td>\n",
              "      <td>2016-12-31 23:00:02</td>\n",
              "      <td>31.4375</td>\n",
              "      <td>-85.436944</td>\n",
              "      <td>90.37</td>\n",
              "    </tr>\n",
              "  </tbody>\n",
              "</table>\n",
              "</div>"
            ],
            "text/plain": [
              "   vehicle_id                           trip_id  ...       long  velocity\n",
              "0     1000516  2e2a9936393a424abf4dea3943c83040  ... -85.437500      0.00\n",
              "1     1000516  2e2a9936393a424abf4dea3943c83040  ... -85.437222     63.41\n",
              "2     1000516  2e2a9936393a424abf4dea3943c83040  ... -85.436944     90.37\n",
              "\n",
              "[3 rows x 6 columns]"
            ]
          },
          "metadata": {
            "tags": []
          },
          "execution_count": 34
        }
      ]
    },
    {
      "cell_type": "code",
      "metadata": {
        "id": "EdsoKPoe142b",
        "colab_type": "code",
        "colab": {
          "base_uri": "https://localhost:8080/",
          "height": 35
        },
        "outputId": "3277a8db-d17e-44b2-d926-1d9b9348fec5"
      },
      "source": [
        "trip_df.shape"
      ],
      "execution_count": 35,
      "outputs": [
        {
          "output_type": "execute_result",
          "data": {
            "text/plain": [
              "(9217528, 6)"
            ]
          },
          "metadata": {
            "tags": []
          },
          "execution_count": 35
        }
      ]
    },
    {
      "cell_type": "code",
      "metadata": {
        "id": "bKvQt5eG7hZU",
        "colab_type": "code",
        "colab": {
          "base_uri": "https://localhost:8080/",
          "height": 139
        },
        "outputId": "dd7c5309-74b6-4b12-8a66-c1fedb7b5374"
      },
      "source": [
        "trip_df.dtypes"
      ],
      "execution_count": 36,
      "outputs": [
        {
          "output_type": "execute_result",
          "data": {
            "text/plain": [
              "vehicle_id      int64\n",
              "trip_id        object\n",
              "datetime       object\n",
              "lat           float64\n",
              "long          float64\n",
              "velocity      float64\n",
              "dtype: object"
            ]
          },
          "metadata": {
            "tags": []
          },
          "execution_count": 36
        }
      ]
    },
    {
      "cell_type": "code",
      "metadata": {
        "id": "eZYFahe-tRMH",
        "colab_type": "code",
        "colab": {}
      },
      "source": [
        "# from datetime import datetime, timedelta\n",
        "# def reduce_hrs_to_pst(x):\n",
        "#   date_obj = datetime.strptime(str(x), '%Y-%m-%d %H:%M:%S')\n",
        "#   date_obj = date_obj - timedelta(hours=8)\n",
        "#   return date_obj"
      ],
      "execution_count": 0,
      "outputs": []
    },
    {
      "cell_type": "code",
      "metadata": {
        "id": "hx3veEMr9z4T",
        "colab_type": "code",
        "colab": {}
      },
      "source": [
        "# trip_df['datetime_mod_pst'] = trip_df['datetime_mod'].apply(lambda x: reduce_hrs_to_pst(x))"
      ],
      "execution_count": 0,
      "outputs": []
    },
    {
      "cell_type": "code",
      "metadata": {
        "id": "123erGHas4LA",
        "colab_type": "code",
        "colab": {}
      },
      "source": [
        "trip_df[\"date\"] = pd.to_datetime(trip_df[\"datetime\"]).dt.date\n",
        "trip_df[\"time\"] = pd.to_datetime(trip_df[\"datetime\"]).dt.time"
      ],
      "execution_count": 0,
      "outputs": []
    },
    {
      "cell_type": "code",
      "metadata": {
        "id": "eNGO9nTYvzS4",
        "colab_type": "code",
        "colab": {
          "base_uri": "https://localhost:8080/",
          "height": 193
        },
        "outputId": "e1ef2889-74f7-4bfe-8613-904b2f34c777"
      },
      "source": [
        "trip_df.head(3)"
      ],
      "execution_count": 40,
      "outputs": [
        {
          "output_type": "execute_result",
          "data": {
            "text/html": [
              "<div>\n",
              "<style scoped>\n",
              "    .dataframe tbody tr th:only-of-type {\n",
              "        vertical-align: middle;\n",
              "    }\n",
              "\n",
              "    .dataframe tbody tr th {\n",
              "        vertical-align: top;\n",
              "    }\n",
              "\n",
              "    .dataframe thead th {\n",
              "        text-align: right;\n",
              "    }\n",
              "</style>\n",
              "<table border=\"1\" class=\"dataframe\">\n",
              "  <thead>\n",
              "    <tr style=\"text-align: right;\">\n",
              "      <th></th>\n",
              "      <th>vehicle_id</th>\n",
              "      <th>trip_id</th>\n",
              "      <th>datetime</th>\n",
              "      <th>lat</th>\n",
              "      <th>long</th>\n",
              "      <th>velocity</th>\n",
              "      <th>date</th>\n",
              "      <th>time</th>\n",
              "    </tr>\n",
              "  </thead>\n",
              "  <tbody>\n",
              "    <tr>\n",
              "      <th>0</th>\n",
              "      <td>1000516</td>\n",
              "      <td>2e2a9936393a424abf4dea3943c83040</td>\n",
              "      <td>2016-12-31 23:00:00</td>\n",
              "      <td>31.4375</td>\n",
              "      <td>-85.437500</td>\n",
              "      <td>0.00</td>\n",
              "      <td>2016-12-31</td>\n",
              "      <td>23:00:00</td>\n",
              "    </tr>\n",
              "    <tr>\n",
              "      <th>1</th>\n",
              "      <td>1000516</td>\n",
              "      <td>2e2a9936393a424abf4dea3943c83040</td>\n",
              "      <td>2016-12-31 23:00:01</td>\n",
              "      <td>31.4375</td>\n",
              "      <td>-85.437222</td>\n",
              "      <td>63.41</td>\n",
              "      <td>2016-12-31</td>\n",
              "      <td>23:00:01</td>\n",
              "    </tr>\n",
              "    <tr>\n",
              "      <th>2</th>\n",
              "      <td>1000516</td>\n",
              "      <td>2e2a9936393a424abf4dea3943c83040</td>\n",
              "      <td>2016-12-31 23:00:02</td>\n",
              "      <td>31.4375</td>\n",
              "      <td>-85.436944</td>\n",
              "      <td>90.37</td>\n",
              "      <td>2016-12-31</td>\n",
              "      <td>23:00:02</td>\n",
              "    </tr>\n",
              "  </tbody>\n",
              "</table>\n",
              "</div>"
            ],
            "text/plain": [
              "   vehicle_id                           trip_id  ...        date      time\n",
              "0     1000516  2e2a9936393a424abf4dea3943c83040  ...  2016-12-31  23:00:00\n",
              "1     1000516  2e2a9936393a424abf4dea3943c83040  ...  2016-12-31  23:00:01\n",
              "2     1000516  2e2a9936393a424abf4dea3943c83040  ...  2016-12-31  23:00:02\n",
              "\n",
              "[3 rows x 8 columns]"
            ]
          },
          "metadata": {
            "tags": []
          },
          "execution_count": 40
        }
      ]
    },
    {
      "cell_type": "code",
      "metadata": {
        "id": "33YiYc1VwsNk",
        "colab_type": "code",
        "colab": {
          "base_uri": "https://localhost:8080/",
          "height": 173
        },
        "outputId": "8920422c-fd6b-4c24-bbfd-0445bdcdc3e4"
      },
      "source": [
        "trip_df.dtypes"
      ],
      "execution_count": 41,
      "outputs": [
        {
          "output_type": "execute_result",
          "data": {
            "text/plain": [
              "vehicle_id      int64\n",
              "trip_id        object\n",
              "datetime       object\n",
              "lat           float64\n",
              "long          float64\n",
              "velocity      float64\n",
              "date           object\n",
              "time           object\n",
              "dtype: object"
            ]
          },
          "metadata": {
            "tags": []
          },
          "execution_count": 41
        }
      ]
    },
    {
      "cell_type": "code",
      "metadata": {
        "id": "Ew6T-Q42xVuT",
        "colab_type": "code",
        "colab": {}
      },
      "source": [
        "trip_df['geohash_trip_df']=trip_df.apply(lambda x: gh.encode(x.lat, x.long,  precision=5), axis=1)"
      ],
      "execution_count": 0,
      "outputs": []
    },
    {
      "cell_type": "code",
      "metadata": {
        "id": "85bmtHNgzg4h",
        "colab_type": "code",
        "colab": {
          "base_uri": "https://localhost:8080/",
          "height": 265
        },
        "outputId": "9fff690d-97cf-402d-ba10-4313bf4b0f70"
      },
      "source": [
        "trip_df.head(3)"
      ],
      "execution_count": 43,
      "outputs": [
        {
          "output_type": "execute_result",
          "data": {
            "text/html": [
              "<div>\n",
              "<style scoped>\n",
              "    .dataframe tbody tr th:only-of-type {\n",
              "        vertical-align: middle;\n",
              "    }\n",
              "\n",
              "    .dataframe tbody tr th {\n",
              "        vertical-align: top;\n",
              "    }\n",
              "\n",
              "    .dataframe thead th {\n",
              "        text-align: right;\n",
              "    }\n",
              "</style>\n",
              "<table border=\"1\" class=\"dataframe\">\n",
              "  <thead>\n",
              "    <tr style=\"text-align: right;\">\n",
              "      <th></th>\n",
              "      <th>vehicle_id</th>\n",
              "      <th>trip_id</th>\n",
              "      <th>datetime</th>\n",
              "      <th>lat</th>\n",
              "      <th>long</th>\n",
              "      <th>velocity</th>\n",
              "      <th>date</th>\n",
              "      <th>time</th>\n",
              "      <th>geohash_trip_df</th>\n",
              "    </tr>\n",
              "  </thead>\n",
              "  <tbody>\n",
              "    <tr>\n",
              "      <th>0</th>\n",
              "      <td>1000516</td>\n",
              "      <td>2e2a9936393a424abf4dea3943c83040</td>\n",
              "      <td>2016-12-31 23:00:00</td>\n",
              "      <td>31.4375</td>\n",
              "      <td>-85.437500</td>\n",
              "      <td>0.00</td>\n",
              "      <td>2016-12-31</td>\n",
              "      <td>23:00:00</td>\n",
              "      <td>dje4z</td>\n",
              "    </tr>\n",
              "    <tr>\n",
              "      <th>1</th>\n",
              "      <td>1000516</td>\n",
              "      <td>2e2a9936393a424abf4dea3943c83040</td>\n",
              "      <td>2016-12-31 23:00:01</td>\n",
              "      <td>31.4375</td>\n",
              "      <td>-85.437222</td>\n",
              "      <td>63.41</td>\n",
              "      <td>2016-12-31</td>\n",
              "      <td>23:00:01</td>\n",
              "      <td>dje4z</td>\n",
              "    </tr>\n",
              "    <tr>\n",
              "      <th>2</th>\n",
              "      <td>1000516</td>\n",
              "      <td>2e2a9936393a424abf4dea3943c83040</td>\n",
              "      <td>2016-12-31 23:00:02</td>\n",
              "      <td>31.4375</td>\n",
              "      <td>-85.436944</td>\n",
              "      <td>90.37</td>\n",
              "      <td>2016-12-31</td>\n",
              "      <td>23:00:02</td>\n",
              "      <td>dje4z</td>\n",
              "    </tr>\n",
              "  </tbody>\n",
              "</table>\n",
              "</div>"
            ],
            "text/plain": [
              "   vehicle_id                           trip_id  ...      time  geohash_trip_df\n",
              "0     1000516  2e2a9936393a424abf4dea3943c83040  ...  23:00:00            dje4z\n",
              "1     1000516  2e2a9936393a424abf4dea3943c83040  ...  23:00:01            dje4z\n",
              "2     1000516  2e2a9936393a424abf4dea3943c83040  ...  23:00:02            dje4z\n",
              "\n",
              "[3 rows x 9 columns]"
            ]
          },
          "metadata": {
            "tags": []
          },
          "execution_count": 43
        }
      ]
    },
    {
      "cell_type": "code",
      "metadata": {
        "id": "nhKHVostvEBN",
        "colab_type": "code",
        "colab": {}
      },
      "source": [
        "#extract only hour\n",
        "def get_hour(x):\n",
        "  return x.hour\n",
        "\n",
        "trip_df['time_hour'] = trip_df['time'].apply(lambda x: x.hour)"
      ],
      "execution_count": 0,
      "outputs": []
    },
    {
      "cell_type": "code",
      "metadata": {
        "id": "X5qsHzy7wg9s",
        "colab_type": "code",
        "colab": {
          "base_uri": "https://localhost:8080/",
          "height": 265
        },
        "outputId": "101ec0a2-2295-4b2a-be0f-7a12a2701634"
      },
      "source": [
        "trip_df.head(3)"
      ],
      "execution_count": 45,
      "outputs": [
        {
          "output_type": "execute_result",
          "data": {
            "text/html": [
              "<div>\n",
              "<style scoped>\n",
              "    .dataframe tbody tr th:only-of-type {\n",
              "        vertical-align: middle;\n",
              "    }\n",
              "\n",
              "    .dataframe tbody tr th {\n",
              "        vertical-align: top;\n",
              "    }\n",
              "\n",
              "    .dataframe thead th {\n",
              "        text-align: right;\n",
              "    }\n",
              "</style>\n",
              "<table border=\"1\" class=\"dataframe\">\n",
              "  <thead>\n",
              "    <tr style=\"text-align: right;\">\n",
              "      <th></th>\n",
              "      <th>vehicle_id</th>\n",
              "      <th>trip_id</th>\n",
              "      <th>datetime</th>\n",
              "      <th>lat</th>\n",
              "      <th>long</th>\n",
              "      <th>velocity</th>\n",
              "      <th>date</th>\n",
              "      <th>time</th>\n",
              "      <th>geohash_trip_df</th>\n",
              "      <th>time_hour</th>\n",
              "    </tr>\n",
              "  </thead>\n",
              "  <tbody>\n",
              "    <tr>\n",
              "      <th>0</th>\n",
              "      <td>1000516</td>\n",
              "      <td>2e2a9936393a424abf4dea3943c83040</td>\n",
              "      <td>2016-12-31 23:00:00</td>\n",
              "      <td>31.4375</td>\n",
              "      <td>-85.437500</td>\n",
              "      <td>0.00</td>\n",
              "      <td>2016-12-31</td>\n",
              "      <td>23:00:00</td>\n",
              "      <td>dje4z</td>\n",
              "      <td>23</td>\n",
              "    </tr>\n",
              "    <tr>\n",
              "      <th>1</th>\n",
              "      <td>1000516</td>\n",
              "      <td>2e2a9936393a424abf4dea3943c83040</td>\n",
              "      <td>2016-12-31 23:00:01</td>\n",
              "      <td>31.4375</td>\n",
              "      <td>-85.437222</td>\n",
              "      <td>63.41</td>\n",
              "      <td>2016-12-31</td>\n",
              "      <td>23:00:01</td>\n",
              "      <td>dje4z</td>\n",
              "      <td>23</td>\n",
              "    </tr>\n",
              "    <tr>\n",
              "      <th>2</th>\n",
              "      <td>1000516</td>\n",
              "      <td>2e2a9936393a424abf4dea3943c83040</td>\n",
              "      <td>2016-12-31 23:00:02</td>\n",
              "      <td>31.4375</td>\n",
              "      <td>-85.436944</td>\n",
              "      <td>90.37</td>\n",
              "      <td>2016-12-31</td>\n",
              "      <td>23:00:02</td>\n",
              "      <td>dje4z</td>\n",
              "      <td>23</td>\n",
              "    </tr>\n",
              "  </tbody>\n",
              "</table>\n",
              "</div>"
            ],
            "text/plain": [
              "   vehicle_id                           trip_id  ... geohash_trip_df  time_hour\n",
              "0     1000516  2e2a9936393a424abf4dea3943c83040  ...           dje4z         23\n",
              "1     1000516  2e2a9936393a424abf4dea3943c83040  ...           dje4z         23\n",
              "2     1000516  2e2a9936393a424abf4dea3943c83040  ...           dje4z         23\n",
              "\n",
              "[3 rows x 10 columns]"
            ]
          },
          "metadata": {
            "tags": []
          },
          "execution_count": 45
        }
      ]
    },
    {
      "cell_type": "code",
      "metadata": {
        "id": "Oc8eIGLlxUQu",
        "colab_type": "code",
        "colab": {}
      },
      "source": [
        "labels = {\n",
        " '00Z' : 17,\n",
        " '01Z' : 18,\n",
        " '02Z' : 19,\n",
        " '03Z' : 20,\n",
        " '04Z' : 21,\n",
        " '05Z' : 22,\n",
        " '06Z' : 23,\n",
        " '07Z' : 1,\n",
        " '08Z' : 2,\n",
        " '09Z' : 3,\n",
        " '10Z' : 4,\n",
        " '11Z' : 5,\n",
        " '12Z' : 6,\n",
        " '13Z' : 7,\n",
        " '14Z' : 8,\n",
        " '15Z' : 9,\n",
        " '16Z' : 10,\n",
        " '17Z' : 11,\n",
        " '18Z' : 12,\n",
        " '19Z' : 13,\n",
        " '20Z' : 14,\n",
        " '21Z' : 15,\n",
        " '22Z' : 16,\n",
        " '23Z' : 17 \n",
        "}"
      ],
      "execution_count": 0,
      "outputs": []
    },
    {
      "cell_type": "code",
      "metadata": {
        "id": "YsTGyrcLzt3c",
        "colab_type": "code",
        "colab": {}
      },
      "source": [
        "labels = dict((v,k) for k,v in labels.items())"
      ],
      "execution_count": 0,
      "outputs": []
    },
    {
      "cell_type": "code",
      "metadata": {
        "id": "xXATl34VzvPs",
        "colab_type": "code",
        "colab": {
          "base_uri": "https://localhost:8080/",
          "height": 416
        },
        "outputId": "3033065e-1f03-4f84-f10d-d67c5517daf1"
      },
      "source": [
        "labels"
      ],
      "execution_count": 48,
      "outputs": [
        {
          "output_type": "execute_result",
          "data": {
            "text/plain": [
              "{1: '07Z',\n",
              " 2: '08Z',\n",
              " 3: '09Z',\n",
              " 4: '10Z',\n",
              " 5: '11Z',\n",
              " 6: '12Z',\n",
              " 7: '13Z',\n",
              " 8: '14Z',\n",
              " 9: '15Z',\n",
              " 10: '16Z',\n",
              " 11: '17Z',\n",
              " 12: '18Z',\n",
              " 13: '19Z',\n",
              " 14: '20Z',\n",
              " 15: '21Z',\n",
              " 16: '22Z',\n",
              " 17: '23Z',\n",
              " 18: '01Z',\n",
              " 19: '02Z',\n",
              " 20: '03Z',\n",
              " 21: '04Z',\n",
              " 22: '05Z',\n",
              " 23: '06Z'}"
            ]
          },
          "metadata": {
            "tags": []
          },
          "execution_count": 48
        }
      ]
    },
    {
      "cell_type": "code",
      "metadata": {
        "id": "pTunoyIsz7VP",
        "colab_type": "code",
        "colab": {}
      },
      "source": [
        "trip_df = trip_df.replace({\"time_hour\": labels})"
      ],
      "execution_count": 0,
      "outputs": []
    },
    {
      "cell_type": "code",
      "metadata": {
        "id": "0TPD28526fHt",
        "colab_type": "code",
        "colab": {}
      },
      "source": [
        "trip_df['date'] = trip_df['date'].apply(lambda x: str(x))"
      ],
      "execution_count": 0,
      "outputs": []
    },
    {
      "cell_type": "code",
      "metadata": {
        "id": "nItBJvGy-Hlj",
        "colab_type": "code",
        "colab": {
          "base_uri": "https://localhost:8080/",
          "height": 265
        },
        "outputId": "f590dbfb-28a6-4399-db82-e5ca7ac3c528"
      },
      "source": [
        "trip_df.head(3)"
      ],
      "execution_count": 51,
      "outputs": [
        {
          "output_type": "execute_result",
          "data": {
            "text/html": [
              "<div>\n",
              "<style scoped>\n",
              "    .dataframe tbody tr th:only-of-type {\n",
              "        vertical-align: middle;\n",
              "    }\n",
              "\n",
              "    .dataframe tbody tr th {\n",
              "        vertical-align: top;\n",
              "    }\n",
              "\n",
              "    .dataframe thead th {\n",
              "        text-align: right;\n",
              "    }\n",
              "</style>\n",
              "<table border=\"1\" class=\"dataframe\">\n",
              "  <thead>\n",
              "    <tr style=\"text-align: right;\">\n",
              "      <th></th>\n",
              "      <th>vehicle_id</th>\n",
              "      <th>trip_id</th>\n",
              "      <th>datetime</th>\n",
              "      <th>lat</th>\n",
              "      <th>long</th>\n",
              "      <th>velocity</th>\n",
              "      <th>date</th>\n",
              "      <th>time</th>\n",
              "      <th>geohash_trip_df</th>\n",
              "      <th>time_hour</th>\n",
              "    </tr>\n",
              "  </thead>\n",
              "  <tbody>\n",
              "    <tr>\n",
              "      <th>0</th>\n",
              "      <td>1000516</td>\n",
              "      <td>2e2a9936393a424abf4dea3943c83040</td>\n",
              "      <td>2016-12-31 23:00:00</td>\n",
              "      <td>31.4375</td>\n",
              "      <td>-85.437500</td>\n",
              "      <td>0.00</td>\n",
              "      <td>2016-12-31</td>\n",
              "      <td>23:00:00</td>\n",
              "      <td>dje4z</td>\n",
              "      <td>06Z</td>\n",
              "    </tr>\n",
              "    <tr>\n",
              "      <th>1</th>\n",
              "      <td>1000516</td>\n",
              "      <td>2e2a9936393a424abf4dea3943c83040</td>\n",
              "      <td>2016-12-31 23:00:01</td>\n",
              "      <td>31.4375</td>\n",
              "      <td>-85.437222</td>\n",
              "      <td>63.41</td>\n",
              "      <td>2016-12-31</td>\n",
              "      <td>23:00:01</td>\n",
              "      <td>dje4z</td>\n",
              "      <td>06Z</td>\n",
              "    </tr>\n",
              "    <tr>\n",
              "      <th>2</th>\n",
              "      <td>1000516</td>\n",
              "      <td>2e2a9936393a424abf4dea3943c83040</td>\n",
              "      <td>2016-12-31 23:00:02</td>\n",
              "      <td>31.4375</td>\n",
              "      <td>-85.436944</td>\n",
              "      <td>90.37</td>\n",
              "      <td>2016-12-31</td>\n",
              "      <td>23:00:02</td>\n",
              "      <td>dje4z</td>\n",
              "      <td>06Z</td>\n",
              "    </tr>\n",
              "  </tbody>\n",
              "</table>\n",
              "</div>"
            ],
            "text/plain": [
              "   vehicle_id                           trip_id  ... geohash_trip_df  time_hour\n",
              "0     1000516  2e2a9936393a424abf4dea3943c83040  ...           dje4z        06Z\n",
              "1     1000516  2e2a9936393a424abf4dea3943c83040  ...           dje4z        06Z\n",
              "2     1000516  2e2a9936393a424abf4dea3943c83040  ...           dje4z        06Z\n",
              "\n",
              "[3 rows x 10 columns]"
            ]
          },
          "metadata": {
            "tags": []
          },
          "execution_count": 51
        }
      ]
    },
    {
      "cell_type": "code",
      "metadata": {
        "id": "ChYWG6raIGVu",
        "colab_type": "code",
        "colab": {
          "base_uri": "https://localhost:8080/",
          "height": 208
        },
        "outputId": "a9b89a9b-0c8d-4196-d106-ec859ff365ab"
      },
      "source": [
        "trip_df.dtypes"
      ],
      "execution_count": 52,
      "outputs": [
        {
          "output_type": "execute_result",
          "data": {
            "text/plain": [
              "vehicle_id           int64\n",
              "trip_id             object\n",
              "datetime            object\n",
              "lat                float64\n",
              "long               float64\n",
              "velocity           float64\n",
              "date                object\n",
              "time                object\n",
              "geohash_trip_df     object\n",
              "time_hour           object\n",
              "dtype: object"
            ]
          },
          "metadata": {
            "tags": []
          },
          "execution_count": 52
        }
      ]
    },
    {
      "cell_type": "code",
      "metadata": {
        "id": "pcy1ocHeIUUY",
        "colab_type": "code",
        "colab": {}
      },
      "source": [
        "trip_df['time_hour'] = trip_df['time_hour'].apply(lambda x: str(x))"
      ],
      "execution_count": 0,
      "outputs": []
    },
    {
      "cell_type": "code",
      "metadata": {
        "id": "861g3uGH2qmh",
        "colab_type": "code",
        "colab": {}
      },
      "source": [
        "#Concatenate date , time and geohash_weather_df - and get a unique ID key\n",
        "trip_df['Unique_ID'] = trip_df[['date', 'time_hour', 'geohash_trip_df']].apply(lambda x: '_'.join(x), axis = 1)"
      ],
      "execution_count": 0,
      "outputs": []
    },
    {
      "cell_type": "code",
      "metadata": {
        "id": "_SRQJUr-Bxt-",
        "colab_type": "code",
        "colab": {
          "base_uri": "https://localhost:8080/",
          "height": 69
        },
        "outputId": "f5e8c84c-f5b2-4c39-c365-bb295756a30c"
      },
      "source": [
        "trip_df.columns"
      ],
      "execution_count": 55,
      "outputs": [
        {
          "output_type": "execute_result",
          "data": {
            "text/plain": [
              "Index(['vehicle_id', 'trip_id', 'datetime', 'lat', 'long', 'velocity', 'date',\n",
              "       'time', 'geohash_trip_df', 'time_hour', 'Unique_ID'],\n",
              "      dtype='object')"
            ]
          },
          "metadata": {
            "tags": []
          },
          "execution_count": 55
        }
      ]
    },
    {
      "cell_type": "code",
      "metadata": {
        "id": "72r1THfVCCdQ",
        "colab_type": "code",
        "colab": {}
      },
      "source": [
        "# Python's program to get start and end of week \n",
        "from datetime import datetime, timedelta\n",
        "\n",
        "def start_end_datetime(x):\n",
        "  date_obj = datetime.strptime(str(x), '%Y-%m-%d')\n",
        "  return date_obj - timedelta(days=date_obj.weekday())  # Monday"
      ],
      "execution_count": 0,
      "outputs": []
    },
    {
      "cell_type": "code",
      "metadata": {
        "id": "bR53OhqZCFu3",
        "colab_type": "code",
        "colab": {}
      },
      "source": [
        "trip_df['week_start_date'] = trip_df['date'].apply(lambda x:start_end_datetime(x))"
      ],
      "execution_count": 0,
      "outputs": []
    },
    {
      "cell_type": "code",
      "metadata": {
        "id": "9HJnqSvDKaoz",
        "colab_type": "code",
        "colab": {
          "base_uri": "https://localhost:8080/",
          "height": 121
        },
        "outputId": "e0124470-f092-499f-abbc-0379219060fc"
      },
      "source": [
        "trip_df['week_start_date'].unique()"
      ],
      "execution_count": 58,
      "outputs": [
        {
          "output_type": "execute_result",
          "data": {
            "text/plain": [
              "array(['2016-12-26T00:00:00.000000000', '2017-02-20T00:00:00.000000000',\n",
              "       '2017-02-27T00:00:00.000000000', '2017-01-02T00:00:00.000000000',\n",
              "       '2017-01-16T00:00:00.000000000', '2017-02-13T00:00:00.000000000',\n",
              "       '2017-01-09T00:00:00.000000000', '2017-01-30T00:00:00.000000000',\n",
              "       '2017-01-23T00:00:00.000000000', '2017-02-06T00:00:00.000000000'],\n",
              "      dtype='datetime64[ns]')"
            ]
          },
          "metadata": {
            "tags": []
          },
          "execution_count": 58
        }
      ]
    },
    {
      "cell_type": "code",
      "metadata": {
        "id": "MDhJ_zcLKsQJ",
        "colab_type": "code",
        "colab": {
          "base_uri": "https://localhost:8080/",
          "height": 265
        },
        "outputId": "67349ded-a83a-49c9-83ae-79eca0e9fc88"
      },
      "source": [
        "trip_df.head(3)"
      ],
      "execution_count": 59,
      "outputs": [
        {
          "output_type": "execute_result",
          "data": {
            "text/html": [
              "<div>\n",
              "<style scoped>\n",
              "    .dataframe tbody tr th:only-of-type {\n",
              "        vertical-align: middle;\n",
              "    }\n",
              "\n",
              "    .dataframe tbody tr th {\n",
              "        vertical-align: top;\n",
              "    }\n",
              "\n",
              "    .dataframe thead th {\n",
              "        text-align: right;\n",
              "    }\n",
              "</style>\n",
              "<table border=\"1\" class=\"dataframe\">\n",
              "  <thead>\n",
              "    <tr style=\"text-align: right;\">\n",
              "      <th></th>\n",
              "      <th>vehicle_id</th>\n",
              "      <th>trip_id</th>\n",
              "      <th>datetime</th>\n",
              "      <th>lat</th>\n",
              "      <th>long</th>\n",
              "      <th>velocity</th>\n",
              "      <th>date</th>\n",
              "      <th>time</th>\n",
              "      <th>geohash_trip_df</th>\n",
              "      <th>time_hour</th>\n",
              "      <th>Unique_ID</th>\n",
              "      <th>week_start_date</th>\n",
              "    </tr>\n",
              "  </thead>\n",
              "  <tbody>\n",
              "    <tr>\n",
              "      <th>0</th>\n",
              "      <td>1000516</td>\n",
              "      <td>2e2a9936393a424abf4dea3943c83040</td>\n",
              "      <td>2016-12-31 23:00:00</td>\n",
              "      <td>31.4375</td>\n",
              "      <td>-85.437500</td>\n",
              "      <td>0.00</td>\n",
              "      <td>2016-12-31</td>\n",
              "      <td>23:00:00</td>\n",
              "      <td>dje4z</td>\n",
              "      <td>06Z</td>\n",
              "      <td>2016-12-31_06Z_dje4z</td>\n",
              "      <td>2016-12-26</td>\n",
              "    </tr>\n",
              "    <tr>\n",
              "      <th>1</th>\n",
              "      <td>1000516</td>\n",
              "      <td>2e2a9936393a424abf4dea3943c83040</td>\n",
              "      <td>2016-12-31 23:00:01</td>\n",
              "      <td>31.4375</td>\n",
              "      <td>-85.437222</td>\n",
              "      <td>63.41</td>\n",
              "      <td>2016-12-31</td>\n",
              "      <td>23:00:01</td>\n",
              "      <td>dje4z</td>\n",
              "      <td>06Z</td>\n",
              "      <td>2016-12-31_06Z_dje4z</td>\n",
              "      <td>2016-12-26</td>\n",
              "    </tr>\n",
              "    <tr>\n",
              "      <th>2</th>\n",
              "      <td>1000516</td>\n",
              "      <td>2e2a9936393a424abf4dea3943c83040</td>\n",
              "      <td>2016-12-31 23:00:02</td>\n",
              "      <td>31.4375</td>\n",
              "      <td>-85.436944</td>\n",
              "      <td>90.37</td>\n",
              "      <td>2016-12-31</td>\n",
              "      <td>23:00:02</td>\n",
              "      <td>dje4z</td>\n",
              "      <td>06Z</td>\n",
              "      <td>2016-12-31_06Z_dje4z</td>\n",
              "      <td>2016-12-26</td>\n",
              "    </tr>\n",
              "  </tbody>\n",
              "</table>\n",
              "</div>"
            ],
            "text/plain": [
              "   vehicle_id  ... week_start_date\n",
              "0     1000516  ...      2016-12-26\n",
              "1     1000516  ...      2016-12-26\n",
              "2     1000516  ...      2016-12-26\n",
              "\n",
              "[3 rows x 12 columns]"
            ]
          },
          "metadata": {
            "tags": []
          },
          "execution_count": 59
        }
      ]
    },
    {
      "cell_type": "code",
      "metadata": {
        "id": "oGHqeGC4K3_V",
        "colab_type": "code",
        "colab": {}
      },
      "source": [
        "trip_df_new = trip_df[['vehicle_id', 'week_start_date','datetime','lat', 'long','Unique_ID']]"
      ],
      "execution_count": 0,
      "outputs": []
    },
    {
      "cell_type": "code",
      "metadata": {
        "id": "2k69OP8GLo_x",
        "colab_type": "code",
        "colab": {
          "base_uri": "https://localhost:8080/",
          "height": 35
        },
        "outputId": "54fd4759-dd8c-4788-9ac8-cba4da60874b"
      },
      "source": [
        "trip_df_new.shape"
      ],
      "execution_count": 61,
      "outputs": [
        {
          "output_type": "execute_result",
          "data": {
            "text/plain": [
              "(9217528, 6)"
            ]
          },
          "metadata": {
            "tags": []
          },
          "execution_count": 61
        }
      ]
    },
    {
      "cell_type": "code",
      "metadata": {
        "id": "-u_H0oD_vZ-r",
        "colab_type": "code",
        "colab": {}
      },
      "source": [
        "del trip_df"
      ],
      "execution_count": 0,
      "outputs": []
    },
    {
      "cell_type": "code",
      "metadata": {
        "id": "XK_ug-90BO1I",
        "colab_type": "code",
        "colab": {}
      },
      "source": [
        "# get the important columns from weather data based on unique key ID map\n",
        "trip_df_new = pd.merge(trip_df_new, weather_df[['Cond_Precip', 'Unique_ID']],on='Unique_ID', how='left')"
      ],
      "execution_count": 0,
      "outputs": []
    },
    {
      "cell_type": "code",
      "metadata": {
        "id": "vuAGd2GZSQO4",
        "colab_type": "code",
        "colab": {
          "base_uri": "https://localhost:8080/",
          "height": 35
        },
        "outputId": "f4e7b2f0-23b7-4e2a-9b8c-63fec95ebec8"
      },
      "source": [
        "trip_df_new.shape"
      ],
      "execution_count": 64,
      "outputs": [
        {
          "output_type": "execute_result",
          "data": {
            "text/plain": [
              "(9217528, 7)"
            ]
          },
          "metadata": {
            "tags": []
          },
          "execution_count": 64
        }
      ]
    },
    {
      "cell_type": "code",
      "metadata": {
        "id": "Pgo5zEGMvjQl",
        "colab_type": "code",
        "colab": {}
      },
      "source": [
        "del weather_df"
      ],
      "execution_count": 0,
      "outputs": []
    },
    {
      "cell_type": "code",
      "metadata": {
        "id": "caKJOOK-aeqa",
        "colab_type": "code",
        "colab": {}
      },
      "source": [
        "# Python 3 program for the  \n",
        "# haversine formula \n",
        "import math \n",
        "  \n",
        "# Python 3 program for the haversine formula \n",
        "def haversine(lat1, lon1, lat2, lon2): \n",
        "      \n",
        "    # distance between latitudes \n",
        "    # and longitudes \n",
        "    dLat = (lat2 - lat1) * math.pi / 180.0\n",
        "    dLon = (lon2 - lon1) * math.pi / 180.0\n",
        "  \n",
        "    # convert to radians \n",
        "    lat1 = (lat1) * math.pi / 180.0\n",
        "    lat2 = (lat2) * math.pi / 180.0\n",
        "  \n",
        "    # apply formulae \n",
        "    a = (pow(math.sin(dLat / 2), 2) + \n",
        "         pow(math.sin(dLon / 2), 2) * \n",
        "             math.cos(lat1) * math.cos(lat2)); \n",
        "    rad = 6371\n",
        "    c = 2 * math.asin(math.sqrt(a)) \n",
        "    return rad * c "
      ],
      "execution_count": 0,
      "outputs": []
    },
    {
      "cell_type": "code",
      "metadata": {
        "id": "GLewjHbzcVtR",
        "colab_type": "code",
        "colab": {
          "base_uri": "https://localhost:8080/",
          "height": 35
        },
        "outputId": "aba1b85d-1a78-45cd-9c2a-68804db48de1"
      },
      "source": [
        "print(haversine(31.4375, -85.437500,31.4375, -85.437222), \"K.M.\") "
      ],
      "execution_count": 67,
      "outputs": [
        {
          "output_type": "stream",
          "text": [
            "0.0263745773768242 K.M.\n"
          ],
          "name": "stdout"
        }
      ]
    },
    {
      "cell_type": "code",
      "metadata": {
        "id": "wIduRnq1eiAQ",
        "colab_type": "code",
        "colab": {
          "base_uri": "https://localhost:8080/",
          "height": 69
        },
        "outputId": "9f40794d-7ca3-43ee-c088-6b09a8ce883d"
      },
      "source": [
        "trip_df_new['Cond_Precip'].unique()"
      ],
      "execution_count": 68,
      "outputs": [
        {
          "output_type": "execute_result",
          "data": {
            "text/plain": [
              "array([nan, 'Rain_Light', 'Rain_Moderate', 'Rain_Heavy',\n",
              "       'Freezing_Rain_Light', 'Snow_Light', 'Freezing_Rain_Moderate',\n",
              "       'Snow_Moderate'], dtype=object)"
            ]
          },
          "metadata": {
            "tags": []
          },
          "execution_count": 68
        }
      ]
    },
    {
      "cell_type": "code",
      "metadata": {
        "id": "uMqH433DSoUM",
        "colab_type": "code",
        "colab": {
          "base_uri": "https://localhost:8080/",
          "height": 121
        },
        "outputId": "64c8c3d4-bdcb-4877-e7c2-16e530988e1f"
      },
      "source": [
        "trip_df_new[trip_df_new['Cond_Precip'] == 'Rain_Light']['week_start_date'].unique()"
      ],
      "execution_count": 69,
      "outputs": [
        {
          "output_type": "execute_result",
          "data": {
            "text/plain": [
              "array(['2016-12-26T00:00:00.000000000', '2017-02-20T00:00:00.000000000',\n",
              "       '2017-02-27T00:00:00.000000000', '2017-01-02T00:00:00.000000000',\n",
              "       '2017-01-16T00:00:00.000000000', '2017-02-13T00:00:00.000000000',\n",
              "       '2017-01-09T00:00:00.000000000', '2017-01-30T00:00:00.000000000',\n",
              "       '2017-01-23T00:00:00.000000000', '2017-02-06T00:00:00.000000000'],\n",
              "      dtype='datetime64[ns]')"
            ]
          },
          "metadata": {
            "tags": []
          },
          "execution_count": 69
        }
      ]
    },
    {
      "cell_type": "code",
      "metadata": {
        "id": "cbVpIJBQUejs",
        "colab_type": "code",
        "colab": {
          "base_uri": "https://localhost:8080/",
          "height": 202
        },
        "outputId": "f5626c5b-2bf2-44ac-9e77-9ef7cd9ca004"
      },
      "source": [
        "trip_df_new.head(5)"
      ],
      "execution_count": 70,
      "outputs": [
        {
          "output_type": "execute_result",
          "data": {
            "text/html": [
              "<div>\n",
              "<style scoped>\n",
              "    .dataframe tbody tr th:only-of-type {\n",
              "        vertical-align: middle;\n",
              "    }\n",
              "\n",
              "    .dataframe tbody tr th {\n",
              "        vertical-align: top;\n",
              "    }\n",
              "\n",
              "    .dataframe thead th {\n",
              "        text-align: right;\n",
              "    }\n",
              "</style>\n",
              "<table border=\"1\" class=\"dataframe\">\n",
              "  <thead>\n",
              "    <tr style=\"text-align: right;\">\n",
              "      <th></th>\n",
              "      <th>vehicle_id</th>\n",
              "      <th>week_start_date</th>\n",
              "      <th>datetime</th>\n",
              "      <th>lat</th>\n",
              "      <th>long</th>\n",
              "      <th>Unique_ID</th>\n",
              "      <th>Cond_Precip</th>\n",
              "    </tr>\n",
              "  </thead>\n",
              "  <tbody>\n",
              "    <tr>\n",
              "      <th>0</th>\n",
              "      <td>1000516</td>\n",
              "      <td>2016-12-26</td>\n",
              "      <td>2016-12-31 23:00:00</td>\n",
              "      <td>31.4375</td>\n",
              "      <td>-85.437500</td>\n",
              "      <td>2016-12-31_06Z_dje4z</td>\n",
              "      <td>NaN</td>\n",
              "    </tr>\n",
              "    <tr>\n",
              "      <th>1</th>\n",
              "      <td>1000516</td>\n",
              "      <td>2016-12-26</td>\n",
              "      <td>2016-12-31 23:00:01</td>\n",
              "      <td>31.4375</td>\n",
              "      <td>-85.437222</td>\n",
              "      <td>2016-12-31_06Z_dje4z</td>\n",
              "      <td>NaN</td>\n",
              "    </tr>\n",
              "    <tr>\n",
              "      <th>2</th>\n",
              "      <td>1000516</td>\n",
              "      <td>2016-12-26</td>\n",
              "      <td>2016-12-31 23:00:02</td>\n",
              "      <td>31.4375</td>\n",
              "      <td>-85.436944</td>\n",
              "      <td>2016-12-31_06Z_dje4z</td>\n",
              "      <td>NaN</td>\n",
              "    </tr>\n",
              "    <tr>\n",
              "      <th>3</th>\n",
              "      <td>1000516</td>\n",
              "      <td>2016-12-26</td>\n",
              "      <td>2016-12-31 23:00:03</td>\n",
              "      <td>31.4375</td>\n",
              "      <td>-85.436667</td>\n",
              "      <td>2016-12-31_06Z_dje4z</td>\n",
              "      <td>NaN</td>\n",
              "    </tr>\n",
              "    <tr>\n",
              "      <th>4</th>\n",
              "      <td>1000516</td>\n",
              "      <td>2016-12-26</td>\n",
              "      <td>2016-12-31 23:00:04</td>\n",
              "      <td>31.4375</td>\n",
              "      <td>-85.436389</td>\n",
              "      <td>2016-12-31_06Z_dje4z</td>\n",
              "      <td>NaN</td>\n",
              "    </tr>\n",
              "  </tbody>\n",
              "</table>\n",
              "</div>"
            ],
            "text/plain": [
              "   vehicle_id week_start_date  ...             Unique_ID  Cond_Precip\n",
              "0     1000516      2016-12-26  ...  2016-12-31_06Z_dje4z          NaN\n",
              "1     1000516      2016-12-26  ...  2016-12-31_06Z_dje4z          NaN\n",
              "2     1000516      2016-12-26  ...  2016-12-31_06Z_dje4z          NaN\n",
              "3     1000516      2016-12-26  ...  2016-12-31_06Z_dje4z          NaN\n",
              "4     1000516      2016-12-26  ...  2016-12-31_06Z_dje4z          NaN\n",
              "\n",
              "[5 rows x 7 columns]"
            ]
          },
          "metadata": {
            "tags": []
          },
          "execution_count": 70
        }
      ]
    },
    {
      "cell_type": "code",
      "metadata": {
        "id": "p3Tb5xRxjsmj",
        "colab_type": "code",
        "colab": {}
      },
      "source": [
        "trip_df_new = trip_df_new.sort_values(['vehicle_id', 'week_start_date', 'datetime'], ascending=[True, True, True])"
      ],
      "execution_count": 0,
      "outputs": []
    },
    {
      "cell_type": "code",
      "metadata": {
        "id": "5rRN1MdRVrne",
        "colab_type": "code",
        "colab": {}
      },
      "source": [
        "# Transform the data into lists for each of the columns with an unique index column as trip_id\n",
        "trip_df_new_lst = trip_df_new.groupby(['vehicle_id', 'week_start_date']).agg(pd.Series.tolist).reset_index()"
      ],
      "execution_count": 0,
      "outputs": []
    },
    {
      "cell_type": "code",
      "metadata": {
        "id": "M045FcU_WjSK",
        "colab_type": "code",
        "colab": {
          "base_uri": "https://localhost:8080/",
          "height": 349
        },
        "outputId": "e93ba8cf-73a9-4e24-dd10-f043be874da2"
      },
      "source": [
        "trip_df_new_lst.head(3)"
      ],
      "execution_count": 73,
      "outputs": [
        {
          "output_type": "execute_result",
          "data": {
            "text/html": [
              "<div>\n",
              "<style scoped>\n",
              "    .dataframe tbody tr th:only-of-type {\n",
              "        vertical-align: middle;\n",
              "    }\n",
              "\n",
              "    .dataframe tbody tr th {\n",
              "        vertical-align: top;\n",
              "    }\n",
              "\n",
              "    .dataframe thead th {\n",
              "        text-align: right;\n",
              "    }\n",
              "</style>\n",
              "<table border=\"1\" class=\"dataframe\">\n",
              "  <thead>\n",
              "    <tr style=\"text-align: right;\">\n",
              "      <th></th>\n",
              "      <th>vehicle_id</th>\n",
              "      <th>week_start_date</th>\n",
              "      <th>datetime</th>\n",
              "      <th>lat</th>\n",
              "      <th>long</th>\n",
              "      <th>Unique_ID</th>\n",
              "      <th>Cond_Precip</th>\n",
              "    </tr>\n",
              "  </thead>\n",
              "  <tbody>\n",
              "    <tr>\n",
              "      <th>0</th>\n",
              "      <td>1000500</td>\n",
              "      <td>2016-12-26</td>\n",
              "      <td>[2017-01-01 10:00:00, 2017-01-01 10:00:01, 201...</td>\n",
              "      <td>[31.3125, 31.3125, 31.3125, 31.3125, 31.3125, ...</td>\n",
              "      <td>[-85.1875, -85.18722222222223, -85.18694444444...</td>\n",
              "      <td>[2017-01-01_16Z_dje6j, 2017-01-01_16Z_dje6j, 2...</td>\n",
              "      <td>[Rain_Moderate, Rain_Moderate, Rain_Moderate, ...</td>\n",
              "    </tr>\n",
              "    <tr>\n",
              "      <th>1</th>\n",
              "      <td>1000500</td>\n",
              "      <td>2017-01-02</td>\n",
              "      <td>[2017-01-02 05:00:00, 2017-01-02 05:00:01, 201...</td>\n",
              "      <td>[31.8125, 31.8125, 31.8125, 31.8125, 31.8125, ...</td>\n",
              "      <td>[-95.6875, -95.68722222222223, -95.68694444444...</td>\n",
              "      <td>[2017-01-02_11Z_9veuy, 2017-01-02_11Z_9veuy, 2...</td>\n",
              "      <td>[Rain_Light, Rain_Light, Rain_Light, Rain_Ligh...</td>\n",
              "    </tr>\n",
              "    <tr>\n",
              "      <th>2</th>\n",
              "      <td>1000500</td>\n",
              "      <td>2017-01-09</td>\n",
              "      <td>[2017-01-09 00:00:00, 2017-01-09 00:00:01, 201...</td>\n",
              "      <td>[30.8125, 30.8125, 30.8125, 30.8125, 30.8125, ...</td>\n",
              "      <td>[-84.1875, -84.18722222222223, -84.18694444444...</td>\n",
              "      <td>[2017-01-09_0_djkpk, 2017-01-09_0_djkpk, 2017-...</td>\n",
              "      <td>[nan, nan, nan, nan, nan, nan, nan, nan, nan, ...</td>\n",
              "    </tr>\n",
              "  </tbody>\n",
              "</table>\n",
              "</div>"
            ],
            "text/plain": [
              "   vehicle_id  ...                                        Cond_Precip\n",
              "0     1000500  ...  [Rain_Moderate, Rain_Moderate, Rain_Moderate, ...\n",
              "1     1000500  ...  [Rain_Light, Rain_Light, Rain_Light, Rain_Ligh...\n",
              "2     1000500  ...  [nan, nan, nan, nan, nan, nan, nan, nan, nan, ...\n",
              "\n",
              "[3 rows x 7 columns]"
            ]
          },
          "metadata": {
            "tags": []
          },
          "execution_count": 73
        }
      ]
    },
    {
      "cell_type": "code",
      "metadata": {
        "id": "SBGGCKdFWnAE",
        "colab_type": "code",
        "colab": {
          "base_uri": "https://localhost:8080/",
          "height": 35
        },
        "outputId": "925ead45-861f-478f-90af-47a2531e4225"
      },
      "source": [
        "trip_df_new_lst.shape"
      ],
      "execution_count": 74,
      "outputs": [
        {
          "output_type": "execute_result",
          "data": {
            "text/plain": [
              "(181, 7)"
            ]
          },
          "metadata": {
            "tags": []
          },
          "execution_count": 74
        }
      ]
    },
    {
      "cell_type": "code",
      "metadata": {
        "id": "4wyrZ8yDWvMx",
        "colab_type": "code",
        "colab": {}
      },
      "source": [
        "def calculate_distance(RainArr,LatArr, LonArr):  \n",
        "  \n",
        "  n = 0\t\n",
        "  nSpecificWeatherCondition=0\n",
        "  nTotalKms = 0\n",
        "  nStartIndexPoint = -1\n",
        "  flag = 0\n",
        "  nEndIndexPoint = -1\n",
        "  \n",
        "  \n",
        "  for i in range(0,len(RainArr)):    \n",
        "    if(RainArr[i] == 'Rain_Light'  and flag == 0):      \n",
        "      nStartIndexPoint = i\n",
        "      flag = 1\n",
        "      continue\n",
        "    elif(flag ==1):\n",
        "      continue\n",
        "    elif(RainArr[i] != 'Rain_Light'  and flag == 1):\n",
        "      nEndIndexPoint = i-1\n",
        "      flag = 0\n",
        "      nTotalKms = nTotalKms + haversine(LatArr[nStartIndexPoint],LonArr[nStartIndexPoint],LatArr[nEndIndexPoint], LonArr[nEndIndexPoint])\n",
        "           \n",
        "  if(flag == 1):\n",
        "    nTotalKms = nTotalKms + haversine(LatArr[nStartIndexPoint], LonArr[nStartIndexPoint], LatArr[n-1], LonArr[n-1])\n",
        "  return nTotalKms     \n",
        "      \n"
      ],
      "execution_count": 0,
      "outputs": []
    },
    {
      "cell_type": "code",
      "metadata": {
        "id": "mjr7LQtDZAEV",
        "colab_type": "code",
        "colab": {}
      },
      "source": [
        "nSpecificWeatherCondition = 'Rain_Light'\n",
        "trip_df_new_lst['total_light_rain_driving_km']  = trip_df_new_lst.apply(lambda row: calculate_distance(row['Cond_Precip'], row['lat'], row['long']), axis=1)"
      ],
      "execution_count": 0,
      "outputs": []
    },
    {
      "cell_type": "code",
      "metadata": {
        "id": "3kdFI2wLbmFW",
        "colab_type": "code",
        "colab": {
          "base_uri": "https://localhost:8080/",
          "height": 473
        },
        "outputId": "d2bb0803-852c-4934-d35d-b504ca6bcd58"
      },
      "source": [
        "trip_df_new_lst.head(3)"
      ],
      "execution_count": 77,
      "outputs": [
        {
          "output_type": "execute_result",
          "data": {
            "text/html": [
              "<div>\n",
              "<style scoped>\n",
              "    .dataframe tbody tr th:only-of-type {\n",
              "        vertical-align: middle;\n",
              "    }\n",
              "\n",
              "    .dataframe tbody tr th {\n",
              "        vertical-align: top;\n",
              "    }\n",
              "\n",
              "    .dataframe thead th {\n",
              "        text-align: right;\n",
              "    }\n",
              "</style>\n",
              "<table border=\"1\" class=\"dataframe\">\n",
              "  <thead>\n",
              "    <tr style=\"text-align: right;\">\n",
              "      <th></th>\n",
              "      <th>vehicle_id</th>\n",
              "      <th>week_start_date</th>\n",
              "      <th>datetime</th>\n",
              "      <th>lat</th>\n",
              "      <th>long</th>\n",
              "      <th>Unique_ID</th>\n",
              "      <th>Cond_Precip</th>\n",
              "      <th>total_light_rain_driving_km</th>\n",
              "    </tr>\n",
              "  </thead>\n",
              "  <tbody>\n",
              "    <tr>\n",
              "      <th>0</th>\n",
              "      <td>1000500</td>\n",
              "      <td>2016-12-26</td>\n",
              "      <td>[2017-01-01 10:00:00, 2017-01-01 10:00:01, 201...</td>\n",
              "      <td>[31.3125, 31.3125, 31.3125, 31.3125, 31.3125, ...</td>\n",
              "      <td>[-85.1875, -85.18722222222223, -85.18694444444...</td>\n",
              "      <td>[2017-01-01_16Z_dje6j, 2017-01-01_16Z_dje6j, 2...</td>\n",
              "      <td>[Rain_Moderate, Rain_Moderate, Rain_Moderate, ...</td>\n",
              "      <td>134.821515</td>\n",
              "    </tr>\n",
              "    <tr>\n",
              "      <th>1</th>\n",
              "      <td>1000500</td>\n",
              "      <td>2017-01-02</td>\n",
              "      <td>[2017-01-02 05:00:00, 2017-01-02 05:00:01, 201...</td>\n",
              "      <td>[31.8125, 31.8125, 31.8125, 31.8125, 31.8125, ...</td>\n",
              "      <td>[-95.6875, -95.68722222222223, -95.68694444444...</td>\n",
              "      <td>[2017-01-02_11Z_9veuy, 2017-01-02_11Z_9veuy, 2...</td>\n",
              "      <td>[Rain_Light, Rain_Light, Rain_Light, Rain_Ligh...</td>\n",
              "      <td>1203.754211</td>\n",
              "    </tr>\n",
              "    <tr>\n",
              "      <th>2</th>\n",
              "      <td>1000500</td>\n",
              "      <td>2017-01-09</td>\n",
              "      <td>[2017-01-09 00:00:00, 2017-01-09 00:00:01, 201...</td>\n",
              "      <td>[30.8125, 30.8125, 30.8125, 30.8125, 30.8125, ...</td>\n",
              "      <td>[-84.1875, -84.18722222222223, -84.18694444444...</td>\n",
              "      <td>[2017-01-09_0_djkpk, 2017-01-09_0_djkpk, 2017-...</td>\n",
              "      <td>[nan, nan, nan, nan, nan, nan, nan, nan, nan, ...</td>\n",
              "      <td>376.334154</td>\n",
              "    </tr>\n",
              "  </tbody>\n",
              "</table>\n",
              "</div>"
            ],
            "text/plain": [
              "   vehicle_id  ... total_light_rain_driving_km\n",
              "0     1000500  ...                  134.821515\n",
              "1     1000500  ...                 1203.754211\n",
              "2     1000500  ...                  376.334154\n",
              "\n",
              "[3 rows x 8 columns]"
            ]
          },
          "metadata": {
            "tags": []
          },
          "execution_count": 77
        }
      ]
    },
    {
      "cell_type": "code",
      "metadata": {
        "id": "p3Ity7ikgUXC",
        "colab_type": "code",
        "colab": {
          "base_uri": "https://localhost:8080/",
          "height": 35
        },
        "outputId": "03ac3bcf-ee39-430d-fb27-be6ac8038478"
      },
      "source": [
        "trip_df_new_lst['total_light_rain_driving_km'].max()"
      ],
      "execution_count": 78,
      "outputs": [
        {
          "output_type": "execute_result",
          "data": {
            "text/plain": [
              "3153.3405630760167"
            ]
          },
          "metadata": {
            "tags": []
          },
          "execution_count": 78
        }
      ]
    },
    {
      "cell_type": "code",
      "metadata": {
        "id": "8MB3n_DIbzzg",
        "colab_type": "code",
        "colab": {}
      },
      "source": [
        "def calculate_distance(RainArr,LatArr, LonArr):  \n",
        "\n",
        "  n = 0\t\n",
        "  nSpecificWeatherCondition=0\n",
        "  nTotalKms = 0\n",
        "  nStartIndexPoint = -1\n",
        "  flag = 0\n",
        "  nEndIndexPoint = -1\n",
        "  \n",
        "  for i in range(0,len(RainArr)):\n",
        "    if(RainArr[i] == 'Freezing_Rain_Light'  and flag == 0):      \n",
        "      nStartIndexPoint = i\n",
        "      flag = 1\n",
        "      continue\n",
        "    elif(flag ==1):\n",
        "      continue\n",
        "    elif(RainArr[i] != 'Freezing_Rain_Light'  and flag == 1):\n",
        "      nEndIndexPoint = i-1\n",
        "      flag = 0\n",
        "      nTotalKms = nTotalKms + haversine(LatArr[nStartIndexPoint],LonArr[nStartIndexPoint],LatArr[nEndIndexPoint], LonArr[nEndIndexPoint])\n",
        "           \n",
        "  if(flag == 1):\n",
        "    nTotalKms = nTotalKms + haversine(LatArr[nStartIndexPoint], LonArr[nStartIndexPoint], LatArr[n-1], LonArr[n-1])\n",
        "  return nTotalKms     \n",
        "      \n"
      ],
      "execution_count": 0,
      "outputs": []
    },
    {
      "cell_type": "code",
      "metadata": {
        "id": "xu0WXO_mnJeh",
        "colab_type": "code",
        "colab": {}
      },
      "source": [
        "nSpecificWeatherCondition = 'Freezing_Rain_Light'\n",
        "trip_df_new_lst['total_light_freezing_rain_driving_km']  = trip_df_new_lst.apply(lambda row: calculate_distance(row['Cond_Precip'], row['lat'], row['long']), axis=1)"
      ],
      "execution_count": 0,
      "outputs": []
    },
    {
      "cell_type": "code",
      "metadata": {
        "id": "HvU5OTKxoy66",
        "colab_type": "code",
        "colab": {
          "base_uri": "https://localhost:8080/",
          "height": 69
        },
        "outputId": "477b9d4e-8831-48f9-beca-213dcabc7431"
      },
      "source": [
        "trip_df_new['Cond_Precip'].unique()"
      ],
      "execution_count": 81,
      "outputs": [
        {
          "output_type": "execute_result",
          "data": {
            "text/plain": [
              "array(['Rain_Moderate', nan, 'Rain_Light', 'Freezing_Rain_Light',\n",
              "       'Freezing_Rain_Moderate', 'Rain_Heavy', 'Snow_Light',\n",
              "       'Snow_Moderate'], dtype=object)"
            ]
          },
          "metadata": {
            "tags": []
          },
          "execution_count": 81
        }
      ]
    },
    {
      "cell_type": "code",
      "metadata": {
        "id": "Kg425uXfo4MW",
        "colab_type": "code",
        "colab": {
          "base_uri": "https://localhost:8080/",
          "height": 607
        },
        "outputId": "786ad1cd-4388-4178-f437-07b9f1fddce9"
      },
      "source": [
        "trip_df_new_lst.head(4)"
      ],
      "execution_count": 82,
      "outputs": [
        {
          "output_type": "execute_result",
          "data": {
            "text/html": [
              "<div>\n",
              "<style scoped>\n",
              "    .dataframe tbody tr th:only-of-type {\n",
              "        vertical-align: middle;\n",
              "    }\n",
              "\n",
              "    .dataframe tbody tr th {\n",
              "        vertical-align: top;\n",
              "    }\n",
              "\n",
              "    .dataframe thead th {\n",
              "        text-align: right;\n",
              "    }\n",
              "</style>\n",
              "<table border=\"1\" class=\"dataframe\">\n",
              "  <thead>\n",
              "    <tr style=\"text-align: right;\">\n",
              "      <th></th>\n",
              "      <th>vehicle_id</th>\n",
              "      <th>week_start_date</th>\n",
              "      <th>datetime</th>\n",
              "      <th>lat</th>\n",
              "      <th>long</th>\n",
              "      <th>Unique_ID</th>\n",
              "      <th>Cond_Precip</th>\n",
              "      <th>total_light_rain_driving_km</th>\n",
              "      <th>total_light_freezing_rain_driving_km</th>\n",
              "    </tr>\n",
              "  </thead>\n",
              "  <tbody>\n",
              "    <tr>\n",
              "      <th>0</th>\n",
              "      <td>1000500</td>\n",
              "      <td>2016-12-26</td>\n",
              "      <td>[2017-01-01 10:00:00, 2017-01-01 10:00:01, 201...</td>\n",
              "      <td>[31.3125, 31.3125, 31.3125, 31.3125, 31.3125, ...</td>\n",
              "      <td>[-85.1875, -85.18722222222223, -85.18694444444...</td>\n",
              "      <td>[2017-01-01_16Z_dje6j, 2017-01-01_16Z_dje6j, 2...</td>\n",
              "      <td>[Rain_Moderate, Rain_Moderate, Rain_Moderate, ...</td>\n",
              "      <td>134.821515</td>\n",
              "      <td>0.000000</td>\n",
              "    </tr>\n",
              "    <tr>\n",
              "      <th>1</th>\n",
              "      <td>1000500</td>\n",
              "      <td>2017-01-02</td>\n",
              "      <td>[2017-01-02 05:00:00, 2017-01-02 05:00:01, 201...</td>\n",
              "      <td>[31.8125, 31.8125, 31.8125, 31.8125, 31.8125, ...</td>\n",
              "      <td>[-95.6875, -95.68722222222223, -95.68694444444...</td>\n",
              "      <td>[2017-01-02_11Z_9veuy, 2017-01-02_11Z_9veuy, 2...</td>\n",
              "      <td>[Rain_Light, Rain_Light, Rain_Light, Rain_Ligh...</td>\n",
              "      <td>1203.754211</td>\n",
              "      <td>1285.214182</td>\n",
              "    </tr>\n",
              "    <tr>\n",
              "      <th>2</th>\n",
              "      <td>1000500</td>\n",
              "      <td>2017-01-09</td>\n",
              "      <td>[2017-01-09 00:00:00, 2017-01-09 00:00:01, 201...</td>\n",
              "      <td>[30.8125, 30.8125, 30.8125, 30.8125, 30.8125, ...</td>\n",
              "      <td>[-84.1875, -84.18722222222223, -84.18694444444...</td>\n",
              "      <td>[2017-01-09_0_djkpk, 2017-01-09_0_djkpk, 2017-...</td>\n",
              "      <td>[nan, nan, nan, nan, nan, nan, nan, nan, nan, ...</td>\n",
              "      <td>376.334154</td>\n",
              "      <td>111.346808</td>\n",
              "    </tr>\n",
              "    <tr>\n",
              "      <th>3</th>\n",
              "      <td>1000500</td>\n",
              "      <td>2017-01-16</td>\n",
              "      <td>[2017-01-17 12:00:00, 2017-01-17 12:00:01, 201...</td>\n",
              "      <td>[30.3125, 30.312777777777782, 30.3130555555555...</td>\n",
              "      <td>[-95.6875, -95.6875, -95.6875, -95.6875, -95.6...</td>\n",
              "      <td>[2017-01-17_18Z_9v7uq, 2017-01-17_18Z_9v7uq, 2...</td>\n",
              "      <td>[Rain_Light, Rain_Light, Rain_Light, Rain_Ligh...</td>\n",
              "      <td>1341.893987</td>\n",
              "      <td>2527.561039</td>\n",
              "    </tr>\n",
              "  </tbody>\n",
              "</table>\n",
              "</div>"
            ],
            "text/plain": [
              "   vehicle_id  ... total_light_freezing_rain_driving_km\n",
              "0     1000500  ...                             0.000000\n",
              "1     1000500  ...                          1285.214182\n",
              "2     1000500  ...                           111.346808\n",
              "3     1000500  ...                          2527.561039\n",
              "\n",
              "[4 rows x 9 columns]"
            ]
          },
          "metadata": {
            "tags": []
          },
          "execution_count": 82
        }
      ]
    },
    {
      "cell_type": "code",
      "metadata": {
        "id": "C2c9s_r6pBo5",
        "colab_type": "code",
        "colab": {}
      },
      "source": [
        "def calculate_distance(RainArr,LatArr, LonArr):  \n",
        "\n",
        "  n = 0\t\n",
        "  nSpecificWeatherCondition=0\n",
        "  nTotalKms = 0\n",
        "  nStartIndexPoint = -1\n",
        "  flag = 0\n",
        "  nEndIndexPoint = -1\n",
        "  \n",
        "  for i in range(0,len(RainArr)):\n",
        "    if(RainArr[i] == 'Snow_Light'  and flag == 0):      \n",
        "      nStartIndexPoint = i\n",
        "      flag = 1\n",
        "      continue\n",
        "    elif(flag ==1):\n",
        "      continue\n",
        "    elif(RainArr[i] != 'Snow_Light'  and flag == 1):\n",
        "      nEndIndexPoint = i-1\n",
        "      flag = 0\n",
        "      nTotalKms = nTotalKms + haversine(LatArr[nStartIndexPoint],LonArr[nStartIndexPoint],LatArr[nEndIndexPoint], LonArr[nEndIndexPoint])\n",
        "           \n",
        "  if(flag == 1):\n",
        "    nTotalKms = nTotalKms + haversine(LatArr[nStartIndexPoint], LonArr[nStartIndexPoint], LatArr[n-1], LonArr[n-1])\n",
        "  return nTotalKms     \n",
        "      \n"
      ],
      "execution_count": 0,
      "outputs": []
    },
    {
      "cell_type": "code",
      "metadata": {
        "id": "02eyi7sxpcmY",
        "colab_type": "code",
        "colab": {}
      },
      "source": [
        "nSpecificWeatherCondition = 'Snow_Light'\n",
        "trip_df_new_lst['total_light_snow_driving_km']  = trip_df_new_lst.apply(lambda row: calculate_distance(row['Cond_Precip'], row['lat'], row['long']), axis=1)"
      ],
      "execution_count": 0,
      "outputs": []
    },
    {
      "cell_type": "code",
      "metadata": {
        "id": "78X4c9mLpiVj",
        "colab_type": "code",
        "colab": {
          "base_uri": "https://localhost:8080/",
          "height": 1000
        },
        "outputId": "3c11a64d-fc28-4907-8482-e381e05fd05e"
      },
      "source": [
        "trip_df_new_lst.head(10)"
      ],
      "execution_count": 100,
      "outputs": [
        {
          "output_type": "execute_result",
          "data": {
            "text/html": [
              "<div>\n",
              "<style scoped>\n",
              "    .dataframe tbody tr th:only-of-type {\n",
              "        vertical-align: middle;\n",
              "    }\n",
              "\n",
              "    .dataframe tbody tr th {\n",
              "        vertical-align: top;\n",
              "    }\n",
              "\n",
              "    .dataframe thead th {\n",
              "        text-align: right;\n",
              "    }\n",
              "</style>\n",
              "<table border=\"1\" class=\"dataframe\">\n",
              "  <thead>\n",
              "    <tr style=\"text-align: right;\">\n",
              "      <th></th>\n",
              "      <th>vehicle_id</th>\n",
              "      <th>week_start_date</th>\n",
              "      <th>datetime</th>\n",
              "      <th>lat</th>\n",
              "      <th>long</th>\n",
              "      <th>Unique_ID</th>\n",
              "      <th>Cond_Precip</th>\n",
              "      <th>total_light_rain_driving_km</th>\n",
              "      <th>total_light_freezing_rain_driving_km</th>\n",
              "      <th>total_light_snow_driving_km</th>\n",
              "      <th>total_moderate_rain_driving_km</th>\n",
              "      <th>total_moderate_freezing_rain_driving_km</th>\n",
              "      <th>total_moderate_snow_driving_km</th>\n",
              "      <th>total_heavy_rain_driving_km</th>\n",
              "    </tr>\n",
              "  </thead>\n",
              "  <tbody>\n",
              "    <tr>\n",
              "      <th>0</th>\n",
              "      <td>1000500</td>\n",
              "      <td>2016-12-26</td>\n",
              "      <td>[2017-01-01 10:00:00, 2017-01-01 10:00:01, 201...</td>\n",
              "      <td>[31.3125, 31.3125, 31.3125, 31.3125, 31.3125, ...</td>\n",
              "      <td>[-85.1875, -85.18722222222223, -85.18694444444...</td>\n",
              "      <td>[2017-01-01_16Z_dje6j, 2017-01-01_16Z_dje6j, 2...</td>\n",
              "      <td>[Rain_Moderate, Rain_Moderate, Rain_Moderate, ...</td>\n",
              "      <td>134.821515</td>\n",
              "      <td>0.000000</td>\n",
              "      <td>0.000000</td>\n",
              "      <td>215.000404</td>\n",
              "      <td>0.000000</td>\n",
              "      <td>0.0</td>\n",
              "      <td>0.000000</td>\n",
              "    </tr>\n",
              "    <tr>\n",
              "      <th>1</th>\n",
              "      <td>1000500</td>\n",
              "      <td>2017-01-02</td>\n",
              "      <td>[2017-01-02 05:00:00, 2017-01-02 05:00:01, 201...</td>\n",
              "      <td>[31.8125, 31.8125, 31.8125, 31.8125, 31.8125, ...</td>\n",
              "      <td>[-95.6875, -95.68722222222223, -95.68694444444...</td>\n",
              "      <td>[2017-01-02_11Z_9veuy, 2017-01-02_11Z_9veuy, 2...</td>\n",
              "      <td>[Rain_Light, Rain_Light, Rain_Light, Rain_Ligh...</td>\n",
              "      <td>1203.754211</td>\n",
              "      <td>1285.214182</td>\n",
              "      <td>1683.554514</td>\n",
              "      <td>553.706236</td>\n",
              "      <td>647.281695</td>\n",
              "      <td>0.0</td>\n",
              "      <td>523.917736</td>\n",
              "    </tr>\n",
              "    <tr>\n",
              "      <th>2</th>\n",
              "      <td>1000500</td>\n",
              "      <td>2017-01-09</td>\n",
              "      <td>[2017-01-09 00:00:00, 2017-01-09 00:00:01, 201...</td>\n",
              "      <td>[30.8125, 30.8125, 30.8125, 30.8125, 30.8125, ...</td>\n",
              "      <td>[-84.1875, -84.18722222222223, -84.18694444444...</td>\n",
              "      <td>[2017-01-09_0_djkpk, 2017-01-09_0_djkpk, 2017-...</td>\n",
              "      <td>[nan, nan, nan, nan, nan, nan, nan, nan, nan, ...</td>\n",
              "      <td>376.334154</td>\n",
              "      <td>111.346808</td>\n",
              "      <td>0.000000</td>\n",
              "      <td>0.000000</td>\n",
              "      <td>0.000000</td>\n",
              "      <td>0.0</td>\n",
              "      <td>0.000000</td>\n",
              "    </tr>\n",
              "    <tr>\n",
              "      <th>3</th>\n",
              "      <td>1000500</td>\n",
              "      <td>2017-01-16</td>\n",
              "      <td>[2017-01-17 12:00:00, 2017-01-17 12:00:01, 201...</td>\n",
              "      <td>[30.3125, 30.312777777777782, 30.3130555555555...</td>\n",
              "      <td>[-95.6875, -95.6875, -95.6875, -95.6875, -95.6...</td>\n",
              "      <td>[2017-01-17_18Z_9v7uq, 2017-01-17_18Z_9v7uq, 2...</td>\n",
              "      <td>[Rain_Light, Rain_Light, Rain_Light, Rain_Ligh...</td>\n",
              "      <td>1341.893987</td>\n",
              "      <td>2527.561039</td>\n",
              "      <td>0.000000</td>\n",
              "      <td>1338.512023</td>\n",
              "      <td>0.000000</td>\n",
              "      <td>0.0</td>\n",
              "      <td>0.000000</td>\n",
              "    </tr>\n",
              "    <tr>\n",
              "      <th>4</th>\n",
              "      <td>1000500</td>\n",
              "      <td>2017-01-23</td>\n",
              "      <td>[2017-01-27 04:00:00, 2017-01-27 04:00:01, 201...</td>\n",
              "      <td>[32.0625, 32.0625, 32.0625, 32.0625, 32.0625, ...</td>\n",
              "      <td>[-100.1875, -100.18722222222223, -100.18694444...</td>\n",
              "      <td>[2017-01-27_10Z_9v8y2, 2017-01-27_10Z_9v8y2, 2...</td>\n",
              "      <td>[Rain_Light, Rain_Light, Rain_Light, Rain_Ligh...</td>\n",
              "      <td>439.547780</td>\n",
              "      <td>1090.907509</td>\n",
              "      <td>0.000000</td>\n",
              "      <td>0.000000</td>\n",
              "      <td>0.000000</td>\n",
              "      <td>0.0</td>\n",
              "      <td>0.000000</td>\n",
              "    </tr>\n",
              "    <tr>\n",
              "      <th>5</th>\n",
              "      <td>1000500</td>\n",
              "      <td>2017-01-30</td>\n",
              "      <td>[2017-01-30 00:00:00, 2017-01-30 00:00:01, 201...</td>\n",
              "      <td>[33.1875, 33.18777777777777, 33.18805555555555...</td>\n",
              "      <td>[-95.6875, -95.6875, -95.6875, -95.6875, -95.6...</td>\n",
              "      <td>[2017-01-30_0_9vguy, 2017-01-30_0_9vguy, 2017-...</td>\n",
              "      <td>[nan, nan, nan, nan, nan, nan, nan, nan, nan, ...</td>\n",
              "      <td>70.874680</td>\n",
              "      <td>0.000000</td>\n",
              "      <td>0.000000</td>\n",
              "      <td>0.000000</td>\n",
              "      <td>0.000000</td>\n",
              "      <td>0.0</td>\n",
              "      <td>0.000000</td>\n",
              "    </tr>\n",
              "    <tr>\n",
              "      <th>6</th>\n",
              "      <td>1000500</td>\n",
              "      <td>2017-02-06</td>\n",
              "      <td>[2017-02-08 19:00:00, 2017-02-08 19:00:01, 201...</td>\n",
              "      <td>[30.5625, 30.5625, 30.5625, 30.5625, 30.5625, ...</td>\n",
              "      <td>[-91.4375, -91.43722222222223, -91.43694444444...</td>\n",
              "      <td>[2017-02-08_02Z_9vqvz, 2017-02-08_02Z_9vqvz, 2...</td>\n",
              "      <td>[Rain_Light, Rain_Light, Rain_Light, Rain_Ligh...</td>\n",
              "      <td>144.550553</td>\n",
              "      <td>0.000000</td>\n",
              "      <td>0.000000</td>\n",
              "      <td>0.000000</td>\n",
              "      <td>0.000000</td>\n",
              "      <td>0.0</td>\n",
              "      <td>0.000000</td>\n",
              "    </tr>\n",
              "    <tr>\n",
              "      <th>7</th>\n",
              "      <td>1000500</td>\n",
              "      <td>2017-02-13</td>\n",
              "      <td>[2017-02-13 04:00:00, 2017-02-13 04:00:01, 201...</td>\n",
              "      <td>[30.8125, 30.8125, 30.8125, 30.8125, 30.8125, ...</td>\n",
              "      <td>[-110.9375, -110.93722222222223, -110.93694444...</td>\n",
              "      <td>[2017-02-13_10Z_9t3p7, 2017-02-13_10Z_9t3p7, 2...</td>\n",
              "      <td>[Rain_Light, Rain_Light, Rain_Light, Rain_Ligh...</td>\n",
              "      <td>1326.885732</td>\n",
              "      <td>0.000000</td>\n",
              "      <td>0.000000</td>\n",
              "      <td>311.027038</td>\n",
              "      <td>0.000000</td>\n",
              "      <td>0.0</td>\n",
              "      <td>209.259613</td>\n",
              "    </tr>\n",
              "    <tr>\n",
              "      <th>8</th>\n",
              "      <td>1000500</td>\n",
              "      <td>2017-02-20</td>\n",
              "      <td>[2017-02-20 00:00:00, 2017-02-20 00:00:01, 201...</td>\n",
              "      <td>[30.6875, 30.687777777777782, 30.6880555555555...</td>\n",
              "      <td>[-96.8125, -96.8125, -96.8125, -96.8125, -96.8...</td>\n",
              "      <td>[2017-02-20_0_9v7ns, 2017-02-20_0_9v7ns, 2017-...</td>\n",
              "      <td>[nan, nan, nan, nan, nan, nan, nan, nan, nan, ...</td>\n",
              "      <td>1552.804607</td>\n",
              "      <td>0.000000</td>\n",
              "      <td>0.000000</td>\n",
              "      <td>1664.523945</td>\n",
              "      <td>0.000000</td>\n",
              "      <td>0.0</td>\n",
              "      <td>0.000000</td>\n",
              "    </tr>\n",
              "    <tr>\n",
              "      <th>9</th>\n",
              "      <td>1000500</td>\n",
              "      <td>2017-02-27</td>\n",
              "      <td>[2017-02-27 22:00:00, 2017-02-27 22:00:01, 201...</td>\n",
              "      <td>[30.9375, 30.9375, 30.9375, 30.9375, 30.9375, ...</td>\n",
              "      <td>[-107.6875, -107.68722222222223, -107.68694444...</td>\n",
              "      <td>[2017-02-27_05Z_9t7rv, 2017-02-27_05Z_9t7rv, 2...</td>\n",
              "      <td>[Rain_Light, Rain_Light, Rain_Light, Rain_Ligh...</td>\n",
              "      <td>251.056822</td>\n",
              "      <td>0.000000</td>\n",
              "      <td>0.000000</td>\n",
              "      <td>0.000000</td>\n",
              "      <td>0.000000</td>\n",
              "      <td>0.0</td>\n",
              "      <td>0.000000</td>\n",
              "    </tr>\n",
              "  </tbody>\n",
              "</table>\n",
              "</div>"
            ],
            "text/plain": [
              "   vehicle_id  ... total_heavy_rain_driving_km\n",
              "0     1000500  ...                    0.000000\n",
              "1     1000500  ...                  523.917736\n",
              "2     1000500  ...                    0.000000\n",
              "3     1000500  ...                    0.000000\n",
              "4     1000500  ...                    0.000000\n",
              "5     1000500  ...                    0.000000\n",
              "6     1000500  ...                    0.000000\n",
              "7     1000500  ...                  209.259613\n",
              "8     1000500  ...                    0.000000\n",
              "9     1000500  ...                    0.000000\n",
              "\n",
              "[10 rows x 14 columns]"
            ]
          },
          "metadata": {
            "tags": []
          },
          "execution_count": 100
        }
      ]
    },
    {
      "cell_type": "code",
      "metadata": {
        "id": "Wyfx8zpzpmf-",
        "colab_type": "code",
        "colab": {}
      },
      "source": [
        "def calculate_distance(RainArr,LatArr, LonArr):  \n",
        "\n",
        "  n = 0\t\n",
        "  nSpecificWeatherCondition=0\n",
        "  nTotalKms = 0\n",
        "  nStartIndexPoint = -1\n",
        "  flag = 0\n",
        "  nEndIndexPoint = -1\n",
        "  \n",
        "  for i in range(0,len(RainArr)):\n",
        "    if(RainArr[i] == 'Rain_Moderate'  and flag == 0):      \n",
        "      nStartIndexPoint = i\n",
        "      flag = 1\n",
        "      continue\n",
        "    elif(flag ==1):\n",
        "      continue\n",
        "    elif(RainArr[i] != 'Rain_Moderate'  and flag == 1):\n",
        "      nEndIndexPoint = i-1\n",
        "      flag = 0\n",
        "      nTotalKms = nTotalKms + haversine(LatArr[nStartIndexPoint],LonArr[nStartIndexPoint],LatArr[nEndIndexPoint], LonArr[nEndIndexPoint])\n",
        "           \n",
        "  if(flag == 1):\n",
        "    nTotalKms = nTotalKms + haversine(LatArr[nStartIndexPoint], LonArr[nStartIndexPoint], LatArr[n-1], LonArr[n-1])\n",
        "  return nTotalKms     \n",
        "      \n"
      ],
      "execution_count": 0,
      "outputs": []
    },
    {
      "cell_type": "code",
      "metadata": {
        "id": "x2GRqxoip0hc",
        "colab_type": "code",
        "colab": {}
      },
      "source": [
        "nSpecificWeatherCondition = 'Rain_Moderate'\n",
        "trip_df_new_lst['total_moderate_rain_driving_km']  = trip_df_new_lst.apply(lambda row: calculate_distance(row['Cond_Precip'], row['lat'], row['long']), axis=1)"
      ],
      "execution_count": 0,
      "outputs": []
    },
    {
      "cell_type": "code",
      "metadata": {
        "id": "jdbAbQhzp7s-",
        "colab_type": "code",
        "colab": {}
      },
      "source": [
        "def calculate_distance(RainArr,LatArr, LonArr):  \n",
        "\n",
        "  n = 0\t\n",
        "  nSpecificWeatherCondition=0\n",
        "  nTotalKms = 0\n",
        "  nStartIndexPoint = -1\n",
        "  flag = 0\n",
        "  nEndIndexPoint = -1\n",
        "  \n",
        "  for i in range(0,len(RainArr)):\n",
        "    if(RainArr[i] == 'Freezing_Rain_Moderate'  and flag == 0):      \n",
        "      nStartIndexPoint = i\n",
        "      flag = 1\n",
        "      continue\n",
        "    elif(flag ==1):\n",
        "      continue\n",
        "    elif(RainArr[i] != 'Freezing_Rain_Moderate'  and flag == 1):\n",
        "      nEndIndexPoint = i-1\n",
        "      flag = 0\n",
        "      nTotalKms = nTotalKms + haversine(LatArr[nStartIndexPoint],LonArr[nStartIndexPoint],LatArr[nEndIndexPoint], LonArr[nEndIndexPoint])\n",
        "           \n",
        "  if(flag == 1):\n",
        "    nTotalKms = nTotalKms + haversine(LatArr[nStartIndexPoint], LonArr[nStartIndexPoint], LatArr[n-1], LonArr[n-1])\n",
        "  return nTotalKms     \n",
        "      \n"
      ],
      "execution_count": 0,
      "outputs": []
    },
    {
      "cell_type": "code",
      "metadata": {
        "id": "Jq_xE0E4qIeQ",
        "colab_type": "code",
        "colab": {}
      },
      "source": [
        "nSpecificWeatherCondition = 'Freezing_Rain_Moderate'\n",
        "trip_df_new_lst['total_moderate_freezing_rain_driving_km']  = trip_df_new_lst.apply(lambda row: calculate_distance(row['Cond_Precip'], row['lat'], row['long']), axis=1)"
      ],
      "execution_count": 0,
      "outputs": []
    },
    {
      "cell_type": "code",
      "metadata": {
        "id": "TuLq2cNxqgc9",
        "colab_type": "code",
        "colab": {}
      },
      "source": [
        "def calculate_distance(RainArr,LatArr, LonArr):  \n",
        "\n",
        "  n = 0\t\n",
        "  nSpecificWeatherCondition=0\n",
        "  nTotalKms = 0\n",
        "  nStartIndexPoint = -1\n",
        "  flag = 0\n",
        "  nEndIndexPoint = -1\n",
        "  \n",
        "  for i in range(0,len(RainArr)):\n",
        "    if(RainArr[i] == 'Snow_Moderate'  and flag == 0):      \n",
        "      nStartIndexPoint = i\n",
        "      flag = 1\n",
        "      continue\n",
        "    elif(flag ==1):\n",
        "      continue\n",
        "    elif(RainArr[i] != 'Snow_Moderate'  and flag == 1):\n",
        "      nEndIndexPoint = i-1\n",
        "      flag = 0\n",
        "      nTotalKms = nTotalKms + haversine(LatArr[nStartIndexPoint],LonArr[nStartIndexPoint],LatArr[nEndIndexPoint], LonArr[nEndIndexPoint])\n",
        "           \n",
        "  if(flag == 1):\n",
        "    nTotalKms = nTotalKms + haversine(LatArr[nStartIndexPoint], LonArr[nStartIndexPoint], LatArr[n-1], LonArr[n-1])\n",
        "  return nTotalKms     \n",
        "      \n"
      ],
      "execution_count": 0,
      "outputs": []
    },
    {
      "cell_type": "code",
      "metadata": {
        "id": "-27cMGtgq1dz",
        "colab_type": "code",
        "colab": {}
      },
      "source": [
        "nSpecificWeatherCondition = 'Snow_Moderate'\n",
        "trip_df_new_lst['total_moderate_snow_driving_km']  = trip_df_new_lst.apply(lambda row: calculate_distance(row['Cond_Precip'], row['lat'], row['long']), axis=1)"
      ],
      "execution_count": 0,
      "outputs": []
    },
    {
      "cell_type": "code",
      "metadata": {
        "id": "Aj5TwMCAq8KM",
        "colab_type": "code",
        "colab": {}
      },
      "source": [
        "def calculate_distance(RainArr,LatArr, LonArr):  \n",
        "\n",
        "  n = 0\t\n",
        "  nSpecificWeatherCondition=0\n",
        "  nTotalKms = 0\n",
        "  nStartIndexPoint = -1\n",
        "  flag = 0\n",
        "  nEndIndexPoint = -1\n",
        "  \n",
        "  for i in range(0,len(RainArr)):\n",
        "    if(RainArr[i] == 'Rain_Heavy'  and flag == 0):      \n",
        "      nStartIndexPoint = i\n",
        "      flag = 1\n",
        "      continue\n",
        "    elif(flag ==1):\n",
        "      continue\n",
        "    elif(RainArr[i] != 'Rain_Heavy'  and flag == 1):\n",
        "      nEndIndexPoint = i-1\n",
        "      flag = 0\n",
        "      nTotalKms = nTotalKms + haversine(LatArr[nStartIndexPoint],LonArr[nStartIndexPoint],LatArr[nEndIndexPoint], LonArr[nEndIndexPoint])\n",
        "           \n",
        "  if(flag == 1):\n",
        "    nTotalKms = nTotalKms + haversine(LatArr[nStartIndexPoint], LonArr[nStartIndexPoint], LatArr[n-1], LonArr[n-1])\n",
        "  return nTotalKms     \n",
        "      \n"
      ],
      "execution_count": 0,
      "outputs": []
    },
    {
      "cell_type": "code",
      "metadata": {
        "id": "BkneP9VDrES9",
        "colab_type": "code",
        "colab": {}
      },
      "source": [
        "nSpecificWeatherCondition = 'Rain_Heavy'\n",
        "trip_df_new_lst['total_heavy_rain_driving_km']  = trip_df_new_lst.apply(lambda row: calculate_distance(row['Cond_Precip'], row['lat'], row['long']), axis=1)"
      ],
      "execution_count": 0,
      "outputs": []
    },
    {
      "cell_type": "code",
      "metadata": {
        "id": "NcZ174XrrPKj",
        "colab_type": "code",
        "colab": {
          "base_uri": "https://localhost:8080/",
          "height": 742
        },
        "outputId": "67657610-5883-4f08-e7e9-4a1701c4ac61"
      },
      "source": [
        "trip_df_new_lst.head(5)"
      ],
      "execution_count": 94,
      "outputs": [
        {
          "output_type": "execute_result",
          "data": {
            "text/html": [
              "<div>\n",
              "<style scoped>\n",
              "    .dataframe tbody tr th:only-of-type {\n",
              "        vertical-align: middle;\n",
              "    }\n",
              "\n",
              "    .dataframe tbody tr th {\n",
              "        vertical-align: top;\n",
              "    }\n",
              "\n",
              "    .dataframe thead th {\n",
              "        text-align: right;\n",
              "    }\n",
              "</style>\n",
              "<table border=\"1\" class=\"dataframe\">\n",
              "  <thead>\n",
              "    <tr style=\"text-align: right;\">\n",
              "      <th></th>\n",
              "      <th>vehicle_id</th>\n",
              "      <th>week_start_date</th>\n",
              "      <th>datetime</th>\n",
              "      <th>lat</th>\n",
              "      <th>long</th>\n",
              "      <th>Unique_ID</th>\n",
              "      <th>Cond_Precip</th>\n",
              "      <th>total_light_rain_driving_km</th>\n",
              "      <th>total_light_freezing_rain_driving_km</th>\n",
              "      <th>total_light_snow_driving_km</th>\n",
              "      <th>total_moderate_rain_driving_km</th>\n",
              "      <th>total_moderate_freezing_rain_driving_km</th>\n",
              "      <th>total_moderate_snow_driving_km</th>\n",
              "      <th>total_heavy_rain_driving_km</th>\n",
              "    </tr>\n",
              "  </thead>\n",
              "  <tbody>\n",
              "    <tr>\n",
              "      <th>0</th>\n",
              "      <td>1000500</td>\n",
              "      <td>2016-12-26</td>\n",
              "      <td>[2017-01-01 10:00:00, 2017-01-01 10:00:01, 201...</td>\n",
              "      <td>[31.3125, 31.3125, 31.3125, 31.3125, 31.3125, ...</td>\n",
              "      <td>[-85.1875, -85.18722222222223, -85.18694444444...</td>\n",
              "      <td>[2017-01-01_16Z_dje6j, 2017-01-01_16Z_dje6j, 2...</td>\n",
              "      <td>[Rain_Moderate, Rain_Moderate, Rain_Moderate, ...</td>\n",
              "      <td>134.821515</td>\n",
              "      <td>0.000000</td>\n",
              "      <td>0.000000</td>\n",
              "      <td>215.000404</td>\n",
              "      <td>0.000000</td>\n",
              "      <td>0.0</td>\n",
              "      <td>0.000000</td>\n",
              "    </tr>\n",
              "    <tr>\n",
              "      <th>1</th>\n",
              "      <td>1000500</td>\n",
              "      <td>2017-01-02</td>\n",
              "      <td>[2017-01-02 05:00:00, 2017-01-02 05:00:01, 201...</td>\n",
              "      <td>[31.8125, 31.8125, 31.8125, 31.8125, 31.8125, ...</td>\n",
              "      <td>[-95.6875, -95.68722222222223, -95.68694444444...</td>\n",
              "      <td>[2017-01-02_11Z_9veuy, 2017-01-02_11Z_9veuy, 2...</td>\n",
              "      <td>[Rain_Light, Rain_Light, Rain_Light, Rain_Ligh...</td>\n",
              "      <td>1203.754211</td>\n",
              "      <td>1285.214182</td>\n",
              "      <td>1683.554514</td>\n",
              "      <td>553.706236</td>\n",
              "      <td>647.281695</td>\n",
              "      <td>0.0</td>\n",
              "      <td>523.917736</td>\n",
              "    </tr>\n",
              "    <tr>\n",
              "      <th>2</th>\n",
              "      <td>1000500</td>\n",
              "      <td>2017-01-09</td>\n",
              "      <td>[2017-01-09 00:00:00, 2017-01-09 00:00:01, 201...</td>\n",
              "      <td>[30.8125, 30.8125, 30.8125, 30.8125, 30.8125, ...</td>\n",
              "      <td>[-84.1875, -84.18722222222223, -84.18694444444...</td>\n",
              "      <td>[2017-01-09_0_djkpk, 2017-01-09_0_djkpk, 2017-...</td>\n",
              "      <td>[nan, nan, nan, nan, nan, nan, nan, nan, nan, ...</td>\n",
              "      <td>376.334154</td>\n",
              "      <td>111.346808</td>\n",
              "      <td>0.000000</td>\n",
              "      <td>0.000000</td>\n",
              "      <td>0.000000</td>\n",
              "      <td>0.0</td>\n",
              "      <td>0.000000</td>\n",
              "    </tr>\n",
              "    <tr>\n",
              "      <th>3</th>\n",
              "      <td>1000500</td>\n",
              "      <td>2017-01-16</td>\n",
              "      <td>[2017-01-17 12:00:00, 2017-01-17 12:00:01, 201...</td>\n",
              "      <td>[30.3125, 30.312777777777782, 30.3130555555555...</td>\n",
              "      <td>[-95.6875, -95.6875, -95.6875, -95.6875, -95.6...</td>\n",
              "      <td>[2017-01-17_18Z_9v7uq, 2017-01-17_18Z_9v7uq, 2...</td>\n",
              "      <td>[Rain_Light, Rain_Light, Rain_Light, Rain_Ligh...</td>\n",
              "      <td>1341.893987</td>\n",
              "      <td>2527.561039</td>\n",
              "      <td>0.000000</td>\n",
              "      <td>1338.512023</td>\n",
              "      <td>0.000000</td>\n",
              "      <td>0.0</td>\n",
              "      <td>0.000000</td>\n",
              "    </tr>\n",
              "    <tr>\n",
              "      <th>4</th>\n",
              "      <td>1000500</td>\n",
              "      <td>2017-01-23</td>\n",
              "      <td>[2017-01-27 04:00:00, 2017-01-27 04:00:01, 201...</td>\n",
              "      <td>[32.0625, 32.0625, 32.0625, 32.0625, 32.0625, ...</td>\n",
              "      <td>[-100.1875, -100.18722222222223, -100.18694444...</td>\n",
              "      <td>[2017-01-27_10Z_9v8y2, 2017-01-27_10Z_9v8y2, 2...</td>\n",
              "      <td>[Rain_Light, Rain_Light, Rain_Light, Rain_Ligh...</td>\n",
              "      <td>439.547780</td>\n",
              "      <td>1090.907509</td>\n",
              "      <td>0.000000</td>\n",
              "      <td>0.000000</td>\n",
              "      <td>0.000000</td>\n",
              "      <td>0.0</td>\n",
              "      <td>0.000000</td>\n",
              "    </tr>\n",
              "  </tbody>\n",
              "</table>\n",
              "</div>"
            ],
            "text/plain": [
              "   vehicle_id  ... total_heavy_rain_driving_km\n",
              "0     1000500  ...                    0.000000\n",
              "1     1000500  ...                  523.917736\n",
              "2     1000500  ...                    0.000000\n",
              "3     1000500  ...                    0.000000\n",
              "4     1000500  ...                    0.000000\n",
              "\n",
              "[5 rows x 14 columns]"
            ]
          },
          "metadata": {
            "tags": []
          },
          "execution_count": 94
        }
      ]
    },
    {
      "cell_type": "code",
      "metadata": {
        "id": "l2BdSrW4rUX4",
        "colab_type": "code",
        "colab": {
          "base_uri": "https://localhost:8080/",
          "height": 277
        },
        "outputId": "63b1716e-00a8-4ab6-881b-ff93b10f7964"
      },
      "source": [
        "trip_df_new_lst.isnull().sum()"
      ],
      "execution_count": 95,
      "outputs": [
        {
          "output_type": "execute_result",
          "data": {
            "text/plain": [
              "vehicle_id                                 0\n",
              "week_start_date                            0\n",
              "datetime                                   0\n",
              "lat                                        0\n",
              "long                                       0\n",
              "Unique_ID                                  0\n",
              "Cond_Precip                                0\n",
              "total_light_rain_driving_km                0\n",
              "total_light_freezing_rain_driving_km       0\n",
              "total_light_snow_driving_km                0\n",
              "total_moderate_rain_driving_km             0\n",
              "total_moderate_freezing_rain_driving_km    0\n",
              "total_moderate_snow_driving_km             0\n",
              "total_heavy_rain_driving_km                0\n",
              "dtype: int64"
            ]
          },
          "metadata": {
            "tags": []
          },
          "execution_count": 95
        }
      ]
    },
    {
      "cell_type": "code",
      "metadata": {
        "id": "v1usZ3uhspxt",
        "colab_type": "code",
        "colab": {}
      },
      "source": [
        "weather_features = trip_df_new_lst.drop(['datetime','lat', 'long', 'Unique_ID','Cond_Precip'],axis=1)"
      ],
      "execution_count": 0,
      "outputs": []
    },
    {
      "cell_type": "code",
      "metadata": {
        "id": "8B4TNxYQtwfq",
        "colab_type": "code",
        "colab": {}
      },
      "source": [
        "weather_features = weather_features.sort_values(['vehicle_id', 'week_start_date'], ascending=[True, True])"
      ],
      "execution_count": 0,
      "outputs": []
    },
    {
      "cell_type": "code",
      "metadata": {
        "id": "6xIWF7kCrRQq",
        "colab_type": "code",
        "colab": {}
      },
      "source": [
        "weather_features.to_csv('weather_features.csv', index=False)"
      ],
      "execution_count": 0,
      "outputs": []
    }
  ]
}