{
  "nbformat": 4,
  "nbformat_minor": 0,
  "metadata": {
    "colab": {
      "name": "AV_Innoplex_25072019ipynb",
      "version": "0.3.2",
      "provenance": [],
      "collapsed_sections": [],
      "toc_visible": true
    },
    "kernelspec": {
      "name": "python3",
      "display_name": "Python 3"
    },
    "accelerator": "GPU"
  },
  "cells": [
    {
      "cell_type": "code",
      "metadata": {
        "id": "5hk4iQAluTg-",
        "colab_type": "code",
        "outputId": "c481b517-73e0-4d1c-fdcc-ff0f4cd7d351",
        "colab": {
          "base_uri": "https://localhost:8080/",
          "height": 555
        }
      },
      "source": [
        "\n",
        "# Install the PyDrive wrapper & import libraries.\n",
        "# This only needs to be done once in a notebook.\n",
        "!pip install -U -q PyDrive\n",
        "from pydrive.auth import GoogleAuth\n",
        "from pydrive.drive import GoogleDrive\n",
        "from google.colab import auth\n",
        "from oauth2client.client import GoogleCredentials\n",
        "\n",
        "# Authenticate and create the PyDrive client.\n",
        "# This only needs to be done once in a notebook.\n",
        "auth.authenticate_user()\n",
        "gauth = GoogleAuth()\n",
        "gauth.credentials = GoogleCredentials.get_application_default()\n",
        "drive = GoogleDrive(gauth)"
      ],
      "execution_count": 0,
      "outputs": [
        {
          "output_type": "stream",
          "text": [
            "\u001b[?25l\r\u001b[K     |▎                               | 10kB 21.3MB/s eta 0:00:01\r\u001b[K     |▋                               | 20kB 4.5MB/s eta 0:00:01\r\u001b[K     |█                               | 30kB 6.4MB/s eta 0:00:01\r\u001b[K     |█▎                              | 40kB 4.1MB/s eta 0:00:01\r\u001b[K     |█▋                              | 51kB 5.0MB/s eta 0:00:01\r\u001b[K     |██                              | 61kB 5.9MB/s eta 0:00:01\r\u001b[K     |██▎                             | 71kB 6.8MB/s eta 0:00:01\r\u001b[K     |██▋                             | 81kB 7.5MB/s eta 0:00:01\r\u001b[K     |███                             | 92kB 8.3MB/s eta 0:00:01\r\u001b[K     |███▎                            | 102kB 6.6MB/s eta 0:00:01\r\u001b[K     |███▋                            | 112kB 6.6MB/s eta 0:00:01\r\u001b[K     |████                            | 122kB 6.6MB/s eta 0:00:01\r\u001b[K     |████▎                           | 133kB 6.6MB/s eta 0:00:01\r\u001b[K     |████▋                           | 143kB 6.6MB/s eta 0:00:01\r\u001b[K     |█████                           | 153kB 6.6MB/s eta 0:00:01\r\u001b[K     |█████▎                          | 163kB 6.6MB/s eta 0:00:01\r\u001b[K     |█████▋                          | 174kB 6.6MB/s eta 0:00:01\r\u001b[K     |██████                          | 184kB 6.6MB/s eta 0:00:01\r\u001b[K     |██████▎                         | 194kB 6.6MB/s eta 0:00:01\r\u001b[K     |██████▋                         | 204kB 6.6MB/s eta 0:00:01\r\u001b[K     |███████                         | 215kB 6.6MB/s eta 0:00:01\r\u001b[K     |███████▎                        | 225kB 6.6MB/s eta 0:00:01\r\u001b[K     |███████▋                        | 235kB 6.6MB/s eta 0:00:01\r\u001b[K     |████████                        | 245kB 6.6MB/s eta 0:00:01\r\u001b[K     |████████▎                       | 256kB 6.6MB/s eta 0:00:01\r\u001b[K     |████████▋                       | 266kB 6.6MB/s eta 0:00:01\r\u001b[K     |█████████                       | 276kB 6.6MB/s eta 0:00:01\r\u001b[K     |█████████▎                      | 286kB 6.6MB/s eta 0:00:01\r\u001b[K     |█████████▋                      | 296kB 6.6MB/s eta 0:00:01\r\u001b[K     |██████████                      | 307kB 6.6MB/s eta 0:00:01\r\u001b[K     |██████████▎                     | 317kB 6.6MB/s eta 0:00:01\r\u001b[K     |██████████▋                     | 327kB 6.6MB/s eta 0:00:01\r\u001b[K     |███████████                     | 337kB 6.6MB/s eta 0:00:01\r\u001b[K     |███████████▎                    | 348kB 6.6MB/s eta 0:00:01\r\u001b[K     |███████████▋                    | 358kB 6.6MB/s eta 0:00:01\r\u001b[K     |████████████                    | 368kB 6.6MB/s eta 0:00:01\r\u001b[K     |████████████▎                   | 378kB 6.6MB/s eta 0:00:01\r\u001b[K     |████████████▋                   | 389kB 6.6MB/s eta 0:00:01\r\u001b[K     |█████████████                   | 399kB 6.6MB/s eta 0:00:01\r\u001b[K     |█████████████▎                  | 409kB 6.6MB/s eta 0:00:01\r\u001b[K     |█████████████▋                  | 419kB 6.6MB/s eta 0:00:01\r\u001b[K     |██████████████                  | 430kB 6.6MB/s eta 0:00:01\r\u001b[K     |██████████████▎                 | 440kB 6.6MB/s eta 0:00:01\r\u001b[K     |██████████████▋                 | 450kB 6.6MB/s eta 0:00:01\r\u001b[K     |███████████████                 | 460kB 6.6MB/s eta 0:00:01\r\u001b[K     |███████████████▎                | 471kB 6.6MB/s eta 0:00:01\r\u001b[K     |███████████████▋                | 481kB 6.6MB/s eta 0:00:01\r\u001b[K     |████████████████                | 491kB 6.6MB/s eta 0:00:01\r\u001b[K     |████████████████▎               | 501kB 6.6MB/s eta 0:00:01\r\u001b[K     |████████████████▋               | 512kB 6.6MB/s eta 0:00:01\r\u001b[K     |█████████████████               | 522kB 6.6MB/s eta 0:00:01\r\u001b[K     |█████████████████▎              | 532kB 6.6MB/s eta 0:00:01\r\u001b[K     |█████████████████▋              | 542kB 6.6MB/s eta 0:00:01\r\u001b[K     |██████████████████              | 552kB 6.6MB/s eta 0:00:01\r\u001b[K     |██████████████████▎             | 563kB 6.6MB/s eta 0:00:01\r\u001b[K     |██████████████████▋             | 573kB 6.6MB/s eta 0:00:01\r\u001b[K     |███████████████████             | 583kB 6.6MB/s eta 0:00:01\r\u001b[K     |███████████████████▎            | 593kB 6.6MB/s eta 0:00:01\r\u001b[K     |███████████████████▋            | 604kB 6.6MB/s eta 0:00:01\r\u001b[K     |████████████████████            | 614kB 6.6MB/s eta 0:00:01\r\u001b[K     |████████████████████▎           | 624kB 6.6MB/s eta 0:00:01\r\u001b[K     |████████████████████▋           | 634kB 6.6MB/s eta 0:00:01\r\u001b[K     |█████████████████████           | 645kB 6.6MB/s eta 0:00:01\r\u001b[K     |█████████████████████▎          | 655kB 6.6MB/s eta 0:00:01\r\u001b[K     |█████████████████████▋          | 665kB 6.6MB/s eta 0:00:01\r\u001b[K     |██████████████████████          | 675kB 6.6MB/s eta 0:00:01\r\u001b[K     |██████████████████████▎         | 686kB 6.6MB/s eta 0:00:01\r\u001b[K     |██████████████████████▋         | 696kB 6.6MB/s eta 0:00:01\r\u001b[K     |███████████████████████         | 706kB 6.6MB/s eta 0:00:01\r\u001b[K     |███████████████████████▎        | 716kB 6.6MB/s eta 0:00:01\r\u001b[K     |███████████████████████▋        | 727kB 6.6MB/s eta 0:00:01\r\u001b[K     |████████████████████████        | 737kB 6.6MB/s eta 0:00:01\r\u001b[K     |████████████████████████▎       | 747kB 6.6MB/s eta 0:00:01\r\u001b[K     |████████████████████████▋       | 757kB 6.6MB/s eta 0:00:01\r\u001b[K     |████████████████████████▉       | 768kB 6.6MB/s eta 0:00:01\r\u001b[K     |█████████████████████████▏      | 778kB 6.6MB/s eta 0:00:01\r\u001b[K     |█████████████████████████▌      | 788kB 6.6MB/s eta 0:00:01\r\u001b[K     |█████████████████████████▉      | 798kB 6.6MB/s eta 0:00:01\r\u001b[K     |██████████████████████████▏     | 808kB 6.6MB/s eta 0:00:01\r\u001b[K     |██████████████████████████▌     | 819kB 6.6MB/s eta 0:00:01\r\u001b[K     |██████████████████████████▉     | 829kB 6.6MB/s eta 0:00:01\r\u001b[K     |███████████████████████████▏    | 839kB 6.6MB/s eta 0:00:01\r\u001b[K     |███████████████████████████▌    | 849kB 6.6MB/s eta 0:00:01\r\u001b[K     |███████████████████████████▉    | 860kB 6.6MB/s eta 0:00:01\r\u001b[K     |████████████████████████████▏   | 870kB 6.6MB/s eta 0:00:01\r\u001b[K     |████████████████████████████▌   | 880kB 6.6MB/s eta 0:00:01\r\u001b[K     |████████████████████████████▉   | 890kB 6.6MB/s eta 0:00:01\r\u001b[K     |█████████████████████████████▏  | 901kB 6.6MB/s eta 0:00:01\r\u001b[K     |█████████████████████████████▌  | 911kB 6.6MB/s eta 0:00:01\r\u001b[K     |█████████████████████████████▉  | 921kB 6.6MB/s eta 0:00:01\r\u001b[K     |██████████████████████████████▏ | 931kB 6.6MB/s eta 0:00:01\r\u001b[K     |██████████████████████████████▌ | 942kB 6.6MB/s eta 0:00:01\r\u001b[K     |██████████████████████████████▉ | 952kB 6.6MB/s eta 0:00:01\r\u001b[K     |███████████████████████████████▏| 962kB 6.6MB/s eta 0:00:01\r\u001b[K     |███████████████████████████████▌| 972kB 6.6MB/s eta 0:00:01\r\u001b[K     |███████████████████████████████▉| 983kB 6.6MB/s eta 0:00:01\r\u001b[K     |████████████████████████████████| 993kB 6.6MB/s \n",
            "\u001b[?25h  Building wheel for PyDrive (setup.py) ... \u001b[?25l\u001b[?25hdone\n"
          ],
          "name": "stdout"
        },
        {
          "output_type": "error",
          "ename": "KeyboardInterrupt",
          "evalue": "ignored",
          "traceback": [
            "\u001b[0;31m---------------------------------------------------------------------------\u001b[0m",
            "\u001b[0;31mKeyboardInterrupt\u001b[0m                         Traceback (most recent call last)",
            "\u001b[0;32m/usr/local/lib/python3.6/dist-packages/ipykernel/kernelbase.py\u001b[0m in \u001b[0;36m_input_request\u001b[0;34m(self, prompt, ident, parent, password)\u001b[0m\n\u001b[1;32m    729\u001b[0m             \u001b[0;32mtry\u001b[0m\u001b[0;34m:\u001b[0m\u001b[0;34m\u001b[0m\u001b[0;34m\u001b[0m\u001b[0m\n\u001b[0;32m--> 730\u001b[0;31m                 \u001b[0mident\u001b[0m\u001b[0;34m,\u001b[0m \u001b[0mreply\u001b[0m \u001b[0;34m=\u001b[0m \u001b[0mself\u001b[0m\u001b[0;34m.\u001b[0m\u001b[0msession\u001b[0m\u001b[0;34m.\u001b[0m\u001b[0mrecv\u001b[0m\u001b[0;34m(\u001b[0m\u001b[0mself\u001b[0m\u001b[0;34m.\u001b[0m\u001b[0mstdin_socket\u001b[0m\u001b[0;34m,\u001b[0m \u001b[0;36m0\u001b[0m\u001b[0;34m)\u001b[0m\u001b[0;34m\u001b[0m\u001b[0;34m\u001b[0m\u001b[0m\n\u001b[0m\u001b[1;32m    731\u001b[0m             \u001b[0;32mexcept\u001b[0m \u001b[0mException\u001b[0m\u001b[0;34m:\u001b[0m\u001b[0;34m\u001b[0m\u001b[0;34m\u001b[0m\u001b[0m\n",
            "\u001b[0;32m/usr/local/lib/python3.6/dist-packages/jupyter_client/session.py\u001b[0m in \u001b[0;36mrecv\u001b[0;34m(self, socket, mode, content, copy)\u001b[0m\n\u001b[1;32m    802\u001b[0m         \u001b[0;32mtry\u001b[0m\u001b[0;34m:\u001b[0m\u001b[0;34m\u001b[0m\u001b[0;34m\u001b[0m\u001b[0m\n\u001b[0;32m--> 803\u001b[0;31m             \u001b[0mmsg_list\u001b[0m \u001b[0;34m=\u001b[0m \u001b[0msocket\u001b[0m\u001b[0;34m.\u001b[0m\u001b[0mrecv_multipart\u001b[0m\u001b[0;34m(\u001b[0m\u001b[0mmode\u001b[0m\u001b[0;34m,\u001b[0m \u001b[0mcopy\u001b[0m\u001b[0;34m=\u001b[0m\u001b[0mcopy\u001b[0m\u001b[0;34m)\u001b[0m\u001b[0;34m\u001b[0m\u001b[0;34m\u001b[0m\u001b[0m\n\u001b[0m\u001b[1;32m    804\u001b[0m         \u001b[0;32mexcept\u001b[0m \u001b[0mzmq\u001b[0m\u001b[0;34m.\u001b[0m\u001b[0mZMQError\u001b[0m \u001b[0;32mas\u001b[0m \u001b[0me\u001b[0m\u001b[0;34m:\u001b[0m\u001b[0;34m\u001b[0m\u001b[0;34m\u001b[0m\u001b[0m\n",
            "\u001b[0;32m/usr/local/lib/python3.6/dist-packages/zmq/sugar/socket.py\u001b[0m in \u001b[0;36mrecv_multipart\u001b[0;34m(self, flags, copy, track)\u001b[0m\n\u001b[1;32m    465\u001b[0m         \"\"\"\n\u001b[0;32m--> 466\u001b[0;31m         \u001b[0mparts\u001b[0m \u001b[0;34m=\u001b[0m \u001b[0;34m[\u001b[0m\u001b[0mself\u001b[0m\u001b[0;34m.\u001b[0m\u001b[0mrecv\u001b[0m\u001b[0;34m(\u001b[0m\u001b[0mflags\u001b[0m\u001b[0;34m,\u001b[0m \u001b[0mcopy\u001b[0m\u001b[0;34m=\u001b[0m\u001b[0mcopy\u001b[0m\u001b[0;34m,\u001b[0m \u001b[0mtrack\u001b[0m\u001b[0;34m=\u001b[0m\u001b[0mtrack\u001b[0m\u001b[0;34m)\u001b[0m\u001b[0;34m]\u001b[0m\u001b[0;34m\u001b[0m\u001b[0;34m\u001b[0m\u001b[0m\n\u001b[0m\u001b[1;32m    467\u001b[0m         \u001b[0;31m# have first part already, only loop while more to receive\u001b[0m\u001b[0;34m\u001b[0m\u001b[0;34m\u001b[0m\u001b[0;34m\u001b[0m\u001b[0m\n",
            "\u001b[0;32mzmq/backend/cython/socket.pyx\u001b[0m in \u001b[0;36mzmq.backend.cython.socket.Socket.recv\u001b[0;34m()\u001b[0m\n",
            "\u001b[0;32mzmq/backend/cython/socket.pyx\u001b[0m in \u001b[0;36mzmq.backend.cython.socket.Socket.recv\u001b[0;34m()\u001b[0m\n",
            "\u001b[0;32mzmq/backend/cython/socket.pyx\u001b[0m in \u001b[0;36mzmq.backend.cython.socket._recv_copy\u001b[0;34m()\u001b[0m\n",
            "\u001b[0;32m/usr/local/lib/python3.6/dist-packages/zmq/backend/cython/checkrc.pxd\u001b[0m in \u001b[0;36mzmq.backend.cython.checkrc._check_rc\u001b[0;34m()\u001b[0m\n",
            "\u001b[0;31mKeyboardInterrupt\u001b[0m: ",
            "\nDuring handling of the above exception, another exception occurred:\n",
            "\u001b[0;31mKeyboardInterrupt\u001b[0m                         Traceback (most recent call last)",
            "\u001b[0;32m<ipython-input-1-12ca7637a05d>\u001b[0m in \u001b[0;36m<module>\u001b[0;34m()\u001b[0m\n\u001b[1;32m      7\u001b[0m \u001b[0;31m# Authenticate and create the PyDrive client.\u001b[0m\u001b[0;34m\u001b[0m\u001b[0;34m\u001b[0m\u001b[0;34m\u001b[0m\u001b[0m\n\u001b[1;32m      8\u001b[0m \u001b[0;31m# This only needs to be done once in a notebook.\u001b[0m\u001b[0;34m\u001b[0m\u001b[0;34m\u001b[0m\u001b[0;34m\u001b[0m\u001b[0m\n\u001b[0;32m----> 9\u001b[0;31m \u001b[0mauth\u001b[0m\u001b[0;34m.\u001b[0m\u001b[0mauthenticate_user\u001b[0m\u001b[0;34m(\u001b[0m\u001b[0;34m)\u001b[0m\u001b[0;34m\u001b[0m\u001b[0;34m\u001b[0m\u001b[0m\n\u001b[0m\u001b[1;32m     10\u001b[0m \u001b[0mgauth\u001b[0m \u001b[0;34m=\u001b[0m \u001b[0mGoogleAuth\u001b[0m\u001b[0;34m(\u001b[0m\u001b[0;34m)\u001b[0m\u001b[0;34m\u001b[0m\u001b[0;34m\u001b[0m\u001b[0m\n\u001b[1;32m     11\u001b[0m \u001b[0mgauth\u001b[0m\u001b[0;34m.\u001b[0m\u001b[0mcredentials\u001b[0m \u001b[0;34m=\u001b[0m \u001b[0mGoogleCredentials\u001b[0m\u001b[0;34m.\u001b[0m\u001b[0mget_application_default\u001b[0m\u001b[0;34m(\u001b[0m\u001b[0;34m)\u001b[0m\u001b[0;34m\u001b[0m\u001b[0;34m\u001b[0m\u001b[0m\n",
            "\u001b[0;32m/usr/local/lib/python3.6/dist-packages/google/colab/auth.py\u001b[0m in \u001b[0;36mauthenticate_user\u001b[0;34m(clear_output)\u001b[0m\n\u001b[1;32m    145\u001b[0m     \u001b[0mcontext_manager\u001b[0m \u001b[0;34m=\u001b[0m \u001b[0m_output\u001b[0m\u001b[0;34m.\u001b[0m\u001b[0mtemporary\u001b[0m \u001b[0;32mif\u001b[0m \u001b[0mclear_output\u001b[0m \u001b[0;32melse\u001b[0m \u001b[0m_noop\u001b[0m\u001b[0;34m\u001b[0m\u001b[0;34m\u001b[0m\u001b[0m\n\u001b[1;32m    146\u001b[0m     \u001b[0;32mwith\u001b[0m \u001b[0mcontext_manager\u001b[0m\u001b[0;34m(\u001b[0m\u001b[0;34m)\u001b[0m\u001b[0;34m:\u001b[0m\u001b[0;34m\u001b[0m\u001b[0;34m\u001b[0m\u001b[0m\n\u001b[0;32m--> 147\u001b[0;31m       \u001b[0m_gcloud_login\u001b[0m\u001b[0;34m(\u001b[0m\u001b[0;34m)\u001b[0m\u001b[0;34m\u001b[0m\u001b[0;34m\u001b[0m\u001b[0m\n\u001b[0m\u001b[1;32m    148\u001b[0m     \u001b[0m_install_adc\u001b[0m\u001b[0;34m(\u001b[0m\u001b[0;34m)\u001b[0m\u001b[0;34m\u001b[0m\u001b[0;34m\u001b[0m\u001b[0m\n\u001b[1;32m    149\u001b[0m     \u001b[0mcolab_tpu_addr\u001b[0m \u001b[0;34m=\u001b[0m \u001b[0m_os\u001b[0m\u001b[0;34m.\u001b[0m\u001b[0menviron\u001b[0m\u001b[0;34m.\u001b[0m\u001b[0mget\u001b[0m\u001b[0;34m(\u001b[0m\u001b[0;34m'COLAB_TPU_ADDR'\u001b[0m\u001b[0;34m,\u001b[0m \u001b[0;34m''\u001b[0m\u001b[0;34m)\u001b[0m\u001b[0;34m\u001b[0m\u001b[0;34m\u001b[0m\u001b[0m\n",
            "\u001b[0;32m/usr/local/lib/python3.6/dist-packages/google/colab/auth.py\u001b[0m in \u001b[0;36m_gcloud_login\u001b[0;34m()\u001b[0m\n\u001b[1;32m     89\u001b[0m     \u001b[0;31m# https://github.com/jupyter/notebook/issues/3159\u001b[0m\u001b[0;34m\u001b[0m\u001b[0;34m\u001b[0m\u001b[0;34m\u001b[0m\u001b[0m\n\u001b[1;32m     90\u001b[0m     \u001b[0mprompt\u001b[0m \u001b[0;34m=\u001b[0m \u001b[0mprompt\u001b[0m\u001b[0;34m.\u001b[0m\u001b[0mrstrip\u001b[0m\u001b[0;34m(\u001b[0m\u001b[0;34m)\u001b[0m\u001b[0;34m\u001b[0m\u001b[0;34m\u001b[0m\u001b[0m\n\u001b[0;32m---> 91\u001b[0;31m     \u001b[0mcode\u001b[0m \u001b[0;34m=\u001b[0m \u001b[0m_getpass\u001b[0m\u001b[0;34m.\u001b[0m\u001b[0mgetpass\u001b[0m\u001b[0;34m(\u001b[0m\u001b[0mprompt\u001b[0m \u001b[0;34m+\u001b[0m \u001b[0;34m'\\n\\nEnter verification code: '\u001b[0m\u001b[0;34m)\u001b[0m\u001b[0;34m\u001b[0m\u001b[0;34m\u001b[0m\u001b[0m\n\u001b[0m\u001b[1;32m     92\u001b[0m     \u001b[0mgcloud_process\u001b[0m\u001b[0;34m.\u001b[0m\u001b[0mcommunicate\u001b[0m\u001b[0;34m(\u001b[0m\u001b[0mcode\u001b[0m\u001b[0;34m.\u001b[0m\u001b[0mstrip\u001b[0m\u001b[0;34m(\u001b[0m\u001b[0;34m)\u001b[0m\u001b[0;34m)\u001b[0m\u001b[0;34m\u001b[0m\u001b[0;34m\u001b[0m\u001b[0m\n\u001b[1;32m     93\u001b[0m   \u001b[0;32mfinally\u001b[0m\u001b[0;34m:\u001b[0m\u001b[0;34m\u001b[0m\u001b[0;34m\u001b[0m\u001b[0m\n",
            "\u001b[0;32m/usr/local/lib/python3.6/dist-packages/ipykernel/kernelbase.py\u001b[0m in \u001b[0;36mgetpass\u001b[0;34m(self, prompt, stream)\u001b[0m\n\u001b[1;32m    686\u001b[0m             \u001b[0mself\u001b[0m\u001b[0;34m.\u001b[0m\u001b[0m_parent_ident\u001b[0m\u001b[0;34m,\u001b[0m\u001b[0;34m\u001b[0m\u001b[0;34m\u001b[0m\u001b[0m\n\u001b[1;32m    687\u001b[0m             \u001b[0mself\u001b[0m\u001b[0;34m.\u001b[0m\u001b[0m_parent_header\u001b[0m\u001b[0;34m,\u001b[0m\u001b[0;34m\u001b[0m\u001b[0;34m\u001b[0m\u001b[0m\n\u001b[0;32m--> 688\u001b[0;31m             \u001b[0mpassword\u001b[0m\u001b[0;34m=\u001b[0m\u001b[0;32mTrue\u001b[0m\u001b[0;34m,\u001b[0m\u001b[0;34m\u001b[0m\u001b[0;34m\u001b[0m\u001b[0m\n\u001b[0m\u001b[1;32m    689\u001b[0m         )\n\u001b[1;32m    690\u001b[0m \u001b[0;34m\u001b[0m\u001b[0m\n",
            "\u001b[0;32m/usr/local/lib/python3.6/dist-packages/ipykernel/kernelbase.py\u001b[0m in \u001b[0;36m_input_request\u001b[0;34m(self, prompt, ident, parent, password)\u001b[0m\n\u001b[1;32m    733\u001b[0m             \u001b[0;32mexcept\u001b[0m \u001b[0mKeyboardInterrupt\u001b[0m\u001b[0;34m:\u001b[0m\u001b[0;34m\u001b[0m\u001b[0;34m\u001b[0m\u001b[0m\n\u001b[1;32m    734\u001b[0m                 \u001b[0;31m# re-raise KeyboardInterrupt, to truncate traceback\u001b[0m\u001b[0;34m\u001b[0m\u001b[0;34m\u001b[0m\u001b[0;34m\u001b[0m\u001b[0m\n\u001b[0;32m--> 735\u001b[0;31m                 \u001b[0;32mraise\u001b[0m \u001b[0mKeyboardInterrupt\u001b[0m\u001b[0;34m\u001b[0m\u001b[0;34m\u001b[0m\u001b[0m\n\u001b[0m\u001b[1;32m    736\u001b[0m             \u001b[0;32melse\u001b[0m\u001b[0;34m:\u001b[0m\u001b[0;34m\u001b[0m\u001b[0;34m\u001b[0m\u001b[0m\n\u001b[1;32m    737\u001b[0m                 \u001b[0;32mbreak\u001b[0m\u001b[0;34m\u001b[0m\u001b[0;34m\u001b[0m\u001b[0m\n",
            "\u001b[0;31mKeyboardInterrupt\u001b[0m: "
          ]
        }
      ]
    },
    {
      "cell_type": "code",
      "metadata": {
        "id": "qOjvmXxyix6t",
        "colab_type": "code",
        "outputId": "310c5bdb-30c6-4ff4-fb16-c619e61b8ec4",
        "colab": {
          "base_uri": "https://localhost:8080/",
          "height": 55
        }
      },
      "source": [
        "# Run this cell to mount your Google Drive.\n",
        "from google.colab import drive\n",
        "drive.mount('/content/drive')"
      ],
      "execution_count": 0,
      "outputs": [
        {
          "output_type": "stream",
          "text": [
            "Drive already mounted at /content/drive; to attempt to forcibly remount, call drive.mount(\"/content/drive\", force_remount=True).\n"
          ],
          "name": "stdout"
        }
      ]
    },
    {
      "cell_type": "code",
      "metadata": {
        "id": "gVJO_rSYSDhX",
        "colab_type": "code",
        "outputId": "adfce36c-7460-4caf-d1b0-73e2f4477d02",
        "colab": {
          "base_uri": "https://localhost:8080/",
          "height": 69
        }
      },
      "source": [
        "!ls"
      ],
      "execution_count": 0,
      "outputs": [
        {
          "output_type": "stream",
          "text": [
            "adc.json\t   log_svm.csv\t sub3_LSTM.csv\tsub6_CnnGRU.csv\n",
            "drive\t\t   sample_data\t sub4_BGRU.csv\tsub7_GruCNN.csv\n",
            "ensemble_mode.csv  sub2_GRU.csv  sub5_CNN.csv\n"
          ],
          "name": "stdout"
        }
      ]
    },
    {
      "cell_type": "code",
      "metadata": {
        "id": "K2IySKkgSGdC",
        "colab_type": "code",
        "outputId": "fb614878-29e1-41c6-a8dc-bec2cb2ee6f7",
        "colab": {
          "base_uri": "https://localhost:8080/",
          "height": 87
        }
      },
      "source": [
        "!ls '/content/drive/My Drive/AV_data/Innoplexus_25thJuly_2019'\n",
        "\n",
        "# C:\\Users\\KONINSH1.APNET\\OneDrive - Novartis Pharma AG\\AV_data\\Decipher_Women_20th_July_2019"
      ],
      "execution_count": 0,
      "outputs": [
        {
          "output_type": "stream",
          "text": [
            " crawl-300d-2M.vec.zip\t\t'Problem Statement.docx'\n",
            " glove.twitter.27B.25d.txt.zip\t sample_submission_i5xnIZD.csv\n",
            " models\t\t\t\t test_tOlRoBf.csv\n",
            "'~$oblem Statement.docx'\t train_F3WbcTw.csv\n"
          ],
          "name": "stdout"
        }
      ]
    },
    {
      "cell_type": "markdown",
      "metadata": {
        "id": "J_AjJMOmlQkq",
        "colab_type": "text"
      },
      "source": [
        "### Load Packages"
      ]
    },
    {
      "cell_type": "code",
      "metadata": {
        "id": "333BsAqawkhE",
        "colab_type": "code",
        "colab": {}
      },
      "source": [
        "# imports\n",
        "import numpy as np\n",
        "import pandas as pd\n",
        "import os\n",
        "import seaborn as sns\n",
        "import matplotlib.pyplot as plt\n",
        "%matplotlib inline"
      ],
      "execution_count": 0,
      "outputs": []
    },
    {
      "cell_type": "markdown",
      "metadata": {
        "id": "7-QdWKFGwvV0",
        "colab_type": "text"
      },
      "source": [
        "## Read the datasets"
      ]
    },
    {
      "cell_type": "code",
      "metadata": {
        "id": "9JabFAbpqBOV",
        "colab_type": "code",
        "colab": {}
      },
      "source": [
        "file = r'/content/drive/My Drive/AV_data/Innoplexus_25thJuly_2019/'\n",
        "sub_df = pd.read_csv(file+'sample_submission_i5xnIZD.csv')\n"
      ],
      "execution_count": 0,
      "outputs": []
    },
    {
      "cell_type": "code",
      "metadata": {
        "id": "iiLo1F7Tqfkd",
        "colab_type": "code",
        "outputId": "e74d28c6-7c5f-4b06-b7af-d0a614858738",
        "colab": {
          "base_uri": "https://localhost:8080/",
          "height": 141
        }
      },
      "source": [
        "sub_df.head(3)"
      ],
      "execution_count": 0,
      "outputs": [
        {
          "output_type": "execute_result",
          "data": {
            "text/html": [
              "<div>\n",
              "<style scoped>\n",
              "    .dataframe tbody tr th:only-of-type {\n",
              "        vertical-align: middle;\n",
              "    }\n",
              "\n",
              "    .dataframe tbody tr th {\n",
              "        vertical-align: top;\n",
              "    }\n",
              "\n",
              "    .dataframe thead th {\n",
              "        text-align: right;\n",
              "    }\n",
              "</style>\n",
              "<table border=\"1\" class=\"dataframe\">\n",
              "  <thead>\n",
              "    <tr style=\"text-align: right;\">\n",
              "      <th></th>\n",
              "      <th>unique_hash</th>\n",
              "      <th>sentiment</th>\n",
              "    </tr>\n",
              "  </thead>\n",
              "  <tbody>\n",
              "    <tr>\n",
              "      <th>0</th>\n",
              "      <td>9e9a8166b84114aca147bf409f6f956635034c08</td>\n",
              "      <td>0</td>\n",
              "    </tr>\n",
              "    <tr>\n",
              "      <th>1</th>\n",
              "      <td>e747e6822c867571afe7b907b51f0f2ca67b0e1a</td>\n",
              "      <td>0</td>\n",
              "    </tr>\n",
              "    <tr>\n",
              "      <th>2</th>\n",
              "      <td>50b6d851bcff4f35afe354937949e9948975adf7</td>\n",
              "      <td>0</td>\n",
              "    </tr>\n",
              "  </tbody>\n",
              "</table>\n",
              "</div>"
            ],
            "text/plain": [
              "                                unique_hash  sentiment\n",
              "0  9e9a8166b84114aca147bf409f6f956635034c08          0\n",
              "1  e747e6822c867571afe7b907b51f0f2ca67b0e1a          0\n",
              "2  50b6d851bcff4f35afe354937949e9948975adf7          0"
            ]
          },
          "metadata": {
            "tags": []
          },
          "execution_count": 101
        }
      ]
    },
    {
      "cell_type": "code",
      "metadata": {
        "id": "qZRZ-5rXq7rK",
        "colab_type": "code",
        "outputId": "aa5e5292-35f7-4410-e037-e0931fb03416",
        "colab": {
          "base_uri": "https://localhost:8080/",
          "height": 35
        }
      },
      "source": [
        "sub_df.shape"
      ],
      "execution_count": 0,
      "outputs": [
        {
          "output_type": "execute_result",
          "data": {
            "text/plain": [
              "(2924, 2)"
            ]
          },
          "metadata": {
            "tags": []
          },
          "execution_count": 102
        }
      ]
    },
    {
      "cell_type": "code",
      "metadata": {
        "id": "hHe5z2gBSpDN",
        "colab_type": "code",
        "colab": {}
      },
      "source": [
        "file = r'/content/drive/My Drive/AV_data/Innoplexus_25thJuly_2019/'\n",
        "train_df = pd.read_csv(file+'train_F3WbcTw.csv', encoding='latin-1')"
      ],
      "execution_count": 0,
      "outputs": []
    },
    {
      "cell_type": "code",
      "metadata": {
        "id": "O9DnWlSgweXS",
        "colab_type": "code",
        "outputId": "2b521612-6e8a-41d4-92b9-a0ba5e2d7267",
        "colab": {
          "base_uri": "https://localhost:8080/",
          "height": 175
        }
      },
      "source": [
        "train_df.head(3)"
      ],
      "execution_count": 0,
      "outputs": [
        {
          "output_type": "execute_result",
          "data": {
            "text/html": [
              "<div>\n",
              "<style scoped>\n",
              "    .dataframe tbody tr th:only-of-type {\n",
              "        vertical-align: middle;\n",
              "    }\n",
              "\n",
              "    .dataframe tbody tr th {\n",
              "        vertical-align: top;\n",
              "    }\n",
              "\n",
              "    .dataframe thead th {\n",
              "        text-align: right;\n",
              "    }\n",
              "</style>\n",
              "<table border=\"1\" class=\"dataframe\">\n",
              "  <thead>\n",
              "    <tr style=\"text-align: right;\">\n",
              "      <th></th>\n",
              "      <th>unique_hash</th>\n",
              "      <th>text</th>\n",
              "      <th>drug</th>\n",
              "      <th>sentiment</th>\n",
              "    </tr>\n",
              "  </thead>\n",
              "  <tbody>\n",
              "    <tr>\n",
              "      <th>0</th>\n",
              "      <td>2e180be4c9214c1f5ab51fd8cc32bc80c9f612e0</td>\n",
              "      <td>Autoimmune diseases tend to come in clusters. ...</td>\n",
              "      <td>gilenya</td>\n",
              "      <td>2</td>\n",
              "    </tr>\n",
              "    <tr>\n",
              "      <th>1</th>\n",
              "      <td>9eba8f80e7e20f3a2f48685530748fbfa95943e4</td>\n",
              "      <td>I can completely understand why youâd want t...</td>\n",
              "      <td>gilenya</td>\n",
              "      <td>2</td>\n",
              "    </tr>\n",
              "    <tr>\n",
              "      <th>2</th>\n",
              "      <td>fe809672251f6bd0d986e00380f48d047c7e7b76</td>\n",
              "      <td>Interesting that it only targets S1P-1/5 recep...</td>\n",
              "      <td>fingolimod</td>\n",
              "      <td>2</td>\n",
              "    </tr>\n",
              "  </tbody>\n",
              "</table>\n",
              "</div>"
            ],
            "text/plain": [
              "                                unique_hash  ... sentiment\n",
              "0  2e180be4c9214c1f5ab51fd8cc32bc80c9f612e0  ...         2\n",
              "1  9eba8f80e7e20f3a2f48685530748fbfa95943e4  ...         2\n",
              "2  fe809672251f6bd0d986e00380f48d047c7e7b76  ...         2\n",
              "\n",
              "[3 rows x 4 columns]"
            ]
          },
          "metadata": {
            "tags": []
          },
          "execution_count": 104
        }
      ]
    },
    {
      "cell_type": "code",
      "metadata": {
        "id": "B3isZjPHTsyO",
        "colab_type": "code",
        "colab": {}
      },
      "source": [
        "file = r'/content/drive/My Drive/AV_data/Innoplexus_25thJuly_2019/'\n",
        "test_df = pd.read_csv(file+'test_tOlRoBf.csv')"
      ],
      "execution_count": 0,
      "outputs": []
    },
    {
      "cell_type": "code",
      "metadata": {
        "id": "iuM_m8XzTxuV",
        "colab_type": "code",
        "outputId": "6ca7aa63-a43e-4b4d-ecc2-d03a86485841",
        "colab": {
          "base_uri": "https://localhost:8080/",
          "height": 110
        }
      },
      "source": [
        "test_df.head(2)"
      ],
      "execution_count": 0,
      "outputs": [
        {
          "output_type": "execute_result",
          "data": {
            "text/html": [
              "<div>\n",
              "<style scoped>\n",
              "    .dataframe tbody tr th:only-of-type {\n",
              "        vertical-align: middle;\n",
              "    }\n",
              "\n",
              "    .dataframe tbody tr th {\n",
              "        vertical-align: top;\n",
              "    }\n",
              "\n",
              "    .dataframe thead th {\n",
              "        text-align: right;\n",
              "    }\n",
              "</style>\n",
              "<table border=\"1\" class=\"dataframe\">\n",
              "  <thead>\n",
              "    <tr style=\"text-align: right;\">\n",
              "      <th></th>\n",
              "      <th>unique_hash</th>\n",
              "      <th>text</th>\n",
              "      <th>drug</th>\n",
              "    </tr>\n",
              "  </thead>\n",
              "  <tbody>\n",
              "    <tr>\n",
              "      <th>0</th>\n",
              "      <td>9e9a8166b84114aca147bf409f6f956635034c08</td>\n",
              "      <td>256 (previously stable on natalizumab), with 5...</td>\n",
              "      <td>fingolimod</td>\n",
              "    </tr>\n",
              "    <tr>\n",
              "      <th>1</th>\n",
              "      <td>e747e6822c867571afe7b907b51f0f2ca67b0e1a</td>\n",
              "      <td>On fingolimod and have been since December 201...</td>\n",
              "      <td>fingolimod</td>\n",
              "    </tr>\n",
              "  </tbody>\n",
              "</table>\n",
              "</div>"
            ],
            "text/plain": [
              "                                unique_hash  ...        drug\n",
              "0  9e9a8166b84114aca147bf409f6f956635034c08  ...  fingolimod\n",
              "1  e747e6822c867571afe7b907b51f0f2ca67b0e1a  ...  fingolimod\n",
              "\n",
              "[2 rows x 3 columns]"
            ]
          },
          "metadata": {
            "tags": []
          },
          "execution_count": 106
        }
      ]
    },
    {
      "cell_type": "code",
      "metadata": {
        "id": "uNeY2xVGwzHR",
        "colab_type": "code",
        "outputId": "4fffca71-cbcc-4873-d8ee-a952c6def4fa",
        "colab": {
          "base_uri": "https://localhost:8080/",
          "height": 52
        }
      },
      "source": [
        "print(f'Number of samples in train: {train_df.shape[0]}')\n",
        "print(f'Number of columns in train: {train_df.shape[1]}')\n",
        "for col in train_df.columns:\n",
        "    if train_df[col].isnull().any():\n",
        "        print(col, train_df[col].isnull().sum())"
      ],
      "execution_count": 0,
      "outputs": [
        {
          "output_type": "stream",
          "text": [
            "Number of samples in train: 5279\n",
            "Number of columns in train: 4\n"
          ],
          "name": "stdout"
        }
      ]
    },
    {
      "cell_type": "code",
      "metadata": {
        "id": "fUOpGFDS0Erf",
        "colab_type": "code",
        "outputId": "c6f5d933-f56e-416a-ecca-7c014cc90d68",
        "colab": {
          "base_uri": "https://localhost:8080/",
          "height": 52
        }
      },
      "source": [
        "print(f'Number of samples in test: {test_df.shape[0]}')\n",
        "print(f'Number of columns in test: {test_df.shape[1]}')\n",
        "for col in test_df.columns:\n",
        "    if test_df[col].isnull().any():\n",
        "        print(col, test_df[col].isnull().sum())"
      ],
      "execution_count": 0,
      "outputs": [
        {
          "output_type": "stream",
          "text": [
            "Number of samples in test: 2924\n",
            "Number of columns in test: 3\n"
          ],
          "name": "stdout"
        }
      ]
    },
    {
      "cell_type": "code",
      "metadata": {
        "id": "jbFst5Vs0j0k",
        "colab_type": "code",
        "outputId": "052a479d-a06c-4d01-f4b9-310b58a81a83",
        "colab": {
          "base_uri": "https://localhost:8080/",
          "height": 104
        }
      },
      "source": [
        "train_df.dtypes"
      ],
      "execution_count": 0,
      "outputs": [
        {
          "output_type": "execute_result",
          "data": {
            "text/plain": [
              "unique_hash    object\n",
              "text           object\n",
              "drug           object\n",
              "sentiment       int64\n",
              "dtype: object"
            ]
          },
          "metadata": {
            "tags": []
          },
          "execution_count": 109
        }
      ]
    },
    {
      "cell_type": "code",
      "metadata": {
        "id": "MhhenvQpgvoU",
        "colab_type": "code",
        "outputId": "81d9d2bc-d4a1-4474-c620-3997a9101491",
        "colab": {
          "base_uri": "https://localhost:8080/",
          "height": 69
        }
      },
      "source": [
        "# Check if there is any shift between the NAME in train and test\n",
        "## Get the unique unique_hash in trian and test set\n",
        "uniq_users_train = np.array(train_df['unique_hash'].unique().tolist())\n",
        "uniq_users_train\n",
        "\n",
        "print('The total number of unique_hash from train are :', uniq_users_train.size)\n",
        "\n",
        "uniq_users_test = np.array(test_df['unique_hash'].unique().tolist())\n",
        "uniq_users_test\n",
        "print('The total number of  unique_hash from test are :', uniq_users_test.size)\n",
        "\n",
        "## Get the common number of unique_hash between train and test\n",
        "common_users = (np.intersect1d(uniq_users_train, uniq_users_test))\n",
        "print('The total number of common users are :',common_users.size)"
      ],
      "execution_count": 0,
      "outputs": [
        {
          "output_type": "stream",
          "text": [
            "The total number of unique_hash from train are : 5279\n",
            "The total number of  unique_hash from test are : 2924\n",
            "The total number of common users are : 0\n"
          ],
          "name": "stdout"
        }
      ]
    },
    {
      "cell_type": "code",
      "metadata": {
        "id": "8y4luzU-G84f",
        "colab_type": "code",
        "outputId": "b02a511d-c15a-457b-8124-8b9728db64e8",
        "colab": {
          "base_uri": "https://localhost:8080/",
          "height": 52
        }
      },
      "source": [
        "print(train_df.shape)\n",
        "print(test_df.shape)"
      ],
      "execution_count": 0,
      "outputs": [
        {
          "output_type": "stream",
          "text": [
            "(5279, 4)\n",
            "(2924, 3)\n"
          ],
          "name": "stdout"
        }
      ]
    },
    {
      "cell_type": "code",
      "metadata": {
        "id": "FKRAHqlcGFTV",
        "colab_type": "code",
        "outputId": "882e3e59-2c95-4689-aeb1-f8653e2f7f4f",
        "colab": {
          "base_uri": "https://localhost:8080/",
          "height": 104
        }
      },
      "source": [
        "train_df.isnull().sum()"
      ],
      "execution_count": 0,
      "outputs": [
        {
          "output_type": "execute_result",
          "data": {
            "text/plain": [
              "unique_hash    0\n",
              "text           0\n",
              "drug           0\n",
              "sentiment      0\n",
              "dtype: int64"
            ]
          },
          "metadata": {
            "tags": []
          },
          "execution_count": 112
        }
      ]
    },
    {
      "cell_type": "code",
      "metadata": {
        "id": "P-oU0W3KgVme",
        "colab_type": "code",
        "outputId": "81313906-3c0d-4540-9316-1a467e4f8ddf",
        "colab": {
          "base_uri": "https://localhost:8080/",
          "height": 49
        }
      },
      "source": [
        "missing_df = train_df.isnull().sum(axis=0).reset_index()\n",
        "missing_df.columns = ['column_name', 'missing_count']\n",
        "missing_df = missing_df[missing_df['missing_count']>0]\n",
        "missing_df = missing_df.sort_values(by='missing_count')\n",
        "missing_df"
      ],
      "execution_count": 0,
      "outputs": [
        {
          "output_type": "execute_result",
          "data": {
            "text/html": [
              "<div>\n",
              "<style scoped>\n",
              "    .dataframe tbody tr th:only-of-type {\n",
              "        vertical-align: middle;\n",
              "    }\n",
              "\n",
              "    .dataframe tbody tr th {\n",
              "        vertical-align: top;\n",
              "    }\n",
              "\n",
              "    .dataframe thead th {\n",
              "        text-align: right;\n",
              "    }\n",
              "</style>\n",
              "<table border=\"1\" class=\"dataframe\">\n",
              "  <thead>\n",
              "    <tr style=\"text-align: right;\">\n",
              "      <th></th>\n",
              "      <th>column_name</th>\n",
              "      <th>missing_count</th>\n",
              "    </tr>\n",
              "  </thead>\n",
              "  <tbody>\n",
              "  </tbody>\n",
              "</table>\n",
              "</div>"
            ],
            "text/plain": [
              "Empty DataFrame\n",
              "Columns: [column_name, missing_count]\n",
              "Index: []"
            ]
          },
          "metadata": {
            "tags": []
          },
          "execution_count": 113
        }
      ]
    },
    {
      "cell_type": "code",
      "metadata": {
        "id": "1qgQfroCMmaT",
        "colab_type": "code",
        "outputId": "49e701b2-58bf-49d6-e51e-d51ce4c742f8",
        "colab": {
          "base_uri": "https://localhost:8080/",
          "height": 35
        }
      },
      "source": [
        "missing_df['column_name'].values"
      ],
      "execution_count": 0,
      "outputs": [
        {
          "output_type": "execute_result",
          "data": {
            "text/plain": [
              "array([], dtype=object)"
            ]
          },
          "metadata": {
            "tags": []
          },
          "execution_count": 114
        }
      ]
    },
    {
      "cell_type": "code",
      "metadata": {
        "id": "dDH6lgo1hL6x",
        "colab_type": "code",
        "outputId": "4031c321-de56-4a50-9f5a-ca1eca16261c",
        "colab": {
          "base_uri": "https://localhost:8080/",
          "height": 110
        }
      },
      "source": [
        "dtype_df = train_df.dtypes.reset_index()\n",
        "dtype_df.columns = [\"Count\", \"Column Type\"]\n",
        "dtype_df.groupby(\"Column Type\").aggregate('count').reset_index()"
      ],
      "execution_count": 0,
      "outputs": [
        {
          "output_type": "execute_result",
          "data": {
            "text/html": [
              "<div>\n",
              "<style scoped>\n",
              "    .dataframe tbody tr th:only-of-type {\n",
              "        vertical-align: middle;\n",
              "    }\n",
              "\n",
              "    .dataframe tbody tr th {\n",
              "        vertical-align: top;\n",
              "    }\n",
              "\n",
              "    .dataframe thead th {\n",
              "        text-align: right;\n",
              "    }\n",
              "</style>\n",
              "<table border=\"1\" class=\"dataframe\">\n",
              "  <thead>\n",
              "    <tr style=\"text-align: right;\">\n",
              "      <th></th>\n",
              "      <th>Column Type</th>\n",
              "      <th>Count</th>\n",
              "    </tr>\n",
              "  </thead>\n",
              "  <tbody>\n",
              "    <tr>\n",
              "      <th>0</th>\n",
              "      <td>int64</td>\n",
              "      <td>1</td>\n",
              "    </tr>\n",
              "    <tr>\n",
              "      <th>1</th>\n",
              "      <td>object</td>\n",
              "      <td>3</td>\n",
              "    </tr>\n",
              "  </tbody>\n",
              "</table>\n",
              "</div>"
            ],
            "text/plain": [
              "  Column Type  Count\n",
              "0       int64      1\n",
              "1      object      3"
            ]
          },
          "metadata": {
            "tags": []
          },
          "execution_count": 115
        }
      ]
    },
    {
      "cell_type": "code",
      "metadata": {
        "id": "Hi-6ZdNdnAAi",
        "colab_type": "code",
        "outputId": "23780b99-6d8b-4e43-c50a-9ef1ff7794b2",
        "colab": {
          "base_uri": "https://localhost:8080/",
          "height": 35
        }
      },
      "source": [
        "unique_df = train_df.nunique().reset_index()\n",
        "unique_df.columns = [\"col_name\", \"unique_count\"]\n",
        "constant_df = unique_df[unique_df[\"unique_count\"]==1]\n",
        "constant_df.shape"
      ],
      "execution_count": 0,
      "outputs": [
        {
          "output_type": "execute_result",
          "data": {
            "text/plain": [
              "(0, 2)"
            ]
          },
          "metadata": {
            "tags": []
          },
          "execution_count": 116
        }
      ]
    },
    {
      "cell_type": "code",
      "metadata": {
        "id": "idEcIvmanYet",
        "colab_type": "code",
        "outputId": "bf191de6-f6a1-44f3-e997-18ad5fa716e6",
        "colab": {
          "base_uri": "https://localhost:8080/",
          "height": 35
        }
      },
      "source": [
        "str(constant_df.col_name.tolist())"
      ],
      "execution_count": 0,
      "outputs": [
        {
          "output_type": "execute_result",
          "data": {
            "text/plain": [
              "'[]'"
            ]
          },
          "metadata": {
            "tags": []
          },
          "execution_count": 117
        }
      ]
    },
    {
      "cell_type": "code",
      "metadata": {
        "id": "162V7h-LndWm",
        "colab_type": "code",
        "outputId": "e61a77c7-042f-450c-88dc-ff71f2225616",
        "colab": {
          "base_uri": "https://localhost:8080/",
          "height": 87
        }
      },
      "source": [
        "train_df['sentiment'].value_counts()"
      ],
      "execution_count": 0,
      "outputs": [
        {
          "output_type": "execute_result",
          "data": {
            "text/plain": [
              "2    3825\n",
              "1     837\n",
              "0     617\n",
              "Name: sentiment, dtype: int64"
            ]
          },
          "metadata": {
            "tags": []
          },
          "execution_count": 118
        }
      ]
    },
    {
      "cell_type": "code",
      "metadata": {
        "id": "rakbBCZJIDnk",
        "colab_type": "code",
        "outputId": "08f94abf-06da-4504-ecd7-f0fac1aea54b",
        "colab": {
          "base_uri": "https://localhost:8080/",
          "height": 35
        }
      },
      "source": [
        "train_df.columns"
      ],
      "execution_count": 0,
      "outputs": [
        {
          "output_type": "execute_result",
          "data": {
            "text/plain": [
              "Index(['unique_hash', 'text', 'drug', 'sentiment'], dtype='object')"
            ]
          },
          "metadata": {
            "tags": []
          },
          "execution_count": 119
        }
      ]
    },
    {
      "cell_type": "code",
      "metadata": {
        "id": "lzG6YyvomOm0",
        "colab_type": "code",
        "outputId": "8c20cac0-b967-406b-c42d-01185801840a",
        "colab": {
          "base_uri": "https://localhost:8080/",
          "height": 87
        }
      },
      "source": [
        "class_count = train_df['sentiment'].value_counts()\n",
        "class_count"
      ],
      "execution_count": 0,
      "outputs": [
        {
          "output_type": "execute_result",
          "data": {
            "text/plain": [
              "2    3825\n",
              "1     837\n",
              "0     617\n",
              "Name: sentiment, dtype: int64"
            ]
          },
          "metadata": {
            "tags": []
          },
          "execution_count": 120
        }
      ]
    },
    {
      "cell_type": "markdown",
      "metadata": {
        "id": "LIwLxs0tmVLT",
        "colab_type": "text"
      },
      "source": [
        "The sentiment labels are:\n",
        "0 - positive 1 - negative, 2-neutral\n",
        "\n"
      ]
    },
    {
      "cell_type": "code",
      "metadata": {
        "id": "SsOqGb5Blmsd",
        "colab_type": "code",
        "outputId": "2e11bd6d-33da-4c1d-f869-e9c46a48533f",
        "colab": {
          "base_uri": "https://localhost:8080/",
          "height": 355
        }
      },
      "source": [
        "x = np.array(class_count.index)\n",
        "y = np.array(class_count.values)\n",
        "plt.figure(figsize=(8,5))\n",
        "sns.barplot(x,y)\n",
        "plt.xlabel('Sentiment ')\n",
        "plt.ylabel('Number of reviews ')"
      ],
      "execution_count": 0,
      "outputs": [
        {
          "output_type": "execute_result",
          "data": {
            "text/plain": [
              "Text(0, 0.5, 'Number of reviews ')"
            ]
          },
          "metadata": {
            "tags": []
          },
          "execution_count": 121
        },
        {
          "output_type": "display_data",
          "data": {
            "image/png": "[encoded data removed]",
            "text/plain": [
              "<Figure size 576x360 with 1 Axes>"
            ]
          },
          "metadata": {
            "tags": []
          }
        }
      ]
    },
    {
      "cell_type": "code",
      "metadata": {
        "id": "m0KcpzUGmjxR",
        "colab_type": "code",
        "outputId": "21fd6879-3321-4ba9-9291-cda6b2e913d1",
        "colab": {
          "base_uri": "https://localhost:8080/",
          "height": 87
        }
      },
      "source": [
        "print('Number of sentences in training set:',len(train_df['text'].unique()))\n",
        "print('Number of sentences in test set:',len(test_df['text'].unique()))\n",
        "print('Average words per drug in train:',train_df.groupby('drug')['text'].count().mean())\n",
        "print('Average words per drug in test:',test_df.groupby('drug')['text'].count().mean())"
      ],
      "execution_count": 0,
      "outputs": [
        {
          "output_type": "stream",
          "text": [
            "Number of sentences in training set: 5181\n",
            "Number of sentences in test set: 2721\n",
            "Average words per drug in train: 51.754901960784316\n",
            "Average words per drug in test: 30.778947368421054\n"
          ],
          "name": "stdout"
        }
      ]
    },
    {
      "cell_type": "markdown",
      "metadata": {
        "id": "JjiCRAbwnmo1",
        "colab_type": "text"
      },
      "source": [
        "Using Word Clouds to see the higher fequency words from each sentiment"
      ]
    },
    {
      "cell_type": "code",
      "metadata": {
        "id": "c0_r7RF3m-xa",
        "colab_type": "code",
        "colab": {}
      },
      "source": [
        "from wordcloud import WordCloud, STOPWORDS\n",
        "import matplotlib.pyplot as plt\n",
        "stopwords = set(STOPWORDS)\n",
        "\n",
        "def show_wordcloud(data, title = None):\n",
        "    wordcloud = WordCloud(\n",
        "        background_color='black',\n",
        "        stopwords=stopwords,\n",
        "        max_words=200,\n",
        "        max_font_size=40, \n",
        "        scale=3,\n",
        "        random_state=1 # chosen at random by flipping a coin; it was heads\n",
        ").generate(str(data))\n",
        "\n",
        "    fig = plt.figure(1, figsize=(10, 10))\n",
        "    plt.axis('off')\n",
        "    if title: \n",
        "        fig.suptitle(title, fontsize=20)\n",
        "        fig.subplots_adjust(top=2.3)\n",
        "\n",
        "    plt.imshow(wordcloud)\n",
        "    plt.show()"
      ],
      "execution_count": 0,
      "outputs": []
    },
    {
      "cell_type": "code",
      "metadata": {
        "id": "1cVYZSeanTec",
        "colab_type": "code",
        "outputId": "8ef3e8db-cb67-474c-e837-443d01d70c1d",
        "colab": {
          "base_uri": "https://localhost:8080/",
          "height": 361
        }
      },
      "source": [
        "show_wordcloud(train_df['text'],'Most Common Words from the whole corpus')"
      ],
      "execution_count": 0,
      "outputs": [
        {
          "output_type": "display_data",
          "data": {
            "image/png": "[encoded data removed]",
            "text/plain": [
              "<Figure size 720x720 with 1 Axes>"
            ]
          },
          "metadata": {
            "tags": []
          }
        }
      ]
    },
    {
      "cell_type": "code",
      "metadata": {
        "id": "AJyIidY_n0HE",
        "colab_type": "code",
        "outputId": "c136870a-7a16-4af1-c75c-7b73499d02a6",
        "colab": {
          "base_uri": "https://localhost:8080/",
          "height": 361
        }
      },
      "source": [
        "show_wordcloud(train_df[train_df['sentiment'] == 0]['text'],'Positive Reviews')"
      ],
      "execution_count": 0,
      "outputs": [
        {
          "output_type": "display_data",
          "data": {
            "image/png": "[encoded data removed]",
            "text/plain": [
              "<Figure size 720x720 with 1 Axes>"
            ]
          },
          "metadata": {
            "tags": []
          }
        }
      ]
    },
    {
      "cell_type": "code",
      "metadata": {
        "id": "HI7ZoJzBoBvZ",
        "colab_type": "code",
        "outputId": "95d96bde-577e-41dd-e173-23a99a4a608b",
        "colab": {
          "base_uri": "https://localhost:8080/",
          "height": 361
        }
      },
      "source": [
        "show_wordcloud(train_df[train_df['sentiment'] == 1]['text'],'Negative Reviews')"
      ],
      "execution_count": 0,
      "outputs": [
        {
          "output_type": "display_data",
          "data": {
            "image/png": "[encoded data removed]",
            "text/plain": [
              "<Figure size 720x720 with 1 Axes>"
            ]
          },
          "metadata": {
            "tags": []
          }
        }
      ]
    },
    {
      "cell_type": "code",
      "metadata": {
        "id": "igh8jwCOoJGD",
        "colab_type": "code",
        "outputId": "29ca6eb0-0e25-4904-9a19-4dcb4671288a",
        "colab": {
          "base_uri": "https://localhost:8080/",
          "height": 361
        }
      },
      "source": [
        "show_wordcloud(train_df[train_df['sentiment'] == 2]['text'],'Neutral Reviews')"
      ],
      "execution_count": 0,
      "outputs": [
        {
          "output_type": "display_data",
          "data": {
            "image/png": "[encoded data removed]",
            "text/plain": [
              "<Figure size 720x720 with 1 Axes>"
            ]
          },
          "metadata": {
            "tags": []
          }
        }
      ]
    },
    {
      "cell_type": "code",
      "metadata": {
        "id": "66Avd5idIjQu",
        "colab_type": "code",
        "colab": {}
      },
      "source": [
        "train_df['text'] = train_df['text'].str.replace(\"[^a-zA-Z]\", \" \")\n",
        "test_df['text'] = test_df['text'].str.replace(\"[^a-zA-Z]\", \" \")"
      ],
      "execution_count": 0,
      "outputs": []
    },
    {
      "cell_type": "code",
      "metadata": {
        "id": "w8uqAGX-ImYB",
        "colab_type": "code",
        "outputId": "d349938c-0c7b-4f0d-c6c7-33c3ba0a89eb",
        "colab": {
          "base_uri": "https://localhost:8080/",
          "height": 52
        }
      },
      "source": [
        "import nltk\n",
        "nltk.download('stopwords')\n",
        "\n",
        "from nltk.corpus import stopwords \n",
        "stop_words = stopwords.words('english')\n"
      ],
      "execution_count": 0,
      "outputs": [
        {
          "output_type": "stream",
          "text": [
            "[nltk_data] Downloading package stopwords to /root/nltk_data...\n",
            "[nltk_data]   Package stopwords is already up-to-date!\n"
          ],
          "name": "stdout"
        }
      ]
    },
    {
      "cell_type": "code",
      "metadata": {
        "id": "bSIewCvJIqc9",
        "colab_type": "code",
        "colab": {}
      },
      "source": [
        "# tokenization \n",
        "train_tokenized_doc = train_df['text'].apply(lambda x: x.split())\n",
        "\n",
        "# remove stop-words \n",
        "train_tokenized_doc = train_tokenized_doc.apply(lambda x: [item for item in x if item not in stop_words])\n",
        "\n",
        "# tokenization \n",
        "test_tokenized_doc = test_df['text'].apply(lambda x: x.split())\n"
      ],
      "execution_count": 0,
      "outputs": []
    },
    {
      "cell_type": "code",
      "metadata": {
        "id": "35iyrnNVIrp8",
        "colab_type": "code",
        "colab": {}
      },
      "source": [
        "# de-tokenization \n",
        "detokenized_doc = [] \n",
        "for i in range(len(train_df)): \n",
        "    try:\n",
        "      t = ' '.join(train_tokenized_doc[i]) \n",
        "      detokenized_doc.append(t) \n",
        "    except:\n",
        "      pass\n",
        "\n",
        "train_df['text'] = detokenized_doc\n",
        "\n",
        "# de-tokenization \n",
        "detokenized_doc = [] \n",
        "for i in range(len(test_df)): \n",
        "  try:\n",
        "    t = ' '.join(test_tokenized_doc[i]) \n",
        "    detokenized_doc.append(t) \n",
        "  except:\n",
        "    pass\n",
        "    \n",
        "\n",
        "test_df['text'] = detokenized_doc"
      ],
      "execution_count": 0,
      "outputs": []
    },
    {
      "cell_type": "markdown",
      "metadata": {
        "id": "L_wjeafuoU76",
        "colab_type": "text"
      },
      "source": [
        "### Different Machine Learning Models"
      ]
    },
    {
      "cell_type": "code",
      "metadata": {
        "id": "2q9tJQVWofMA",
        "colab_type": "code",
        "colab": {}
      },
      "source": [
        "from nltk.tokenize import TweetTokenizer\n",
        "from sklearn.feature_extraction.text import TfidfVectorizer\n",
        "tokenizer = TweetTokenizer()"
      ],
      "execution_count": 0,
      "outputs": []
    },
    {
      "cell_type": "markdown",
      "metadata": {
        "id": "My1qiuBiobgM",
        "colab_type": "text"
      },
      "source": [
        "#### 1.N-Grams"
      ]
    },
    {
      "cell_type": "code",
      "metadata": {
        "id": "tCWaLPmVoPhY",
        "colab_type": "code",
        "colab": {}
      },
      "source": [
        "vectorizer = TfidfVectorizer(ngram_range=(1, 3), tokenizer=tokenizer.tokenize)\n",
        "full_text = list(train_df['text'].values) + list(test_df['text'].values)\n",
        "vectorizer.fit(full_text)\n",
        "train_vectorized = vectorizer.transform(train_df['text'])\n",
        "test_vectorized = vectorizer.transform(test_df['text'])"
      ],
      "execution_count": 0,
      "outputs": []
    },
    {
      "cell_type": "code",
      "metadata": {
        "id": "Tgn4jlRYo0JW",
        "colab_type": "code",
        "colab": {}
      },
      "source": [
        "y = train_df['sentiment']"
      ],
      "execution_count": 0,
      "outputs": []
    },
    {
      "cell_type": "code",
      "metadata": {
        "id": "qUYPdfmgpBdk",
        "colab_type": "code",
        "colab": {}
      },
      "source": [
        "from sklearn.model_selection import train_test_split\n",
        "x_train , x_val, y_train , y_val = train_test_split(train_vectorized,y,test_size = 0.2)"
      ],
      "execution_count": 0,
      "outputs": []
    },
    {
      "cell_type": "code",
      "metadata": {
        "id": "lKqOUIlApIMu",
        "colab_type": "code",
        "colab": {}
      },
      "source": [
        "from sklearn.linear_model import LogisticRegression\n",
        "from sklearn.svm import LinearSVC\n",
        "from sklearn.ensemble import RandomForestClassifier\n",
        "from sklearn.ensemble import VotingClassifier\n",
        "from sklearn.multiclass import OneVsRestClassifier"
      ],
      "execution_count": 0,
      "outputs": []
    },
    {
      "cell_type": "code",
      "metadata": {
        "id": "qqYDbUcEpD7Z",
        "colab_type": "code",
        "colab": {}
      },
      "source": [
        "from sklearn.metrics import classification_report\n",
        "from sklearn.metrics import accuracy_score"
      ],
      "execution_count": 0,
      "outputs": []
    },
    {
      "cell_type": "markdown",
      "metadata": {
        "id": "W3m8KOMupNft",
        "colab_type": "text"
      },
      "source": [
        "### Training Logistic Reagression model and an SVM."
      ]
    },
    {
      "cell_type": "code",
      "metadata": {
        "id": "U59hNl7PpK92",
        "colab_type": "code",
        "outputId": "5329c53e-fc7d-4ed1-c22d-d2616f086e69",
        "colab": {
          "base_uri": "https://localhost:8080/",
          "height": 297
        }
      },
      "source": [
        "lr = LogisticRegression()\n",
        "ovr = OneVsRestClassifier(lr)\n",
        "ovr.fit(x_train,y_train)\n",
        "print(classification_report( ovr.predict(x_val) , y_val))\n",
        "print(accuracy_score( ovr.predict(x_val) , y_val ))"
      ],
      "execution_count": 0,
      "outputs": [
        {
          "output_type": "stream",
          "text": [
            "/usr/local/lib/python3.6/dist-packages/sklearn/linear_model/logistic.py:432: FutureWarning: Default solver will be changed to 'lbfgs' in 0.22. Specify a solver to silence this warning.\n",
            "  FutureWarning)\n"
          ],
          "name": "stderr"
        },
        {
          "output_type": "stream",
          "text": [
            "              precision    recall  f1-score   support\n",
            "\n",
            "           0       0.00      0.00      0.00         0\n",
            "           1       0.00      0.00      0.00         0\n",
            "           2       1.00      0.73      0.84      1056\n",
            "\n",
            "    accuracy                           0.73      1056\n",
            "   macro avg       0.33      0.24      0.28      1056\n",
            "weighted avg       1.00      0.73      0.84      1056\n",
            "\n",
            "0.7253787878787878\n"
          ],
          "name": "stdout"
        },
        {
          "output_type": "stream",
          "text": [
            "/usr/local/lib/python3.6/dist-packages/sklearn/metrics/classification.py:1439: UndefinedMetricWarning: Recall and F-score are ill-defined and being set to 0.0 in labels with no true samples.\n",
            "  'recall', 'true', average, warn_for)\n"
          ],
          "name": "stderr"
        }
      ]
    },
    {
      "cell_type": "code",
      "metadata": {
        "id": "p37RddzOpQJO",
        "colab_type": "code",
        "outputId": "666753c3-7ad7-4401-dfd4-265aeee4bcfc",
        "colab": {
          "base_uri": "https://localhost:8080/",
          "height": 208
        }
      },
      "source": [
        "svm = LinearSVC()\n",
        "svm.fit(x_train,y_train)\n",
        "print(classification_report( svm.predict(x_val) , y_val))\n",
        "print(accuracy_score( svm.predict(x_val) , y_val ))"
      ],
      "execution_count": 0,
      "outputs": [
        {
          "output_type": "stream",
          "text": [
            "              precision    recall  f1-score   support\n",
            "\n",
            "           0       0.06      0.70      0.10        10\n",
            "           1       0.01      0.22      0.02         9\n",
            "           2       0.99      0.73      0.84      1037\n",
            "\n",
            "    accuracy                           0.73      1056\n",
            "   macro avg       0.35      0.55      0.32      1056\n",
            "weighted avg       0.97      0.73      0.83      1056\n",
            "\n",
            "0.7253787878787878\n"
          ],
          "name": "stdout"
        }
      ]
    },
    {
      "cell_type": "code",
      "metadata": {
        "id": "PUl6gjrapX2m",
        "colab_type": "code",
        "outputId": "720c8b91-e10c-42d2-83a9-0b09d1c46c55",
        "colab": {
          "base_uri": "https://localhost:8080/",
          "height": 263
        }
      },
      "source": [
        "estimators = [ ('svm',svm) , ('ovr' , ovr) ]\n",
        "clf = VotingClassifier(estimators , voting='hard')\n",
        "clf.fit(x_train,y_train)\n",
        "print(classification_report( clf.predict(x_val) , y_val))\n",
        "print(accuracy_score( clf.predict(x_val) , y_val ))"
      ],
      "execution_count": 0,
      "outputs": [
        {
          "output_type": "stream",
          "text": [
            "/usr/local/lib/python3.6/dist-packages/sklearn/linear_model/logistic.py:432: FutureWarning: Default solver will be changed to 'lbfgs' in 0.22. Specify a solver to silence this warning.\n",
            "  FutureWarning)\n"
          ],
          "name": "stderr"
        },
        {
          "output_type": "stream",
          "text": [
            "              precision    recall  f1-score   support\n",
            "\n",
            "           0       0.06      0.70      0.10        10\n",
            "           1       0.01      0.22      0.02         9\n",
            "           2       0.99      0.73      0.84      1037\n",
            "\n",
            "    accuracy                           0.73      1056\n",
            "   macro avg       0.35      0.55      0.32      1056\n",
            "weighted avg       0.97      0.73      0.83      1056\n",
            "\n",
            "0.7253787878787878\n"
          ],
          "name": "stdout"
        }
      ]
    },
    {
      "cell_type": "code",
      "metadata": {
        "id": "yHl9Ghz0pdVm",
        "colab_type": "code",
        "colab": {}
      },
      "source": [
        "test_X = clf.predict(test_vectorized)"
      ],
      "execution_count": 0,
      "outputs": []
    },
    {
      "cell_type": "code",
      "metadata": {
        "id": "2Y5zljYFqBke",
        "colab_type": "code",
        "colab": {}
      },
      "source": [
        "sub_df['sentiment'] = pd.DataFrame(test_X)"
      ],
      "execution_count": 0,
      "outputs": []
    },
    {
      "cell_type": "code",
      "metadata": {
        "id": "FHnRoLkLqDFQ",
        "colab_type": "code",
        "outputId": "e29b591d-19bb-4a56-d13f-4afb932dba56",
        "colab": {
          "base_uri": "https://localhost:8080/",
          "height": 35
        }
      },
      "source": [
        "np.unique(test_X, return_counts=True)"
      ],
      "execution_count": 0,
      "outputs": [
        {
          "output_type": "execute_result",
          "data": {
            "text/plain": [
              "(array([1, 2]), array([   3, 2921]))"
            ]
          },
          "metadata": {
            "tags": []
          },
          "execution_count": 143
        }
      ]
    },
    {
      "cell_type": "code",
      "metadata": {
        "id": "Z2NU2o5SqeB0",
        "colab_type": "code",
        "outputId": "c9688efc-8695-4411-f2e3-b14c716452a8",
        "colab": {
          "base_uri": "https://localhost:8080/",
          "height": 141
        }
      },
      "source": [
        "sub_df.head(3)"
      ],
      "execution_count": 0,
      "outputs": [
        {
          "output_type": "execute_result",
          "data": {
            "text/html": [
              "<div>\n",
              "<style scoped>\n",
              "    .dataframe tbody tr th:only-of-type {\n",
              "        vertical-align: middle;\n",
              "    }\n",
              "\n",
              "    .dataframe tbody tr th {\n",
              "        vertical-align: top;\n",
              "    }\n",
              "\n",
              "    .dataframe thead th {\n",
              "        text-align: right;\n",
              "    }\n",
              "</style>\n",
              "<table border=\"1\" class=\"dataframe\">\n",
              "  <thead>\n",
              "    <tr style=\"text-align: right;\">\n",
              "      <th></th>\n",
              "      <th>unique_hash</th>\n",
              "      <th>sentiment</th>\n",
              "    </tr>\n",
              "  </thead>\n",
              "  <tbody>\n",
              "    <tr>\n",
              "      <th>0</th>\n",
              "      <td>9e9a8166b84114aca147bf409f6f956635034c08</td>\n",
              "      <td>2</td>\n",
              "    </tr>\n",
              "    <tr>\n",
              "      <th>1</th>\n",
              "      <td>e747e6822c867571afe7b907b51f0f2ca67b0e1a</td>\n",
              "      <td>2</td>\n",
              "    </tr>\n",
              "    <tr>\n",
              "      <th>2</th>\n",
              "      <td>50b6d851bcff4f35afe354937949e9948975adf7</td>\n",
              "      <td>2</td>\n",
              "    </tr>\n",
              "  </tbody>\n",
              "</table>\n",
              "</div>"
            ],
            "text/plain": [
              "                                unique_hash  sentiment\n",
              "0  9e9a8166b84114aca147bf409f6f956635034c08          2\n",
              "1  e747e6822c867571afe7b907b51f0f2ca67b0e1a          2\n",
              "2  50b6d851bcff4f35afe354937949e9948975adf7          2"
            ]
          },
          "metadata": {
            "tags": []
          },
          "execution_count": 144
        }
      ]
    },
    {
      "cell_type": "code",
      "metadata": {
        "id": "ZX5MhozXqhW9",
        "colab_type": "code",
        "colab": {}
      },
      "source": [
        "sub_df.to_csv('log_svm.csv',index= False)"
      ],
      "execution_count": 0,
      "outputs": []
    },
    {
      "cell_type": "code",
      "metadata": {
        "id": "0PwV7sYnqyCk",
        "colab_type": "code",
        "outputId": "7515a906-8529-4688-ed91-7b1151427d2c",
        "colab": {
          "base_uri": "https://localhost:8080/",
          "height": 139
        }
      },
      "source": [
        "from keras.utils import to_categorical\n",
        "target=train_df.sentiment.values\n",
        "y=to_categorical(target)\n",
        "y"
      ],
      "execution_count": 0,
      "outputs": [
        {
          "output_type": "execute_result",
          "data": {
            "text/plain": [
              "array([[0., 0., 1.],\n",
              "       [0., 0., 1.],\n",
              "       [0., 0., 1.],\n",
              "       ...,\n",
              "       [0., 0., 1.],\n",
              "       [0., 0., 1.],\n",
              "       [1., 0., 0.]], dtype=float32)"
            ]
          },
          "metadata": {
            "tags": []
          },
          "execution_count": 146
        }
      ]
    },
    {
      "cell_type": "code",
      "metadata": {
        "id": "ZV8Rujh4UjPv",
        "colab_type": "code",
        "colab": {}
      },
      "source": [
        "max_features = 13000\n",
        "max_words = 50\n",
        "batch_size = 64\n",
        "epochs = 20\n",
        "num_classes=3"
      ],
      "execution_count": 0,
      "outputs": []
    },
    {
      "cell_type": "code",
      "metadata": {
        "id": "mwzEI4o3Uqeq",
        "colab_type": "code",
        "colab": {}
      },
      "source": [
        "from sklearn.model_selection import train_test_split\n",
        "X_train , X_val , Y_train , Y_val = train_test_split(train_df['text'],y,test_size = 0.20)"
      ],
      "execution_count": 0,
      "outputs": []
    },
    {
      "cell_type": "code",
      "metadata": {
        "id": "WlP3MSWeUvE0",
        "colab_type": "code",
        "colab": {}
      },
      "source": [
        "from keras.preprocessing.text import Tokenizer\n",
        "from keras.preprocessing.sequence import pad_sequences\n",
        "from keras.models import Sequential\n",
        "from keras.layers import Dense,GRU,LSTM,Embedding\n",
        "from keras.optimizers import Adam\n",
        "from keras.layers import SpatialDropout1D,Dropout,Bidirectional,Conv1D,GlobalMaxPooling1D,MaxPooling1D,Flatten\n",
        "from keras.callbacks import ModelCheckpoint, TensorBoard, Callback, EarlyStopping"
      ],
      "execution_count": 0,
      "outputs": []
    },
    {
      "cell_type": "code",
      "metadata": {
        "id": "1Km6NKm1U1n1",
        "colab_type": "code",
        "colab": {}
      },
      "source": [
        "tokenizer = Tokenizer(num_words=max_features)\n",
        "tokenizer.fit_on_texts(list(X_train))\n",
        "X_train = tokenizer.texts_to_sequences(X_train)\n",
        "X_val = tokenizer.texts_to_sequences(X_val)"
      ],
      "execution_count": 0,
      "outputs": []
    },
    {
      "cell_type": "code",
      "metadata": {
        "id": "FJspCV_YU6Aj",
        "colab_type": "code",
        "colab": {}
      },
      "source": [
        "X_test = tokenizer.texts_to_sequences(test_df['text'])\n",
        "X_test =pad_sequences(X_test, maxlen=max_words)"
      ],
      "execution_count": 0,
      "outputs": []
    },
    {
      "cell_type": "code",
      "metadata": {
        "id": "VF6komurVADT",
        "colab_type": "code",
        "outputId": "3a5e4278-07ed-4b76-9083-ef5d0aca923c",
        "colab": {
          "base_uri": "https://localhost:8080/",
          "height": 35
        }
      },
      "source": [
        "len(X_test)"
      ],
      "execution_count": 0,
      "outputs": [
        {
          "output_type": "execute_result",
          "data": {
            "text/plain": [
              "2924"
            ]
          },
          "metadata": {
            "tags": []
          },
          "execution_count": 152
        }
      ]
    },
    {
      "cell_type": "code",
      "metadata": {
        "id": "YjFvnJt_VDlp",
        "colab_type": "code",
        "colab": {}
      },
      "source": [
        "X_train =pad_sequences(X_train, maxlen=max_words)\n",
        "X_val = pad_sequences(X_val, maxlen=max_words)\n",
        "X_test =pad_sequences(X_test, maxlen=max_words)"
      ],
      "execution_count": 0,
      "outputs": []
    },
    {
      "cell_type": "code",
      "metadata": {
        "id": "uwC0-ctCXzrK",
        "colab_type": "code",
        "colab": {}
      },
      "source": [
        "import tensorflow as tf\n",
        "import keras.backend as K\n",
        "\n",
        "def f1(y_true, y_pred):\n",
        "    y_pred = K.round(y_pred)\n",
        "    tp = K.sum(K.cast(y_true*y_pred, 'float'), axis=0)\n",
        "    # tn = K.sum(K.cast((1-y_true)*(1-y_pred), 'float'), axis=0)\n",
        "    fp = K.sum(K.cast((1-y_true)*y_pred, 'float'), axis=0)\n",
        "    fn = K.sum(K.cast(y_true*(1-y_pred), 'float'), axis=0)\n",
        "\n",
        "    p = tp / (tp + fp + K.epsilon())\n",
        "    r = tp / (tp + fn + K.epsilon())\n",
        "\n",
        "    f1 = 2*p*r / (p+r+K.epsilon())\n",
        "    f1 = tf.where(tf.is_nan(f1), tf.zeros_like(f1), f1)\n",
        "    return K.mean(f1)"
      ],
      "execution_count": 0,
      "outputs": []
    },
    {
      "cell_type": "code",
      "metadata": {
        "id": "umtDrjMKYMjv",
        "colab_type": "code",
        "outputId": "1f582076-9155-4ed1-9a75-c00561ca4df3",
        "colab": {
          "base_uri": "https://localhost:8080/",
          "height": 35
        }
      },
      "source": [
        "import numpy as np\n",
        "from sklearn.metrics import f1_score\n",
        "\n",
        "y_true = y\n",
        "# Samples\n",
        "#  = np.array([[1,1,0,0,1], [1,0,1,1,0], [0,1,1,0,0]])\n",
        "# y_pred = np.array([[0,1,1,1,1], [1,0,0,1,1], [1,0,1,0,0]])\n",
        "\n",
        "print('Shape y_true:', y_true.shape)\n",
        "# print('Shape y_pred:', y_pred.shape)\n",
        "\n",
        "# Results\n",
        "# print('sklearn Macro-F1-Score:', f1_score(y_true, y_pred, average='macro'))\n",
        "# print('Custom Macro-F1-Score:', K.eval(f1(y_true, y_pred)))"
      ],
      "execution_count": 0,
      "outputs": [
        {
          "output_type": "stream",
          "text": [
            "Shape y_true: (5279, 3)\n"
          ],
          "name": "stdout"
        }
      ]
    },
    {
      "cell_type": "markdown",
      "metadata": {
        "id": "JrbQdRe1VL9H",
        "colab_type": "text"
      },
      "source": [
        "### GRU"
      ]
    },
    {
      "cell_type": "code",
      "metadata": {
        "id": "GuvMTCwGVGwu",
        "colab_type": "code",
        "outputId": "5cd3675b-d64b-40eb-ff59-2ac14c33ea98",
        "colab": {
          "base_uri": "https://localhost:8080/",
          "height": 277
        }
      },
      "source": [
        "model_GRU=Sequential()\n",
        "model_GRU.add(Embedding(max_features,100,mask_zero=True))\n",
        "model_GRU.add(GRU(64,dropout=0.4,return_sequences=True))\n",
        "model_GRU.add(GRU(32,dropout=0.5,return_sequences=False))\n",
        "model_GRU.add(Dense(num_classes,activation='softmax'))\n",
        "model_GRU.compile(loss='categorical_crossentropy',optimizer=Adam(lr = 0.001),metrics=[f1])\n",
        "model_GRU.summary()"
      ],
      "execution_count": 0,
      "outputs": [
        {
          "output_type": "stream",
          "text": [
            "_________________________________________________________________\n",
            "Layer (type)                 Output Shape              Param #   \n",
            "=================================================================\n",
            "embedding_8 (Embedding)      (None, None, 100)         1300000   \n",
            "_________________________________________________________________\n",
            "gru_9 (GRU)                  (None, None, 64)          31680     \n",
            "_________________________________________________________________\n",
            "gru_10 (GRU)                 (None, 32)                9312      \n",
            "_________________________________________________________________\n",
            "dense_11 (Dense)             (None, 3)                 99        \n",
            "=================================================================\n",
            "Total params: 1,341,091\n",
            "Trainable params: 1,341,091\n",
            "Non-trainable params: 0\n",
            "_________________________________________________________________\n"
          ],
          "name": "stdout"
        }
      ]
    },
    {
      "cell_type": "code",
      "metadata": {
        "id": "xCK5oQfpYpG9",
        "colab_type": "code",
        "outputId": "bf2ea2d4-b13f-4512-b042-9bcef7de6ba8",
        "colab": {
          "base_uri": "https://localhost:8080/",
          "height": 783
        }
      },
      "source": [
        "%%time\n",
        "history1=model_GRU.fit(X_train, Y_train, validation_data=(X_val, Y_val),epochs=epochs, batch_size=batch_size, verbose=1)"
      ],
      "execution_count": 0,
      "outputs": [
        {
          "output_type": "stream",
          "text": [
            "Train on 4223 samples, validate on 1056 samples\n",
            "Epoch 1/20\n",
            "4223/4223 [==============================] - 12s 3ms/step - loss: 0.9023 - f1: 0.1615 - val_loss: 0.7822 - val_f1: 0.2798\n",
            "Epoch 2/20\n",
            "4223/4223 [==============================] - 7s 2ms/step - loss: 0.7394 - f1: 0.2795 - val_loss: 0.7532 - val_f1: 0.2801\n",
            "Epoch 3/20\n",
            "4223/4223 [==============================] - 7s 2ms/step - loss: 0.6364 - f1: 0.2906 - val_loss: 0.8185 - val_f1: 0.2648\n",
            "Epoch 4/20\n",
            "4223/4223 [==============================] - 8s 2ms/step - loss: 0.5053 - f1: 0.4241 - val_loss: 0.8955 - val_f1: 0.3020\n",
            "Epoch 5/20\n",
            "4223/4223 [==============================] - 8s 2ms/step - loss: 0.4066 - f1: 0.5574 - val_loss: 1.0715 - val_f1: 0.3121\n",
            "Epoch 6/20\n",
            "4223/4223 [==============================] - 7s 2ms/step - loss: 0.3147 - f1: 0.7149 - val_loss: 1.1935 - val_f1: 0.3701\n",
            "Epoch 7/20\n",
            "4223/4223 [==============================] - 7s 2ms/step - loss: 0.2301 - f1: 0.8524 - val_loss: 1.3302 - val_f1: 0.3779\n",
            "Epoch 8/20\n",
            "4223/4223 [==============================] - 7s 2ms/step - loss: 0.1552 - f1: 0.9091 - val_loss: 1.4509 - val_f1: 0.4071\n",
            "Epoch 9/20\n",
            "4223/4223 [==============================] - 7s 2ms/step - loss: 0.1304 - f1: 0.9368 - val_loss: 1.5562 - val_f1: 0.3856\n",
            "Epoch 10/20\n",
            "4223/4223 [==============================] - 7s 2ms/step - loss: 0.1174 - f1: 0.9498 - val_loss: 1.5910 - val_f1: 0.4149\n",
            "Epoch 11/20\n",
            "4223/4223 [==============================] - 7s 2ms/step - loss: 0.0923 - f1: 0.9591 - val_loss: 1.6088 - val_f1: 0.4071\n",
            "Epoch 12/20\n",
            "4223/4223 [==============================] - 7s 2ms/step - loss: 0.0892 - f1: 0.9632 - val_loss: 1.6538 - val_f1: 0.3944\n",
            "Epoch 13/20\n",
            "4223/4223 [==============================] - 8s 2ms/step - loss: 0.0873 - f1: 0.9609 - val_loss: 1.7077 - val_f1: 0.3924\n",
            "Epoch 14/20\n",
            "4223/4223 [==============================] - 8s 2ms/step - loss: 0.0740 - f1: 0.9694 - val_loss: 1.6721 - val_f1: 0.3858\n",
            "Epoch 15/20\n",
            "4223/4223 [==============================] - 7s 2ms/step - loss: 0.0722 - f1: 0.9708 - val_loss: 1.7023 - val_f1: 0.3802\n",
            "Epoch 16/20\n",
            "4223/4223 [==============================] - 8s 2ms/step - loss: 0.0639 - f1: 0.9735 - val_loss: 1.6698 - val_f1: 0.3852\n",
            "Epoch 17/20\n",
            "4223/4223 [==============================] - 8s 2ms/step - loss: 0.0661 - f1: 0.9705 - val_loss: 1.6662 - val_f1: 0.3646\n",
            "Epoch 18/20\n",
            "4223/4223 [==============================] - 7s 2ms/step - loss: 0.0625 - f1: 0.9693 - val_loss: 1.7114 - val_f1: 0.3857\n",
            "Epoch 19/20\n",
            "4223/4223 [==============================] - 7s 2ms/step - loss: 0.0607 - f1: 0.9711 - val_loss: 1.7961 - val_f1: 0.3820\n",
            "Epoch 20/20\n",
            "4223/4223 [==============================] - 8s 2ms/step - loss: 0.0548 - f1: 0.9735 - val_loss: 1.7799 - val_f1: 0.4125\n",
            "CPU times: user 3min 42s, sys: 19.4 s, total: 4min 1s\n",
            "Wall time: 2min 36s\n"
          ],
          "name": "stdout"
        }
      ]
    },
    {
      "cell_type": "code",
      "metadata": {
        "id": "JMhILpFoaZzG",
        "colab_type": "code",
        "outputId": "9d083853-2e11-40c0-9c50-91bc79128a2e",
        "colab": {
          "base_uri": "https://localhost:8080/",
          "height": 219
        }
      },
      "source": [
        "y_pred1=model_GRU.predict_classes(X_test, verbose=1)\n",
        "sub_df.sentiment=y_pred1\n",
        "sub_df.to_csv('sub2_GRU.csv',index=False)\n",
        "sub_df.head()"
      ],
      "execution_count": 0,
      "outputs": [
        {
          "output_type": "stream",
          "text": [
            "2924/2924 [==============================] - 7s 2ms/step\n"
          ],
          "name": "stdout"
        },
        {
          "output_type": "execute_result",
          "data": {
            "text/html": [
              "<div>\n",
              "<style scoped>\n",
              "    .dataframe tbody tr th:only-of-type {\n",
              "        vertical-align: middle;\n",
              "    }\n",
              "\n",
              "    .dataframe tbody tr th {\n",
              "        vertical-align: top;\n",
              "    }\n",
              "\n",
              "    .dataframe thead th {\n",
              "        text-align: right;\n",
              "    }\n",
              "</style>\n",
              "<table border=\"1\" class=\"dataframe\">\n",
              "  <thead>\n",
              "    <tr style=\"text-align: right;\">\n",
              "      <th></th>\n",
              "      <th>unique_hash</th>\n",
              "      <th>sentiment</th>\n",
              "    </tr>\n",
              "  </thead>\n",
              "  <tbody>\n",
              "    <tr>\n",
              "      <th>0</th>\n",
              "      <td>9e9a8166b84114aca147bf409f6f956635034c08</td>\n",
              "      <td>2</td>\n",
              "    </tr>\n",
              "    <tr>\n",
              "      <th>1</th>\n",
              "      <td>e747e6822c867571afe7b907b51f0f2ca67b0e1a</td>\n",
              "      <td>2</td>\n",
              "    </tr>\n",
              "    <tr>\n",
              "      <th>2</th>\n",
              "      <td>50b6d851bcff4f35afe354937949e9948975adf7</td>\n",
              "      <td>2</td>\n",
              "    </tr>\n",
              "    <tr>\n",
              "      <th>3</th>\n",
              "      <td>7f82ec2176ae6ab0b5d20b5ffc767ac829f384ae</td>\n",
              "      <td>2</td>\n",
              "    </tr>\n",
              "    <tr>\n",
              "      <th>4</th>\n",
              "      <td>8b37d169dee5bdae27060949242fb54feb6a7f7f</td>\n",
              "      <td>2</td>\n",
              "    </tr>\n",
              "  </tbody>\n",
              "</table>\n",
              "</div>"
            ],
            "text/plain": [
              "                                unique_hash  sentiment\n",
              "0  9e9a8166b84114aca147bf409f6f956635034c08          2\n",
              "1  e747e6822c867571afe7b907b51f0f2ca67b0e1a          2\n",
              "2  50b6d851bcff4f35afe354937949e9948975adf7          2\n",
              "3  7f82ec2176ae6ab0b5d20b5ffc767ac829f384ae          2\n",
              "4  8b37d169dee5bdae27060949242fb54feb6a7f7f          2"
            ]
          },
          "metadata": {
            "tags": []
          },
          "execution_count": 158
        }
      ]
    },
    {
      "cell_type": "code",
      "metadata": {
        "id": "HmDXIioxcz4P",
        "colab_type": "code",
        "outputId": "76c638eb-81dd-4b90-d809-6f43d3d7a030",
        "colab": {
          "base_uri": "https://localhost:8080/",
          "height": 87
        }
      },
      "source": [
        "sub_df['sentiment'].value_counts()"
      ],
      "execution_count": 0,
      "outputs": [
        {
          "output_type": "execute_result",
          "data": {
            "text/plain": [
              "2    2573\n",
              "1     198\n",
              "0     153\n",
              "Name: sentiment, dtype: int64"
            ]
          },
          "metadata": {
            "tags": []
          },
          "execution_count": 159
        }
      ]
    },
    {
      "cell_type": "code",
      "metadata": {
        "id": "PH0wco4Fc5GV",
        "colab_type": "code",
        "outputId": "bb866b9a-c8af-4375-8f54-5e037b95fff4",
        "colab": {
          "base_uri": "https://localhost:8080/",
          "height": 277
        }
      },
      "source": [
        "model2_GRU=Sequential()\n",
        "model2_GRU.add(Embedding(max_features,100,mask_zero=True))\n",
        "model2_GRU.add(GRU(64,dropout=0.4,return_sequences=True))\n",
        "model2_GRU.add(GRU(32,dropout=0.5,return_sequences=False))\n",
        "model2_GRU.add(Dense(num_classes,activation='softmax'))\n",
        "model2_GRU.compile(loss='categorical_crossentropy',optimizer=Adam(lr = 0.001),metrics=[f1])\n",
        "model2_GRU.summary()"
      ],
      "execution_count": 0,
      "outputs": [
        {
          "output_type": "stream",
          "text": [
            "_________________________________________________________________\n",
            "Layer (type)                 Output Shape              Param #   \n",
            "=================================================================\n",
            "embedding_9 (Embedding)      (None, None, 100)         1300000   \n",
            "_________________________________________________________________\n",
            "gru_11 (GRU)                 (None, None, 64)          31680     \n",
            "_________________________________________________________________\n",
            "gru_12 (GRU)                 (None, 32)                9312      \n",
            "_________________________________________________________________\n",
            "dense_12 (Dense)             (None, 3)                 99        \n",
            "=================================================================\n",
            "Total params: 1,341,091\n",
            "Trainable params: 1,341,091\n",
            "Non-trainable params: 0\n",
            "_________________________________________________________________\n"
          ],
          "name": "stdout"
        }
      ]
    },
    {
      "cell_type": "code",
      "metadata": {
        "id": "1wQWK-16gyan",
        "colab_type": "code",
        "outputId": "0c2a8d0b-f2e8-4d2d-984e-50d0addd3c2b",
        "colab": {
          "base_uri": "https://localhost:8080/",
          "height": 783
        }
      },
      "source": [
        "%%time\n",
        "history2=model2_GRU.fit(X_train, Y_train, validation_data=(X_val, Y_val),epochs=epochs, batch_size=batch_size, verbose=1)"
      ],
      "execution_count": 0,
      "outputs": [
        {
          "output_type": "stream",
          "text": [
            "Train on 4223 samples, validate on 1056 samples\n",
            "Epoch 1/20\n",
            "4223/4223 [==============================] - 12s 3ms/step - loss: 0.8845 - f1: 0.1695 - val_loss: 0.7755 - val_f1: 0.2798\n",
            "Epoch 2/20\n",
            "4223/4223 [==============================] - 8s 2ms/step - loss: 0.7329 - f1: 0.2800 - val_loss: 0.7546 - val_f1: 0.2797\n",
            "Epoch 3/20\n",
            "4223/4223 [==============================] - 8s 2ms/step - loss: 0.6303 - f1: 0.2906 - val_loss: 0.8407 - val_f1: 0.2827\n",
            "Epoch 4/20\n",
            "4223/4223 [==============================] - 8s 2ms/step - loss: 0.4949 - f1: 0.3825 - val_loss: 0.9563 - val_f1: 0.2721\n",
            "Epoch 5/20\n",
            "4223/4223 [==============================] - 8s 2ms/step - loss: 0.4124 - f1: 0.4948 - val_loss: 1.0457 - val_f1: 0.3055\n",
            "Epoch 6/20\n",
            "4223/4223 [==============================] - 8s 2ms/step - loss: 0.3429 - f1: 0.5944 - val_loss: 1.3336 - val_f1: 0.3318\n",
            "Epoch 7/20\n",
            "4223/4223 [==============================] - 8s 2ms/step - loss: 0.3116 - f1: 0.6772 - val_loss: 1.2959 - val_f1: 0.3524\n",
            "Epoch 8/20\n",
            "4223/4223 [==============================] - 8s 2ms/step - loss: 0.2684 - f1: 0.7709 - val_loss: 1.2575 - val_f1: 0.3789\n",
            "Epoch 9/20\n",
            "4223/4223 [==============================] - 8s 2ms/step - loss: 0.2142 - f1: 0.8529 - val_loss: 1.3826 - val_f1: 0.3773\n",
            "Epoch 10/20\n",
            "4223/4223 [==============================] - 8s 2ms/step - loss: 0.1808 - f1: 0.8858 - val_loss: 1.5074 - val_f1: 0.3776\n",
            "Epoch 11/20\n",
            "4223/4223 [==============================] - 8s 2ms/step - loss: 0.1372 - f1: 0.9348 - val_loss: 1.5055 - val_f1: 0.3982\n",
            "Epoch 12/20\n",
            "4223/4223 [==============================] - 8s 2ms/step - loss: 0.1032 - f1: 0.9507 - val_loss: 1.5023 - val_f1: 0.4016\n",
            "Epoch 13/20\n",
            "4223/4223 [==============================] - 8s 2ms/step - loss: 0.0960 - f1: 0.9577 - val_loss: 1.6337 - val_f1: 0.3992\n",
            "Epoch 14/20\n",
            "4223/4223 [==============================] - 8s 2ms/step - loss: 0.0895 - f1: 0.9591 - val_loss: 1.6435 - val_f1: 0.4041\n",
            "Epoch 15/20\n",
            "4223/4223 [==============================] - 8s 2ms/step - loss: 0.0858 - f1: 0.9621 - val_loss: 1.6866 - val_f1: 0.3947\n",
            "Epoch 16/20\n",
            "4223/4223 [==============================] - 8s 2ms/step - loss: 0.0705 - f1: 0.9705 - val_loss: 1.6371 - val_f1: 0.4064\n",
            "Epoch 17/20\n",
            "4223/4223 [==============================] - 8s 2ms/step - loss: 0.0639 - f1: 0.9696 - val_loss: 1.6894 - val_f1: 0.3911\n",
            "Epoch 18/20\n",
            "4223/4223 [==============================] - 8s 2ms/step - loss: 0.0674 - f1: 0.9709 - val_loss: 1.6623 - val_f1: 0.3946\n",
            "Epoch 19/20\n",
            "4223/4223 [==============================] - 8s 2ms/step - loss: 0.0576 - f1: 0.9743 - val_loss: 1.6829 - val_f1: 0.3941\n",
            "Epoch 20/20\n",
            "4223/4223 [==============================] - 8s 2ms/step - loss: 0.0587 - f1: 0.9758 - val_loss: 1.7983 - val_f1: 0.3918\n",
            "CPU times: user 3min 46s, sys: 20.1 s, total: 4min 6s\n",
            "Wall time: 2min 39s\n"
          ],
          "name": "stdout"
        }
      ]
    },
    {
      "cell_type": "code",
      "metadata": {
        "id": "6dVeoQP1g3y1",
        "colab_type": "code",
        "outputId": "f321491e-6727-4589-fad2-05953d28c0fe",
        "colab": {
          "base_uri": "https://localhost:8080/",
          "height": 219
        }
      },
      "source": [
        "y_pred2=model2_GRU.predict_classes(X_test, verbose=1)\n",
        "sub_df.sentiment=y_pred2\n",
        "sub_df.to_csv('sub2_GRU.csv',index=False)\n",
        "sub_df.head()"
      ],
      "execution_count": 0,
      "outputs": [
        {
          "output_type": "stream",
          "text": [
            "2924/2924 [==============================] - 7s 2ms/step\n"
          ],
          "name": "stdout"
        },
        {
          "output_type": "execute_result",
          "data": {
            "text/html": [
              "<div>\n",
              "<style scoped>\n",
              "    .dataframe tbody tr th:only-of-type {\n",
              "        vertical-align: middle;\n",
              "    }\n",
              "\n",
              "    .dataframe tbody tr th {\n",
              "        vertical-align: top;\n",
              "    }\n",
              "\n",
              "    .dataframe thead th {\n",
              "        text-align: right;\n",
              "    }\n",
              "</style>\n",
              "<table border=\"1\" class=\"dataframe\">\n",
              "  <thead>\n",
              "    <tr style=\"text-align: right;\">\n",
              "      <th></th>\n",
              "      <th>unique_hash</th>\n",
              "      <th>sentiment</th>\n",
              "    </tr>\n",
              "  </thead>\n",
              "  <tbody>\n",
              "    <tr>\n",
              "      <th>0</th>\n",
              "      <td>9e9a8166b84114aca147bf409f6f956635034c08</td>\n",
              "      <td>2</td>\n",
              "    </tr>\n",
              "    <tr>\n",
              "      <th>1</th>\n",
              "      <td>e747e6822c867571afe7b907b51f0f2ca67b0e1a</td>\n",
              "      <td>2</td>\n",
              "    </tr>\n",
              "    <tr>\n",
              "      <th>2</th>\n",
              "      <td>50b6d851bcff4f35afe354937949e9948975adf7</td>\n",
              "      <td>2</td>\n",
              "    </tr>\n",
              "    <tr>\n",
              "      <th>3</th>\n",
              "      <td>7f82ec2176ae6ab0b5d20b5ffc767ac829f384ae</td>\n",
              "      <td>2</td>\n",
              "    </tr>\n",
              "    <tr>\n",
              "      <th>4</th>\n",
              "      <td>8b37d169dee5bdae27060949242fb54feb6a7f7f</td>\n",
              "      <td>2</td>\n",
              "    </tr>\n",
              "  </tbody>\n",
              "</table>\n",
              "</div>"
            ],
            "text/plain": [
              "                                unique_hash  sentiment\n",
              "0  9e9a8166b84114aca147bf409f6f956635034c08          2\n",
              "1  e747e6822c867571afe7b907b51f0f2ca67b0e1a          2\n",
              "2  50b6d851bcff4f35afe354937949e9948975adf7          2\n",
              "3  7f82ec2176ae6ab0b5d20b5ffc767ac829f384ae          2\n",
              "4  8b37d169dee5bdae27060949242fb54feb6a7f7f          2"
            ]
          },
          "metadata": {
            "tags": []
          },
          "execution_count": 162
        }
      ]
    },
    {
      "cell_type": "code",
      "metadata": {
        "id": "DqdDxsaNiVEe",
        "colab_type": "code",
        "outputId": "fc4c1954-d2c0-41f1-e36a-b5f7fc6bf437",
        "colab": {
          "base_uri": "https://localhost:8080/",
          "height": 87
        }
      },
      "source": [
        "sub_df['sentiment'].value_counts()"
      ],
      "execution_count": 0,
      "outputs": [
        {
          "output_type": "execute_result",
          "data": {
            "text/plain": [
              "2    2709\n",
              "1     111\n",
              "0     104\n",
              "Name: sentiment, dtype: int64"
            ]
          },
          "metadata": {
            "tags": []
          },
          "execution_count": 163
        }
      ]
    },
    {
      "cell_type": "markdown",
      "metadata": {
        "id": "T-EuGXazq1mZ",
        "colab_type": "text"
      },
      "source": [
        "### LSTM"
      ]
    },
    {
      "cell_type": "code",
      "metadata": {
        "id": "gLol-KEwidxm",
        "colab_type": "code",
        "outputId": "91e9abff-8e0e-44aa-ff6d-64af9464bb1d",
        "colab": {
          "base_uri": "https://localhost:8080/",
          "height": 277
        }
      },
      "source": [
        "model3_LSTM=Sequential()\n",
        "model3_LSTM.add(Embedding(max_features,100,mask_zero=True))\n",
        "model3_LSTM.add(LSTM(64,dropout=0.4,return_sequences=True))\n",
        "model3_LSTM.add(LSTM(32,dropout=0.5,return_sequences=False))\n",
        "model3_LSTM.add(Dense(num_classes,activation='softmax'))\n",
        "model3_LSTM.compile(loss='categorical_crossentropy',optimizer=Adam(lr = 0.001),metrics=[f1])\n",
        "model3_LSTM.summary()"
      ],
      "execution_count": 0,
      "outputs": [
        {
          "output_type": "stream",
          "text": [
            "_________________________________________________________________\n",
            "Layer (type)                 Output Shape              Param #   \n",
            "=================================================================\n",
            "embedding_10 (Embedding)     (None, None, 100)         1300000   \n",
            "_________________________________________________________________\n",
            "lstm_3 (LSTM)                (None, None, 64)          42240     \n",
            "_________________________________________________________________\n",
            "lstm_4 (LSTM)                (None, 32)                12416     \n",
            "_________________________________________________________________\n",
            "dense_13 (Dense)             (None, 3)                 99        \n",
            "=================================================================\n",
            "Total params: 1,354,755\n",
            "Trainable params: 1,354,755\n",
            "Non-trainable params: 0\n",
            "_________________________________________________________________\n"
          ],
          "name": "stdout"
        }
      ]
    },
    {
      "cell_type": "code",
      "metadata": {
        "id": "dgN2PjGOrIVs",
        "colab_type": "code",
        "outputId": "50083f1b-2162-42d8-ba23-0ef9e5633b00",
        "colab": {
          "base_uri": "https://localhost:8080/",
          "height": 783
        }
      },
      "source": [
        "%%time\n",
        "history3=model3_LSTM.fit(X_train, Y_train, validation_data=(X_val, Y_val),epochs=epochs, batch_size=batch_size, verbose=1)"
      ],
      "execution_count": 0,
      "outputs": [
        {
          "output_type": "stream",
          "text": [
            "Train on 4223 samples, validate on 1056 samples\n",
            "Epoch 1/20\n",
            "4223/4223 [==============================] - 16s 4ms/step - loss: 0.8799 - f1: 0.1796 - val_loss: 0.7820 - val_f1: 0.2785\n",
            "Epoch 2/20\n",
            "4223/4223 [==============================] - 10s 2ms/step - loss: 0.7369 - f1: 0.2790 - val_loss: 0.7647 - val_f1: 0.2790\n",
            "Epoch 3/20\n",
            "4223/4223 [==============================] - 10s 2ms/step - loss: 0.6128 - f1: 0.2898 - val_loss: 0.8276 - val_f1: 0.2686\n",
            "Epoch 4/20\n",
            "4223/4223 [==============================] - 10s 2ms/step - loss: 0.4716 - f1: 0.3510 - val_loss: 0.9654 - val_f1: 0.2836\n",
            "Epoch 5/20\n",
            "4223/4223 [==============================] - 10s 2ms/step - loss: 0.3733 - f1: 0.5036 - val_loss: 1.1204 - val_f1: 0.3293\n",
            "Epoch 6/20\n",
            "4223/4223 [==============================] - 10s 2ms/step - loss: 0.3208 - f1: 0.5570 - val_loss: 1.1668 - val_f1: 0.3390\n",
            "Epoch 7/20\n",
            "4223/4223 [==============================] - 10s 2ms/step - loss: 0.2700 - f1: 0.7109 - val_loss: 1.2001 - val_f1: 0.3649\n",
            "Epoch 8/20\n",
            "4223/4223 [==============================] - 10s 2ms/step - loss: 0.2025 - f1: 0.8527 - val_loss: 1.2429 - val_f1: 0.3799\n",
            "Epoch 9/20\n",
            "4223/4223 [==============================] - 10s 2ms/step - loss: 0.1549 - f1: 0.9109 - val_loss: 1.2925 - val_f1: 0.4140\n",
            "Epoch 10/20\n",
            "4223/4223 [==============================] - 10s 2ms/step - loss: 0.1184 - f1: 0.9420 - val_loss: 1.4190 - val_f1: 0.4131\n",
            "Epoch 11/20\n",
            "4223/4223 [==============================] - 10s 2ms/step - loss: 0.1015 - f1: 0.9570 - val_loss: 1.3854 - val_f1: 0.4174\n",
            "Epoch 12/20\n",
            "4223/4223 [==============================] - 10s 2ms/step - loss: 0.0909 - f1: 0.9572 - val_loss: 1.5287 - val_f1: 0.4008\n",
            "Epoch 13/20\n",
            "4223/4223 [==============================] - 10s 2ms/step - loss: 0.0817 - f1: 0.9670 - val_loss: 1.5465 - val_f1: 0.3923\n",
            "Epoch 14/20\n",
            "4223/4223 [==============================] - 10s 2ms/step - loss: 0.0712 - f1: 0.9719 - val_loss: 1.5564 - val_f1: 0.3942\n",
            "Epoch 15/20\n",
            "4223/4223 [==============================] - 10s 2ms/step - loss: 0.0648 - f1: 0.9745 - val_loss: 1.5731 - val_f1: 0.4013\n",
            "Epoch 16/20\n",
            "4223/4223 [==============================] - 10s 2ms/step - loss: 0.0634 - f1: 0.9739 - val_loss: 1.6646 - val_f1: 0.3842\n",
            "Epoch 17/20\n",
            "4223/4223 [==============================] - 10s 2ms/step - loss: 0.0703 - f1: 0.9709 - val_loss: 1.6451 - val_f1: 0.3850\n",
            "Epoch 18/20\n",
            "4223/4223 [==============================] - 10s 2ms/step - loss: 0.0623 - f1: 0.9757 - val_loss: 1.6621 - val_f1: 0.3916\n",
            "Epoch 19/20\n",
            "4223/4223 [==============================] - 10s 2ms/step - loss: 0.0596 - f1: 0.9717 - val_loss: 1.6512 - val_f1: 0.4031\n",
            "Epoch 20/20\n",
            "4223/4223 [==============================] - 10s 2ms/step - loss: 0.0562 - f1: 0.9742 - val_loss: 1.6319 - val_f1: 0.3942\n",
            "CPU times: user 4min 53s, sys: 26.3 s, total: 5min 20s\n",
            "Wall time: 3min 28s\n"
          ],
          "name": "stdout"
        }
      ]
    },
    {
      "cell_type": "code",
      "metadata": {
        "id": "HX88oLLprLKx",
        "colab_type": "code",
        "outputId": "8ea72fdc-3dce-4331-a73b-9e34b1600c38",
        "colab": {
          "base_uri": "https://localhost:8080/",
          "height": 219
        }
      },
      "source": [
        "y_pred3=model3_LSTM.predict_classes(X_test, verbose=1)\n",
        "sub_df.sentiment=y_pred3\n",
        "sub_df.to_csv('sub3_LSTM.csv',index=False)\n",
        "sub_df.head()"
      ],
      "execution_count": 0,
      "outputs": [
        {
          "output_type": "stream",
          "text": [
            "2924/2924 [==============================] - 8s 3ms/step\n"
          ],
          "name": "stdout"
        },
        {
          "output_type": "execute_result",
          "data": {
            "text/html": [
              "<div>\n",
              "<style scoped>\n",
              "    .dataframe tbody tr th:only-of-type {\n",
              "        vertical-align: middle;\n",
              "    }\n",
              "\n",
              "    .dataframe tbody tr th {\n",
              "        vertical-align: top;\n",
              "    }\n",
              "\n",
              "    .dataframe thead th {\n",
              "        text-align: right;\n",
              "    }\n",
              "</style>\n",
              "<table border=\"1\" class=\"dataframe\">\n",
              "  <thead>\n",
              "    <tr style=\"text-align: right;\">\n",
              "      <th></th>\n",
              "      <th>unique_hash</th>\n",
              "      <th>sentiment</th>\n",
              "    </tr>\n",
              "  </thead>\n",
              "  <tbody>\n",
              "    <tr>\n",
              "      <th>0</th>\n",
              "      <td>9e9a8166b84114aca147bf409f6f956635034c08</td>\n",
              "      <td>2</td>\n",
              "    </tr>\n",
              "    <tr>\n",
              "      <th>1</th>\n",
              "      <td>e747e6822c867571afe7b907b51f0f2ca67b0e1a</td>\n",
              "      <td>0</td>\n",
              "    </tr>\n",
              "    <tr>\n",
              "      <th>2</th>\n",
              "      <td>50b6d851bcff4f35afe354937949e9948975adf7</td>\n",
              "      <td>2</td>\n",
              "    </tr>\n",
              "    <tr>\n",
              "      <th>3</th>\n",
              "      <td>7f82ec2176ae6ab0b5d20b5ffc767ac829f384ae</td>\n",
              "      <td>2</td>\n",
              "    </tr>\n",
              "    <tr>\n",
              "      <th>4</th>\n",
              "      <td>8b37d169dee5bdae27060949242fb54feb6a7f7f</td>\n",
              "      <td>2</td>\n",
              "    </tr>\n",
              "  </tbody>\n",
              "</table>\n",
              "</div>"
            ],
            "text/plain": [
              "                                unique_hash  sentiment\n",
              "0  9e9a8166b84114aca147bf409f6f956635034c08          2\n",
              "1  e747e6822c867571afe7b907b51f0f2ca67b0e1a          0\n",
              "2  50b6d851bcff4f35afe354937949e9948975adf7          2\n",
              "3  7f82ec2176ae6ab0b5d20b5ffc767ac829f384ae          2\n",
              "4  8b37d169dee5bdae27060949242fb54feb6a7f7f          2"
            ]
          },
          "metadata": {
            "tags": []
          },
          "execution_count": 166
        }
      ]
    },
    {
      "cell_type": "code",
      "metadata": {
        "id": "ABr0kZvLsWXO",
        "colab_type": "code",
        "outputId": "e4f40278-51bd-4449-ce55-6a69db42a5e6",
        "colab": {
          "base_uri": "https://localhost:8080/",
          "height": 87
        }
      },
      "source": [
        "sub_df['sentiment'].value_counts()"
      ],
      "execution_count": 0,
      "outputs": [
        {
          "output_type": "execute_result",
          "data": {
            "text/plain": [
              "2    2596\n",
              "0     225\n",
              "1     103\n",
              "Name: sentiment, dtype: int64"
            ]
          },
          "metadata": {
            "tags": []
          },
          "execution_count": 167
        }
      ]
    },
    {
      "cell_type": "markdown",
      "metadata": {
        "id": "4b36A5cus47_",
        "colab_type": "text"
      },
      "source": [
        "### Bidirectional-GRU"
      ]
    },
    {
      "cell_type": "code",
      "metadata": {
        "id": "S01I9IKuscwW",
        "colab_type": "code",
        "outputId": "85d9687d-ff32-4e30-82f7-6eb3a810fab1",
        "colab": {
          "base_uri": "https://localhost:8080/",
          "height": 312
        }
      },
      "source": [
        "model4_BGRU = Sequential()\n",
        "model4_BGRU.add(Embedding(max_features, 100, input_length=max_words))\n",
        "model4_BGRU.add(SpatialDropout1D(0.25))\n",
        "model4_BGRU.add(Bidirectional(GRU(64,dropout=0.4,return_sequences = True)))\n",
        "model4_BGRU.add(Bidirectional(GRU(32,dropout=0.5,return_sequences = False)))\n",
        "model4_BGRU.add(Dense(num_classes, activation='softmax'))\n",
        "# model4_BGRU.compile(loss='categorical_crossentropy', optimizer='adam', metrics=[f1])\n",
        "model4_BGRU.compile(loss='categorical_crossentropy',  optimizer=Adam(lr = 0.001), metrics=[f1])\n",
        "model4_BGRU.summary()"
      ],
      "execution_count": 0,
      "outputs": [
        {
          "output_type": "stream",
          "text": [
            "_________________________________________________________________\n",
            "Layer (type)                 Output Shape              Param #   \n",
            "=================================================================\n",
            "embedding_11 (Embedding)     (None, 50, 100)           1300000   \n",
            "_________________________________________________________________\n",
            "spatial_dropout1d_2 (Spatial (None, 50, 100)           0         \n",
            "_________________________________________________________________\n",
            "bidirectional_4 (Bidirection (None, 50, 128)           63360     \n",
            "_________________________________________________________________\n",
            "bidirectional_5 (Bidirection (None, 64)                30912     \n",
            "_________________________________________________________________\n",
            "dense_14 (Dense)             (None, 3)                 195       \n",
            "=================================================================\n",
            "Total params: 1,394,467\n",
            "Trainable params: 1,394,467\n",
            "Non-trainable params: 0\n",
            "_________________________________________________________________\n"
          ],
          "name": "stdout"
        }
      ]
    },
    {
      "cell_type": "code",
      "metadata": {
        "id": "ubgdMh6XtFZ_",
        "colab_type": "code",
        "outputId": "085c8268-1d52-4003-de25-40d16ef350a1",
        "colab": {
          "base_uri": "https://localhost:8080/",
          "height": 783
        }
      },
      "source": [
        "%%time\n",
        "history4=model4_BGRU.fit(X_train, Y_train, validation_data=(X_val, Y_val),epochs=epochs, batch_size=batch_size, verbose=1)"
      ],
      "execution_count": 0,
      "outputs": [
        {
          "output_type": "stream",
          "text": [
            "Train on 4223 samples, validate on 1056 samples\n",
            "Epoch 1/20\n",
            "4223/4223 [==============================] - 22s 5ms/step - loss: 0.8777 - f1: 0.1909 - val_loss: 0.7842 - val_f1: 0.2798\n",
            "Epoch 2/20\n",
            "4223/4223 [==============================] - 14s 3ms/step - loss: 0.7504 - f1: 0.2800 - val_loss: 0.7607 - val_f1: 0.2798\n",
            "Epoch 3/20\n",
            "4223/4223 [==============================] - 14s 3ms/step - loss: 0.6666 - f1: 0.2841 - val_loss: 0.7834 - val_f1: 0.2722\n",
            "Epoch 4/20\n",
            "4223/4223 [==============================] - 14s 3ms/step - loss: 0.5307 - f1: 0.3843 - val_loss: 0.8712 - val_f1: 0.2969\n",
            "Epoch 5/20\n",
            "4223/4223 [==============================] - 14s 3ms/step - loss: 0.4187 - f1: 0.5012 - val_loss: 1.0274 - val_f1: 0.3264\n",
            "Epoch 6/20\n",
            "4223/4223 [==============================] - 14s 3ms/step - loss: 0.3288 - f1: 0.6400 - val_loss: 1.1882 - val_f1: 0.3493\n",
            "Epoch 7/20\n",
            "4223/4223 [==============================] - 14s 3ms/step - loss: 0.2487 - f1: 0.8046 - val_loss: 1.3597 - val_f1: 0.3854\n",
            "Epoch 8/20\n",
            "4223/4223 [==============================] - 14s 3ms/step - loss: 0.1824 - f1: 0.8742 - val_loss: 1.2998 - val_f1: 0.3802\n",
            "Epoch 9/20\n",
            "4223/4223 [==============================] - 14s 3ms/step - loss: 0.1448 - f1: 0.9140 - val_loss: 1.4721 - val_f1: 0.3695\n",
            "Epoch 10/20\n",
            "4223/4223 [==============================] - 14s 3ms/step - loss: 0.1115 - f1: 0.9420 - val_loss: 1.5029 - val_f1: 0.3990\n",
            "Epoch 11/20\n",
            "4223/4223 [==============================] - 14s 3ms/step - loss: 0.0866 - f1: 0.9549 - val_loss: 1.5948 - val_f1: 0.3805\n",
            "Epoch 12/20\n",
            "4223/4223 [==============================] - 14s 3ms/step - loss: 0.0684 - f1: 0.9690 - val_loss: 1.7740 - val_f1: 0.3853\n",
            "Epoch 13/20\n",
            "4223/4223 [==============================] - 14s 3ms/step - loss: 0.0572 - f1: 0.9743 - val_loss: 1.8054 - val_f1: 0.3818\n",
            "Epoch 14/20\n",
            "4223/4223 [==============================] - 14s 3ms/step - loss: 0.0619 - f1: 0.9717 - val_loss: 1.7548 - val_f1: 0.3863\n",
            "Epoch 15/20\n",
            "4223/4223 [==============================] - 14s 3ms/step - loss: 0.0545 - f1: 0.9755 - val_loss: 1.8265 - val_f1: 0.3903\n",
            "Epoch 16/20\n",
            "4223/4223 [==============================] - 14s 3ms/step - loss: 0.0471 - f1: 0.9755 - val_loss: 1.8761 - val_f1: 0.3830\n",
            "Epoch 17/20\n",
            "4223/4223 [==============================] - 14s 3ms/step - loss: 0.0457 - f1: 0.9776 - val_loss: 1.9404 - val_f1: 0.4005\n",
            "Epoch 18/20\n",
            "4223/4223 [==============================] - 14s 3ms/step - loss: 0.0421 - f1: 0.9751 - val_loss: 1.9374 - val_f1: 0.3948\n",
            "Epoch 19/20\n",
            "4223/4223 [==============================] - 14s 3ms/step - loss: 0.0463 - f1: 0.9769 - val_loss: 2.0471 - val_f1: 0.3951\n",
            "Epoch 20/20\n",
            "4223/4223 [==============================] - 14s 3ms/step - loss: 0.0411 - f1: 0.9827 - val_loss: 1.9838 - val_f1: 0.3954\n",
            "CPU times: user 7min 11s, sys: 48.9 s, total: 8min\n",
            "Wall time: 4min 57s\n"
          ],
          "name": "stdout"
        }
      ]
    },
    {
      "cell_type": "code",
      "metadata": {
        "id": "iUD2FDVztIPE",
        "colab_type": "code",
        "outputId": "3ffed852-d456-411c-ee9d-7f983b1105e1",
        "colab": {
          "base_uri": "https://localhost:8080/",
          "height": 219
        }
      },
      "source": [
        "y_pred4=model4_BGRU.predict_classes(X_test, verbose=1)\n",
        "sub_df.sentiment=y_pred4\n",
        "sub_df.to_csv('sub4_BGRU.csv',index=False)\n",
        "sub_df.head()"
      ],
      "execution_count": 0,
      "outputs": [
        {
          "output_type": "stream",
          "text": [
            "2924/2924 [==============================] - 16s 6ms/step\n"
          ],
          "name": "stdout"
        },
        {
          "output_type": "execute_result",
          "data": {
            "text/html": [
              "<div>\n",
              "<style scoped>\n",
              "    .dataframe tbody tr th:only-of-type {\n",
              "        vertical-align: middle;\n",
              "    }\n",
              "\n",
              "    .dataframe tbody tr th {\n",
              "        vertical-align: top;\n",
              "    }\n",
              "\n",
              "    .dataframe thead th {\n",
              "        text-align: right;\n",
              "    }\n",
              "</style>\n",
              "<table border=\"1\" class=\"dataframe\">\n",
              "  <thead>\n",
              "    <tr style=\"text-align: right;\">\n",
              "      <th></th>\n",
              "      <th>unique_hash</th>\n",
              "      <th>sentiment</th>\n",
              "    </tr>\n",
              "  </thead>\n",
              "  <tbody>\n",
              "    <tr>\n",
              "      <th>0</th>\n",
              "      <td>9e9a8166b84114aca147bf409f6f956635034c08</td>\n",
              "      <td>2</td>\n",
              "    </tr>\n",
              "    <tr>\n",
              "      <th>1</th>\n",
              "      <td>e747e6822c867571afe7b907b51f0f2ca67b0e1a</td>\n",
              "      <td>2</td>\n",
              "    </tr>\n",
              "    <tr>\n",
              "      <th>2</th>\n",
              "      <td>50b6d851bcff4f35afe354937949e9948975adf7</td>\n",
              "      <td>2</td>\n",
              "    </tr>\n",
              "    <tr>\n",
              "      <th>3</th>\n",
              "      <td>7f82ec2176ae6ab0b5d20b5ffc767ac829f384ae</td>\n",
              "      <td>2</td>\n",
              "    </tr>\n",
              "    <tr>\n",
              "      <th>4</th>\n",
              "      <td>8b37d169dee5bdae27060949242fb54feb6a7f7f</td>\n",
              "      <td>2</td>\n",
              "    </tr>\n",
              "  </tbody>\n",
              "</table>\n",
              "</div>"
            ],
            "text/plain": [
              "                                unique_hash  sentiment\n",
              "0  9e9a8166b84114aca147bf409f6f956635034c08          2\n",
              "1  e747e6822c867571afe7b907b51f0f2ca67b0e1a          2\n",
              "2  50b6d851bcff4f35afe354937949e9948975adf7          2\n",
              "3  7f82ec2176ae6ab0b5d20b5ffc767ac829f384ae          2\n",
              "4  8b37d169dee5bdae27060949242fb54feb6a7f7f          2"
            ]
          },
          "metadata": {
            "tags": []
          },
          "execution_count": 170
        }
      ]
    },
    {
      "cell_type": "code",
      "metadata": {
        "id": "6dO62jePt_TR",
        "colab_type": "code",
        "outputId": "45ab9b29-4a1a-46da-eaed-cd37a3eccd77",
        "colab": {
          "base_uri": "https://localhost:8080/",
          "height": 87
        }
      },
      "source": [
        "sub_df['sentiment'].value_counts()"
      ],
      "execution_count": 0,
      "outputs": [
        {
          "output_type": "execute_result",
          "data": {
            "text/plain": [
              "2    2657\n",
              "1     159\n",
              "0     108\n",
              "Name: sentiment, dtype: int64"
            ]
          },
          "metadata": {
            "tags": []
          },
          "execution_count": 171
        }
      ]
    },
    {
      "cell_type": "markdown",
      "metadata": {
        "id": "1ueX8QMYuE3F",
        "colab_type": "text"
      },
      "source": [
        "### CNN"
      ]
    },
    {
      "cell_type": "code",
      "metadata": {
        "id": "y9IRLD4uuDcJ",
        "colab_type": "code",
        "outputId": "e80cbf01-277e-4954-f732-667a1b85ac4f",
        "colab": {
          "base_uri": "https://localhost:8080/",
          "height": 381
        }
      },
      "source": [
        "model5_CNN= Sequential()\n",
        "model5_CNN.add(Embedding(max_features,100,input_length=max_words))\n",
        "model5_CNN.add(Dropout(0.2))\n",
        "model5_CNN.add(Conv1D(64,kernel_size=3,padding='same',activation='relu',strides=1))\n",
        "model5_CNN.add(GlobalMaxPooling1D())\n",
        "model5_CNN.add(Dense(128,activation='relu'))\n",
        "model5_CNN.add(Dropout(0.2))\n",
        "model5_CNN.add(Dense(num_classes,activation='softmax'))\n",
        "# model5_CNN.compile(loss='categorical_crossentropy',optimizer='adam',metrics=[f1])\n",
        "model5_CNN.compile(loss='categorical_crossentropy',  optimizer=Adam(lr = 0.001), metrics=[f1])\n",
        "model5_CNN.summary()"
      ],
      "execution_count": 0,
      "outputs": [
        {
          "output_type": "stream",
          "text": [
            "_________________________________________________________________\n",
            "Layer (type)                 Output Shape              Param #   \n",
            "=================================================================\n",
            "embedding_12 (Embedding)     (None, 50, 100)           1300000   \n",
            "_________________________________________________________________\n",
            "dropout_8 (Dropout)          (None, 50, 100)           0         \n",
            "_________________________________________________________________\n",
            "conv1d_4 (Conv1D)            (None, 50, 64)            19264     \n",
            "_________________________________________________________________\n",
            "global_max_pooling1d_3 (Glob (None, 64)                0         \n",
            "_________________________________________________________________\n",
            "dense_15 (Dense)             (None, 128)               8320      \n",
            "_________________________________________________________________\n",
            "dropout_9 (Dropout)          (None, 128)               0         \n",
            "_________________________________________________________________\n",
            "dense_16 (Dense)             (None, 3)                 387       \n",
            "=================================================================\n",
            "Total params: 1,327,971\n",
            "Trainable params: 1,327,971\n",
            "Non-trainable params: 0\n",
            "_________________________________________________________________\n"
          ],
          "name": "stdout"
        }
      ]
    },
    {
      "cell_type": "code",
      "metadata": {
        "id": "JqC16j1GuZGY",
        "colab_type": "code",
        "outputId": "ba2c36b6-0263-4527-cae9-9ee27f399192",
        "colab": {
          "base_uri": "https://localhost:8080/",
          "height": 401
        }
      },
      "source": [
        "%%time\n",
        "early_stop = EarlyStopping(monitor = \"val_loss\", mode = \"min\", patience = 5)\n",
        "\n",
        "history5=model5_CNN.fit(X_train, Y_train, validation_data=(X_val, Y_val),epochs=30, batch_size=batch_size, verbose=1,callbacks = [early_stop])"
      ],
      "execution_count": 0,
      "outputs": [
        {
          "output_type": "stream",
          "text": [
            "Train on 4223 samples, validate on 1056 samples\n",
            "Epoch 1/30\n",
            "4223/4223 [==============================] - 6s 1ms/step - loss: 0.8759 - f1: 0.1810 - val_loss: 0.7781 - val_f1: 0.2798\n",
            "Epoch 2/30\n",
            "4223/4223 [==============================] - 0s 84us/step - loss: 0.7500 - f1: 0.2799 - val_loss: 0.7657 - val_f1: 0.2798\n",
            "Epoch 3/30\n",
            "4223/4223 [==============================] - 0s 84us/step - loss: 0.7177 - f1: 0.2799 - val_loss: 0.7597 - val_f1: 0.2800\n",
            "Epoch 4/30\n",
            "4223/4223 [==============================] - 0s 82us/step - loss: 0.6649 - f1: 0.2802 - val_loss: 0.7562 - val_f1: 0.2806\n",
            "Epoch 5/30\n",
            "4223/4223 [==============================] - 0s 85us/step - loss: 0.5663 - f1: 0.2973 - val_loss: 0.7852 - val_f1: 0.2802\n",
            "Epoch 6/30\n",
            "4223/4223 [==============================] - 0s 85us/step - loss: 0.4077 - f1: 0.4898 - val_loss: 0.8724 - val_f1: 0.3273\n",
            "Epoch 7/30\n",
            "4223/4223 [==============================] - 0s 84us/step - loss: 0.2475 - f1: 0.7272 - val_loss: 1.0402 - val_f1: 0.3741\n",
            "Epoch 8/30\n",
            "4223/4223 [==============================] - 0s 86us/step - loss: 0.1432 - f1: 0.9341 - val_loss: 1.1926 - val_f1: 0.3976\n",
            "Epoch 9/30\n",
            "4223/4223 [==============================] - 0s 86us/step - loss: 0.0854 - f1: 0.9717 - val_loss: 1.2935 - val_f1: 0.4149\n",
            "CPU times: user 9.56 s, sys: 657 ms, total: 10.2 s\n",
            "Wall time: 9.49 s\n"
          ],
          "name": "stdout"
        }
      ]
    },
    {
      "cell_type": "code",
      "metadata": {
        "id": "QMTayxCvugZr",
        "colab_type": "code",
        "outputId": "b6ff5792-2966-4971-b987-02a875bd528c",
        "colab": {
          "base_uri": "https://localhost:8080/",
          "height": 274
        }
      },
      "source": [
        "y_pred5=model5_CNN.predict_classes(X_test, verbose=1)\n",
        "sub_df.Sentiment=y_pred5\n",
        "sub_df.to_csv('sub5_CNN.csv',index=False)\n",
        "sub_df.head()"
      ],
      "execution_count": 0,
      "outputs": [
        {
          "output_type": "stream",
          "text": [
            "2924/2924 [==============================] - 2s 740us/step\n"
          ],
          "name": "stdout"
        },
        {
          "output_type": "stream",
          "text": [
            "/usr/local/lib/python3.6/dist-packages/ipykernel_launcher.py:2: UserWarning: Pandas doesn't allow columns to be created via a new attribute name - see https://pandas.pydata.org/pandas-docs/stable/indexing.html#attribute-access\n",
            "  \n"
          ],
          "name": "stderr"
        },
        {
          "output_type": "execute_result",
          "data": {
            "text/html": [
              "<div>\n",
              "<style scoped>\n",
              "    .dataframe tbody tr th:only-of-type {\n",
              "        vertical-align: middle;\n",
              "    }\n",
              "\n",
              "    .dataframe tbody tr th {\n",
              "        vertical-align: top;\n",
              "    }\n",
              "\n",
              "    .dataframe thead th {\n",
              "        text-align: right;\n",
              "    }\n",
              "</style>\n",
              "<table border=\"1\" class=\"dataframe\">\n",
              "  <thead>\n",
              "    <tr style=\"text-align: right;\">\n",
              "      <th></th>\n",
              "      <th>unique_hash</th>\n",
              "      <th>sentiment</th>\n",
              "    </tr>\n",
              "  </thead>\n",
              "  <tbody>\n",
              "    <tr>\n",
              "      <th>0</th>\n",
              "      <td>9e9a8166b84114aca147bf409f6f956635034c08</td>\n",
              "      <td>2</td>\n",
              "    </tr>\n",
              "    <tr>\n",
              "      <th>1</th>\n",
              "      <td>e747e6822c867571afe7b907b51f0f2ca67b0e1a</td>\n",
              "      <td>2</td>\n",
              "    </tr>\n",
              "    <tr>\n",
              "      <th>2</th>\n",
              "      <td>50b6d851bcff4f35afe354937949e9948975adf7</td>\n",
              "      <td>2</td>\n",
              "    </tr>\n",
              "    <tr>\n",
              "      <th>3</th>\n",
              "      <td>7f82ec2176ae6ab0b5d20b5ffc767ac829f384ae</td>\n",
              "      <td>2</td>\n",
              "    </tr>\n",
              "    <tr>\n",
              "      <th>4</th>\n",
              "      <td>8b37d169dee5bdae27060949242fb54feb6a7f7f</td>\n",
              "      <td>2</td>\n",
              "    </tr>\n",
              "  </tbody>\n",
              "</table>\n",
              "</div>"
            ],
            "text/plain": [
              "                                unique_hash  sentiment\n",
              "0  9e9a8166b84114aca147bf409f6f956635034c08          2\n",
              "1  e747e6822c867571afe7b907b51f0f2ca67b0e1a          2\n",
              "2  50b6d851bcff4f35afe354937949e9948975adf7          2\n",
              "3  7f82ec2176ae6ab0b5d20b5ffc767ac829f384ae          2\n",
              "4  8b37d169dee5bdae27060949242fb54feb6a7f7f          2"
            ]
          },
          "metadata": {
            "tags": []
          },
          "execution_count": 174
        }
      ]
    },
    {
      "cell_type": "code",
      "metadata": {
        "id": "acUQ-Uuxwcom",
        "colab_type": "code",
        "outputId": "4b4e5424-d01a-4087-8429-ce9983bd0ca7",
        "colab": {
          "base_uri": "https://localhost:8080/",
          "height": 87
        }
      },
      "source": [
        "sub_df['sentiment'].value_counts()"
      ],
      "execution_count": 0,
      "outputs": [
        {
          "output_type": "execute_result",
          "data": {
            "text/plain": [
              "2    2657\n",
              "1     159\n",
              "0     108\n",
              "Name: sentiment, dtype: int64"
            ]
          },
          "metadata": {
            "tags": []
          },
          "execution_count": 175
        }
      ]
    },
    {
      "cell_type": "markdown",
      "metadata": {
        "id": "ttxZtccCwo3X",
        "colab_type": "text"
      },
      "source": [
        "### CNN-GRU"
      ]
    },
    {
      "cell_type": "code",
      "metadata": {
        "id": "P13ynljjwjwo",
        "colab_type": "code",
        "outputId": "b340762b-4263-4864-ab4c-edc5aa1a0bbd",
        "colab": {
          "base_uri": "https://localhost:8080/",
          "height": 485
        }
      },
      "source": [
        "model6_CnnGRU= Sequential()\n",
        "model6_CnnGRU.add(Embedding(max_features,100,input_length=max_words))\n",
        "model6_CnnGRU.add(Conv1D(64,kernel_size=3,padding='same',activation='relu'))\n",
        "model6_CnnGRU.add(MaxPooling1D(pool_size=2))\n",
        "model6_CnnGRU.add(Dropout(0.25))\n",
        "model6_CnnGRU.add(GRU(128,return_sequences=True))\n",
        "model6_CnnGRU.add(Dropout(0.3))\n",
        "model6_CnnGRU.add(Flatten())\n",
        "model6_CnnGRU.add(Dense(128,activation='relu'))\n",
        "model6_CnnGRU.add(Dropout(0.5))\n",
        "model6_CnnGRU.add(Dense(num_classes,activation='softmax'))\n",
        "model6_CnnGRU.compile(loss='categorical_crossentropy',optimizer=Adam(lr=0.001),metrics=[f1])\n",
        "model6_CnnGRU.summary()"
      ],
      "execution_count": 0,
      "outputs": [
        {
          "output_type": "stream",
          "text": [
            "_________________________________________________________________\n",
            "Layer (type)                 Output Shape              Param #   \n",
            "=================================================================\n",
            "embedding_13 (Embedding)     (None, 50, 100)           1300000   \n",
            "_________________________________________________________________\n",
            "conv1d_5 (Conv1D)            (None, 50, 64)            19264     \n",
            "_________________________________________________________________\n",
            "max_pooling1d_2 (MaxPooling1 (None, 25, 64)            0         \n",
            "_________________________________________________________________\n",
            "dropout_10 (Dropout)         (None, 25, 64)            0         \n",
            "_________________________________________________________________\n",
            "gru_15 (GRU)                 (None, 25, 128)           74112     \n",
            "_________________________________________________________________\n",
            "dropout_11 (Dropout)         (None, 25, 128)           0         \n",
            "_________________________________________________________________\n",
            "flatten_2 (Flatten)          (None, 3200)              0         \n",
            "_________________________________________________________________\n",
            "dense_17 (Dense)             (None, 128)               409728    \n",
            "_________________________________________________________________\n",
            "dropout_12 (Dropout)         (None, 128)               0         \n",
            "_________________________________________________________________\n",
            "dense_18 (Dense)             (None, 3)                 387       \n",
            "=================================================================\n",
            "Total params: 1,803,491\n",
            "Trainable params: 1,803,491\n",
            "Non-trainable params: 0\n",
            "_________________________________________________________________\n"
          ],
          "name": "stdout"
        }
      ]
    },
    {
      "cell_type": "code",
      "metadata": {
        "id": "X1NDn6IMwyqV",
        "colab_type": "code",
        "outputId": "73e69992-1856-496b-98f5-778d02079feb",
        "colab": {
          "base_uri": "https://localhost:8080/",
          "height": 297
        }
      },
      "source": [
        "%%time\n",
        "history6=model6_CnnGRU.fit(X_train, Y_train, validation_data=(X_val, Y_val),epochs=epochs, batch_size=batch_size, verbose=1,callbacks=[early_stop])"
      ],
      "execution_count": 0,
      "outputs": [
        {
          "output_type": "stream",
          "text": [
            "Train on 4223 samples, validate on 1056 samples\n",
            "Epoch 1/20\n",
            "4223/4223 [==============================] - 9s 2ms/step - loss: 0.8077 - f1: 0.2559 - val_loss: 0.7669 - val_f1: 0.2798\n",
            "Epoch 2/20\n",
            "4223/4223 [==============================] - 2s 572us/step - loss: 0.6858 - f1: 0.2830 - val_loss: 0.8055 - val_f1: 0.2644\n",
            "Epoch 3/20\n",
            "4223/4223 [==============================] - 2s 567us/step - loss: 0.4901 - f1: 0.4331 - val_loss: 0.9264 - val_f1: 0.3164\n",
            "Epoch 4/20\n",
            "4223/4223 [==============================] - 2s 576us/step - loss: 0.3466 - f1: 0.6009 - val_loss: 1.2976 - val_f1: 0.3196\n",
            "Epoch 5/20\n",
            "4223/4223 [==============================] - 2s 563us/step - loss: 0.2299 - f1: 0.8131 - val_loss: 1.4989 - val_f1: 0.3518\n",
            "Epoch 6/20\n",
            "4223/4223 [==============================] - 2s 555us/step - loss: 0.1256 - f1: 0.9319 - val_loss: 1.5782 - val_f1: 0.3933\n",
            "CPU times: user 24.8 s, sys: 2.5 s, total: 27.3 s\n",
            "Wall time: 22 s\n"
          ],
          "name": "stdout"
        }
      ]
    },
    {
      "cell_type": "code",
      "metadata": {
        "id": "IKlkXSkuw8Bx",
        "colab_type": "code",
        "outputId": "a9df1713-4394-4866-9339-a956fcd2a6a3",
        "colab": {
          "base_uri": "https://localhost:8080/",
          "height": 219
        }
      },
      "source": [
        "y_pred6=model6_CnnGRU.predict_classes(X_test, verbose=1)\n",
        "sub_df.sentiment=y_pred6\n",
        "sub_df.to_csv('sub6_CnnGRU.csv',index=False)\n",
        "sub_df.head()"
      ],
      "execution_count": 0,
      "outputs": [
        {
          "output_type": "stream",
          "text": [
            "2924/2924 [==============================] - 4s 1ms/step\n"
          ],
          "name": "stdout"
        },
        {
          "output_type": "execute_result",
          "data": {
            "text/html": [
              "<div>\n",
              "<style scoped>\n",
              "    .dataframe tbody tr th:only-of-type {\n",
              "        vertical-align: middle;\n",
              "    }\n",
              "\n",
              "    .dataframe tbody tr th {\n",
              "        vertical-align: top;\n",
              "    }\n",
              "\n",
              "    .dataframe thead th {\n",
              "        text-align: right;\n",
              "    }\n",
              "</style>\n",
              "<table border=\"1\" class=\"dataframe\">\n",
              "  <thead>\n",
              "    <tr style=\"text-align: right;\">\n",
              "      <th></th>\n",
              "      <th>unique_hash</th>\n",
              "      <th>sentiment</th>\n",
              "    </tr>\n",
              "  </thead>\n",
              "  <tbody>\n",
              "    <tr>\n",
              "      <th>0</th>\n",
              "      <td>9e9a8166b84114aca147bf409f6f956635034c08</td>\n",
              "      <td>2</td>\n",
              "    </tr>\n",
              "    <tr>\n",
              "      <th>1</th>\n",
              "      <td>e747e6822c867571afe7b907b51f0f2ca67b0e1a</td>\n",
              "      <td>1</td>\n",
              "    </tr>\n",
              "    <tr>\n",
              "      <th>2</th>\n",
              "      <td>50b6d851bcff4f35afe354937949e9948975adf7</td>\n",
              "      <td>2</td>\n",
              "    </tr>\n",
              "    <tr>\n",
              "      <th>3</th>\n",
              "      <td>7f82ec2176ae6ab0b5d20b5ffc767ac829f384ae</td>\n",
              "      <td>2</td>\n",
              "    </tr>\n",
              "    <tr>\n",
              "      <th>4</th>\n",
              "      <td>8b37d169dee5bdae27060949242fb54feb6a7f7f</td>\n",
              "      <td>2</td>\n",
              "    </tr>\n",
              "  </tbody>\n",
              "</table>\n",
              "</div>"
            ],
            "text/plain": [
              "                                unique_hash  sentiment\n",
              "0  9e9a8166b84114aca147bf409f6f956635034c08          2\n",
              "1  e747e6822c867571afe7b907b51f0f2ca67b0e1a          1\n",
              "2  50b6d851bcff4f35afe354937949e9948975adf7          2\n",
              "3  7f82ec2176ae6ab0b5d20b5ffc767ac829f384ae          2\n",
              "4  8b37d169dee5bdae27060949242fb54feb6a7f7f          2"
            ]
          },
          "metadata": {
            "tags": []
          },
          "execution_count": 178
        }
      ]
    },
    {
      "cell_type": "code",
      "metadata": {
        "id": "rmLJI6QTyeQb",
        "colab_type": "code",
        "outputId": "8f39e224-aa37-4f10-ead3-ecdff4ffe8a6",
        "colab": {
          "base_uri": "https://localhost:8080/",
          "height": 87
        }
      },
      "source": [
        "sub_df['sentiment'].value_counts()"
      ],
      "execution_count": 0,
      "outputs": [
        {
          "output_type": "execute_result",
          "data": {
            "text/plain": [
              "2    2805\n",
              "0      69\n",
              "1      50\n",
              "Name: sentiment, dtype: int64"
            ]
          },
          "metadata": {
            "tags": []
          },
          "execution_count": 179
        }
      ]
    },
    {
      "cell_type": "markdown",
      "metadata": {
        "id": "IYDNbFQayy5q",
        "colab_type": "text"
      },
      "source": [
        "### GRU-CNN"
      ]
    },
    {
      "cell_type": "code",
      "metadata": {
        "id": "40hB6HAjyiun",
        "colab_type": "code",
        "outputId": "265aa685-445e-4ca6-eec8-bf6f26f424e4",
        "colab": {
          "base_uri": "https://localhost:8080/",
          "height": 416
        }
      },
      "source": [
        "model7_GruCNN = Sequential()\n",
        "model7_GruCNN.add(Embedding(max_features,100,input_length=max_words))\n",
        "model7_GruCNN.add(Dropout(0.2))\n",
        "model7_GruCNN.add(Bidirectional(GRU(units=128 , return_sequences=True)))\n",
        "model7_GruCNN.add(Conv1D(32 , kernel_size=3 , padding='same' , activation='relu'))\n",
        "model7_GruCNN.add(GlobalMaxPooling1D())\n",
        "model7_GruCNN.add(Dense(units = 64 , activation='relu'))\n",
        "model7_GruCNN.add(Dropout(0.5))\n",
        "model7_GruCNN.add(Dense(units=num_classes,activation='softmax'))\n",
        "model7_GruCNN.compile(loss='categorical_crossentropy' , optimizer=Adam(lr=0.001) , metrics=[f1])\n",
        "model7_GruCNN.summary()"
      ],
      "execution_count": 0,
      "outputs": [
        {
          "output_type": "stream",
          "text": [
            "_________________________________________________________________\n",
            "Layer (type)                 Output Shape              Param #   \n",
            "=================================================================\n",
            "embedding_14 (Embedding)     (None, 50, 100)           1300000   \n",
            "_________________________________________________________________\n",
            "dropout_13 (Dropout)         (None, 50, 100)           0         \n",
            "_________________________________________________________________\n",
            "bidirectional_6 (Bidirection (None, 50, 256)           175872    \n",
            "_________________________________________________________________\n",
            "conv1d_6 (Conv1D)            (None, 50, 32)            24608     \n",
            "_________________________________________________________________\n",
            "global_max_pooling1d_4 (Glob (None, 32)                0         \n",
            "_________________________________________________________________\n",
            "dense_19 (Dense)             (None, 64)                2112      \n",
            "_________________________________________________________________\n",
            "dropout_14 (Dropout)         (None, 64)                0         \n",
            "_________________________________________________________________\n",
            "dense_20 (Dense)             (None, 3)                 195       \n",
            "=================================================================\n",
            "Total params: 1,502,787\n",
            "Trainable params: 1,502,787\n",
            "Non-trainable params: 0\n",
            "_________________________________________________________________\n"
          ],
          "name": "stdout"
        }
      ]
    },
    {
      "cell_type": "code",
      "metadata": {
        "id": "WCIpfLrty8Cy",
        "colab_type": "code",
        "outputId": "56d84b44-b84c-42ef-b3bf-8c631159c7fd",
        "colab": {
          "base_uri": "https://localhost:8080/",
          "height": 332
        }
      },
      "source": [
        "%%time\n",
        "history7 = model7_GruCNN.fit(X_train, Y_train, validation_data=(X_val, Y_val),epochs=epochs, batch_size=batch_size, verbose=1,callbacks=[early_stop])"
      ],
      "execution_count": 0,
      "outputs": [
        {
          "output_type": "stream",
          "text": [
            "Train on 4223 samples, validate on 1056 samples\n",
            "Epoch 1/20\n",
            "4223/4223 [==============================] - 14s 3ms/step - loss: 0.8706 - f1: 0.2103 - val_loss: 0.7757 - val_f1: 0.2798\n",
            "Epoch 2/20\n",
            "4223/4223 [==============================] - 7s 2ms/step - loss: 0.7729 - f1: 0.2790 - val_loss: 0.7583 - val_f1: 0.2798\n",
            "Epoch 3/20\n",
            "4223/4223 [==============================] - 7s 2ms/step - loss: 0.6947 - f1: 0.2820 - val_loss: 0.7761 - val_f1: 0.2713\n",
            "Epoch 4/20\n",
            "4223/4223 [==============================] - 7s 2ms/step - loss: 0.5440 - f1: 0.3307 - val_loss: 0.9193 - val_f1: 0.2652\n",
            "Epoch 5/20\n",
            "4223/4223 [==============================] - 7s 2ms/step - loss: 0.4252 - f1: 0.4736 - val_loss: 1.0613 - val_f1: 0.3246\n",
            "Epoch 6/20\n",
            "4223/4223 [==============================] - 7s 2ms/step - loss: 0.3227 - f1: 0.6048 - val_loss: 1.2639 - val_f1: 0.3932\n",
            "Epoch 7/20\n",
            "4223/4223 [==============================] - 7s 2ms/step - loss: 0.2590 - f1: 0.7754 - val_loss: 1.3944 - val_f1: 0.4011\n",
            "CPU times: user 1min 24s, sys: 10.1 s, total: 1min 34s\n",
            "Wall time: 1min\n"
          ],
          "name": "stdout"
        }
      ]
    },
    {
      "cell_type": "code",
      "metadata": {
        "id": "O4_0Z_GyzAD0",
        "colab_type": "code",
        "outputId": "a9f26701-552c-46ae-9787-adfd8c9c7e9d",
        "colab": {
          "base_uri": "https://localhost:8080/",
          "height": 219
        }
      },
      "source": [
        "y_pred7=model7_GruCNN.predict_classes(X_test, verbose=1)\n",
        "sub_df.sentiment=y_pred7\n",
        "sub_df.to_csv('sub7_GruCNN.csv',index=False)\n",
        "sub_df.head()"
      ],
      "execution_count": 0,
      "outputs": [
        {
          "output_type": "stream",
          "text": [
            "2924/2924 [==============================] - 9s 3ms/step\n"
          ],
          "name": "stdout"
        },
        {
          "output_type": "execute_result",
          "data": {
            "text/html": [
              "<div>\n",
              "<style scoped>\n",
              "    .dataframe tbody tr th:only-of-type {\n",
              "        vertical-align: middle;\n",
              "    }\n",
              "\n",
              "    .dataframe tbody tr th {\n",
              "        vertical-align: top;\n",
              "    }\n",
              "\n",
              "    .dataframe thead th {\n",
              "        text-align: right;\n",
              "    }\n",
              "</style>\n",
              "<table border=\"1\" class=\"dataframe\">\n",
              "  <thead>\n",
              "    <tr style=\"text-align: right;\">\n",
              "      <th></th>\n",
              "      <th>unique_hash</th>\n",
              "      <th>sentiment</th>\n",
              "    </tr>\n",
              "  </thead>\n",
              "  <tbody>\n",
              "    <tr>\n",
              "      <th>0</th>\n",
              "      <td>9e9a8166b84114aca147bf409f6f956635034c08</td>\n",
              "      <td>2</td>\n",
              "    </tr>\n",
              "    <tr>\n",
              "      <th>1</th>\n",
              "      <td>e747e6822c867571afe7b907b51f0f2ca67b0e1a</td>\n",
              "      <td>0</td>\n",
              "    </tr>\n",
              "    <tr>\n",
              "      <th>2</th>\n",
              "      <td>50b6d851bcff4f35afe354937949e9948975adf7</td>\n",
              "      <td>2</td>\n",
              "    </tr>\n",
              "    <tr>\n",
              "      <th>3</th>\n",
              "      <td>7f82ec2176ae6ab0b5d20b5ffc767ac829f384ae</td>\n",
              "      <td>2</td>\n",
              "    </tr>\n",
              "    <tr>\n",
              "      <th>4</th>\n",
              "      <td>8b37d169dee5bdae27060949242fb54feb6a7f7f</td>\n",
              "      <td>2</td>\n",
              "    </tr>\n",
              "  </tbody>\n",
              "</table>\n",
              "</div>"
            ],
            "text/plain": [
              "                                unique_hash  sentiment\n",
              "0  9e9a8166b84114aca147bf409f6f956635034c08          2\n",
              "1  e747e6822c867571afe7b907b51f0f2ca67b0e1a          0\n",
              "2  50b6d851bcff4f35afe354937949e9948975adf7          2\n",
              "3  7f82ec2176ae6ab0b5d20b5ffc767ac829f384ae          2\n",
              "4  8b37d169dee5bdae27060949242fb54feb6a7f7f          2"
            ]
          },
          "metadata": {
            "tags": []
          },
          "execution_count": 182
        }
      ]
    },
    {
      "cell_type": "markdown",
      "metadata": {
        "id": "o7j3IgUezaq3",
        "colab_type": "text"
      },
      "source": [
        "### Ensembling all the predictions"
      ]
    },
    {
      "cell_type": "code",
      "metadata": {
        "id": "lOeeDdMhzbvd",
        "colab_type": "code",
        "outputId": "87398335-15f6-48a0-a86b-10b0b72a020e",
        "colab": {
          "base_uri": "https://localhost:8080/",
          "height": 202
        }
      },
      "source": [
        "sub_all=pd.DataFrame({'model1':y_pred1,'model2':y_pred2,'model3':y_pred3,'model4':y_pred4,'model5':y_pred5,'model6':y_pred6,'model7':y_pred7})\n",
        "pred_mode=sub_all.agg('mode',axis=1)[0].values\n",
        "sub_all.head()"
      ],
      "execution_count": 0,
      "outputs": [
        {
          "output_type": "execute_result",
          "data": {
            "text/html": [
              "<div>\n",
              "<style scoped>\n",
              "    .dataframe tbody tr th:only-of-type {\n",
              "        vertical-align: middle;\n",
              "    }\n",
              "\n",
              "    .dataframe tbody tr th {\n",
              "        vertical-align: top;\n",
              "    }\n",
              "\n",
              "    .dataframe thead th {\n",
              "        text-align: right;\n",
              "    }\n",
              "</style>\n",
              "<table border=\"1\" class=\"dataframe\">\n",
              "  <thead>\n",
              "    <tr style=\"text-align: right;\">\n",
              "      <th></th>\n",
              "      <th>model1</th>\n",
              "      <th>model2</th>\n",
              "      <th>model3</th>\n",
              "      <th>model4</th>\n",
              "      <th>model5</th>\n",
              "      <th>model6</th>\n",
              "      <th>model7</th>\n",
              "    </tr>\n",
              "  </thead>\n",
              "  <tbody>\n",
              "    <tr>\n",
              "      <th>0</th>\n",
              "      <td>2</td>\n",
              "      <td>2</td>\n",
              "      <td>2</td>\n",
              "      <td>2</td>\n",
              "      <td>2</td>\n",
              "      <td>2</td>\n",
              "      <td>2</td>\n",
              "    </tr>\n",
              "    <tr>\n",
              "      <th>1</th>\n",
              "      <td>2</td>\n",
              "      <td>2</td>\n",
              "      <td>0</td>\n",
              "      <td>2</td>\n",
              "      <td>2</td>\n",
              "      <td>1</td>\n",
              "      <td>0</td>\n",
              "    </tr>\n",
              "    <tr>\n",
              "      <th>2</th>\n",
              "      <td>2</td>\n",
              "      <td>2</td>\n",
              "      <td>2</td>\n",
              "      <td>2</td>\n",
              "      <td>2</td>\n",
              "      <td>2</td>\n",
              "      <td>2</td>\n",
              "    </tr>\n",
              "    <tr>\n",
              "      <th>3</th>\n",
              "      <td>2</td>\n",
              "      <td>2</td>\n",
              "      <td>2</td>\n",
              "      <td>2</td>\n",
              "      <td>2</td>\n",
              "      <td>2</td>\n",
              "      <td>2</td>\n",
              "    </tr>\n",
              "    <tr>\n",
              "      <th>4</th>\n",
              "      <td>2</td>\n",
              "      <td>2</td>\n",
              "      <td>2</td>\n",
              "      <td>2</td>\n",
              "      <td>2</td>\n",
              "      <td>2</td>\n",
              "      <td>2</td>\n",
              "    </tr>\n",
              "  </tbody>\n",
              "</table>\n",
              "</div>"
            ],
            "text/plain": [
              "   model1  model2  model3  model4  model5  model6  model7\n",
              "0       2       2       2       2       2       2       2\n",
              "1       2       2       0       2       2       1       0\n",
              "2       2       2       2       2       2       2       2\n",
              "3       2       2       2       2       2       2       2\n",
              "4       2       2       2       2       2       2       2"
            ]
          },
          "metadata": {
            "tags": []
          },
          "execution_count": 183
        }
      ]
    },
    {
      "cell_type": "code",
      "metadata": {
        "id": "aJgS1rWDzgqq",
        "colab_type": "code",
        "outputId": "79d61cc4-f4b6-4b2e-f461-014bb1cc1fad",
        "colab": {
          "base_uri": "https://localhost:8080/",
          "height": 202
        }
      },
      "source": [
        "pred_mode=[int(i) for i in pred_mode]\n",
        "sub_df.sentiment=pred_mode\n",
        "sub_df.to_csv('ensemble_mode.csv',index=False)\n",
        "sub_df.head()"
      ],
      "execution_count": 0,
      "outputs": [
        {
          "output_type": "execute_result",
          "data": {
            "text/html": [
              "<div>\n",
              "<style scoped>\n",
              "    .dataframe tbody tr th:only-of-type {\n",
              "        vertical-align: middle;\n",
              "    }\n",
              "\n",
              "    .dataframe tbody tr th {\n",
              "        vertical-align: top;\n",
              "    }\n",
              "\n",
              "    .dataframe thead th {\n",
              "        text-align: right;\n",
              "    }\n",
              "</style>\n",
              "<table border=\"1\" class=\"dataframe\">\n",
              "  <thead>\n",
              "    <tr style=\"text-align: right;\">\n",
              "      <th></th>\n",
              "      <th>unique_hash</th>\n",
              "      <th>sentiment</th>\n",
              "    </tr>\n",
              "  </thead>\n",
              "  <tbody>\n",
              "    <tr>\n",
              "      <th>0</th>\n",
              "      <td>9e9a8166b84114aca147bf409f6f956635034c08</td>\n",
              "      <td>2</td>\n",
              "    </tr>\n",
              "    <tr>\n",
              "      <th>1</th>\n",
              "      <td>e747e6822c867571afe7b907b51f0f2ca67b0e1a</td>\n",
              "      <td>2</td>\n",
              "    </tr>\n",
              "    <tr>\n",
              "      <th>2</th>\n",
              "      <td>50b6d851bcff4f35afe354937949e9948975adf7</td>\n",
              "      <td>2</td>\n",
              "    </tr>\n",
              "    <tr>\n",
              "      <th>3</th>\n",
              "      <td>7f82ec2176ae6ab0b5d20b5ffc767ac829f384ae</td>\n",
              "      <td>2</td>\n",
              "    </tr>\n",
              "    <tr>\n",
              "      <th>4</th>\n",
              "      <td>8b37d169dee5bdae27060949242fb54feb6a7f7f</td>\n",
              "      <td>2</td>\n",
              "    </tr>\n",
              "  </tbody>\n",
              "</table>\n",
              "</div>"
            ],
            "text/plain": [
              "                                unique_hash  sentiment\n",
              "0  9e9a8166b84114aca147bf409f6f956635034c08          2\n",
              "1  e747e6822c867571afe7b907b51f0f2ca67b0e1a          2\n",
              "2  50b6d851bcff4f35afe354937949e9948975adf7          2\n",
              "3  7f82ec2176ae6ab0b5d20b5ffc767ac829f384ae          2\n",
              "4  8b37d169dee5bdae27060949242fb54feb6a7f7f          2"
            ]
          },
          "metadata": {
            "tags": []
          },
          "execution_count": 184
        }
      ]
    },
    {
      "cell_type": "code",
      "metadata": {
        "id": "KzG7TGsz0ULU",
        "colab_type": "code",
        "outputId": "106b262e-4ccc-4d7e-f49b-8d028af0ae15",
        "colab": {
          "base_uri": "https://localhost:8080/",
          "height": 87
        }
      },
      "source": [
        "sub_df['sentiment'].value_counts()"
      ],
      "execution_count": 0,
      "outputs": [
        {
          "output_type": "execute_result",
          "data": {
            "text/plain": [
              "2    2790\n",
              "0      76\n",
              "1      58\n",
              "Name: sentiment, dtype: int64"
            ]
          },
          "metadata": {
            "tags": []
          },
          "execution_count": 185
        }
      ]
    },
    {
      "cell_type": "markdown",
      "metadata": {
        "id": "VIlEmisOt6kC",
        "colab_type": "text"
      },
      "source": [
        "### Bi-LSTM and CNN Model"
      ]
    },
    {
      "cell_type": "code",
      "metadata": {
        "id": "Wed3XY1_wCXi",
        "colab_type": "code",
        "colab": {}
      },
      "source": [
        "import numpy as np\n",
        "import pandas as pd\n",
        "import matplotlib.pyplot as plt\n",
        "import seaborn as sns\n",
        "%matplotlib inline\n",
        "\n",
        "from nltk.tokenize import TweetTokenizer\n",
        "import datetime\n",
        "import lightgbm as lgb\n",
        "from scipy import stats\n",
        "from scipy.sparse import hstack, csr_matrix\n",
        "from sklearn.model_selection import train_test_split, cross_val_score\n",
        "from wordcloud import WordCloud\n",
        "from collections import Counter\n",
        "from nltk.corpus import stopwords\n",
        "from nltk.util import ngrams\n",
        "from sklearn.feature_extraction.text import TfidfVectorizer\n",
        "from sklearn.preprocessing import StandardScaler\n",
        "from sklearn.linear_model import LogisticRegression\n",
        "from sklearn.svm import LinearSVC\n",
        "from sklearn.multiclass import OneVsRestClassifier\n",
        "pd.set_option('max_colwidth',400)"
      ],
      "execution_count": 0,
      "outputs": []
    },
    {
      "cell_type": "code",
      "metadata": {
        "id": "mCdSA2n14lSX",
        "colab_type": "code",
        "colab": {}
      },
      "source": [
        "from keras.preprocessing.text import Tokenizer\n",
        "from keras.preprocessing.sequence import pad_sequences\n",
        "from keras.layers import Dense, Input, LSTM, Embedding, Dropout, Activation, Conv1D, GRU, CuDNNGRU, CuDNNLSTM, BatchNormalization\n",
        "from keras.layers import Bidirectional, GlobalMaxPool1D, MaxPooling1D, Add, Flatten\n",
        "from keras.layers import GlobalAveragePooling1D, GlobalMaxPooling1D, concatenate, SpatialDropout1D\n",
        "from keras.models import Model, load_model\n",
        "from keras import initializers, regularizers, constraints, optimizers, layers, callbacks\n",
        "from keras import backend as K\n",
        "from keras.engine import InputSpec, Layer\n",
        "from keras.optimizers import Adam\n",
        "\n",
        "from keras.callbacks import ModelCheckpoint, TensorBoard, Callback, EarlyStopping"
      ],
      "execution_count": 0,
      "outputs": []
    },
    {
      "cell_type": "code",
      "metadata": {
        "id": "D3N-r7mq1TPi",
        "colab_type": "code",
        "colab": {}
      },
      "source": [
        "import tensorflow as tf\n",
        "import keras.backend as K\n",
        "\n",
        "def f1(y_true, y_pred):\n",
        "    y_pred = K.round(y_pred)\n",
        "    tp = K.sum(K.cast(y_true*y_pred, 'float'), axis=0)\n",
        "    # tn = K.sum(K.cast((1-y_true)*(1-y_pred), 'float'), axis=0)\n",
        "    fp = K.sum(K.cast((1-y_true)*y_pred, 'float'), axis=0)\n",
        "    fn = K.sum(K.cast(y_true*(1-y_pred), 'float'), axis=0)\n",
        "\n",
        "    p = tp / (tp + fp + K.epsilon())\n",
        "    r = tp / (tp + fn + K.epsilon())\n",
        "\n",
        "    f1 = 2*p*r / (p+r+K.epsilon())\n",
        "    f1 = tf.where(tf.is_nan(f1), tf.zeros_like(f1), f1)\n",
        "    return K.mean(f1)"
      ],
      "execution_count": 0,
      "outputs": []
    },
    {
      "cell_type": "code",
      "metadata": {
        "id": "Le_QjgweuHmf",
        "colab_type": "code",
        "colab": {}
      },
      "source": [
        "tokenizer = TweetTokenizer()\n",
        "vectorizer = TfidfVectorizer(ngram_range=(1, 2), tokenizer=tokenizer.tokenize)\n",
        "full_text = list(train_df['text'].values) + list(test_df['text'].values)\n",
        "vectorizer.fit(full_text)\n",
        "train_vectorized = vectorizer.transform(train_df['text'])\n",
        "test_vectorized = vectorizer.transform(test_df['text'])"
      ],
      "execution_count": 0,
      "outputs": []
    },
    {
      "cell_type": "code",
      "metadata": {
        "id": "eTRo0Qq_vaLl",
        "colab_type": "code",
        "colab": {}
      },
      "source": [
        "y = train_df['sentiment']"
      ],
      "execution_count": 0,
      "outputs": []
    },
    {
      "cell_type": "code",
      "metadata": {
        "id": "PoOdWEtsv6L6",
        "colab_type": "code",
        "colab": {}
      },
      "source": [
        "logreg = LogisticRegression()\n",
        "ovr = OneVsRestClassifier(logreg)"
      ],
      "execution_count": 0,
      "outputs": []
    },
    {
      "cell_type": "code",
      "metadata": {
        "id": "FHkzuewYv70_",
        "colab_type": "code",
        "colab": {}
      },
      "source": [
        "tk = Tokenizer(lower = True, filters='')\n",
        "tk.fit_on_texts(full_text)"
      ],
      "execution_count": 0,
      "outputs": []
    },
    {
      "cell_type": "code",
      "metadata": {
        "id": "8Pwu_uT6wzM7",
        "colab_type": "code",
        "colab": {}
      },
      "source": [
        "train_tokenized = tk.texts_to_sequences(train_df['text'])\n",
        "test_tokenized = tk.texts_to_sequences(test_df['text'])"
      ],
      "execution_count": 0,
      "outputs": []
    },
    {
      "cell_type": "code",
      "metadata": {
        "id": "cUBYPvFFw3xS",
        "colab_type": "code",
        "colab": {}
      },
      "source": [
        "max_len = 50\n",
        "X_train = pad_sequences(train_tokenized, maxlen = max_len)\n",
        "X_test = pad_sequences(test_tokenized, maxlen = max_len)"
      ],
      "execution_count": 0,
      "outputs": []
    },
    {
      "cell_type": "code",
      "metadata": {
        "id": "NHsj3DHOychr",
        "colab_type": "code",
        "outputId": "9a78bff3-2119-4905-a71c-36eee6d9459e",
        "colab": {
          "base_uri": "https://localhost:8080/",
          "height": 52
        }
      },
      "source": [
        "!unzip '/content/drive/My Drive/AV_data/Innoplexus_25thJuly_2019/crawl-300d-2M.vec.zip'"
      ],
      "execution_count": 0,
      "outputs": [
        {
          "output_type": "stream",
          "text": [
            "Archive:  /content/drive/My Drive/AV_data/Innoplexus_25thJuly_2019/crawl-300d-2M.vec.zip\n",
            "replace crawl-300d-2M.vec? [y]es, [n]o, [A]ll, [N]one, [r]ename: N\n"
          ],
          "name": "stdout"
        }
      ]
    },
    {
      "cell_type": "code",
      "metadata": {
        "id": "aTcaMj9qw-Mt",
        "colab_type": "code",
        "colab": {}
      },
      "source": [
        "# embedding_path = \"../input/fasttext-crawl-300d-2m/crawl-300d-2M.vec\"\n",
        "embedding_path = r'/content/crawl-300d-2M.vec'\n"
      ],
      "execution_count": 0,
      "outputs": []
    },
    {
      "cell_type": "code",
      "metadata": {
        "id": "ukAqAXb-xQQH",
        "colab_type": "code",
        "colab": {}
      },
      "source": [
        "embed_size = 300\n",
        "max_features = 20000"
      ],
      "execution_count": 0,
      "outputs": []
    },
    {
      "cell_type": "code",
      "metadata": {
        "id": "okdc4sdDxXPd",
        "colab_type": "code",
        "colab": {}
      },
      "source": [
        "def get_coefs(word,*arr): return word, np.asarray(arr, dtype='float32')\n",
        "embedding_index = dict(get_coefs(*o.strip().split(\" \")) for o in open(embedding_path))\n",
        "\n",
        "word_index = tk.word_index\n",
        "nb_words = min(max_features, len(word_index))\n",
        "embedding_matrix = np.zeros((nb_words + 1, embed_size))\n",
        "for word, i in word_index.items():\n",
        "    if i >= max_features: continue\n",
        "    embedding_vector = embedding_index.get(word)\n",
        "    if embedding_vector is not None: embedding_matrix[i] = embedding_vector"
      ],
      "execution_count": 0,
      "outputs": []
    },
    {
      "cell_type": "code",
      "metadata": {
        "id": "9CGAdKiUxZqf",
        "colab_type": "code",
        "outputId": "ee230baa-6a97-4a74-d410-16444ff75f12",
        "colab": {
          "base_uri": "https://localhost:8080/",
          "height": 107
        }
      },
      "source": [
        "from sklearn.preprocessing import OneHotEncoder\n",
        "ohe = OneHotEncoder(sparse=False)\n",
        "y_ohe = ohe.fit_transform(y.values.reshape(-1, 1))"
      ],
      "execution_count": 0,
      "outputs": [
        {
          "output_type": "stream",
          "text": [
            "/usr/local/lib/python3.6/dist-packages/sklearn/preprocessing/_encoders.py:415: FutureWarning: The handling of integer data will change in version 0.22. Currently, the categories are determined based on the range [0, max(values)], while in the future they will be determined based on the unique values.\n",
            "If you want the future behaviour and silence this warning, you can specify \"categories='auto'\".\n",
            "In case you used a LabelEncoder before this OneHotEncoder to convert the categories to integers, then you can now use the OneHotEncoder directly.\n",
            "  warnings.warn(msg, FutureWarning)\n"
          ],
          "name": "stderr"
        }
      ]
    },
    {
      "cell_type": "code",
      "metadata": {
        "id": "Io6G0EvS0oHg",
        "colab_type": "code",
        "colab": {}
      },
      "source": [
        "file_path = \"best_model.hdf5\"\n",
        "check_point = ModelCheckpoint(file_path, monitor = \"val_loss\", verbose = 1,\n",
        "                              save_best_only = True, mode = \"min\")\n",
        "early_stop = EarlyStopping(monitor = \"val_loss\", mode = \"min\", patience = 3)\n",
        "\n",
        "def build_model(lr = 0.0, lr_d = 0.0, units = 0, dr = 0.0):\n",
        "    inp = Input(shape = (max_len,))\n",
        "    x = Embedding(20001, embed_size, weights = [embedding_matrix], trainable = False)(inp)\n",
        "    x1 = SpatialDropout1D(dr)(x)\n",
        "\n",
        "    x_gru = Bidirectional(CuDNNGRU(units, return_sequences = True))(x1)\n",
        "    x1 = Conv1D(32, kernel_size=3, padding='valid', kernel_initializer='he_uniform')(x_gru)\n",
        "    avg_pool1_gru = GlobalAveragePooling1D()(x1)\n",
        "    max_pool1_gru = GlobalMaxPooling1D()(x1)\n",
        "    \n",
        "    x3 = Conv1D(32, kernel_size=2, padding='valid', kernel_initializer='he_uniform')(x_gru)\n",
        "    avg_pool3_gru = GlobalAveragePooling1D()(x3)\n",
        "    max_pool3_gru = GlobalMaxPooling1D()(x3)\n",
        "    \n",
        "    x_lstm = Bidirectional(CuDNNLSTM(units, return_sequences = True))(x1)\n",
        "    x1 = Conv1D(32, kernel_size=3, padding='valid', kernel_initializer='he_uniform')(x_lstm)\n",
        "    avg_pool1_lstm = GlobalAveragePooling1D()(x1)\n",
        "    max_pool1_lstm = GlobalMaxPooling1D()(x1)\n",
        "    \n",
        "    x3 = Conv1D(32, kernel_size=2, padding='valid', kernel_initializer='he_uniform')(x_lstm)\n",
        "    avg_pool3_lstm = GlobalAveragePooling1D()(x3)\n",
        "    max_pool3_lstm = GlobalMaxPooling1D()(x3)\n",
        "    \n",
        "    \n",
        "    x = concatenate([avg_pool1_gru, max_pool1_gru, avg_pool3_gru, max_pool3_gru,\n",
        "                    avg_pool1_lstm, max_pool1_lstm, avg_pool3_lstm, max_pool3_lstm])\n",
        "    x = BatchNormalization()(x)\n",
        "    x = Dropout(0.2)(Dense(128,activation='relu') (x))\n",
        "    x = BatchNormalization()(x)\n",
        "    x = Dropout(0.2)(Dense(100,activation='relu') (x))\n",
        "    x = Dense(3, activation = \"softmax\")(x)\n",
        "    model = Model(inputs = inp, outputs = x)\n",
        "    model.compile(loss = \"categorical_crossentropy\", optimizer = Adam(lr = lr, decay = lr_d),\n",
        "                  metrics = [f1])\n",
        "    history = model.fit(X_train, y_ohe, batch_size = 128, epochs = 15, validation_split=0.1, \n",
        "                        verbose = 1, callbacks = [check_point, early_stop])\n",
        "    model = load_model(file_path, custom_objects= {'f1': f1})\n",
        "    return model"
      ],
      "execution_count": 0,
      "outputs": []
    },
    {
      "cell_type": "code",
      "metadata": {
        "id": "5rkxupua1ou_",
        "colab_type": "code",
        "outputId": "875f5b2a-6d7b-4b2c-ea4d-27246a365195",
        "colab": {
          "base_uri": "https://localhost:8080/",
          "height": 1000
        }
      },
      "source": [
        "model = build_model(lr = 1e-4, lr_d = 0, units = 128, dr = 0.5)"
      ],
      "execution_count": 0,
      "outputs": [
        {
          "output_type": "stream",
          "text": [
            "Train on 4751 samples, validate on 528 samples\n",
            "Epoch 1/15\n",
            "4751/4751 [==============================] - 10s 2ms/step - loss: 1.1243 - f1: 0.2529 - val_loss: 0.9284 - val_f1: 0.1930\n",
            "\n",
            "Epoch 00001: val_loss improved from inf to 0.92837, saving model to best_model.hdf5\n",
            "Epoch 2/15\n",
            "4751/4751 [==============================] - 4s 762us/step - loss: 0.9476 - f1: 0.3012 - val_loss: 0.8782 - val_f1: 0.2180\n",
            "\n",
            "Epoch 00002: val_loss improved from 0.92837 to 0.87824, saving model to best_model.hdf5\n",
            "Epoch 3/15\n",
            "4751/4751 [==============================] - 3s 728us/step - loss: 0.9042 - f1: 0.2994 - val_loss: 0.8229 - val_f1: 0.2443\n",
            "\n",
            "Epoch 00003: val_loss improved from 0.87824 to 0.82293, saving model to best_model.hdf5\n",
            "Epoch 4/15\n",
            "4751/4751 [==============================] - 3s 726us/step - loss: 0.8878 - f1: 0.2966 - val_loss: 0.8323 - val_f1: 0.2462\n",
            "\n",
            "Epoch 00004: val_loss did not improve from 0.82293\n",
            "Epoch 5/15\n",
            "4751/4751 [==============================] - 3s 717us/step - loss: 0.8848 - f1: 0.2882 - val_loss: 0.7995 - val_f1: 0.2538\n",
            "\n",
            "Epoch 00005: val_loss improved from 0.82293 to 0.79948, saving model to best_model.hdf5\n",
            "Epoch 6/15\n",
            "4751/4751 [==============================] - 3s 720us/step - loss: 0.8663 - f1: 0.2853 - val_loss: 0.7775 - val_f1: 0.2654\n",
            "\n",
            "Epoch 00006: val_loss improved from 0.79948 to 0.77750, saving model to best_model.hdf5\n",
            "Epoch 7/15\n",
            "4751/4751 [==============================] - 3s 707us/step - loss: 0.8728 - f1: 0.2797 - val_loss: 0.7729 - val_f1: 0.2707\n",
            "\n",
            "Epoch 00007: val_loss improved from 0.77750 to 0.77291, saving model to best_model.hdf5\n",
            "Epoch 8/15\n",
            "4751/4751 [==============================] - 3s 707us/step - loss: 0.8573 - f1: 0.2993 - val_loss: 0.7769 - val_f1: 0.2673\n",
            "\n",
            "Epoch 00008: val_loss did not improve from 0.77291\n",
            "Epoch 9/15\n",
            "4751/4751 [==============================] - 3s 702us/step - loss: 0.8460 - f1: 0.2945 - val_loss: 0.7837 - val_f1: 0.2650\n",
            "\n",
            "Epoch 00009: val_loss did not improve from 0.77291\n",
            "Epoch 10/15\n",
            "4751/4751 [==============================] - 3s 703us/step - loss: 0.8241 - f1: 0.2948 - val_loss: 0.7663 - val_f1: 0.2701\n",
            "\n",
            "Epoch 00010: val_loss improved from 0.77291 to 0.76629, saving model to best_model.hdf5\n",
            "Epoch 11/15\n",
            "4751/4751 [==============================] - 3s 707us/step - loss: 0.8312 - f1: 0.2890 - val_loss: 0.7582 - val_f1: 0.2708\n",
            "\n",
            "Epoch 00011: val_loss improved from 0.76629 to 0.75821, saving model to best_model.hdf5\n",
            "Epoch 12/15\n",
            "4751/4751 [==============================] - 3s 699us/step - loss: 0.8305 - f1: 0.2976 - val_loss: 0.7566 - val_f1: 0.2708\n",
            "\n",
            "Epoch 00012: val_loss improved from 0.75821 to 0.75656, saving model to best_model.hdf5\n",
            "Epoch 13/15\n",
            "4751/4751 [==============================] - 3s 706us/step - loss: 0.8296 - f1: 0.2886 - val_loss: 0.7491 - val_f1: 0.2748\n",
            "\n",
            "Epoch 00013: val_loss improved from 0.75656 to 0.74907, saving model to best_model.hdf5\n",
            "Epoch 14/15\n",
            "4751/4751 [==============================] - 3s 706us/step - loss: 0.8315 - f1: 0.2906 - val_loss: 0.7527 - val_f1: 0.2726\n",
            "\n",
            "Epoch 00014: val_loss did not improve from 0.74907\n",
            "Epoch 15/15\n",
            "4751/4751 [==============================] - 3s 706us/step - loss: 0.8090 - f1: 0.2939 - val_loss: 0.7524 - val_f1: 0.2730\n",
            "\n",
            "Epoch 00015: val_loss did not improve from 0.74907\n"
          ],
          "name": "stdout"
        }
      ]
    },
    {
      "cell_type": "code",
      "metadata": {
        "id": "uPOZnCvh1u1z",
        "colab_type": "code",
        "colab": {}
      },
      "source": [
        "pred = model.predict(X_test, batch_size = 64)"
      ],
      "execution_count": 0,
      "outputs": []
    },
    {
      "cell_type": "code",
      "metadata": {
        "id": "anXSMc1N4QEg",
        "colab_type": "code",
        "outputId": "5640f5a5-61a0-4287-f005-f992784ef3d1",
        "colab": {
          "base_uri": "https://localhost:8080/",
          "height": 201
        }
      },
      "source": [
        "predictions = np.round(np.argmax(pred, axis=1)).astype(int)\n",
        "sub_df['sentiment'] = predictions\n",
        "sub_df.to_csv(\"Bi_LSTM_CNN_v1.csv\", index=False)"
      ],
      "execution_count": 0,
      "outputs": [
        {
          "output_type": "error",
          "ename": "NameError",
          "evalue": "ignored",
          "traceback": [
            "\u001b[0;31m---------------------------------------------------------------------------\u001b[0m",
            "\u001b[0;31mNameError\u001b[0m                                 Traceback (most recent call last)",
            "\u001b[0;32m<ipython-input-88-1405d491a729>\u001b[0m in \u001b[0;36m<module>\u001b[0;34m()\u001b[0m\n\u001b[0;32m----> 1\u001b[0;31m \u001b[0mpredictions\u001b[0m \u001b[0;34m=\u001b[0m \u001b[0mnp\u001b[0m\u001b[0;34m.\u001b[0m\u001b[0mround\u001b[0m\u001b[0;34m(\u001b[0m\u001b[0mnp\u001b[0m\u001b[0;34m.\u001b[0m\u001b[0margmax\u001b[0m\u001b[0;34m(\u001b[0m\u001b[0mpred\u001b[0m\u001b[0;34m,\u001b[0m \u001b[0maxis\u001b[0m\u001b[0;34m=\u001b[0m\u001b[0;36m1\u001b[0m\u001b[0;34m)\u001b[0m\u001b[0;34m)\u001b[0m\u001b[0;34m.\u001b[0m\u001b[0mastype\u001b[0m\u001b[0;34m(\u001b[0m\u001b[0mint\u001b[0m\u001b[0;34m)\u001b[0m\u001b[0;34m\u001b[0m\u001b[0;34m\u001b[0m\u001b[0m\n\u001b[0m\u001b[1;32m      2\u001b[0m \u001b[0msub_df\u001b[0m\u001b[0;34m[\u001b[0m\u001b[0;34m'sentiment'\u001b[0m\u001b[0;34m]\u001b[0m \u001b[0;34m=\u001b[0m \u001b[0mpredictions\u001b[0m\u001b[0;34m\u001b[0m\u001b[0;34m\u001b[0m\u001b[0m\n\u001b[1;32m      3\u001b[0m \u001b[0msub_df\u001b[0m\u001b[0;34m.\u001b[0m\u001b[0mto_csv\u001b[0m\u001b[0;34m(\u001b[0m\u001b[0;34m\"Bi_LSTM_CNN_v1.csv\"\u001b[0m\u001b[0;34m,\u001b[0m \u001b[0mindex\u001b[0m\u001b[0;34m=\u001b[0m\u001b[0;32mFalse\u001b[0m\u001b[0;34m)\u001b[0m\u001b[0;34m\u001b[0m\u001b[0;34m\u001b[0m\u001b[0m\n",
            "\u001b[0;31mNameError\u001b[0m: name 'pred' is not defined"
          ]
        }
      ]
    },
    {
      "cell_type": "markdown",
      "metadata": {
        "id": "QZfSLKoyoD5f",
        "colab_type": "text"
      },
      "source": [
        "### Using FAST AI"
      ]
    },
    {
      "cell_type": "code",
      "metadata": {
        "id": "hBbeoymutKB6",
        "colab_type": "code",
        "outputId": "fdb72e79-fe19-4d50-9b6e-775aa73197f5",
        "colab": {
          "base_uri": "https://localhost:8080/",
          "height": 835
        }
      },
      "source": [
        "!pip install torch_nightly -f https://download.pytorch.org/whl/nightly/cu92/torch_nightly.html\n",
        "!pip install fastai"
      ],
      "execution_count": 0,
      "outputs": [
        {
          "output_type": "stream",
          "text": [
            "Looking in links: https://download.pytorch.org/whl/nightly/cu92/torch_nightly.html\n",
            "Collecting torch_nightly\n",
            "\u001b[?25l  Downloading https://download.pytorch.org/whl/nightly/cu92/torch_nightly-1.2.0.dev20190726%2Bcu92-cp36-cp36m-linux_x86_64.whl (656.8MB)\n",
            "\u001b[K     |████████████████████████████████| 656.8MB 24kB/s \n",
            "\u001b[?25hInstalling collected packages: torch-nightly\n",
            "Successfully installed torch-nightly-1.2.0.dev20190726+cu92\n",
            "Requirement already satisfied: fastai in /usr/local/lib/python3.6/dist-packages (1.0.55)\n",
            "Requirement already satisfied: nvidia-ml-py3 in /usr/local/lib/python3.6/dist-packages (from fastai) (7.352.0)\n",
            "Requirement already satisfied: spacy>=2.0.18 in /usr/local/lib/python3.6/dist-packages (from fastai) (2.1.6)\n",
            "Requirement already satisfied: pandas in /usr/local/lib/python3.6/dist-packages (from fastai) (0.24.2)\n",
            "Requirement already satisfied: scipy in /usr/local/lib/python3.6/dist-packages (from fastai) (1.3.0)\n",
            "Requirement already satisfied: numpy>=1.15 in /usr/local/lib/python3.6/dist-packages (from fastai) (1.16.4)\n",
            "Requirement already satisfied: pyyaml in /usr/local/lib/python3.6/dist-packages (from fastai) (3.13)\n",
            "Requirement already satisfied: bottleneck in /usr/local/lib/python3.6/dist-packages (from fastai) (1.2.1)\n",
            "Requirement already satisfied: numexpr in /usr/local/lib/python3.6/dist-packages (from fastai) (2.6.9)\n",
            "Requirement already satisfied: dataclasses; python_version < \"3.7\" in /usr/local/lib/python3.6/dist-packages (from fastai) (0.6)\n",
            "Requirement already satisfied: matplotlib in /usr/local/lib/python3.6/dist-packages (from fastai) (3.0.3)\n",
            "Requirement already satisfied: beautifulsoup4 in /usr/local/lib/python3.6/dist-packages (from fastai) (4.6.3)\n",
            "Requirement already satisfied: requests in /usr/local/lib/python3.6/dist-packages (from fastai) (2.21.0)\n",
            "Requirement already satisfied: fastprogress>=0.1.19 in /usr/local/lib/python3.6/dist-packages (from fastai) (0.1.21)\n",
            "Requirement already satisfied: torch>=1.0.0 in /usr/local/lib/python3.6/dist-packages (from fastai) (1.1.0)\n",
            "Requirement already satisfied: torchvision in /usr/local/lib/python3.6/dist-packages (from fastai) (0.3.0)\n",
            "Requirement already satisfied: packaging in /usr/local/lib/python3.6/dist-packages (from fastai) (19.0)\n",
            "Requirement already satisfied: Pillow in /usr/local/lib/python3.6/dist-packages (from fastai) (4.3.0)\n",
            "Requirement already satisfied: typing; python_version < \"3.7\" in /usr/local/lib/python3.6/dist-packages (from fastai) (3.7.4)\n",
            "Requirement already satisfied: preshed<2.1.0,>=2.0.1 in /usr/local/lib/python3.6/dist-packages (from spacy>=2.0.18->fastai) (2.0.1)\n",
            "Requirement already satisfied: wasabi<1.1.0,>=0.2.0 in /usr/local/lib/python3.6/dist-packages (from spacy>=2.0.18->fastai) (0.2.2)\n",
            "Requirement already satisfied: thinc<7.1.0,>=7.0.8 in /usr/local/lib/python3.6/dist-packages (from spacy>=2.0.18->fastai) (7.0.8)\n",
            "Requirement already satisfied: plac<1.0.0,>=0.9.6 in /usr/local/lib/python3.6/dist-packages (from spacy>=2.0.18->fastai) (0.9.6)\n",
            "Requirement already satisfied: murmurhash<1.1.0,>=0.28.0 in /usr/local/lib/python3.6/dist-packages (from spacy>=2.0.18->fastai) (1.0.2)\n",
            "Requirement already satisfied: blis<0.3.0,>=0.2.2 in /usr/local/lib/python3.6/dist-packages (from spacy>=2.0.18->fastai) (0.2.4)\n",
            "Requirement already satisfied: cymem<2.1.0,>=2.0.2 in /usr/local/lib/python3.6/dist-packages (from spacy>=2.0.18->fastai) (2.0.2)\n",
            "Requirement already satisfied: srsly<1.1.0,>=0.0.6 in /usr/local/lib/python3.6/dist-packages (from spacy>=2.0.18->fastai) (0.0.7)\n",
            "Requirement already satisfied: pytz>=2011k in /usr/local/lib/python3.6/dist-packages (from pandas->fastai) (2018.9)\n",
            "Requirement already satisfied: python-dateutil>=2.5.0 in /usr/local/lib/python3.6/dist-packages (from pandas->fastai) (2.5.3)\n",
            "Requirement already satisfied: kiwisolver>=1.0.1 in /usr/local/lib/python3.6/dist-packages (from matplotlib->fastai) (1.1.0)\n",
            "Requirement already satisfied: cycler>=0.10 in /usr/local/lib/python3.6/dist-packages (from matplotlib->fastai) (0.10.0)\n",
            "Requirement already satisfied: pyparsing!=2.0.4,!=2.1.2,!=2.1.6,>=2.0.1 in /usr/local/lib/python3.6/dist-packages (from matplotlib->fastai) (2.4.0)\n",
            "Requirement already satisfied: urllib3<1.25,>=1.21.1 in /usr/local/lib/python3.6/dist-packages (from requests->fastai) (1.24.3)\n",
            "Requirement already satisfied: certifi>=2017.4.17 in /usr/local/lib/python3.6/dist-packages (from requests->fastai) (2019.6.16)\n",
            "Requirement already satisfied: idna<2.9,>=2.5 in /usr/local/lib/python3.6/dist-packages (from requests->fastai) (2.8)\n",
            "Requirement already satisfied: chardet<3.1.0,>=3.0.2 in /usr/local/lib/python3.6/dist-packages (from requests->fastai) (3.0.4)\n",
            "Requirement already satisfied: six in /usr/local/lib/python3.6/dist-packages (from torchvision->fastai) (1.12.0)\n",
            "Requirement already satisfied: olefile in /usr/local/lib/python3.6/dist-packages (from Pillow->fastai) (0.46)\n",
            "Requirement already satisfied: tqdm<5.0.0,>=4.10.0 in /usr/local/lib/python3.6/dist-packages (from thinc<7.1.0,>=7.0.8->spacy>=2.0.18->fastai) (4.28.1)\n",
            "Requirement already satisfied: setuptools in /usr/local/lib/python3.6/dist-packages (from kiwisolver>=1.0.1->matplotlib->fastai) (41.0.1)\n"
          ],
          "name": "stdout"
        }
      ]
    },
    {
      "cell_type": "code",
      "metadata": {
        "id": "6PVtVRC4iEGx",
        "colab_type": "code",
        "colab": {}
      },
      "source": [
        "from fastai.text import *\n",
        "# import libraries\n",
        "import fastai\n",
        "from fastai import *\n",
        "from fastai.text import * \n",
        "import pandas as pd\n",
        "import numpy as np\n",
        "from functools import partial\n",
        "import io\n",
        "import os\n",
        "from fastai.callbacks import *\n",
        "# import CSVLogger from callbacks.csv_logger"
      ],
      "execution_count": 0,
      "outputs": []
    },
    {
      "cell_type": "code",
      "metadata": {
        "id": "jtvLwkCZoGbW",
        "colab_type": "code",
        "outputId": "f048e037-8689-4cd2-c89c-fddf013a9815",
        "colab": {
          "base_uri": "https://localhost:8080/",
          "height": 156
        }
      },
      "source": [
        "path = Path('/content/drive/My Drive/AV_data/Innoplexus_25thJuly_2019')\n",
        "path.ls()"
      ],
      "execution_count": 0,
      "outputs": [
        {
          "output_type": "execute_result",
          "data": {
            "text/plain": [
              "[PosixPath('/content/drive/My Drive/AV_data/Innoplexus_25thJuly_2019/Problem Statement.docx'),\n",
              " PosixPath('/content/drive/My Drive/AV_data/Innoplexus_25thJuly_2019/~$oblem Statement.docx'),\n",
              " PosixPath('/content/drive/My Drive/AV_data/Innoplexus_25thJuly_2019/sample_submission_i5xnIZD.csv'),\n",
              " PosixPath('/content/drive/My Drive/AV_data/Innoplexus_25thJuly_2019/test_tOlRoBf.csv'),\n",
              " PosixPath('/content/drive/My Drive/AV_data/Innoplexus_25thJuly_2019/train_F3WbcTw.csv'),\n",
              " PosixPath('/content/drive/My Drive/AV_data/Innoplexus_25thJuly_2019/glove.twitter.27B.25d.txt.zip'),\n",
              " PosixPath('/content/drive/My Drive/AV_data/Innoplexus_25thJuly_2019/crawl-300d-2M.vec.zip'),\n",
              " PosixPath('/content/drive/My Drive/AV_data/Innoplexus_25thJuly_2019/models')]"
            ]
          },
          "metadata": {
            "tags": []
          },
          "execution_count": 36
        }
      ]
    },
    {
      "cell_type": "code",
      "metadata": {
        "id": "pKk5FmY8oXHx",
        "colab_type": "code",
        "outputId": "e709dba0-c0e9-426b-c9c1-5969f663ed14",
        "colab": {
          "base_uri": "https://localhost:8080/",
          "height": 254
        }
      },
      "source": [
        "train_df = pd.read_csv(path/'train_F3WbcTw.csv')\n",
        "train_df.head()"
      ],
      "execution_count": 0,
      "outputs": [
        {
          "output_type": "execute_result",
          "data": {
            "text/html": [
              "<div>\n",
              "<style scoped>\n",
              "    .dataframe tbody tr th:only-of-type {\n",
              "        vertical-align: middle;\n",
              "    }\n",
              "\n",
              "    .dataframe tbody tr th {\n",
              "        vertical-align: top;\n",
              "    }\n",
              "\n",
              "    .dataframe thead th {\n",
              "        text-align: right;\n",
              "    }\n",
              "</style>\n",
              "<table border=\"1\" class=\"dataframe\">\n",
              "  <thead>\n",
              "    <tr style=\"text-align: right;\">\n",
              "      <th></th>\n",
              "      <th>unique_hash</th>\n",
              "      <th>text</th>\n",
              "      <th>drug</th>\n",
              "      <th>sentiment</th>\n",
              "    </tr>\n",
              "  </thead>\n",
              "  <tbody>\n",
              "    <tr>\n",
              "      <th>0</th>\n",
              "      <td>2e180be4c9214c1f5ab51fd8cc32bc80c9f612e0</td>\n",
              "      <td>Autoimmune diseases tend to come in clusters. ...</td>\n",
              "      <td>gilenya</td>\n",
              "      <td>2</td>\n",
              "    </tr>\n",
              "    <tr>\n",
              "      <th>1</th>\n",
              "      <td>9eba8f80e7e20f3a2f48685530748fbfa95943e4</td>\n",
              "      <td>I can completely understand why you’d want to ...</td>\n",
              "      <td>gilenya</td>\n",
              "      <td>2</td>\n",
              "    </tr>\n",
              "    <tr>\n",
              "      <th>2</th>\n",
              "      <td>fe809672251f6bd0d986e00380f48d047c7e7b76</td>\n",
              "      <td>Interesting that it only targets S1P-1/5 recep...</td>\n",
              "      <td>fingolimod</td>\n",
              "      <td>2</td>\n",
              "    </tr>\n",
              "    <tr>\n",
              "      <th>3</th>\n",
              "      <td>bd22104dfa9ec80db4099523e03fae7a52735eb6</td>\n",
              "      <td>Very interesting, grand merci. Now I wonder wh...</td>\n",
              "      <td>ocrevus</td>\n",
              "      <td>2</td>\n",
              "    </tr>\n",
              "    <tr>\n",
              "      <th>4</th>\n",
              "      <td>b227688381f9b25e5b65109dd00f7f895e838249</td>\n",
              "      <td>Hi everybody, My latest MRI results for Brain ...</td>\n",
              "      <td>gilenya</td>\n",
              "      <td>1</td>\n",
              "    </tr>\n",
              "  </tbody>\n",
              "</table>\n",
              "</div>"
            ],
            "text/plain": [
              "                                unique_hash  ... sentiment\n",
              "0  2e180be4c9214c1f5ab51fd8cc32bc80c9f612e0  ...         2\n",
              "1  9eba8f80e7e20f3a2f48685530748fbfa95943e4  ...         2\n",
              "2  fe809672251f6bd0d986e00380f48d047c7e7b76  ...         2\n",
              "3  bd22104dfa9ec80db4099523e03fae7a52735eb6  ...         2\n",
              "4  b227688381f9b25e5b65109dd00f7f895e838249  ...         1\n",
              "\n",
              "[5 rows x 4 columns]"
            ]
          },
          "metadata": {
            "tags": []
          },
          "execution_count": 72
        }
      ]
    },
    {
      "cell_type": "code",
      "metadata": {
        "id": "XFEnwFGToiWG",
        "colab_type": "code",
        "outputId": "2005ba66-2207-4287-ed4f-2c3bea4feab3",
        "colab": {
          "base_uri": "https://localhost:8080/",
          "height": 35
        }
      },
      "source": [
        "train_df.shape"
      ],
      "execution_count": 0,
      "outputs": [
        {
          "output_type": "execute_result",
          "data": {
            "text/plain": [
              "(5279, 4)"
            ]
          },
          "metadata": {
            "tags": []
          },
          "execution_count": 73
        }
      ]
    },
    {
      "cell_type": "code",
      "metadata": {
        "id": "WjhaKuARf7LG",
        "colab_type": "code",
        "outputId": "91ca1249-4784-417f-a9ab-e236618239a6",
        "colab": {
          "base_uri": "https://localhost:8080/",
          "height": 202
        }
      },
      "source": [
        "test_df = pd.read_csv(path/'test_tOlRoBf.csv')\n",
        "test_df.head()"
      ],
      "execution_count": 0,
      "outputs": [
        {
          "output_type": "execute_result",
          "data": {
            "text/html": [
              "<div>\n",
              "<style scoped>\n",
              "    .dataframe tbody tr th:only-of-type {\n",
              "        vertical-align: middle;\n",
              "    }\n",
              "\n",
              "    .dataframe tbody tr th {\n",
              "        vertical-align: top;\n",
              "    }\n",
              "\n",
              "    .dataframe thead th {\n",
              "        text-align: right;\n",
              "    }\n",
              "</style>\n",
              "<table border=\"1\" class=\"dataframe\">\n",
              "  <thead>\n",
              "    <tr style=\"text-align: right;\">\n",
              "      <th></th>\n",
              "      <th>unique_hash</th>\n",
              "      <th>text</th>\n",
              "      <th>drug</th>\n",
              "    </tr>\n",
              "  </thead>\n",
              "  <tbody>\n",
              "    <tr>\n",
              "      <th>0</th>\n",
              "      <td>9e9a8166b84114aca147bf409f6f956635034c08</td>\n",
              "      <td>256 (previously stable on natalizumab), with 5...</td>\n",
              "      <td>fingolimod</td>\n",
              "    </tr>\n",
              "    <tr>\n",
              "      <th>1</th>\n",
              "      <td>e747e6822c867571afe7b907b51f0f2ca67b0e1a</td>\n",
              "      <td>On fingolimod and have been since December 201...</td>\n",
              "      <td>fingolimod</td>\n",
              "    </tr>\n",
              "    <tr>\n",
              "      <th>2</th>\n",
              "      <td>50b6d851bcff4f35afe354937949e9948975adf7</td>\n",
              "      <td>Apparently it's shingles! :-/ I do have a few ...</td>\n",
              "      <td>humira</td>\n",
              "    </tr>\n",
              "    <tr>\n",
              "      <th>3</th>\n",
              "      <td>7f82ec2176ae6ab0b5d20b5ffc767ac829f384ae</td>\n",
              "      <td>If the Docetaxel doing once a week x3 weeks th...</td>\n",
              "      <td>tagrisso</td>\n",
              "    </tr>\n",
              "    <tr>\n",
              "      <th>4</th>\n",
              "      <td>8b37d169dee5bdae27060949242fb54feb6a7f7f</td>\n",
              "      <td>CC, Stelara worked in a matter of days for me....</td>\n",
              "      <td>stelara</td>\n",
              "    </tr>\n",
              "  </tbody>\n",
              "</table>\n",
              "</div>"
            ],
            "text/plain": [
              "                                unique_hash  ...        drug\n",
              "0  9e9a8166b84114aca147bf409f6f956635034c08  ...  fingolimod\n",
              "1  e747e6822c867571afe7b907b51f0f2ca67b0e1a  ...  fingolimod\n",
              "2  50b6d851bcff4f35afe354937949e9948975adf7  ...      humira\n",
              "3  7f82ec2176ae6ab0b5d20b5ffc767ac829f384ae  ...    tagrisso\n",
              "4  8b37d169dee5bdae27060949242fb54feb6a7f7f  ...     stelara\n",
              "\n",
              "[5 rows x 3 columns]"
            ]
          },
          "metadata": {
            "tags": []
          },
          "execution_count": 74
        }
      ]
    },
    {
      "cell_type": "markdown",
      "metadata": {
        "id": "zWmWDka_x0T1",
        "colab_type": "text"
      },
      "source": [
        "#### Data Preprocessing"
      ]
    },
    {
      "cell_type": "code",
      "metadata": {
        "id": "Nr88h7uvxvHd",
        "colab_type": "code",
        "colab": {}
      },
      "source": [
        "train_df['text'] = train_df['text'].str.replace(\"[^a-zA-Z]\", \" \")\n",
        "test_df['text'] = test_df['text'].str.replace(\"[^a-zA-Z]\", \" \")"
      ],
      "execution_count": 0,
      "outputs": []
    },
    {
      "cell_type": "code",
      "metadata": {
        "id": "UQ1bq7wux-5x",
        "colab_type": "code",
        "outputId": "8909f4f0-6e2b-47a7-aea3-fd2e4355c451",
        "colab": {
          "base_uri": "https://localhost:8080/",
          "height": 50
        }
      },
      "source": [
        "import nltk\n",
        "nltk.download('stopwords')\n",
        "\n",
        "from nltk.corpus import stopwords \n",
        "stop_words = stopwords.words('english')"
      ],
      "execution_count": 0,
      "outputs": [
        {
          "output_type": "stream",
          "text": [
            "[nltk_data] Downloading package stopwords to /root/nltk_data...\n",
            "[nltk_data]   Unzipping corpora/stopwords.zip.\n"
          ],
          "name": "stdout"
        }
      ]
    },
    {
      "cell_type": "code",
      "metadata": {
        "id": "ltUykZajyFEJ",
        "colab_type": "code",
        "colab": {}
      },
      "source": [
        "# tokenization \n",
        "train_tokenized_doc = train_df['text'].apply(lambda x: x.split())\n",
        "\n",
        "# remove stop-words \n",
        "train_tokenized_doc = train_tokenized_doc.apply(lambda x: [item for item in x if item not in stop_words])"
      ],
      "execution_count": 0,
      "outputs": []
    },
    {
      "cell_type": "code",
      "metadata": {
        "id": "Dmc4vXEsyPAE",
        "colab_type": "code",
        "colab": {}
      },
      "source": [
        "# tokenization \n",
        "test_tokenized_doc = test_df['text'].apply(lambda x: x.split())\n",
        "\n",
        "# remove stop-words \n",
        "test_tokenized_doc = test_tokenized_doc.apply(lambda x: [item for item in x if item not in stop_words])"
      ],
      "execution_count": 0,
      "outputs": []
    },
    {
      "cell_type": "code",
      "metadata": {
        "id": "1EX377WjyUbY",
        "colab_type": "code",
        "colab": {}
      },
      "source": [
        "# de-tokenization \n",
        "detokenized_doc = [] \n",
        "for i in range(len(train_df)): \n",
        "    try:\n",
        "      t = ' '.join(train_tokenized_doc[i]) \n",
        "      detokenized_doc.append(t) \n",
        "    except:\n",
        "      pass\n",
        "\n",
        "train_df['text'] = detokenized_doc\n",
        "\n",
        "# de-tokenization \n",
        "detokenized_doc = [] \n",
        "for i in range(len(test_df)): \n",
        "  try:\n",
        "    t = ' '.join(test_tokenized_doc[i]) \n",
        "    detokenized_doc.append(t) \n",
        "  except:\n",
        "    pass\n",
        "    \n",
        "\n",
        "test_df['text'] = detokenized_doc"
      ],
      "execution_count": 0,
      "outputs": []
    },
    {
      "cell_type": "code",
      "metadata": {
        "id": "tFLTL1VP1UgL",
        "colab_type": "code",
        "outputId": "d85d35d3-c819-4d5d-f6c3-d90ad184c387",
        "colab": {
          "base_uri": "https://localhost:8080/",
          "height": 35
        }
      },
      "source": [
        "print(train_df.shape, test_df.shape)"
      ],
      "execution_count": 0,
      "outputs": [
        {
          "output_type": "stream",
          "text": [
            "(5279, 4) (2924, 3)\n"
          ],
          "name": "stdout"
        }
      ]
    },
    {
      "cell_type": "code",
      "metadata": {
        "id": "qVyufFgH1YfM",
        "colab_type": "code",
        "outputId": "4f250037-753a-488c-8e23-e7a623a08f61",
        "colab": {
          "base_uri": "https://localhost:8080/",
          "height": 158
        }
      },
      "source": [
        "train_df.head(3)"
      ],
      "execution_count": 0,
      "outputs": [
        {
          "output_type": "execute_result",
          "data": {
            "text/html": [
              "<div>\n",
              "<style scoped>\n",
              "    .dataframe tbody tr th:only-of-type {\n",
              "        vertical-align: middle;\n",
              "    }\n",
              "\n",
              "    .dataframe tbody tr th {\n",
              "        vertical-align: top;\n",
              "    }\n",
              "\n",
              "    .dataframe thead th {\n",
              "        text-align: right;\n",
              "    }\n",
              "</style>\n",
              "<table border=\"1\" class=\"dataframe\">\n",
              "  <thead>\n",
              "    <tr style=\"text-align: right;\">\n",
              "      <th></th>\n",
              "      <th>unique_hash</th>\n",
              "      <th>text</th>\n",
              "      <th>drug</th>\n",
              "      <th>sentiment</th>\n",
              "    </tr>\n",
              "  </thead>\n",
              "  <tbody>\n",
              "    <tr>\n",
              "      <th>0</th>\n",
              "      <td>2e180be4c9214c1f5ab51fd8cc32bc80c9f612e0</td>\n",
              "      <td>Autoimmune diseases tend come clusters As Gile...</td>\n",
              "      <td>gilenya</td>\n",
              "      <td>2</td>\n",
              "    </tr>\n",
              "    <tr>\n",
              "      <th>1</th>\n",
              "      <td>9eba8f80e7e20f3a2f48685530748fbfa95943e4</td>\n",
              "      <td>I completely understand want try But results r...</td>\n",
              "      <td>gilenya</td>\n",
              "      <td>2</td>\n",
              "    </tr>\n",
              "    <tr>\n",
              "      <th>2</th>\n",
              "      <td>fe809672251f6bd0d986e00380f48d047c7e7b76</td>\n",
              "      <td>Interesting targets S P receptors rather like ...</td>\n",
              "      <td>fingolimod</td>\n",
              "      <td>2</td>\n",
              "    </tr>\n",
              "  </tbody>\n",
              "</table>\n",
              "</div>"
            ],
            "text/plain": [
              "                                unique_hash  ... sentiment\n",
              "0  2e180be4c9214c1f5ab51fd8cc32bc80c9f612e0  ...         2\n",
              "1  9eba8f80e7e20f3a2f48685530748fbfa95943e4  ...         2\n",
              "2  fe809672251f6bd0d986e00380f48d047c7e7b76  ...         2\n",
              "\n",
              "[3 rows x 4 columns]"
            ]
          },
          "metadata": {
            "tags": []
          },
          "execution_count": 128
        }
      ]
    },
    {
      "cell_type": "code",
      "metadata": {
        "id": "ZV9Ua56s1dPX",
        "colab_type": "code",
        "outputId": "595e3741-492d-47cd-98e6-5fcda9db05e9",
        "colab": {
          "base_uri": "https://localhost:8080/",
          "height": 141
        }
      },
      "source": [
        "test_df.head(3)"
      ],
      "execution_count": 0,
      "outputs": [
        {
          "output_type": "execute_result",
          "data": {
            "text/html": [
              "<div>\n",
              "<style scoped>\n",
              "    .dataframe tbody tr th:only-of-type {\n",
              "        vertical-align: middle;\n",
              "    }\n",
              "\n",
              "    .dataframe tbody tr th {\n",
              "        vertical-align: top;\n",
              "    }\n",
              "\n",
              "    .dataframe thead th {\n",
              "        text-align: right;\n",
              "    }\n",
              "</style>\n",
              "<table border=\"1\" class=\"dataframe\">\n",
              "  <thead>\n",
              "    <tr style=\"text-align: right;\">\n",
              "      <th></th>\n",
              "      <th>unique_hash</th>\n",
              "      <th>text</th>\n",
              "      <th>drug</th>\n",
              "    </tr>\n",
              "  </thead>\n",
              "  <tbody>\n",
              "    <tr>\n",
              "      <th>0</th>\n",
              "      <td>9e9a8166b84114aca147bf409f6f956635034c08</td>\n",
              "      <td>previously stable natalizumab switching fingol...</td>\n",
              "      <td>fingolimod</td>\n",
              "    </tr>\n",
              "    <tr>\n",
              "      <th>1</th>\n",
              "      <td>e747e6822c867571afe7b907b51f0f2ca67b0e1a</td>\n",
              "      <td>On fingolimod since December way I describe be...</td>\n",
              "      <td>fingolimod</td>\n",
              "    </tr>\n",
              "    <tr>\n",
              "      <th>2</th>\n",
              "      <td>50b6d851bcff4f35afe354937949e9948975adf7</td>\n",
              "      <td>Apparently shingles I red spots left breast ap...</td>\n",
              "      <td>humira</td>\n",
              "    </tr>\n",
              "  </tbody>\n",
              "</table>\n",
              "</div>"
            ],
            "text/plain": [
              "                                unique_hash  ...        drug\n",
              "0  9e9a8166b84114aca147bf409f6f956635034c08  ...  fingolimod\n",
              "1  e747e6822c867571afe7b907b51f0f2ca67b0e1a  ...  fingolimod\n",
              "2  50b6d851bcff4f35afe354937949e9948975adf7  ...      humira\n",
              "\n",
              "[3 rows x 3 columns]"
            ]
          },
          "metadata": {
            "tags": []
          },
          "execution_count": 130
        }
      ]
    },
    {
      "cell_type": "code",
      "metadata": {
        "id": "R0Rd_IfBocAW",
        "colab_type": "code",
        "outputId": "526c9971-92d7-4fa9-91c5-157fd52e49c7",
        "colab": {
          "base_uri": "https://localhost:8080/",
          "height": 35
        }
      },
      "source": [
        "# train, valid = train_df.loc[:4000,:], train_df.loc[4000:,:]\n",
        "# len(train), len(valid)"
      ],
      "execution_count": 0,
      "outputs": [
        {
          "output_type": "execute_result",
          "data": {
            "text/plain": [
              "(4001, 1279)"
            ]
          },
          "metadata": {
            "tags": []
          },
          "execution_count": 75
        }
      ]
    },
    {
      "cell_type": "code",
      "metadata": {
        "id": "ApUfBBqyyvxH",
        "colab_type": "code",
        "colab": {}
      },
      "source": [
        "from sklearn.model_selection import train_test_split\n",
        "\n",
        "# split data into training and validation set\n",
        "df_trn, df_val = train_test_split(train_df, stratify = train_df['sentiment'], test_size = 0.4, random_state = 12)"
      ],
      "execution_count": 0,
      "outputs": []
    },
    {
      "cell_type": "code",
      "metadata": {
        "id": "4F5wTSJ3os10",
        "colab_type": "code",
        "colab": {}
      },
      "source": [
        "data_lm = TextLMDataBunch.from_df(Path(path), train_df= df_trn, valid_df=test_df, text_cols=1, bs=32)\n",
        "data_clas = TextClasDataBunch.from_df(Path(path), train_df = df_trn, valid_df = df_val,  test_df = test_df,\n",
        "                                      vocab=data_lm.train_ds.vocab, text_cols=1, label_cols=3, bs=32)"
      ],
      "execution_count": 0,
      "outputs": []
    },
    {
      "cell_type": "code",
      "metadata": {
        "id": "4B1TYvUtoyjD",
        "colab_type": "code",
        "outputId": "a5c43ce4-c8a9-4c55-86b9-ec65ba848fe5",
        "colab": {
          "base_uri": "https://localhost:8080/",
          "height": 497
        }
      },
      "source": [
        "data_lm.show_batch()"
      ],
      "execution_count": 0,
      "outputs": [
        {
          "output_type": "display_data",
          "data": {
            "text/html": [
              "<table border=\"1\" class=\"dataframe\">\n",
              "  <thead>\n",
              "    <tr style=\"text-align: right;\">\n",
              "      <th>idx</th>\n",
              "      <th>text</th>\n",
              "    </tr>\n",
              "  </thead>\n",
              "  <tbody>\n",
              "    <tr>\n",
              "      <td>0</td>\n",
              "      <td>college xxmaj very concerned long term affects meds xxmaj he says rather colon xxmaj obviously issues xxmaj strict diet tough college student yes drinks alcohol xxmaj do feel xxmaj dr xxmaj young xxmaj stanford best xxmaj how xxup ucsf xxmaj thank xxmaj you inspiring xxbos xxmaj it i first diagnosed wet macular degeneration xxmaj my right eye treated hot laser lost central vision xxmaj my right eye developed wet macular</td>\n",
              "    </tr>\n",
              "    <tr>\n",
              "      <td>1</td>\n",
              "      <td>biosimilars abbvie xxmaj humira top selling drug world got underway xxmaj europe brand market exclusivity comes end xxmaj copycat versions xxup tnf inhibitor xxmaj amgen xxmaj samsung xxmaj bioepis xxmaj biogen xxmaj mylan xxmaj fujifilm xxmaj kyowa xxmaj kirin xxmaj novartis xxmaj sandoz unit starting become available first xxup eu markets abbvie patent protection xxmaj humira adalimumab come end xxmaj europe xxmaj humira made bn revenues last year mostly xxup</td>\n",
              "    </tr>\n",
              "    <tr>\n",
              "      <td>2</td>\n",
              "      <td>xxmaj for tumors vulva vagina xxmaj treatment may include chemotherapy followed surgery remove tumor xxmaj internal external radiation therapy may given surgery xxmaj for tumors uterus xxmaj treatment may include chemotherapy without radiation therapy xxmaj sometimes surgery may needed remove remaining cancer cells xxmaj for tumors cervix xxmaj treatment may include chemotherapy followed surgery remove remaining tumor xxmaj for tumors ovary xxmaj treatment may include chemotherapy followed surgery remove remaining</td>\n",
              "    </tr>\n",
              "    <tr>\n",
              "      <td>3</td>\n",
              "      <td>today years surgeries hundreds procedures later i happy say i still alive kicking i continued working investment xxunk taking time xxunk surgeries stress fatigue constant flare ups enough times a decade ago returning th birthday xxmaj xxunk i developed horrible case food poisoning i never i took antibiotics gave c dificile debilitating infection caused antibiotic xxunk xxmaj it resulted bowel movements day watery diarrhea nausea dehydration xxmaj and c diff</td>\n",
              "    </tr>\n",
              "    <tr>\n",
              "      <td>4</td>\n",
              "      <td>xxunk superficial deep layers retina choriocapillaris xxmaj figure a recent cross sectional study compared xxup octa findings eyes choroidal melanoma imaged prior therapy irradiated eyes clinically apparent radiation retinopathy optic neuropathy xxmaj in eyes radiation induced side effects peripapillary retinal capillary density xxup ppcd lower treated eye correlated radiation dose optic nerve well visual acuity outcome xxmaj in contrast significant difference observed xxup ppcd eyes melanoma prior irradiation compared normal</td>\n",
              "    </tr>\n",
              "  </tbody>\n",
              "</table>"
            ],
            "text/plain": [
              "<IPython.core.display.HTML object>"
            ]
          },
          "metadata": {
            "tags": []
          }
        }
      ]
    },
    {
      "cell_type": "code",
      "metadata": {
        "id": "5T6bqu4epW3W",
        "colab_type": "code",
        "outputId": "90b015e4-9df1-49fe-89ef-ee74f7254cfe",
        "colab": {
          "base_uri": "https://localhost:8080/",
          "height": 566
        }
      },
      "source": [
        "data_clas.show_batch()"
      ],
      "execution_count": 0,
      "outputs": [
        {
          "output_type": "display_data",
          "data": {
            "text/html": [
              "<table border=\"1\" class=\"dataframe\">\n",
              "  <thead>\n",
              "    <tr style=\"text-align: right;\">\n",
              "      <th>text</th>\n",
              "      <th>target</th>\n",
              "    </tr>\n",
              "  </thead>\n",
              "  <tbody>\n",
              "    <tr>\n",
              "      <td>xxbos xxup serious xxup infections xxmaj patients treated xxmaj remicade increased risk developing serious infections may lead hospitalization death see xxmaj warnings xxmaj precautions xxmaj adverse xxmaj reactions xxmaj most patients developed infections taking concomitant immunosuppressants methotrexate corticosteroids xxmaj remicade discontinued patient develops serious infection sepsis xxmaj reported infections include xxmaj active tuberculosis including reactivation latent tuberculosis xxmaj patients tuberculosis frequently presented disseminated extrapulmonary disease xxmaj patients tested latent tuberculosis</td>\n",
              "      <td>2</td>\n",
              "    </tr>\n",
              "    <tr>\n",
              "      <td>xxbos xxmaj life xxmaj graft vs xxmaj host xxmaj disease xxup gvhd xxmaj post xxmaj allogeneic xxmaj stem xxmaj cell xxmaj bone xxmaj marrow xxmaj transplantation xxmaj new xxmaj treatment xxmaj approaches xxmaj dec xxmaj podcasts xxmaj lung xxmaj cancer xxmaj for xxmaj caregivers xxmaj practical xxmaj tips xxmaj coping xxmaj your xxmaj loved xxmaj one xxmaj lung xxmaj cancer xxmaj what xxmaj new xxmaj treatment xxmaj lung xxmaj cancer</td>\n",
              "      <td>2</td>\n",
              "    </tr>\n",
              "    <tr>\n",
              "      <td>xxbos xxup fliks e mab xxmaj index xxmaj terms xxmaj avakine xxmaj infliximab xxmaj recombinant xxmaj infliximab abda xxmaj infliximab dyyb xxmaj infliximab qbtx xxmaj ixifi xxmaj dosage xxmaj forms xxmaj excipient information presented available limited particularly generics consult specific product labeling xxmaj solution xxmaj reconstituted xxmaj intravenous xxmaj inflectra infliximab dyyb mg ea contains polysorbate xxmaj solution xxmaj reconstituted xxmaj intravenous preservative free xxmaj remicade mg ea contains polysorbate</td>\n",
              "      <td>2</td>\n",
              "    </tr>\n",
              "    <tr>\n",
              "      <td>xxbos xxup fliks e mab xxmaj index xxmaj terms xxmaj avakine xxmaj infliximab xxmaj recombinant xxmaj infliximab abda xxmaj infliximab dyyb xxmaj infliximab qbtx xxmaj ixifi xxmaj dosage xxmaj forms xxmaj excipient information presented available limited particularly generics consult specific product labeling xxmaj solution xxmaj reconstituted xxmaj intravenous xxmaj inflectra infliximab dyyb mg ea contains polysorbate xxmaj solution xxmaj reconstituted xxmaj intravenous preservative free xxmaj remicade mg ea contains polysorbate</td>\n",
              "      <td>2</td>\n",
              "    </tr>\n",
              "    <tr>\n",
              "      <td>xxbos xxmaj increased risk serious infections involving various organ systems sites may require hospitalization result death tuberculosis frequently disseminated extrapulmonary invasive fungal infections may disseminated bacterial e g legionellosis listeriosis viral infections opportunistic infections reported xxmaj see xxmaj infectious xxmaj complications xxmaj cautions xxmaj carefully consider risks benefits prior initiating adalimumab therapy patients chronic recurring infections xxmaj evaluate patients latent tuberculosis infection prior periodically adalimumab therapy indicated initiate appropriate antimycobacterial</td>\n",
              "      <td>2</td>\n",
              "    </tr>\n",
              "  </tbody>\n",
              "</table>"
            ],
            "text/plain": [
              "<IPython.core.display.HTML object>"
            ]
          },
          "metadata": {
            "tags": []
          }
        }
      ]
    },
    {
      "cell_type": "code",
      "metadata": {
        "id": "cHpHbxgOql0w",
        "colab_type": "code",
        "colab": {}
      },
      "source": [
        "# !pip install fastai\n",
        "# !pip install torch"
      ],
      "execution_count": 0,
      "outputs": []
    },
    {
      "cell_type": "markdown",
      "metadata": {
        "id": "qIHXHOymqSgB",
        "colab_type": "text"
      },
      "source": [
        "### Language model"
      ]
    },
    {
      "cell_type": "code",
      "metadata": {
        "id": "zXWokHiJpjMN",
        "colab_type": "code",
        "colab": {}
      },
      "source": [
        "learn = language_model_learner(data_lm, arch=AWD_LSTM, drop_mult=0.3)"
      ],
      "execution_count": 0,
      "outputs": []
    },
    {
      "cell_type": "code",
      "metadata": {
        "id": "SEFOW8-RvdUQ",
        "colab_type": "code",
        "outputId": "ca04468b-7a86-403c-9547-35a42a90a384",
        "colab": {
          "base_uri": "https://localhost:8080/",
          "height": 301
        }
      },
      "source": [
        "learn.lr_find()\n",
        "learn.recorder.plot()"
      ],
      "execution_count": 0,
      "outputs": [
        {
          "output_type": "display_data",
          "data": {
            "text/html": [
              ""
            ],
            "text/plain": [
              "<IPython.core.display.HTML object>"
            ]
          },
          "metadata": {
            "tags": []
          }
        },
        {
          "output_type": "stream",
          "text": [
            "LR Finder is complete, type {learner_name}.recorder.plot() to see the graph.\n"
          ],
          "name": "stdout"
        },
        {
          "output_type": "display_data",
          "data": {
            "image/png": "[encoded data removed]",
            "text/plain": [
              "<Figure size 432x288 with 1 Axes>"
            ]
          },
          "metadata": {
            "tags": []
          }
        }
      ]
    },
    {
      "cell_type": "code",
      "metadata": {
        "id": "DtnDRFxqvhmz",
        "colab_type": "code",
        "outputId": "4b4c04d7-4c8c-4794-b33b-702fb9dc397f",
        "colab": {
          "base_uri": "https://localhost:8080/",
          "height": 79
        }
      },
      "source": [
        "learn.fit_one_cycle(1, 1e-3, moms=(0.8, 0.7))"
      ],
      "execution_count": 0,
      "outputs": [
        {
          "output_type": "display_data",
          "data": {
            "text/html": [
              "<table border=\"1\" class=\"dataframe\">\n",
              "  <thead>\n",
              "    <tr style=\"text-align: left;\">\n",
              "      <th>epoch</th>\n",
              "      <th>train_loss</th>\n",
              "      <th>valid_loss</th>\n",
              "      <th>accuracy</th>\n",
              "      <th>time</th>\n",
              "    </tr>\n",
              "  </thead>\n",
              "  <tbody>\n",
              "    <tr>\n",
              "      <td>0</td>\n",
              "      <td>6.213605</td>\n",
              "      <td>5.903590</td>\n",
              "      <td>0.193094</td>\n",
              "      <td>02:37</td>\n",
              "    </tr>\n",
              "  </tbody>\n",
              "</table>"
            ],
            "text/plain": [
              "<IPython.core.display.HTML object>"
            ]
          },
          "metadata": {
            "tags": []
          }
        }
      ]
    },
    {
      "cell_type": "code",
      "metadata": {
        "id": "1YwHNYl8vl-v",
        "colab_type": "code",
        "colab": {}
      },
      "source": [
        "learn.unfreeze()"
      ],
      "execution_count": 0,
      "outputs": []
    },
    {
      "cell_type": "code",
      "metadata": {
        "id": "wAtAfB2Ovntj",
        "colab_type": "code",
        "outputId": "2f773a55-e13f-4b37-b2b1-b05c03c65055",
        "colab": {
          "base_uri": "https://localhost:8080/",
          "height": 301
        }
      },
      "source": [
        "learn.lr_find()\n",
        "learn.recorder.plot()"
      ],
      "execution_count": 0,
      "outputs": [
        {
          "output_type": "display_data",
          "data": {
            "text/html": [
              ""
            ],
            "text/plain": [
              "<IPython.core.display.HTML object>"
            ]
          },
          "metadata": {
            "tags": []
          }
        },
        {
          "output_type": "stream",
          "text": [
            "LR Finder is complete, type {learner_name}.recorder.plot() to see the graph.\n"
          ],
          "name": "stdout"
        },
        {
          "output_type": "display_data",
          "data": {
            "image/png": "[encoded data removed]",
            "text/plain": [
              "<Figure size 432x288 with 1 Axes>"
            ]
          },
          "metadata": {
            "tags": []
          }
        }
      ]
    },
    {
      "cell_type": "code",
      "metadata": {
        "id": "-SjcqPSivulC",
        "colab_type": "code",
        "colab": {}
      },
      "source": [
        "learn.fit_one_cycle(10, 1e-4, moms=(0.8,0.7))"
      ],
      "execution_count": 0,
      "outputs": []
    },
    {
      "cell_type": "code",
      "metadata": {
        "id": "Di3YHlxAyYvN",
        "colab_type": "code",
        "colab": {}
      },
      "source": [
        "learn.save('drugs-sentiment-lm')"
      ],
      "execution_count": 0,
      "outputs": []
    },
    {
      "cell_type": "code",
      "metadata": {
        "id": "wxwR-ypIyhZa",
        "colab_type": "code",
        "colab": {}
      },
      "source": [
        "TEXT = \"I liked \"\n",
        "N_WORDS = 40\n",
        "N_SENTENCES = 2"
      ],
      "execution_count": 0,
      "outputs": []
    },
    {
      "cell_type": "code",
      "metadata": {
        "id": "dgbZBuZtykbp",
        "colab_type": "code",
        "colab": {}
      },
      "source": [
        "\n",
        "print(\"\\n\".join(learn.predict(TEXT, N_WORDS, temperature=0.75) for _ in range(N_SENTENCES)))"
      ],
      "execution_count": 0,
      "outputs": []
    },
    {
      "cell_type": "code",
      "metadata": {
        "id": "zkaYy3OzylTF",
        "colab_type": "code",
        "colab": {}
      },
      "source": [
        "learn.save_encoder('drugs-sentiment-enc')"
      ],
      "execution_count": 0,
      "outputs": []
    },
    {
      "cell_type": "markdown",
      "metadata": {
        "id": "VOyVR7sm42tZ",
        "colab_type": "text"
      },
      "source": [
        "### TextClassifier"
      ]
    },
    {
      "cell_type": "code",
      "metadata": {
        "id": "c9dYUsCJqALP",
        "colab_type": "code",
        "colab": {}
      },
      "source": [
        "\n",
        "learn = text_classifier_learner(data_clas, arch=AWD_LSTM,  drop_mult=0.5)"
      ],
      "execution_count": 0,
      "outputs": []
    },
    {
      "cell_type": "code",
      "metadata": {
        "id": "0_A4VW5OA8Ru",
        "colab_type": "code",
        "colab": {}
      },
      "source": [
        "learn.load_encoder('drugs-sentiment-enc')"
      ],
      "execution_count": 0,
      "outputs": []
    },
    {
      "cell_type": "code",
      "metadata": {
        "id": "MXFWyl0OqVAJ",
        "colab_type": "code",
        "colab": {}
      },
      "source": [
        "learn.lr_find()\n",
        "learn.recorder.plot()"
      ],
      "execution_count": 0,
      "outputs": []
    },
    {
      "cell_type": "code",
      "metadata": {
        "id": "EJeg0m413m0m",
        "colab_type": "code",
        "colab": {}
      },
      "source": [
        "learn.metrics = [FBeta(beta=1, average='macro')]"
      ],
      "execution_count": 0,
      "outputs": []
    },
    {
      "cell_type": "code",
      "metadata": {
        "id": "xAG_P33DyCbC",
        "colab_type": "code",
        "colab": {}
      },
      "source": [
        "learn.fit_one_cycle(1, 1e-4, moms=(0.8, 0.7))"
      ],
      "execution_count": 0,
      "outputs": []
    },
    {
      "cell_type": "code",
      "metadata": {
        "id": "F5YicDAOBvYZ",
        "colab_type": "code",
        "colab": {}
      },
      "source": [
        "learn.freeze_to(-2)\n",
        "learn.fit_one_cycle(10, slice(1e-4/(2.6**4),1e-4), moms=(0.8,0.7))"
      ],
      "execution_count": 0,
      "outputs": []
    },
    {
      "cell_type": "code",
      "metadata": {
        "id": "IKblGPfoeoJd",
        "colab_type": "code",
        "colab": {}
      },
      "source": [
        ""
      ],
      "execution_count": 0,
      "outputs": []
    }
  ]
}