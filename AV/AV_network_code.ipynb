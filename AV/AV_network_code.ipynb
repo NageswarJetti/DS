{
  "nbformat": 4,
  "nbformat_minor": 0,
  "metadata": {
    "colab": {
      "name": "AV_network_code.ipynb",
      "version": "0.3.2",
      "provenance": [],
      "collapsed_sections": [],
      "toc_visible": true,
      "include_colab_link": true
    },
    "kernelspec": {
      "name": "python3",
      "display_name": "Python 3"
    },
    "accelerator": "GPU"
  },
  "cells": [
    {
      "cell_type": "markdown",
      "metadata": {
        "id": "view-in-github",
        "colab_type": "text"
      },
      "source": [
        "<a href=\"https://colab.research.google.com/github/shravankoninti/AV/blob/master/AV_network_code.ipynb\" target=\"_parent\"><img src=\"https://colab.research.google.com/assets/colab-badge.svg\" alt=\"Open In Colab\"/></a>"
      ]
    },
    {
      "metadata": {
        "id": "Cv2UsMgZDd32",
        "colab_type": "code",
        "colab": {}
      },
      "cell_type": "code",
      "source": [
        "import random\n",
        "import numpy as np\n",
        "import pandas as pd\n",
        "import matplotlib.pyplot as plt\n",
        "\n",
        "import numpy as np\n",
        "import pandas as pd\n",
        "from matplotlib import pyplot as plt\n",
        "from sklearn.model_selection import train_test_split, GridSearchCV,cross_val_score\n",
        "from sklearn.metrics import accuracy_score, roc_auc_score\n",
        "from sklearn.tree import DecisionTreeClassifier, export_graphviz\n",
        "import pickle"
      ],
      "execution_count": 0,
      "outputs": []
    },
    {
      "metadata": {
        "id": "_hb8FkmIhkMG",
        "colab_type": "code",
        "colab": {}
      },
      "cell_type": "code",
      "source": [
        "\n",
        "# Install the PyDrive wrapper & import libraries.\n",
        "# This only needs to be done once in a notebook.\n",
        "!pip install -U -q PyDrive\n",
        "from pydrive.auth import GoogleAuth\n",
        "from pydrive.drive import GoogleDrive\n",
        "from google.colab import auth\n",
        "from oauth2client.client import GoogleCredentials\n",
        "\n",
        "# Authenticate and create the PyDrive client.\n",
        "# This only needs to be done once in a notebook.\n",
        "auth.authenticate_user()\n",
        "gauth = GoogleAuth()\n",
        "gauth.credentials = GoogleCredentials.get_application_default()\n",
        "drive = GoogleDrive(gauth)"
      ],
      "execution_count": 0,
      "outputs": []
    },
    {
      "metadata": {
        "id": "4dFiAq-hiW4D",
        "colab_type": "code",
        "colab": {}
      },
      "cell_type": "code",
      "source": [
        "#train.csv\n",
        "# https://drive.google.com/open?id=1pRddOtR2o_1Ywa_tpNglxsKv5eA5ROgk\n",
        "\n",
        "# Download a file based on its file ID.\n",
        "#\n",
        "# A file ID looks like: laggVyWshwcyP6kEI-y_W3P8D26sz\n",
        "file_id = '1pRddOtR2o_1Ywa_tpNglxsKv5eA5ROgk' #https://drive.google.com/open?id=1BfqCYaQ21TTWWWe2dCo0riuD-uKL_Cct\n",
        "downloaded = drive.CreateFile({'id': file_id})\n",
        "downloaded.GetContentFile('train.zip')"
      ],
      "execution_count": 0,
      "outputs": []
    },
    {
      "metadata": {
        "id": "rADEuUUWCM5e",
        "colab_type": "code",
        "outputId": "c38ce370-1fee-4aa7-cc25-33c1a149202e",
        "colab": {
          "base_uri": "https://localhost:8080/",
          "height": 104
        }
      },
      "cell_type": "code",
      "source": [
        "!ls"
      ],
      "execution_count": 4,
      "outputs": [
        {
          "output_type": "stream",
          "text": [
            "adc.json\t\t\t    test.csv\n",
            "new_dict_source.pkl\t\t    train.csv\n",
            "new_dict_target.pkl\t\t    train.zip\n",
            "sample_data\t\t\t    user_features.csv\n",
            "sample_submission_only_headers.csv  user_features_df_dict.pkl\n"
          ],
          "name": "stdout"
        }
      ]
    },
    {
      "metadata": {
        "id": "s7Wcq9TICQgR",
        "colab_type": "code",
        "colab": {}
      },
      "cell_type": "code",
      "source": [
        "#train.csv\n",
        "# https://drive.google.com/open?id=1Az5lmh-XGkNXkO_k_3IZTmLg_Sf7teJb\n",
        "\n",
        "# Download a file based on its file ID.\n",
        "#\n",
        "# A file ID looks like: laggVyWshwcyP6kEI-y_W3P8D26sz\n",
        "file_id = '1Az5lmh-XGkNXkO_k_3IZTmLg_Sf7teJb' #https://drive.google.com/open?id=1BfqCYaQ21TTWWWe2dCo0riuD-uKL_Cct\n",
        "downloaded = drive.CreateFile({'id': file_id})\n",
        "downloaded.GetContentFile('test.csv')"
      ],
      "execution_count": 0,
      "outputs": []
    },
    {
      "metadata": {
        "id": "onA_wAlkCcJH",
        "colab_type": "code",
        "outputId": "a9309f6a-b4f9-45dc-bec0-7bd1c3be77ba",
        "colab": {
          "base_uri": "https://localhost:8080/",
          "height": 104
        }
      },
      "cell_type": "code",
      "source": [
        "!ls"
      ],
      "execution_count": 6,
      "outputs": [
        {
          "output_type": "stream",
          "text": [
            "adc.json\t\t\t    test.csv\n",
            "new_dict_source.pkl\t\t    train.csv\n",
            "new_dict_target.pkl\t\t    train.zip\n",
            "sample_data\t\t\t    user_features.csv\n",
            "sample_submission_only_headers.csv  user_features_df_dict.pkl\n"
          ],
          "name": "stdout"
        }
      ]
    },
    {
      "metadata": {
        "id": "xUpFF2gsCd_H",
        "colab_type": "code",
        "colab": {}
      },
      "cell_type": "code",
      "source": [
        "# https://drive.google.com/open?id=1RsyDZfkcLNib_YU3Bp4bRdD4FjqrmNpk\n",
        "# A file ID looks like: laggVyWshwcyP6kEI-y_W3P8D26sz\n",
        "file_id = '1RsyDZfkcLNib_YU3Bp4bRdD4FjqrmNpk' \n",
        "downloaded = drive.CreateFile({'id': file_id})\n",
        "downloaded.GetContentFile('sample_submission_only_headers.csv')"
      ],
      "execution_count": 0,
      "outputs": []
    },
    {
      "metadata": {
        "id": "FFe33nVoCoX_",
        "colab_type": "code",
        "outputId": "8480d113-0e43-4b14-a101-d5cecdb2ec8b",
        "colab": {
          "base_uri": "https://localhost:8080/",
          "height": 104
        }
      },
      "cell_type": "code",
      "source": [
        "!ls"
      ],
      "execution_count": 8,
      "outputs": [
        {
          "output_type": "stream",
          "text": [
            "adc.json\t\t\t    test.csv\n",
            "new_dict_source.pkl\t\t    train.csv\n",
            "new_dict_target.pkl\t\t    train.zip\n",
            "sample_data\t\t\t    user_features.csv\n",
            "sample_submission_only_headers.csv  user_features_df_dict.pkl\n"
          ],
          "name": "stdout"
        }
      ]
    },
    {
      "metadata": {
        "id": "1Lb3ZeOBC1cU",
        "colab_type": "code",
        "outputId": "35bacb55-da1b-4fdf-9241-2f68a1aaa90b",
        "colab": {
          "base_uri": "https://localhost:8080/",
          "height": 69
        }
      },
      "cell_type": "code",
      "source": [
        "!unzip train.zip"
      ],
      "execution_count": 9,
      "outputs": [
        {
          "output_type": "stream",
          "text": [
            "Archive:  train.zip\n",
            "replace train.csv? [y]es, [n]o, [A]ll, [N]one, [r]ename: n\n",
            "replace user_features.csv? [y]es, [n]o, [A]ll, [N]one, [r]ename: n\n"
          ],
          "name": "stdout"
        }
      ]
    },
    {
      "metadata": {
        "id": "QWB41O_mDDOv",
        "colab_type": "code",
        "outputId": "bec7c562-c740-4dfe-cefa-4c9f45e7e40a",
        "colab": {
          "base_uri": "https://localhost:8080/",
          "height": 104
        }
      },
      "cell_type": "code",
      "source": [
        "!ls"
      ],
      "execution_count": 10,
      "outputs": [
        {
          "output_type": "stream",
          "text": [
            "adc.json\t\t\t    test.csv\n",
            "new_dict_source.pkl\t\t    train.csv\n",
            "new_dict_target.pkl\t\t    train.zip\n",
            "sample_data\t\t\t    user_features.csv\n",
            "sample_submission_only_headers.csv  user_features_df_dict.pkl\n"
          ],
          "name": "stdout"
        }
      ]
    },
    {
      "metadata": {
        "id": "sY-iC2m1kctq",
        "colab_type": "code",
        "outputId": "610a03ea-434a-4a9b-9466-2e71f8975c9b",
        "colab": {
          "base_uri": "https://localhost:8080/",
          "height": 49
        }
      },
      "cell_type": "code",
      "source": [
        "submission_df = pd.read_csv('sample_submission_only_headers.csv')\n",
        "submission_df.head()"
      ],
      "execution_count": 11,
      "outputs": [
        {
          "output_type": "execute_result",
          "data": {
            "text/html": [
              "<div>\n",
              "<style scoped>\n",
              "    .dataframe tbody tr th:only-of-type {\n",
              "        vertical-align: middle;\n",
              "    }\n",
              "\n",
              "    .dataframe tbody tr th {\n",
              "        vertical-align: top;\n",
              "    }\n",
              "\n",
              "    .dataframe thead th {\n",
              "        text-align: right;\n",
              "    }\n",
              "</style>\n",
              "<table border=\"1\" class=\"dataframe\">\n",
              "  <thead>\n",
              "    <tr style=\"text-align: right;\">\n",
              "      <th></th>\n",
              "      <th>id</th>\n",
              "      <th>is_chat</th>\n",
              "    </tr>\n",
              "  </thead>\n",
              "  <tbody>\n",
              "  </tbody>\n",
              "</table>\n",
              "</div>"
            ],
            "text/plain": [
              "Empty DataFrame\n",
              "Columns: [id, is_chat]\n",
              "Index: []"
            ]
          },
          "metadata": {
            "tags": []
          },
          "execution_count": 11
        }
      ]
    },
    {
      "metadata": {
        "id": "4RMZqy_yDL7z",
        "colab_type": "code",
        "outputId": "2d3b270c-c3a4-4640-d2d2-9c33320a1983",
        "colab": {
          "base_uri": "https://localhost:8080/",
          "height": 202
        }
      },
      "cell_type": "code",
      "source": [
        "train_df = pd.read_csv('train.csv')\n",
        "train_df.head()"
      ],
      "execution_count": 12,
      "outputs": [
        {
          "output_type": "execute_result",
          "data": {
            "text/html": [
              "<div>\n",
              "<style scoped>\n",
              "    .dataframe tbody tr th:only-of-type {\n",
              "        vertical-align: middle;\n",
              "    }\n",
              "\n",
              "    .dataframe tbody tr th {\n",
              "        vertical-align: top;\n",
              "    }\n",
              "\n",
              "    .dataframe thead th {\n",
              "        text-align: right;\n",
              "    }\n",
              "</style>\n",
              "<table border=\"1\" class=\"dataframe\">\n",
              "  <thead>\n",
              "    <tr style=\"text-align: right;\">\n",
              "      <th></th>\n",
              "      <th>node1_id</th>\n",
              "      <th>node2_id</th>\n",
              "      <th>is_chat</th>\n",
              "    </tr>\n",
              "  </thead>\n",
              "  <tbody>\n",
              "    <tr>\n",
              "      <th>0</th>\n",
              "      <td>8446602</td>\n",
              "      <td>6636127</td>\n",
              "      <td>0</td>\n",
              "    </tr>\n",
              "    <tr>\n",
              "      <th>1</th>\n",
              "      <td>1430102</td>\n",
              "      <td>7433949</td>\n",
              "      <td>0</td>\n",
              "    </tr>\n",
              "    <tr>\n",
              "      <th>2</th>\n",
              "      <td>2803017</td>\n",
              "      <td>8372333</td>\n",
              "      <td>0</td>\n",
              "    </tr>\n",
              "    <tr>\n",
              "      <th>3</th>\n",
              "      <td>4529348</td>\n",
              "      <td>894645</td>\n",
              "      <td>0</td>\n",
              "    </tr>\n",
              "    <tr>\n",
              "      <th>4</th>\n",
              "      <td>5096572</td>\n",
              "      <td>4211638</td>\n",
              "      <td>0</td>\n",
              "    </tr>\n",
              "  </tbody>\n",
              "</table>\n",
              "</div>"
            ],
            "text/plain": [
              "   node1_id  node2_id  is_chat\n",
              "0   8446602   6636127        0\n",
              "1   1430102   7433949        0\n",
              "2   2803017   8372333        0\n",
              "3   4529348    894645        0\n",
              "4   5096572   4211638        0"
            ]
          },
          "metadata": {
            "tags": []
          },
          "execution_count": 12
        }
      ]
    },
    {
      "metadata": {
        "id": "4vHGKotGWDzE",
        "colab_type": "code",
        "outputId": "b2a5c113-4b37-400b-ddad-efa5e5c635d6",
        "colab": {
          "base_uri": "https://localhost:8080/",
          "height": 69
        }
      },
      "cell_type": "code",
      "source": [
        "train_df['is_chat'].value_counts(normalize = True)"
      ],
      "execution_count": 13,
      "outputs": [
        {
          "output_type": "execute_result",
          "data": {
            "text/plain": [
              "0    0.968133\n",
              "1    0.031867\n",
              "Name: is_chat, dtype: float64"
            ]
          },
          "metadata": {
            "tags": []
          },
          "execution_count": 13
        }
      ]
    },
    {
      "metadata": {
        "id": "4WDktZ5CDYjc",
        "colab_type": "code",
        "outputId": "bb3318ef-66db-42eb-d576-971ff1c69bda",
        "colab": {
          "base_uri": "https://localhost:8080/",
          "height": 202
        }
      },
      "cell_type": "code",
      "source": [
        "test_df = pd.read_csv('test.csv')\n",
        "test_df.head()"
      ],
      "execution_count": 14,
      "outputs": [
        {
          "output_type": "execute_result",
          "data": {
            "text/html": [
              "<div>\n",
              "<style scoped>\n",
              "    .dataframe tbody tr th:only-of-type {\n",
              "        vertical-align: middle;\n",
              "    }\n",
              "\n",
              "    .dataframe tbody tr th {\n",
              "        vertical-align: top;\n",
              "    }\n",
              "\n",
              "    .dataframe thead th {\n",
              "        text-align: right;\n",
              "    }\n",
              "</style>\n",
              "<table border=\"1\" class=\"dataframe\">\n",
              "  <thead>\n",
              "    <tr style=\"text-align: right;\">\n",
              "      <th></th>\n",
              "      <th>id</th>\n",
              "      <th>node1_id</th>\n",
              "      <th>node2_id</th>\n",
              "    </tr>\n",
              "  </thead>\n",
              "  <tbody>\n",
              "    <tr>\n",
              "      <th>0</th>\n",
              "      <td>1</td>\n",
              "      <td>7107094</td>\n",
              "      <td>8010772</td>\n",
              "    </tr>\n",
              "    <tr>\n",
              "      <th>1</th>\n",
              "      <td>2</td>\n",
              "      <td>7995251</td>\n",
              "      <td>2805801</td>\n",
              "    </tr>\n",
              "    <tr>\n",
              "      <th>2</th>\n",
              "      <td>3</td>\n",
              "      <td>2804693</td>\n",
              "      <td>8059549</td>\n",
              "    </tr>\n",
              "    <tr>\n",
              "      <th>3</th>\n",
              "      <td>4</td>\n",
              "      <td>4812472</td>\n",
              "      <td>7332370</td>\n",
              "    </tr>\n",
              "    <tr>\n",
              "      <th>4</th>\n",
              "      <td>5</td>\n",
              "      <td>5009985</td>\n",
              "      <td>4511909</td>\n",
              "    </tr>\n",
              "  </tbody>\n",
              "</table>\n",
              "</div>"
            ],
            "text/plain": [
              "   id  node1_id  node2_id\n",
              "0   1   7107094   8010772\n",
              "1   2   7995251   2805801\n",
              "2   3   2804693   8059549\n",
              "3   4   4812472   7332370\n",
              "4   5   5009985   4511909"
            ]
          },
          "metadata": {
            "tags": []
          },
          "execution_count": 14
        }
      ]
    },
    {
      "metadata": {
        "id": "aZcqIbVIQrhe",
        "colab_type": "code",
        "colab": {
          "base_uri": "https://localhost:8080/",
          "height": 35
        },
        "outputId": "544e3a63-4a04-486a-b6ae-1f4ab47f2894"
      },
      "cell_type": "code",
      "source": [
        "test_df.shape"
      ],
      "execution_count": 15,
      "outputs": [
        {
          "output_type": "execute_result",
          "data": {
            "text/plain": [
              "(11776968, 3)"
            ]
          },
          "metadata": {
            "tags": []
          },
          "execution_count": 15
        }
      ]
    },
    {
      "metadata": {
        "id": "guvUGz6GDs5c",
        "colab_type": "code",
        "outputId": "0d154b77-65e7-4834-8a85-8baf0f6438f3",
        "colab": {
          "base_uri": "https://localhost:8080/",
          "height": 202
        }
      },
      "cell_type": "code",
      "source": [
        "user_features_df = pd.read_csv('user_features.csv')\n",
        "user_features_df.head()"
      ],
      "execution_count": 16,
      "outputs": [
        {
          "output_type": "execute_result",
          "data": {
            "text/html": [
              "<div>\n",
              "<style scoped>\n",
              "    .dataframe tbody tr th:only-of-type {\n",
              "        vertical-align: middle;\n",
              "    }\n",
              "\n",
              "    .dataframe tbody tr th {\n",
              "        vertical-align: top;\n",
              "    }\n",
              "\n",
              "    .dataframe thead th {\n",
              "        text-align: right;\n",
              "    }\n",
              "</style>\n",
              "<table border=\"1\" class=\"dataframe\">\n",
              "  <thead>\n",
              "    <tr style=\"text-align: right;\">\n",
              "      <th></th>\n",
              "      <th>node_id</th>\n",
              "      <th>f1</th>\n",
              "      <th>f2</th>\n",
              "      <th>f3</th>\n",
              "      <th>f4</th>\n",
              "      <th>f5</th>\n",
              "      <th>f6</th>\n",
              "      <th>f7</th>\n",
              "      <th>f8</th>\n",
              "      <th>f9</th>\n",
              "      <th>f10</th>\n",
              "      <th>f11</th>\n",
              "      <th>f12</th>\n",
              "      <th>f13</th>\n",
              "    </tr>\n",
              "  </thead>\n",
              "  <tbody>\n",
              "    <tr>\n",
              "      <th>0</th>\n",
              "      <td>2</td>\n",
              "      <td>14</td>\n",
              "      <td>14</td>\n",
              "      <td>14</td>\n",
              "      <td>12</td>\n",
              "      <td>12</td>\n",
              "      <td>12</td>\n",
              "      <td>7</td>\n",
              "      <td>7</td>\n",
              "      <td>7</td>\n",
              "      <td>0</td>\n",
              "      <td>0</td>\n",
              "      <td>0</td>\n",
              "      <td>15</td>\n",
              "    </tr>\n",
              "    <tr>\n",
              "      <th>1</th>\n",
              "      <td>3</td>\n",
              "      <td>31</td>\n",
              "      <td>9</td>\n",
              "      <td>7</td>\n",
              "      <td>31</td>\n",
              "      <td>16</td>\n",
              "      <td>12</td>\n",
              "      <td>31</td>\n",
              "      <td>15</td>\n",
              "      <td>12</td>\n",
              "      <td>31</td>\n",
              "      <td>15</td>\n",
              "      <td>12</td>\n",
              "      <td>8</td>\n",
              "    </tr>\n",
              "    <tr>\n",
              "      <th>2</th>\n",
              "      <td>4</td>\n",
              "      <td>0</td>\n",
              "      <td>0</td>\n",
              "      <td>0</td>\n",
              "      <td>0</td>\n",
              "      <td>0</td>\n",
              "      <td>0</td>\n",
              "      <td>0</td>\n",
              "      <td>0</td>\n",
              "      <td>0</td>\n",
              "      <td>0</td>\n",
              "      <td>0</td>\n",
              "      <td>0</td>\n",
              "      <td>7</td>\n",
              "    </tr>\n",
              "    <tr>\n",
              "      <th>3</th>\n",
              "      <td>5</td>\n",
              "      <td>31</td>\n",
              "      <td>4</td>\n",
              "      <td>1</td>\n",
              "      <td>31</td>\n",
              "      <td>7</td>\n",
              "      <td>1</td>\n",
              "      <td>31</td>\n",
              "      <td>9</td>\n",
              "      <td>1</td>\n",
              "      <td>31</td>\n",
              "      <td>9</td>\n",
              "      <td>0</td>\n",
              "      <td>15</td>\n",
              "    </tr>\n",
              "    <tr>\n",
              "      <th>4</th>\n",
              "      <td>6</td>\n",
              "      <td>31</td>\n",
              "      <td>27</td>\n",
              "      <td>20</td>\n",
              "      <td>31</td>\n",
              "      <td>24</td>\n",
              "      <td>14</td>\n",
              "      <td>31</td>\n",
              "      <td>20</td>\n",
              "      <td>10</td>\n",
              "      <td>31</td>\n",
              "      <td>20</td>\n",
              "      <td>5</td>\n",
              "      <td>7</td>\n",
              "    </tr>\n",
              "  </tbody>\n",
              "</table>\n",
              "</div>"
            ],
            "text/plain": [
              "   node_id  f1  f2  f3  f4  f5  f6  f7  f8  f9  f10  f11  f12  f13\n",
              "0        2  14  14  14  12  12  12   7   7   7    0    0    0   15\n",
              "1        3  31   9   7  31  16  12  31  15  12   31   15   12    8\n",
              "2        4   0   0   0   0   0   0   0   0   0    0    0    0    7\n",
              "3        5  31   4   1  31   7   1  31   9   1   31    9    0   15\n",
              "4        6  31  27  20  31  24  14  31  20  10   31   20    5    7"
            ]
          },
          "metadata": {
            "tags": []
          },
          "execution_count": 16
        }
      ]
    },
    {
      "metadata": {
        "id": "tfCRsTXcuHas",
        "colab_type": "code",
        "outputId": "b98c4b83-6c61-487f-8299-b528e0fb0eb3",
        "colab": {
          "base_uri": "https://localhost:8080/",
          "height": 72
        }
      },
      "cell_type": "code",
      "source": [
        "!pip install networkx"
      ],
      "execution_count": 17,
      "outputs": [
        {
          "output_type": "stream",
          "text": [
            "Requirement already satisfied: networkx in /usr/local/lib/python3.6/dist-packages (2.2)\n",
            "Requirement already satisfied: decorator>=4.3.0 in /usr/local/lib/python3.6/dist-packages (from networkx) (4.4.0)\n"
          ],
          "name": "stdout"
        }
      ]
    },
    {
      "metadata": {
        "id": "18be45zuZZ8l",
        "colab_type": "code",
        "outputId": "949ba512-385c-4aee-d104-249b0c6dc649",
        "colab": {
          "base_uri": "https://localhost:8080/",
          "height": 69
        }
      },
      "cell_type": "code",
      "source": [
        "user_features_df.columns"
      ],
      "execution_count": 18,
      "outputs": [
        {
          "output_type": "execute_result",
          "data": {
            "text/plain": [
              "Index(['node_id', 'f1', 'f2', 'f3', 'f4', 'f5', 'f6', 'f7', 'f8', 'f9', 'f10',\n",
              "       'f11', 'f12', 'f13'],\n",
              "      dtype='object')"
            ]
          },
          "metadata": {
            "tags": []
          },
          "execution_count": 18
        }
      ]
    },
    {
      "metadata": {
        "id": "WjFQjkyKl2mW",
        "colab_type": "code",
        "colab": {}
      },
      "cell_type": "code",
      "source": [
        "# # for each training example we need to compute features\n",
        "# # in this baseline we will train the model on only 5% of the training set\n",
        "\n",
        "# # randomly select 5% of training set\n",
        "# to_keep = random.sample(range(len(train_df)), k=int(round(len(train_df)*0.05)))\n",
        "# # training_set_reduced = [train_df[i] for i in to_keep]"
      ],
      "execution_count": 0,
      "outputs": []
    },
    {
      "metadata": {
        "id": "k7M3SIlPaye1",
        "colab_type": "code",
        "outputId": "f52821f6-1ad7-4594-da15-c7adfea6254c",
        "colab": {
          "base_uri": "https://localhost:8080/",
          "height": 141
        }
      },
      "cell_type": "code",
      "source": [
        "training_set_reduced = train_df.sample(frac=0.0005)\n",
        "training_set_reduced.head(3)"
      ],
      "execution_count": 20,
      "outputs": [
        {
          "output_type": "execute_result",
          "data": {
            "text/html": [
              "<div>\n",
              "<style scoped>\n",
              "    .dataframe tbody tr th:only-of-type {\n",
              "        vertical-align: middle;\n",
              "    }\n",
              "\n",
              "    .dataframe tbody tr th {\n",
              "        vertical-align: top;\n",
              "    }\n",
              "\n",
              "    .dataframe thead th {\n",
              "        text-align: right;\n",
              "    }\n",
              "</style>\n",
              "<table border=\"1\" class=\"dataframe\">\n",
              "  <thead>\n",
              "    <tr style=\"text-align: right;\">\n",
              "      <th></th>\n",
              "      <th>node1_id</th>\n",
              "      <th>node2_id</th>\n",
              "      <th>is_chat</th>\n",
              "    </tr>\n",
              "  </thead>\n",
              "  <tbody>\n",
              "    <tr>\n",
              "      <th>59103891</th>\n",
              "      <td>7138399</td>\n",
              "      <td>4780120</td>\n",
              "      <td>0</td>\n",
              "    </tr>\n",
              "    <tr>\n",
              "      <th>60189937</th>\n",
              "      <td>52249</td>\n",
              "      <td>2583694</td>\n",
              "      <td>0</td>\n",
              "    </tr>\n",
              "    <tr>\n",
              "      <th>3170375</th>\n",
              "      <td>1216239</td>\n",
              "      <td>1807852</td>\n",
              "      <td>0</td>\n",
              "    </tr>\n",
              "  </tbody>\n",
              "</table>\n",
              "</div>"
            ],
            "text/plain": [
              "          node1_id  node2_id  is_chat\n",
              "59103891   7138399   4780120        0\n",
              "60189937     52249   2583694        0\n",
              "3170375    1216239   1807852        0"
            ]
          },
          "metadata": {
            "tags": []
          },
          "execution_count": 20
        }
      ]
    },
    {
      "metadata": {
        "id": "h8O7Cq-6bFVK",
        "colab_type": "code",
        "outputId": "e2d426d6-3774-44f3-c472-67ad3ce98c0f",
        "colab": {
          "base_uri": "https://localhost:8080/",
          "height": 87
        }
      },
      "cell_type": "code",
      "source": [
        "print(training_set_reduced.shape)\n",
        "print(training_set_reduced['is_chat'].value_counts())"
      ],
      "execution_count": 21,
      "outputs": [
        {
          "output_type": "stream",
          "text": [
            "(35331, 3)\n",
            "0    34215\n",
            "1     1116\n",
            "Name: is_chat, dtype: int64\n"
          ],
          "name": "stdout"
        }
      ]
    },
    {
      "metadata": {
        "id": "-bS5-fnfbeHf",
        "colab_type": "code",
        "colab": {}
      },
      "cell_type": "code",
      "source": [
        "# print(training_set_reduced.iloc[0][0])\n",
        "# print(training_set_reduced.iloc[0][1])\n",
        "\n",
        "# source = training_set_reduced.iloc[0][0]\n",
        "# target = training_set_reduced.iloc[0][1]\n"
      ],
      "execution_count": 0,
      "outputs": []
    },
    {
      "metadata": {
        "id": "ygzpo3XP5vCo",
        "colab_type": "code",
        "colab": {}
      },
      "cell_type": "code",
      "source": [
        "# source_list = list(training_set_reduced['node1_id'])\n",
        "# target_list = list(training_set_reduced['node2_id'])"
      ],
      "execution_count": 0,
      "outputs": []
    },
    {
      "metadata": {
        "id": "Y6IiXTaVfwpK",
        "colab_type": "code",
        "colab": {}
      },
      "cell_type": "code",
      "source": [
        "# user_features_df_list = list(user_features_df.values)"
      ],
      "execution_count": 0,
      "outputs": []
    },
    {
      "metadata": {
        "id": "FJiTTl8ljk2p",
        "colab_type": "code",
        "colab": {}
      },
      "cell_type": "code",
      "source": [
        "# write python dict to a file\n",
        "\n",
        "# user_features_df_dict = user_features_df.set_index('node_id').T.to_dict('list')\n",
        "\n",
        "# output = open('user_features_df_dict.pkl', 'wb')\n",
        "# pickle.dump(user_features_df_dict, output)\n",
        "# output.close()"
      ],
      "execution_count": 0,
      "outputs": []
    },
    {
      "metadata": {
        "id": "yIg4eKYyoJME",
        "colab_type": "code",
        "colab": {}
      },
      "cell_type": "code",
      "source": [
        "# file_id = '12yMza2_i50Wxm05ZRk8nGu8HtAw5SS13'\n",
        "# # https://drive.google.com/open?id=12yMza2_i50Wxm05ZRk8nGu8HtAw5SS13\n",
        "# downloaded = drive.CreateFile({'id': file_id})\n",
        "# downloaded.GetContentFile('user_features_df_dict.pkl')"
      ],
      "execution_count": 0,
      "outputs": []
    },
    {
      "metadata": {
        "id": "mZdmp39Uplo6",
        "colab_type": "code",
        "colab": {}
      },
      "cell_type": "code",
      "source": [
        "# # read python dict back from the file\n",
        "# pkl_file = open('user_features_df_dict.pkl', 'rb')\n",
        "# user_features_df_dict = pickle.load(pkl_file)\n",
        "# pkl_file.close()"
      ],
      "execution_count": 0,
      "outputs": []
    },
    {
      "metadata": {
        "id": "s6FcsY8ppzde",
        "colab_type": "code",
        "colab": {}
      },
      "cell_type": "code",
      "source": [
        "# print(len(user_features_df_dict))"
      ],
      "execution_count": 0,
      "outputs": []
    },
    {
      "metadata": {
        "id": "8PQNVWSb62GP",
        "colab_type": "code",
        "colab": {}
      },
      "cell_type": "code",
      "source": [
        "# print(len(source_list))\n",
        "# print(len(target_list))"
      ],
      "execution_count": 0,
      "outputs": []
    },
    {
      "metadata": {
        "id": "FQGusf0o4viJ",
        "colab_type": "code",
        "colab": {}
      },
      "cell_type": "code",
      "source": [
        "# %%timeit\n",
        "# new_dict_source = dict((k, v) for k, v in user_features_df_dict.items() if k in source_list)\n",
        "# new_dict_target = dict((k, v) for k, v in user_features_df_dict.items() if k in target_list)\n",
        "\n",
        "# print(len(new_dict_source))\n",
        "# print(len(new_dict_target))"
      ],
      "execution_count": 0,
      "outputs": []
    },
    {
      "metadata": {
        "id": "K7OPTAIlwDg8",
        "colab_type": "code",
        "colab": {}
      },
      "cell_type": "code",
      "source": [
        "# output = open('new_dict_source.pkl', 'wb')\n",
        "# pickle.dump(new_dict_source, output)\n",
        "# output.close()\n",
        "\n",
        "\n",
        "# output = open('new_dict_target.pkl', 'wb')\n",
        "# pickle.dump(new_dict_target, output)\n",
        "# output.close()"
      ],
      "execution_count": 0,
      "outputs": []
    },
    {
      "metadata": {
        "id": "j7vgIRhpgpEY",
        "colab_type": "code",
        "colab": {}
      },
      "cell_type": "code",
      "source": [
        "# file_id = '1XhY27_XUE1Q1harIyB_jEzGqNCBBaqx_'\n",
        "# # https://drive.google.com/open?id=1XhY27_XUE1Q1harIyB_jEzGqNCBBaqx_\n",
        "# downloaded = drive.CreateFile({'id': file_id})\n",
        "# downloaded.GetContentFile('new_dict_source.pkl')\n",
        "\n",
        "\n",
        "# # read python dict back from the file\n",
        "# pkl_file = open('new_dict_source.pkl', 'rb')\n",
        "# new_dict_source = pickle.load(pkl_file)\n",
        "# pkl_file.close()\n",
        "\n",
        "# file_id = '1OaQPN4416pNu3h_40iF7Y47tOy32FKZq'\n",
        "# # https://drive.google.com/open?id=1OaQPN4416pNu3h_40iF7Y47tOy32FKZq\n",
        "# downloaded = drive.CreateFile({'id': file_id})\n",
        "# downloaded.GetContentFile('new_dict_target.pkl')\n",
        "\n",
        "\n",
        "# # read python dict back from the file\n",
        "# pkl_file = open('new_dict_target.pkl', 'rb')\n",
        "# new_dict_target = pickle.load(pkl_file)\n",
        "# pkl_file.close()"
      ],
      "execution_count": 0,
      "outputs": []
    },
    {
      "metadata": {
        "id": "MUFlHRU5A4bA",
        "colab_type": "code",
        "colab": {}
      },
      "cell_type": "code",
      "source": [
        "# print(len(new_dict_target))\n",
        "# print(len(new_dict_source))"
      ],
      "execution_count": 0,
      "outputs": []
    },
    {
      "metadata": {
        "id": "mYq5iA41EWUl",
        "colab_type": "code",
        "colab": {}
      },
      "cell_type": "code",
      "source": [
        "# ls1 = list(new_dict_source.keys())\n",
        "# print(len(ls1))"
      ],
      "execution_count": 0,
      "outputs": []
    },
    {
      "metadata": {
        "id": "6Z3f8oSyEFza",
        "colab_type": "code",
        "colab": {}
      },
      "cell_type": "code",
      "source": [
        "# ls2 = list(new_dict_target.keys())\n",
        "# print(len(ls2))"
      ],
      "execution_count": 0,
      "outputs": []
    },
    {
      "metadata": {
        "id": "T-qMSR8HQ53o",
        "colab_type": "code",
        "colab": {
          "base_uri": "https://localhost:8080/",
          "height": 171
        },
        "outputId": "c29720cd-fe08-4df2-a317-be66fd7533fb"
      },
      "cell_type": "code",
      "source": [
        "test_df.head(4)"
      ],
      "execution_count": 35,
      "outputs": [
        {
          "output_type": "execute_result",
          "data": {
            "text/html": [
              "<div>\n",
              "<style scoped>\n",
              "    .dataframe tbody tr th:only-of-type {\n",
              "        vertical-align: middle;\n",
              "    }\n",
              "\n",
              "    .dataframe tbody tr th {\n",
              "        vertical-align: top;\n",
              "    }\n",
              "\n",
              "    .dataframe thead th {\n",
              "        text-align: right;\n",
              "    }\n",
              "</style>\n",
              "<table border=\"1\" class=\"dataframe\">\n",
              "  <thead>\n",
              "    <tr style=\"text-align: right;\">\n",
              "      <th></th>\n",
              "      <th>id</th>\n",
              "      <th>node1_id</th>\n",
              "      <th>node2_id</th>\n",
              "    </tr>\n",
              "  </thead>\n",
              "  <tbody>\n",
              "    <tr>\n",
              "      <th>0</th>\n",
              "      <td>1</td>\n",
              "      <td>7107094</td>\n",
              "      <td>8010772</td>\n",
              "    </tr>\n",
              "    <tr>\n",
              "      <th>1</th>\n",
              "      <td>2</td>\n",
              "      <td>7995251</td>\n",
              "      <td>2805801</td>\n",
              "    </tr>\n",
              "    <tr>\n",
              "      <th>2</th>\n",
              "      <td>3</td>\n",
              "      <td>2804693</td>\n",
              "      <td>8059549</td>\n",
              "    </tr>\n",
              "    <tr>\n",
              "      <th>3</th>\n",
              "      <td>4</td>\n",
              "      <td>4812472</td>\n",
              "      <td>7332370</td>\n",
              "    </tr>\n",
              "  </tbody>\n",
              "</table>\n",
              "</div>"
            ],
            "text/plain": [
              "   id  node1_id  node2_id\n",
              "0   1   7107094   8010772\n",
              "1   2   7995251   2805801\n",
              "2   3   2804693   8059549\n",
              "3   4   4812472   7332370"
            ]
          },
          "metadata": {
            "tags": []
          },
          "execution_count": 35
        }
      ]
    },
    {
      "metadata": {
        "id": "tkTbs5UuO9Sq",
        "colab_type": "code",
        "colab": {}
      },
      "cell_type": "code",
      "source": [
        "# test_source_node_features = pd.merge(test_df[['node1_id']], user_features_df, how='inner', left_on='node1_id', right_on='node_id')\n",
        "# print(test_source_node_features.shape)\n",
        "# print(test_source_node_features.head(4))\n",
        "\n",
        "# # dropping ALL duplicte values \n",
        "# test_source_node_features.drop_duplicates(subset =\"node1_id\", keep = False, inplace = True) \n",
        "# print(test_source_node_features.shape)\n",
        "# print(test_source_node_features.head(4))\n",
        "\n",
        "# test_source_node_features.drop(['node_id'], axis=1, inplace= True)\n",
        "\n",
        "# print(test_source_node_features.shape)\n",
        "# print(test_source_node_features.head(4))"
      ],
      "execution_count": 0,
      "outputs": []
    },
    {
      "metadata": {
        "id": "GbwyNR3nSDco",
        "colab_type": "code",
        "colab": {}
      },
      "cell_type": "code",
      "source": [
        "# test_target_node_features = pd.merge(test_df[['node2_id']], user_features_df, how='inner', left_on='node2_id', right_on='node_id')\n",
        "# print(test_target_node_features.shape)\n",
        "# print(test_target_node_features.head(4))\n",
        "\n",
        "# # dropping ALL duplicte values \n",
        "# test_target_node_features.drop_duplicates(subset =\"node2_id\", keep = False, inplace = True) \n",
        "# print(test_target_node_features.shape)\n",
        "# print(test_target_node_features.head(4))\n",
        "\n",
        "# test_target_node_features.drop(['node_id'], axis=1, inplace= True)\n",
        "\n",
        "# print(test_target_node_features.shape)\n",
        "# print(test_target_node_features.head(4))"
      ],
      "execution_count": 0,
      "outputs": []
    },
    {
      "metadata": {
        "id": "5Z1BcRkCSbnD",
        "colab_type": "code",
        "colab": {
          "base_uri": "https://localhost:8080/",
          "height": 537
        },
        "outputId": "a88ec2b4-9edb-4121-b04d-524d670fbcd4"
      },
      "cell_type": "code",
      "source": [
        "s1 = pd.merge(test_df, user_features_df, how='left', left_on='node1_id', right_on='node_id')\n",
        "print(s1.shape)\n",
        "print(s1.head(4))\n",
        "\n",
        "s1.drop(['node_id'],axis=1,inplace= True)\n",
        "s1.rename(columns={'f1': 'f1_node1', 'f2': 'f2_node1', 'f3': 'f3_node1',\n",
        "                   'f4': 'f4_node1', 'f5': 'f5_node1', 'f6': 'f6_node1',\n",
        "                   'f7': 'f7_node1', 'f8': 'f8_node1', 'f9': 'f9_node1',\n",
        "                   'f10': 'f10_node1', 'f11': 'f11_node1', 'f12': 'f12_node1',\n",
        "                   'f13': 'f13_node1'                  \n",
        "                  }, inplace=True)\n",
        "\n",
        "\n",
        "\n",
        "print(s1.shape)\n",
        "print(s1.head(4))"
      ],
      "execution_count": 38,
      "outputs": [
        {
          "output_type": "stream",
          "text": [
            "(11776968, 17)\n",
            "   id  node1_id  node2_id  node_id  f1  f2  f3  f4  f5  f6  f7  f8  f9  f10  \\\n",
            "0   1   7107094   8010772  7107094  31   6   1  31   6   1  31   8   1   31   \n",
            "1   2   7995251   2805801  7995251   0   0   0   0   0   0   0   0   0    6   \n",
            "2   3   2804693   8059549  2804693   1   1   1   0   0   0   0   0   0    0   \n",
            "3   4   4812472   7332370  4812472  14   5   1  12   4   1   6   3   1    0   \n",
            "\n",
            "   f11  f12  f13  \n",
            "0    9    1   15  \n",
            "1    0    0    7  \n",
            "2    0    0   15  \n",
            "3    0    0   15  \n",
            "(11776968, 16)\n",
            "   id  node1_id  node2_id  f1_node1  f2_node1  f3_node1  f4_node1  f5_node1  \\\n",
            "0   1   7107094   8010772        31         6         1        31         6   \n",
            "1   2   7995251   2805801         0         0         0         0         0   \n",
            "2   3   2804693   8059549         1         1         1         0         0   \n",
            "3   4   4812472   7332370        14         5         1        12         4   \n",
            "\n",
            "   f6_node1  f7_node1  f8_node1  f9_node1  f10_node1  f11_node1  f12_node1  \\\n",
            "0         1        31         8         1         31          9          1   \n",
            "1         0         0         0         0          6          0          0   \n",
            "2         0         0         0         0          0          0          0   \n",
            "3         1         6         3         1          0          0          0   \n",
            "\n",
            "   f13_node1  \n",
            "0         15  \n",
            "1          7  \n",
            "2         15  \n",
            "3         15  \n"
          ],
          "name": "stdout"
        }
      ]
    },
    {
      "metadata": {
        "id": "bWrRIR2EXDHM",
        "colab_type": "code",
        "colab": {
          "base_uri": "https://localhost:8080/",
          "height": 260
        },
        "outputId": "99ee532f-ff74-4612-876f-c7e8b6ad80cc"
      },
      "cell_type": "code",
      "source": [
        "s2 = pd.merge(s1, user_features_df, how='left', left_on='node2_id', right_on='node_id')\n",
        "print(s2.shape)\n",
        "print(s2.head(4))\n",
        "\n"
      ],
      "execution_count": 39,
      "outputs": [
        {
          "output_type": "stream",
          "text": [
            "(11776968, 30)\n",
            "   id  node1_id  node2_id  f1_node1  f2_node1  f3_node1  f4_node1  f5_node1  \\\n",
            "0   1   7107094   8010772        31         6         1        31         6   \n",
            "1   2   7995251   2805801         0         0         0         0         0   \n",
            "2   3   2804693   8059549         1         1         1         0         0   \n",
            "3   4   4812472   7332370        14         5         1        12         4   \n",
            "\n",
            "   f6_node1  f7_node1 ...   f4  f5  f6  f7  f8  f9  f10  f11  f12  f13  \n",
            "0         1        31 ...   31  24   3  31  25   3   31   26    4   15  \n",
            "1         0         0 ...    0   0   0   0   0   0    0    0    0    7  \n",
            "2         0         0 ...    0   0   0   0   0   0    0    0    0   15  \n",
            "3         1         6 ...    0   0   0   1   1   0    1    1    0   15  \n",
            "\n",
            "[4 rows x 30 columns]\n"
          ],
          "name": "stdout"
        }
      ]
    },
    {
      "metadata": {
        "id": "jZFVnXLgYzZT",
        "colab_type": "code",
        "colab": {
          "base_uri": "https://localhost:8080/",
          "height": 121
        },
        "outputId": "38bcd82c-376d-4f27-86b1-ef923770f780"
      },
      "cell_type": "code",
      "source": [
        "s2.columns"
      ],
      "execution_count": 40,
      "outputs": [
        {
          "output_type": "execute_result",
          "data": {
            "text/plain": [
              "Index(['id', 'node1_id', 'node2_id', 'f1_node1', 'f2_node1', 'f3_node1',\n",
              "       'f4_node1', 'f5_node1', 'f6_node1', 'f7_node1', 'f8_node1', 'f9_node1',\n",
              "       'f10_node1', 'f11_node1', 'f12_node1', 'f13_node1', 'node_id', 'f1',\n",
              "       'f2', 'f3', 'f4', 'f5', 'f6', 'f7', 'f8', 'f9', 'f10', 'f11', 'f12',\n",
              "       'f13'],\n",
              "      dtype='object')"
            ]
          },
          "metadata": {
            "tags": []
          },
          "execution_count": 40
        }
      ]
    },
    {
      "metadata": {
        "id": "8Ew9_eCJbouZ",
        "colab_type": "code",
        "colab": {}
      },
      "cell_type": "code",
      "source": [
        "del [[s1]]\n",
        "import gc\n",
        "gc.collect()\n",
        "s1=pd.DataFrame()\n",
        "\n",
        "\n"
      ],
      "execution_count": 0,
      "outputs": []
    },
    {
      "metadata": {
        "id": "r4_5QATtcQk2",
        "colab_type": "code",
        "colab": {}
      },
      "cell_type": "code",
      "source": [
        "s2['f1_sum'] = s2['f1_node1']+s2['f1']\n",
        "s2['f2_sum'] = s2['f2_node1']+s2['f2']\n",
        "s2['f3_sum'] = s2['f3_node1']+s2['f3']\n",
        "s2['f4_sum'] = s2['f4_node1']+s2['f4']\n",
        "s2['f5_sum'] = s2['f5_node1']+s2['f5']\n",
        "s2['f6_sum'] = s2['f6_node1']+s2['f6']\n",
        "s2['f7_sum'] = s2['f7_node1']+s2['f7']\n",
        "s2['f8_sum'] = s2['f8_node1']+s2['f8']\n",
        "s2['f9_sum'] = s2['f9_node1']+s2['f9']\n",
        "s2['f10_sum'] = s2['f10_node1']+s2['f10']\n",
        "s2['f11_sum'] = s2['f11_node1']+s2['f11']\n",
        "s2['f12_sum'] = s2['f12_node1']+s2['f12']\n",
        "s2['f13_sum'] = s2['f13_node1']+s2['f13']\n",
        "s2.drop(['node1_id', 'node2_id', 'f1_node1', 'f2_node1', 'f3_node1',\n",
        "       'f4_node1', 'f5_node1', 'f6_node1', 'f7_node1', 'f8_node1', 'f9_node1',\n",
        "       'f10_node1', 'f11_node1', 'f12_node1', 'f13_node1', 'node_id', 'f1',\n",
        "       'f2', 'f3', 'f4', 'f5', 'f6', 'f7', 'f8', 'f9', 'f10', 'f11', 'f12',\n",
        "       'f13'], axis=1, inplace=True)\n",
        "print(s2.shape)\n",
        "print(s2.head(3))\n"
      ],
      "execution_count": 0,
      "outputs": []
    },
    {
      "metadata": {
        "id": "1eY6Cy5QXeCi",
        "colab_type": "code",
        "colab": {}
      },
      "cell_type": "code",
      "source": [
        "# s2.drop(['node_id'],axis=1,inplace= True)\n",
        "# s2.rename(columns={'f1': 'f1_node2', 'f2': 'f2_node2', 'f3': 'f3_node2',\n",
        "#                    'f4': 'f4_node2', 'f5': 'f5_node2', 'f6': 'f6_node2',\n",
        "#                    'f7': 'f7_node2', 'f8': 'f8_node2', 'f9': 'f9_node2',\n",
        "#                    'f10': 'f10_node2', 'f11': 'f11_node2', 'f12': 'f12_node2',\n",
        "#                    'f13': 'f13_node2'                  \n",
        "#                   }, inplace=True)\n",
        "\n",
        "\n",
        "# print(s2.shape)\n",
        "# print(s2.head(4))"
      ],
      "execution_count": 0,
      "outputs": []
    },
    {
      "metadata": {
        "id": "LDC8AP5AnT_q",
        "colab_type": "text"
      },
      "cell_type": "markdown",
      "source": [
        "## Test dictionary mapping\n"
      ]
    },
    {
      "metadata": {
        "id": "m5Jub9BZnTSu",
        "colab_type": "code",
        "colab": {
          "base_uri": "https://localhost:8080/",
          "height": 255
        },
        "outputId": "a660301f-d889-485d-c254-b5626eec4ec6"
      },
      "cell_type": "code",
      "source": [
        "source_test_list = list(test_df['node1_id'])\n",
        "target_test_list = list(test_df['node2_id'])\n",
        "\n",
        "new_dict_test_source = dict((k, v) for k, v in user_features_df_dict.items() if k in source_test_list)\n",
        "new_dict_test_target = dict((k, v) for k, v in user_features_df_dict.items() if k in target_test_list)\n",
        "\n",
        "print(len(new_dict_test_source))\n",
        "print(len(new_dict_test_target))\n",
        "\n",
        "output = open('new_dict_test_source.pkl', 'wb')\n",
        "pickle.dump(new_dict_test_source, output)\n",
        "output.close()\n",
        "\n",
        "from google.colab import files\n",
        "files.download('new_dict_test_source.pkl')\n",
        "\n",
        "\n",
        "output = open('new_dict_test_target.pkl', 'wb')\n",
        "pickle.dump(new_dict_test_target, output)\n",
        "output.close()\n",
        "\n",
        "from google.colab import files\n",
        "files.download('new_dict_test_target.pkl')\n",
        "\n",
        "# # read python dict back from the file\n",
        "# pkl_file = open('new_dict_test_source.pkl', 'rb')\n",
        "# new_dict_test_source = pickle.load(pkl_file)\n",
        "# pkl_file.close()\n",
        "\n",
        "\n",
        "\n",
        "\n",
        "# # read python dict back from the file\n",
        "# pkl_file = open('new_dict_test_target.pkl', 'rb')\n",
        "# new_dict_test_target = pickle.load(pkl_file)\n",
        "# pkl_file.close()"
      ],
      "execution_count": 1,
      "outputs": [
        {
          "output_type": "error",
          "ename": "NameError",
          "evalue": "ignored",
          "traceback": [
            "\u001b[0;31m---------------------------------------------------------------------------\u001b[0m",
            "\u001b[0;31mNameError\u001b[0m                                 Traceback (most recent call last)",
            "\u001b[0;32m<ipython-input-1-2e3f8413c96e>\u001b[0m in \u001b[0;36m<module>\u001b[0;34m()\u001b[0m\n\u001b[0;32m----> 1\u001b[0;31m \u001b[0msource_test_list\u001b[0m \u001b[0;34m=\u001b[0m \u001b[0mlist\u001b[0m\u001b[0;34m(\u001b[0m\u001b[0mtest_df\u001b[0m\u001b[0;34m[\u001b[0m\u001b[0;34m'node1_id'\u001b[0m\u001b[0;34m]\u001b[0m\u001b[0;34m)\u001b[0m\u001b[0;34m\u001b[0m\u001b[0;34m\u001b[0m\u001b[0m\n\u001b[0m\u001b[1;32m      2\u001b[0m \u001b[0mtarget_test_list\u001b[0m \u001b[0;34m=\u001b[0m \u001b[0mlist\u001b[0m\u001b[0;34m(\u001b[0m\u001b[0mtest_df\u001b[0m\u001b[0;34m[\u001b[0m\u001b[0;34m'node2_id'\u001b[0m\u001b[0;34m]\u001b[0m\u001b[0;34m)\u001b[0m\u001b[0;34m\u001b[0m\u001b[0;34m\u001b[0m\u001b[0m\n\u001b[1;32m      3\u001b[0m \u001b[0;34m\u001b[0m\u001b[0m\n\u001b[1;32m      4\u001b[0m \u001b[0mnew_dict_test_source\u001b[0m \u001b[0;34m=\u001b[0m \u001b[0mdict\u001b[0m\u001b[0;34m(\u001b[0m\u001b[0;34m(\u001b[0m\u001b[0mk\u001b[0m\u001b[0;34m,\u001b[0m \u001b[0mv\u001b[0m\u001b[0;34m)\u001b[0m \u001b[0;32mfor\u001b[0m \u001b[0mk\u001b[0m\u001b[0;34m,\u001b[0m \u001b[0mv\u001b[0m \u001b[0;32min\u001b[0m \u001b[0muser_features_df_dict\u001b[0m\u001b[0;34m.\u001b[0m\u001b[0mitems\u001b[0m\u001b[0;34m(\u001b[0m\u001b[0;34m)\u001b[0m \u001b[0;32mif\u001b[0m \u001b[0mk\u001b[0m \u001b[0;32min\u001b[0m \u001b[0msource_test_list\u001b[0m\u001b[0;34m)\u001b[0m\u001b[0;34m\u001b[0m\u001b[0;34m\u001b[0m\u001b[0m\n\u001b[1;32m      5\u001b[0m \u001b[0mnew_dict_test_target\u001b[0m \u001b[0;34m=\u001b[0m \u001b[0mdict\u001b[0m\u001b[0;34m(\u001b[0m\u001b[0;34m(\u001b[0m\u001b[0mk\u001b[0m\u001b[0;34m,\u001b[0m \u001b[0mv\u001b[0m\u001b[0;34m)\u001b[0m \u001b[0;32mfor\u001b[0m \u001b[0mk\u001b[0m\u001b[0;34m,\u001b[0m \u001b[0mv\u001b[0m \u001b[0;32min\u001b[0m \u001b[0muser_features_df_dict\u001b[0m\u001b[0;34m.\u001b[0m\u001b[0mitems\u001b[0m\u001b[0;34m(\u001b[0m\u001b[0;34m)\u001b[0m \u001b[0;32mif\u001b[0m \u001b[0mk\u001b[0m \u001b[0;32min\u001b[0m \u001b[0mtarget_test_list\u001b[0m\u001b[0;34m)\u001b[0m\u001b[0;34m\u001b[0m\u001b[0;34m\u001b[0m\u001b[0m\n",
            "\u001b[0;31mNameError\u001b[0m: name 'test_df' is not defined"
          ]
        }
      ]
    },
    {
      "metadata": {
        "id": "e6n7vEMko6K_",
        "colab_type": "code",
        "colab": {}
      },
      "cell_type": "code",
      "source": [
        "# def add_source_target(data, user_feat):  \n",
        "#   for i in range(data.shape[0]):\n",
        "#     source = data.iloc[i][0]\n",
        "#     target = data.iloc[i][1]\n",
        "    \n",
        "#     for j in range(user_feat.shape[0]):\n",
        "#       if (user_feat['node_id'][j] == source):\n",
        "#         user_feat['tag'][j] = 'source'\n",
        "#       elif (user_feat['node_id'][j] == target):\n",
        "#         user_feat['tag'][j] = 'target'\n",
        "#       else:\n",
        "#         user_feat['tag'][j] = 'None'++\n",
        "\n",
        "#   return user_feat       "
      ],
      "execution_count": 0,
      "outputs": []
    },
    {
      "metadata": {
        "id": "i5-Y3SAxtJiF",
        "colab_type": "code",
        "colab": {}
      },
      "cell_type": "code",
      "source": [
        "# new_data = add_source_target(training_set_reduced, user_features_df)\n",
        "# new_data.to_csv('new_data.csv')"
      ],
      "execution_count": 0,
      "outputs": []
    },
    {
      "metadata": {
        "id": "n15TlrjrXu_q",
        "colab_type": "code",
        "colab": {}
      },
      "cell_type": "code",
      "source": [
        "# f1_diff, f2_diff, f3_diff, f4_diff, f5_diff, f6_diff, f7_diff,f8_diff, f9_diff, f10_diff, f11_diff, f12_diff, f13_diff = ([] for i in range(13)) \n",
        "\n",
        "# f1_sum, f2_sum, f3_sum, f4_sum, f5_sum, f6_sum, f7_sum,f8_sum, f9_sum, f10_sum, f11_sum, f12_sum, f13_sum = ([] for i in range(13)) \n",
        "\n",
        "\n",
        "# counter = 0\n",
        "# for i in range(training_set_reduced.shape[0]):\n",
        "#     source = training_set_reduced.iloc[i][0]\n",
        "#     target = training_set_reduced.iloc[i][1]\n",
        "    \n",
        "#     source_info = [element for element in user_features_df_list if element[0]==source][0]\n",
        "\n",
        "#     target_info = [element for element in user_features_df_list if element[0]==target][0]\n",
        "  \n",
        "  \n",
        "#     f1_sum.append((source_info[1]) + (target_info[1]))\n",
        "#     f2_sum.append((source_info[2]) + (target_info[2]))\n",
        "#     f3_sum.append((source_info[3]) + (target_info[3]))\n",
        "#     f4_sum.append((source_info[4]) + (target_info[4]))\n",
        "#     f5_sum.append((source_info[5]) + (target_info[5]))\n",
        "#     f6_sum.append((source_info[6]) + (target_info[6]))\n",
        "#     f7_sum.append((source_info[7]) + (target_info[7]))\n",
        "#     f8_sum.append((source_info[8]) + (target_info[8]))\n",
        "#     f9_sum.append((source_info[9]) + (target_info[9]))\n",
        "#     f10_sum.append((source_info[10]) + (target_info[10]))\n",
        "#     f11_sum.append((source_info[11]) + (target_info[11]))\n",
        "#     f12_sum.append((source_info[12]) + (target_info[12]))\n",
        "#     f13_sum.append((source_info[13]) + (target_info[13]))\n",
        "    \n",
        "   \n",
        "#     counter += 1\n",
        "    \n",
        "#     if counter % 1000 == True:\n",
        "#         print(counter, \"training examples processsed\")\n"
      ],
      "execution_count": 0,
      "outputs": []
    },
    {
      "metadata": {
        "id": "0Ji3bLEthxeO",
        "colab_type": "code",
        "colab": {}
      },
      "cell_type": "code",
      "source": [
        "# convert list of lists into array\n",
        "# documents as rows, unique words as columns (i.e., example as rows, features as columns)\n",
        "training_features = np.array([f1_sum, f2_sum, f3_sum, f4_sum, f5_sum, f6_sum, f7_sum,f8_sum, f9_sum, f10_sum, f11_sum, f12_sum, f13_sum]).T\n",
        " \n",
        "\n",
        "# scale\n",
        "training_features = preprocessing.scale(training_features)\n",
        "\n",
        "#save\n",
        "training_features.to_csv('training_features.csv')\n",
        "from google.colab import files\n",
        "files.download('training_features.csv')\n",
        "\n",
        "# convert labels into integers then into column array\n",
        "training_set_reduced_list = list(training_set_reduced.values)\n",
        "\n",
        "labels = [int(element[2]) for element in training_set_reduced_list]\n",
        "labels = list(labels)\n",
        "labels_array = np.array(labels)\n",
        "\n",
        "\n",
        "#labelssave\n",
        "labels_array.to_csv('labels_array.csv')\n",
        "from google.colab import files\n",
        "files.download('labels_array.csv')\n",
        "\n",
        "\n",
        "# initialize basic SVM\n",
        "classifier = svm.LinearSVC()\n",
        "\n",
        "# train\n",
        "classifier.fit(training_features, labels_array)"
      ],
      "execution_count": 0,
      "outputs": []
    },
    {
      "metadata": {
        "id": "ahGqxsYLi0r-",
        "colab_type": "code",
        "colab": {}
      },
      "cell_type": "code",
      "source": [
        "test_df.shape"
      ],
      "execution_count": 0,
      "outputs": []
    },
    {
      "metadata": {
        "id": "R9BAESndYpE4",
        "colab_type": "code",
        "colab": {}
      },
      "cell_type": "code",
      "source": [
        "# # test\n",
        "# # we need to compute the features for the testing set\n",
        "\n",
        "# f1_diff_test, f2_diff_test, f3_diff_test, f4_diff_test, f5_diff_test, f6_diff_test, f7_diff_test,f8_diff_test, f9_diff_test, f10_diff_test, f11_diff_test, f12_diff_test,f13_diff_test  = ([] for i in range(13)) \n",
        "\n",
        "# f1_sum_test, f2_sum_test, f3_sum_test, f4_sum_test, f5_sum_test, f6_sum_test, f7_sum_test,f8_sum_test, f9_sum_test, f10_sum_test, f11_sum_test, f12_sum_test, f13_sum_test = ([] for i in range(13)) \n",
        "\n",
        "\n",
        "\n",
        "# counter = 0\n",
        "# for i in range(test_df.shape[0]):\n",
        "#     source = test_df.iloc[i][0]\n",
        "#     target = test_df.iloc[i][1]\n",
        "    \n",
        "#     source_info = [element for element in user_features_df_list if element[0]==source][0]\n",
        "\n",
        "#     target_info = [element for element in user_features_df_list if element[0]==target][0]\n",
        "  \n",
        "  \n",
        "#     f1_sum_test.append((source_info[1]) + (target_info[1]))\n",
        "#     f2_sum_test.append((source_info[2]) + (target_info[2]))\n",
        "#     f3_sum_test.append((source_info[3]) + (target_info[3]))\n",
        "#     f4_sum_test.append((source_info[4]) + (target_info[4]))\n",
        "#     f5_sum_test.append((source_info[5]) + (target_info[5]))\n",
        "#     f6_sum_test.append((source_info[6]) + (target_info[6]))\n",
        "#     f7_sum_test.append((source_info[7]) + (target_info[7]))\n",
        "#     f8_sum_test.append((source_info[8]) + (target_info[8]))\n",
        "#     f9_sum_test.append((source_info[9]) + (target_info[9]))\n",
        "#     f10_sum_test.append((source_info[10]) + (target_info[10]))\n",
        "#     f11_sum_test.append((source_info[11]) + (target_info[11]))\n",
        "#     f12_sum_test.append((source_info[12]) + (target_info[12]))\n",
        "#     f13_sum_test.append((source_info[13]) + (target_info[13]))\n",
        "    \n",
        "   \n",
        "#     counter += 1\n",
        "    \n",
        "#     if counter % 1000 == True:\n",
        "#         print(counter, \"training examples processsed\")\n",
        "\n"
      ],
      "execution_count": 0,
      "outputs": []
    },
    {
      "metadata": {
        "id": "LFnwXYX9jwod",
        "colab_type": "code",
        "colab": {}
      },
      "cell_type": "code",
      "source": [
        "# # convert list of lists into array\n",
        "# # documents as rows, unique words as columns (i.e., example as rows, features as columns)\n",
        "# testing_features = np.array([f1_sum_test, f2_sum_test, f3_sum_test, f4_sum_test, f5_sum_test, f6_sum_test, f7_sum_test,f8_sum_test, f9_sum_test, f10_sum_test, f11_sum_test, f12_sum_test, f13_sum_test]).T\n",
        "# # scale\n",
        "# testing_features = preprocessing.scale(testing_features)\n",
        "\n",
        "# # issue predictions\n",
        "# predictions_SVM = list(classifier.predict(testing_features))\n",
        "\n",
        "# submission_df['id'] = test_df['id']\n",
        "# submission_df['is_chat'] = pd.DataFrame(predictions_SVM)\n",
        "# submission_df.head(5)\n",
        "\n",
        "\n",
        "\n",
        "# # # write predictions to .csv file suitable for Kaggle (just make sure to add the column names)\n",
        "# # predictions_SVM = zip(range(len(testing_set)), predictions_SVM)\n",
        "\n",
        "# # with open(\"improved_predictions.csv\",\"wb\") as pred1:\n",
        "# #     csv_out = csv.writer(pred1)\n",
        "# #     for row in predictions_SVM:\n",
        "# #         csv_out.writerow(row)"
      ],
      "execution_count": 0,
      "outputs": []
    },
    {
      "metadata": {
        "id": "tflHPjgZndey",
        "colab_type": "code",
        "colab": {}
      },
      "cell_type": "code",
      "source": [
        "# submission_df.to_csv('submission_df.csv')"
      ],
      "execution_count": 0,
      "outputs": []
    },
    {
      "metadata": {
        "id": "tB1ekUvXnUb2",
        "colab_type": "text"
      },
      "cell_type": "markdown",
      "source": [
        "### To create a zip file in python all you need to do is"
      ]
    },
    {
      "metadata": {
        "id": "NGYgS0dFk7Qg",
        "colab_type": "code",
        "colab": {}
      },
      "cell_type": "code",
      "source": [
        "# import zipfile\n",
        "\n",
        "# restoreZip = zipfile.ZipFile(\"submission_df.zip\", \"w\")\n",
        "# restoreZip.write(../content/sample_data, logicalPathOfFileInZip)\n",
        "# restoreZip.close()"
      ],
      "execution_count": 0,
      "outputs": []
    },
    {
      "metadata": {
        "id": "AvoFQEJHq_lI",
        "colab_type": "code",
        "colab": {}
      },
      "cell_type": "code",
      "source": [
        "print(\"Random float number between 2.5 and 22.5 with two decimal places is \", round(random.uniform(0,1), 3))"
      ],
      "execution_count": 0,
      "outputs": []
    },
    {
      "metadata": {
        "id": "ugOm1p2XrCqC",
        "colab_type": "code",
        "colab": {}
      },
      "cell_type": "code",
      "source": [
        "###################\n",
        "# random baseline #\n",
        "###################\n",
        "\n",
        "# random_predictions = np.random.choice([0, 1], size=len(testing_set))\n",
        "# random_predictions = zip(range(len(testing_set)),random_predictions)\n",
        "pred = []\n",
        "\n",
        "for i in range(test_df.shape[0]):\n",
        "  pred.append(round(random.uniform(0,1), 3))\n",
        "\n",
        "pred_df = pd.DataFrame(pred)\n",
        "print(len(pred))"
      ],
      "execution_count": 0,
      "outputs": []
    },
    {
      "metadata": {
        "id": "s9U4uGYRsNTw",
        "colab_type": "code",
        "colab": {}
      },
      "cell_type": "code",
      "source": [
        "print(test_df.shape)"
      ],
      "execution_count": 0,
      "outputs": []
    },
    {
      "metadata": {
        "id": "SriSBy2cs2p_",
        "colab_type": "code",
        "colab": {}
      },
      "cell_type": "code",
      "source": [
        "submission_df['id'] = test_df['id']\n",
        "submission_df['is_chat'] = pd.DataFrame(pred_df)\n",
        "submission_df.head(5)"
      ],
      "execution_count": 0,
      "outputs": []
    },
    {
      "metadata": {
        "id": "vVY3tysStFeN",
        "colab_type": "code",
        "colab": {}
      },
      "cell_type": "code",
      "source": [
        "submission_df.to_csv('submission_df.csv')"
      ],
      "execution_count": 0,
      "outputs": []
    },
    {
      "metadata": {
        "id": "CFspesQGuR6g",
        "colab_type": "code",
        "colab": {}
      },
      "cell_type": "code",
      "source": [
        "# from shutil import make_archive\n",
        "\n",
        "# import shutil\n",
        "# from zipfile import ZipFile\n",
        " \n",
        "# # creates a ZIP archive based on a provided directory\n",
        "# shutil.make_archive('submission_df', 'zip', '/content/')\n",
        " \n",
        "# # writes specified files to a ZIP archive\n",
        "# zip_obj = zipfile.ZipFile('archive.zip', 'w')\n",
        "# zip_obj.write('submission_df.csv')\n",
        "# zip_obj.close()\n"
      ],
      "execution_count": 0,
      "outputs": []
    }
  ]
}