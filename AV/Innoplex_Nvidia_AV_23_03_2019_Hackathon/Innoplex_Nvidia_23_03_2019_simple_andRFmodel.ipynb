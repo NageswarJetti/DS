{
  "nbformat": 4,
  "nbformat_minor": 0,
  "metadata": {
    "colab": {
      "name": "Innoplex_Nvidia_23_03_2019_simple_andRFmodel.ipynb",
      "version": "0.3.2",
      "provenance": [],
      "collapsed_sections": [],
      "toc_visible": true
    },
    "kernelspec": {
      "name": "python3",
      "display_name": "Python 3"
    },
    "accelerator": "GPU"
  },
  "cells": [
    {
      "metadata": {
        "id": "aaJWJ5huuvno",
        "colab_type": "code",
        "outputId": "0f5bfa7b-0559-4a8d-d377-1b7545719bcc",
        "colab": {
          "base_uri": "https://localhost:8080/",
          "height": 245
        }
      },
      "cell_type": "code",
      "source": [
        "# memory footprint support libraries/code\n",
        "!ln -sf /opt/bin/nvidia-smi /usr/bin/nvidia-smi\n",
        "!pip install gputil\n",
        "!pip install psutil\n",
        "!pip install humanize\n",
        "import psutil\n",
        "import humanize\n",
        "import os\n",
        "import GPUtil as GPU\n",
        "GPUs = GPU.getGPUs()\n",
        "# XXX: only one GPU on Colab and isn’t guaranteed\n",
        "gpu = GPUs[0]\n",
        "def printm():\n",
        "  process = psutil.Process(os.getpid())\n",
        "  print(\"Gen RAM Free: \" + humanize.naturalsize( psutil.virtual_memory().available ), \" | Proc size: \" + humanize.naturalsize( process.memory_info().rss))\n",
        "  print(\"GPU RAM Free: {0:.0f}MB | Used: {1:.0f}MB | Util {2:3.0f}% | Total {3:.0f}MB\".format(gpu.memoryFree, gpu.memoryUsed, gpu.memoryUtil*100, gpu.memoryTotal))\n",
        "printm() "
      ],
      "execution_count": 2,
      "outputs": [
        {
          "output_type": "stream",
          "text": [
            "Collecting gputil\n",
            "  Downloading https://files.pythonhosted.org/packages/ed/0e/5c61eedde9f6c87713e89d794f01e378cfd9565847d4576fa627d758c554/GPUtil-1.4.0.tar.gz\n",
            "Building wheels for collected packages: gputil\n",
            "  Building wheel for gputil (setup.py) ... \u001b[?25ldone\n",
            "\u001b[?25h  Stored in directory: /root/.cache/pip/wheels/3d/77/07/80562de4bb0786e5ea186911a2c831fdd0018bda69beab71fd\n",
            "Successfully built gputil\n",
            "Installing collected packages: gputil\n",
            "Successfully installed gputil-1.4.0\n",
            "Requirement already satisfied: psutil in /usr/local/lib/python3.6/dist-packages (5.4.8)\n",
            "Requirement already satisfied: humanize in /usr/local/lib/python3.6/dist-packages (0.5.1)\n",
            "Gen RAM Free: 12.9 GB  | Proc size: 143.0 MB\n",
            "GPU RAM Free: 11441MB | Used: 0MB | Util   0% | Total 11441MB\n"
          ],
          "name": "stdout"
        }
      ]
    },
    {
      "metadata": {
        "id": "WGvxbQGr0hKB",
        "colab_type": "code",
        "colab": {}
      },
      "cell_type": "code",
      "source": [
        "import pandas as pd\n",
        "import numpy as np\n",
        "from sklearn.feature_extraction import DictVectorizer\n",
        "from sklearn.feature_extraction.text import HashingVectorizer\n",
        "from sklearn.linear_model import Perceptron\n",
        "from sklearn.model_selection import train_test_split\n",
        "from sklearn.linear_model import SGDClassifier\n",
        "from sklearn.linear_model import PassiveAggressiveClassifier\n",
        "from sklearn.naive_bayes import MultinomialNB\n",
        "from sklearn.metrics import classification_report\n",
        "import nltk"
      ],
      "execution_count": 0,
      "outputs": []
    },
    {
      "metadata": {
        "id": "77h3YC270uUc",
        "colab_type": "code",
        "colab": {
          "base_uri": "https://localhost:8080/",
          "height": 52
        },
        "outputId": "c92ad022-7812-4470-89cf-727be450c5bd"
      },
      "cell_type": "code",
      "source": [
        "# Install the PyDrive wrapper & import libraries.\n",
        "# This only needs to be done once in a notebook.\n",
        "!pip install -U -q PyDrive\n",
        "from pydrive.auth import GoogleAuth\n",
        "from pydrive.drive import GoogleDrive\n",
        "from google.colab import auth\n",
        "from oauth2client.client import GoogleCredentials\n",
        "\n",
        "# Authenticate and create the PyDrive client.\n",
        "# This only needs to be done once in a notebook.\n",
        "auth.authenticate_user()\n",
        "gauth = GoogleAuth()\n",
        "gauth.credentials = GoogleCredentials.get_application_default()\n",
        "drive = GoogleDrive(gauth)"
      ],
      "execution_count": 4,
      "outputs": [
        {
          "output_type": "stream",
          "text": [
            "\u001b[?25l\r\u001b[K    1% |▎                               | 10kB 14.6MB/s eta 0:00:01\r\u001b[K    2% |▋                               | 20kB 2.4MB/s eta 0:00:01\r\u001b[K    3% |█                               | 30kB 3.5MB/s eta 0:00:01\r\u001b[K    4% |█▎                              | 40kB 2.2MB/s eta 0:00:01\r\u001b[K    5% |█▋                              | 51kB 2.7MB/s eta 0:00:01\r\u001b[K    6% |██                              | 61kB 3.2MB/s eta 0:00:01\r\u001b[K    7% |██▎                             | 71kB 3.7MB/s eta 0:00:01\r\u001b[K    8% |██▋                             | 81kB 4.2MB/s eta 0:00:01\r\u001b[K    9% |███                             | 92kB 4.6MB/s eta 0:00:01\r\u001b[K    10% |███▎                            | 102kB 3.6MB/s eta 0:00:01\r\u001b[K    11% |███▋                            | 112kB 3.6MB/s eta 0:00:01\r\u001b[K    12% |████                            | 122kB 5.0MB/s eta 0:00:01\r\u001b[K    13% |████▎                           | 133kB 5.0MB/s eta 0:00:01\r\u001b[K    14% |████▋                           | 143kB 9.1MB/s eta 0:00:01\r\u001b[K    15% |█████                           | 153kB 9.1MB/s eta 0:00:01\r\u001b[K    16% |█████▎                          | 163kB 9.1MB/s eta 0:00:01\r\u001b[K    17% |█████▋                          | 174kB 9.2MB/s eta 0:00:01\r\u001b[K    18% |██████                          | 184kB 9.3MB/s eta 0:00:01\r\u001b[K    19% |██████▎                         | 194kB 9.3MB/s eta 0:00:01\r\u001b[K    20% |██████▋                         | 204kB 37.3MB/s eta 0:00:01\r\u001b[K    21% |███████                         | 215kB 10.7MB/s eta 0:00:01\r\u001b[K    22% |███████▎                        | 225kB 10.7MB/s eta 0:00:01\r\u001b[K    23% |███████▋                        | 235kB 10.5MB/s eta 0:00:01\r\u001b[K    24% |████████                        | 245kB 10.6MB/s eta 0:00:01\r\u001b[K    25% |████████▎                       | 256kB 10.6MB/s eta 0:00:01\r\u001b[K    26% |████████▋                       | 266kB 10.3MB/s eta 0:00:01\r\u001b[K    27% |█████████                       | 276kB 10.3MB/s eta 0:00:01\r\u001b[K    29% |█████████▎                      | 286kB 10.3MB/s eta 0:00:01\r\u001b[K    30% |█████████▋                      | 296kB 10.3MB/s eta 0:00:01\r\u001b[K    31% |██████████                      | 307kB 10.6MB/s eta 0:00:01\r\u001b[K    32% |██████████▎                     | 317kB 37.9MB/s eta 0:00:01\r\u001b[K    33% |██████████▋                     | 327kB 38.2MB/s eta 0:00:01\r\u001b[K    34% |███████████                     | 337kB 42.7MB/s eta 0:00:01\r\u001b[K    35% |███████████▎                    | 348kB 38.7MB/s eta 0:00:01\r\u001b[K    36% |███████████▋                    | 358kB 38.5MB/s eta 0:00:01\r\u001b[K    37% |████████████                    | 368kB 43.1MB/s eta 0:00:01\r\u001b[K    38% |████████████▎                   | 378kB 44.0MB/s eta 0:00:01\r\u001b[K    39% |████████████▋                   | 389kB 44.5MB/s eta 0:00:01\r\u001b[K    40% |█████████████                   | 399kB 13.4MB/s eta 0:00:01\r\u001b[K    41% |█████████████▎                  | 409kB 13.1MB/s eta 0:00:01\r\u001b[K    42% |█████████████▋                  | 419kB 13.1MB/s eta 0:00:01\r\u001b[K    43% |██████████████                  | 430kB 13.1MB/s eta 0:00:01\r\u001b[K    44% |██████████████▎                 | 440kB 13.0MB/s eta 0:00:01\r\u001b[K    45% |██████████████▋                 | 450kB 13.3MB/s eta 0:00:01\r\u001b[K    46% |███████████████                 | 460kB 13.3MB/s eta 0:00:01\r\u001b[K    47% |███████████████▎                | 471kB 13.3MB/s eta 0:00:01\r\u001b[K    48% |███████████████▋                | 481kB 13.3MB/s eta 0:00:01\r\u001b[K    49% |████████████████                | 491kB 13.3MB/s eta 0:00:01\r\u001b[K    50% |████████████████▎               | 501kB 44.1MB/s eta 0:00:01\r\u001b[K    51% |████████████████▋               | 512kB 44.9MB/s eta 0:00:01\r\u001b[K    52% |█████████████████               | 522kB 44.8MB/s eta 0:00:01\r\u001b[K    53% |█████████████████▎              | 532kB 44.9MB/s eta 0:00:01\r\u001b[K    54% |█████████████████▋              | 542kB 44.4MB/s eta 0:00:01\r\u001b[K    55% |██████████████████              | 552kB 47.0MB/s eta 0:00:01\r\u001b[K    57% |██████████████████▎             | 563kB 46.4MB/s eta 0:00:01\r\u001b[K    58% |██████████████████▋             | 573kB 46.7MB/s eta 0:00:01\r\u001b[K    59% |███████████████████             | 583kB 46.9MB/s eta 0:00:01\r\u001b[K    60% |███████████████████▎            | 593kB 46.9MB/s eta 0:00:01\r\u001b[K    61% |███████████████████▋            | 604kB 46.8MB/s eta 0:00:01\r\u001b[K    62% |████████████████████            | 614kB 49.2MB/s eta 0:00:01\r\u001b[K    63% |████████████████████▎           | 624kB 47.6MB/s eta 0:00:01\r\u001b[K    64% |████████████████████▋           | 634kB 48.9MB/s eta 0:00:01\r\u001b[K    65% |█████████████████████           | 645kB 49.0MB/s eta 0:00:01\r\u001b[K    66% |█████████████████████▎          | 655kB 48.7MB/s eta 0:00:01\r\u001b[K    67% |█████████████████████▋          | 665kB 40.6MB/s eta 0:00:01\r\u001b[K    68% |██████████████████████          | 675kB 16.5MB/s eta 0:00:01\r\u001b[K    69% |██████████████████████▎         | 686kB 16.2MB/s eta 0:00:01\r\u001b[K    70% |██████████████████████▋         | 696kB 16.3MB/s eta 0:00:01\r\u001b[K    71% |███████████████████████         | 706kB 16.3MB/s eta 0:00:01\r\u001b[K    72% |███████████████████████▎        | 716kB 16.5MB/s eta 0:00:01\r\u001b[K    73% |███████████████████████▋        | 727kB 16.8MB/s eta 0:00:01\r\u001b[K    74% |████████████████████████        | 737kB 16.6MB/s eta 0:00:01\r\u001b[K    75% |████████████████████████▎       | 747kB 16.6MB/s eta 0:00:01\r\u001b[K    76% |████████████████████████▋       | 757kB 16.5MB/s eta 0:00:01\r\u001b[K    77% |████████████████████████▉       | 768kB 17.9MB/s eta 0:00:01\r\u001b[K    78% |█████████████████████████▏      | 778kB 51.1MB/s eta 0:00:01\r\u001b[K    79% |█████████████████████████▌      | 788kB 52.7MB/s eta 0:00:01\r\u001b[K    80% |█████████████████████████▉      | 798kB 51.7MB/s eta 0:00:01\r\u001b[K    81% |██████████████████████████▏     | 808kB 49.8MB/s eta 0:00:01\r\u001b[K    82% |██████████████████████████▌     | 819kB 48.8MB/s eta 0:00:01\r\u001b[K    83% |██████████████████████████▉     | 829kB 49.3MB/s eta 0:00:01\r\u001b[K    85% |███████████████████████████▏    | 839kB 49.1MB/s eta 0:00:01\r\u001b[K    86% |███████████████████████████▌    | 849kB 50.4MB/s eta 0:00:01\r\u001b[K    87% |███████████████████████████▉    | 860kB 47.5MB/s eta 0:00:01\r\u001b[K    88% |████████████████████████████▏   | 870kB 47.0MB/s eta 0:00:01\r\u001b[K    89% |████████████████████████████▌   | 880kB 47.3MB/s eta 0:00:01\r\u001b[K    90% |████████████████████████████▉   | 890kB 46.0MB/s eta 0:00:01\r\u001b[K    91% |█████████████████████████████▏  | 901kB 45.6MB/s eta 0:00:01\r\u001b[K    92% |█████████████████████████████▌  | 911kB 47.8MB/s eta 0:00:01\r\u001b[K    93% |█████████████████████████████▉  | 921kB 47.6MB/s eta 0:00:01\r\u001b[K    94% |██████████████████████████████▏ | 931kB 46.6MB/s eta 0:00:01\r\u001b[K    95% |██████████████████████████████▌ | 942kB 47.0MB/s eta 0:00:01\r\u001b[K    96% |██████████████████████████████▉ | 952kB 45.3MB/s eta 0:00:01\r\u001b[K    97% |███████████████████████████████▏| 962kB 48.7MB/s eta 0:00:01\r\u001b[K    98% |███████████████████████████████▌| 972kB 48.1MB/s eta 0:00:01\r\u001b[K    99% |███████████████████████████████▉| 983kB 46.8MB/s eta 0:00:01\r\u001b[K    100% |████████████████████████████████| 993kB 18.6MB/s \n",
            "\u001b[?25h  Building wheel for PyDrive (setup.py) ... \u001b[?25ldone\n",
            "\u001b[?25h"
          ],
          "name": "stdout"
        }
      ]
    },
    {
      "metadata": {
        "id": "OdfzKvlBHZZr",
        "colab_type": "code",
        "colab": {}
      },
      "cell_type": "code",
      "source": [
        "#train.csv\n",
        "\n",
        "# Download a file based on its file ID.\n",
        "# https://drive.google.com/open?id=1A3BLkSn7GOwR7J2ccoIoDoQVOXLeytyR\n",
        "\n",
        "file_id = '1A3BLkSn7GOwR7J2ccoIoDoQVOXLeytyR' #https://drive.google.com/open?id=1R72cIA1deLDdg0aULjcl5OR6tsv-DRaq\n",
        "downloaded = drive.CreateFile({'id': file_id})\n",
        "downloaded.GetContentFile('sample_submission.csv')"
      ],
      "execution_count": 0,
      "outputs": []
    },
    {
      "metadata": {
        "id": "G31U1PXJH4Mo",
        "colab_type": "code",
        "outputId": "2968ff82-b682-4cf6-c67e-bb104f2bc558",
        "colab": {
          "base_uri": "https://localhost:8080/",
          "height": 202
        }
      },
      "cell_type": "code",
      "source": [
        "submission = pd.read_csv('sample_submission.csv', encoding = \"ISO-8859-1\")\n",
        "submission.head()"
      ],
      "execution_count": 6,
      "outputs": [
        {
          "output_type": "execute_result",
          "data": {
            "text/html": [
              "<div>\n",
              "<style scoped>\n",
              "    .dataframe tbody tr th:only-of-type {\n",
              "        vertical-align: middle;\n",
              "    }\n",
              "\n",
              "    .dataframe tbody tr th {\n",
              "        vertical-align: top;\n",
              "    }\n",
              "\n",
              "    .dataframe thead th {\n",
              "        text-align: right;\n",
              "    }\n",
              "</style>\n",
              "<table border=\"1\" class=\"dataframe\">\n",
              "  <thead>\n",
              "    <tr style=\"text-align: right;\">\n",
              "      <th></th>\n",
              "      <th>id</th>\n",
              "      <th>Sent_ID</th>\n",
              "      <th>tag</th>\n",
              "    </tr>\n",
              "  </thead>\n",
              "  <tbody>\n",
              "    <tr>\n",
              "      <th>0</th>\n",
              "      <td>4543834</td>\n",
              "      <td>191283</td>\n",
              "      <td>O</td>\n",
              "    </tr>\n",
              "    <tr>\n",
              "      <th>1</th>\n",
              "      <td>4543835</td>\n",
              "      <td>191283</td>\n",
              "      <td>O</td>\n",
              "    </tr>\n",
              "    <tr>\n",
              "      <th>2</th>\n",
              "      <td>4543836</td>\n",
              "      <td>191283</td>\n",
              "      <td>O</td>\n",
              "    </tr>\n",
              "    <tr>\n",
              "      <th>3</th>\n",
              "      <td>4543837</td>\n",
              "      <td>191283</td>\n",
              "      <td>O</td>\n",
              "    </tr>\n",
              "    <tr>\n",
              "      <th>4</th>\n",
              "      <td>4543838</td>\n",
              "      <td>191283</td>\n",
              "      <td>O</td>\n",
              "    </tr>\n",
              "  </tbody>\n",
              "</table>\n",
              "</div>"
            ],
            "text/plain": [
              "        id  Sent_ID tag\n",
              "0  4543834   191283   O\n",
              "1  4543835   191283   O\n",
              "2  4543836   191283   O\n",
              "3  4543837   191283   O\n",
              "4  4543838   191283   O"
            ]
          },
          "metadata": {
            "tags": []
          },
          "execution_count": 6
        }
      ]
    },
    {
      "metadata": {
        "id": "iUCQB6WvJTIh",
        "colab_type": "code",
        "outputId": "5cb8d6c8-6582-4c3a-ea28-466508da36d7",
        "colab": {
          "base_uri": "https://localhost:8080/",
          "height": 35
        }
      },
      "cell_type": "code",
      "source": [
        "submission.shape"
      ],
      "execution_count": 7,
      "outputs": [
        {
          "output_type": "execute_result",
          "data": {
            "text/plain": [
              "(2994463, 3)"
            ]
          },
          "metadata": {
            "tags": []
          },
          "execution_count": 7
        }
      ]
    },
    {
      "metadata": {
        "id": "zYZUfYedIVlb",
        "colab_type": "code",
        "colab": {}
      },
      "cell_type": "code",
      "source": [
        "#test.csv\n",
        "\n",
        "file_id = '1A74kdE3pv_WvHJwuEbeF2TlYk4irXlis' #https://drive.google.com/open?id=1R72cIA1deLDdg0aULjcl5OR6tsv-DRaq\n",
        "downloaded = drive.CreateFile({'id': file_id})\n",
        "downloaded.GetContentFile('test.csv')"
      ],
      "execution_count": 0,
      "outputs": []
    },
    {
      "metadata": {
        "id": "Zg4rOzt_IhQY",
        "colab_type": "code",
        "outputId": "7a75d934-1857-446d-90b0-0c72f6d60b79",
        "colab": {
          "base_uri": "https://localhost:8080/",
          "height": 202
        }
      },
      "cell_type": "code",
      "source": [
        "test_df = pd.read_csv('test.csv', encoding = \"ISO-8859-1\")\n",
        "test_df.head(5)"
      ],
      "execution_count": 9,
      "outputs": [
        {
          "output_type": "execute_result",
          "data": {
            "text/html": [
              "<div>\n",
              "<style scoped>\n",
              "    .dataframe tbody tr th:only-of-type {\n",
              "        vertical-align: middle;\n",
              "    }\n",
              "\n",
              "    .dataframe tbody tr th {\n",
              "        vertical-align: top;\n",
              "    }\n",
              "\n",
              "    .dataframe thead th {\n",
              "        text-align: right;\n",
              "    }\n",
              "</style>\n",
              "<table border=\"1\" class=\"dataframe\">\n",
              "  <thead>\n",
              "    <tr style=\"text-align: right;\">\n",
              "      <th></th>\n",
              "      <th>id</th>\n",
              "      <th>Doc_ID</th>\n",
              "      <th>Sent_ID</th>\n",
              "      <th>Word</th>\n",
              "    </tr>\n",
              "  </thead>\n",
              "  <tbody>\n",
              "    <tr>\n",
              "      <th>0</th>\n",
              "      <td>4543834</td>\n",
              "      <td>30001</td>\n",
              "      <td>191283</td>\n",
              "      <td>CCCVA</td>\n",
              "    </tr>\n",
              "    <tr>\n",
              "      <th>1</th>\n",
              "      <td>4543835</td>\n",
              "      <td>30001</td>\n",
              "      <td>191283</td>\n",
              "      <td>,</td>\n",
              "    </tr>\n",
              "    <tr>\n",
              "      <th>2</th>\n",
              "      <td>4543836</td>\n",
              "      <td>30001</td>\n",
              "      <td>191283</td>\n",
              "      <td>MANOVA</td>\n",
              "    </tr>\n",
              "    <tr>\n",
              "      <th>3</th>\n",
              "      <td>4543837</td>\n",
              "      <td>30001</td>\n",
              "      <td>191283</td>\n",
              "      <td>,</td>\n",
              "    </tr>\n",
              "    <tr>\n",
              "      <th>4</th>\n",
              "      <td>4543838</td>\n",
              "      <td>30001</td>\n",
              "      <td>191283</td>\n",
              "      <td>my</td>\n",
              "    </tr>\n",
              "  </tbody>\n",
              "</table>\n",
              "</div>"
            ],
            "text/plain": [
              "        id  Doc_ID  Sent_ID    Word\n",
              "0  4543834   30001   191283   CCCVA\n",
              "1  4543835   30001   191283       ,\n",
              "2  4543836   30001   191283  MANOVA\n",
              "3  4543837   30001   191283       ,\n",
              "4  4543838   30001   191283      my"
            ]
          },
          "metadata": {
            "tags": []
          },
          "execution_count": 9
        }
      ]
    },
    {
      "metadata": {
        "id": "kJv4JoCcJNWR",
        "colab_type": "code",
        "outputId": "14525826-0e64-4076-900b-eb6a998bce1f",
        "colab": {
          "base_uri": "https://localhost:8080/",
          "height": 35
        }
      },
      "cell_type": "code",
      "source": [
        "test_df.shape"
      ],
      "execution_count": 10,
      "outputs": [
        {
          "output_type": "execute_result",
          "data": {
            "text/plain": [
              "(2994463, 4)"
            ]
          },
          "metadata": {
            "tags": []
          },
          "execution_count": 10
        }
      ]
    },
    {
      "metadata": {
        "id": "UNuqaD2Q0qvI",
        "colab_type": "code",
        "colab": {}
      },
      "cell_type": "code",
      "source": [
        "#train.csv\n",
        "\n",
        "# Download a file based on its file ID.\n",
        "\n",
        "file_id = '1R72cIA1deLDdg0aULjcl5OR6tsv-DRaq' #https://drive.google.com/open?id=1R72cIA1deLDdg0aULjcl5OR6tsv-DRaq\n",
        "downloaded = drive.CreateFile({'id': file_id})\n",
        "downloaded.GetContentFile('train.csv')"
      ],
      "execution_count": 0,
      "outputs": []
    },
    {
      "metadata": {
        "id": "i4rIM-903QYM",
        "colab_type": "code",
        "outputId": "2889d5c5-6f15-4af6-9ded-aaae1dfe7011",
        "colab": {
          "base_uri": "https://localhost:8080/",
          "height": 202
        }
      },
      "cell_type": "code",
      "source": [
        "train_df = pd.read_csv('train.csv', encoding = \"ISO-8859-1\")\n",
        "train_df.head()"
      ],
      "execution_count": 12,
      "outputs": [
        {
          "output_type": "execute_result",
          "data": {
            "text/html": [
              "<div>\n",
              "<style scoped>\n",
              "    .dataframe tbody tr th:only-of-type {\n",
              "        vertical-align: middle;\n",
              "    }\n",
              "\n",
              "    .dataframe tbody tr th {\n",
              "        vertical-align: top;\n",
              "    }\n",
              "\n",
              "    .dataframe thead th {\n",
              "        text-align: right;\n",
              "    }\n",
              "</style>\n",
              "<table border=\"1\" class=\"dataframe\">\n",
              "  <thead>\n",
              "    <tr style=\"text-align: right;\">\n",
              "      <th></th>\n",
              "      <th>id</th>\n",
              "      <th>Doc_ID</th>\n",
              "      <th>Sent_ID</th>\n",
              "      <th>Word</th>\n",
              "      <th>tag</th>\n",
              "    </tr>\n",
              "  </thead>\n",
              "  <tbody>\n",
              "    <tr>\n",
              "      <th>0</th>\n",
              "      <td>1</td>\n",
              "      <td>1</td>\n",
              "      <td>1</td>\n",
              "      <td>Obesity</td>\n",
              "      <td>O</td>\n",
              "    </tr>\n",
              "    <tr>\n",
              "      <th>1</th>\n",
              "      <td>2</td>\n",
              "      <td>1</td>\n",
              "      <td>1</td>\n",
              "      <td>in</td>\n",
              "      <td>O</td>\n",
              "    </tr>\n",
              "    <tr>\n",
              "      <th>2</th>\n",
              "      <td>3</td>\n",
              "      <td>1</td>\n",
              "      <td>1</td>\n",
              "      <td>Low-</td>\n",
              "      <td>O</td>\n",
              "    </tr>\n",
              "    <tr>\n",
              "      <th>3</th>\n",
              "      <td>4</td>\n",
              "      <td>1</td>\n",
              "      <td>1</td>\n",
              "      <td>and</td>\n",
              "      <td>O</td>\n",
              "    </tr>\n",
              "    <tr>\n",
              "      <th>4</th>\n",
              "      <td>5</td>\n",
              "      <td>1</td>\n",
              "      <td>1</td>\n",
              "      <td>Middle-Income</td>\n",
              "      <td>O</td>\n",
              "    </tr>\n",
              "  </tbody>\n",
              "</table>\n",
              "</div>"
            ],
            "text/plain": [
              "   id  Doc_ID  Sent_ID           Word tag\n",
              "0   1       1        1        Obesity   O\n",
              "1   2       1        1             in   O\n",
              "2   3       1        1           Low-   O\n",
              "3   4       1        1            and   O\n",
              "4   5       1        1  Middle-Income   O"
            ]
          },
          "metadata": {
            "tags": []
          },
          "execution_count": 12
        }
      ]
    },
    {
      "metadata": {
        "id": "ItCgEHX73fMn",
        "colab_type": "code",
        "outputId": "66c53064-fb72-4fa2-d412-b49c00dc8af8",
        "colab": {
          "base_uri": "https://localhost:8080/",
          "height": 121
        }
      },
      "cell_type": "code",
      "source": [
        "train_df.isnull().sum()"
      ],
      "execution_count": 13,
      "outputs": [
        {
          "output_type": "execute_result",
          "data": {
            "text/plain": [
              "id           0\n",
              "Doc_ID       0\n",
              "Sent_ID      0\n",
              "Word       130\n",
              "tag          0\n",
              "dtype: int64"
            ]
          },
          "metadata": {
            "tags": []
          },
          "execution_count": 13
        }
      ]
    },
    {
      "metadata": {
        "id": "S50qXzVe8JRK",
        "colab_type": "code",
        "outputId": "101f2d83-d23f-42e7-aecc-292bab7e9625",
        "colab": {
          "base_uri": "https://localhost:8080/",
          "height": 52
        }
      },
      "cell_type": "code",
      "source": [
        "train_df = train_df.fillna(method='ffill')\n",
        "print(train_df.Sent_ID.nunique(), train_df.Word.nunique(), train_df.tag.nunique())\n",
        "\n",
        "test_df = test_df.fillna(method='ffill')\n",
        "print(test_df.Sent_ID.nunique(), test_df.Word.nunique())\n",
        "\n",
        "train_df['id_Sent_ID'] = train_df['id'] + train_df['Sent_ID']\n",
        "test_df['id_Sent_ID'] = test_df['id'] + test_df['Sent_ID']"
      ],
      "execution_count": 14,
      "outputs": [
        {
          "output_type": "stream",
          "text": [
            "191282 184505 3\n",
            "125840 139891\n"
          ],
          "name": "stdout"
        }
      ]
    },
    {
      "metadata": {
        "id": "7jKGtwUC9ESG",
        "colab_type": "code",
        "outputId": "cb10753a-a25e-4767-e2bd-069baba499f4",
        "colab": {
          "base_uri": "https://localhost:8080/",
          "height": 110
        }
      },
      "cell_type": "code",
      "source": [
        "train_df.head(2)"
      ],
      "execution_count": 15,
      "outputs": [
        {
          "output_type": "execute_result",
          "data": {
            "text/html": [
              "<div>\n",
              "<style scoped>\n",
              "    .dataframe tbody tr th:only-of-type {\n",
              "        vertical-align: middle;\n",
              "    }\n",
              "\n",
              "    .dataframe tbody tr th {\n",
              "        vertical-align: top;\n",
              "    }\n",
              "\n",
              "    .dataframe thead th {\n",
              "        text-align: right;\n",
              "    }\n",
              "</style>\n",
              "<table border=\"1\" class=\"dataframe\">\n",
              "  <thead>\n",
              "    <tr style=\"text-align: right;\">\n",
              "      <th></th>\n",
              "      <th>id</th>\n",
              "      <th>Doc_ID</th>\n",
              "      <th>Sent_ID</th>\n",
              "      <th>Word</th>\n",
              "      <th>tag</th>\n",
              "      <th>id_Sent_ID</th>\n",
              "    </tr>\n",
              "  </thead>\n",
              "  <tbody>\n",
              "    <tr>\n",
              "      <th>0</th>\n",
              "      <td>1</td>\n",
              "      <td>1</td>\n",
              "      <td>1</td>\n",
              "      <td>Obesity</td>\n",
              "      <td>O</td>\n",
              "      <td>2</td>\n",
              "    </tr>\n",
              "    <tr>\n",
              "      <th>1</th>\n",
              "      <td>2</td>\n",
              "      <td>1</td>\n",
              "      <td>1</td>\n",
              "      <td>in</td>\n",
              "      <td>O</td>\n",
              "      <td>3</td>\n",
              "    </tr>\n",
              "  </tbody>\n",
              "</table>\n",
              "</div>"
            ],
            "text/plain": [
              "   id  Doc_ID  Sent_ID     Word tag  id_Sent_ID\n",
              "0   1       1        1  Obesity   O           2\n",
              "1   2       1        1       in   O           3"
            ]
          },
          "metadata": {
            "tags": []
          },
          "execution_count": 15
        }
      ]
    },
    {
      "metadata": {
        "id": "RsY_ef-v38HF",
        "colab_type": "text"
      },
      "cell_type": "markdown",
      "source": [
        "## Data Preprocessing"
      ]
    },
    {
      "metadata": {
        "id": "4CQeiZRf5Gkv",
        "colab_type": "code",
        "outputId": "9b766581-e9eb-461d-e11b-7199003caa5b",
        "colab": {
          "base_uri": "https://localhost:8080/",
          "height": 139
        }
      },
      "cell_type": "code",
      "source": [
        "train_df.isnull().sum()"
      ],
      "execution_count": 16,
      "outputs": [
        {
          "output_type": "execute_result",
          "data": {
            "text/plain": [
              "id            0\n",
              "Doc_ID        0\n",
              "Sent_ID       0\n",
              "Word          0\n",
              "tag           0\n",
              "id_Sent_ID    0\n",
              "dtype: int64"
            ]
          },
          "metadata": {
            "tags": []
          },
          "execution_count": 16
        }
      ]
    },
    {
      "metadata": {
        "id": "Zg-Mq3M15_h8",
        "colab_type": "text"
      },
      "cell_type": "markdown",
      "source": [
        "We have 191,282 sentences that contain 184,505 unique words and tagged by 3 tags.\n",
        "\n",
        "The tags are not evenly distributed."
      ]
    },
    {
      "metadata": {
        "id": "XW1-YdUV5qrK",
        "colab_type": "code",
        "outputId": "93598c87-0a61-4786-ee83-ccaeec60b75e",
        "colab": {
          "base_uri": "https://localhost:8080/",
          "height": 141
        }
      },
      "cell_type": "code",
      "source": [
        "train_df.groupby('tag').size().reset_index(name='counts')"
      ],
      "execution_count": 17,
      "outputs": [
        {
          "output_type": "execute_result",
          "data": {
            "text/html": [
              "<div>\n",
              "<style scoped>\n",
              "    .dataframe tbody tr th:only-of-type {\n",
              "        vertical-align: middle;\n",
              "    }\n",
              "\n",
              "    .dataframe tbody tr th {\n",
              "        vertical-align: top;\n",
              "    }\n",
              "\n",
              "    .dataframe thead th {\n",
              "        text-align: right;\n",
              "    }\n",
              "</style>\n",
              "<table border=\"1\" class=\"dataframe\">\n",
              "  <thead>\n",
              "    <tr style=\"text-align: right;\">\n",
              "      <th></th>\n",
              "      <th>tag</th>\n",
              "      <th>counts</th>\n",
              "    </tr>\n",
              "  </thead>\n",
              "  <tbody>\n",
              "    <tr>\n",
              "      <th>0</th>\n",
              "      <td>B-indications</td>\n",
              "      <td>53003</td>\n",
              "    </tr>\n",
              "    <tr>\n",
              "      <th>1</th>\n",
              "      <td>I-indications</td>\n",
              "      <td>44624</td>\n",
              "    </tr>\n",
              "    <tr>\n",
              "      <th>2</th>\n",
              "      <td>O</td>\n",
              "      <td>4446206</td>\n",
              "    </tr>\n",
              "  </tbody>\n",
              "</table>\n",
              "</div>"
            ],
            "text/plain": [
              "             tag   counts\n",
              "0  B-indications    53003\n",
              "1  I-indications    44624\n",
              "2              O  4446206"
            ]
          },
          "metadata": {
            "tags": []
          },
          "execution_count": 17
        }
      ]
    },
    {
      "metadata": {
        "id": "1KFqeZbBLmwf",
        "colab_type": "code",
        "outputId": "06a583d3-7daf-4e96-d9bf-40375d54b0e3",
        "colab": {
          "base_uri": "https://localhost:8080/",
          "height": 121
        }
      },
      "cell_type": "code",
      "source": [
        "test_df.isnull().sum()"
      ],
      "execution_count": 18,
      "outputs": [
        {
          "output_type": "execute_result",
          "data": {
            "text/plain": [
              "id            0\n",
              "Doc_ID        0\n",
              "Sent_ID       0\n",
              "Word          0\n",
              "id_Sent_ID    0\n",
              "dtype: int64"
            ]
          },
          "metadata": {
            "tags": []
          },
          "execution_count": 18
        }
      ]
    },
    {
      "metadata": {
        "id": "4rybOo8280Hq",
        "colab_type": "code",
        "colab": {}
      },
      "cell_type": "code",
      "source": [
        "# import nltk\n",
        "# nltk.download('all')"
      ],
      "execution_count": 0,
      "outputs": []
    },
    {
      "metadata": {
        "id": "w-mnlfAm_zms",
        "colab_type": "code",
        "outputId": "85637752-f1a2-4003-b6d7-151ba1f4af11",
        "colab": {
          "base_uri": "https://localhost:8080/",
          "height": 87
        }
      },
      "cell_type": "code",
      "source": [
        "import nltk\n",
        "nltk.download('averaged_perceptron_tagger')"
      ],
      "execution_count": 20,
      "outputs": [
        {
          "output_type": "stream",
          "text": [
            "[nltk_data] Downloading package averaged_perceptron_tagger to\n",
            "[nltk_data]     /root/nltk_data...\n",
            "[nltk_data]   Unzipping taggers/averaged_perceptron_tagger.zip.\n"
          ],
          "name": "stdout"
        },
        {
          "output_type": "execute_result",
          "data": {
            "text/plain": [
              "True"
            ]
          },
          "metadata": {
            "tags": []
          },
          "execution_count": 20
        }
      ]
    },
    {
      "metadata": {
        "id": "knIy_b488Qwh",
        "colab_type": "code",
        "colab": {}
      },
      "cell_type": "code",
      "source": [
        "train_df['POS_full'] = nltk.pos_tag(train_df['Word']) \n",
        "test_df['POS_full'] = nltk.pos_tag(test_df['Word']) "
      ],
      "execution_count": 0,
      "outputs": []
    },
    {
      "metadata": {
        "id": "ifqs_5i8-paP",
        "colab_type": "code",
        "outputId": "cd1f41e3-2072-4935-f71b-fa746af83223",
        "colab": {
          "base_uri": "https://localhost:8080/",
          "height": 202
        }
      },
      "cell_type": "code",
      "source": [
        "train_df.head(5)"
      ],
      "execution_count": 26,
      "outputs": [
        {
          "output_type": "execute_result",
          "data": {
            "text/html": [
              "<div>\n",
              "<style scoped>\n",
              "    .dataframe tbody tr th:only-of-type {\n",
              "        vertical-align: middle;\n",
              "    }\n",
              "\n",
              "    .dataframe tbody tr th {\n",
              "        vertical-align: top;\n",
              "    }\n",
              "\n",
              "    .dataframe thead th {\n",
              "        text-align: right;\n",
              "    }\n",
              "</style>\n",
              "<table border=\"1\" class=\"dataframe\">\n",
              "  <thead>\n",
              "    <tr style=\"text-align: right;\">\n",
              "      <th></th>\n",
              "      <th>id</th>\n",
              "      <th>Doc_ID</th>\n",
              "      <th>Sent_ID</th>\n",
              "      <th>Word</th>\n",
              "      <th>tag</th>\n",
              "      <th>id_Sent_ID</th>\n",
              "      <th>POS_full</th>\n",
              "      <th>POS</th>\n",
              "    </tr>\n",
              "  </thead>\n",
              "  <tbody>\n",
              "    <tr>\n",
              "      <th>0</th>\n",
              "      <td>1</td>\n",
              "      <td>1</td>\n",
              "      <td>1</td>\n",
              "      <td>Obesity</td>\n",
              "      <td>O</td>\n",
              "      <td>2</td>\n",
              "      <td>(Obesity, NN)</td>\n",
              "      <td>NN</td>\n",
              "    </tr>\n",
              "    <tr>\n",
              "      <th>1</th>\n",
              "      <td>2</td>\n",
              "      <td>1</td>\n",
              "      <td>1</td>\n",
              "      <td>in</td>\n",
              "      <td>O</td>\n",
              "      <td>3</td>\n",
              "      <td>(in, IN)</td>\n",
              "      <td>IN</td>\n",
              "    </tr>\n",
              "    <tr>\n",
              "      <th>2</th>\n",
              "      <td>3</td>\n",
              "      <td>1</td>\n",
              "      <td>1</td>\n",
              "      <td>Low-</td>\n",
              "      <td>O</td>\n",
              "      <td>4</td>\n",
              "      <td>(Low-, NNP)</td>\n",
              "      <td>NNP</td>\n",
              "    </tr>\n",
              "    <tr>\n",
              "      <th>3</th>\n",
              "      <td>4</td>\n",
              "      <td>1</td>\n",
              "      <td>1</td>\n",
              "      <td>and</td>\n",
              "      <td>O</td>\n",
              "      <td>5</td>\n",
              "      <td>(and, CC)</td>\n",
              "      <td>CC</td>\n",
              "    </tr>\n",
              "    <tr>\n",
              "      <th>4</th>\n",
              "      <td>5</td>\n",
              "      <td>1</td>\n",
              "      <td>1</td>\n",
              "      <td>Middle-Income</td>\n",
              "      <td>O</td>\n",
              "      <td>6</td>\n",
              "      <td>(Middle-Income, JJ)</td>\n",
              "      <td>JJ</td>\n",
              "    </tr>\n",
              "  </tbody>\n",
              "</table>\n",
              "</div>"
            ],
            "text/plain": [
              "   id  Doc_ID  Sent_ID           Word tag  id_Sent_ID             POS_full  \\\n",
              "0   1       1        1        Obesity   O           2        (Obesity, NN)   \n",
              "1   2       1        1             in   O           3             (in, IN)   \n",
              "2   3       1        1           Low-   O           4          (Low-, NNP)   \n",
              "3   4       1        1            and   O           5            (and, CC)   \n",
              "4   5       1        1  Middle-Income   O           6  (Middle-Income, JJ)   \n",
              "\n",
              "   POS  \n",
              "0   NN  \n",
              "1   IN  \n",
              "2  NNP  \n",
              "3   CC  \n",
              "4   JJ  "
            ]
          },
          "metadata": {
            "tags": []
          },
          "execution_count": 26
        }
      ]
    },
    {
      "metadata": {
        "id": "vvUJ2uZF-fmQ",
        "colab_type": "code",
        "outputId": "dc27df86-c6bf-44d2-cb4d-9e215de67294",
        "colab": {
          "base_uri": "https://localhost:8080/",
          "height": 202
        }
      },
      "cell_type": "code",
      "source": [
        "test_df.head(5)"
      ],
      "execution_count": 27,
      "outputs": [
        {
          "output_type": "execute_result",
          "data": {
            "text/html": [
              "<div>\n",
              "<style scoped>\n",
              "    .dataframe tbody tr th:only-of-type {\n",
              "        vertical-align: middle;\n",
              "    }\n",
              "\n",
              "    .dataframe tbody tr th {\n",
              "        vertical-align: top;\n",
              "    }\n",
              "\n",
              "    .dataframe thead th {\n",
              "        text-align: right;\n",
              "    }\n",
              "</style>\n",
              "<table border=\"1\" class=\"dataframe\">\n",
              "  <thead>\n",
              "    <tr style=\"text-align: right;\">\n",
              "      <th></th>\n",
              "      <th>id</th>\n",
              "      <th>Doc_ID</th>\n",
              "      <th>Sent_ID</th>\n",
              "      <th>Word</th>\n",
              "      <th>id_Sent_ID</th>\n",
              "      <th>POS_full</th>\n",
              "    </tr>\n",
              "  </thead>\n",
              "  <tbody>\n",
              "    <tr>\n",
              "      <th>0</th>\n",
              "      <td>4543834</td>\n",
              "      <td>30001</td>\n",
              "      <td>191283</td>\n",
              "      <td>CCCVA</td>\n",
              "      <td>4735117</td>\n",
              "      <td>(CCCVA, NNP)</td>\n",
              "    </tr>\n",
              "    <tr>\n",
              "      <th>1</th>\n",
              "      <td>4543835</td>\n",
              "      <td>30001</td>\n",
              "      <td>191283</td>\n",
              "      <td>,</td>\n",
              "      <td>4735118</td>\n",
              "      <td>(,, ,)</td>\n",
              "    </tr>\n",
              "    <tr>\n",
              "      <th>2</th>\n",
              "      <td>4543836</td>\n",
              "      <td>30001</td>\n",
              "      <td>191283</td>\n",
              "      <td>MANOVA</td>\n",
              "      <td>4735119</td>\n",
              "      <td>(MANOVA, NNP)</td>\n",
              "    </tr>\n",
              "    <tr>\n",
              "      <th>3</th>\n",
              "      <td>4543837</td>\n",
              "      <td>30001</td>\n",
              "      <td>191283</td>\n",
              "      <td>,</td>\n",
              "      <td>4735120</td>\n",
              "      <td>(,, ,)</td>\n",
              "    </tr>\n",
              "    <tr>\n",
              "      <th>4</th>\n",
              "      <td>4543838</td>\n",
              "      <td>30001</td>\n",
              "      <td>191283</td>\n",
              "      <td>my</td>\n",
              "      <td>4735121</td>\n",
              "      <td>(my, PRP$)</td>\n",
              "    </tr>\n",
              "  </tbody>\n",
              "</table>\n",
              "</div>"
            ],
            "text/plain": [
              "        id  Doc_ID  Sent_ID    Word  id_Sent_ID       POS_full\n",
              "0  4543834   30001   191283   CCCVA     4735117   (CCCVA, NNP)\n",
              "1  4543835   30001   191283       ,     4735118         (,, ,)\n",
              "2  4543836   30001   191283  MANOVA     4735119  (MANOVA, NNP)\n",
              "3  4543837   30001   191283       ,     4735120         (,, ,)\n",
              "4  4543838   30001   191283      my     4735121     (my, PRP$)"
            ]
          },
          "metadata": {
            "tags": []
          },
          "execution_count": 27
        }
      ]
    },
    {
      "metadata": {
        "id": "cFI3Li6ZYqYV",
        "colab_type": "code",
        "colab": {}
      },
      "cell_type": "code",
      "source": [
        "train_df['POS'] = train_df['POS_full'].apply(lambda x: x[1] )\n",
        "test_df['POS'] = test_df['POS_full'].apply(lambda x: x[1] )"
      ],
      "execution_count": 0,
      "outputs": []
    },
    {
      "metadata": {
        "id": "7R4n8zcdEJdv",
        "colab_type": "code",
        "outputId": "ee2bf2cb-a3fd-4334-d595-0e018bb2b7da",
        "colab": {
          "base_uri": "https://localhost:8080/",
          "height": 202
        }
      },
      "cell_type": "code",
      "source": [
        "train_df.head(5)"
      ],
      "execution_count": 29,
      "outputs": [
        {
          "output_type": "execute_result",
          "data": {
            "text/html": [
              "<div>\n",
              "<style scoped>\n",
              "    .dataframe tbody tr th:only-of-type {\n",
              "        vertical-align: middle;\n",
              "    }\n",
              "\n",
              "    .dataframe tbody tr th {\n",
              "        vertical-align: top;\n",
              "    }\n",
              "\n",
              "    .dataframe thead th {\n",
              "        text-align: right;\n",
              "    }\n",
              "</style>\n",
              "<table border=\"1\" class=\"dataframe\">\n",
              "  <thead>\n",
              "    <tr style=\"text-align: right;\">\n",
              "      <th></th>\n",
              "      <th>id</th>\n",
              "      <th>Doc_ID</th>\n",
              "      <th>Sent_ID</th>\n",
              "      <th>Word</th>\n",
              "      <th>tag</th>\n",
              "      <th>id_Sent_ID</th>\n",
              "      <th>POS_full</th>\n",
              "      <th>POS</th>\n",
              "    </tr>\n",
              "  </thead>\n",
              "  <tbody>\n",
              "    <tr>\n",
              "      <th>0</th>\n",
              "      <td>1</td>\n",
              "      <td>1</td>\n",
              "      <td>1</td>\n",
              "      <td>Obesity</td>\n",
              "      <td>O</td>\n",
              "      <td>2</td>\n",
              "      <td>(Obesity, NN)</td>\n",
              "      <td>NN</td>\n",
              "    </tr>\n",
              "    <tr>\n",
              "      <th>1</th>\n",
              "      <td>2</td>\n",
              "      <td>1</td>\n",
              "      <td>1</td>\n",
              "      <td>in</td>\n",
              "      <td>O</td>\n",
              "      <td>3</td>\n",
              "      <td>(in, IN)</td>\n",
              "      <td>IN</td>\n",
              "    </tr>\n",
              "    <tr>\n",
              "      <th>2</th>\n",
              "      <td>3</td>\n",
              "      <td>1</td>\n",
              "      <td>1</td>\n",
              "      <td>Low-</td>\n",
              "      <td>O</td>\n",
              "      <td>4</td>\n",
              "      <td>(Low-, NNP)</td>\n",
              "      <td>NNP</td>\n",
              "    </tr>\n",
              "    <tr>\n",
              "      <th>3</th>\n",
              "      <td>4</td>\n",
              "      <td>1</td>\n",
              "      <td>1</td>\n",
              "      <td>and</td>\n",
              "      <td>O</td>\n",
              "      <td>5</td>\n",
              "      <td>(and, CC)</td>\n",
              "      <td>CC</td>\n",
              "    </tr>\n",
              "    <tr>\n",
              "      <th>4</th>\n",
              "      <td>5</td>\n",
              "      <td>1</td>\n",
              "      <td>1</td>\n",
              "      <td>Middle-Income</td>\n",
              "      <td>O</td>\n",
              "      <td>6</td>\n",
              "      <td>(Middle-Income, JJ)</td>\n",
              "      <td>JJ</td>\n",
              "    </tr>\n",
              "  </tbody>\n",
              "</table>\n",
              "</div>"
            ],
            "text/plain": [
              "   id  Doc_ID  Sent_ID           Word tag  id_Sent_ID             POS_full  \\\n",
              "0   1       1        1        Obesity   O           2        (Obesity, NN)   \n",
              "1   2       1        1             in   O           3             (in, IN)   \n",
              "2   3       1        1           Low-   O           4          (Low-, NNP)   \n",
              "3   4       1        1            and   O           5            (and, CC)   \n",
              "4   5       1        1  Middle-Income   O           6  (Middle-Income, JJ)   \n",
              "\n",
              "   POS  \n",
              "0   NN  \n",
              "1   IN  \n",
              "2  NNP  \n",
              "3   CC  \n",
              "4   JJ  "
            ]
          },
          "metadata": {
            "tags": []
          },
          "execution_count": 29
        }
      ]
    },
    {
      "metadata": {
        "id": "HplUjHxVl1Mn",
        "colab_type": "code",
        "outputId": "056cab1d-f60d-4276-e657-326d8c68f3f9",
        "colab": {
          "base_uri": "https://localhost:8080/",
          "height": 202
        }
      },
      "cell_type": "code",
      "source": [
        "test_df.head(5)"
      ],
      "execution_count": 30,
      "outputs": [
        {
          "output_type": "execute_result",
          "data": {
            "text/html": [
              "<div>\n",
              "<style scoped>\n",
              "    .dataframe tbody tr th:only-of-type {\n",
              "        vertical-align: middle;\n",
              "    }\n",
              "\n",
              "    .dataframe tbody tr th {\n",
              "        vertical-align: top;\n",
              "    }\n",
              "\n",
              "    .dataframe thead th {\n",
              "        text-align: right;\n",
              "    }\n",
              "</style>\n",
              "<table border=\"1\" class=\"dataframe\">\n",
              "  <thead>\n",
              "    <tr style=\"text-align: right;\">\n",
              "      <th></th>\n",
              "      <th>id</th>\n",
              "      <th>Doc_ID</th>\n",
              "      <th>Sent_ID</th>\n",
              "      <th>Word</th>\n",
              "      <th>id_Sent_ID</th>\n",
              "      <th>POS_full</th>\n",
              "      <th>POS</th>\n",
              "    </tr>\n",
              "  </thead>\n",
              "  <tbody>\n",
              "    <tr>\n",
              "      <th>0</th>\n",
              "      <td>4543834</td>\n",
              "      <td>30001</td>\n",
              "      <td>191283</td>\n",
              "      <td>CCCVA</td>\n",
              "      <td>4735117</td>\n",
              "      <td>(CCCVA, NNP)</td>\n",
              "      <td>NNP</td>\n",
              "    </tr>\n",
              "    <tr>\n",
              "      <th>1</th>\n",
              "      <td>4543835</td>\n",
              "      <td>30001</td>\n",
              "      <td>191283</td>\n",
              "      <td>,</td>\n",
              "      <td>4735118</td>\n",
              "      <td>(,, ,)</td>\n",
              "      <td>,</td>\n",
              "    </tr>\n",
              "    <tr>\n",
              "      <th>2</th>\n",
              "      <td>4543836</td>\n",
              "      <td>30001</td>\n",
              "      <td>191283</td>\n",
              "      <td>MANOVA</td>\n",
              "      <td>4735119</td>\n",
              "      <td>(MANOVA, NNP)</td>\n",
              "      <td>NNP</td>\n",
              "    </tr>\n",
              "    <tr>\n",
              "      <th>3</th>\n",
              "      <td>4543837</td>\n",
              "      <td>30001</td>\n",
              "      <td>191283</td>\n",
              "      <td>,</td>\n",
              "      <td>4735120</td>\n",
              "      <td>(,, ,)</td>\n",
              "      <td>,</td>\n",
              "    </tr>\n",
              "    <tr>\n",
              "      <th>4</th>\n",
              "      <td>4543838</td>\n",
              "      <td>30001</td>\n",
              "      <td>191283</td>\n",
              "      <td>my</td>\n",
              "      <td>4735121</td>\n",
              "      <td>(my, PRP$)</td>\n",
              "      <td>PRP$</td>\n",
              "    </tr>\n",
              "  </tbody>\n",
              "</table>\n",
              "</div>"
            ],
            "text/plain": [
              "        id  Doc_ID  Sent_ID    Word  id_Sent_ID       POS_full   POS\n",
              "0  4543834   30001   191283   CCCVA     4735117   (CCCVA, NNP)   NNP\n",
              "1  4543835   30001   191283       ,     4735118         (,, ,)     ,\n",
              "2  4543836   30001   191283  MANOVA     4735119  (MANOVA, NNP)   NNP\n",
              "3  4543837   30001   191283       ,     4735120         (,, ,)     ,\n",
              "4  4543838   30001   191283      my     4735121     (my, PRP$)  PRP$"
            ]
          },
          "metadata": {
            "tags": []
          },
          "execution_count": 30
        }
      ]
    },
    {
      "metadata": {
        "id": "_-23Mi-ml8FV",
        "colab_type": "code",
        "colab": {}
      },
      "cell_type": "code",
      "source": [
        "# train_df = train_df.drop(['Doc_ID', 'POS_full','id'], axis= 1)\n",
        "# test_df = test_df.drop(['Doc_ID', 'POS_full','id'], axis= 1)"
      ],
      "execution_count": 0,
      "outputs": []
    },
    {
      "metadata": {
        "id": "FGOEOWlG6X8B",
        "colab_type": "text"
      },
      "cell_type": "markdown",
      "source": [
        "The following code transform the text date to vector using DictVectorizer and then split to train and test sets."
      ]
    },
    {
      "metadata": {
        "id": "cjYvvudiu-GE",
        "colab_type": "code",
        "outputId": "625ba38b-6053-4e84-b940-30c55553129f",
        "colab": {
          "base_uri": "https://localhost:8080/",
          "height": 35
        }
      },
      "cell_type": "code",
      "source": [
        "train_df.id_Sent_ID.nunique(), train_df.Word.nunique(), train_df.POS.nunique()"
      ],
      "execution_count": 32,
      "outputs": [
        {
          "output_type": "execute_result",
          "data": {
            "text/plain": [
              "(4543833, 184505, 44)"
            ]
          },
          "metadata": {
            "tags": []
          },
          "execution_count": 32
        }
      ]
    },
    {
      "metadata": {
        "id": "BahXCtQVkSs_",
        "colab_type": "code",
        "outputId": "192cebc6-1b7d-421e-c0d6-84c9c99ea2b7",
        "colab": {
          "base_uri": "https://localhost:8080/",
          "height": 35
        }
      },
      "cell_type": "code",
      "source": [
        "test_df.id_Sent_ID.nunique(), test_df.Word.nunique(), test_df.POS.nunique()"
      ],
      "execution_count": 33,
      "outputs": [
        {
          "output_type": "execute_result",
          "data": {
            "text/plain": [
              "(2994463, 139891, 44)"
            ]
          },
          "metadata": {
            "tags": []
          },
          "execution_count": 33
        }
      ]
    },
    {
      "metadata": {
        "id": "Tuv3eas0vI9g",
        "colab_type": "code",
        "outputId": "fd0cbb07-86e8-4720-eb51-5fa1e511d170",
        "colab": {
          "base_uri": "https://localhost:8080/",
          "height": 156
        }
      },
      "cell_type": "code",
      "source": [
        "test_df.isnull().sum()"
      ],
      "execution_count": 34,
      "outputs": [
        {
          "output_type": "execute_result",
          "data": {
            "text/plain": [
              "id            0\n",
              "Doc_ID        0\n",
              "Sent_ID       0\n",
              "Word          0\n",
              "id_Sent_ID    0\n",
              "POS_full      0\n",
              "POS           0\n",
              "dtype: int64"
            ]
          },
          "metadata": {
            "tags": []
          },
          "execution_count": 34
        }
      ]
    },
    {
      "metadata": {
        "id": "G94IylVP0mtK",
        "colab_type": "code",
        "outputId": "bdb4c8f7-b228-4f78-ea1a-0e696286c028",
        "colab": {
          "base_uri": "https://localhost:8080/",
          "height": 35
        }
      },
      "cell_type": "code",
      "source": [
        "test_df.columns"
      ],
      "execution_count": 35,
      "outputs": [
        {
          "output_type": "execute_result",
          "data": {
            "text/plain": [
              "Index(['id', 'Doc_ID', 'Sent_ID', 'Word', 'id_Sent_ID', 'POS_full', 'POS'], dtype='object')"
            ]
          },
          "metadata": {
            "tags": []
          },
          "execution_count": 35
        }
      ]
    },
    {
      "metadata": {
        "id": "D_zxylzQjsZo",
        "colab_type": "code",
        "colab": {}
      },
      "cell_type": "code",
      "source": [
        "test_df.to_csv('test_df_mod.csv')"
      ],
      "execution_count": 0,
      "outputs": []
    },
    {
      "metadata": {
        "id": "poOHF2InH3I6",
        "colab_type": "code",
        "outputId": "2fc087d1-ce32-4262-ec00-ab9402c6e05a",
        "colab": {
          "base_uri": "https://localhost:8080/",
          "height": 141
        }
      },
      "cell_type": "code",
      "source": [
        "train_df.head(3)"
      ],
      "execution_count": 37,
      "outputs": [
        {
          "output_type": "execute_result",
          "data": {
            "text/html": [
              "<div>\n",
              "<style scoped>\n",
              "    .dataframe tbody tr th:only-of-type {\n",
              "        vertical-align: middle;\n",
              "    }\n",
              "\n",
              "    .dataframe tbody tr th {\n",
              "        vertical-align: top;\n",
              "    }\n",
              "\n",
              "    .dataframe thead th {\n",
              "        text-align: right;\n",
              "    }\n",
              "</style>\n",
              "<table border=\"1\" class=\"dataframe\">\n",
              "  <thead>\n",
              "    <tr style=\"text-align: right;\">\n",
              "      <th></th>\n",
              "      <th>id</th>\n",
              "      <th>Doc_ID</th>\n",
              "      <th>Sent_ID</th>\n",
              "      <th>Word</th>\n",
              "      <th>tag</th>\n",
              "      <th>id_Sent_ID</th>\n",
              "      <th>POS_full</th>\n",
              "      <th>POS</th>\n",
              "    </tr>\n",
              "  </thead>\n",
              "  <tbody>\n",
              "    <tr>\n",
              "      <th>0</th>\n",
              "      <td>1</td>\n",
              "      <td>1</td>\n",
              "      <td>1</td>\n",
              "      <td>Obesity</td>\n",
              "      <td>O</td>\n",
              "      <td>2</td>\n",
              "      <td>(Obesity, NN)</td>\n",
              "      <td>NN</td>\n",
              "    </tr>\n",
              "    <tr>\n",
              "      <th>1</th>\n",
              "      <td>2</td>\n",
              "      <td>1</td>\n",
              "      <td>1</td>\n",
              "      <td>in</td>\n",
              "      <td>O</td>\n",
              "      <td>3</td>\n",
              "      <td>(in, IN)</td>\n",
              "      <td>IN</td>\n",
              "    </tr>\n",
              "    <tr>\n",
              "      <th>2</th>\n",
              "      <td>3</td>\n",
              "      <td>1</td>\n",
              "      <td>1</td>\n",
              "      <td>Low-</td>\n",
              "      <td>O</td>\n",
              "      <td>4</td>\n",
              "      <td>(Low-, NNP)</td>\n",
              "      <td>NNP</td>\n",
              "    </tr>\n",
              "  </tbody>\n",
              "</table>\n",
              "</div>"
            ],
            "text/plain": [
              "   id  Doc_ID  Sent_ID     Word tag  id_Sent_ID       POS_full  POS\n",
              "0   1       1        1  Obesity   O           2  (Obesity, NN)   NN\n",
              "1   2       1        1       in   O           3       (in, IN)   IN\n",
              "2   3       1        1     Low-   O           4    (Low-, NNP)  NNP"
            ]
          },
          "metadata": {
            "tags": []
          },
          "execution_count": 37
        }
      ]
    },
    {
      "metadata": {
        "id": "f0fhP53fvSA7",
        "colab_type": "code",
        "colab": {}
      },
      "cell_type": "code",
      "source": [
        "train_df.to_csv('train_df_mod.csv')"
      ],
      "execution_count": 0,
      "outputs": []
    },
    {
      "metadata": {
        "id": "cyAECJiHxVzT",
        "colab_type": "text"
      },
      "cell_type": "markdown",
      "source": [
        "### Time Consuming - Hence you can start here!!"
      ]
    },
    {
      "metadata": {
        "id": "2bKl7xGNH_Ex",
        "colab_type": "code",
        "colab": {}
      },
      "cell_type": "code",
      "source": [
        "\n",
        "file_id = '1FM9w8uPSpxult-rIl6HqqASqJroAINs1'\n",
        "downloaded = drive.CreateFile({'id': file_id})\n",
        "downloaded.GetContentFile('train_df_mod.csv')\n",
        "\n",
        "\n",
        "file_id = '1b75Rzb_XX32mzfoFFKkCFUZBGW419U30'\n",
        "downloaded = drive.CreateFile({'id': file_id})\n",
        "downloaded.GetContentFile('test_df_mod.csv')\n",
        "\n",
        "\n",
        "train_df = pd.read_csv('train_df_mod.csv')\n",
        "test_df = pd.read_csv('test_df_mod.csv')"
      ],
      "execution_count": 0,
      "outputs": []
    },
    {
      "metadata": {
        "id": "ZVjTwejP6JSW",
        "colab_type": "code",
        "outputId": "eaadcbf7-c834-4a58-b3d5-32670d8aab6f",
        "colab": {
          "base_uri": "https://localhost:8080/",
          "height": 141
        }
      },
      "cell_type": "code",
      "source": [
        "train_df.head(3)"
      ],
      "execution_count": 40,
      "outputs": [
        {
          "output_type": "execute_result",
          "data": {
            "text/html": [
              "<div>\n",
              "<style scoped>\n",
              "    .dataframe tbody tr th:only-of-type {\n",
              "        vertical-align: middle;\n",
              "    }\n",
              "\n",
              "    .dataframe tbody tr th {\n",
              "        vertical-align: top;\n",
              "    }\n",
              "\n",
              "    .dataframe thead th {\n",
              "        text-align: right;\n",
              "    }\n",
              "</style>\n",
              "<table border=\"1\" class=\"dataframe\">\n",
              "  <thead>\n",
              "    <tr style=\"text-align: right;\">\n",
              "      <th></th>\n",
              "      <th>Unnamed: 0</th>\n",
              "      <th>id</th>\n",
              "      <th>Doc_ID</th>\n",
              "      <th>Sent_ID</th>\n",
              "      <th>Word</th>\n",
              "      <th>tag</th>\n",
              "      <th>id_Sent_ID</th>\n",
              "      <th>POS_full</th>\n",
              "      <th>POS</th>\n",
              "    </tr>\n",
              "  </thead>\n",
              "  <tbody>\n",
              "    <tr>\n",
              "      <th>0</th>\n",
              "      <td>0</td>\n",
              "      <td>1</td>\n",
              "      <td>1</td>\n",
              "      <td>1</td>\n",
              "      <td>Obesity</td>\n",
              "      <td>O</td>\n",
              "      <td>2</td>\n",
              "      <td>('Obesity', 'NN')</td>\n",
              "      <td>NN</td>\n",
              "    </tr>\n",
              "    <tr>\n",
              "      <th>1</th>\n",
              "      <td>1</td>\n",
              "      <td>2</td>\n",
              "      <td>1</td>\n",
              "      <td>1</td>\n",
              "      <td>in</td>\n",
              "      <td>O</td>\n",
              "      <td>3</td>\n",
              "      <td>('in', 'IN')</td>\n",
              "      <td>IN</td>\n",
              "    </tr>\n",
              "    <tr>\n",
              "      <th>2</th>\n",
              "      <td>2</td>\n",
              "      <td>3</td>\n",
              "      <td>1</td>\n",
              "      <td>1</td>\n",
              "      <td>Low-</td>\n",
              "      <td>O</td>\n",
              "      <td>4</td>\n",
              "      <td>('Low-', 'NNP')</td>\n",
              "      <td>NNP</td>\n",
              "    </tr>\n",
              "  </tbody>\n",
              "</table>\n",
              "</div>"
            ],
            "text/plain": [
              "   Unnamed: 0  id  Doc_ID  Sent_ID     Word tag  id_Sent_ID  \\\n",
              "0           0   1       1        1  Obesity   O           2   \n",
              "1           1   2       1        1       in   O           3   \n",
              "2           2   3       1        1     Low-   O           4   \n",
              "\n",
              "            POS_full  POS  \n",
              "0  ('Obesity', 'NN')   NN  \n",
              "1       ('in', 'IN')   IN  \n",
              "2    ('Low-', 'NNP')  NNP  "
            ]
          },
          "metadata": {
            "tags": []
          },
          "execution_count": 40
        }
      ]
    },
    {
      "metadata": {
        "id": "OQDRvXpQ39Kd",
        "colab_type": "code",
        "outputId": "829191d3-1211-4363-f23e-5a40b24d5c9c",
        "colab": {
          "base_uri": "https://localhost:8080/",
          "height": 202
        }
      },
      "cell_type": "code",
      "source": [
        "train_df.tail(5)"
      ],
      "execution_count": 41,
      "outputs": [
        {
          "output_type": "execute_result",
          "data": {
            "text/html": [
              "<div>\n",
              "<style scoped>\n",
              "    .dataframe tbody tr th:only-of-type {\n",
              "        vertical-align: middle;\n",
              "    }\n",
              "\n",
              "    .dataframe tbody tr th {\n",
              "        vertical-align: top;\n",
              "    }\n",
              "\n",
              "    .dataframe thead th {\n",
              "        text-align: right;\n",
              "    }\n",
              "</style>\n",
              "<table border=\"1\" class=\"dataframe\">\n",
              "  <thead>\n",
              "    <tr style=\"text-align: right;\">\n",
              "      <th></th>\n",
              "      <th>Unnamed: 0</th>\n",
              "      <th>id</th>\n",
              "      <th>Doc_ID</th>\n",
              "      <th>Sent_ID</th>\n",
              "      <th>Word</th>\n",
              "      <th>tag</th>\n",
              "      <th>id_Sent_ID</th>\n",
              "      <th>POS_full</th>\n",
              "      <th>POS</th>\n",
              "    </tr>\n",
              "  </thead>\n",
              "  <tbody>\n",
              "    <tr>\n",
              "      <th>4543828</th>\n",
              "      <td>4543828</td>\n",
              "      <td>4543829</td>\n",
              "      <td>30000</td>\n",
              "      <td>191282</td>\n",
              "      <td>translational</td>\n",
              "      <td>O</td>\n",
              "      <td>4735111</td>\n",
              "      <td>('translational', 'JJ')</td>\n",
              "      <td>JJ</td>\n",
              "    </tr>\n",
              "    <tr>\n",
              "      <th>4543829</th>\n",
              "      <td>4543829</td>\n",
              "      <td>4543830</td>\n",
              "      <td>30000</td>\n",
              "      <td>191282</td>\n",
              "      <td>or</td>\n",
              "      <td>O</td>\n",
              "      <td>4735112</td>\n",
              "      <td>('or', 'CC')</td>\n",
              "      <td>CC</td>\n",
              "    </tr>\n",
              "    <tr>\n",
              "      <th>4543830</th>\n",
              "      <td>4543830</td>\n",
              "      <td>4543831</td>\n",
              "      <td>30000</td>\n",
              "      <td>191282</td>\n",
              "      <td>post-translational</td>\n",
              "      <td>O</td>\n",
              "      <td>4735113</td>\n",
              "      <td>('post-translational', 'JJ')</td>\n",
              "      <td>JJ</td>\n",
              "    </tr>\n",
              "    <tr>\n",
              "      <th>4543831</th>\n",
              "      <td>4543831</td>\n",
              "      <td>4543832</td>\n",
              "      <td>30000</td>\n",
              "      <td>191282</td>\n",
              "      <td>level</td>\n",
              "      <td>O</td>\n",
              "      <td>4735114</td>\n",
              "      <td>('level', 'NN')</td>\n",
              "      <td>NN</td>\n",
              "    </tr>\n",
              "    <tr>\n",
              "      <th>4543832</th>\n",
              "      <td>4543832</td>\n",
              "      <td>4543833</td>\n",
              "      <td>30000</td>\n",
              "      <td>191282</td>\n",
              "      <td>.</td>\n",
              "      <td>O</td>\n",
              "      <td>4735115</td>\n",
              "      <td>('.', '.')</td>\n",
              "      <td>.</td>\n",
              "    </tr>\n",
              "  </tbody>\n",
              "</table>\n",
              "</div>"
            ],
            "text/plain": [
              "         Unnamed: 0       id  Doc_ID  Sent_ID                Word tag  \\\n",
              "4543828     4543828  4543829   30000   191282       translational   O   \n",
              "4543829     4543829  4543830   30000   191282                  or   O   \n",
              "4543830     4543830  4543831   30000   191282  post-translational   O   \n",
              "4543831     4543831  4543832   30000   191282               level   O   \n",
              "4543832     4543832  4543833   30000   191282                   .   O   \n",
              "\n",
              "         id_Sent_ID                      POS_full POS  \n",
              "4543828     4735111       ('translational', 'JJ')  JJ  \n",
              "4543829     4735112                  ('or', 'CC')  CC  \n",
              "4543830     4735113  ('post-translational', 'JJ')  JJ  \n",
              "4543831     4735114               ('level', 'NN')  NN  \n",
              "4543832     4735115                    ('.', '.')   .  "
            ]
          },
          "metadata": {
            "tags": []
          },
          "execution_count": 41
        }
      ]
    },
    {
      "metadata": {
        "id": "cJwoKhoE6Mui",
        "colab_type": "code",
        "outputId": "954da04a-112c-4b24-c123-f070c0a160fb",
        "colab": {
          "base_uri": "https://localhost:8080/",
          "height": 141
        }
      },
      "cell_type": "code",
      "source": [
        "test_df.head(3)"
      ],
      "execution_count": 42,
      "outputs": [
        {
          "output_type": "execute_result",
          "data": {
            "text/html": [
              "<div>\n",
              "<style scoped>\n",
              "    .dataframe tbody tr th:only-of-type {\n",
              "        vertical-align: middle;\n",
              "    }\n",
              "\n",
              "    .dataframe tbody tr th {\n",
              "        vertical-align: top;\n",
              "    }\n",
              "\n",
              "    .dataframe thead th {\n",
              "        text-align: right;\n",
              "    }\n",
              "</style>\n",
              "<table border=\"1\" class=\"dataframe\">\n",
              "  <thead>\n",
              "    <tr style=\"text-align: right;\">\n",
              "      <th></th>\n",
              "      <th>Unnamed: 0</th>\n",
              "      <th>Sent_ID</th>\n",
              "      <th>Word</th>\n",
              "      <th>id_Sent_ID</th>\n",
              "      <th>POS</th>\n",
              "    </tr>\n",
              "  </thead>\n",
              "  <tbody>\n",
              "    <tr>\n",
              "      <th>0</th>\n",
              "      <td>0</td>\n",
              "      <td>191283</td>\n",
              "      <td>CCCVA</td>\n",
              "      <td>4735117</td>\n",
              "      <td>NNP</td>\n",
              "    </tr>\n",
              "    <tr>\n",
              "      <th>1</th>\n",
              "      <td>1</td>\n",
              "      <td>191283</td>\n",
              "      <td>,</td>\n",
              "      <td>4735118</td>\n",
              "      <td>,</td>\n",
              "    </tr>\n",
              "    <tr>\n",
              "      <th>2</th>\n",
              "      <td>2</td>\n",
              "      <td>191283</td>\n",
              "      <td>MANOVA</td>\n",
              "      <td>4735119</td>\n",
              "      <td>NNP</td>\n",
              "    </tr>\n",
              "  </tbody>\n",
              "</table>\n",
              "</div>"
            ],
            "text/plain": [
              "   Unnamed: 0  Sent_ID    Word  id_Sent_ID  POS\n",
              "0           0   191283   CCCVA     4735117  NNP\n",
              "1           1   191283       ,     4735118    ,\n",
              "2           2   191283  MANOVA     4735119  NNP"
            ]
          },
          "metadata": {
            "tags": []
          },
          "execution_count": 42
        }
      ]
    },
    {
      "metadata": {
        "id": "JfZETW6E6TeP",
        "colab_type": "code",
        "outputId": "e0dea529-704d-4c47-a899-1c70117cd712",
        "colab": {
          "base_uri": "https://localhost:8080/",
          "height": 52
        }
      },
      "cell_type": "code",
      "source": [
        "train_df = train_df[['Sent_ID', 'Word', 'tag', 'POS']]\n",
        "print(train_df.shape)\n",
        "\n",
        "\n",
        "test_df = test_df[['Sent_ID', 'Word',  'POS']]\n",
        "print(test_df.shape)"
      ],
      "execution_count": 43,
      "outputs": [
        {
          "output_type": "stream",
          "text": [
            "(4543833, 4)\n",
            "(2994463, 3)\n"
          ],
          "name": "stdout"
        }
      ]
    },
    {
      "metadata": {
        "id": "oeEjXAcm2DOw",
        "colab_type": "code",
        "outputId": "f945161f-49df-460a-f118-57b6df9233e7",
        "colab": {
          "base_uri": "https://localhost:8080/",
          "height": 35
        }
      },
      "cell_type": "code",
      "source": [
        "words = list(set(train_df[\"Word\"].values))\n",
        "n_words = len(words); n_words"
      ],
      "execution_count": 44,
      "outputs": [
        {
          "output_type": "execute_result",
          "data": {
            "text/plain": [
              "184505"
            ]
          },
          "metadata": {
            "tags": []
          },
          "execution_count": 44
        }
      ]
    },
    {
      "metadata": {
        "id": "_aXsrCZ92TCL",
        "colab_type": "text"
      },
      "cell_type": "markdown",
      "source": [
        "### We start by writing a small class to retrieve a sentence from the dataset."
      ]
    },
    {
      "metadata": {
        "id": "eRiwl5Y32QOM",
        "colab_type": "code",
        "colab": {}
      },
      "cell_type": "code",
      "source": [
        "class SentenceGetter(object):\n",
        "    \n",
        "    def __init__(self, data):\n",
        "        self.n_sent = 1\n",
        "        self.data = data\n",
        "        self.empty = False\n",
        "    \n",
        "    def get_next(self):\n",
        "#         try:\n",
        "#             s = self.data[self.data[\"Sent_ID\"] == \"Sentence: {}\".format(self.n_sent)]\n",
        "#             self.n_sent += 1\n",
        "            return self.data[\"Word\"].values.tolist(), self.data[\"POS\"].values.tolist(), self.data[\"tag\"].values.tolist()    \n",
        "#         except:\n",
        "#             self.empty = True\n",
        "#             return None, None, None"
      ],
      "execution_count": 0,
      "outputs": []
    },
    {
      "metadata": {
        "id": "Sc7qhrXq2d6n",
        "colab_type": "code",
        "colab": {}
      },
      "cell_type": "code",
      "source": [
        "getter = SentenceGetter(train_df)"
      ],
      "execution_count": 0,
      "outputs": []
    },
    {
      "metadata": {
        "id": "vfB7LgpD2iSb",
        "colab_type": "code",
        "colab": {}
      },
      "cell_type": "code",
      "source": [
        "sent, pos, tag = getter.get_next()"
      ],
      "execution_count": 0,
      "outputs": []
    },
    {
      "metadata": {
        "id": "lr0VY-nN2lxG",
        "colab_type": "code",
        "outputId": "36f1efec-e6fe-4552-c943-73aba45db3f5",
        "colab": {
          "base_uri": "https://localhost:8080/",
          "height": 191
        }
      },
      "cell_type": "code",
      "source": [
        "### This is how a sentence looks.\n",
        "print(sent); print(pos); print(tag)"
      ],
      "execution_count": 48,
      "outputs": [
        {
          "output_type": "stream",
          "text": [
            "IOPub data rate exceeded.\n",
            "The notebook server will temporarily stop sending output\n",
            "to the client in order to avoid crashing it.\n",
            "To change this limit, set the config variable\n",
            "`--NotebookApp.iopub_data_rate_limit`.\n",
            "\n",
            "Current values:\n",
            "NotebookApp.iopub_data_rate_limit=1000000.0 (bytes/sec)\n",
            "NotebookApp.rate_limit_window=3.0 (secs)\n",
            "\n"
          ],
          "name": "stderr"
        }
      ]
    },
    {
      "metadata": {
        "id": "0Wj15ADW5384",
        "colab_type": "code",
        "colab": {}
      },
      "cell_type": "code",
      "source": [
        "from sklearn.base import BaseEstimator, TransformerMixin\n",
        "\n",
        "\n",
        "class MemoryTagger(BaseEstimator, TransformerMixin):\n",
        "    \n",
        "    def fit(self, X, y):\n",
        "        '''\n",
        "        Expects a list of words as X and a list of tags as y.\n",
        "        '''\n",
        "        voc = {}\n",
        "        self.tags = []\n",
        "        for x, t in zip(X, y):\n",
        "            if t not in self.tags:\n",
        "                self.tags.append(t)\n",
        "            if x in voc:\n",
        "                if t in voc[x]:\n",
        "                    voc[x][t] += 1\n",
        "                else:\n",
        "                    voc[x][t] = 1\n",
        "            else:\n",
        "                voc[x] = {t: 1}\n",
        "        self.memory = {}\n",
        "        for k, d in voc.items():\n",
        "            self.memory[k] = max(d, key=d.get)\n",
        "    \n",
        "    def predict(self, X, y=None):\n",
        "        '''\n",
        "        Predict the the tag from memory. If word is unknown, predict 'O'.\n",
        "        '''\n",
        "        return [self.memory.get(x, 'O') for x in X]"
      ],
      "execution_count": 0,
      "outputs": []
    },
    {
      "metadata": {
        "id": "j7eJXV7c56a1",
        "colab_type": "code",
        "outputId": "557664f7-3f67-4681-e42f-798aeb13665d",
        "colab": {
          "base_uri": "https://localhost:8080/",
          "height": 208
        }
      },
      "cell_type": "code",
      "source": [
        "tagger = MemoryTagger()\n",
        "tagger.fit(sent, tag)\n",
        "print(tagger.predict(sent))\n",
        "tagger.tags"
      ],
      "execution_count": 50,
      "outputs": [
        {
          "output_type": "stream",
          "text": [
            "IOPub data rate exceeded.\n",
            "The notebook server will temporarily stop sending output\n",
            "to the client in order to avoid crashing it.\n",
            "To change this limit, set the config variable\n",
            "`--NotebookApp.iopub_data_rate_limit`.\n",
            "\n",
            "Current values:\n",
            "NotebookApp.iopub_data_rate_limit=1000000.0 (bytes/sec)\n",
            "NotebookApp.rate_limit_window=3.0 (secs)\n",
            "\n"
          ],
          "name": "stderr"
        },
        {
          "output_type": "execute_result",
          "data": {
            "text/plain": [
              "['O', 'B-indications', 'I-indications']"
            ]
          },
          "metadata": {
            "tags": []
          },
          "execution_count": 50
        }
      ]
    },
    {
      "metadata": {
        "id": "xKI08W0i6VGJ",
        "colab_type": "code",
        "outputId": "d1628e67-5884-4349-d34c-fbd6eb0d1e10",
        "colab": {
          "base_uri": "https://localhost:8080/",
          "height": 191
        }
      },
      "cell_type": "code",
      "source": [
        "from sklearn.model_selection import train_test_split, cross_val_predict\n",
        "from sklearn.metrics import classification_report\n",
        "\n",
        "\n",
        "words = train_df[\"Word\"].values.tolist()\n",
        "tags = train_df[\"tag\"].values.tolist()\n",
        "\n",
        "\n",
        "pred = cross_val_predict(estimator=MemoryTagger(), X=words, y=tags, cv=5)\n",
        "\n",
        "report = classification_report(y_pred=pred, y_true=tags)\n",
        "print(report)"
      ],
      "execution_count": 51,
      "outputs": [
        {
          "output_type": "stream",
          "text": [
            "               precision    recall  f1-score   support\n",
            "\n",
            "B-indications       0.72      0.40      0.52     53003\n",
            "I-indications       0.59      0.37      0.46     44624\n",
            "            O       0.99      1.00      0.99   4446206\n",
            "\n",
            "    micro avg       0.98      0.98      0.98   4543833\n",
            "    macro avg       0.77      0.59      0.66   4543833\n",
            " weighted avg       0.98      0.98      0.98   4543833\n",
            "\n"
          ],
          "name": "stdout"
        }
      ]
    },
    {
      "metadata": {
        "id": "rGcrlcb_DB5A",
        "colab_type": "code",
        "colab": {}
      },
      "cell_type": "code",
      "source": [
        "class SentenceGetter_test_df(object):\n",
        "    \n",
        "    def __init__(self, data):\n",
        "        self.n_sent = 1\n",
        "        self.data = data\n",
        "        self.empty = False\n",
        "    \n",
        "    def get_next(self):\n",
        "#         try:\n",
        "#             s = self.data[self.data[\"Sent_ID\"] == \"Sentence: {}\".format(self.n_sent)]\n",
        "#             self.n_sent += 1\n",
        "            return self.data[\"Word\"].values.tolist(), self.data[\"POS\"].values.tolist()    \n",
        "#         except:\n",
        "#             self.empty = True\n",
        "#             return None, None, None"
      ],
      "execution_count": 0,
      "outputs": []
    },
    {
      "metadata": {
        "id": "7ZO7xwdsDUeR",
        "colab_type": "code",
        "colab": {}
      },
      "cell_type": "code",
      "source": [
        "getter_test = SentenceGetter_test_df(test_df)"
      ],
      "execution_count": 0,
      "outputs": []
    },
    {
      "metadata": {
        "id": "9yPr5Kd1D5FL",
        "colab_type": "code",
        "colab": {}
      },
      "cell_type": "code",
      "source": [
        "sent, pos = getter_test.get_next()"
      ],
      "execution_count": 0,
      "outputs": []
    },
    {
      "metadata": {
        "id": "W0XH82N9EAvE",
        "colab_type": "code",
        "outputId": "8e4d4e19-f259-4d3d-8d1c-0cb13956fe9c",
        "colab": {
          "base_uri": "https://localhost:8080/",
          "height": 191
        }
      },
      "cell_type": "code",
      "source": [
        "print(sent); print(pos);"
      ],
      "execution_count": 55,
      "outputs": [
        {
          "output_type": "stream",
          "text": [
            "IOPub data rate exceeded.\n",
            "The notebook server will temporarily stop sending output\n",
            "to the client in order to avoid crashing it.\n",
            "To change this limit, set the config variable\n",
            "`--NotebookApp.iopub_data_rate_limit`.\n",
            "\n",
            "Current values:\n",
            "NotebookApp.iopub_data_rate_limit=1000000.0 (bytes/sec)\n",
            "NotebookApp.rate_limit_window=3.0 (secs)\n",
            "\n"
          ],
          "name": "stderr"
        }
      ]
    },
    {
      "metadata": {
        "id": "AAm_mFwwEGdG",
        "colab_type": "code",
        "colab": {}
      },
      "cell_type": "code",
      "source": [
        "y_pred = tagger.predict(sent)"
      ],
      "execution_count": 0,
      "outputs": []
    },
    {
      "metadata": {
        "id": "w-r80iNLEP6X",
        "colab_type": "code",
        "outputId": "a93f2f5c-2966-424e-f64a-aa2fbdd9f90e",
        "colab": {
          "base_uri": "https://localhost:8080/",
          "height": 52
        }
      },
      "cell_type": "code",
      "source": [
        "np.unique(y_pred, return_counts = True)"
      ],
      "execution_count": 57,
      "outputs": [
        {
          "output_type": "execute_result",
          "data": {
            "text/plain": [
              "(array(['B-indications', 'I-indications', 'O'], dtype='<U13'),\n",
              " array([  19726,   18011, 2956726]))"
            ]
          },
          "metadata": {
            "tags": []
          },
          "execution_count": 57
        }
      ]
    },
    {
      "metadata": {
        "id": "8xh2s3AyEdpA",
        "colab_type": "code",
        "outputId": "abc2ccea-2877-4050-f6b2-5ed2889e3752",
        "colab": {
          "base_uri": "https://localhost:8080/",
          "height": 202
        }
      },
      "cell_type": "code",
      "source": [
        "submission.head()"
      ],
      "execution_count": 58,
      "outputs": [
        {
          "output_type": "execute_result",
          "data": {
            "text/html": [
              "<div>\n",
              "<style scoped>\n",
              "    .dataframe tbody tr th:only-of-type {\n",
              "        vertical-align: middle;\n",
              "    }\n",
              "\n",
              "    .dataframe tbody tr th {\n",
              "        vertical-align: top;\n",
              "    }\n",
              "\n",
              "    .dataframe thead th {\n",
              "        text-align: right;\n",
              "    }\n",
              "</style>\n",
              "<table border=\"1\" class=\"dataframe\">\n",
              "  <thead>\n",
              "    <tr style=\"text-align: right;\">\n",
              "      <th></th>\n",
              "      <th>id</th>\n",
              "      <th>Sent_ID</th>\n",
              "      <th>tag</th>\n",
              "    </tr>\n",
              "  </thead>\n",
              "  <tbody>\n",
              "    <tr>\n",
              "      <th>0</th>\n",
              "      <td>4543834</td>\n",
              "      <td>191283</td>\n",
              "      <td>O</td>\n",
              "    </tr>\n",
              "    <tr>\n",
              "      <th>1</th>\n",
              "      <td>4543835</td>\n",
              "      <td>191283</td>\n",
              "      <td>O</td>\n",
              "    </tr>\n",
              "    <tr>\n",
              "      <th>2</th>\n",
              "      <td>4543836</td>\n",
              "      <td>191283</td>\n",
              "      <td>O</td>\n",
              "    </tr>\n",
              "    <tr>\n",
              "      <th>3</th>\n",
              "      <td>4543837</td>\n",
              "      <td>191283</td>\n",
              "      <td>O</td>\n",
              "    </tr>\n",
              "    <tr>\n",
              "      <th>4</th>\n",
              "      <td>4543838</td>\n",
              "      <td>191283</td>\n",
              "      <td>O</td>\n",
              "    </tr>\n",
              "  </tbody>\n",
              "</table>\n",
              "</div>"
            ],
            "text/plain": [
              "        id  Sent_ID tag\n",
              "0  4543834   191283   O\n",
              "1  4543835   191283   O\n",
              "2  4543836   191283   O\n",
              "3  4543837   191283   O\n",
              "4  4543838   191283   O"
            ]
          },
          "metadata": {
            "tags": []
          },
          "execution_count": 58
        }
      ]
    },
    {
      "metadata": {
        "id": "rlfp8J-YFUrY",
        "colab_type": "code",
        "colab": {}
      },
      "cell_type": "code",
      "source": [
        "submission['tag'] = pd.DataFrame(y_pred)"
      ],
      "execution_count": 0,
      "outputs": []
    },
    {
      "metadata": {
        "id": "_Fu5ssahFekE",
        "colab_type": "code",
        "outputId": "f2b854a2-ec25-4975-c477-8393a02d69ff",
        "colab": {
          "base_uri": "https://localhost:8080/",
          "height": 87
        }
      },
      "cell_type": "code",
      "source": [
        "submission['tag'].value_counts()"
      ],
      "execution_count": 60,
      "outputs": [
        {
          "output_type": "execute_result",
          "data": {
            "text/plain": [
              "O                2956726\n",
              "B-indications      19726\n",
              "I-indications      18011\n",
              "Name: tag, dtype: int64"
            ]
          },
          "metadata": {
            "tags": []
          },
          "execution_count": 60
        }
      ]
    },
    {
      "metadata": {
        "id": "tADSqqbuFlzL",
        "colab_type": "code",
        "colab": {}
      },
      "cell_type": "code",
      "source": [
        "submission.to_csv('submission_baseline_model.csv', index= False)"
      ],
      "execution_count": 0,
      "outputs": []
    },
    {
      "metadata": {
        "id": "nPidGyLpHW6r",
        "colab_type": "code",
        "colab": {}
      },
      "cell_type": "code",
      "source": [
        "from google.colab import files\n",
        "files.download(\"/content/submission_baseline_model.csv\")"
      ],
      "execution_count": 0,
      "outputs": []
    },
    {
      "metadata": {
        "id": "oa5B2WAbHZLT",
        "colab_type": "code",
        "colab": {}
      },
      "cell_type": "code",
      "source": [
        "#Source of the code\n",
        "\n",
        "# https://www.depends-on-the-definition.com/introduction-named-entity-recognition-python/"
      ],
      "execution_count": 0,
      "outputs": []
    },
    {
      "metadata": {
        "id": "bBKGSsLSN2Z6",
        "colab_type": "text"
      },
      "cell_type": "markdown",
      "source": [
        "## A simple machine learning approach"
      ]
    },
    {
      "metadata": {
        "id": "A6NksLf1M3J7",
        "colab_type": "code",
        "outputId": "f00e12ac-6da9-4717-e33d-f7d9c955b876",
        "colab": {
          "base_uri": "https://localhost:8080/",
          "height": 245
        }
      },
      "cell_type": "code",
      "source": [
        "from sklearn.ensemble import RandomForestClassifier\n",
        "\n",
        "def feature_map(word):\n",
        "    '''Simple feature map.'''\n",
        "    return np.array([word.istitle(), word.islower(), word.isupper(), len(word),\n",
        "                     word.isdigit(),  word.isalpha()])\n",
        "  \n",
        "words = [feature_map(w) for w in train_df[\"Word\"].values.tolist()]\n",
        "\n",
        "pred = cross_val_predict(RandomForestClassifier(n_estimators=20),\n",
        "                         X=words, y=tags, cv=5)\n",
        "\n",
        "report = classification_report(y_pred=pred, y_true=tags)\n",
        "print(report)"
      ],
      "execution_count": 64,
      "outputs": [
        {
          "output_type": "stream",
          "text": [
            "/usr/local/lib/python3.6/dist-packages/sklearn/metrics/classification.py:1143: UndefinedMetricWarning: Precision and F-score are ill-defined and being set to 0.0 in labels with no predicted samples.\n",
            "  'precision', 'predicted', average, warn_for)\n"
          ],
          "name": "stderr"
        },
        {
          "output_type": "stream",
          "text": [
            "               precision    recall  f1-score   support\n",
            "\n",
            "B-indications       0.44      0.00      0.00     53003\n",
            "I-indications       0.00      0.00      0.00     44624\n",
            "            O       0.98      1.00      0.99   4446206\n",
            "\n",
            "    micro avg       0.98      0.98      0.98   4543833\n",
            "    macro avg       0.47      0.33      0.33   4543833\n",
            " weighted avg       0.96      0.98      0.97   4543833\n",
            "\n"
          ],
          "name": "stdout"
        }
      ]
    },
    {
      "metadata": {
        "id": "VmnSxwffPLGr",
        "colab_type": "code",
        "colab": {}
      },
      "cell_type": "code",
      "source": [
        "words_test_rf = [feature_map(w) for w in test_df[\"Word\"].values.tolist()]\n",
        "model_rf = RandomForestClassifier(n_estimators=20)\n",
        "model_rf.fit(words, tags)\n",
        "pred = model_rf.predict(words_test_rf)\n"
      ],
      "execution_count": 0,
      "outputs": []
    },
    {
      "metadata": {
        "id": "4HqXdyokRNCG",
        "colab_type": "code",
        "outputId": "ebcad591-b6d4-4042-88d2-fd8f86ab9487",
        "colab": {
          "base_uri": "https://localhost:8080/",
          "height": 69
        }
      },
      "cell_type": "code",
      "source": [
        "submission['tag'] = pd.DataFrame(pred)\n",
        "submission['tag'].value_counts()"
      ],
      "execution_count": 66,
      "outputs": [
        {
          "output_type": "execute_result",
          "data": {
            "text/plain": [
              "O                2994458\n",
              "B-indications          5\n",
              "Name: tag, dtype: int64"
            ]
          },
          "metadata": {
            "tags": []
          },
          "execution_count": 66
        }
      ]
    },
    {
      "metadata": {
        "id": "vnbmNJHXRX7j",
        "colab_type": "text"
      },
      "cell_type": "markdown",
      "source": [
        "## Randomforest is not good"
      ]
    },
    {
      "metadata": {
        "id": "EdgGOEN5OLN0",
        "colab_type": "code",
        "colab": {}
      },
      "cell_type": "code",
      "source": [
        "from sklearn.preprocessing import LabelEncoder\n",
        "\n",
        "class FeatureTransformer(BaseEstimator, TransformerMixin):\n",
        "    \n",
        "    def __init__(self):\n",
        "        self.memory_tagger = MemoryTagger()\n",
        "        self.tag_encoder = LabelEncoder()\n",
        "        self.pos_encoder = LabelEncoder()\n",
        "        \n",
        "    def fit(self, X, y):\n",
        "        words = X[\"Word\"].values.tolist()\n",
        "        self.pos = X[\"POS\"].values.tolist()\n",
        "        tags = X[\"tag\"].values.tolist()\n",
        "        self.memory_tagger.fit(words, tags)\n",
        "        self.tag_encoder.fit(tags)\n",
        "        self.pos_encoder.fit(self.pos)\n",
        "        return self\n",
        "    \n",
        "    def transform(self, X, y=None):\n",
        "        def pos_default(p):\n",
        "            if p in self.pos:\n",
        "                return self.pos_encoder.transform([p])[0]\n",
        "            else:\n",
        "                return -1\n",
        "        \n",
        "        pos = X[\"POS\"].values.tolist()\n",
        "        words = X[\"Word\"].values.tolist()\n",
        "        out = []\n",
        "        for i in range(len(words)):\n",
        "            w = words[i]\n",
        "            p = pos[i]\n",
        "            if i < len(words) - 1:\n",
        "                wp = self.tag_encoder.transform(self.memory_tagger.predict([words[i+1]]))[0]\n",
        "                posp = pos_default(pos[i+1])\n",
        "            else:\n",
        "                wp = self.tag_encoder.transform(['O'])[0]\n",
        "                posp = pos_default(\".\")\n",
        "            if i > 0:\n",
        "                if words[i-1] != \".\":\n",
        "                    wm = self.tag_encoder.transform(self.memory_tagger.predict([words[i-1]]))[0]\n",
        "                    posm = pos_default(pos[i-1])\n",
        "                else:\n",
        "                    wm = self.tag_encoder.transform(['O'])[0]\n",
        "                    posm = pos_default(\".\")\n",
        "            else:\n",
        "                posm = pos_default(\".\")\n",
        "                wm = self.tag_encoder.transform(['O'])[0]\n",
        "            out.append(np.array([w.istitle(), w.islower(), w.isupper(), len(w), w.isdigit(), w.isalpha(),\n",
        "                                 self.tag_encoder.transform(self.memory_tagger.predict([w]))[0],\n",
        "                                 pos_default(p), wp, wm, posp, posm]))\n",
        "        return out"
      ],
      "execution_count": 0,
      "outputs": []
    },
    {
      "metadata": {
        "id": "5Q2gljH9WUFo",
        "colab_type": "code",
        "outputId": "50aec4d2-eb3c-47d4-e440-15e9379543b9",
        "colab": {
          "base_uri": "https://localhost:8080/",
          "height": 141
        }
      },
      "cell_type": "code",
      "source": [
        "train_df.head(3)"
      ],
      "execution_count": 68,
      "outputs": [
        {
          "output_type": "execute_result",
          "data": {
            "text/html": [
              "<div>\n",
              "<style scoped>\n",
              "    .dataframe tbody tr th:only-of-type {\n",
              "        vertical-align: middle;\n",
              "    }\n",
              "\n",
              "    .dataframe tbody tr th {\n",
              "        vertical-align: top;\n",
              "    }\n",
              "\n",
              "    .dataframe thead th {\n",
              "        text-align: right;\n",
              "    }\n",
              "</style>\n",
              "<table border=\"1\" class=\"dataframe\">\n",
              "  <thead>\n",
              "    <tr style=\"text-align: right;\">\n",
              "      <th></th>\n",
              "      <th>Sent_ID</th>\n",
              "      <th>Word</th>\n",
              "      <th>tag</th>\n",
              "      <th>POS</th>\n",
              "    </tr>\n",
              "  </thead>\n",
              "  <tbody>\n",
              "    <tr>\n",
              "      <th>0</th>\n",
              "      <td>1</td>\n",
              "      <td>Obesity</td>\n",
              "      <td>O</td>\n",
              "      <td>NN</td>\n",
              "    </tr>\n",
              "    <tr>\n",
              "      <th>1</th>\n",
              "      <td>1</td>\n",
              "      <td>in</td>\n",
              "      <td>O</td>\n",
              "      <td>IN</td>\n",
              "    </tr>\n",
              "    <tr>\n",
              "      <th>2</th>\n",
              "      <td>1</td>\n",
              "      <td>Low-</td>\n",
              "      <td>O</td>\n",
              "      <td>NNP</td>\n",
              "    </tr>\n",
              "  </tbody>\n",
              "</table>\n",
              "</div>"
            ],
            "text/plain": [
              "   Sent_ID     Word tag  POS\n",
              "0        1  Obesity   O   NN\n",
              "1        1       in   O   IN\n",
              "2        1     Low-   O  NNP"
            ]
          },
          "metadata": {
            "tags": []
          },
          "execution_count": 68
        }
      ]
    },
    {
      "metadata": {
        "id": "TwgCngTFRoF-",
        "colab_type": "code",
        "colab": {}
      },
      "cell_type": "code",
      "source": [
        "from sklearn.pipeline import Pipeline\n",
        "\n",
        "pred = cross_val_predict(Pipeline([(\"feature_map\", FeatureTransformer()), \n",
        "                                   (\"clf\", RandomForestClassifier(n_estimators=20, n_jobs=3))]),\n",
        "                         X=train_df, y=tags, cv=5)\n",
        "\n",
        "report = classification_report(y_pred=pred, y_true=tags)\n",
        "print(report)"
      ],
      "execution_count": 0,
      "outputs": []
    },
    {
      "metadata": {
        "id": "-BlvVNr-e4W4",
        "colab_type": "code",
        "colab": {}
      },
      "cell_type": "code",
      "source": [
        "# In Pipeline we will modify the text and train RandomForestClassifier \n",
        "classifier = Pipeline([(\"feature_map\", FeatureTransformer()), \n",
        "                                   (\"clf\", RandomForestClassifier(n_estimators=20, n_jobs=3))])\n",
        "classifier.fit(train_df, tags)\n",
        "y_prd=classifier.predict(test_df)"
      ],
      "execution_count": 0,
      "outputs": []
    },
    {
      "metadata": {
        "id": "2lxv2abstvfa",
        "colab_type": "code",
        "colab": {}
      },
      "cell_type": "code",
      "source": [
        "submission['tag'] = pd.DataFrame(y_prd)"
      ],
      "execution_count": 0,
      "outputs": []
    },
    {
      "metadata": {
        "id": "4XDqagQYyU7-",
        "colab_type": "code",
        "colab": {}
      },
      "cell_type": "code",
      "source": [
        "from google.colab import files\n",
        "files.download(\"/content/submission_baseline_rf_model.csv\")"
      ],
      "execution_count": 0,
      "outputs": []
    }
  ]
}